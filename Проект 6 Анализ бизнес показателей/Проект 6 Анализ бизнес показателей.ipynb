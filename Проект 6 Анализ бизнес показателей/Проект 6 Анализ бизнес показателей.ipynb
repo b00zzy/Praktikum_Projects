{
 "cells": [
  {
   "cell_type": "markdown",
   "metadata": {},
   "source": [
    "# Исследование поведения пользователей сервиса Яндекс.Афиша\n",
    "\n",
    "Во время стажировки в отдел аналитики Яндекс.Афиши нам назначили первое задание: помочь маркетологам оптимизировать маркетинговые затраты. \n",
    "\n",
    "В нашем распоряжении имеются следующие данные с июня 2017 по конец мая 2018 года:\n",
    "* лог сервера с данными о посещениях сайта\n",
    "* выгрузка всех заказов за этот период\n",
    "* статистика рекламных расходов\n",
    "\n",
    "В процессе исследования требуется ответить на вопросы:\n",
    "* как люди пользуются продуктом\n",
    "* когда они начинают покупать\n",
    "* сколько денег приносит каждый клиент\n",
    "* когда клиент окупается"
   ]
  },
  {
   "cell_type": "markdown",
   "metadata": {},
   "source": [
    "# Содержание\n",
    "1. [Этап 1 - Загрузка и просмотр данных](#stage_1)\n",
    "  * [Вывод первого этапа](#stage_1_summary)\n",
    "        \n",
    "\n",
    "2. [Этап 2 - Подготовка данных к анализу](#stage_2)\n",
    "   \n",
    "  * [Изменение наименований столбцов](#stage_2_names)\n",
    "  * [Изменение типов данных](#stage_2_types)\n",
    "  * [Поиск дублей](#stage_2_dubles)\n",
    "  * [Поиск ошибок](#stage_2_err)\n",
    "  * [Вывод второго этапа](#stage_2_summary)\n",
    "       \n",
    "\n",
    "3. [Этап 3 - Анализ данных](#stage_3)\n",
    "   \n",
    "  * [Посещаемость](#stage_3_visitors)\n",
    "    * [Уникальные пользователи в разрезе платформ](#stage_3_visitors_unique_total)\n",
    "    * [Количество уникальных сессий](#stage_3_visitors_unique)\n",
    "    * [Количество сессий по месяцам](#stage_3_visitors_monthly)\n",
    "    * [Длительность сессии](#stage_3_visitors_session_lenght)\n",
    "    * [Retention rate](#stage_3_visitors_RT)\n",
    "  * [Заказы](#stage_3_orders)\n",
    "    * [Выручка](#stage_3_orders_revenue)\n",
    "    * [Время до первого заказа](#stage_3_orders_first)\n",
    "    * [Количество покупок на пользователя](#stage_3_orders_orders_num)\n",
    "    * [Life Time Value](#stage_3_orders_LTV)\n",
    "    * [Выручка по источникам привлечения](#stage_3_orders_per_source)\n",
    "  * [Затраты на привлечение](#stage_3_costs)\n",
    "    * [Стоимость привлечения пользователей в разрезе источников](#stage_3_costs_per_source)\n",
    "    * [Затраты на привлечение пользователей по месяцам](#stage_3_costs_monthly)\n",
    "    * [Стоимость привлечения одного пользователя](#stage_3_costs_per_user)\n",
    "    * [Return On Investment](#stage_3_costs_ROI)\n",
    "  * [Вывод третьего этапа](#stage_3_summary)\n",
    "\n",
    "\n",
    "4. [Этап 4 - Рекомендации](#stage_4)\n",
    "\n",
    "\n",
    "5. [Общий вывод](#conclusion)"
   ]
  },
  {
   "cell_type": "markdown",
   "metadata": {},
   "source": [
    "Подключим необходимые библиотеки для работы с данными"
   ]
  },
  {
   "cell_type": "code",
   "execution_count": 1,
   "metadata": {},
   "outputs": [],
   "source": [
    "import pandas as pd\n",
    "import numpy as np\n",
    "import seaborn as sns\n",
    "import matplotlib.pyplot as plt"
   ]
  },
  {
   "cell_type": "markdown",
   "metadata": {},
   "source": [
    "# Этап 1 - Загрузка и просмотр данных<a id=\"stage_1\"></a>"
   ]
  },
  {
   "cell_type": "markdown",
   "metadata": {},
   "source": [
    "Загрузим наборы данных:\n",
    "\n",
    "`visits` - лог сервера с данными о посещениях сайта\n",
    "\n",
    "`orders` - выгрузка всех заказов за этот период\n",
    "\n",
    "`costs` - статистика рекламных расходов"
   ]
  },
  {
   "cell_type": "code",
   "execution_count": 2,
   "metadata": {},
   "outputs": [],
   "source": [
    "visits = pd.read_csv('/datasets/visits_log.csv')\n",
    "orders = pd.read_csv('/datasets/orders_log.csv')\n",
    "costs = pd.read_csv('/datasets/costs.csv')"
   ]
  },
  {
   "cell_type": "markdown",
   "metadata": {},
   "source": [
    "Выведем на экран каждый датафрейм и просмотрим общую информацию о нем"
   ]
  },
  {
   "cell_type": "markdown",
   "metadata": {},
   "source": [
    "### visits"
   ]
  },
  {
   "cell_type": "code",
   "execution_count": 3,
   "metadata": {},
   "outputs": [
    {
     "data": {
      "text/html": [
       "<div>\n",
       "<style scoped>\n",
       "    .dataframe tbody tr th:only-of-type {\n",
       "        vertical-align: middle;\n",
       "    }\n",
       "\n",
       "    .dataframe tbody tr th {\n",
       "        vertical-align: top;\n",
       "    }\n",
       "\n",
       "    .dataframe thead th {\n",
       "        text-align: right;\n",
       "    }\n",
       "</style>\n",
       "<table border=\"1\" class=\"dataframe\">\n",
       "  <thead>\n",
       "    <tr style=\"text-align: right;\">\n",
       "      <th></th>\n",
       "      <th>Device</th>\n",
       "      <th>End Ts</th>\n",
       "      <th>Source Id</th>\n",
       "      <th>Start Ts</th>\n",
       "      <th>Uid</th>\n",
       "    </tr>\n",
       "  </thead>\n",
       "  <tbody>\n",
       "    <tr>\n",
       "      <td>0</td>\n",
       "      <td>touch</td>\n",
       "      <td>2017-12-20 17:38:00</td>\n",
       "      <td>4</td>\n",
       "      <td>2017-12-20 17:20:00</td>\n",
       "      <td>16879256277535980062</td>\n",
       "    </tr>\n",
       "    <tr>\n",
       "      <td>1</td>\n",
       "      <td>desktop</td>\n",
       "      <td>2018-02-19 17:21:00</td>\n",
       "      <td>2</td>\n",
       "      <td>2018-02-19 16:53:00</td>\n",
       "      <td>104060357244891740</td>\n",
       "    </tr>\n",
       "    <tr>\n",
       "      <td>2</td>\n",
       "      <td>touch</td>\n",
       "      <td>2017-07-01 01:54:00</td>\n",
       "      <td>5</td>\n",
       "      <td>2017-07-01 01:54:00</td>\n",
       "      <td>7459035603376831527</td>\n",
       "    </tr>\n",
       "    <tr>\n",
       "      <td>3</td>\n",
       "      <td>desktop</td>\n",
       "      <td>2018-05-20 11:23:00</td>\n",
       "      <td>9</td>\n",
       "      <td>2018-05-20 10:59:00</td>\n",
       "      <td>16174680259334210214</td>\n",
       "    </tr>\n",
       "    <tr>\n",
       "      <td>4</td>\n",
       "      <td>desktop</td>\n",
       "      <td>2017-12-27 14:06:00</td>\n",
       "      <td>3</td>\n",
       "      <td>2017-12-27 14:06:00</td>\n",
       "      <td>9969694820036681168</td>\n",
       "    </tr>\n",
       "    <tr>\n",
       "      <td>...</td>\n",
       "      <td>...</td>\n",
       "      <td>...</td>\n",
       "      <td>...</td>\n",
       "      <td>...</td>\n",
       "      <td>...</td>\n",
       "    </tr>\n",
       "    <tr>\n",
       "      <td>359395</td>\n",
       "      <td>desktop</td>\n",
       "      <td>2017-07-29 19:07:19</td>\n",
       "      <td>2</td>\n",
       "      <td>2017-07-29 19:07:00</td>\n",
       "      <td>18363291481961487539</td>\n",
       "    </tr>\n",
       "    <tr>\n",
       "      <td>359396</td>\n",
       "      <td>touch</td>\n",
       "      <td>2018-01-25 17:38:19</td>\n",
       "      <td>1</td>\n",
       "      <td>2018-01-25 17:38:00</td>\n",
       "      <td>18370831553019119586</td>\n",
       "    </tr>\n",
       "    <tr>\n",
       "      <td>359397</td>\n",
       "      <td>desktop</td>\n",
       "      <td>2018-03-03 10:12:19</td>\n",
       "      <td>4</td>\n",
       "      <td>2018-03-03 10:12:00</td>\n",
       "      <td>18387297585500748294</td>\n",
       "    </tr>\n",
       "    <tr>\n",
       "      <td>359398</td>\n",
       "      <td>desktop</td>\n",
       "      <td>2017-11-02 10:12:19</td>\n",
       "      <td>5</td>\n",
       "      <td>2017-11-02 10:12:00</td>\n",
       "      <td>18388616944624776485</td>\n",
       "    </tr>\n",
       "    <tr>\n",
       "      <td>359399</td>\n",
       "      <td>touch</td>\n",
       "      <td>2017-09-10 13:13:19</td>\n",
       "      <td>2</td>\n",
       "      <td>2017-09-10 13:13:00</td>\n",
       "      <td>18396128934054549559</td>\n",
       "    </tr>\n",
       "  </tbody>\n",
       "</table>\n",
       "<p>359400 rows × 5 columns</p>\n",
       "</div>"
      ],
      "text/plain": [
       "         Device               End Ts  Source Id             Start Ts  \\\n",
       "0         touch  2017-12-20 17:38:00          4  2017-12-20 17:20:00   \n",
       "1       desktop  2018-02-19 17:21:00          2  2018-02-19 16:53:00   \n",
       "2         touch  2017-07-01 01:54:00          5  2017-07-01 01:54:00   \n",
       "3       desktop  2018-05-20 11:23:00          9  2018-05-20 10:59:00   \n",
       "4       desktop  2017-12-27 14:06:00          3  2017-12-27 14:06:00   \n",
       "...         ...                  ...        ...                  ...   \n",
       "359395  desktop  2017-07-29 19:07:19          2  2017-07-29 19:07:00   \n",
       "359396    touch  2018-01-25 17:38:19          1  2018-01-25 17:38:00   \n",
       "359397  desktop  2018-03-03 10:12:19          4  2018-03-03 10:12:00   \n",
       "359398  desktop  2017-11-02 10:12:19          5  2017-11-02 10:12:00   \n",
       "359399    touch  2017-09-10 13:13:19          2  2017-09-10 13:13:00   \n",
       "\n",
       "                         Uid  \n",
       "0       16879256277535980062  \n",
       "1         104060357244891740  \n",
       "2        7459035603376831527  \n",
       "3       16174680259334210214  \n",
       "4        9969694820036681168  \n",
       "...                      ...  \n",
       "359395  18363291481961487539  \n",
       "359396  18370831553019119586  \n",
       "359397  18387297585500748294  \n",
       "359398  18388616944624776485  \n",
       "359399  18396128934054549559  \n",
       "\n",
       "[359400 rows x 5 columns]"
      ]
     },
     "execution_count": 3,
     "metadata": {},
     "output_type": "execute_result"
    }
   ],
   "source": [
    "visits"
   ]
  },
  {
   "cell_type": "code",
   "execution_count": 4,
   "metadata": {},
   "outputs": [
    {
     "name": "stdout",
     "output_type": "stream",
     "text": [
      "<class 'pandas.core.frame.DataFrame'>\n",
      "RangeIndex: 359400 entries, 0 to 359399\n",
      "Data columns (total 5 columns):\n",
      "Device       359400 non-null object\n",
      "End Ts       359400 non-null object\n",
      "Source Id    359400 non-null int64\n",
      "Start Ts     359400 non-null object\n",
      "Uid          359400 non-null uint64\n",
      "dtypes: int64(1), object(3), uint64(1)\n",
      "memory usage: 13.7+ MB\n"
     ]
    }
   ],
   "source": [
    "visits.info()"
   ]
  },
  {
   "cell_type": "markdown",
   "metadata": {},
   "source": [
    "Таблица содержит следующую информацию:\n",
    "\n",
    "* Uid — уникальный идентификатор пользователя\n",
    "* Device — категория устройства пользователя\n",
    "* Start Ts — дата и время начала сессии\n",
    "* End Ts — дата и время окончания сессии\n",
    "* Source Id — идентификатор рекламного источника, из которого пришел пользователь\n",
    "\n",
    "Необходимо перевести названия столбцов в строчные символы и заменить символы пробелом на нижние подчеркивания\n",
    "\n",
    "Для столбцов `End Ts` и `Start Ts` тип данных нужно изменить с object на datetime\n",
    "\n",
    "Необходимо будет проверить время сессий на ошибки (чтобы не было сессий которые закончились раньше чем начались)"
   ]
  },
  {
   "cell_type": "markdown",
   "metadata": {},
   "source": [
    "### orders"
   ]
  },
  {
   "cell_type": "code",
   "execution_count": 5,
   "metadata": {},
   "outputs": [
    {
     "data": {
      "text/html": [
       "<div>\n",
       "<style scoped>\n",
       "    .dataframe tbody tr th:only-of-type {\n",
       "        vertical-align: middle;\n",
       "    }\n",
       "\n",
       "    .dataframe tbody tr th {\n",
       "        vertical-align: top;\n",
       "    }\n",
       "\n",
       "    .dataframe thead th {\n",
       "        text-align: right;\n",
       "    }\n",
       "</style>\n",
       "<table border=\"1\" class=\"dataframe\">\n",
       "  <thead>\n",
       "    <tr style=\"text-align: right;\">\n",
       "      <th></th>\n",
       "      <th>Buy Ts</th>\n",
       "      <th>Revenue</th>\n",
       "      <th>Uid</th>\n",
       "    </tr>\n",
       "  </thead>\n",
       "  <tbody>\n",
       "    <tr>\n",
       "      <td>0</td>\n",
       "      <td>2017-06-01 00:10:00</td>\n",
       "      <td>17.00</td>\n",
       "      <td>10329302124590727494</td>\n",
       "    </tr>\n",
       "    <tr>\n",
       "      <td>1</td>\n",
       "      <td>2017-06-01 00:25:00</td>\n",
       "      <td>0.55</td>\n",
       "      <td>11627257723692907447</td>\n",
       "    </tr>\n",
       "    <tr>\n",
       "      <td>2</td>\n",
       "      <td>2017-06-01 00:27:00</td>\n",
       "      <td>0.37</td>\n",
       "      <td>17903680561304213844</td>\n",
       "    </tr>\n",
       "    <tr>\n",
       "      <td>3</td>\n",
       "      <td>2017-06-01 00:29:00</td>\n",
       "      <td>0.55</td>\n",
       "      <td>16109239769442553005</td>\n",
       "    </tr>\n",
       "    <tr>\n",
       "      <td>4</td>\n",
       "      <td>2017-06-01 07:58:00</td>\n",
       "      <td>0.37</td>\n",
       "      <td>14200605875248379450</td>\n",
       "    </tr>\n",
       "    <tr>\n",
       "      <td>...</td>\n",
       "      <td>...</td>\n",
       "      <td>...</td>\n",
       "      <td>...</td>\n",
       "    </tr>\n",
       "    <tr>\n",
       "      <td>50410</td>\n",
       "      <td>2018-05-31 23:50:00</td>\n",
       "      <td>4.64</td>\n",
       "      <td>12296626599487328624</td>\n",
       "    </tr>\n",
       "    <tr>\n",
       "      <td>50411</td>\n",
       "      <td>2018-05-31 23:50:00</td>\n",
       "      <td>5.80</td>\n",
       "      <td>11369640365507475976</td>\n",
       "    </tr>\n",
       "    <tr>\n",
       "      <td>50412</td>\n",
       "      <td>2018-05-31 23:54:00</td>\n",
       "      <td>0.30</td>\n",
       "      <td>1786462140797698849</td>\n",
       "    </tr>\n",
       "    <tr>\n",
       "      <td>50413</td>\n",
       "      <td>2018-05-31 23:56:00</td>\n",
       "      <td>3.67</td>\n",
       "      <td>3993697860786194247</td>\n",
       "    </tr>\n",
       "    <tr>\n",
       "      <td>50414</td>\n",
       "      <td>2018-06-01 00:02:00</td>\n",
       "      <td>3.42</td>\n",
       "      <td>83872787173869366</td>\n",
       "    </tr>\n",
       "  </tbody>\n",
       "</table>\n",
       "<p>50415 rows × 3 columns</p>\n",
       "</div>"
      ],
      "text/plain": [
       "                    Buy Ts  Revenue                   Uid\n",
       "0      2017-06-01 00:10:00    17.00  10329302124590727494\n",
       "1      2017-06-01 00:25:00     0.55  11627257723692907447\n",
       "2      2017-06-01 00:27:00     0.37  17903680561304213844\n",
       "3      2017-06-01 00:29:00     0.55  16109239769442553005\n",
       "4      2017-06-01 07:58:00     0.37  14200605875248379450\n",
       "...                    ...      ...                   ...\n",
       "50410  2018-05-31 23:50:00     4.64  12296626599487328624\n",
       "50411  2018-05-31 23:50:00     5.80  11369640365507475976\n",
       "50412  2018-05-31 23:54:00     0.30   1786462140797698849\n",
       "50413  2018-05-31 23:56:00     3.67   3993697860786194247\n",
       "50414  2018-06-01 00:02:00     3.42     83872787173869366\n",
       "\n",
       "[50415 rows x 3 columns]"
      ]
     },
     "execution_count": 5,
     "metadata": {},
     "output_type": "execute_result"
    }
   ],
   "source": [
    "orders"
   ]
  },
  {
   "cell_type": "code",
   "execution_count": 6,
   "metadata": {},
   "outputs": [
    {
     "name": "stdout",
     "output_type": "stream",
     "text": [
      "<class 'pandas.core.frame.DataFrame'>\n",
      "RangeIndex: 50415 entries, 0 to 50414\n",
      "Data columns (total 3 columns):\n",
      "Buy Ts     50415 non-null object\n",
      "Revenue    50415 non-null float64\n",
      "Uid        50415 non-null uint64\n",
      "dtypes: float64(1), object(1), uint64(1)\n",
      "memory usage: 1.2+ MB\n"
     ]
    }
   ],
   "source": [
    "orders.info()"
   ]
  },
  {
   "cell_type": "markdown",
   "metadata": {},
   "source": [
    "Таблица содержит следующую информацию:\n",
    "\n",
    "* Uid — уникальный id пользователя, который сделал заказ\n",
    "* Buy Ts — дата и время заказа\n",
    "* Revenue — выручка Яндекс.Афиши с этого заказа\n",
    "\n",
    "Необходимо перевести названия столбцов в строчные символы и заменить символы пробелом на нижние подчеркивания\n",
    "\n",
    "В столбце `Buy Ts` тип данных нужно изменить с object на datetime"
   ]
  },
  {
   "cell_type": "code",
   "execution_count": 7,
   "metadata": {},
   "outputs": [
    {
     "data": {
      "text/html": [
       "<div>\n",
       "<style scoped>\n",
       "    .dataframe tbody tr th:only-of-type {\n",
       "        vertical-align: middle;\n",
       "    }\n",
       "\n",
       "    .dataframe tbody tr th {\n",
       "        vertical-align: top;\n",
       "    }\n",
       "\n",
       "    .dataframe thead th {\n",
       "        text-align: right;\n",
       "    }\n",
       "</style>\n",
       "<table border=\"1\" class=\"dataframe\">\n",
       "  <thead>\n",
       "    <tr style=\"text-align: right;\">\n",
       "      <th></th>\n",
       "      <th>source_id</th>\n",
       "      <th>dt</th>\n",
       "      <th>costs</th>\n",
       "    </tr>\n",
       "  </thead>\n",
       "  <tbody>\n",
       "    <tr>\n",
       "      <td>0</td>\n",
       "      <td>1</td>\n",
       "      <td>2017-06-01</td>\n",
       "      <td>75.20</td>\n",
       "    </tr>\n",
       "    <tr>\n",
       "      <td>1</td>\n",
       "      <td>1</td>\n",
       "      <td>2017-06-02</td>\n",
       "      <td>62.25</td>\n",
       "    </tr>\n",
       "    <tr>\n",
       "      <td>2</td>\n",
       "      <td>1</td>\n",
       "      <td>2017-06-03</td>\n",
       "      <td>36.53</td>\n",
       "    </tr>\n",
       "    <tr>\n",
       "      <td>3</td>\n",
       "      <td>1</td>\n",
       "      <td>2017-06-04</td>\n",
       "      <td>55.00</td>\n",
       "    </tr>\n",
       "    <tr>\n",
       "      <td>4</td>\n",
       "      <td>1</td>\n",
       "      <td>2017-06-05</td>\n",
       "      <td>57.08</td>\n",
       "    </tr>\n",
       "    <tr>\n",
       "      <td>...</td>\n",
       "      <td>...</td>\n",
       "      <td>...</td>\n",
       "      <td>...</td>\n",
       "    </tr>\n",
       "    <tr>\n",
       "      <td>2537</td>\n",
       "      <td>10</td>\n",
       "      <td>2018-05-27</td>\n",
       "      <td>9.92</td>\n",
       "    </tr>\n",
       "    <tr>\n",
       "      <td>2538</td>\n",
       "      <td>10</td>\n",
       "      <td>2018-05-28</td>\n",
       "      <td>21.26</td>\n",
       "    </tr>\n",
       "    <tr>\n",
       "      <td>2539</td>\n",
       "      <td>10</td>\n",
       "      <td>2018-05-29</td>\n",
       "      <td>11.32</td>\n",
       "    </tr>\n",
       "    <tr>\n",
       "      <td>2540</td>\n",
       "      <td>10</td>\n",
       "      <td>2018-05-30</td>\n",
       "      <td>33.15</td>\n",
       "    </tr>\n",
       "    <tr>\n",
       "      <td>2541</td>\n",
       "      <td>10</td>\n",
       "      <td>2018-05-31</td>\n",
       "      <td>17.60</td>\n",
       "    </tr>\n",
       "  </tbody>\n",
       "</table>\n",
       "<p>2542 rows × 3 columns</p>\n",
       "</div>"
      ],
      "text/plain": [
       "      source_id          dt  costs\n",
       "0             1  2017-06-01  75.20\n",
       "1             1  2017-06-02  62.25\n",
       "2             1  2017-06-03  36.53\n",
       "3             1  2017-06-04  55.00\n",
       "4             1  2017-06-05  57.08\n",
       "...         ...         ...    ...\n",
       "2537         10  2018-05-27   9.92\n",
       "2538         10  2018-05-28  21.26\n",
       "2539         10  2018-05-29  11.32\n",
       "2540         10  2018-05-30  33.15\n",
       "2541         10  2018-05-31  17.60\n",
       "\n",
       "[2542 rows x 3 columns]"
      ]
     },
     "execution_count": 7,
     "metadata": {},
     "output_type": "execute_result"
    }
   ],
   "source": [
    "costs"
   ]
  },
  {
   "cell_type": "code",
   "execution_count": 8,
   "metadata": {},
   "outputs": [
    {
     "name": "stdout",
     "output_type": "stream",
     "text": [
      "<class 'pandas.core.frame.DataFrame'>\n",
      "RangeIndex: 2542 entries, 0 to 2541\n",
      "Data columns (total 3 columns):\n",
      "source_id    2542 non-null int64\n",
      "dt           2542 non-null object\n",
      "costs        2542 non-null float64\n",
      "dtypes: float64(1), int64(1), object(1)\n",
      "memory usage: 59.7+ KB\n"
     ]
    }
   ],
   "source": [
    "costs.info()"
   ]
  },
  {
   "cell_type": "markdown",
   "metadata": {},
   "source": [
    "Таблица содержит следующую информацию:\n",
    "\n",
    "* source_id — идентификатор рекламного источника\n",
    "* dt — дата\n",
    "* costs — затраты на этот рекламный источник в этот день\n",
    "\n",
    "В столбце `dt` тип данных нужно изменить с object на datetime"
   ]
  },
  {
   "cell_type": "markdown",
   "metadata": {},
   "source": [
    "## Вывод<a id=\"stage_1_summary\"></a>\n",
    "Мы загрузили таблицы в отдельные датафреймы, провели беглый анализ содержащейся в них информации и типов данных и обнаружили следующее:\n",
    "\n",
    "Пропущенных значений в таблицах нет\n",
    "\n",
    "Во всех таблицах в столбцах, которые содержат информацию о датах и времени, необходимо изменить тип данных соответствующих столбцов с object на datetime\n",
    "\n",
    "В таблицах `visits` и `orders` необходимо изменить наименования столбцов (привести к нижнему регистру и заменить символы пробелов на нижние подчеркивания)\n",
    "\n",
    "Все таблицы необходимо будет проверить на дубли\n",
    "\n",
    "В таблице `visits` необходимо проверить время сессий (чтобы не было сессий которые закончились раньше чем начались)"
   ]
  },
  {
   "cell_type": "markdown",
   "metadata": {},
   "source": [
    "# Этап 2 - Подготовка данных к анализу<a id=\"stage_2\"></a>"
   ]
  },
  {
   "cell_type": "markdown",
   "metadata": {},
   "source": [
    "## Изменение наименований столбцов<a id=\"stage_2_names\"></a>"
   ]
  },
  {
   "cell_type": "markdown",
   "metadata": {},
   "source": [
    "В таблицах `visits` и `orders` наименования столбцов выглядят следующим образом"
   ]
  },
  {
   "cell_type": "code",
   "execution_count": 9,
   "metadata": {},
   "outputs": [
    {
     "name": "stdout",
     "output_type": "stream",
     "text": [
      "Index(['Device', 'End Ts', 'Source Id', 'Start Ts', 'Uid'], dtype='object')\n",
      "Index(['Buy Ts', 'Revenue', 'Uid'], dtype='object')\n"
     ]
    }
   ],
   "source": [
    "print(visits.columns)\n",
    "print(orders.columns)"
   ]
  },
  {
   "cell_type": "markdown",
   "metadata": {},
   "source": [
    "Изменим регистр"
   ]
  },
  {
   "cell_type": "code",
   "execution_count": 10,
   "metadata": {},
   "outputs": [],
   "source": [
    "visits.columns = visits.columns.str.lower()\n",
    "orders.columns = orders.columns.str.lower()"
   ]
  },
  {
   "cell_type": "markdown",
   "metadata": {},
   "source": [
    "И заменим ' ' на '_'"
   ]
  },
  {
   "cell_type": "code",
   "execution_count": 11,
   "metadata": {},
   "outputs": [],
   "source": [
    "visits.columns = visits.columns.str.replace(' ','_')\n",
    "orders.columns = orders.columns.str.replace(' ','_')"
   ]
  },
  {
   "cell_type": "markdown",
   "metadata": {},
   "source": [
    "После наших манипуляций наименования столбцов выглядят следующим образом"
   ]
  },
  {
   "cell_type": "code",
   "execution_count": 12,
   "metadata": {},
   "outputs": [
    {
     "name": "stdout",
     "output_type": "stream",
     "text": [
      "Index(['device', 'end_ts', 'source_id', 'start_ts', 'uid'], dtype='object')\n",
      "Index(['buy_ts', 'revenue', 'uid'], dtype='object')\n"
     ]
    }
   ],
   "source": [
    "print(visits.columns)\n",
    "print(orders.columns)"
   ]
  },
  {
   "cell_type": "markdown",
   "metadata": {},
   "source": [
    "## Изменение типов данных<a id=\"stage_2_types\"></a>"
   ]
  },
  {
   "cell_type": "markdown",
   "metadata": {},
   "source": [
    "Данные о датах и времени содержатся в следующих столбцах:\n",
    "\n",
    "`visits['end_ts']`\n",
    "\n",
    "`visits['start_ts']`\n",
    "\n",
    "`orders['buy_ts']`\n",
    "\n",
    "`costs['dt']`\n",
    "\n",
    "Изменим тип методом pandas.to_datetime"
   ]
  },
  {
   "cell_type": "code",
   "execution_count": 13,
   "metadata": {},
   "outputs": [],
   "source": [
    "visits['end_ts'] = pd.to_datetime(visits['end_ts'])\n",
    "visits['start_ts'] = pd.to_datetime(visits['start_ts'])\n",
    "orders['buy_ts'] = pd.to_datetime(orders['buy_ts'])\n",
    "costs['dt'] = pd.to_datetime(costs['dt'])"
   ]
  },
  {
   "cell_type": "markdown",
   "metadata": {},
   "source": [
    "## Поиск дублей<a id=\"stage_2_dubles\"></a>"
   ]
  },
  {
   "cell_type": "markdown",
   "metadata": {},
   "source": [
    "Проверим каждую таблицу на дубли"
   ]
  },
  {
   "cell_type": "code",
   "execution_count": 14,
   "metadata": {},
   "outputs": [
    {
     "data": {
      "text/plain": [
       "0"
      ]
     },
     "execution_count": 14,
     "metadata": {},
     "output_type": "execute_result"
    }
   ],
   "source": [
    "visits.duplicated().sum()"
   ]
  },
  {
   "cell_type": "code",
   "execution_count": 15,
   "metadata": {},
   "outputs": [
    {
     "data": {
      "text/plain": [
       "0"
      ]
     },
     "execution_count": 15,
     "metadata": {},
     "output_type": "execute_result"
    }
   ],
   "source": [
    "orders.duplicated().sum()"
   ]
  },
  {
   "cell_type": "code",
   "execution_count": 16,
   "metadata": {},
   "outputs": [
    {
     "data": {
      "text/plain": [
       "0"
      ]
     },
     "execution_count": 16,
     "metadata": {},
     "output_type": "execute_result"
    }
   ],
   "source": [
    "costs.duplicated().sum()"
   ]
  },
  {
   "cell_type": "markdown",
   "metadata": {},
   "source": [
    "Дублей в таблицах нет"
   ]
  },
  {
   "cell_type": "markdown",
   "metadata": {},
   "source": [
    "## Поиск ошибок<a id=\"stage_2_err\"></a>"
   ]
  },
  {
   "cell_type": "markdown",
   "metadata": {},
   "source": [
    "Изменим порядок столбцов в таблице `visits`"
   ]
  },
  {
   "cell_type": "code",
   "execution_count": 17,
   "metadata": {},
   "outputs": [],
   "source": [
    "visits = visits[['device', 'source_id', 'start_ts', 'end_ts', 'uid']]"
   ]
  },
  {
   "cell_type": "markdown",
   "metadata": {},
   "source": [
    "Проверим на наличие записей о сессиях в которых время начала сессии позже ее начала"
   ]
  },
  {
   "cell_type": "code",
   "execution_count": 18,
   "metadata": {},
   "outputs": [
    {
     "data": {
      "text/html": [
       "<div>\n",
       "<style scoped>\n",
       "    .dataframe tbody tr th:only-of-type {\n",
       "        vertical-align: middle;\n",
       "    }\n",
       "\n",
       "    .dataframe tbody tr th {\n",
       "        vertical-align: top;\n",
       "    }\n",
       "\n",
       "    .dataframe thead th {\n",
       "        text-align: right;\n",
       "    }\n",
       "</style>\n",
       "<table border=\"1\" class=\"dataframe\">\n",
       "  <thead>\n",
       "    <tr style=\"text-align: right;\">\n",
       "      <th></th>\n",
       "      <th>device</th>\n",
       "      <th>source_id</th>\n",
       "      <th>start_ts</th>\n",
       "      <th>end_ts</th>\n",
       "      <th>uid</th>\n",
       "    </tr>\n",
       "  </thead>\n",
       "  <tbody>\n",
       "    <tr>\n",
       "      <td>4181</td>\n",
       "      <td>desktop</td>\n",
       "      <td>3</td>\n",
       "      <td>2018-03-25 03:50:00</td>\n",
       "      <td>2018-03-25 03:18:00</td>\n",
       "      <td>13092152539246794986</td>\n",
       "    </tr>\n",
       "    <tr>\n",
       "      <td>177972</td>\n",
       "      <td>desktop</td>\n",
       "      <td>9</td>\n",
       "      <td>2018-03-25 03:55:00</td>\n",
       "      <td>2018-03-25 03:09:00</td>\n",
       "      <td>4621202742905035453</td>\n",
       "    </tr>\n",
       "  </tbody>\n",
       "</table>\n",
       "</div>"
      ],
      "text/plain": [
       "         device  source_id            start_ts              end_ts  \\\n",
       "4181    desktop          3 2018-03-25 03:50:00 2018-03-25 03:18:00   \n",
       "177972  desktop          9 2018-03-25 03:55:00 2018-03-25 03:09:00   \n",
       "\n",
       "                         uid  \n",
       "4181    13092152539246794986  \n",
       "177972   4621202742905035453  "
      ]
     },
     "execution_count": 18,
     "metadata": {},
     "output_type": "execute_result"
    }
   ],
   "source": [
    "visits.query('start_ts > end_ts')"
   ]
  },
  {
   "cell_type": "markdown",
   "metadata": {},
   "source": [
    "Мы нашли всего две таких записи, посчитаем процент от общего количества"
   ]
  },
  {
   "cell_type": "code",
   "execution_count": 19,
   "metadata": {},
   "outputs": [
    {
     "data": {
      "text/plain": [
       "0.0005564830272676682"
      ]
     },
     "execution_count": 19,
     "metadata": {},
     "output_type": "execute_result"
    }
   ],
   "source": [
    "len(visits.query('start_ts > end_ts')) / len(visits) * 100"
   ]
  },
  {
   "cell_type": "markdown",
   "metadata": {},
   "source": [
    "Всего 0.0006%, удалим их из таблицы"
   ]
  },
  {
   "cell_type": "code",
   "execution_count": 20,
   "metadata": {},
   "outputs": [],
   "source": [
    "visits = visits.drop(visits.query('end_ts < start_ts').index).reset_index(drop=True)"
   ]
  },
  {
   "cell_type": "markdown",
   "metadata": {},
   "source": [
    "## Вывод<a id=\"stage_2_summary\"></a>\n",
    "\n",
    "На этапе предобработки данных мы изменили наименования столбцов в таблицах `visits` и `orders` (привели их к нижнему регистру и заменили пробелы на нижние подчеркивания)\n",
    "\n",
    "Изменили тип данных в столбцах содержащих даты\n",
    "\n",
    "Проверили все таблицы на дубликаты (они не были обнаружены)\n",
    "\n",
    "Удалили из таблицы `visits` 2 записи о сессиях в которых время начала сессии позже ее начала"
   ]
  },
  {
   "cell_type": "markdown",
   "metadata": {},
   "source": [
    "# Этап 3 - Анализ данных<a id=\"stage_3\"></a>"
   ]
  },
  {
   "cell_type": "markdown",
   "metadata": {},
   "source": [
    "## Посещаемость<a id=\"stage_3_visitors\"></a>"
   ]
  },
  {
   "cell_type": "markdown",
   "metadata": {},
   "source": [
    "Для того чтобы определить количество посетителей Яндекс.Афиши в день, неделю и месяц нам необходимо ввести в таблицу дополнительные столбцы `day`, `week` и `month` в них мы сохраним день, неделю и месяц начала сессии"
   ]
  },
  {
   "cell_type": "code",
   "execution_count": 21,
   "metadata": {},
   "outputs": [],
   "source": [
    "visits['day'] = visits['start_ts'].astype('datetime64[D]')\n",
    "visits['week'] = visits['start_ts'].astype('datetime64[D]') - pd.to_timedelta(visits['start_ts'].dt.dayofweek, unit='D')\n",
    "visits['month'] = visits['start_ts'].astype('datetime64[M]')"
   ]
  },
  {
   "cell_type": "markdown",
   "metadata": {},
   "source": [
    "### Уникальные пользователи в разрезе платформ<a id=\"stage_3_visitors_unique_total\"></a>"
   ]
  },
  {
   "cell_type": "code",
   "execution_count": 22,
   "metadata": {},
   "outputs": [
    {
     "data": {
      "text/html": [
       "<div>\n",
       "<style scoped>\n",
       "    .dataframe tbody tr th:only-of-type {\n",
       "        vertical-align: middle;\n",
       "    }\n",
       "\n",
       "    .dataframe tbody tr th {\n",
       "        vertical-align: top;\n",
       "    }\n",
       "\n",
       "    .dataframe thead th {\n",
       "        text-align: right;\n",
       "    }\n",
       "</style>\n",
       "<table border=\"1\" class=\"dataframe\">\n",
       "  <thead>\n",
       "    <tr style=\"text-align: right;\">\n",
       "      <th></th>\n",
       "      <th>total</th>\n",
       "      <th>unique</th>\n",
       "      <th>ratio, %</th>\n",
       "    </tr>\n",
       "    <tr>\n",
       "      <th>device</th>\n",
       "      <th></th>\n",
       "      <th></th>\n",
       "      <th></th>\n",
       "    </tr>\n",
       "  </thead>\n",
       "  <tbody>\n",
       "    <tr>\n",
       "      <td>desktop</td>\n",
       "      <td>262565</td>\n",
       "      <td>164523</td>\n",
       "      <td>62.66</td>\n",
       "    </tr>\n",
       "    <tr>\n",
       "      <td>touch</td>\n",
       "      <td>96833</td>\n",
       "      <td>71345</td>\n",
       "      <td>73.68</td>\n",
       "    </tr>\n",
       "  </tbody>\n",
       "</table>\n",
       "</div>"
      ],
      "text/plain": [
       "          total  unique  ratio, %\n",
       "device                           \n",
       "desktop  262565  164523     62.66\n",
       "touch     96833   71345     73.68"
      ]
     },
     "execution_count": 22,
     "metadata": {},
     "output_type": "execute_result"
    }
   ],
   "source": [
    "users_total = visits.pivot_table(index='device', values='uid', aggfunc=['count',lambda x: len(x.unique())])\n",
    "users_total.columns = ['total','unique']\n",
    "users_total['ratio, %'] = (users_total['unique'] / users_total['total'] * 100).round(2)\n",
    "users_total"
   ]
  },
  {
   "cell_type": "markdown",
   "metadata": {},
   "source": [
    "Доля уникальных пользователей на мобильных платформах на 9% выше чем на персональном компьютере"
   ]
  },
  {
   "cell_type": "markdown",
   "metadata": {},
   "source": [
    "Расчитаем количество уникальных пользователей в день, в неделю и в месяц"
   ]
  },
  {
   "cell_type": "code",
   "execution_count": 23,
   "metadata": {},
   "outputs": [
    {
     "data": {
      "text/html": [
       "<div>\n",
       "<style scoped>\n",
       "    .dataframe tbody tr th:only-of-type {\n",
       "        vertical-align: middle;\n",
       "    }\n",
       "\n",
       "    .dataframe tbody tr th {\n",
       "        vertical-align: top;\n",
       "    }\n",
       "\n",
       "    .dataframe thead th {\n",
       "        text-align: right;\n",
       "    }\n",
       "</style>\n",
       "<table border=\"1\" class=\"dataframe\">\n",
       "  <thead>\n",
       "    <tr style=\"text-align: right;\">\n",
       "      <th></th>\n",
       "      <th>device</th>\n",
       "      <th>daily</th>\n",
       "      <th>weekly</th>\n",
       "      <th>monthly</th>\n",
       "    </tr>\n",
       "  </thead>\n",
       "  <tbody>\n",
       "    <tr>\n",
       "      <td>0</td>\n",
       "      <td>desktop</td>\n",
       "      <td>659.24</td>\n",
       "      <td>4129.51</td>\n",
       "      <td>16724.92</td>\n",
       "    </tr>\n",
       "    <tr>\n",
       "      <td>1</td>\n",
       "      <td>touch</td>\n",
       "      <td>252.87</td>\n",
       "      <td>1634.92</td>\n",
       "      <td>6825.92</td>\n",
       "    </tr>\n",
       "    <tr>\n",
       "      <td>2</td>\n",
       "      <td>total</td>\n",
       "      <td>912.11</td>\n",
       "      <td>5764.43</td>\n",
       "      <td>23550.84</td>\n",
       "    </tr>\n",
       "  </tbody>\n",
       "</table>\n",
       "</div>"
      ],
      "text/plain": [
       "    device   daily   weekly   monthly\n",
       "0  desktop  659.24  4129.51  16724.92\n",
       "1    touch  252.87  1634.92   6825.92\n",
       "2    total  912.11  5764.43  23550.84"
      ]
     },
     "execution_count": 23,
     "metadata": {},
     "output_type": "execute_result"
    }
   ],
   "source": [
    "users_daily = visits.pivot_table(index=['device','day'], values='uid', aggfunc=lambda x: len(x.unique())).\\\n",
    "              reset_index()[['device','uid']].pivot_table(index='device', values='uid', aggfunc='mean').round(2)\n",
    "\n",
    "users_weekly = visits.pivot_table(index=['device','week'], values='uid', aggfunc=lambda x: len(x.unique())).\\\n",
    "               reset_index()[['device','uid']].pivot_table(index='device', values='uid', aggfunc='mean').round(2)\n",
    "\n",
    "users_monthly = visits.pivot_table(index=['device','month'], values='uid', aggfunc=lambda x: len(x.unique())).\\\n",
    "                reset_index()[['device','uid']].pivot_table(index='device', values='uid', aggfunc='mean').round(2)\n",
    "\n",
    "nunique_users = pd.concat([users_daily,users_weekly,users_monthly], axis=1).reset_index()\n",
    "nunique_users.columns = ['device','daily','weekly','monthly']\n",
    "nunique_users.loc[2] = nunique_users.sum()\n",
    "nunique_users.loc[2,'device'] = 'total'\n",
    "nunique_users"
   ]
  },
  {
   "cell_type": "code",
   "execution_count": 24,
   "metadata": {},
   "outputs": [
    {
     "data": {
      "text/plain": [
       "Text(0, 0.5, 'Количество сессий')"
      ]
     },
     "execution_count": 24,
     "metadata": {},
     "output_type": "execute_result"
    },
    {
     "data": {
      "image/png": "[encoded data removed]",
      "text/plain": [
       "<Figure size 1152x648 with 1 Axes>"
      ]
     },
     "metadata": {
      "needs_background": "light"
     },
     "output_type": "display_data"
    }
   ],
   "source": [
    "nunique_users.plot(kind='bar', y=['daily','weekly','monthly'], x='device', figsize=(16,9), grid=True, rot=0)\n",
    "plt.legend(['В день','В неделю','В месяц'])\n",
    "plt.title('Количество сессий по платформам', fontsize=18)\n",
    "plt.xlabel('Платформа', fontsize=14)\n",
    "plt.ylabel('Количество сессий', fontsize=14)"
   ]
  },
  {
   "cell_type": "markdown",
   "metadata": {},
   "source": [
    "На платформе `desktop` (настольные компьютеры) у Яндекс.Афиши на 40% больше пользователей чем на платформе `touch` (мобильные платформы)\n",
    "\n",
    "В среднем, в течении года, было 912 уникальных посетителей в день, 5764 в неделю и 23550 в месяц"
   ]
  },
  {
   "cell_type": "markdown",
   "metadata": {},
   "source": [
    "### Количество сессий по месяцам<a id=\"stage_3_visitors_monthly\"></a>"
   ]
  },
  {
   "cell_type": "markdown",
   "metadata": {},
   "source": [
    "Построим график изменения общей посещаемости за год"
   ]
  },
  {
   "cell_type": "code",
   "execution_count": 25,
   "metadata": {},
   "outputs": [
    {
     "data": {
      "text/plain": [
       "Text(0, 0.5, 'Количество сессий')"
      ]
     },
     "execution_count": 25,
     "metadata": {},
     "output_type": "execute_result"
    },
    {
     "data": {
      "image/png": "[encoded data removed]",
      "text/plain": [
       "<Figure size 1152x648 with 1 Axes>"
      ]
     },
     "metadata": {
      "needs_background": "light"
     },
     "output_type": "display_data"
    }
   ],
   "source": [
    "users_daily_year = visits.pivot_table(index=['month','day'], values='uid', \n",
    "                                 aggfunc=lambda x: len(x.unique())).\\\n",
    "              reset_index()[['month','uid']].pivot_table(index='month', values='uid', \n",
    "                                                         aggfunc='mean').round(2).reset_index()\n",
    "\n",
    "users_weekly_year = visits.pivot_table(index=['month','week'], values='uid', \n",
    "                                 aggfunc=lambda x: len(x.unique())).\\\n",
    "              reset_index()[['month','uid']].pivot_table(index='month', values='uid', \n",
    "                                                         aggfunc='mean').round(2).reset_index()\n",
    "\n",
    "users_monthly_year = visits.pivot_table(index=['month'], values='uid', \n",
    "                                 aggfunc=lambda x: len(x.unique())).\\\n",
    "              reset_index()[['month','uid']].pivot_table(index='month', values='uid', \n",
    "                                                         aggfunc='mean').round(2).reset_index()\n",
    "\n",
    "users_daily_year.columns = ['month','daily']\n",
    "users_weekly_year.columns = ['month','weekly']\n",
    "users_monthly_year.columns = ['month','monthly']\n",
    "\n",
    "pivot_users_year = users_daily_year.merge(users_weekly_year, on='month', how='left')\n",
    "pivot_users_year = pivot_users_year.merge(users_monthly_year, on='month', how='left')\n",
    "pivot_users_year['month'] = pivot_users_year['month'].dt.date\n",
    "\n",
    "pivot_users_year.plot(kind='bar', x='month', y=['daily','weekly','monthly'], figsize=(16,9), \n",
    "                      grid=True, rot=0)\n",
    "plt.legend(['В день','В неделю','В месяц'])\n",
    "plt.title('Количество сессий за год', fontsize=18)\n",
    "plt.xlabel('Месяц', fontsize=14)\n",
    "plt.ylabel('Количество сессий', fontsize=14)"
   ]
  },
  {
   "cell_type": "markdown",
   "metadata": {},
   "source": [
    "На диаграмме отчетливо видно что в конце года количество посещений значительно увеличивается, это может свидетельствовать о сезонности спроса"
   ]
  },
  {
   "cell_type": "markdown",
   "metadata": {},
   "source": [
    "Рассчитаем количество уникальных сессий по месяцам"
   ]
  },
  {
   "cell_type": "code",
   "execution_count": 26,
   "metadata": {},
   "outputs": [
    {
     "data": {
      "text/html": [
       "<div>\n",
       "<style scoped>\n",
       "    .dataframe tbody tr th:only-of-type {\n",
       "        vertical-align: middle;\n",
       "    }\n",
       "\n",
       "    .dataframe tbody tr th {\n",
       "        vertical-align: top;\n",
       "    }\n",
       "\n",
       "    .dataframe thead th {\n",
       "        text-align: right;\n",
       "    }\n",
       "</style>\n",
       "<table border=\"1\" class=\"dataframe\">\n",
       "  <thead>\n",
       "    <tr style=\"text-align: right;\">\n",
       "      <th></th>\n",
       "      <th>month</th>\n",
       "      <th>count</th>\n",
       "      <th>nunique</th>\n",
       "      <th>ratio</th>\n",
       "    </tr>\n",
       "  </thead>\n",
       "  <tbody>\n",
       "    <tr>\n",
       "      <td>0</td>\n",
       "      <td>2017-06-01</td>\n",
       "      <td>16505</td>\n",
       "      <td>13259</td>\n",
       "      <td>1.24</td>\n",
       "    </tr>\n",
       "    <tr>\n",
       "      <td>1</td>\n",
       "      <td>2017-07-01</td>\n",
       "      <td>17828</td>\n",
       "      <td>14183</td>\n",
       "      <td>1.26</td>\n",
       "    </tr>\n",
       "    <tr>\n",
       "      <td>2</td>\n",
       "      <td>2017-08-01</td>\n",
       "      <td>14355</td>\n",
       "      <td>11631</td>\n",
       "      <td>1.23</td>\n",
       "    </tr>\n",
       "    <tr>\n",
       "      <td>3</td>\n",
       "      <td>2017-09-01</td>\n",
       "      <td>23907</td>\n",
       "      <td>18975</td>\n",
       "      <td>1.26</td>\n",
       "    </tr>\n",
       "    <tr>\n",
       "      <td>4</td>\n",
       "      <td>2017-10-01</td>\n",
       "      <td>37903</td>\n",
       "      <td>29692</td>\n",
       "      <td>1.28</td>\n",
       "    </tr>\n",
       "    <tr>\n",
       "      <td>5</td>\n",
       "      <td>2017-11-01</td>\n",
       "      <td>43969</td>\n",
       "      <td>32797</td>\n",
       "      <td>1.34</td>\n",
       "    </tr>\n",
       "    <tr>\n",
       "      <td>6</td>\n",
       "      <td>2017-12-01</td>\n",
       "      <td>41983</td>\n",
       "      <td>31557</td>\n",
       "      <td>1.33</td>\n",
       "    </tr>\n",
       "    <tr>\n",
       "      <td>7</td>\n",
       "      <td>2018-01-01</td>\n",
       "      <td>36939</td>\n",
       "      <td>28716</td>\n",
       "      <td>1.29</td>\n",
       "    </tr>\n",
       "    <tr>\n",
       "      <td>8</td>\n",
       "      <td>2018-02-01</td>\n",
       "      <td>37182</td>\n",
       "      <td>28749</td>\n",
       "      <td>1.29</td>\n",
       "    </tr>\n",
       "    <tr>\n",
       "      <td>9</td>\n",
       "      <td>2018-03-01</td>\n",
       "      <td>35677</td>\n",
       "      <td>27473</td>\n",
       "      <td>1.30</td>\n",
       "    </tr>\n",
       "    <tr>\n",
       "      <td>10</td>\n",
       "      <td>2018-04-01</td>\n",
       "      <td>26515</td>\n",
       "      <td>21008</td>\n",
       "      <td>1.26</td>\n",
       "    </tr>\n",
       "    <tr>\n",
       "      <td>11</td>\n",
       "      <td>2018-05-01</td>\n",
       "      <td>26635</td>\n",
       "      <td>20701</td>\n",
       "      <td>1.29</td>\n",
       "    </tr>\n",
       "  </tbody>\n",
       "</table>\n",
       "</div>"
      ],
      "text/plain": [
       "         month  count  nunique  ratio\n",
       "0   2017-06-01  16505    13259   1.24\n",
       "1   2017-07-01  17828    14183   1.26\n",
       "2   2017-08-01  14355    11631   1.23\n",
       "3   2017-09-01  23907    18975   1.26\n",
       "4   2017-10-01  37903    29692   1.28\n",
       "5   2017-11-01  43969    32797   1.34\n",
       "6   2017-12-01  41983    31557   1.33\n",
       "7   2018-01-01  36939    28716   1.29\n",
       "8   2018-02-01  37182    28749   1.29\n",
       "9   2018-03-01  35677    27473   1.30\n",
       "10  2018-04-01  26515    21008   1.26\n",
       "11  2018-05-01  26635    20701   1.29"
      ]
     },
     "execution_count": 26,
     "metadata": {},
     "output_type": "execute_result"
    }
   ],
   "source": [
    "pivot = visits.pivot_table(index='month', values='uid', aggfunc=['count',lambda x: len(x.unique())]).reset_index()\n",
    "pivot['month'] = pivot['month'].dt.date\n",
    "pivot.columns = ['month','count','nunique']\n",
    "pivot['ratio'] = (pivot['count'] /pivot['nunique']).round(2)\n",
    "pivot"
   ]
  },
  {
   "cell_type": "markdown",
   "metadata": {},
   "source": [
    "В конце года наблюдается некоторое увеличение количества сессий на одного пользователя, но оно не достаточно для того чтобы компенсировать значительный роcт общего количества посещений, это значит что в конце года мы получаем больше уникальных посетителей, еще одно подтверждение сезонности спроса"
   ]
  },
  {
   "cell_type": "markdown",
   "metadata": {},
   "source": [
    "### Количество уникальных сессий<a id=\"stage_3_visitors_unique\"></a>"
   ]
  },
  {
   "cell_type": "markdown",
   "metadata": {},
   "source": [
    "В день"
   ]
  },
  {
   "cell_type": "code",
   "execution_count": 27,
   "metadata": {},
   "outputs": [
    {
     "data": {
      "text/plain": [
       "Всего         987.357143\n",
       "Уникальных    907.991758\n",
       "ratio           1.082166\n",
       "dtype: float64"
      ]
     },
     "execution_count": 27,
     "metadata": {},
     "output_type": "execute_result"
    }
   ],
   "source": [
    "sessions = visits.pivot_table(index='day', values='uid', aggfunc=['count',lambda x: len(x.unique())])\n",
    "sessions.columns = ['Всего','Уникальных']\n",
    "sessions['ratio'] = sessions['Всего'] / sessions['Уникальных']\n",
    "sessions.mean()"
   ]
  },
  {
   "cell_type": "markdown",
   "metadata": {},
   "source": [
    "В неделю"
   ]
  },
  {
   "cell_type": "code",
   "execution_count": 28,
   "metadata": {},
   "outputs": [
    {
     "data": {
      "text/plain": [
       "Всего         6781.094340\n",
       "Уникальных    5716.245283\n",
       "ratio            1.179020\n",
       "dtype: float64"
      ]
     },
     "execution_count": 28,
     "metadata": {},
     "output_type": "execute_result"
    }
   ],
   "source": [
    "sessions = visits.pivot_table(index='week', values='uid', aggfunc=['count',lambda x: len(x.unique())])\n",
    "sessions.columns = ['Всего','Уникальных']\n",
    "sessions['ratio'] = sessions['Всего'] / sessions['Уникальных']\n",
    "sessions.mean()"
   ]
  },
  {
   "cell_type": "markdown",
   "metadata": {},
   "source": [
    "В месяц"
   ]
  },
  {
   "cell_type": "code",
   "execution_count": 29,
   "metadata": {},
   "outputs": [
    {
     "data": {
      "text/plain": [
       "Всего         29949.833333\n",
       "Уникальных    23228.416667\n",
       "ratio             1.280883\n",
       "dtype: float64"
      ]
     },
     "execution_count": 29,
     "metadata": {},
     "output_type": "execute_result"
    }
   ],
   "source": [
    "sessions = visits.pivot_table(index='month', values='uid', aggfunc=['count',lambda x: len(x.unique())])\n",
    "sessions.columns = ['Всего','Уникальных']\n",
    "sessions['ratio'] = sessions['Всего'] / sessions['Уникальных']\n",
    "sessions.mean()"
   ]
  },
  {
   "cell_type": "markdown",
   "metadata": {},
   "source": [
    "Судя по соотношению в среднем на одного пользователя приходится одна сессия в день, но в разрезе по неделям и месяцам находится больше пользователей которые заходят на платформу несколько раз за период, метрика по месяцам и составляет 1.3 посещения за период"
   ]
  },
  {
   "cell_type": "markdown",
   "metadata": {},
   "source": [
    "### Длительность сессии<a id=\"stage_3_visitors_session_lenght\"></a>"
   ]
  },
  {
   "cell_type": "markdown",
   "metadata": {},
   "source": [
    "Запишем в столбец `session_lenght` длительность сесcии в секундах"
   ]
  },
  {
   "cell_type": "code",
   "execution_count": 30,
   "metadata": {},
   "outputs": [],
   "source": [
    "visits['session_lenght'] = (visits['end_ts'] - visits['start_ts']).dt.seconds"
   ]
  },
  {
   "cell_type": "markdown",
   "metadata": {},
   "source": [
    "Выведем основные статистические покаатели этого столбца на экран (в разрезе платформ)"
   ]
  },
  {
   "cell_type": "code",
   "execution_count": 31,
   "metadata": {},
   "outputs": [
    {
     "data": {
      "text/html": [
       "<div>\n",
       "<style scoped>\n",
       "    .dataframe tbody tr th:only-of-type {\n",
       "        vertical-align: middle;\n",
       "    }\n",
       "\n",
       "    .dataframe tbody tr th {\n",
       "        vertical-align: top;\n",
       "    }\n",
       "\n",
       "    .dataframe thead th {\n",
       "        text-align: right;\n",
       "    }\n",
       "</style>\n",
       "<table border=\"1\" class=\"dataframe\">\n",
       "  <thead>\n",
       "    <tr style=\"text-align: right;\">\n",
       "      <th></th>\n",
       "      <th>all</th>\n",
       "      <th>desktop</th>\n",
       "      <th>touch</th>\n",
       "    </tr>\n",
       "  </thead>\n",
       "  <tbody>\n",
       "    <tr>\n",
       "      <td>count</td>\n",
       "      <td>359398.0</td>\n",
       "      <td>262565.0</td>\n",
       "      <td>96833.0</td>\n",
       "    </tr>\n",
       "    <tr>\n",
       "      <td>mean</td>\n",
       "      <td>643.0</td>\n",
       "      <td>703.0</td>\n",
       "      <td>480.0</td>\n",
       "    </tr>\n",
       "    <tr>\n",
       "      <td>std</td>\n",
       "      <td>997.0</td>\n",
       "      <td>1067.0</td>\n",
       "      <td>753.0</td>\n",
       "    </tr>\n",
       "    <tr>\n",
       "      <td>min</td>\n",
       "      <td>0.0</td>\n",
       "      <td>0.0</td>\n",
       "      <td>0.0</td>\n",
       "    </tr>\n",
       "    <tr>\n",
       "      <td>25%</td>\n",
       "      <td>120.0</td>\n",
       "      <td>120.0</td>\n",
       "      <td>60.0</td>\n",
       "    </tr>\n",
       "    <tr>\n",
       "      <td>50%</td>\n",
       "      <td>300.0</td>\n",
       "      <td>360.0</td>\n",
       "      <td>180.0</td>\n",
       "    </tr>\n",
       "    <tr>\n",
       "      <td>75%</td>\n",
       "      <td>840.0</td>\n",
       "      <td>900.0</td>\n",
       "      <td>600.0</td>\n",
       "    </tr>\n",
       "    <tr>\n",
       "      <td>max</td>\n",
       "      <td>42660.0</td>\n",
       "      <td>42660.0</td>\n",
       "      <td>30840.0</td>\n",
       "    </tr>\n",
       "  </tbody>\n",
       "</table>\n",
       "</div>"
      ],
      "text/plain": [
       "            all   desktop    touch\n",
       "count  359398.0  262565.0  96833.0\n",
       "mean      643.0     703.0    480.0\n",
       "std       997.0    1067.0    753.0\n",
       "min         0.0       0.0      0.0\n",
       "25%       120.0     120.0     60.0\n",
       "50%       300.0     360.0    180.0\n",
       "75%       840.0     900.0    600.0\n",
       "max     42660.0   42660.0  30840.0"
      ]
     },
     "execution_count": 31,
     "metadata": {},
     "output_type": "execute_result"
    }
   ],
   "source": [
    "pd.concat([visits['session_lenght'].describe().round(),\n",
    "           visits.query('device == \"desktop\"')['session_lenght'].describe().round(),\n",
    "           visits.query('device == \"touch\"')['session_lenght'].describe().round()],\n",
    "          axis=1, \n",
    "          keys=['all','desktop','touch'])"
   ]
  },
  {
   "cell_type": "markdown",
   "metadata": {},
   "source": [
    "Средняя длительность сессии 643 секунды, медианная 300 секунд, по платформам значения различаются:\n",
    "\n",
    "* настольные компьютеры<br>\n",
    "  cредняя длительность сессии 703 секунды, медианная 360 секунд\n",
    "* мобильные платформы<br>\n",
    "  cредняя длительность сессии 480 секунд, медианная 180 секунд\n",
    "  \n",
    "Такая большая разница между средними и медианными значениями вызвана большим количеством выбросов"
   ]
  },
  {
   "cell_type": "markdown",
   "metadata": {},
   "source": [
    "Для того чтобы определить диапазон для построения гистограмм поделим весь диапазон на корзины"
   ]
  },
  {
   "cell_type": "code",
   "execution_count": 32,
   "metadata": {},
   "outputs": [
    {
     "data": {
      "text/html": [
       "<div>\n",
       "<style scoped>\n",
       "    .dataframe tbody tr th:only-of-type {\n",
       "        vertical-align: middle;\n",
       "    }\n",
       "\n",
       "    .dataframe tbody tr th {\n",
       "        vertical-align: top;\n",
       "    }\n",
       "\n",
       "    .dataframe thead th {\n",
       "        text-align: right;\n",
       "    }\n",
       "</style>\n",
       "<table border=\"1\" class=\"dataframe\">\n",
       "  <thead>\n",
       "    <tr style=\"text-align: right;\">\n",
       "      <th></th>\n",
       "      <th>index</th>\n",
       "    </tr>\n",
       "    <tr>\n",
       "      <th>session_lenght</th>\n",
       "      <th></th>\n",
       "    </tr>\n",
       "  </thead>\n",
       "  <tbody>\n",
       "    <tr>\n",
       "      <td>(-42.66, 1706.4]</td>\n",
       "      <td>327390</td>\n",
       "    </tr>\n",
       "    <tr>\n",
       "      <td>(1706.4, 3412.8]</td>\n",
       "      <td>24583</td>\n",
       "    </tr>\n",
       "    <tr>\n",
       "      <td>(3412.8, 5119.2]</td>\n",
       "      <td>4951</td>\n",
       "    </tr>\n",
       "    <tr>\n",
       "      <td>(5119.2, 6825.6]</td>\n",
       "      <td>1381</td>\n",
       "    </tr>\n",
       "    <tr>\n",
       "      <td>(6825.6, 8532.0]</td>\n",
       "      <td>541</td>\n",
       "    </tr>\n",
       "    <tr>\n",
       "      <td>(8532.0, 10238.4]</td>\n",
       "      <td>238</td>\n",
       "    </tr>\n",
       "    <tr>\n",
       "      <td>(10238.4, 11944.8]</td>\n",
       "      <td>131</td>\n",
       "    </tr>\n",
       "    <tr>\n",
       "      <td>(11944.8, 13651.2]</td>\n",
       "      <td>63</td>\n",
       "    </tr>\n",
       "    <tr>\n",
       "      <td>(13651.2, 15357.6]</td>\n",
       "      <td>40</td>\n",
       "    </tr>\n",
       "    <tr>\n",
       "      <td>(15357.6, 17064.0]</td>\n",
       "      <td>29</td>\n",
       "    </tr>\n",
       "    <tr>\n",
       "      <td>(17064.0, 18770.4]</td>\n",
       "      <td>11</td>\n",
       "    </tr>\n",
       "    <tr>\n",
       "      <td>(18770.4, 20476.8]</td>\n",
       "      <td>8</td>\n",
       "    </tr>\n",
       "    <tr>\n",
       "      <td>(20476.8, 22183.2]</td>\n",
       "      <td>7</td>\n",
       "    </tr>\n",
       "    <tr>\n",
       "      <td>(22183.2, 23889.6]</td>\n",
       "      <td>9</td>\n",
       "    </tr>\n",
       "    <tr>\n",
       "      <td>(23889.6, 25596.0]</td>\n",
       "      <td>4</td>\n",
       "    </tr>\n",
       "    <tr>\n",
       "      <td>(25596.0, 27302.4]</td>\n",
       "      <td>1</td>\n",
       "    </tr>\n",
       "    <tr>\n",
       "      <td>(27302.4, 29008.8]</td>\n",
       "      <td>2</td>\n",
       "    </tr>\n",
       "    <tr>\n",
       "      <td>(29008.8, 30715.2]</td>\n",
       "      <td>3</td>\n",
       "    </tr>\n",
       "    <tr>\n",
       "      <td>(30715.2, 32421.6]</td>\n",
       "      <td>2</td>\n",
       "    </tr>\n",
       "    <tr>\n",
       "      <td>(32421.6, 34128.0]</td>\n",
       "      <td>2</td>\n",
       "    </tr>\n",
       "    <tr>\n",
       "      <td>(34128.0, 35834.4]</td>\n",
       "      <td>1</td>\n",
       "    </tr>\n",
       "    <tr>\n",
       "      <td>(40953.6, 42660.0]</td>\n",
       "      <td>1</td>\n",
       "    </tr>\n",
       "  </tbody>\n",
       "</table>\n",
       "</div>"
      ],
      "text/plain": [
       "                     index\n",
       "session_lenght            \n",
       "(-42.66, 1706.4]    327390\n",
       "(1706.4, 3412.8]     24583\n",
       "(3412.8, 5119.2]      4951\n",
       "(5119.2, 6825.6]      1381\n",
       "(6825.6, 8532.0]       541\n",
       "(8532.0, 10238.4]      238\n",
       "(10238.4, 11944.8]     131\n",
       "(11944.8, 13651.2]      63\n",
       "(13651.2, 15357.6]      40\n",
       "(15357.6, 17064.0]      29\n",
       "(17064.0, 18770.4]      11\n",
       "(18770.4, 20476.8]       8\n",
       "(20476.8, 22183.2]       7\n",
       "(22183.2, 23889.6]       9\n",
       "(23889.6, 25596.0]       4\n",
       "(25596.0, 27302.4]       1\n",
       "(27302.4, 29008.8]       2\n",
       "(29008.8, 30715.2]       3\n",
       "(30715.2, 32421.6]       2\n",
       "(32421.6, 34128.0]       2\n",
       "(34128.0, 35834.4]       1\n",
       "(40953.6, 42660.0]       1"
      ]
     },
     "execution_count": 32,
     "metadata": {},
     "output_type": "execute_result"
    }
   ],
   "source": [
    "pd.cut(visits['session_lenght'], bins=25).reset_index().groupby('session_lenght').count().query('index > 0')"
   ]
  },
  {
   "cell_type": "markdown",
   "metadata": {},
   "source": [
    "Основная масса значений расположена в диапазоне до 10000 секунд, в нем мы и будем строить гистограммы"
   ]
  },
  {
   "cell_type": "code",
   "execution_count": 33,
   "metadata": {},
   "outputs": [
    {
     "data": {
      "text/plain": [
       "Text(0, 0.5, 'Частота')"
      ]
     },
     "execution_count": 33,
     "metadata": {},
     "output_type": "execute_result"
    },
    {
     "data": {
      "image/png": "[encoded data removed]",
      "text/plain": [
       "<Figure size 1152x648 with 1 Axes>"
      ]
     },
     "metadata": {
      "needs_background": "light"
     },
     "output_type": "display_data"
    }
   ],
   "source": [
    "hist_range = (0,10000)\n",
    "hist_bins = 25\n",
    "ticks = pd.cut(hist_range, bins=hist_bins, labels=False, retbins=True, right=False)[1]\n",
    "\n",
    "visits.query('session_lenght > 0')['session_lenght'].plot(kind='hist', figsize=(16,9), \n",
    "                                                          bins=hist_bins, range=hist_range, grid=True)\n",
    "visits.query('session_lenght > 0 & device == \"desktop\"')['session_lenght'].plot(kind='hist', figsize=(16,9), \n",
    "                                                                                bins=hist_bins, range=hist_range, grid=True)\n",
    "visits.query('session_lenght > 0 & device == \"touch\"')['session_lenght'].plot(kind='hist', figsize=(16,9), \n",
    "                                                                                bins=hist_bins, range=hist_range, grid=True)\n",
    "plt.xticks(ticks)\n",
    "plt.legend(['Все','Настольные компьютеры','Мобильные платформы'])\n",
    "plt.title('Распределение длительности сессий', fontsize=18)\n",
    "plt.xlabel('Длительность, сек', fontsize=14)\n",
    "plt.ylabel('Частота', fontsize=14)"
   ]
  },
  {
   "cell_type": "markdown",
   "metadata": {},
   "source": [
    "На графике отчетливо видно что большинство сессий завершается в течении 10 минут"
   ]
  },
  {
   "cell_type": "markdown",
   "metadata": {},
   "source": [
    "### Retention rate<a id=\"stage_3_visitors_RT\"></a>"
   ]
  },
  {
   "cell_type": "markdown",
   "metadata": {},
   "source": [
    "Для расчета коэффициента удержания нам понадобится разделить всех пользователей на когорты, в данном случае объединяющим фактором будет месяц первого входа в систему, рассчитаем его"
   ]
  },
  {
   "cell_type": "code",
   "execution_count": 34,
   "metadata": {},
   "outputs": [
    {
     "data": {
      "text/html": [
       "<div>\n",
       "<style scoped>\n",
       "    .dataframe tbody tr th:only-of-type {\n",
       "        vertical-align: middle;\n",
       "    }\n",
       "\n",
       "    .dataframe tbody tr th {\n",
       "        vertical-align: top;\n",
       "    }\n",
       "\n",
       "    .dataframe thead th {\n",
       "        text-align: right;\n",
       "    }\n",
       "</style>\n",
       "<table border=\"1\" class=\"dataframe\">\n",
       "  <thead>\n",
       "    <tr style=\"text-align: right;\">\n",
       "      <th></th>\n",
       "      <th>uid</th>\n",
       "      <th>first_activity</th>\n",
       "    </tr>\n",
       "  </thead>\n",
       "  <tbody>\n",
       "    <tr>\n",
       "      <td>0</td>\n",
       "      <td>11863502262781</td>\n",
       "      <td>2018-03-01 17:27:00</td>\n",
       "    </tr>\n",
       "    <tr>\n",
       "      <td>1</td>\n",
       "      <td>49537067089222</td>\n",
       "      <td>2018-02-06 15:55:00</td>\n",
       "    </tr>\n",
       "    <tr>\n",
       "      <td>2</td>\n",
       "      <td>297729379853735</td>\n",
       "      <td>2017-06-07 18:47:00</td>\n",
       "    </tr>\n",
       "    <tr>\n",
       "      <td>3</td>\n",
       "      <td>313578113262317</td>\n",
       "      <td>2017-09-18 22:49:00</td>\n",
       "    </tr>\n",
       "    <tr>\n",
       "      <td>4</td>\n",
       "      <td>325320750514679</td>\n",
       "      <td>2017-09-30 14:29:00</td>\n",
       "    </tr>\n",
       "  </tbody>\n",
       "</table>\n",
       "</div>"
      ],
      "text/plain": [
       "               uid      first_activity\n",
       "0   11863502262781 2018-03-01 17:27:00\n",
       "1   49537067089222 2018-02-06 15:55:00\n",
       "2  297729379853735 2017-06-07 18:47:00\n",
       "3  313578113262317 2017-09-18 22:49:00\n",
       "4  325320750514679 2017-09-30 14:29:00"
      ]
     },
     "execution_count": 34,
     "metadata": {},
     "output_type": "execute_result"
    }
   ],
   "source": [
    "first_activity = visits.pivot_table(index='uid', values='start_ts', aggfunc='min').reset_index()\n",
    "first_activity.columns = ['uid', 'first_activity']\n",
    "first_activity.head()"
   ]
  },
  {
   "cell_type": "markdown",
   "metadata": {},
   "source": [
    "Добавим этот столбец в основную таблицу и выделим из него месяц"
   ]
  },
  {
   "cell_type": "code",
   "execution_count": 35,
   "metadata": {},
   "outputs": [],
   "source": [
    "visits = visits.merge(first_activity, on='uid', how='left')\n",
    "visits['first_activity_month'] = visits['first_activity'].astype('datetime64[M]')"
   ]
  },
  {
   "cell_type": "markdown",
   "metadata": {},
   "source": [
    "Рассчитаем на каком месяце активности пользователя была начата сессия"
   ]
  },
  {
   "cell_type": "code",
   "execution_count": 36,
   "metadata": {},
   "outputs": [],
   "source": [
    "visits['lifetime'] = (visits['start_ts'] - visits['first_activity']) / np.timedelta64(1,'M')\n",
    "visits['lifetime'] = visits['lifetime'].round().astype('int')"
   ]
  },
  {
   "cell_type": "markdown",
   "metadata": {},
   "source": [
    "Поделим все сессии на когорты"
   ]
  },
  {
   "cell_type": "code",
   "execution_count": 37,
   "metadata": {},
   "outputs": [
    {
     "data": {
      "text/html": [
       "<div>\n",
       "<style scoped>\n",
       "    .dataframe tbody tr th:only-of-type {\n",
       "        vertical-align: middle;\n",
       "    }\n",
       "\n",
       "    .dataframe tbody tr th {\n",
       "        vertical-align: top;\n",
       "    }\n",
       "\n",
       "    .dataframe thead th {\n",
       "        text-align: right;\n",
       "    }\n",
       "</style>\n",
       "<table border=\"1\" class=\"dataframe\">\n",
       "  <thead>\n",
       "    <tr style=\"text-align: right;\">\n",
       "      <th></th>\n",
       "      <th>device</th>\n",
       "      <th>first_activity_month</th>\n",
       "      <th>lifetime</th>\n",
       "      <th>un_users_cnt</th>\n",
       "    </tr>\n",
       "  </thead>\n",
       "  <tbody>\n",
       "    <tr>\n",
       "      <td>0</td>\n",
       "      <td>desktop</td>\n",
       "      <td>2017-06-01</td>\n",
       "      <td>0</td>\n",
       "      <td>9762</td>\n",
       "    </tr>\n",
       "    <tr>\n",
       "      <td>1</td>\n",
       "      <td>desktop</td>\n",
       "      <td>2017-06-01</td>\n",
       "      <td>1</td>\n",
       "      <td>791</td>\n",
       "    </tr>\n",
       "    <tr>\n",
       "      <td>2</td>\n",
       "      <td>desktop</td>\n",
       "      <td>2017-06-01</td>\n",
       "      <td>2</td>\n",
       "      <td>589</td>\n",
       "    </tr>\n",
       "    <tr>\n",
       "      <td>3</td>\n",
       "      <td>desktop</td>\n",
       "      <td>2017-06-01</td>\n",
       "      <td>3</td>\n",
       "      <td>672</td>\n",
       "    </tr>\n",
       "    <tr>\n",
       "      <td>4</td>\n",
       "      <td>desktop</td>\n",
       "      <td>2017-06-01</td>\n",
       "      <td>4</td>\n",
       "      <td>750</td>\n",
       "    </tr>\n",
       "  </tbody>\n",
       "</table>\n",
       "</div>"
      ],
      "text/plain": [
       "    device first_activity_month  lifetime  un_users_cnt\n",
       "0  desktop           2017-06-01         0          9762\n",
       "1  desktop           2017-06-01         1           791\n",
       "2  desktop           2017-06-01         2           589\n",
       "3  desktop           2017-06-01         3           672\n",
       "4  desktop           2017-06-01         4           750"
      ]
     },
     "execution_count": 37,
     "metadata": {},
     "output_type": "execute_result"
    }
   ],
   "source": [
    "cohorts_sessions = visits.pivot_table(index=['device','first_activity_month','lifetime'], values='uid', \n",
    "                                      aggfunc=lambda x: len(x.unique())).reset_index()\n",
    "cohorts_sessions.columns = ['device','first_activity_month','lifetime','un_users_cnt']\n",
    "cohorts_sessions.head()"
   ]
  },
  {
   "cell_type": "markdown",
   "metadata": {},
   "source": [
    "Среди когорт выделим первый период (нулевой период активности)"
   ]
  },
  {
   "cell_type": "code",
   "execution_count": 38,
   "metadata": {},
   "outputs": [
    {
     "data": {
      "text/html": [
       "<div>\n",
       "<style scoped>\n",
       "    .dataframe tbody tr th:only-of-type {\n",
       "        vertical-align: middle;\n",
       "    }\n",
       "\n",
       "    .dataframe tbody tr th {\n",
       "        vertical-align: top;\n",
       "    }\n",
       "\n",
       "    .dataframe thead th {\n",
       "        text-align: right;\n",
       "    }\n",
       "</style>\n",
       "<table border=\"1\" class=\"dataframe\">\n",
       "  <thead>\n",
       "    <tr style=\"text-align: right;\">\n",
       "      <th></th>\n",
       "      <th>device</th>\n",
       "      <th>first_activity_month</th>\n",
       "      <th>un_users_cnt_0_lft</th>\n",
       "    </tr>\n",
       "  </thead>\n",
       "  <tbody>\n",
       "    <tr>\n",
       "      <td>0</td>\n",
       "      <td>desktop</td>\n",
       "      <td>2017-06-01</td>\n",
       "      <td>9762</td>\n",
       "    </tr>\n",
       "    <tr>\n",
       "      <td>13</td>\n",
       "      <td>desktop</td>\n",
       "      <td>2017-07-01</td>\n",
       "      <td>9312</td>\n",
       "    </tr>\n",
       "    <tr>\n",
       "      <td>25</td>\n",
       "      <td>desktop</td>\n",
       "      <td>2017-08-01</td>\n",
       "      <td>7456</td>\n",
       "    </tr>\n",
       "    <tr>\n",
       "      <td>36</td>\n",
       "      <td>desktop</td>\n",
       "      <td>2017-09-01</td>\n",
       "      <td>11739</td>\n",
       "    </tr>\n",
       "    <tr>\n",
       "      <td>46</td>\n",
       "      <td>desktop</td>\n",
       "      <td>2017-10-01</td>\n",
       "      <td>18454</td>\n",
       "    </tr>\n",
       "  </tbody>\n",
       "</table>\n",
       "</div>"
      ],
      "text/plain": [
       "     device first_activity_month  un_users_cnt_0_lft\n",
       "0   desktop           2017-06-01                9762\n",
       "13  desktop           2017-07-01                9312\n",
       "25  desktop           2017-08-01                7456\n",
       "36  desktop           2017-09-01               11739\n",
       "46  desktop           2017-10-01               18454"
      ]
     },
     "execution_count": 38,
     "metadata": {},
     "output_type": "execute_result"
    }
   ],
   "source": [
    "first_months_users = cohorts_sessions[cohorts_sessions['lifetime'] == 0][['device','first_activity_month','un_users_cnt']]\n",
    "first_months_users.columns = ['device','first_activity_month','un_users_cnt_0_lft']\n",
    "first_months_users.head()"
   ]
  },
  {
   "cell_type": "markdown",
   "metadata": {},
   "source": [
    "Добавим выделенные значения к основной таблице с когортами"
   ]
  },
  {
   "cell_type": "code",
   "execution_count": 39,
   "metadata": {},
   "outputs": [
    {
     "data": {
      "text/html": [
       "<div>\n",
       "<style scoped>\n",
       "    .dataframe tbody tr th:only-of-type {\n",
       "        vertical-align: middle;\n",
       "    }\n",
       "\n",
       "    .dataframe tbody tr th {\n",
       "        vertical-align: top;\n",
       "    }\n",
       "\n",
       "    .dataframe thead th {\n",
       "        text-align: right;\n",
       "    }\n",
       "</style>\n",
       "<table border=\"1\" class=\"dataframe\">\n",
       "  <thead>\n",
       "    <tr style=\"text-align: right;\">\n",
       "      <th></th>\n",
       "      <th>device</th>\n",
       "      <th>first_activity_month</th>\n",
       "      <th>lifetime</th>\n",
       "      <th>un_users_cnt</th>\n",
       "      <th>un_users_cnt_0_lft</th>\n",
       "    </tr>\n",
       "  </thead>\n",
       "  <tbody>\n",
       "    <tr>\n",
       "      <td>0</td>\n",
       "      <td>desktop</td>\n",
       "      <td>2017-06-01</td>\n",
       "      <td>0</td>\n",
       "      <td>9762</td>\n",
       "      <td>9762</td>\n",
       "    </tr>\n",
       "    <tr>\n",
       "      <td>1</td>\n",
       "      <td>desktop</td>\n",
       "      <td>2017-06-01</td>\n",
       "      <td>1</td>\n",
       "      <td>791</td>\n",
       "      <td>9762</td>\n",
       "    </tr>\n",
       "    <tr>\n",
       "      <td>2</td>\n",
       "      <td>desktop</td>\n",
       "      <td>2017-06-01</td>\n",
       "      <td>2</td>\n",
       "      <td>589</td>\n",
       "      <td>9762</td>\n",
       "    </tr>\n",
       "    <tr>\n",
       "      <td>3</td>\n",
       "      <td>desktop</td>\n",
       "      <td>2017-06-01</td>\n",
       "      <td>3</td>\n",
       "      <td>672</td>\n",
       "      <td>9762</td>\n",
       "    </tr>\n",
       "    <tr>\n",
       "      <td>4</td>\n",
       "      <td>desktop</td>\n",
       "      <td>2017-06-01</td>\n",
       "      <td>4</td>\n",
       "      <td>750</td>\n",
       "      <td>9762</td>\n",
       "    </tr>\n",
       "  </tbody>\n",
       "</table>\n",
       "</div>"
      ],
      "text/plain": [
       "    device first_activity_month  lifetime  un_users_cnt  un_users_cnt_0_lft\n",
       "0  desktop           2017-06-01         0          9762                9762\n",
       "1  desktop           2017-06-01         1           791                9762\n",
       "2  desktop           2017-06-01         2           589                9762\n",
       "3  desktop           2017-06-01         3           672                9762\n",
       "4  desktop           2017-06-01         4           750                9762"
      ]
     },
     "execution_count": 39,
     "metadata": {},
     "output_type": "execute_result"
    }
   ],
   "source": [
    "cohorts_sessions = cohorts_sessions.merge(first_months_users, on=['device','first_activity_month'], how='left')\n",
    "cohorts_sessions.head()"
   ]
  },
  {
   "cell_type": "markdown",
   "metadata": {},
   "source": [
    "Рассчитаем коэффициент удержания для каждой когорты за каждый месяц жизни"
   ]
  },
  {
   "cell_type": "code",
   "execution_count": 40,
   "metadata": {},
   "outputs": [
    {
     "data": {
      "text/html": [
       "<div>\n",
       "<style scoped>\n",
       "    .dataframe tbody tr th:only-of-type {\n",
       "        vertical-align: middle;\n",
       "    }\n",
       "\n",
       "    .dataframe tbody tr th {\n",
       "        vertical-align: top;\n",
       "    }\n",
       "\n",
       "    .dataframe thead th {\n",
       "        text-align: right;\n",
       "    }\n",
       "</style>\n",
       "<table border=\"1\" class=\"dataframe\">\n",
       "  <thead>\n",
       "    <tr style=\"text-align: right;\">\n",
       "      <th></th>\n",
       "      <th>device</th>\n",
       "      <th>first_activity_month</th>\n",
       "      <th>lifetime</th>\n",
       "      <th>un_users_cnt</th>\n",
       "      <th>un_users_cnt_0_lft</th>\n",
       "      <th>retention</th>\n",
       "    </tr>\n",
       "  </thead>\n",
       "  <tbody>\n",
       "    <tr>\n",
       "      <td>0</td>\n",
       "      <td>desktop</td>\n",
       "      <td>2017-06-01</td>\n",
       "      <td>0</td>\n",
       "      <td>9762</td>\n",
       "      <td>9762</td>\n",
       "      <td>1.000000</td>\n",
       "    </tr>\n",
       "    <tr>\n",
       "      <td>1</td>\n",
       "      <td>desktop</td>\n",
       "      <td>2017-06-01</td>\n",
       "      <td>1</td>\n",
       "      <td>791</td>\n",
       "      <td>9762</td>\n",
       "      <td>0.081028</td>\n",
       "    </tr>\n",
       "    <tr>\n",
       "      <td>2</td>\n",
       "      <td>desktop</td>\n",
       "      <td>2017-06-01</td>\n",
       "      <td>2</td>\n",
       "      <td>589</td>\n",
       "      <td>9762</td>\n",
       "      <td>0.060336</td>\n",
       "    </tr>\n",
       "    <tr>\n",
       "      <td>3</td>\n",
       "      <td>desktop</td>\n",
       "      <td>2017-06-01</td>\n",
       "      <td>3</td>\n",
       "      <td>672</td>\n",
       "      <td>9762</td>\n",
       "      <td>0.068838</td>\n",
       "    </tr>\n",
       "    <tr>\n",
       "      <td>4</td>\n",
       "      <td>desktop</td>\n",
       "      <td>2017-06-01</td>\n",
       "      <td>4</td>\n",
       "      <td>750</td>\n",
       "      <td>9762</td>\n",
       "      <td>0.076829</td>\n",
       "    </tr>\n",
       "  </tbody>\n",
       "</table>\n",
       "</div>"
      ],
      "text/plain": [
       "    device first_activity_month  lifetime  un_users_cnt  un_users_cnt_0_lft  \\\n",
       "0  desktop           2017-06-01         0          9762                9762   \n",
       "1  desktop           2017-06-01         1           791                9762   \n",
       "2  desktop           2017-06-01         2           589                9762   \n",
       "3  desktop           2017-06-01         3           672                9762   \n",
       "4  desktop           2017-06-01         4           750                9762   \n",
       "\n",
       "   retention  \n",
       "0   1.000000  \n",
       "1   0.081028  \n",
       "2   0.060336  \n",
       "3   0.068838  \n",
       "4   0.076829  "
      ]
     },
     "execution_count": 40,
     "metadata": {},
     "output_type": "execute_result"
    }
   ],
   "source": [
    "cohorts_sessions['retention'] = cohorts_sessions['un_users_cnt'] / cohorts_sessions['un_users_cnt_0_lft']\n",
    "cohorts_sessions.head()"
   ]
  },
  {
   "cell_type": "markdown",
   "metadata": {},
   "source": [
    "Построим сводные таблицы:\n",
    "\n",
    "* `retention_pivot_desktop` - сессии на настольных компьютерах\n",
    "* `retention_pivot_touch` - сессии на мобильных устройствах"
   ]
  },
  {
   "cell_type": "code",
   "execution_count": 41,
   "metadata": {},
   "outputs": [],
   "source": [
    "retention_pivot_desktop = cohorts_sessions.query('device == \"desktop\"').pivot_table(index='first_activity_month', \n",
    "                                                                                    columns='lifetime', values='retention')\n",
    "retention_pivot_touch = cohorts_sessions.query('device == \"touch\"').pivot_table(index='first_activity_month', \n",
    "                                                                                columns='lifetime', values='retention')"
   ]
  },
  {
   "cell_type": "markdown",
   "metadata": {},
   "source": [
    "И отобразим карты теплоты"
   ]
  },
  {
   "cell_type": "code",
   "execution_count": 42,
   "metadata": {},
   "outputs": [
    {
     "data": {
      "text/plain": [
       "Text(123.0, 0.5, 'Когорта')"
      ]
     },
     "execution_count": 42,
     "metadata": {},
     "output_type": "execute_result"
    },
    {
     "data": {
      "image/png": "[encoded data removed]",
      "text/plain": [
       "<Figure size 1152x648 with 2 Axes>"
      ]
     },
     "metadata": {
      "needs_background": "light"
     },
     "output_type": "display_data"
    }
   ],
   "source": [
    "plt.figure(figsize=(16,9))\n",
    "sns.heatmap(retention_pivot_desktop, annot=True, linewidths=1, fmt='.1%', linecolor='gray', \n",
    "            yticklabels=retention_pivot_desktop.index.date, vmax=0.15)\n",
    "plt.title('Retention rate по месяцам (настольные компьютеры)', fontsize=18)\n",
    "plt.xlabel('Месяц жизни', fontsize=14)\n",
    "plt.ylabel('Когорта', fontsize=14)"
   ]
  },
  {
   "cell_type": "code",
   "execution_count": 43,
   "metadata": {},
   "outputs": [
    {
     "data": {
      "text/plain": [
       "Text(123.0, 0.5, 'Когорта')"
      ]
     },
     "execution_count": 43,
     "metadata": {},
     "output_type": "execute_result"
    },
    {
     "data": {
      "image/png": "[encoded data removed]",
      "text/plain": [
       "<Figure size 1152x648 with 2 Axes>"
      ]
     },
     "metadata": {
      "needs_background": "light"
     },
     "output_type": "display_data"
    }
   ],
   "source": [
    "plt.figure(figsize=(16,9))\n",
    "sns.heatmap(retention_pivot_touch, annot=True, linewidths=1, fmt='.1%', linecolor='gray', \n",
    "            yticklabels=retention_pivot_touch.index.date, vmax=0.15)\n",
    "plt.title('Retention rate по месяцам (мобильные платформы)', fontsize=18)\n",
    "plt.xlabel('Месяц жизни', fontsize=14)\n",
    "plt.ylabel('Когорта', fontsize=14)"
   ]
  },
  {
   "cell_type": "markdown",
   "metadata": {},
   "source": [
    "В течении года коэффициент удержания снижается, но наблюдается его увеличение во время новогодних праздников (декабрь-январь). В среднем коэффициент удержания среди пользователей которые используют настольные компьютеры выше чем на мобильных платформах"
   ]
  },
  {
   "cell_type": "markdown",
   "metadata": {},
   "source": [
    "## Заказы<a id=\"stage_3_orders\"></a>"
   ]
  },
  {
   "cell_type": "markdown",
   "metadata": {},
   "source": [
    "В таблице `orders` размещается информация о заказах совершенных на платформе: дата, выручка и идентификатор пользователя"
   ]
  },
  {
   "cell_type": "markdown",
   "metadata": {},
   "source": [
    "### Выручка<a id=\"stage_3_orders_revenue\"></a>"
   ]
  },
  {
   "cell_type": "markdown",
   "metadata": {},
   "source": [
    "За каждый заказ, совершенный с платформы, Яндекс.Афиша получает определенный процент от суммы заказа, всего, за год, выручка составила"
   ]
  },
  {
   "cell_type": "code",
   "execution_count": 44,
   "metadata": {},
   "outputs": [
    {
     "data": {
      "text/plain": [
       "252057.2"
      ]
     },
     "execution_count": 44,
     "metadata": {},
     "output_type": "execute_result"
    }
   ],
   "source": [
    "orders['revenue'].sum().round(2)"
   ]
  },
  {
   "cell_type": "markdown",
   "metadata": {},
   "source": [
    "Выведем основные статистические показатели столбца `revenue`"
   ]
  },
  {
   "cell_type": "code",
   "execution_count": 45,
   "metadata": {},
   "outputs": [
    {
     "data": {
      "text/plain": [
       "count    50415.00\n",
       "mean         5.00\n",
       "std         21.82\n",
       "min          0.00\n",
       "25%          1.22\n",
       "50%          2.50\n",
       "75%          4.89\n",
       "max       2633.28\n",
       "Name: revenue, dtype: float64"
      ]
     },
     "execution_count": 45,
     "metadata": {},
     "output_type": "execute_result"
    }
   ],
   "source": [
    "orders['revenue'].describe().round(2)"
   ]
  },
  {
   "cell_type": "markdown",
   "metadata": {},
   "source": [
    "Всего в таблице 50415 покупок, **средний чек составляет 5.00** а **медианный 2.50**, распределение по перцентилям показывает что 75% покупок укладываются в средний чек, построим распределение на гистограмме"
   ]
  },
  {
   "cell_type": "markdown",
   "metadata": {},
   "source": [
    "Определим диапазоны в которых расположены наблюдения"
   ]
  },
  {
   "cell_type": "code",
   "execution_count": 46,
   "metadata": {},
   "outputs": [
    {
     "data": {
      "text/html": [
       "<div>\n",
       "<style scoped>\n",
       "    .dataframe tbody tr th:only-of-type {\n",
       "        vertical-align: middle;\n",
       "    }\n",
       "\n",
       "    .dataframe tbody tr th {\n",
       "        vertical-align: top;\n",
       "    }\n",
       "\n",
       "    .dataframe thead th {\n",
       "        text-align: right;\n",
       "    }\n",
       "</style>\n",
       "<table border=\"1\" class=\"dataframe\">\n",
       "  <thead>\n",
       "    <tr style=\"text-align: right;\">\n",
       "      <th></th>\n",
       "      <th>index</th>\n",
       "    </tr>\n",
       "    <tr>\n",
       "      <th>revenue</th>\n",
       "      <th></th>\n",
       "    </tr>\n",
       "  </thead>\n",
       "  <tbody>\n",
       "    <tr>\n",
       "      <td>(-2.633, 105.331]</td>\n",
       "      <td>50306</td>\n",
       "    </tr>\n",
       "    <tr>\n",
       "      <td>(105.331, 210.662]</td>\n",
       "      <td>74</td>\n",
       "    </tr>\n",
       "    <tr>\n",
       "      <td>(210.662, 315.994]</td>\n",
       "      <td>11</td>\n",
       "    </tr>\n",
       "    <tr>\n",
       "      <td>(315.994, 421.325]</td>\n",
       "      <td>9</td>\n",
       "    </tr>\n",
       "    <tr>\n",
       "      <td>(421.325, 526.656]</td>\n",
       "      <td>2</td>\n",
       "    </tr>\n",
       "    <tr>\n",
       "      <td>(526.656, 631.987]</td>\n",
       "      <td>3</td>\n",
       "    </tr>\n",
       "    <tr>\n",
       "      <td>(631.987, 737.318]</td>\n",
       "      <td>1</td>\n",
       "    </tr>\n",
       "    <tr>\n",
       "      <td>(842.65, 947.981]</td>\n",
       "      <td>1</td>\n",
       "    </tr>\n",
       "    <tr>\n",
       "      <td>(947.981, 1053.312]</td>\n",
       "      <td>1</td>\n",
       "    </tr>\n",
       "    <tr>\n",
       "      <td>(1053.312, 1158.643]</td>\n",
       "      <td>3</td>\n",
       "    </tr>\n",
       "    <tr>\n",
       "      <td>(1158.643, 1263.974]</td>\n",
       "      <td>3</td>\n",
       "    </tr>\n",
       "    <tr>\n",
       "      <td>(2527.949, 2633.28]</td>\n",
       "      <td>1</td>\n",
       "    </tr>\n",
       "  </tbody>\n",
       "</table>\n",
       "</div>"
      ],
      "text/plain": [
       "                      index\n",
       "revenue                    \n",
       "(-2.633, 105.331]     50306\n",
       "(105.331, 210.662]       74\n",
       "(210.662, 315.994]       11\n",
       "(315.994, 421.325]        9\n",
       "(421.325, 526.656]        2\n",
       "(526.656, 631.987]        3\n",
       "(631.987, 737.318]        1\n",
       "(842.65, 947.981]         1\n",
       "(947.981, 1053.312]       1\n",
       "(1053.312, 1158.643]      3\n",
       "(1158.643, 1263.974]      3\n",
       "(2527.949, 2633.28]       1"
      ]
     },
     "execution_count": 46,
     "metadata": {},
     "output_type": "execute_result"
    }
   ],
   "source": [
    "pd.cut(orders['revenue'], bins=25).reset_index().groupby('revenue').count().query('index > 0')"
   ]
  },
  {
   "cell_type": "markdown",
   "metadata": {},
   "source": [
    "Большая часть покупок (99.78%) помещается в первой корзине - от 0 до 106, этот диапазон мы и будем использовать для вывода распределения"
   ]
  },
  {
   "cell_type": "code",
   "execution_count": 47,
   "metadata": {},
   "outputs": [
    {
     "data": {
      "text/plain": [
       "Text(0, 0.5, 'Частота')"
      ]
     },
     "execution_count": 47,
     "metadata": {},
     "output_type": "execute_result"
    },
    {
     "data": {
      "image/png": "[encoded data removed]",
      "text/plain": [
       "<Figure size 1152x648 with 1 Axes>"
      ]
     },
     "metadata": {
      "needs_background": "light"
     },
     "output_type": "display_data"
    }
   ],
   "source": [
    "hist_bins = 25\n",
    "hist_range = (0,106)\n",
    "ticks = pd.cut(hist_range, bins=hist_bins, labels=False, retbins=True, right=False)[1]\n",
    "\n",
    "orders['revenue'].plot(kind='hist', bins=25, range=hist_range, grid=True, figsize=(16,9))\n",
    "plt.xticks(ticks)\n",
    "plt.title('Распределение выручки по заказам', fontsize=18)\n",
    "plt.xlabel('Выручка', fontsize=14)\n",
    "plt.ylabel('Частота', fontsize=14)"
   ]
  },
  {
   "cell_type": "markdown",
   "metadata": {},
   "source": [
    "Построим суммарное распределение выручки по месяцам, для этого добавим в таблицу столбец с месяцем покупки"
   ]
  },
  {
   "cell_type": "code",
   "execution_count": 48,
   "metadata": {},
   "outputs": [],
   "source": [
    "orders['buy_month'] = orders['buy_ts'].astype('datetime64[M]')"
   ]
  },
  {
   "cell_type": "code",
   "execution_count": 49,
   "metadata": {},
   "outputs": [
    {
     "data": {
      "text/plain": [
       "Text(0, 0.5, 'Выручка')"
      ]
     },
     "execution_count": 49,
     "metadata": {},
     "output_type": "execute_result"
    },
    {
     "data": {
      "image/png": "[encoded data removed]",
      "text/plain": [
       "<Figure size 1152x648 with 1 Axes>"
      ]
     },
     "metadata": {
      "needs_background": "light"
     },
     "output_type": "display_data"
    }
   ],
   "source": [
    "orders_per_month = orders.pivot_table(index='buy_month', values='revenue', aggfunc='sum').reset_index()\n",
    "orders_per_month['buy_month'] = orders_per_month['buy_month'].dt.date\n",
    "orders_per_month.plot(kind='bar', x='buy_month', y='revenue', figsize=(16,9), legend=False, grid=True, rot=0)\n",
    "plt.title('Распределение выручки по месяцам', fontsize=18)\n",
    "plt.xlabel('Месяц', fontsize=14)\n",
    "plt.ylabel('Выручка', fontsize=14)"
   ]
  },
  {
   "cell_type": "markdown",
   "metadata": {},
   "source": [
    "В конце года, выручка значительно возрастает\n",
    "\n",
    "Согласно описанию данных, в нашем распоряжении должна быть информация только по май 2018 года, на графике мы видим сведения за июнь 2018, выведем их на экран"
   ]
  },
  {
   "cell_type": "code",
   "execution_count": 50,
   "metadata": {},
   "outputs": [
    {
     "data": {
      "text/html": [
       "<div>\n",
       "<style scoped>\n",
       "    .dataframe tbody tr th:only-of-type {\n",
       "        vertical-align: middle;\n",
       "    }\n",
       "\n",
       "    .dataframe tbody tr th {\n",
       "        vertical-align: top;\n",
       "    }\n",
       "\n",
       "    .dataframe thead th {\n",
       "        text-align: right;\n",
       "    }\n",
       "</style>\n",
       "<table border=\"1\" class=\"dataframe\">\n",
       "  <thead>\n",
       "    <tr style=\"text-align: right;\">\n",
       "      <th></th>\n",
       "      <th>buy_ts</th>\n",
       "      <th>revenue</th>\n",
       "      <th>uid</th>\n",
       "      <th>buy_month</th>\n",
       "    </tr>\n",
       "  </thead>\n",
       "  <tbody>\n",
       "    <tr>\n",
       "      <td>50414</td>\n",
       "      <td>2018-06-01 00:02:00</td>\n",
       "      <td>3.42</td>\n",
       "      <td>83872787173869366</td>\n",
       "      <td>2018-06-01</td>\n",
       "    </tr>\n",
       "  </tbody>\n",
       "</table>\n",
       "</div>"
      ],
      "text/plain": [
       "                   buy_ts  revenue                uid  buy_month\n",
       "50414 2018-06-01 00:02:00     3.42  83872787173869366 2018-06-01"
      ]
     },
     "execution_count": 50,
     "metadata": {},
     "output_type": "execute_result"
    }
   ],
   "source": [
    "orders.query('buy_month == \"2018-06-01\"')"
   ]
  },
  {
   "cell_type": "markdown",
   "metadata": {},
   "source": [
    "Один заказ от пользователя который совершил покупку в 00:02:00 2018-06-01, для того чтобы эта запись не исказила наш когортный анализ - удалим ее из таблицы"
   ]
  },
  {
   "cell_type": "code",
   "execution_count": 51,
   "metadata": {},
   "outputs": [],
   "source": [
    "orders = orders.drop(orders.query('buy_month == \"2018-06-01\"').index).reset_index(drop=True)"
   ]
  },
  {
   "cell_type": "markdown",
   "metadata": {},
   "source": [
    "Средняя выручка в месяц составляет"
   ]
  },
  {
   "cell_type": "code",
   "execution_count": 52,
   "metadata": {},
   "outputs": [
    {
     "data": {
      "text/plain": [
       "19389.02"
      ]
     },
     "execution_count": 52,
     "metadata": {},
     "output_type": "execute_result"
    }
   ],
   "source": [
    "orders_per_month['revenue'].mean().round(2)"
   ]
  },
  {
   "cell_type": "code",
   "execution_count": 53,
   "metadata": {},
   "outputs": [
    {
     "data": {
      "text/html": [
       "<div>\n",
       "<style scoped>\n",
       "    .dataframe tbody tr th:only-of-type {\n",
       "        vertical-align: middle;\n",
       "    }\n",
       "\n",
       "    .dataframe tbody tr th {\n",
       "        vertical-align: top;\n",
       "    }\n",
       "\n",
       "    .dataframe thead th {\n",
       "        text-align: right;\n",
       "    }\n",
       "</style>\n",
       "<table border=\"1\" class=\"dataframe\">\n",
       "  <thead>\n",
       "    <tr style=\"text-align: right;\">\n",
       "      <th></th>\n",
       "      <th>buy_month</th>\n",
       "      <th>revenue</th>\n",
       "      <th>uid</th>\n",
       "    </tr>\n",
       "  </thead>\n",
       "  <tbody>\n",
       "    <tr>\n",
       "      <td>0</td>\n",
       "      <td>2017-06-01</td>\n",
       "      <td>4.060106</td>\n",
       "      <td>2354</td>\n",
       "    </tr>\n",
       "    <tr>\n",
       "      <td>1</td>\n",
       "      <td>2017-07-01</td>\n",
       "      <td>5.306589</td>\n",
       "      <td>2363</td>\n",
       "    </tr>\n",
       "    <tr>\n",
       "      <td>2</td>\n",
       "      <td>2017-08-01</td>\n",
       "      <td>4.847139</td>\n",
       "      <td>1807</td>\n",
       "    </tr>\n",
       "    <tr>\n",
       "      <td>3</td>\n",
       "      <td>2017-09-01</td>\n",
       "      <td>5.416448</td>\n",
       "      <td>3387</td>\n",
       "    </tr>\n",
       "    <tr>\n",
       "      <td>4</td>\n",
       "      <td>2017-10-01</td>\n",
       "      <td>4.928280</td>\n",
       "      <td>5679</td>\n",
       "    </tr>\n",
       "    <tr>\n",
       "      <td>5</td>\n",
       "      <td>2017-11-01</td>\n",
       "      <td>4.783518</td>\n",
       "      <td>5659</td>\n",
       "    </tr>\n",
       "    <tr>\n",
       "      <td>6</td>\n",
       "      <td>2017-12-01</td>\n",
       "      <td>5.852139</td>\n",
       "      <td>6218</td>\n",
       "    </tr>\n",
       "    <tr>\n",
       "      <td>7</td>\n",
       "      <td>2018-01-01</td>\n",
       "      <td>4.112927</td>\n",
       "      <td>4721</td>\n",
       "    </tr>\n",
       "    <tr>\n",
       "      <td>8</td>\n",
       "      <td>2018-02-01</td>\n",
       "      <td>4.840095</td>\n",
       "      <td>5281</td>\n",
       "    </tr>\n",
       "    <tr>\n",
       "      <td>9</td>\n",
       "      <td>2018-03-01</td>\n",
       "      <td>5.413930</td>\n",
       "      <td>5326</td>\n",
       "    </tr>\n",
       "    <tr>\n",
       "      <td>10</td>\n",
       "      <td>2018-04-01</td>\n",
       "      <td>5.150645</td>\n",
       "      <td>3273</td>\n",
       "    </tr>\n",
       "    <tr>\n",
       "      <td>11</td>\n",
       "      <td>2018-05-01</td>\n",
       "      <td>4.771279</td>\n",
       "      <td>4346</td>\n",
       "    </tr>\n",
       "  </tbody>\n",
       "</table>\n",
       "</div>"
      ],
      "text/plain": [
       "    buy_month   revenue   uid\n",
       "0  2017-06-01  4.060106  2354\n",
       "1  2017-07-01  5.306589  2363\n",
       "2  2017-08-01  4.847139  1807\n",
       "3  2017-09-01  5.416448  3387\n",
       "4  2017-10-01  4.928280  5679\n",
       "5  2017-11-01  4.783518  5659\n",
       "6  2017-12-01  5.852139  6218\n",
       "7  2018-01-01  4.112927  4721\n",
       "8  2018-02-01  4.840095  5281\n",
       "9  2018-03-01  5.413930  5326\n",
       "10 2018-04-01  5.150645  3273\n",
       "11 2018-05-01  4.771279  4346"
      ]
     },
     "execution_count": 53,
     "metadata": {},
     "output_type": "execute_result"
    }
   ],
   "source": [
    "revenue_per_month = orders.pivot_table(index='buy_month', values=['revenue','uid'], \n",
    "                                       aggfunc={'revenue':'mean','uid':'count'}).reset_index()\n",
    "revenue_per_month"
   ]
  },
  {
   "cell_type": "markdown",
   "metadata": {},
   "source": [
    "В течении года средний чек держится на одном уровне, но начиная с октября начинается рост ежемесячного количества покупок, он достигает своего пика в декабре (три месяца роста) и снижается только к середине весны (в апреле), на данный момент сомнений в сезонности спроса нет - с конца весны до середины осени спрос на Афише находится на своем минимуме"
   ]
  },
  {
   "cell_type": "markdown",
   "metadata": {},
   "source": [
    "### Время до первого заказа<a id=\"stage_3_orders_first\"></a>"
   ]
  },
  {
   "cell_type": "markdown",
   "metadata": {},
   "source": [
    "Рассчитаем дату первой покупки каждого пользователя"
   ]
  },
  {
   "cell_type": "code",
   "execution_count": 54,
   "metadata": {},
   "outputs": [],
   "source": [
    "first_buy = orders.pivot_table(index='uid', values='buy_ts', aggfunc='min').reset_index()\n",
    "first_buy.columns = ['uid', 'first_buy']"
   ]
  },
  {
   "cell_type": "markdown",
   "metadata": {},
   "source": [
    "Присоединим ее к основной таблице"
   ]
  },
  {
   "cell_type": "code",
   "execution_count": 55,
   "metadata": {},
   "outputs": [
    {
     "data": {
      "text/html": [
       "<div>\n",
       "<style scoped>\n",
       "    .dataframe tbody tr th:only-of-type {\n",
       "        vertical-align: middle;\n",
       "    }\n",
       "\n",
       "    .dataframe tbody tr th {\n",
       "        vertical-align: top;\n",
       "    }\n",
       "\n",
       "    .dataframe thead th {\n",
       "        text-align: right;\n",
       "    }\n",
       "</style>\n",
       "<table border=\"1\" class=\"dataframe\">\n",
       "  <thead>\n",
       "    <tr style=\"text-align: right;\">\n",
       "      <th></th>\n",
       "      <th>buy_ts</th>\n",
       "      <th>revenue</th>\n",
       "      <th>uid</th>\n",
       "      <th>buy_month</th>\n",
       "      <th>first_buy</th>\n",
       "    </tr>\n",
       "  </thead>\n",
       "  <tbody>\n",
       "    <tr>\n",
       "      <td>0</td>\n",
       "      <td>2017-06-01 00:10:00</td>\n",
       "      <td>17.00</td>\n",
       "      <td>10329302124590727494</td>\n",
       "      <td>2017-06-01</td>\n",
       "      <td>2017-06-01 00:10:00</td>\n",
       "    </tr>\n",
       "    <tr>\n",
       "      <td>1</td>\n",
       "      <td>2017-06-01 00:25:00</td>\n",
       "      <td>0.55</td>\n",
       "      <td>11627257723692907447</td>\n",
       "      <td>2017-06-01</td>\n",
       "      <td>2017-06-01 00:25:00</td>\n",
       "    </tr>\n",
       "    <tr>\n",
       "      <td>2</td>\n",
       "      <td>2017-06-01 00:27:00</td>\n",
       "      <td>0.37</td>\n",
       "      <td>17903680561304213844</td>\n",
       "      <td>2017-06-01</td>\n",
       "      <td>2017-06-01 00:27:00</td>\n",
       "    </tr>\n",
       "    <tr>\n",
       "      <td>3</td>\n",
       "      <td>2017-06-01 00:29:00</td>\n",
       "      <td>0.55</td>\n",
       "      <td>16109239769442553005</td>\n",
       "      <td>2017-06-01</td>\n",
       "      <td>2017-06-01 00:29:00</td>\n",
       "    </tr>\n",
       "    <tr>\n",
       "      <td>4</td>\n",
       "      <td>2017-06-01 07:58:00</td>\n",
       "      <td>0.37</td>\n",
       "      <td>14200605875248379450</td>\n",
       "      <td>2017-06-01</td>\n",
       "      <td>2017-06-01 07:58:00</td>\n",
       "    </tr>\n",
       "  </tbody>\n",
       "</table>\n",
       "</div>"
      ],
      "text/plain": [
       "               buy_ts  revenue                   uid  buy_month  \\\n",
       "0 2017-06-01 00:10:00    17.00  10329302124590727494 2017-06-01   \n",
       "1 2017-06-01 00:25:00     0.55  11627257723692907447 2017-06-01   \n",
       "2 2017-06-01 00:27:00     0.37  17903680561304213844 2017-06-01   \n",
       "3 2017-06-01 00:29:00     0.55  16109239769442553005 2017-06-01   \n",
       "4 2017-06-01 07:58:00     0.37  14200605875248379450 2017-06-01   \n",
       "\n",
       "            first_buy  \n",
       "0 2017-06-01 00:10:00  \n",
       "1 2017-06-01 00:25:00  \n",
       "2 2017-06-01 00:27:00  \n",
       "3 2017-06-01 00:29:00  \n",
       "4 2017-06-01 07:58:00  "
      ]
     },
     "execution_count": 55,
     "metadata": {},
     "output_type": "execute_result"
    }
   ],
   "source": [
    "orders = orders.merge(first_buy, on='uid', how='left')\n",
    "orders.head()"
   ]
  },
  {
   "cell_type": "markdown",
   "metadata": {},
   "source": [
    "Добавим ранее рассчитанную дату первой активности пользователя"
   ]
  },
  {
   "cell_type": "code",
   "execution_count": 56,
   "metadata": {},
   "outputs": [
    {
     "data": {
      "text/html": [
       "<div>\n",
       "<style scoped>\n",
       "    .dataframe tbody tr th:only-of-type {\n",
       "        vertical-align: middle;\n",
       "    }\n",
       "\n",
       "    .dataframe tbody tr th {\n",
       "        vertical-align: top;\n",
       "    }\n",
       "\n",
       "    .dataframe thead th {\n",
       "        text-align: right;\n",
       "    }\n",
       "</style>\n",
       "<table border=\"1\" class=\"dataframe\">\n",
       "  <thead>\n",
       "    <tr style=\"text-align: right;\">\n",
       "      <th></th>\n",
       "      <th>buy_ts</th>\n",
       "      <th>revenue</th>\n",
       "      <th>uid</th>\n",
       "      <th>buy_month</th>\n",
       "      <th>first_buy</th>\n",
       "      <th>first_activity</th>\n",
       "    </tr>\n",
       "  </thead>\n",
       "  <tbody>\n",
       "    <tr>\n",
       "      <td>0</td>\n",
       "      <td>2017-06-01 00:10:00</td>\n",
       "      <td>17.00</td>\n",
       "      <td>10329302124590727494</td>\n",
       "      <td>2017-06-01</td>\n",
       "      <td>2017-06-01 00:10:00</td>\n",
       "      <td>2017-06-01 00:09:00</td>\n",
       "    </tr>\n",
       "    <tr>\n",
       "      <td>1</td>\n",
       "      <td>2017-06-01 00:25:00</td>\n",
       "      <td>0.55</td>\n",
       "      <td>11627257723692907447</td>\n",
       "      <td>2017-06-01</td>\n",
       "      <td>2017-06-01 00:25:00</td>\n",
       "      <td>2017-06-01 00:14:00</td>\n",
       "    </tr>\n",
       "    <tr>\n",
       "      <td>2</td>\n",
       "      <td>2017-06-01 00:27:00</td>\n",
       "      <td>0.37</td>\n",
       "      <td>17903680561304213844</td>\n",
       "      <td>2017-06-01</td>\n",
       "      <td>2017-06-01 00:27:00</td>\n",
       "      <td>2017-06-01 00:25:00</td>\n",
       "    </tr>\n",
       "    <tr>\n",
       "      <td>3</td>\n",
       "      <td>2017-06-01 00:29:00</td>\n",
       "      <td>0.55</td>\n",
       "      <td>16109239769442553005</td>\n",
       "      <td>2017-06-01</td>\n",
       "      <td>2017-06-01 00:29:00</td>\n",
       "      <td>2017-06-01 00:14:00</td>\n",
       "    </tr>\n",
       "    <tr>\n",
       "      <td>4</td>\n",
       "      <td>2017-06-01 07:58:00</td>\n",
       "      <td>0.37</td>\n",
       "      <td>14200605875248379450</td>\n",
       "      <td>2017-06-01</td>\n",
       "      <td>2017-06-01 07:58:00</td>\n",
       "      <td>2017-06-01 07:31:00</td>\n",
       "    </tr>\n",
       "  </tbody>\n",
       "</table>\n",
       "</div>"
      ],
      "text/plain": [
       "               buy_ts  revenue                   uid  buy_month  \\\n",
       "0 2017-06-01 00:10:00    17.00  10329302124590727494 2017-06-01   \n",
       "1 2017-06-01 00:25:00     0.55  11627257723692907447 2017-06-01   \n",
       "2 2017-06-01 00:27:00     0.37  17903680561304213844 2017-06-01   \n",
       "3 2017-06-01 00:29:00     0.55  16109239769442553005 2017-06-01   \n",
       "4 2017-06-01 07:58:00     0.37  14200605875248379450 2017-06-01   \n",
       "\n",
       "            first_buy      first_activity  \n",
       "0 2017-06-01 00:10:00 2017-06-01 00:09:00  \n",
       "1 2017-06-01 00:25:00 2017-06-01 00:14:00  \n",
       "2 2017-06-01 00:27:00 2017-06-01 00:25:00  \n",
       "3 2017-06-01 00:29:00 2017-06-01 00:14:00  \n",
       "4 2017-06-01 07:58:00 2017-06-01 07:31:00  "
      ]
     },
     "execution_count": 56,
     "metadata": {},
     "output_type": "execute_result"
    }
   ],
   "source": [
    "orders = orders.merge(first_activity, on='uid', how='left')\n",
    "orders.head()"
   ]
  },
  {
   "cell_type": "markdown",
   "metadata": {},
   "source": [
    "Найдем разницу между датой первой покупки и датой первой активности пользователя на платформе и выведем на экран основные статические показатели"
   ]
  },
  {
   "cell_type": "code",
   "execution_count": 57,
   "metadata": {},
   "outputs": [
    {
     "data": {
      "text/plain": [
       "count                      50414\n",
       "mean     17 days 14:49:29.626294\n",
       "std      46 days 11:11:22.207185\n",
       "min              0 days 00:00:00\n",
       "25%              0 days 00:04:00\n",
       "50%              0 days 00:22:00\n",
       "75%              4 days 07:51:00\n",
       "max            363 days 07:04:00\n",
       "Name: time_until_buy, dtype: object"
      ]
     },
     "execution_count": 57,
     "metadata": {},
     "output_type": "execute_result"
    }
   ],
   "source": [
    "orders['time_until_buy'] = orders['first_buy'].astype('datetime64[m]') - orders['first_activity'].astype('datetime64[m]')\n",
    "orders['time_until_buy'].describe()"
   ]
  },
  {
   "cell_type": "markdown",
   "metadata": {},
   "source": [
    "Средняя разница между первым входом на платформу, и первой покупкой билета с нее - 17 дней, медианная 22 минуты, построим распределение"
   ]
  },
  {
   "cell_type": "code",
   "execution_count": 58,
   "metadata": {},
   "outputs": [
    {
     "data": {
      "text/plain": [
       "Text(0, 0.5, 'Частота')"
      ]
     },
     "execution_count": 58,
     "metadata": {},
     "output_type": "execute_result"
    },
    {
     "data": {
      "image/png": "[encoded data removed]",
      "text/plain": [
       "<Figure size 1152x648 with 1 Axes>"
      ]
     },
     "metadata": {
      "needs_background": "light"
     },
     "output_type": "display_data"
    }
   ],
   "source": [
    "hist_bins = 25\n",
    "hist_range = orders['time_until_buy'].dt.days\n",
    "ticks = pd.cut(hist_range, bins=hist_bins, labels=False, retbins=True, right=False)[1]\n",
    "\n",
    "hist_range.plot(kind='hist', bins=50, grid=True, figsize=(16,9))\n",
    "plt.xticks(ticks)\n",
    "plt.title('Распределение пользователей по времени до первого заказа', fontsize=18)\n",
    "plt.xlabel('Время, дни', fontsize=14)\n",
    "plt.ylabel('Частота', fontsize=14)"
   ]
  },
  {
   "cell_type": "markdown",
   "metadata": {},
   "source": [
    "Большая часть пользователей совершает первый заказ в течении недели после первого входа на платформу"
   ]
  },
  {
   "cell_type": "markdown",
   "metadata": {},
   "source": [
    "### Количество покупок на пользователя<a id=\"stage_3_orders_orders_num\"></a>"
   ]
  },
  {
   "cell_type": "markdown",
   "metadata": {},
   "source": [
    "Создадим сводную таблицу в разрезе пользователей и выведем сведения о ней методом describe"
   ]
  },
  {
   "cell_type": "code",
   "execution_count": 59,
   "metadata": {},
   "outputs": [
    {
     "data": {
      "text/html": [
       "<div>\n",
       "<style scoped>\n",
       "    .dataframe tbody tr th:only-of-type {\n",
       "        vertical-align: middle;\n",
       "    }\n",
       "\n",
       "    .dataframe tbody tr th {\n",
       "        vertical-align: top;\n",
       "    }\n",
       "\n",
       "    .dataframe thead th {\n",
       "        text-align: right;\n",
       "    }\n",
       "</style>\n",
       "<table border=\"1\" class=\"dataframe\">\n",
       "  <thead>\n",
       "    <tr style=\"text-align: right;\">\n",
       "      <th></th>\n",
       "      <th>buy_ts</th>\n",
       "    </tr>\n",
       "  </thead>\n",
       "  <tbody>\n",
       "    <tr>\n",
       "      <td>count</td>\n",
       "      <td>36522.00</td>\n",
       "    </tr>\n",
       "    <tr>\n",
       "      <td>mean</td>\n",
       "      <td>1.38</td>\n",
       "    </tr>\n",
       "    <tr>\n",
       "      <td>std</td>\n",
       "      <td>3.45</td>\n",
       "    </tr>\n",
       "    <tr>\n",
       "      <td>min</td>\n",
       "      <td>1.00</td>\n",
       "    </tr>\n",
       "    <tr>\n",
       "      <td>25%</td>\n",
       "      <td>1.00</td>\n",
       "    </tr>\n",
       "    <tr>\n",
       "      <td>50%</td>\n",
       "      <td>1.00</td>\n",
       "    </tr>\n",
       "    <tr>\n",
       "      <td>75%</td>\n",
       "      <td>1.00</td>\n",
       "    </tr>\n",
       "    <tr>\n",
       "      <td>max</td>\n",
       "      <td>239.00</td>\n",
       "    </tr>\n",
       "  </tbody>\n",
       "</table>\n",
       "</div>"
      ],
      "text/plain": [
       "         buy_ts\n",
       "count  36522.00\n",
       "mean       1.38\n",
       "std        3.45\n",
       "min        1.00\n",
       "25%        1.00\n",
       "50%        1.00\n",
       "75%        1.00\n",
       "max      239.00"
      ]
     },
     "execution_count": 59,
     "metadata": {},
     "output_type": "execute_result"
    }
   ],
   "source": [
    "orders.pivot_table(index='uid', values='buy_ts', aggfunc='count').describe().round(2)"
   ]
  },
  {
   "cell_type": "markdown",
   "metadata": {},
   "source": [
    "В среднем на одного пользователя приходится 1.38 заказов через платформу, медианное количество заказов 1, а максимальное количество составляет 239 заказов на одного пользователя"
   ]
  },
  {
   "cell_type": "markdown",
   "metadata": {},
   "source": [
    "Рассчитаем процент пользователей которые совершали заказы на плафторме"
   ]
  },
  {
   "cell_type": "code",
   "execution_count": 60,
   "metadata": {},
   "outputs": [
    {
     "name": "stdout",
     "output_type": "stream",
     "text": [
      "Посещений: 359398\n",
      "Заказов: 50414\n",
      "Отношение: 14.03%\n"
     ]
    }
   ],
   "source": [
    "print('Посещений:', visits['uid'].count())\n",
    "print('Заказов:', orders['uid'].count())\n",
    "print('Отношение: {:.2%}'.format((orders['uid'].count() / visits['uid'].count()), ))"
   ]
  },
  {
   "cell_type": "markdown",
   "metadata": {},
   "source": [
    "### Life Time Value<a id=\"stage_3_orders_LTV\"></a>"
   ]
  },
  {
   "cell_type": "markdown",
   "metadata": {},
   "source": [
    "LTV мы будем считать по когортам, объединяющий признак - первый месяц покупки, для его расчета добавим в таблицу столбец с месяцем первого заказа"
   ]
  },
  {
   "cell_type": "code",
   "execution_count": 61,
   "metadata": {},
   "outputs": [
    {
     "data": {
      "text/html": [
       "<div>\n",
       "<style scoped>\n",
       "    .dataframe tbody tr th:only-of-type {\n",
       "        vertical-align: middle;\n",
       "    }\n",
       "\n",
       "    .dataframe tbody tr th {\n",
       "        vertical-align: top;\n",
       "    }\n",
       "\n",
       "    .dataframe thead th {\n",
       "        text-align: right;\n",
       "    }\n",
       "</style>\n",
       "<table border=\"1\" class=\"dataframe\">\n",
       "  <thead>\n",
       "    <tr style=\"text-align: right;\">\n",
       "      <th></th>\n",
       "      <th>buy_ts</th>\n",
       "      <th>revenue</th>\n",
       "      <th>uid</th>\n",
       "      <th>buy_month</th>\n",
       "      <th>first_buy</th>\n",
       "      <th>first_activity</th>\n",
       "      <th>time_until_buy</th>\n",
       "      <th>first_buy_month</th>\n",
       "    </tr>\n",
       "  </thead>\n",
       "  <tbody>\n",
       "    <tr>\n",
       "      <td>0</td>\n",
       "      <td>2017-06-01 00:10:00</td>\n",
       "      <td>17.00</td>\n",
       "      <td>10329302124590727494</td>\n",
       "      <td>2017-06-01</td>\n",
       "      <td>2017-06-01 00:10:00</td>\n",
       "      <td>2017-06-01 00:09:00</td>\n",
       "      <td>00:01:00</td>\n",
       "      <td>2017-06-01</td>\n",
       "    </tr>\n",
       "    <tr>\n",
       "      <td>1</td>\n",
       "      <td>2017-06-01 00:25:00</td>\n",
       "      <td>0.55</td>\n",
       "      <td>11627257723692907447</td>\n",
       "      <td>2017-06-01</td>\n",
       "      <td>2017-06-01 00:25:00</td>\n",
       "      <td>2017-06-01 00:14:00</td>\n",
       "      <td>00:11:00</td>\n",
       "      <td>2017-06-01</td>\n",
       "    </tr>\n",
       "    <tr>\n",
       "      <td>2</td>\n",
       "      <td>2017-06-01 00:27:00</td>\n",
       "      <td>0.37</td>\n",
       "      <td>17903680561304213844</td>\n",
       "      <td>2017-06-01</td>\n",
       "      <td>2017-06-01 00:27:00</td>\n",
       "      <td>2017-06-01 00:25:00</td>\n",
       "      <td>00:02:00</td>\n",
       "      <td>2017-06-01</td>\n",
       "    </tr>\n",
       "    <tr>\n",
       "      <td>3</td>\n",
       "      <td>2017-06-01 00:29:00</td>\n",
       "      <td>0.55</td>\n",
       "      <td>16109239769442553005</td>\n",
       "      <td>2017-06-01</td>\n",
       "      <td>2017-06-01 00:29:00</td>\n",
       "      <td>2017-06-01 00:14:00</td>\n",
       "      <td>00:15:00</td>\n",
       "      <td>2017-06-01</td>\n",
       "    </tr>\n",
       "    <tr>\n",
       "      <td>4</td>\n",
       "      <td>2017-06-01 07:58:00</td>\n",
       "      <td>0.37</td>\n",
       "      <td>14200605875248379450</td>\n",
       "      <td>2017-06-01</td>\n",
       "      <td>2017-06-01 07:58:00</td>\n",
       "      <td>2017-06-01 07:31:00</td>\n",
       "      <td>00:27:00</td>\n",
       "      <td>2017-06-01</td>\n",
       "    </tr>\n",
       "  </tbody>\n",
       "</table>\n",
       "</div>"
      ],
      "text/plain": [
       "               buy_ts  revenue                   uid  buy_month  \\\n",
       "0 2017-06-01 00:10:00    17.00  10329302124590727494 2017-06-01   \n",
       "1 2017-06-01 00:25:00     0.55  11627257723692907447 2017-06-01   \n",
       "2 2017-06-01 00:27:00     0.37  17903680561304213844 2017-06-01   \n",
       "3 2017-06-01 00:29:00     0.55  16109239769442553005 2017-06-01   \n",
       "4 2017-06-01 07:58:00     0.37  14200605875248379450 2017-06-01   \n",
       "\n",
       "            first_buy      first_activity time_until_buy first_buy_month  \n",
       "0 2017-06-01 00:10:00 2017-06-01 00:09:00       00:01:00      2017-06-01  \n",
       "1 2017-06-01 00:25:00 2017-06-01 00:14:00       00:11:00      2017-06-01  \n",
       "2 2017-06-01 00:27:00 2017-06-01 00:25:00       00:02:00      2017-06-01  \n",
       "3 2017-06-01 00:29:00 2017-06-01 00:14:00       00:15:00      2017-06-01  \n",
       "4 2017-06-01 07:58:00 2017-06-01 07:31:00       00:27:00      2017-06-01  "
      ]
     },
     "execution_count": 61,
     "metadata": {},
     "output_type": "execute_result"
    }
   ],
   "source": [
    "orders['first_buy_month'] = orders['first_buy'].astype('datetime64[M]')\n",
    "orders.head()"
   ]
  },
  {
   "cell_type": "markdown",
   "metadata": {},
   "source": [
    "Создадим когорты с выручкой по месяцам"
   ]
  },
  {
   "cell_type": "code",
   "execution_count": 62,
   "metadata": {},
   "outputs": [
    {
     "data": {
      "text/html": [
       "<div>\n",
       "<style scoped>\n",
       "    .dataframe tbody tr th:only-of-type {\n",
       "        vertical-align: middle;\n",
       "    }\n",
       "\n",
       "    .dataframe tbody tr th {\n",
       "        vertical-align: top;\n",
       "    }\n",
       "\n",
       "    .dataframe thead th {\n",
       "        text-align: right;\n",
       "    }\n",
       "</style>\n",
       "<table border=\"1\" class=\"dataframe\">\n",
       "  <thead>\n",
       "    <tr style=\"text-align: right;\">\n",
       "      <th></th>\n",
       "      <th>first_buy_month</th>\n",
       "      <th>buy_month</th>\n",
       "      <th>revenue</th>\n",
       "    </tr>\n",
       "  </thead>\n",
       "  <tbody>\n",
       "    <tr>\n",
       "      <td>0</td>\n",
       "      <td>2017-06-01</td>\n",
       "      <td>2017-06-01</td>\n",
       "      <td>9557.49</td>\n",
       "    </tr>\n",
       "    <tr>\n",
       "      <td>1</td>\n",
       "      <td>2017-06-01</td>\n",
       "      <td>2017-07-01</td>\n",
       "      <td>981.82</td>\n",
       "    </tr>\n",
       "    <tr>\n",
       "      <td>2</td>\n",
       "      <td>2017-06-01</td>\n",
       "      <td>2017-08-01</td>\n",
       "      <td>885.34</td>\n",
       "    </tr>\n",
       "    <tr>\n",
       "      <td>3</td>\n",
       "      <td>2017-06-01</td>\n",
       "      <td>2017-09-01</td>\n",
       "      <td>1931.30</td>\n",
       "    </tr>\n",
       "    <tr>\n",
       "      <td>4</td>\n",
       "      <td>2017-06-01</td>\n",
       "      <td>2017-10-01</td>\n",
       "      <td>2068.58</td>\n",
       "    </tr>\n",
       "  </tbody>\n",
       "</table>\n",
       "</div>"
      ],
      "text/plain": [
       "  first_buy_month  buy_month  revenue\n",
       "0      2017-06-01 2017-06-01  9557.49\n",
       "1      2017-06-01 2017-07-01   981.82\n",
       "2      2017-06-01 2017-08-01   885.34\n",
       "3      2017-06-01 2017-09-01  1931.30\n",
       "4      2017-06-01 2017-10-01  2068.58"
      ]
     },
     "execution_count": 62,
     "metadata": {},
     "output_type": "execute_result"
    }
   ],
   "source": [
    "cohorts_orders = orders.pivot_table(index=['first_buy_month','buy_month'], values='revenue', aggfunc='sum').reset_index()\n",
    "cohorts_orders.head()"
   ]
  },
  {
   "cell_type": "markdown",
   "metadata": {},
   "source": [
    "Для каждой когорты определим месяц жизни на котором были совершены покупки"
   ]
  },
  {
   "cell_type": "code",
   "execution_count": 63,
   "metadata": {},
   "outputs": [
    {
     "data": {
      "text/html": [
       "<div>\n",
       "<style scoped>\n",
       "    .dataframe tbody tr th:only-of-type {\n",
       "        vertical-align: middle;\n",
       "    }\n",
       "\n",
       "    .dataframe tbody tr th {\n",
       "        vertical-align: top;\n",
       "    }\n",
       "\n",
       "    .dataframe thead th {\n",
       "        text-align: right;\n",
       "    }\n",
       "</style>\n",
       "<table border=\"1\" class=\"dataframe\">\n",
       "  <thead>\n",
       "    <tr style=\"text-align: right;\">\n",
       "      <th></th>\n",
       "      <th>first_buy_month</th>\n",
       "      <th>buy_month</th>\n",
       "      <th>revenue</th>\n",
       "      <th>lifetime</th>\n",
       "    </tr>\n",
       "  </thead>\n",
       "  <tbody>\n",
       "    <tr>\n",
       "      <td>0</td>\n",
       "      <td>2017-06-01</td>\n",
       "      <td>2017-06-01</td>\n",
       "      <td>9557.49</td>\n",
       "      <td>0</td>\n",
       "    </tr>\n",
       "    <tr>\n",
       "      <td>1</td>\n",
       "      <td>2017-06-01</td>\n",
       "      <td>2017-07-01</td>\n",
       "      <td>981.82</td>\n",
       "      <td>1</td>\n",
       "    </tr>\n",
       "    <tr>\n",
       "      <td>2</td>\n",
       "      <td>2017-06-01</td>\n",
       "      <td>2017-08-01</td>\n",
       "      <td>885.34</td>\n",
       "      <td>2</td>\n",
       "    </tr>\n",
       "    <tr>\n",
       "      <td>3</td>\n",
       "      <td>2017-06-01</td>\n",
       "      <td>2017-09-01</td>\n",
       "      <td>1931.30</td>\n",
       "      <td>3</td>\n",
       "    </tr>\n",
       "    <tr>\n",
       "      <td>4</td>\n",
       "      <td>2017-06-01</td>\n",
       "      <td>2017-10-01</td>\n",
       "      <td>2068.58</td>\n",
       "      <td>4</td>\n",
       "    </tr>\n",
       "  </tbody>\n",
       "</table>\n",
       "</div>"
      ],
      "text/plain": [
       "  first_buy_month  buy_month  revenue  lifetime\n",
       "0      2017-06-01 2017-06-01  9557.49         0\n",
       "1      2017-06-01 2017-07-01   981.82         1\n",
       "2      2017-06-01 2017-08-01   885.34         2\n",
       "3      2017-06-01 2017-09-01  1931.30         3\n",
       "4      2017-06-01 2017-10-01  2068.58         4"
      ]
     },
     "execution_count": 63,
     "metadata": {},
     "output_type": "execute_result"
    }
   ],
   "source": [
    "cohorts_orders['lifetime'] = (cohorts_orders['buy_month'] - cohorts_orders['first_buy_month']) / np.timedelta64(1,'M')\n",
    "cohorts_orders['lifetime'] = cohorts_orders['lifetime'].round().astype('int')\n",
    "cohorts_orders.head()"
   ]
  },
  {
   "cell_type": "markdown",
   "metadata": {},
   "source": [
    "Расчитаем количество пользователей в каждой когорте"
   ]
  },
  {
   "cell_type": "code",
   "execution_count": 64,
   "metadata": {},
   "outputs": [
    {
     "data": {
      "text/html": [
       "<div>\n",
       "<style scoped>\n",
       "    .dataframe tbody tr th:only-of-type {\n",
       "        vertical-align: middle;\n",
       "    }\n",
       "\n",
       "    .dataframe tbody tr th {\n",
       "        vertical-align: top;\n",
       "    }\n",
       "\n",
       "    .dataframe thead th {\n",
       "        text-align: right;\n",
       "    }\n",
       "</style>\n",
       "<table border=\"1\" class=\"dataframe\">\n",
       "  <thead>\n",
       "    <tr style=\"text-align: right;\">\n",
       "      <th></th>\n",
       "      <th>first_buy_month</th>\n",
       "      <th>un_users_cnt</th>\n",
       "    </tr>\n",
       "  </thead>\n",
       "  <tbody>\n",
       "    <tr>\n",
       "      <td>0</td>\n",
       "      <td>2017-06-01</td>\n",
       "      <td>2023</td>\n",
       "    </tr>\n",
       "    <tr>\n",
       "      <td>1</td>\n",
       "      <td>2017-07-01</td>\n",
       "      <td>1923</td>\n",
       "    </tr>\n",
       "    <tr>\n",
       "      <td>2</td>\n",
       "      <td>2017-08-01</td>\n",
       "      <td>1370</td>\n",
       "    </tr>\n",
       "    <tr>\n",
       "      <td>3</td>\n",
       "      <td>2017-09-01</td>\n",
       "      <td>2581</td>\n",
       "    </tr>\n",
       "    <tr>\n",
       "      <td>4</td>\n",
       "      <td>2017-10-01</td>\n",
       "      <td>4340</td>\n",
       "    </tr>\n",
       "  </tbody>\n",
       "</table>\n",
       "</div>"
      ],
      "text/plain": [
       "  first_buy_month  un_users_cnt\n",
       "0      2017-06-01          2023\n",
       "1      2017-07-01          1923\n",
       "2      2017-08-01          1370\n",
       "3      2017-09-01          2581\n",
       "4      2017-10-01          4340"
      ]
     },
     "execution_count": 64,
     "metadata": {},
     "output_type": "execute_result"
    }
   ],
   "source": [
    "cohorts_users = orders.pivot_table(index='first_buy_month', values='uid', \n",
    "                                   aggfunc=lambda x: len(x.unique())).reset_index()\n",
    "cohorts_users.columns = ['first_buy_month','un_users_cnt']\n",
    "cohorts_users.head()"
   ]
  },
  {
   "cell_type": "markdown",
   "metadata": {},
   "source": [
    "Добавим их к таблице с выручкой по когортам"
   ]
  },
  {
   "cell_type": "code",
   "execution_count": 65,
   "metadata": {},
   "outputs": [
    {
     "data": {
      "text/html": [
       "<div>\n",
       "<style scoped>\n",
       "    .dataframe tbody tr th:only-of-type {\n",
       "        vertical-align: middle;\n",
       "    }\n",
       "\n",
       "    .dataframe tbody tr th {\n",
       "        vertical-align: top;\n",
       "    }\n",
       "\n",
       "    .dataframe thead th {\n",
       "        text-align: right;\n",
       "    }\n",
       "</style>\n",
       "<table border=\"1\" class=\"dataframe\">\n",
       "  <thead>\n",
       "    <tr style=\"text-align: right;\">\n",
       "      <th></th>\n",
       "      <th>first_buy_month</th>\n",
       "      <th>buy_month</th>\n",
       "      <th>revenue</th>\n",
       "      <th>lifetime</th>\n",
       "      <th>un_users_cnt</th>\n",
       "    </tr>\n",
       "  </thead>\n",
       "  <tbody>\n",
       "    <tr>\n",
       "      <td>0</td>\n",
       "      <td>2017-06-01</td>\n",
       "      <td>2017-06-01</td>\n",
       "      <td>9557.49</td>\n",
       "      <td>0</td>\n",
       "      <td>2023</td>\n",
       "    </tr>\n",
       "    <tr>\n",
       "      <td>1</td>\n",
       "      <td>2017-06-01</td>\n",
       "      <td>2017-07-01</td>\n",
       "      <td>981.82</td>\n",
       "      <td>1</td>\n",
       "      <td>2023</td>\n",
       "    </tr>\n",
       "    <tr>\n",
       "      <td>2</td>\n",
       "      <td>2017-06-01</td>\n",
       "      <td>2017-08-01</td>\n",
       "      <td>885.34</td>\n",
       "      <td>2</td>\n",
       "      <td>2023</td>\n",
       "    </tr>\n",
       "    <tr>\n",
       "      <td>3</td>\n",
       "      <td>2017-06-01</td>\n",
       "      <td>2017-09-01</td>\n",
       "      <td>1931.30</td>\n",
       "      <td>3</td>\n",
       "      <td>2023</td>\n",
       "    </tr>\n",
       "    <tr>\n",
       "      <td>4</td>\n",
       "      <td>2017-06-01</td>\n",
       "      <td>2017-10-01</td>\n",
       "      <td>2068.58</td>\n",
       "      <td>4</td>\n",
       "      <td>2023</td>\n",
       "    </tr>\n",
       "  </tbody>\n",
       "</table>\n",
       "</div>"
      ],
      "text/plain": [
       "  first_buy_month  buy_month  revenue  lifetime  un_users_cnt\n",
       "0      2017-06-01 2017-06-01  9557.49         0          2023\n",
       "1      2017-06-01 2017-07-01   981.82         1          2023\n",
       "2      2017-06-01 2017-08-01   885.34         2          2023\n",
       "3      2017-06-01 2017-09-01  1931.30         3          2023\n",
       "4      2017-06-01 2017-10-01  2068.58         4          2023"
      ]
     },
     "execution_count": 65,
     "metadata": {},
     "output_type": "execute_result"
    }
   ],
   "source": [
    "cohorts_orders = cohorts_orders.merge(cohorts_users, on='first_buy_month', how='left')\n",
    "cohorts_orders.head()"
   ]
  },
  {
   "cell_type": "markdown",
   "metadata": {},
   "source": [
    "Так как сведений о маржинальности в нашем распоряжении нет то LTV мы будем считать по имеющимся сведениям о выручке, для этого разделим выручку за каждый месяц на количество пользователей в когорте"
   ]
  },
  {
   "cell_type": "code",
   "execution_count": 66,
   "metadata": {},
   "outputs": [
    {
     "data": {
      "text/html": [
       "<div>\n",
       "<style scoped>\n",
       "    .dataframe tbody tr th:only-of-type {\n",
       "        vertical-align: middle;\n",
       "    }\n",
       "\n",
       "    .dataframe tbody tr th {\n",
       "        vertical-align: top;\n",
       "    }\n",
       "\n",
       "    .dataframe thead th {\n",
       "        text-align: right;\n",
       "    }\n",
       "</style>\n",
       "<table border=\"1\" class=\"dataframe\">\n",
       "  <thead>\n",
       "    <tr style=\"text-align: right;\">\n",
       "      <th></th>\n",
       "      <th>first_buy_month</th>\n",
       "      <th>buy_month</th>\n",
       "      <th>revenue</th>\n",
       "      <th>lifetime</th>\n",
       "      <th>un_users_cnt</th>\n",
       "      <th>ltv</th>\n",
       "    </tr>\n",
       "  </thead>\n",
       "  <tbody>\n",
       "    <tr>\n",
       "      <td>0</td>\n",
       "      <td>2017-06-01</td>\n",
       "      <td>2017-06-01</td>\n",
       "      <td>9557.49</td>\n",
       "      <td>0</td>\n",
       "      <td>2023</td>\n",
       "      <td>4.72</td>\n",
       "    </tr>\n",
       "    <tr>\n",
       "      <td>1</td>\n",
       "      <td>2017-06-01</td>\n",
       "      <td>2017-07-01</td>\n",
       "      <td>981.82</td>\n",
       "      <td>1</td>\n",
       "      <td>2023</td>\n",
       "      <td>0.49</td>\n",
       "    </tr>\n",
       "    <tr>\n",
       "      <td>2</td>\n",
       "      <td>2017-06-01</td>\n",
       "      <td>2017-08-01</td>\n",
       "      <td>885.34</td>\n",
       "      <td>2</td>\n",
       "      <td>2023</td>\n",
       "      <td>0.44</td>\n",
       "    </tr>\n",
       "    <tr>\n",
       "      <td>3</td>\n",
       "      <td>2017-06-01</td>\n",
       "      <td>2017-09-01</td>\n",
       "      <td>1931.30</td>\n",
       "      <td>3</td>\n",
       "      <td>2023</td>\n",
       "      <td>0.95</td>\n",
       "    </tr>\n",
       "    <tr>\n",
       "      <td>4</td>\n",
       "      <td>2017-06-01</td>\n",
       "      <td>2017-10-01</td>\n",
       "      <td>2068.58</td>\n",
       "      <td>4</td>\n",
       "      <td>2023</td>\n",
       "      <td>1.02</td>\n",
       "    </tr>\n",
       "  </tbody>\n",
       "</table>\n",
       "</div>"
      ],
      "text/plain": [
       "  first_buy_month  buy_month  revenue  lifetime  un_users_cnt   ltv\n",
       "0      2017-06-01 2017-06-01  9557.49         0          2023  4.72\n",
       "1      2017-06-01 2017-07-01   981.82         1          2023  0.49\n",
       "2      2017-06-01 2017-08-01   885.34         2          2023  0.44\n",
       "3      2017-06-01 2017-09-01  1931.30         3          2023  0.95\n",
       "4      2017-06-01 2017-10-01  2068.58         4          2023  1.02"
      ]
     },
     "execution_count": 66,
     "metadata": {},
     "output_type": "execute_result"
    }
   ],
   "source": [
    "cohorts_orders['ltv'] = round(cohorts_orders['revenue'] / cohorts_orders['un_users_cnt'], 2)\n",
    "cohorts_orders.head()"
   ]
  },
  {
   "cell_type": "markdown",
   "metadata": {},
   "source": [
    "Создадим сводную таблицу для вывода карты теплоты"
   ]
  },
  {
   "cell_type": "code",
   "execution_count": 67,
   "metadata": {},
   "outputs": [],
   "source": [
    "ltv_pivot = cohorts_orders.pivot_table(index = 'first_buy_month', columns='lifetime', values='ltv')"
   ]
  },
  {
   "cell_type": "code",
   "execution_count": 68,
   "metadata": {},
   "outputs": [
    {
     "data": {
      "text/plain": [
       "Text(123.0, 0.5, 'Когорта')"
      ]
     },
     "execution_count": 68,
     "metadata": {},
     "output_type": "execute_result"
    },
    {
     "data": {
      "image/png": "[encoded data removed]",
      "text/plain": [
       "<Figure size 1152x648 with 2 Axes>"
      ]
     },
     "metadata": {
      "needs_background": "light"
     },
     "output_type": "display_data"
    }
   ],
   "source": [
    "plt.figure(figsize=(16,9))\n",
    "sns.heatmap(ltv_pivot, annot=True, linewidths=1, linecolor='gray', \n",
    "            yticklabels=ltv_pivot.index.date, fmt='.2f')\n",
    "plt.title('LTV по месяцам', fontsize=18)\n",
    "plt.xlabel('Месяц жизни', fontsize=14)\n",
    "plt.ylabel('Когорта', fontsize=14)"
   ]
  },
  {
   "cell_type": "markdown",
   "metadata": {},
   "source": [
    "Основную долю выручки когорты приносят в первый месяц жизни, в сочетании с низним рейтингом удержания это свидетельствует о том что в основном сервисом посетители пользуются один раз, при первом посещении. Однако резко выделяется LTV сентябрьской когорты за декабрь"
   ]
  },
  {
   "cell_type": "markdown",
   "metadata": {},
   "source": [
    "Рассчитаем LTV по когортам за все время"
   ]
  },
  {
   "cell_type": "code",
   "execution_count": 69,
   "metadata": {},
   "outputs": [
    {
     "data": {
      "text/html": [
       "<div>\n",
       "<style scoped>\n",
       "    .dataframe tbody tr th:only-of-type {\n",
       "        vertical-align: middle;\n",
       "    }\n",
       "\n",
       "    .dataframe tbody tr th {\n",
       "        vertical-align: top;\n",
       "    }\n",
       "\n",
       "    .dataframe thead th {\n",
       "        text-align: right;\n",
       "    }\n",
       "</style>\n",
       "<table border=\"1\" class=\"dataframe\">\n",
       "  <thead>\n",
       "    <tr style=\"text-align: right;\">\n",
       "      <th></th>\n",
       "      <th>ltv</th>\n",
       "    </tr>\n",
       "    <tr>\n",
       "      <th>first_buy_month</th>\n",
       "      <th></th>\n",
       "    </tr>\n",
       "  </thead>\n",
       "  <tbody>\n",
       "    <tr>\n",
       "      <td>2017-06-01</td>\n",
       "      <td>11.88</td>\n",
       "    </tr>\n",
       "    <tr>\n",
       "      <td>2017-07-01</td>\n",
       "      <td>8.40</td>\n",
       "    </tr>\n",
       "    <tr>\n",
       "      <td>2017-08-01</td>\n",
       "      <td>8.47</td>\n",
       "    </tr>\n",
       "    <tr>\n",
       "      <td>2017-09-01</td>\n",
       "      <td>13.43</td>\n",
       "    </tr>\n",
       "    <tr>\n",
       "      <td>2017-10-01</td>\n",
       "      <td>6.36</td>\n",
       "    </tr>\n",
       "    <tr>\n",
       "      <td>2017-11-01</td>\n",
       "      <td>6.38</td>\n",
       "    </tr>\n",
       "    <tr>\n",
       "      <td>2017-12-01</td>\n",
       "      <td>7.65</td>\n",
       "    </tr>\n",
       "    <tr>\n",
       "      <td>2018-01-01</td>\n",
       "      <td>4.93</td>\n",
       "    </tr>\n",
       "    <tr>\n",
       "      <td>2018-02-01</td>\n",
       "      <td>4.59</td>\n",
       "    </tr>\n",
       "    <tr>\n",
       "      <td>2018-03-01</td>\n",
       "      <td>5.46</td>\n",
       "    </tr>\n",
       "    <tr>\n",
       "      <td>2018-04-01</td>\n",
       "      <td>5.19</td>\n",
       "    </tr>\n",
       "    <tr>\n",
       "      <td>2018-05-01</td>\n",
       "      <td>4.66</td>\n",
       "    </tr>\n",
       "  </tbody>\n",
       "</table>\n",
       "</div>"
      ],
      "text/plain": [
       "                   ltv\n",
       "first_buy_month       \n",
       "2017-06-01       11.88\n",
       "2017-07-01        8.40\n",
       "2017-08-01        8.47\n",
       "2017-09-01       13.43\n",
       "2017-10-01        6.36\n",
       "2017-11-01        6.38\n",
       "2017-12-01        7.65\n",
       "2018-01-01        4.93\n",
       "2018-02-01        4.59\n",
       "2018-03-01        5.46\n",
       "2018-04-01        5.19\n",
       "2018-05-01        4.66"
      ]
     },
     "execution_count": 69,
     "metadata": {},
     "output_type": "execute_result"
    }
   ],
   "source": [
    "cohorts_orders.pivot_table(index = 'first_buy_month', values='ltv', aggfunc='sum').round(2)"
   ]
  },
  {
   "cell_type": "markdown",
   "metadata": {},
   "source": [
    "Стоит отметить метрику LTV сентябрьской когорты - она моложе самой первой когорты на 3 месяца а выручки за все время средний пользователь из нее принес больше"
   ]
  },
  {
   "cell_type": "markdown",
   "metadata": {},
   "source": [
    "В среднем по каждой когорте выручка с каждого пользователя за все время"
   ]
  },
  {
   "cell_type": "code",
   "execution_count": 70,
   "metadata": {},
   "outputs": [
    {
     "data": {
      "text/plain": [
       "7.28"
      ]
     },
     "execution_count": 70,
     "metadata": {},
     "output_type": "execute_result"
    }
   ],
   "source": [
    "cohorts_orders.pivot_table(index = 'first_buy_month', values='ltv', aggfunc='sum')['ltv'].mean().round(2)"
   ]
  },
  {
   "cell_type": "markdown",
   "metadata": {},
   "source": [
    "### Выручка по источникам привлечения<a id=\"stage_3_orders_per_source\"></a>"
   ]
  },
  {
   "cell_type": "markdown",
   "metadata": {},
   "source": [
    "Для того чтобы рассчитать выручку в разрезе источников привлечения нам необходимо в таблице orders отметить источник привлечения, сначала определим из какого источника пришел каждый пользователь, для этого отсортируем таблицу visits по возрастанию даты посещения и выделим для каждого uid первый встречающийся источник привлечения"
   ]
  },
  {
   "cell_type": "code",
   "execution_count": 71,
   "metadata": {},
   "outputs": [
    {
     "data": {
      "text/html": [
       "<div>\n",
       "<style scoped>\n",
       "    .dataframe tbody tr th:only-of-type {\n",
       "        vertical-align: middle;\n",
       "    }\n",
       "\n",
       "    .dataframe tbody tr th {\n",
       "        vertical-align: top;\n",
       "    }\n",
       "\n",
       "    .dataframe thead th {\n",
       "        text-align: right;\n",
       "    }\n",
       "</style>\n",
       "<table border=\"1\" class=\"dataframe\">\n",
       "  <thead>\n",
       "    <tr style=\"text-align: right;\">\n",
       "      <th></th>\n",
       "      <th>uid</th>\n",
       "      <th>first_source_id</th>\n",
       "    </tr>\n",
       "  </thead>\n",
       "  <tbody>\n",
       "    <tr>\n",
       "      <td>0</td>\n",
       "      <td>11863502262781</td>\n",
       "      <td>3</td>\n",
       "    </tr>\n",
       "    <tr>\n",
       "      <td>1</td>\n",
       "      <td>49537067089222</td>\n",
       "      <td>2</td>\n",
       "    </tr>\n",
       "    <tr>\n",
       "      <td>2</td>\n",
       "      <td>297729379853735</td>\n",
       "      <td>3</td>\n",
       "    </tr>\n",
       "    <tr>\n",
       "      <td>3</td>\n",
       "      <td>313578113262317</td>\n",
       "      <td>2</td>\n",
       "    </tr>\n",
       "    <tr>\n",
       "      <td>4</td>\n",
       "      <td>325320750514679</td>\n",
       "      <td>5</td>\n",
       "    </tr>\n",
       "  </tbody>\n",
       "</table>\n",
       "</div>"
      ],
      "text/plain": [
       "               uid  first_source_id\n",
       "0   11863502262781                3\n",
       "1   49537067089222                2\n",
       "2  297729379853735                3\n",
       "3  313578113262317                2\n",
       "4  325320750514679                5"
      ]
     },
     "execution_count": 71,
     "metadata": {},
     "output_type": "execute_result"
    }
   ],
   "source": [
    "first_visit_source = visits.sort_values(['uid', 'start_ts']).pivot_table(index='uid', values='source_id', aggfunc='first')\n",
    "first_visit_source = first_visit_source.reset_index()\n",
    "first_visit_source.columns = ['uid','first_source_id']\n",
    "first_visit_source.head()"
   ]
  },
  {
   "cell_type": "markdown",
   "metadata": {},
   "source": [
    "Добавим источник привлечения к таблице с заказами"
   ]
  },
  {
   "cell_type": "code",
   "execution_count": 72,
   "metadata": {},
   "outputs": [
    {
     "data": {
      "text/html": [
       "<div>\n",
       "<style scoped>\n",
       "    .dataframe tbody tr th:only-of-type {\n",
       "        vertical-align: middle;\n",
       "    }\n",
       "\n",
       "    .dataframe tbody tr th {\n",
       "        vertical-align: top;\n",
       "    }\n",
       "\n",
       "    .dataframe thead th {\n",
       "        text-align: right;\n",
       "    }\n",
       "</style>\n",
       "<table border=\"1\" class=\"dataframe\">\n",
       "  <thead>\n",
       "    <tr style=\"text-align: right;\">\n",
       "      <th></th>\n",
       "      <th>buy_ts</th>\n",
       "      <th>revenue</th>\n",
       "      <th>uid</th>\n",
       "      <th>buy_month</th>\n",
       "      <th>first_buy</th>\n",
       "      <th>first_activity</th>\n",
       "      <th>time_until_buy</th>\n",
       "      <th>first_buy_month</th>\n",
       "      <th>first_source_id</th>\n",
       "    </tr>\n",
       "  </thead>\n",
       "  <tbody>\n",
       "    <tr>\n",
       "      <td>0</td>\n",
       "      <td>2017-06-01 00:10:00</td>\n",
       "      <td>17.00</td>\n",
       "      <td>10329302124590727494</td>\n",
       "      <td>2017-06-01</td>\n",
       "      <td>2017-06-01 00:10:00</td>\n",
       "      <td>2017-06-01 00:09:00</td>\n",
       "      <td>00:01:00</td>\n",
       "      <td>2017-06-01</td>\n",
       "      <td>1</td>\n",
       "    </tr>\n",
       "    <tr>\n",
       "      <td>1</td>\n",
       "      <td>2017-06-01 00:25:00</td>\n",
       "      <td>0.55</td>\n",
       "      <td>11627257723692907447</td>\n",
       "      <td>2017-06-01</td>\n",
       "      <td>2017-06-01 00:25:00</td>\n",
       "      <td>2017-06-01 00:14:00</td>\n",
       "      <td>00:11:00</td>\n",
       "      <td>2017-06-01</td>\n",
       "      <td>2</td>\n",
       "    </tr>\n",
       "    <tr>\n",
       "      <td>2</td>\n",
       "      <td>2017-06-01 00:27:00</td>\n",
       "      <td>0.37</td>\n",
       "      <td>17903680561304213844</td>\n",
       "      <td>2017-06-01</td>\n",
       "      <td>2017-06-01 00:27:00</td>\n",
       "      <td>2017-06-01 00:25:00</td>\n",
       "      <td>00:02:00</td>\n",
       "      <td>2017-06-01</td>\n",
       "      <td>2</td>\n",
       "    </tr>\n",
       "    <tr>\n",
       "      <td>3</td>\n",
       "      <td>2017-06-01 00:29:00</td>\n",
       "      <td>0.55</td>\n",
       "      <td>16109239769442553005</td>\n",
       "      <td>2017-06-01</td>\n",
       "      <td>2017-06-01 00:29:00</td>\n",
       "      <td>2017-06-01 00:14:00</td>\n",
       "      <td>00:15:00</td>\n",
       "      <td>2017-06-01</td>\n",
       "      <td>2</td>\n",
       "    </tr>\n",
       "    <tr>\n",
       "      <td>4</td>\n",
       "      <td>2017-06-01 07:58:00</td>\n",
       "      <td>0.37</td>\n",
       "      <td>14200605875248379450</td>\n",
       "      <td>2017-06-01</td>\n",
       "      <td>2017-06-01 07:58:00</td>\n",
       "      <td>2017-06-01 07:31:00</td>\n",
       "      <td>00:27:00</td>\n",
       "      <td>2017-06-01</td>\n",
       "      <td>3</td>\n",
       "    </tr>\n",
       "  </tbody>\n",
       "</table>\n",
       "</div>"
      ],
      "text/plain": [
       "               buy_ts  revenue                   uid  buy_month  \\\n",
       "0 2017-06-01 00:10:00    17.00  10329302124590727494 2017-06-01   \n",
       "1 2017-06-01 00:25:00     0.55  11627257723692907447 2017-06-01   \n",
       "2 2017-06-01 00:27:00     0.37  17903680561304213844 2017-06-01   \n",
       "3 2017-06-01 00:29:00     0.55  16109239769442553005 2017-06-01   \n",
       "4 2017-06-01 07:58:00     0.37  14200605875248379450 2017-06-01   \n",
       "\n",
       "            first_buy      first_activity time_until_buy first_buy_month  \\\n",
       "0 2017-06-01 00:10:00 2017-06-01 00:09:00       00:01:00      2017-06-01   \n",
       "1 2017-06-01 00:25:00 2017-06-01 00:14:00       00:11:00      2017-06-01   \n",
       "2 2017-06-01 00:27:00 2017-06-01 00:25:00       00:02:00      2017-06-01   \n",
       "3 2017-06-01 00:29:00 2017-06-01 00:14:00       00:15:00      2017-06-01   \n",
       "4 2017-06-01 07:58:00 2017-06-01 07:31:00       00:27:00      2017-06-01   \n",
       "\n",
       "   first_source_id  \n",
       "0                1  \n",
       "1                2  \n",
       "2                2  \n",
       "3                2  \n",
       "4                3  "
      ]
     },
     "execution_count": 72,
     "metadata": {},
     "output_type": "execute_result"
    }
   ],
   "source": [
    "orders = orders.merge(first_visit_source, on='uid', how='left')\n",
    "orders.head()"
   ]
  },
  {
   "cell_type": "markdown",
   "metadata": {},
   "source": [
    "Создадим сводную таблицу, в которой рассчитаем суммарную выручку и количество покупателей в разрезе источников привлечения"
   ]
  },
  {
   "cell_type": "code",
   "execution_count": 73,
   "metadata": {},
   "outputs": [
    {
     "data": {
      "text/html": [
       "<div>\n",
       "<style scoped>\n",
       "    .dataframe tbody tr th:only-of-type {\n",
       "        vertical-align: middle;\n",
       "    }\n",
       "\n",
       "    .dataframe tbody tr th {\n",
       "        vertical-align: top;\n",
       "    }\n",
       "\n",
       "    .dataframe thead th {\n",
       "        text-align: right;\n",
       "    }\n",
       "</style>\n",
       "<table border=\"1\" class=\"dataframe\">\n",
       "  <thead>\n",
       "    <tr style=\"text-align: right;\">\n",
       "      <th></th>\n",
       "      <th>first_source_id</th>\n",
       "      <th>revenue</th>\n",
       "      <th>buyer_count</th>\n",
       "    </tr>\n",
       "  </thead>\n",
       "  <tbody>\n",
       "    <tr>\n",
       "      <td>0</td>\n",
       "      <td>1</td>\n",
       "      <td>31090.55</td>\n",
       "      <td>5223</td>\n",
       "    </tr>\n",
       "    <tr>\n",
       "      <td>1</td>\n",
       "      <td>2</td>\n",
       "      <td>46923.61</td>\n",
       "      <td>6392</td>\n",
       "    </tr>\n",
       "    <tr>\n",
       "      <td>2</td>\n",
       "      <td>3</td>\n",
       "      <td>54511.24</td>\n",
       "      <td>13289</td>\n",
       "    </tr>\n",
       "    <tr>\n",
       "      <td>3</td>\n",
       "      <td>4</td>\n",
       "      <td>56693.41</td>\n",
       "      <td>12894</td>\n",
       "    </tr>\n",
       "    <tr>\n",
       "      <td>4</td>\n",
       "      <td>5</td>\n",
       "      <td>52624.02</td>\n",
       "      <td>9406</td>\n",
       "    </tr>\n",
       "    <tr>\n",
       "      <td>5</td>\n",
       "      <td>7</td>\n",
       "      <td>1.22</td>\n",
       "      <td>1</td>\n",
       "    </tr>\n",
       "    <tr>\n",
       "      <td>6</td>\n",
       "      <td>9</td>\n",
       "      <td>5759.40</td>\n",
       "      <td>1647</td>\n",
       "    </tr>\n",
       "    <tr>\n",
       "      <td>7</td>\n",
       "      <td>10</td>\n",
       "      <td>4450.33</td>\n",
       "      <td>1562</td>\n",
       "    </tr>\n",
       "  </tbody>\n",
       "</table>\n",
       "</div>"
      ],
      "text/plain": [
       "   first_source_id   revenue  buyer_count\n",
       "0                1  31090.55         5223\n",
       "1                2  46923.61         6392\n",
       "2                3  54511.24        13289\n",
       "3                4  56693.41        12894\n",
       "4                5  52624.02         9406\n",
       "5                7      1.22            1\n",
       "6                9   5759.40         1647\n",
       "7               10   4450.33         1562"
      ]
     },
     "execution_count": 73,
     "metadata": {},
     "output_type": "execute_result"
    }
   ],
   "source": [
    "revenue_per_source = orders.pivot_table(index='first_source_id', values=['revenue','uid'], \n",
    "                                        aggfunc={'revenue':'sum','uid':'count'}).reset_index()\n",
    "revenue_per_source.columns = ['first_source_id','revenue','buyer_count']\n",
    "revenue_per_source"
   ]
  },
  {
   "cell_type": "markdown",
   "metadata": {},
   "source": [
    "Выведем на экран продажи по источнику привлечения 7"
   ]
  },
  {
   "cell_type": "code",
   "execution_count": 74,
   "metadata": {},
   "outputs": [
    {
     "data": {
      "text/html": [
       "<div>\n",
       "<style scoped>\n",
       "    .dataframe tbody tr th:only-of-type {\n",
       "        vertical-align: middle;\n",
       "    }\n",
       "\n",
       "    .dataframe tbody tr th {\n",
       "        vertical-align: top;\n",
       "    }\n",
       "\n",
       "    .dataframe thead th {\n",
       "        text-align: right;\n",
       "    }\n",
       "</style>\n",
       "<table border=\"1\" class=\"dataframe\">\n",
       "  <thead>\n",
       "    <tr style=\"text-align: right;\">\n",
       "      <th></th>\n",
       "      <th>buy_ts</th>\n",
       "      <th>revenue</th>\n",
       "      <th>uid</th>\n",
       "      <th>buy_month</th>\n",
       "      <th>first_buy</th>\n",
       "      <th>first_activity</th>\n",
       "      <th>time_until_buy</th>\n",
       "      <th>first_buy_month</th>\n",
       "      <th>first_source_id</th>\n",
       "    </tr>\n",
       "  </thead>\n",
       "  <tbody>\n",
       "    <tr>\n",
       "      <td>5485</td>\n",
       "      <td>2017-08-17 11:20:00</td>\n",
       "      <td>1.22</td>\n",
       "      <td>11377414203346034748</td>\n",
       "      <td>2017-08-01</td>\n",
       "      <td>2017-08-17 11:20:00</td>\n",
       "      <td>2017-08-17 10:28:00</td>\n",
       "      <td>00:52:00</td>\n",
       "      <td>2017-08-01</td>\n",
       "      <td>7</td>\n",
       "    </tr>\n",
       "  </tbody>\n",
       "</table>\n",
       "</div>"
      ],
      "text/plain": [
       "                  buy_ts  revenue                   uid  buy_month  \\\n",
       "5485 2017-08-17 11:20:00     1.22  11377414203346034748 2017-08-01   \n",
       "\n",
       "               first_buy      first_activity time_until_buy first_buy_month  \\\n",
       "5485 2017-08-17 11:20:00 2017-08-17 10:28:00       00:52:00      2017-08-01   \n",
       "\n",
       "      first_source_id  \n",
       "5485                7  "
      ]
     },
     "execution_count": 74,
     "metadata": {},
     "output_type": "execute_result"
    }
   ],
   "source": [
    "orders.query('first_source_id == 7')"
   ]
  },
  {
   "cell_type": "markdown",
   "metadata": {},
   "source": [
    "Одна покупка которая принесла 1.22 выручки, удалим ее из таблицы в связи с тем что этот источник будет отображаться на графике пустым столбцом"
   ]
  },
  {
   "cell_type": "code",
   "execution_count": 75,
   "metadata": {},
   "outputs": [],
   "source": [
    "orders = orders.drop(orders.query('first_source_id == 7').index).reset_index(drop=True)"
   ]
  },
  {
   "cell_type": "code",
   "execution_count": 76,
   "metadata": {},
   "outputs": [
    {
     "data": {
      "text/plain": [
       "Text(0.5, 0, 'Источник привлечения')"
      ]
     },
     "execution_count": 76,
     "metadata": {},
     "output_type": "execute_result"
    },
    {
     "data": {
      "image/png": "[encoded data removed]",
      "text/plain": [
       "<Figure size 1152x648 with 1 Axes>"
      ]
     },
     "metadata": {
      "needs_background": "light"
     },
     "output_type": "display_data"
    }
   ],
   "source": [
    "orders.pivot_table(index=['first_source_id'], values=['revenue','uid'], \n",
    "                   aggfunc={'revenue':'sum','uid':'count'}).reset_index().\\\n",
    "       plot(kind='bar', x='first_source_id', y='revenue', figsize=(16,9), legend=False, grid=True, rot=0)\n",
    "plt.title('Выручка по источникам', fontsize=18)\n",
    "plt.xlabel('Источник привлечения', fontsize=14)"
   ]
  },
  {
   "cell_type": "markdown",
   "metadata": {},
   "source": [
    "Наибольшее количество выручки принесли пользователи привлеченные источниками 3, 4 и 5 - более 50 тысяч на каждый"
   ]
  },
  {
   "cell_type": "markdown",
   "metadata": {},
   "source": [
    "## Затраты на привлечение<a id=\"stage_3_costs\"></a>"
   ]
  },
  {
   "cell_type": "markdown",
   "metadata": {},
   "source": [
    "Всего на привлечение пользователей было потрачено"
   ]
  },
  {
   "cell_type": "code",
   "execution_count": 77,
   "metadata": {},
   "outputs": [
    {
     "data": {
      "text/plain": [
       "329131.62"
      ]
     },
     "execution_count": 77,
     "metadata": {},
     "output_type": "execute_result"
    }
   ],
   "source": [
    "costs['costs'].sum()"
   ]
  },
  {
   "cell_type": "markdown",
   "metadata": {},
   "source": [
    "### Стоимость привлечения пользователей в разрезе источников<a id=\"stage_3_costs_per_source\"></a>"
   ]
  },
  {
   "cell_type": "markdown",
   "metadata": {},
   "source": [
    "На основании сводной таблицы содержащей пользователей и источник из которого они пришли рассчитаем сколько посетителей принес каждый источник"
   ]
  },
  {
   "cell_type": "code",
   "execution_count": 78,
   "metadata": {},
   "outputs": [
    {
     "data": {
      "text/html": [
       "<div>\n",
       "<style scoped>\n",
       "    .dataframe tbody tr th:only-of-type {\n",
       "        vertical-align: middle;\n",
       "    }\n",
       "\n",
       "    .dataframe tbody tr th {\n",
       "        vertical-align: top;\n",
       "    }\n",
       "\n",
       "    .dataframe thead th {\n",
       "        text-align: right;\n",
       "    }\n",
       "</style>\n",
       "<table border=\"1\" class=\"dataframe\">\n",
       "  <thead>\n",
       "    <tr style=\"text-align: right;\">\n",
       "      <th></th>\n",
       "      <th>dt</th>\n",
       "      <th>source_id</th>\n",
       "      <th>user_count</th>\n",
       "    </tr>\n",
       "  </thead>\n",
       "  <tbody>\n",
       "    <tr>\n",
       "      <td>0</td>\n",
       "      <td>2017-06-01</td>\n",
       "      <td>1</td>\n",
       "      <td>47</td>\n",
       "    </tr>\n",
       "    <tr>\n",
       "      <td>1</td>\n",
       "      <td>2017-06-01</td>\n",
       "      <td>2</td>\n",
       "      <td>70</td>\n",
       "    </tr>\n",
       "    <tr>\n",
       "      <td>2</td>\n",
       "      <td>2017-06-01</td>\n",
       "      <td>3</td>\n",
       "      <td>180</td>\n",
       "    </tr>\n",
       "    <tr>\n",
       "      <td>3</td>\n",
       "      <td>2017-06-01</td>\n",
       "      <td>4</td>\n",
       "      <td>137</td>\n",
       "    </tr>\n",
       "    <tr>\n",
       "      <td>4</td>\n",
       "      <td>2017-06-01</td>\n",
       "      <td>5</td>\n",
       "      <td>111</td>\n",
       "    </tr>\n",
       "  </tbody>\n",
       "</table>\n",
       "</div>"
      ],
      "text/plain": [
       "          dt  source_id  user_count\n",
       "0 2017-06-01          1          47\n",
       "1 2017-06-01          2          70\n",
       "2 2017-06-01          3         180\n",
       "3 2017-06-01          4         137\n",
       "4 2017-06-01          5         111"
      ]
     },
     "execution_count": 78,
     "metadata": {},
     "output_type": "execute_result"
    }
   ],
   "source": [
    "users_per_source = visits.sort_values(['uid', 'start_ts']).pivot_table(index='uid', values=['source_id','day'], \n",
    "                                                                       aggfunc='first').reset_index()\n",
    "users_per_source = users_per_source.pivot_table(index=['day','source_id'], values='uid', aggfunc='count').reset_index()\n",
    "users_per_source.columns = ['dt','source_id','user_count']\n",
    "users_per_source.head()"
   ]
  },
  {
   "cell_type": "markdown",
   "metadata": {},
   "source": [
    "Добавим эту информацию в таблицу содержащую записи о затратах на маркетинг по дням"
   ]
  },
  {
   "cell_type": "code",
   "execution_count": 79,
   "metadata": {},
   "outputs": [
    {
     "data": {
      "text/html": [
       "<div>\n",
       "<style scoped>\n",
       "    .dataframe tbody tr th:only-of-type {\n",
       "        vertical-align: middle;\n",
       "    }\n",
       "\n",
       "    .dataframe tbody tr th {\n",
       "        vertical-align: top;\n",
       "    }\n",
       "\n",
       "    .dataframe thead th {\n",
       "        text-align: right;\n",
       "    }\n",
       "</style>\n",
       "<table border=\"1\" class=\"dataframe\">\n",
       "  <thead>\n",
       "    <tr style=\"text-align: right;\">\n",
       "      <th></th>\n",
       "      <th>source_id</th>\n",
       "      <th>dt</th>\n",
       "      <th>costs</th>\n",
       "      <th>user_count</th>\n",
       "    </tr>\n",
       "  </thead>\n",
       "  <tbody>\n",
       "    <tr>\n",
       "      <td>0</td>\n",
       "      <td>1</td>\n",
       "      <td>2017-06-01</td>\n",
       "      <td>75.20</td>\n",
       "      <td>47.0</td>\n",
       "    </tr>\n",
       "    <tr>\n",
       "      <td>1</td>\n",
       "      <td>1</td>\n",
       "      <td>2017-06-02</td>\n",
       "      <td>62.25</td>\n",
       "      <td>27.0</td>\n",
       "    </tr>\n",
       "    <tr>\n",
       "      <td>2</td>\n",
       "      <td>1</td>\n",
       "      <td>2017-06-03</td>\n",
       "      <td>36.53</td>\n",
       "      <td>22.0</td>\n",
       "    </tr>\n",
       "    <tr>\n",
       "      <td>3</td>\n",
       "      <td>1</td>\n",
       "      <td>2017-06-04</td>\n",
       "      <td>55.00</td>\n",
       "      <td>23.0</td>\n",
       "    </tr>\n",
       "    <tr>\n",
       "      <td>4</td>\n",
       "      <td>1</td>\n",
       "      <td>2017-06-05</td>\n",
       "      <td>57.08</td>\n",
       "      <td>39.0</td>\n",
       "    </tr>\n",
       "  </tbody>\n",
       "</table>\n",
       "</div>"
      ],
      "text/plain": [
       "   source_id         dt  costs  user_count\n",
       "0          1 2017-06-01  75.20        47.0\n",
       "1          1 2017-06-02  62.25        27.0\n",
       "2          1 2017-06-03  36.53        22.0\n",
       "3          1 2017-06-04  55.00        23.0\n",
       "4          1 2017-06-05  57.08        39.0"
      ]
     },
     "execution_count": 79,
     "metadata": {},
     "output_type": "execute_result"
    }
   ],
   "source": [
    "costs = costs.merge(users_per_source, on=['dt','source_id'], how='left')\n",
    "costs.head()"
   ]
  },
  {
   "cell_type": "markdown",
   "metadata": {},
   "source": [
    "Создадим сводную таблицу затрат на каждый источник и количества привлеченных пользователей за все время наблюдения"
   ]
  },
  {
   "cell_type": "code",
   "execution_count": 80,
   "metadata": {},
   "outputs": [
    {
     "data": {
      "text/html": [
       "<div>\n",
       "<style scoped>\n",
       "    .dataframe tbody tr th:only-of-type {\n",
       "        vertical-align: middle;\n",
       "    }\n",
       "\n",
       "    .dataframe tbody tr th {\n",
       "        vertical-align: top;\n",
       "    }\n",
       "\n",
       "    .dataframe thead th {\n",
       "        text-align: right;\n",
       "    }\n",
       "</style>\n",
       "<table border=\"1\" class=\"dataframe\">\n",
       "  <thead>\n",
       "    <tr style=\"text-align: right;\">\n",
       "      <th></th>\n",
       "      <th>source_id</th>\n",
       "      <th>costs</th>\n",
       "      <th>user_count</th>\n",
       "      <th>costs, %</th>\n",
       "      <th>user_count, %</th>\n",
       "    </tr>\n",
       "  </thead>\n",
       "  <tbody>\n",
       "    <tr>\n",
       "      <td>0</td>\n",
       "      <td>1</td>\n",
       "      <td>20833.27</td>\n",
       "      <td>9468.0</td>\n",
       "      <td>6.33</td>\n",
       "      <td>4.15</td>\n",
       "    </tr>\n",
       "    <tr>\n",
       "      <td>1</td>\n",
       "      <td>2</td>\n",
       "      <td>42806.04</td>\n",
       "      <td>17616.0</td>\n",
       "      <td>13.01</td>\n",
       "      <td>7.72</td>\n",
       "    </tr>\n",
       "    <tr>\n",
       "      <td>2</td>\n",
       "      <td>3</td>\n",
       "      <td>141321.63</td>\n",
       "      <td>66116.0</td>\n",
       "      <td>42.94</td>\n",
       "      <td>28.98</td>\n",
       "    </tr>\n",
       "    <tr>\n",
       "      <td>3</td>\n",
       "      <td>4</td>\n",
       "      <td>61073.60</td>\n",
       "      <td>72346.0</td>\n",
       "      <td>18.56</td>\n",
       "      <td>31.71</td>\n",
       "    </tr>\n",
       "    <tr>\n",
       "      <td>4</td>\n",
       "      <td>5</td>\n",
       "      <td>51757.10</td>\n",
       "      <td>49237.0</td>\n",
       "      <td>15.73</td>\n",
       "      <td>21.58</td>\n",
       "    </tr>\n",
       "    <tr>\n",
       "      <td>5</td>\n",
       "      <td>9</td>\n",
       "      <td>5517.49</td>\n",
       "      <td>6448.0</td>\n",
       "      <td>1.68</td>\n",
       "      <td>2.83</td>\n",
       "    </tr>\n",
       "    <tr>\n",
       "      <td>6</td>\n",
       "      <td>10</td>\n",
       "      <td>5822.49</td>\n",
       "      <td>6903.0</td>\n",
       "      <td>1.77</td>\n",
       "      <td>3.03</td>\n",
       "    </tr>\n",
       "  </tbody>\n",
       "</table>\n",
       "</div>"
      ],
      "text/plain": [
       "   source_id      costs  user_count  costs, %  user_count, %\n",
       "0          1   20833.27      9468.0      6.33           4.15\n",
       "1          2   42806.04     17616.0     13.01           7.72\n",
       "2          3  141321.63     66116.0     42.94          28.98\n",
       "3          4   61073.60     72346.0     18.56          31.71\n",
       "4          5   51757.10     49237.0     15.73          21.58\n",
       "5          9    5517.49      6448.0      1.68           2.83\n",
       "6         10    5822.49      6903.0      1.77           3.03"
      ]
     },
     "execution_count": 80,
     "metadata": {},
     "output_type": "execute_result"
    }
   ],
   "source": [
    "costs_pivot = costs.pivot_table(index='source_id', values=['costs','user_count'], \n",
    "                                aggfunc={'costs':'sum','user_count':'sum'}).round(2).reset_index()\n",
    "costs_pivot['costs, %'] = round(costs_pivot['costs'] / costs_pivot['costs'].sum() * 100, 2)\n",
    "costs_pivot['user_count, %'] = round(costs_pivot['user_count'] / costs_pivot['user_count'].sum() * 100, 2)\n",
    "costs_pivot"
   ]
  },
  {
   "cell_type": "markdown",
   "metadata": {},
   "source": [
    "Отобразим диаграмму распределения долей маркетинговых затрат на источник, пользователей привлеченных через этот источник"
   ]
  },
  {
   "cell_type": "code",
   "execution_count": 81,
   "metadata": {},
   "outputs": [
    {
     "data": {
      "text/plain": [
       "Text(0, 0.5, '%')"
      ]
     },
     "execution_count": 81,
     "metadata": {},
     "output_type": "execute_result"
    },
    {
     "data": {
      "image/png": "[encoded data removed]",
      "text/plain": [
       "<Figure size 1152x648 with 1 Axes>"
      ]
     },
     "metadata": {
      "needs_background": "light"
     },
     "output_type": "display_data"
    }
   ],
   "source": [
    "costs_pivot.plot(kind='bar', x='source_id', y=['costs, %','user_count, %'], figsize=(16,9), legend=False, grid=True, rot=0)\n",
    "plt.legend(['Доля в затратах на привлечение','Доля в количестве пользователей'])\n",
    "plt.title('Привлечение пользователей по источникам', fontsize=18)\n",
    "plt.xlabel('Источник привлечения', fontsize=14)\n",
    "plt.ylabel('%', fontsize=14)"
   ]
  },
  {
   "cell_type": "markdown",
   "metadata": {},
   "source": [
    "Самым не эффективным источником привлечения является источник 3 - стоимость привлечения пользователей через этот источник составили 43% всех маркетинговых затрат, и привлекли 29% пользователей, в то время как затраты на источник 4 составили только 18.6% а привлекли 31% пользователей - самая большая доля привлеченных пользователей среди всех источников"
   ]
  },
  {
   "cell_type": "markdown",
   "metadata": {},
   "source": [
    "### Затраты на привлечение пользователей по месяцам<a id=\"stage_3_costs_monthly\"></a>"
   ]
  },
  {
   "cell_type": "markdown",
   "metadata": {},
   "source": [
    "Для расчета ежемесячных затрат добавим в таблицу столбец в котором сохраним месяц привлечения"
   ]
  },
  {
   "cell_type": "code",
   "execution_count": 82,
   "metadata": {},
   "outputs": [
    {
     "data": {
      "text/html": [
       "<div>\n",
       "<style scoped>\n",
       "    .dataframe tbody tr th:only-of-type {\n",
       "        vertical-align: middle;\n",
       "    }\n",
       "\n",
       "    .dataframe tbody tr th {\n",
       "        vertical-align: top;\n",
       "    }\n",
       "\n",
       "    .dataframe thead th {\n",
       "        text-align: right;\n",
       "    }\n",
       "</style>\n",
       "<table border=\"1\" class=\"dataframe\">\n",
       "  <thead>\n",
       "    <tr style=\"text-align: right;\">\n",
       "      <th></th>\n",
       "      <th>source_id</th>\n",
       "      <th>dt</th>\n",
       "      <th>costs</th>\n",
       "      <th>user_count</th>\n",
       "      <th>dt_month</th>\n",
       "    </tr>\n",
       "  </thead>\n",
       "  <tbody>\n",
       "    <tr>\n",
       "      <td>0</td>\n",
       "      <td>1</td>\n",
       "      <td>2017-06-01</td>\n",
       "      <td>75.20</td>\n",
       "      <td>47.0</td>\n",
       "      <td>2017-06-01</td>\n",
       "    </tr>\n",
       "    <tr>\n",
       "      <td>1</td>\n",
       "      <td>1</td>\n",
       "      <td>2017-06-02</td>\n",
       "      <td>62.25</td>\n",
       "      <td>27.0</td>\n",
       "      <td>2017-06-01</td>\n",
       "    </tr>\n",
       "    <tr>\n",
       "      <td>2</td>\n",
       "      <td>1</td>\n",
       "      <td>2017-06-03</td>\n",
       "      <td>36.53</td>\n",
       "      <td>22.0</td>\n",
       "      <td>2017-06-01</td>\n",
       "    </tr>\n",
       "    <tr>\n",
       "      <td>3</td>\n",
       "      <td>1</td>\n",
       "      <td>2017-06-04</td>\n",
       "      <td>55.00</td>\n",
       "      <td>23.0</td>\n",
       "      <td>2017-06-01</td>\n",
       "    </tr>\n",
       "    <tr>\n",
       "      <td>4</td>\n",
       "      <td>1</td>\n",
       "      <td>2017-06-05</td>\n",
       "      <td>57.08</td>\n",
       "      <td>39.0</td>\n",
       "      <td>2017-06-01</td>\n",
       "    </tr>\n",
       "  </tbody>\n",
       "</table>\n",
       "</div>"
      ],
      "text/plain": [
       "   source_id         dt  costs  user_count   dt_month\n",
       "0          1 2017-06-01  75.20        47.0 2017-06-01\n",
       "1          1 2017-06-02  62.25        27.0 2017-06-01\n",
       "2          1 2017-06-03  36.53        22.0 2017-06-01\n",
       "3          1 2017-06-04  55.00        23.0 2017-06-01\n",
       "4          1 2017-06-05  57.08        39.0 2017-06-01"
      ]
     },
     "execution_count": 82,
     "metadata": {},
     "output_type": "execute_result"
    }
   ],
   "source": [
    "costs['dt_month'] = costs['dt'].astype('datetime64[M]')\n",
    "costs.head()"
   ]
  },
  {
   "cell_type": "markdown",
   "metadata": {},
   "source": [
    "Создадим сводную таблицу затрат по месяцам"
   ]
  },
  {
   "cell_type": "code",
   "execution_count": 83,
   "metadata": {},
   "outputs": [
    {
     "data": {
      "text/html": [
       "<div>\n",
       "<style scoped>\n",
       "    .dataframe tbody tr th:only-of-type {\n",
       "        vertical-align: middle;\n",
       "    }\n",
       "\n",
       "    .dataframe tbody tr th {\n",
       "        vertical-align: top;\n",
       "    }\n",
       "\n",
       "    .dataframe thead th {\n",
       "        text-align: right;\n",
       "    }\n",
       "</style>\n",
       "<table border=\"1\" class=\"dataframe\">\n",
       "  <thead>\n",
       "    <tr style=\"text-align: right;\">\n",
       "      <th></th>\n",
       "      <th>first_buy_month</th>\n",
       "      <th>costs</th>\n",
       "    </tr>\n",
       "  </thead>\n",
       "  <tbody>\n",
       "    <tr>\n",
       "      <td>0</td>\n",
       "      <td>2017-06-01</td>\n",
       "      <td>18015.00</td>\n",
       "    </tr>\n",
       "    <tr>\n",
       "      <td>1</td>\n",
       "      <td>2017-07-01</td>\n",
       "      <td>18240.59</td>\n",
       "    </tr>\n",
       "    <tr>\n",
       "      <td>2</td>\n",
       "      <td>2017-08-01</td>\n",
       "      <td>14790.54</td>\n",
       "    </tr>\n",
       "    <tr>\n",
       "      <td>3</td>\n",
       "      <td>2017-09-01</td>\n",
       "      <td>24368.91</td>\n",
       "    </tr>\n",
       "    <tr>\n",
       "      <td>4</td>\n",
       "      <td>2017-10-01</td>\n",
       "      <td>36322.88</td>\n",
       "    </tr>\n",
       "    <tr>\n",
       "      <td>5</td>\n",
       "      <td>2017-11-01</td>\n",
       "      <td>37907.88</td>\n",
       "    </tr>\n",
       "    <tr>\n",
       "      <td>6</td>\n",
       "      <td>2017-12-01</td>\n",
       "      <td>38315.35</td>\n",
       "    </tr>\n",
       "    <tr>\n",
       "      <td>7</td>\n",
       "      <td>2018-01-01</td>\n",
       "      <td>33518.52</td>\n",
       "    </tr>\n",
       "    <tr>\n",
       "      <td>8</td>\n",
       "      <td>2018-02-01</td>\n",
       "      <td>32723.03</td>\n",
       "    </tr>\n",
       "    <tr>\n",
       "      <td>9</td>\n",
       "      <td>2018-03-01</td>\n",
       "      <td>30415.27</td>\n",
       "    </tr>\n",
       "    <tr>\n",
       "      <td>10</td>\n",
       "      <td>2018-04-01</td>\n",
       "      <td>22289.38</td>\n",
       "    </tr>\n",
       "    <tr>\n",
       "      <td>11</td>\n",
       "      <td>2018-05-01</td>\n",
       "      <td>22224.27</td>\n",
       "    </tr>\n",
       "  </tbody>\n",
       "</table>\n",
       "</div>"
      ],
      "text/plain": [
       "   first_buy_month     costs\n",
       "0       2017-06-01  18015.00\n",
       "1       2017-07-01  18240.59\n",
       "2       2017-08-01  14790.54\n",
       "3       2017-09-01  24368.91\n",
       "4       2017-10-01  36322.88\n",
       "5       2017-11-01  37907.88\n",
       "6       2017-12-01  38315.35\n",
       "7       2018-01-01  33518.52\n",
       "8       2018-02-01  32723.03\n",
       "9       2018-03-01  30415.27\n",
       "10      2018-04-01  22289.38\n",
       "11      2018-05-01  22224.27"
      ]
     },
     "execution_count": 83,
     "metadata": {},
     "output_type": "execute_result"
    }
   ],
   "source": [
    "cost_per_month = costs.pivot_table(index='dt_month', values='costs', aggfunc='sum').reset_index()\n",
    "cost_per_month.columns = ['first_buy_month','costs']\n",
    "cost_per_month"
   ]
  },
  {
   "cell_type": "markdown",
   "metadata": {},
   "source": [
    "Отобразим ее на диаграмме"
   ]
  },
  {
   "cell_type": "markdown",
   "metadata": {},
   "source": [
    "Для корректного отображения отметок по оси x добавим временную колонку с датой в которую запишем только дату, без времени"
   ]
  },
  {
   "cell_type": "code",
   "execution_count": 84,
   "metadata": {},
   "outputs": [],
   "source": [
    "cost_per_month['first_buy_month_dates'] = cost_per_month['first_buy_month'].dt.date"
   ]
  },
  {
   "cell_type": "code",
   "execution_count": 85,
   "metadata": {},
   "outputs": [
    {
     "data": {
      "text/plain": [
       "Text(0, 0.5, 'Затрты')"
      ]
     },
     "execution_count": 85,
     "metadata": {},
     "output_type": "execute_result"
    },
    {
     "data": {
      "image/png": "[encoded data removed]",
      "text/plain": [
       "<Figure size 1152x648 with 1 Axes>"
      ]
     },
     "metadata": {
      "needs_background": "light"
     },
     "output_type": "display_data"
    }
   ],
   "source": [
    "cost_per_month.plot(kind='bar', x='first_buy_month_dates', y='costs', figsize=(16,9), legend=False, grid=True, rot=0)\n",
    "plt.title('Затраты на привлечение пользователей по месяцам', fontsize=18)\n",
    "plt.xlabel('Месяц', fontsize=14)\n",
    "plt.ylabel('Затрты', fontsize=14)"
   ]
  },
  {
   "cell_type": "markdown",
   "metadata": {},
   "source": [
    "В конце года затраты на привлечение увеличиваются, что, как мы ранее выяснили, приводит к значительному увеличению количества пользователей которые пользуются сервисом"
   ]
  },
  {
   "cell_type": "markdown",
   "metadata": {},
   "source": [
    "Удалим временный столбец"
   ]
  },
  {
   "cell_type": "code",
   "execution_count": 86,
   "metadata": {},
   "outputs": [],
   "source": [
    "cost_per_month = cost_per_month.drop('first_buy_month_dates', axis=1)"
   ]
  },
  {
   "cell_type": "markdown",
   "metadata": {},
   "source": [
    "### Стоимость привлечения одного пользователя<a id=\"stage_3_costs_per_user\"></a>"
   ]
  },
  {
   "cell_type": "markdown",
   "metadata": {},
   "source": [
    "Для рассчета метрик CAC и ROI в разрезе источников привлечения из таблицы orders выделим количество покупателей пришедших из каждого источника"
   ]
  },
  {
   "cell_type": "code",
   "execution_count": 87,
   "metadata": {},
   "outputs": [
    {
     "data": {
      "text/html": [
       "<div>\n",
       "<style scoped>\n",
       "    .dataframe tbody tr th:only-of-type {\n",
       "        vertical-align: middle;\n",
       "    }\n",
       "\n",
       "    .dataframe tbody tr th {\n",
       "        vertical-align: top;\n",
       "    }\n",
       "\n",
       "    .dataframe thead th {\n",
       "        text-align: right;\n",
       "    }\n",
       "</style>\n",
       "<table border=\"1\" class=\"dataframe\">\n",
       "  <thead>\n",
       "    <tr style=\"text-align: right;\">\n",
       "      <th></th>\n",
       "      <th>source_id</th>\n",
       "      <th>month</th>\n",
       "      <th>revenue</th>\n",
       "      <th>users</th>\n",
       "    </tr>\n",
       "  </thead>\n",
       "  <tbody>\n",
       "    <tr>\n",
       "      <td>0</td>\n",
       "      <td>1</td>\n",
       "      <td>2017-06-01</td>\n",
       "      <td>6392.39</td>\n",
       "      <td>1143</td>\n",
       "    </tr>\n",
       "    <tr>\n",
       "      <td>1</td>\n",
       "      <td>1</td>\n",
       "      <td>2017-07-01</td>\n",
       "      <td>3342.52</td>\n",
       "      <td>410</td>\n",
       "    </tr>\n",
       "    <tr>\n",
       "      <td>2</td>\n",
       "      <td>1</td>\n",
       "      <td>2017-08-01</td>\n",
       "      <td>2110.91</td>\n",
       "      <td>238</td>\n",
       "    </tr>\n",
       "    <tr>\n",
       "      <td>3</td>\n",
       "      <td>1</td>\n",
       "      <td>2017-09-01</td>\n",
       "      <td>2364.55</td>\n",
       "      <td>363</td>\n",
       "    </tr>\n",
       "    <tr>\n",
       "      <td>4</td>\n",
       "      <td>1</td>\n",
       "      <td>2017-10-01</td>\n",
       "      <td>2850.08</td>\n",
       "      <td>504</td>\n",
       "    </tr>\n",
       "  </tbody>\n",
       "</table>\n",
       "</div>"
      ],
      "text/plain": [
       "   source_id      month  revenue  users\n",
       "0          1 2017-06-01  6392.39   1143\n",
       "1          1 2017-07-01  3342.52    410\n",
       "2          1 2017-08-01  2110.91    238\n",
       "3          1 2017-09-01  2364.55    363\n",
       "4          1 2017-10-01  2850.08    504"
      ]
     },
     "execution_count": 87,
     "metadata": {},
     "output_type": "execute_result"
    }
   ],
   "source": [
    "byers_per_source = orders.pivot_table(index=['first_source_id','first_buy_month'], values=['uid','revenue'], \n",
    "                                      aggfunc={'uid':'count','revenue':'sum'}).reset_index()\n",
    "byers_per_source.columns = ['source_id','month','revenue','users']\n",
    "byers_per_source.head()"
   ]
  },
  {
   "cell_type": "markdown",
   "metadata": {},
   "source": [
    "На основании таблицы costs создадим сводную таблицу затрат на каждый источник привлечения в разрезе месяцев"
   ]
  },
  {
   "cell_type": "code",
   "execution_count": 88,
   "metadata": {},
   "outputs": [
    {
     "data": {
      "text/html": [
       "<div>\n",
       "<style scoped>\n",
       "    .dataframe tbody tr th:only-of-type {\n",
       "        vertical-align: middle;\n",
       "    }\n",
       "\n",
       "    .dataframe tbody tr th {\n",
       "        vertical-align: top;\n",
       "    }\n",
       "\n",
       "    .dataframe thead th {\n",
       "        text-align: right;\n",
       "    }\n",
       "</style>\n",
       "<table border=\"1\" class=\"dataframe\">\n",
       "  <thead>\n",
       "    <tr style=\"text-align: right;\">\n",
       "      <th></th>\n",
       "      <th>source_id</th>\n",
       "      <th>month</th>\n",
       "      <th>costs</th>\n",
       "    </tr>\n",
       "  </thead>\n",
       "  <tbody>\n",
       "    <tr>\n",
       "      <td>0</td>\n",
       "      <td>1</td>\n",
       "      <td>2017-06-01</td>\n",
       "      <td>1125.61</td>\n",
       "    </tr>\n",
       "    <tr>\n",
       "      <td>1</td>\n",
       "      <td>1</td>\n",
       "      <td>2017-07-01</td>\n",
       "      <td>1072.88</td>\n",
       "    </tr>\n",
       "    <tr>\n",
       "      <td>2</td>\n",
       "      <td>1</td>\n",
       "      <td>2017-08-01</td>\n",
       "      <td>951.81</td>\n",
       "    </tr>\n",
       "    <tr>\n",
       "      <td>3</td>\n",
       "      <td>1</td>\n",
       "      <td>2017-09-01</td>\n",
       "      <td>1502.01</td>\n",
       "    </tr>\n",
       "    <tr>\n",
       "      <td>4</td>\n",
       "      <td>1</td>\n",
       "      <td>2017-10-01</td>\n",
       "      <td>2315.75</td>\n",
       "    </tr>\n",
       "  </tbody>\n",
       "</table>\n",
       "</div>"
      ],
      "text/plain": [
       "   source_id      month    costs\n",
       "0          1 2017-06-01  1125.61\n",
       "1          1 2017-07-01  1072.88\n",
       "2          1 2017-08-01   951.81\n",
       "3          1 2017-09-01  1502.01\n",
       "4          1 2017-10-01  2315.75"
      ]
     },
     "execution_count": 88,
     "metadata": {},
     "output_type": "execute_result"
    }
   ],
   "source": [
    "costs_per_source = costs.pivot_table(index=['source_id','dt_month'], values='costs', aggfunc='sum').reset_index()\n",
    "costs_per_source.columns = ['source_id','month','costs']\n",
    "costs_per_source.head()"
   ]
  },
  {
   "cell_type": "markdown",
   "metadata": {},
   "source": [
    "Посчитаем CAC для каждого источника за каждый месяц"
   ]
  },
  {
   "cell_type": "code",
   "execution_count": 89,
   "metadata": {},
   "outputs": [
    {
     "data": {
      "text/html": [
       "<div>\n",
       "<style scoped>\n",
       "    .dataframe tbody tr th:only-of-type {\n",
       "        vertical-align: middle;\n",
       "    }\n",
       "\n",
       "    .dataframe tbody tr th {\n",
       "        vertical-align: top;\n",
       "    }\n",
       "\n",
       "    .dataframe thead th {\n",
       "        text-align: right;\n",
       "    }\n",
       "</style>\n",
       "<table border=\"1\" class=\"dataframe\">\n",
       "  <thead>\n",
       "    <tr style=\"text-align: right;\">\n",
       "      <th></th>\n",
       "      <th>source_id</th>\n",
       "      <th>month</th>\n",
       "      <th>costs</th>\n",
       "      <th>revenue</th>\n",
       "      <th>users</th>\n",
       "      <th>cac</th>\n",
       "    </tr>\n",
       "  </thead>\n",
       "  <tbody>\n",
       "    <tr>\n",
       "      <td>0</td>\n",
       "      <td>1</td>\n",
       "      <td>2017-06-01</td>\n",
       "      <td>1125.61</td>\n",
       "      <td>6392.39</td>\n",
       "      <td>1143</td>\n",
       "      <td>0.984786</td>\n",
       "    </tr>\n",
       "    <tr>\n",
       "      <td>1</td>\n",
       "      <td>1</td>\n",
       "      <td>2017-07-01</td>\n",
       "      <td>1072.88</td>\n",
       "      <td>3342.52</td>\n",
       "      <td>410</td>\n",
       "      <td>2.616780</td>\n",
       "    </tr>\n",
       "    <tr>\n",
       "      <td>2</td>\n",
       "      <td>1</td>\n",
       "      <td>2017-08-01</td>\n",
       "      <td>951.81</td>\n",
       "      <td>2110.91</td>\n",
       "      <td>238</td>\n",
       "      <td>3.999202</td>\n",
       "    </tr>\n",
       "    <tr>\n",
       "      <td>3</td>\n",
       "      <td>1</td>\n",
       "      <td>2017-09-01</td>\n",
       "      <td>1502.01</td>\n",
       "      <td>2364.55</td>\n",
       "      <td>363</td>\n",
       "      <td>4.137769</td>\n",
       "    </tr>\n",
       "    <tr>\n",
       "      <td>4</td>\n",
       "      <td>1</td>\n",
       "      <td>2017-10-01</td>\n",
       "      <td>2315.75</td>\n",
       "      <td>2850.08</td>\n",
       "      <td>504</td>\n",
       "      <td>4.594742</td>\n",
       "    </tr>\n",
       "  </tbody>\n",
       "</table>\n",
       "</div>"
      ],
      "text/plain": [
       "   source_id      month    costs  revenue  users       cac\n",
       "0          1 2017-06-01  1125.61  6392.39   1143  0.984786\n",
       "1          1 2017-07-01  1072.88  3342.52    410  2.616780\n",
       "2          1 2017-08-01   951.81  2110.91    238  3.999202\n",
       "3          1 2017-09-01  1502.01  2364.55    363  4.137769\n",
       "4          1 2017-10-01  2315.75  2850.08    504  4.594742"
      ]
     },
     "execution_count": 89,
     "metadata": {},
     "output_type": "execute_result"
    }
   ],
   "source": [
    "cohorts_per_source = costs_per_source.merge(byers_per_source, on=['source_id','month'], how='left')\n",
    "cohorts_per_source['cac'] = cohorts_per_source['costs'] / cohorts_per_source['users']\n",
    "cohorts_per_source.head()"
   ]
  },
  {
   "cell_type": "markdown",
   "metadata": {},
   "source": [
    "Посчитаем метрику CAC по каждому источнику за год"
   ]
  },
  {
   "cell_type": "code",
   "execution_count": 90,
   "metadata": {},
   "outputs": [
    {
     "data": {
      "text/html": [
       "<div>\n",
       "<style scoped>\n",
       "    .dataframe tbody tr th:only-of-type {\n",
       "        vertical-align: middle;\n",
       "    }\n",
       "\n",
       "    .dataframe tbody tr th {\n",
       "        vertical-align: top;\n",
       "    }\n",
       "\n",
       "    .dataframe thead th {\n",
       "        text-align: right;\n",
       "    }\n",
       "</style>\n",
       "<table border=\"1\" class=\"dataframe\">\n",
       "  <thead>\n",
       "    <tr style=\"text-align: right;\">\n",
       "      <th></th>\n",
       "      <th>source</th>\n",
       "      <th>cac</th>\n",
       "    </tr>\n",
       "  </thead>\n",
       "  <tbody>\n",
       "    <tr>\n",
       "      <td>0</td>\n",
       "      <td>1</td>\n",
       "      <td>4.60</td>\n",
       "    </tr>\n",
       "    <tr>\n",
       "      <td>1</td>\n",
       "      <td>2</td>\n",
       "      <td>7.07</td>\n",
       "    </tr>\n",
       "    <tr>\n",
       "      <td>2</td>\n",
       "      <td>3</td>\n",
       "      <td>10.85</td>\n",
       "    </tr>\n",
       "    <tr>\n",
       "      <td>3</td>\n",
       "      <td>4</td>\n",
       "      <td>5.06</td>\n",
       "    </tr>\n",
       "    <tr>\n",
       "      <td>4</td>\n",
       "      <td>5</td>\n",
       "      <td>5.63</td>\n",
       "    </tr>\n",
       "    <tr>\n",
       "      <td>5</td>\n",
       "      <td>9</td>\n",
       "      <td>3.78</td>\n",
       "    </tr>\n",
       "    <tr>\n",
       "      <td>6</td>\n",
       "      <td>10</td>\n",
       "      <td>4.15</td>\n",
       "    </tr>\n",
       "  </tbody>\n",
       "</table>\n",
       "</div>"
      ],
      "text/plain": [
       "   source    cac\n",
       "0       1   4.60\n",
       "1       2   7.07\n",
       "2       3  10.85\n",
       "3       4   5.06\n",
       "4       5   5.63\n",
       "5       9   3.78\n",
       "6      10   4.15"
      ]
     },
     "execution_count": 90,
     "metadata": {},
     "output_type": "execute_result"
    }
   ],
   "source": [
    "data = []\n",
    "for source in cohorts_per_source['source_id'].unique():\n",
    "    cac = cohorts_per_source.query('source_id == @source')['cac'].mean().round(2)\n",
    "    data.append([source,cac])\n",
    "cac_per_source = pd.DataFrame(data, columns=['source','cac'])\n",
    "cac_per_source"
   ]
  },
  {
   "cell_type": "markdown",
   "metadata": {},
   "source": [
    "Отобразим ее на графике"
   ]
  },
  {
   "cell_type": "code",
   "execution_count": 91,
   "metadata": {},
   "outputs": [
    {
     "data": {
      "text/plain": [
       "Text(0, 0.5, 'Затрты')"
      ]
     },
     "execution_count": 91,
     "metadata": {},
     "output_type": "execute_result"
    },
    {
     "data": {
      "image/png": "[encoded data removed]",
      "text/plain": [
       "<Figure size 1152x648 with 1 Axes>"
      ]
     },
     "metadata": {
      "needs_background": "light"
     },
     "output_type": "display_data"
    }
   ],
   "source": [
    "cac_per_source.plot(kind='bar', x='source', y='cac', figsize=(16,9), legend=False, grid=True, rot=0)\n",
    "plt.title('Затраты на привлечение пользователей за год в разрезе источников', fontsize=18)\n",
    "plt.xlabel('Месяц', fontsize=14)\n",
    "plt.ylabel('Затрты', fontsize=14)"
   ]
  },
  {
   "cell_type": "markdown",
   "metadata": {},
   "source": [
    "Дороже всего обходится привлечение пользователя по третьему источнику - 10.85"
   ]
  },
  {
   "cell_type": "markdown",
   "metadata": {},
   "source": [
    "Для расчета показателя CAC в целом за год по всем иточникам в таблицу с когортами по заказам в месяц добавим стоимость привлечения пользователей по месяцам"
   ]
  },
  {
   "cell_type": "code",
   "execution_count": 92,
   "metadata": {},
   "outputs": [
    {
     "data": {
      "text/html": [
       "<div>\n",
       "<style scoped>\n",
       "    .dataframe tbody tr th:only-of-type {\n",
       "        vertical-align: middle;\n",
       "    }\n",
       "\n",
       "    .dataframe tbody tr th {\n",
       "        vertical-align: top;\n",
       "    }\n",
       "\n",
       "    .dataframe thead th {\n",
       "        text-align: right;\n",
       "    }\n",
       "</style>\n",
       "<table border=\"1\" class=\"dataframe\">\n",
       "  <thead>\n",
       "    <tr style=\"text-align: right;\">\n",
       "      <th></th>\n",
       "      <th>first_buy_month</th>\n",
       "      <th>buy_month</th>\n",
       "      <th>revenue</th>\n",
       "      <th>lifetime</th>\n",
       "      <th>un_users_cnt</th>\n",
       "      <th>ltv</th>\n",
       "      <th>costs</th>\n",
       "    </tr>\n",
       "  </thead>\n",
       "  <tbody>\n",
       "    <tr>\n",
       "      <td>0</td>\n",
       "      <td>2017-06-01</td>\n",
       "      <td>2017-06-01</td>\n",
       "      <td>9557.49</td>\n",
       "      <td>0</td>\n",
       "      <td>2023</td>\n",
       "      <td>4.72</td>\n",
       "      <td>18015.0</td>\n",
       "    </tr>\n",
       "    <tr>\n",
       "      <td>1</td>\n",
       "      <td>2017-06-01</td>\n",
       "      <td>2017-07-01</td>\n",
       "      <td>981.82</td>\n",
       "      <td>1</td>\n",
       "      <td>2023</td>\n",
       "      <td>0.49</td>\n",
       "      <td>18015.0</td>\n",
       "    </tr>\n",
       "    <tr>\n",
       "      <td>2</td>\n",
       "      <td>2017-06-01</td>\n",
       "      <td>2017-08-01</td>\n",
       "      <td>885.34</td>\n",
       "      <td>2</td>\n",
       "      <td>2023</td>\n",
       "      <td>0.44</td>\n",
       "      <td>18015.0</td>\n",
       "    </tr>\n",
       "    <tr>\n",
       "      <td>3</td>\n",
       "      <td>2017-06-01</td>\n",
       "      <td>2017-09-01</td>\n",
       "      <td>1931.30</td>\n",
       "      <td>3</td>\n",
       "      <td>2023</td>\n",
       "      <td>0.95</td>\n",
       "      <td>18015.0</td>\n",
       "    </tr>\n",
       "    <tr>\n",
       "      <td>4</td>\n",
       "      <td>2017-06-01</td>\n",
       "      <td>2017-10-01</td>\n",
       "      <td>2068.58</td>\n",
       "      <td>4</td>\n",
       "      <td>2023</td>\n",
       "      <td>1.02</td>\n",
       "      <td>18015.0</td>\n",
       "    </tr>\n",
       "  </tbody>\n",
       "</table>\n",
       "</div>"
      ],
      "text/plain": [
       "  first_buy_month  buy_month  revenue  lifetime  un_users_cnt   ltv    costs\n",
       "0      2017-06-01 2017-06-01  9557.49         0          2023  4.72  18015.0\n",
       "1      2017-06-01 2017-07-01   981.82         1          2023  0.49  18015.0\n",
       "2      2017-06-01 2017-08-01   885.34         2          2023  0.44  18015.0\n",
       "3      2017-06-01 2017-09-01  1931.30         3          2023  0.95  18015.0\n",
       "4      2017-06-01 2017-10-01  2068.58         4          2023  1.02  18015.0"
      ]
     },
     "execution_count": 92,
     "metadata": {},
     "output_type": "execute_result"
    }
   ],
   "source": [
    "cohorts_orders = cohorts_orders.merge(cost_per_month, on='first_buy_month', how='left')\n",
    "cohorts_orders.head()"
   ]
  },
  {
   "cell_type": "markdown",
   "metadata": {},
   "source": [
    "Рассчитаем показатели CAC (затраты на привлечение одного пользователя)"
   ]
  },
  {
   "cell_type": "code",
   "execution_count": 93,
   "metadata": {},
   "outputs": [
    {
     "data": {
      "text/html": [
       "<div>\n",
       "<style scoped>\n",
       "    .dataframe tbody tr th:only-of-type {\n",
       "        vertical-align: middle;\n",
       "    }\n",
       "\n",
       "    .dataframe tbody tr th {\n",
       "        vertical-align: top;\n",
       "    }\n",
       "\n",
       "    .dataframe thead th {\n",
       "        text-align: right;\n",
       "    }\n",
       "</style>\n",
       "<table border=\"1\" class=\"dataframe\">\n",
       "  <thead>\n",
       "    <tr style=\"text-align: right;\">\n",
       "      <th></th>\n",
       "      <th>first_buy_month</th>\n",
       "      <th>buy_month</th>\n",
       "      <th>revenue</th>\n",
       "      <th>lifetime</th>\n",
       "      <th>un_users_cnt</th>\n",
       "      <th>ltv</th>\n",
       "      <th>costs</th>\n",
       "      <th>cac</th>\n",
       "    </tr>\n",
       "  </thead>\n",
       "  <tbody>\n",
       "    <tr>\n",
       "      <td>0</td>\n",
       "      <td>2017-06-01</td>\n",
       "      <td>2017-06-01</td>\n",
       "      <td>9557.49</td>\n",
       "      <td>0</td>\n",
       "      <td>2023</td>\n",
       "      <td>4.72</td>\n",
       "      <td>18015.0</td>\n",
       "      <td>8.905091</td>\n",
       "    </tr>\n",
       "    <tr>\n",
       "      <td>1</td>\n",
       "      <td>2017-06-01</td>\n",
       "      <td>2017-07-01</td>\n",
       "      <td>981.82</td>\n",
       "      <td>1</td>\n",
       "      <td>2023</td>\n",
       "      <td>0.49</td>\n",
       "      <td>18015.0</td>\n",
       "      <td>8.905091</td>\n",
       "    </tr>\n",
       "    <tr>\n",
       "      <td>2</td>\n",
       "      <td>2017-06-01</td>\n",
       "      <td>2017-08-01</td>\n",
       "      <td>885.34</td>\n",
       "      <td>2</td>\n",
       "      <td>2023</td>\n",
       "      <td>0.44</td>\n",
       "      <td>18015.0</td>\n",
       "      <td>8.905091</td>\n",
       "    </tr>\n",
       "    <tr>\n",
       "      <td>3</td>\n",
       "      <td>2017-06-01</td>\n",
       "      <td>2017-09-01</td>\n",
       "      <td>1931.30</td>\n",
       "      <td>3</td>\n",
       "      <td>2023</td>\n",
       "      <td>0.95</td>\n",
       "      <td>18015.0</td>\n",
       "      <td>8.905091</td>\n",
       "    </tr>\n",
       "    <tr>\n",
       "      <td>4</td>\n",
       "      <td>2017-06-01</td>\n",
       "      <td>2017-10-01</td>\n",
       "      <td>2068.58</td>\n",
       "      <td>4</td>\n",
       "      <td>2023</td>\n",
       "      <td>1.02</td>\n",
       "      <td>18015.0</td>\n",
       "      <td>8.905091</td>\n",
       "    </tr>\n",
       "  </tbody>\n",
       "</table>\n",
       "</div>"
      ],
      "text/plain": [
       "  first_buy_month  buy_month  revenue  lifetime  un_users_cnt   ltv    costs  \\\n",
       "0      2017-06-01 2017-06-01  9557.49         0          2023  4.72  18015.0   \n",
       "1      2017-06-01 2017-07-01   981.82         1          2023  0.49  18015.0   \n",
       "2      2017-06-01 2017-08-01   885.34         2          2023  0.44  18015.0   \n",
       "3      2017-06-01 2017-09-01  1931.30         3          2023  0.95  18015.0   \n",
       "4      2017-06-01 2017-10-01  2068.58         4          2023  1.02  18015.0   \n",
       "\n",
       "        cac  \n",
       "0  8.905091  \n",
       "1  8.905091  \n",
       "2  8.905091  \n",
       "3  8.905091  \n",
       "4  8.905091  "
      ]
     },
     "execution_count": 93,
     "metadata": {},
     "output_type": "execute_result"
    }
   ],
   "source": [
    "cohorts_orders['cac'] = cohorts_orders['costs'] / cohorts_orders['un_users_cnt']\n",
    "cohorts_orders.head()"
   ]
  },
  {
   "cell_type": "markdown",
   "metadata": {},
   "source": [
    "Выведем средний показатель CAC за год"
   ]
  },
  {
   "cell_type": "code",
   "execution_count": 94,
   "metadata": {},
   "outputs": [
    {
     "data": {
      "text/plain": [
       "9.32"
      ]
     },
     "execution_count": 94,
     "metadata": {},
     "output_type": "execute_result"
    }
   ],
   "source": [
    "cohorts_orders['cac'].mean().round(2)"
   ]
  },
  {
   "cell_type": "markdown",
   "metadata": {},
   "source": [
    "### Return On Investment<a id=\"stage_3_costs_ROI\"></a>"
   ]
  },
  {
   "cell_type": "markdown",
   "metadata": {},
   "source": [
    "Для расчета метрики ROI (окупаемость инвестиций) разделим ранее рассчитаный LTV на CAC"
   ]
  },
  {
   "cell_type": "code",
   "execution_count": 95,
   "metadata": {},
   "outputs": [
    {
     "data": {
      "text/html": [
       "<div>\n",
       "<style scoped>\n",
       "    .dataframe tbody tr th:only-of-type {\n",
       "        vertical-align: middle;\n",
       "    }\n",
       "\n",
       "    .dataframe tbody tr th {\n",
       "        vertical-align: top;\n",
       "    }\n",
       "\n",
       "    .dataframe thead th {\n",
       "        text-align: right;\n",
       "    }\n",
       "</style>\n",
       "<table border=\"1\" class=\"dataframe\">\n",
       "  <thead>\n",
       "    <tr style=\"text-align: right;\">\n",
       "      <th></th>\n",
       "      <th>first_buy_month</th>\n",
       "      <th>buy_month</th>\n",
       "      <th>revenue</th>\n",
       "      <th>lifetime</th>\n",
       "      <th>un_users_cnt</th>\n",
       "      <th>ltv</th>\n",
       "      <th>costs</th>\n",
       "      <th>cac</th>\n",
       "      <th>roi</th>\n",
       "    </tr>\n",
       "  </thead>\n",
       "  <tbody>\n",
       "    <tr>\n",
       "      <td>0</td>\n",
       "      <td>2017-06-01</td>\n",
       "      <td>2017-06-01</td>\n",
       "      <td>9557.49</td>\n",
       "      <td>0</td>\n",
       "      <td>2023</td>\n",
       "      <td>4.72</td>\n",
       "      <td>18015.0</td>\n",
       "      <td>8.905091</td>\n",
       "      <td>0.530034</td>\n",
       "    </tr>\n",
       "    <tr>\n",
       "      <td>1</td>\n",
       "      <td>2017-06-01</td>\n",
       "      <td>2017-07-01</td>\n",
       "      <td>981.82</td>\n",
       "      <td>1</td>\n",
       "      <td>2023</td>\n",
       "      <td>0.49</td>\n",
       "      <td>18015.0</td>\n",
       "      <td>8.905091</td>\n",
       "      <td>0.055025</td>\n",
       "    </tr>\n",
       "    <tr>\n",
       "      <td>2</td>\n",
       "      <td>2017-06-01</td>\n",
       "      <td>2017-08-01</td>\n",
       "      <td>885.34</td>\n",
       "      <td>2</td>\n",
       "      <td>2023</td>\n",
       "      <td>0.44</td>\n",
       "      <td>18015.0</td>\n",
       "      <td>8.905091</td>\n",
       "      <td>0.049410</td>\n",
       "    </tr>\n",
       "    <tr>\n",
       "      <td>3</td>\n",
       "      <td>2017-06-01</td>\n",
       "      <td>2017-09-01</td>\n",
       "      <td>1931.30</td>\n",
       "      <td>3</td>\n",
       "      <td>2023</td>\n",
       "      <td>0.95</td>\n",
       "      <td>18015.0</td>\n",
       "      <td>8.905091</td>\n",
       "      <td>0.106681</td>\n",
       "    </tr>\n",
       "    <tr>\n",
       "      <td>4</td>\n",
       "      <td>2017-06-01</td>\n",
       "      <td>2017-10-01</td>\n",
       "      <td>2068.58</td>\n",
       "      <td>4</td>\n",
       "      <td>2023</td>\n",
       "      <td>1.02</td>\n",
       "      <td>18015.0</td>\n",
       "      <td>8.905091</td>\n",
       "      <td>0.114541</td>\n",
       "    </tr>\n",
       "  </tbody>\n",
       "</table>\n",
       "</div>"
      ],
      "text/plain": [
       "  first_buy_month  buy_month  revenue  lifetime  un_users_cnt   ltv    costs  \\\n",
       "0      2017-06-01 2017-06-01  9557.49         0          2023  4.72  18015.0   \n",
       "1      2017-06-01 2017-07-01   981.82         1          2023  0.49  18015.0   \n",
       "2      2017-06-01 2017-08-01   885.34         2          2023  0.44  18015.0   \n",
       "3      2017-06-01 2017-09-01  1931.30         3          2023  0.95  18015.0   \n",
       "4      2017-06-01 2017-10-01  2068.58         4          2023  1.02  18015.0   \n",
       "\n",
       "        cac       roi  \n",
       "0  8.905091  0.530034  \n",
       "1  8.905091  0.055025  \n",
       "2  8.905091  0.049410  \n",
       "3  8.905091  0.106681  \n",
       "4  8.905091  0.114541  "
      ]
     },
     "execution_count": 95,
     "metadata": {},
     "output_type": "execute_result"
    }
   ],
   "source": [
    "cohorts_orders['roi'] = cohorts_orders['ltv'] / cohorts_orders['cac']\n",
    "cohorts_orders.head()"
   ]
  },
  {
   "cell_type": "markdown",
   "metadata": {},
   "source": [
    "Создадим сводную таблицу и построим карту теплоты"
   ]
  },
  {
   "cell_type": "code",
   "execution_count": 96,
   "metadata": {},
   "outputs": [],
   "source": [
    "roi_pivot = cohorts_orders.pivot_table(index='first_buy_month', columns='lifetime', values='roi', aggfunc='mean')\n",
    "roi_pivot = roi_pivot.cumsum(axis=1).round(2)"
   ]
  },
  {
   "cell_type": "code",
   "execution_count": 97,
   "metadata": {},
   "outputs": [
    {
     "data": {
      "text/plain": [
       "Text(123.0, 0.5, 'Когорта')"
      ]
     },
     "execution_count": 97,
     "metadata": {},
     "output_type": "execute_result"
    },
    {
     "data": {
      "image/png": "[encoded data removed]",
      "text/plain": [
       "<Figure size 1152x648 with 2 Axes>"
      ]
     },
     "metadata": {
      "needs_background": "light"
     },
     "output_type": "display_data"
    }
   ],
   "source": [
    "plt.figure(figsize=(16,9))\n",
    "sns.heatmap(roi_pivot, annot=True, linewidths=1, linecolor='gray', \n",
    "            yticklabels=roi_pivot.index.date, fmt='.2f')\n",
    "plt.title('ROI', fontsize=18)\n",
    "plt.xlabel('Месяц жизни', fontsize=14)\n",
    "plt.ylabel('Когорта', fontsize=14)"
   ]
  },
  {
   "cell_type": "markdown",
   "metadata": {},
   "source": [
    "За год успели окупить инвестиции в привлечение пользователи двух когорт - июньской и сентябрьской, близки к окупаемости пользователи когорт время жизни которых включило конец года"
   ]
  },
  {
   "cell_type": "markdown",
   "metadata": {},
   "source": [
    "Рассчитаем среднее время окупаемости когорт"
   ]
  },
  {
   "cell_type": "code",
   "execution_count": 98,
   "metadata": {},
   "outputs": [
    {
     "data": {
      "text/plain": [
       "lifetime\n",
       "0     0.54\n",
       "1     0.58\n",
       "2     0.63\n",
       "3     0.72\n",
       "4     0.78\n",
       "5     0.86\n",
       "6     0.90\n",
       "7     0.97\n",
       "8     1.05\n",
       "9     0.96\n",
       "10    1.10\n",
       "11    1.33\n",
       "dtype: float64"
      ]
     },
     "execution_count": 98,
     "metadata": {},
     "output_type": "execute_result"
    }
   ],
   "source": [
    "cohorts_orders.pivot_table(index='first_buy_month', columns='lifetime', \n",
    "                           values='roi', aggfunc='mean').cumsum(axis=1).mean(axis=0).round(2)"
   ]
  },
  {
   "cell_type": "markdown",
   "metadata": {},
   "source": [
    "Когорты окупаются на девятый месяц жизни"
   ]
  },
  {
   "cell_type": "markdown",
   "metadata": {},
   "source": [
    "Рассчитаем окупаемость инвестиций по каждому источнику привлечения"
   ]
  },
  {
   "cell_type": "code",
   "execution_count": 99,
   "metadata": {},
   "outputs": [
    {
     "data": {
      "text/html": [
       "<div>\n",
       "<style scoped>\n",
       "    .dataframe tbody tr th:only-of-type {\n",
       "        vertical-align: middle;\n",
       "    }\n",
       "\n",
       "    .dataframe tbody tr th {\n",
       "        vertical-align: top;\n",
       "    }\n",
       "\n",
       "    .dataframe thead th {\n",
       "        text-align: right;\n",
       "    }\n",
       "</style>\n",
       "<table border=\"1\" class=\"dataframe\">\n",
       "  <thead>\n",
       "    <tr style=\"text-align: right;\">\n",
       "      <th></th>\n",
       "      <th>first_source_id</th>\n",
       "      <th>first_buy_month</th>\n",
       "      <th>buy_month</th>\n",
       "      <th>revenue</th>\n",
       "      <th>uid</th>\n",
       "      <th>lifetime</th>\n",
       "    </tr>\n",
       "  </thead>\n",
       "  <tbody>\n",
       "    <tr>\n",
       "      <td>0</td>\n",
       "      <td>1</td>\n",
       "      <td>2017-06-01</td>\n",
       "      <td>2017-06-01</td>\n",
       "      <td>1378.70</td>\n",
       "      <td>268</td>\n",
       "      <td>0</td>\n",
       "    </tr>\n",
       "    <tr>\n",
       "      <td>1</td>\n",
       "      <td>1</td>\n",
       "      <td>2017-06-01</td>\n",
       "      <td>2017-07-01</td>\n",
       "      <td>414.98</td>\n",
       "      <td>80</td>\n",
       "      <td>1</td>\n",
       "    </tr>\n",
       "    <tr>\n",
       "      <td>2</td>\n",
       "      <td>1</td>\n",
       "      <td>2017-06-01</td>\n",
       "      <td>2017-08-01</td>\n",
       "      <td>419.43</td>\n",
       "      <td>87</td>\n",
       "      <td>2</td>\n",
       "    </tr>\n",
       "    <tr>\n",
       "      <td>3</td>\n",
       "      <td>1</td>\n",
       "      <td>2017-06-01</td>\n",
       "      <td>2017-09-01</td>\n",
       "      <td>714.24</td>\n",
       "      <td>119</td>\n",
       "      <td>3</td>\n",
       "    </tr>\n",
       "    <tr>\n",
       "      <td>4</td>\n",
       "      <td>1</td>\n",
       "      <td>2017-06-01</td>\n",
       "      <td>2017-10-01</td>\n",
       "      <td>811.20</td>\n",
       "      <td>114</td>\n",
       "      <td>4</td>\n",
       "    </tr>\n",
       "  </tbody>\n",
       "</table>\n",
       "</div>"
      ],
      "text/plain": [
       "   first_source_id first_buy_month  buy_month  revenue  uid  lifetime\n",
       "0                1      2017-06-01 2017-06-01  1378.70  268         0\n",
       "1                1      2017-06-01 2017-07-01   414.98   80         1\n",
       "2                1      2017-06-01 2017-08-01   419.43   87         2\n",
       "3                1      2017-06-01 2017-09-01   714.24  119         3\n",
       "4                1      2017-06-01 2017-10-01   811.20  114         4"
      ]
     },
     "execution_count": 99,
     "metadata": {},
     "output_type": "execute_result"
    }
   ],
   "source": [
    "orders_per_source = orders.pivot_table(index=['first_source_id','first_buy_month','buy_month'], values=['uid','revenue'], \n",
    "                                    aggfunc={'uid':'count','revenue':'sum'}).reset_index()\n",
    "orders_per_source['lifetime'] = (orders_per_source['buy_month'] - orders_per_source['first_buy_month']) / np.timedelta64(1,'M')\n",
    "orders_per_source['lifetime'] = orders_per_source['lifetime'].round().astype('int')\n",
    "orders_per_source.head()"
   ]
  },
  {
   "cell_type": "markdown",
   "metadata": {},
   "source": [
    "Перед объединением переименуем столбцы"
   ]
  },
  {
   "cell_type": "code",
   "execution_count": 100,
   "metadata": {},
   "outputs": [],
   "source": [
    "costs_per_source.columns=['first_source_id','first_buy_month','costs']"
   ]
  },
  {
   "cell_type": "markdown",
   "metadata": {},
   "source": [
    "Объеденим две таблицы (заказы по источникам и стоимости по источникам) в одну и рассчитаем LTV, CAC и ROI по каждому источнику"
   ]
  },
  {
   "cell_type": "code",
   "execution_count": 101,
   "metadata": {},
   "outputs": [
    {
     "data": {
      "text/html": [
       "<div>\n",
       "<style scoped>\n",
       "    .dataframe tbody tr th:only-of-type {\n",
       "        vertical-align: middle;\n",
       "    }\n",
       "\n",
       "    .dataframe tbody tr th {\n",
       "        vertical-align: top;\n",
       "    }\n",
       "\n",
       "    .dataframe thead th {\n",
       "        text-align: right;\n",
       "    }\n",
       "</style>\n",
       "<table border=\"1\" class=\"dataframe\">\n",
       "  <thead>\n",
       "    <tr style=\"text-align: right;\">\n",
       "      <th></th>\n",
       "      <th>first_source_id</th>\n",
       "      <th>first_buy_month</th>\n",
       "      <th>buy_month</th>\n",
       "      <th>revenue</th>\n",
       "      <th>uid</th>\n",
       "      <th>lifetime</th>\n",
       "      <th>costs</th>\n",
       "      <th>ltv</th>\n",
       "      <th>cac</th>\n",
       "      <th>roi</th>\n",
       "    </tr>\n",
       "  </thead>\n",
       "  <tbody>\n",
       "    <tr>\n",
       "      <td>0</td>\n",
       "      <td>1</td>\n",
       "      <td>2017-06-01</td>\n",
       "      <td>2017-06-01</td>\n",
       "      <td>1378.70</td>\n",
       "      <td>268</td>\n",
       "      <td>0</td>\n",
       "      <td>1125.61</td>\n",
       "      <td>5.144403</td>\n",
       "      <td>4.200037</td>\n",
       "      <td>1.224847</td>\n",
       "    </tr>\n",
       "    <tr>\n",
       "      <td>1</td>\n",
       "      <td>1</td>\n",
       "      <td>2017-06-01</td>\n",
       "      <td>2017-07-01</td>\n",
       "      <td>414.98</td>\n",
       "      <td>80</td>\n",
       "      <td>1</td>\n",
       "      <td>1125.61</td>\n",
       "      <td>5.187250</td>\n",
       "      <td>14.070125</td>\n",
       "      <td>0.368671</td>\n",
       "    </tr>\n",
       "    <tr>\n",
       "      <td>2</td>\n",
       "      <td>1</td>\n",
       "      <td>2017-06-01</td>\n",
       "      <td>2017-08-01</td>\n",
       "      <td>419.43</td>\n",
       "      <td>87</td>\n",
       "      <td>2</td>\n",
       "      <td>1125.61</td>\n",
       "      <td>4.821034</td>\n",
       "      <td>12.938046</td>\n",
       "      <td>0.372625</td>\n",
       "    </tr>\n",
       "    <tr>\n",
       "      <td>3</td>\n",
       "      <td>1</td>\n",
       "      <td>2017-06-01</td>\n",
       "      <td>2017-09-01</td>\n",
       "      <td>714.24</td>\n",
       "      <td>119</td>\n",
       "      <td>3</td>\n",
       "      <td>1125.61</td>\n",
       "      <td>6.002017</td>\n",
       "      <td>9.458908</td>\n",
       "      <td>0.634536</td>\n",
       "    </tr>\n",
       "    <tr>\n",
       "      <td>4</td>\n",
       "      <td>1</td>\n",
       "      <td>2017-06-01</td>\n",
       "      <td>2017-10-01</td>\n",
       "      <td>811.20</td>\n",
       "      <td>114</td>\n",
       "      <td>4</td>\n",
       "      <td>1125.61</td>\n",
       "      <td>7.115789</td>\n",
       "      <td>9.873772</td>\n",
       "      <td>0.720676</td>\n",
       "    </tr>\n",
       "  </tbody>\n",
       "</table>\n",
       "</div>"
      ],
      "text/plain": [
       "   first_source_id first_buy_month  buy_month  revenue  uid  lifetime  \\\n",
       "0                1      2017-06-01 2017-06-01  1378.70  268         0   \n",
       "1                1      2017-06-01 2017-07-01   414.98   80         1   \n",
       "2                1      2017-06-01 2017-08-01   419.43   87         2   \n",
       "3                1      2017-06-01 2017-09-01   714.24  119         3   \n",
       "4                1      2017-06-01 2017-10-01   811.20  114         4   \n",
       "\n",
       "     costs       ltv        cac       roi  \n",
       "0  1125.61  5.144403   4.200037  1.224847  \n",
       "1  1125.61  5.187250  14.070125  0.368671  \n",
       "2  1125.61  4.821034  12.938046  0.372625  \n",
       "3  1125.61  6.002017   9.458908  0.634536  \n",
       "4  1125.61  7.115789   9.873772  0.720676  "
      ]
     },
     "execution_count": 101,
     "metadata": {},
     "output_type": "execute_result"
    }
   ],
   "source": [
    "cohorts_per_source = orders_per_source.merge(costs_per_source, on=['first_source_id','first_buy_month'], how='left')\n",
    "\n",
    "cohorts_per_source['ltv'] = cohorts_per_source['revenue'] / cohorts_per_source['uid']\n",
    "cohorts_per_source['cac'] = cohorts_per_source['costs'] / cohorts_per_source['uid']\n",
    "cohorts_per_source['roi'] = cohorts_per_source['ltv'] / cohorts_per_source['cac']\n",
    "cohorts_per_source.head()"
   ]
  },
  {
   "cell_type": "markdown",
   "metadata": {},
   "source": [
    "Соберем сведения об окупаемости источников в одну таблицу и выведем ее на экран"
   ]
  },
  {
   "cell_type": "code",
   "execution_count": 116,
   "metadata": {
    "scrolled": false
   },
   "outputs": [
    {
     "data": {
      "text/html": [
       "<div>\n",
       "<style scoped>\n",
       "    .dataframe tbody tr th:only-of-type {\n",
       "        vertical-align: middle;\n",
       "    }\n",
       "\n",
       "    .dataframe tbody tr th {\n",
       "        vertical-align: top;\n",
       "    }\n",
       "\n",
       "    .dataframe thead th {\n",
       "        text-align: right;\n",
       "    }\n",
       "</style>\n",
       "<table border=\"1\" class=\"dataframe\">\n",
       "  <thead>\n",
       "    <tr style=\"text-align: right;\">\n",
       "      <th></th>\n",
       "      <th>1</th>\n",
       "      <th>2</th>\n",
       "      <th>3</th>\n",
       "      <th>4</th>\n",
       "      <th>5</th>\n",
       "      <th>9</th>\n",
       "      <th>10</th>\n",
       "    </tr>\n",
       "  </thead>\n",
       "  <tbody>\n",
       "    <tr>\n",
       "      <td>0</td>\n",
       "      <td>0.89</td>\n",
       "      <td>0.55</td>\n",
       "      <td>0.34</td>\n",
       "      <td>0.76</td>\n",
       "      <td>0.66</td>\n",
       "      <td>0.77</td>\n",
       "      <td>0.73</td>\n",
       "    </tr>\n",
       "    <tr>\n",
       "      <td>1</td>\n",
       "      <td>1.05</td>\n",
       "      <td>0.63</td>\n",
       "      <td>0.36</td>\n",
       "      <td>0.78</td>\n",
       "      <td>0.72</td>\n",
       "      <td>0.85</td>\n",
       "      <td>0.71</td>\n",
       "    </tr>\n",
       "    <tr>\n",
       "      <td>2</td>\n",
       "      <td>1.26</td>\n",
       "      <td>0.78</td>\n",
       "      <td>0.37</td>\n",
       "      <td>0.79</td>\n",
       "      <td>0.78</td>\n",
       "      <td>0.94</td>\n",
       "      <td>0.77</td>\n",
       "    </tr>\n",
       "    <tr>\n",
       "      <td>3</td>\n",
       "      <td>1.36</td>\n",
       "      <td>0.94</td>\n",
       "      <td>0.38</td>\n",
       "      <td>0.81</td>\n",
       "      <td>1.11</td>\n",
       "      <td>1.04</td>\n",
       "      <td>0.69</td>\n",
       "    </tr>\n",
       "    <tr>\n",
       "      <td>4</td>\n",
       "      <td>1.57</td>\n",
       "      <td>1.09</td>\n",
       "      <td>0.39</td>\n",
       "      <td>0.84</td>\n",
       "      <td>1.23</td>\n",
       "      <td>1.09</td>\n",
       "      <td>0.74</td>\n",
       "    </tr>\n",
       "    <tr>\n",
       "      <td>5</td>\n",
       "      <td>1.77</td>\n",
       "      <td>1.23</td>\n",
       "      <td>0.41</td>\n",
       "      <td>0.90</td>\n",
       "      <td>1.39</td>\n",
       "      <td>1.22</td>\n",
       "      <td>0.75</td>\n",
       "    </tr>\n",
       "    <tr>\n",
       "      <td>6</td>\n",
       "      <td>2.04</td>\n",
       "      <td>1.03</td>\n",
       "      <td>0.42</td>\n",
       "      <td>0.98</td>\n",
       "      <td>1.55</td>\n",
       "      <td>1.33</td>\n",
       "      <td>0.88</td>\n",
       "    </tr>\n",
       "    <tr>\n",
       "      <td>7</td>\n",
       "      <td>2.36</td>\n",
       "      <td>1.14</td>\n",
       "      <td>0.44</td>\n",
       "      <td>0.90</td>\n",
       "      <td>1.78</td>\n",
       "      <td>1.46</td>\n",
       "      <td>0.77</td>\n",
       "    </tr>\n",
       "    <tr>\n",
       "      <td>8</td>\n",
       "      <td>2.86</td>\n",
       "      <td>1.22</td>\n",
       "      <td>0.45</td>\n",
       "      <td>0.90</td>\n",
       "      <td>2.02</td>\n",
       "      <td>1.56</td>\n",
       "      <td>0.61</td>\n",
       "    </tr>\n",
       "    <tr>\n",
       "      <td>9</td>\n",
       "      <td>3.46</td>\n",
       "      <td>0.99</td>\n",
       "      <td>0.43</td>\n",
       "      <td>0.95</td>\n",
       "      <td>1.42</td>\n",
       "      <td>1.43</td>\n",
       "      <td>0.90</td>\n",
       "    </tr>\n",
       "    <tr>\n",
       "      <td>10</td>\n",
       "      <td>4.26</td>\n",
       "      <td>1.29</td>\n",
       "      <td>0.48</td>\n",
       "      <td>1.17</td>\n",
       "      <td>1.31</td>\n",
       "      <td>1.43</td>\n",
       "      <td>NaN</td>\n",
       "    </tr>\n",
       "    <tr>\n",
       "      <td>11</td>\n",
       "      <td>5.68</td>\n",
       "      <td>1.61</td>\n",
       "      <td>0.47</td>\n",
       "      <td>1.42</td>\n",
       "      <td>1.67</td>\n",
       "      <td>NaN</td>\n",
       "      <td>NaN</td>\n",
       "    </tr>\n",
       "  </tbody>\n",
       "</table>\n",
       "</div>"
      ],
      "text/plain": [
       "      1     2     3     4     5     9     10\n",
       "0   0.89  0.55  0.34  0.76  0.66  0.77  0.73\n",
       "1   1.05  0.63  0.36  0.78  0.72  0.85  0.71\n",
       "2   1.26  0.78  0.37  0.79  0.78  0.94  0.77\n",
       "3   1.36  0.94  0.38  0.81  1.11  1.04  0.69\n",
       "4   1.57  1.09  0.39  0.84  1.23  1.09  0.74\n",
       "5   1.77  1.23  0.41  0.90  1.39  1.22  0.75\n",
       "6   2.04  1.03  0.42  0.98  1.55  1.33  0.88\n",
       "7   2.36  1.14  0.44  0.90  1.78  1.46  0.77\n",
       "8   2.86  1.22  0.45  0.90  2.02  1.56  0.61\n",
       "9   3.46  0.99  0.43  0.95  1.42  1.43  0.90\n",
       "10  4.26  1.29  0.48  1.17  1.31  1.43   NaN\n",
       "11  5.68  1.61  0.47  1.42  1.67   NaN   NaN"
      ]
     },
     "execution_count": 116,
     "metadata": {},
     "output_type": "execute_result"
    }
   ],
   "source": [
    "roi = pd.DataFrame(range(0,12), columns=['lifetime'])\n",
    "\n",
    "for source in cohorts_per_source['first_source_id'].unique():\n",
    "    roi_pivot = cohorts_per_source.query('first_source_id == @source').pivot_table(index='first_buy_month', \n",
    "                                               columns='lifetime', values='roi', aggfunc='mean').cumsum(axis=1).mean(axis=0).round(2)\n",
    "    roi_pivot.name = source\n",
    "    roi = roi.merge(roi_pivot, on='lifetime', how='left')\n",
    "\n",
    "roi = roi.drop('lifetime', axis=1)\n",
    "roi"
   ]
  },
  {
   "cell_type": "markdown",
   "metadata": {},
   "source": [
    "Анализ окупаемости в разрезе источников показал что в течении года окупились источники 1, 2, 4, 5 и 9. Затраты на привлечение пользователей по источникам 3 и 10 не окупились, но десятый источник очень близок к окупаемости, в отличии от третьего, который не окупил даже половины затрат"
   ]
  },
  {
   "cell_type": "markdown",
   "metadata": {},
   "source": [
    "## Вывод<a id=\"stage_3_summary\"></a>\n",
    "\n",
    "**Посещаемость**\n",
    "\n",
    "Всего, за год на обеих платформах было 359398 посещений, из них уникальных пользователей 235868. Что касается уникальных посещения по периодам то в день, в среднем, на каждого пользователя приходилось 1.1 сессий, в неделю и в месяц этот показатель несколько больше - 1.2 и 1.3 \n",
    "\n",
    "В разрезе платформ посещаемость распределена следующим образом:\n",
    "\n",
    "| платформа | в день | в месяц | в неделю |\n",
    "| --- | --- | --- | --- |\n",
    "| desktop | 659.24 | 4129.51 | 16724.92 |\n",
    "| touch | 252.87 | 1634.92 | 6825.92 |\n",
    "    \n",
    "Количество посетителей которые заходят на Афишу с настолького компьютера на 40% больше чем посетителей с мобильных устройств, в конце года количество пользователей значительно увеличивается, это может свидетельствовать о сезонности спроса\n",
    "\n",
    "Если мы рассмотрим количество сессий на одного пользователя по месяцам, за весь год, то мы увидим что оно незначительно увеличивается в конце года (с 1.2 до 1.3), однако его увеличение не достаточно для того чтобы объяснить значительный рост общего количества посещений в декабре и январе (42 и 43 тысячи), это значит что в конце года мы получаем больше уникальных посетителей, еще одно подтверждение сезонности спроса\n",
    "\n",
    "Средняя длительность сессии 643 секунды, медианная 300 секунд, причем пользователи использующие мобильные платформы проводят на сайте примерно на треть меньше времени чем пользователи которые зашли с настолького компьтера\n",
    "\n",
    "В течении года коэффициент удержания снижается, но наблюдается рост количества возвращающихся пользователей во время новогодних праздников (декабрь-январь). В среднем коэффициент удержания среди пользователей которые используют настольные компьютеры выше чем на мобильных платформах\n",
    "\n",
    "**Заказы**\n",
    "\n",
    "За год выручка от комиссий за покупки пользователей составила 252057.2\n",
    "\n",
    "Среди всех посетителей 14% совершили 50415 покупок, средний чек составил 5 а медианный 2.5, распределение по перцентилям показывает что 75% покупок уложились в средний чек, всего по месяцам выручка составила 19389.02, в конце года она значительно возрастает (36388.60 в декабре)\n",
    "\n",
    "Анализ времени прошедшего между первым посещением и первой покупкой показал что средний период ожидания 17 дней, а медианный 22 минуты, подавляющее количество пользователей совершило первый заказ в течении недели после первого входа на платформу\n",
    "\n",
    "В среднем на одного пользователя приходится 1.38 заказов через платформу (что сопоставимо со средним количеством сессий в месяц), медианное количество заказов 1, а максимальное количество составляет 239 заказов на одного пользователя\n",
    "\n",
    "Когортный анализ выручки показал что основную долю выручки когорты приносят в первый месяц жизни, в сочетании с низним рейтингом удержания это свидетельствует о том что в большая часть посетителей совершает покупки один раз, при первом посещении\n",
    "\n",
    "В среднем по когортам выручка на пользователя в рассматриваемом периоде составила 7.28\n",
    "\n",
    "Наибольшее количество выручки принесли пользователи привлеченные источниками 3, 4 и 5 - более 50 тысяч на каждый источник\n",
    "\n",
    "**Затраты на привлечение**\n",
    "\n",
    "Всего на привлечение пользователей было потрачено 329131.62, средняя стоимость привлечения одного пользователя составила 9.32, дороже всего обходится привлечение по источникам 1, 2 и 3 - более 2 за одного пользователя, привлечение пользователей по источникам 4, 5, 9 и 10 обходится в два раза дешевле\n",
    "\n",
    "Самым не эффективным источником привлечения является источник 3 - стоимость привлечения пользователей через этот источник составила 43% всех маркетинговых затрат, и привлекла 29% пользователей, в то время как затраты на источник 4 составили только 18.6% а привлекли 31% пользователей - самая большая доля привлеченных пользователей среди всех источников\n",
    "\n",
    "В конце года затраты на маркетинг увеличиваются, что, как мы ранее выяснили, приводит к значительному увеличению количества пользователей которые пользуются сервисом\n",
    "\n",
    "За год успели окупить инвестиции в привлечение пользователи двух когорт - июньской и сентябрьской, близки к окупаемости пользователи когорт время жизни которых включило конец года, в среднем когорты окупаются на девятый месяц жизни\n",
    "\n",
    "Анализ окупаемости в разрезе источников показал что в течении года окупились источники 1, 2, 4, 5 и 9. Затраты на привлечение пользователей по источникам 3 и 10 не окупились, но десятый источник очень близок к окупаемости, в отличии от третьего, который не окупил даже половины затрат"
   ]
  },
  {
   "cell_type": "markdown",
   "metadata": {},
   "source": [
    "# Этап 4 - Рекомендации<a id=\"stage_4\"></a>"
   ]
  },
  {
   "cell_type": "markdown",
   "metadata": {},
   "source": [
    "На предыдущем этапе мы рассчитали затраты на привлечение одного пользователя и количество выручки которую он принесет нам за время своей жизни: привлечение одного пользователя стоит 9.32, за рассматриваемый период он принес 7.28 выручки\n",
    "\n",
    "Всего, за год, на маркетинг было затрачено 329131.62, а выручка с заказов пользователей составила 252057.2\n",
    "\n",
    "Если судить только по этим показателям - сервис приносит 77074.42 убытков в год"
   ]
  },
  {
   "cell_type": "markdown",
   "metadata": {},
   "source": [
    "Объединим стоимость привлечения по каждому источнику, количество привлеченных пользователей и выручку"
   ]
  },
  {
   "cell_type": "code",
   "execution_count": 103,
   "metadata": {},
   "outputs": [
    {
     "data": {
      "text/html": [
       "<style  type=\"text/css\" >\n",
       "    #T_fa503266_2ccb_11eb_a820_02420a392c2erow0_col0 {\n",
       "            background-color:  #fee3d6;\n",
       "            color:  #000000;\n",
       "        }    #T_fa503266_2ccb_11eb_a820_02420a392c2erow0_col1 {\n",
       "            background-color:  #fee3d6;\n",
       "            color:  #000000;\n",
       "        }    #T_fa503266_2ccb_11eb_a820_02420a392c2erow0_col2 {\n",
       "            background-color:  #ffeee6;\n",
       "            color:  #000000;\n",
       "        }    #T_fa503266_2ccb_11eb_a820_02420a392c2erow0_col3 {\n",
       "            background-color:  #ffeee6;\n",
       "            color:  #000000;\n",
       "        }    #T_fa503266_2ccb_11eb_a820_02420a392c2erow0_col4 {\n",
       "            background-color:  #fee2d5;\n",
       "            color:  #000000;\n",
       "        }    #T_fa503266_2ccb_11eb_a820_02420a392c2erow1_col0 {\n",
       "            background-color:  #fcb398;\n",
       "            color:  #000000;\n",
       "        }    #T_fa503266_2ccb_11eb_a820_02420a392c2erow1_col1 {\n",
       "            background-color:  #fcb398;\n",
       "            color:  #000000;\n",
       "        }    #T_fa503266_2ccb_11eb_a820_02420a392c2erow1_col2 {\n",
       "            background-color:  #fdd3c1;\n",
       "            color:  #000000;\n",
       "        }    #T_fa503266_2ccb_11eb_a820_02420a392c2erow1_col3 {\n",
       "            background-color:  #fdd3c1;\n",
       "            color:  #000000;\n",
       "        }    #T_fa503266_2ccb_11eb_a820_02420a392c2erow1_col4 {\n",
       "            background-color:  #fb7555;\n",
       "            color:  #000000;\n",
       "        }    #T_fa503266_2ccb_11eb_a820_02420a392c2erow2_col0 {\n",
       "            background-color:  #67000d;\n",
       "            color:  #f1f1f1;\n",
       "        }    #T_fa503266_2ccb_11eb_a820_02420a392c2erow2_col1 {\n",
       "            background-color:  #67000d;\n",
       "            color:  #f1f1f1;\n",
       "        }    #T_fa503266_2ccb_11eb_a820_02420a392c2erow2_col2 {\n",
       "            background-color:  #960b13;\n",
       "            color:  #f1f1f1;\n",
       "        }    #T_fa503266_2ccb_11eb_a820_02420a392c2erow2_col3 {\n",
       "            background-color:  #960b13;\n",
       "            color:  #f1f1f1;\n",
       "        }    #T_fa503266_2ccb_11eb_a820_02420a392c2erow2_col4 {\n",
       "            background-color:  #67000d;\n",
       "            color:  #f1f1f1;\n",
       "        }    #T_fa503266_2ccb_11eb_a820_02420a392c2erow3_col0 {\n",
       "            background-color:  #fc8767;\n",
       "            color:  #000000;\n",
       "        }    #T_fa503266_2ccb_11eb_a820_02420a392c2erow3_col1 {\n",
       "            background-color:  #fc8767;\n",
       "            color:  #000000;\n",
       "        }    #T_fa503266_2ccb_11eb_a820_02420a392c2erow3_col2 {\n",
       "            background-color:  #67000d;\n",
       "            color:  #f1f1f1;\n",
       "        }    #T_fa503266_2ccb_11eb_a820_02420a392c2erow3_col3 {\n",
       "            background-color:  #67000d;\n",
       "            color:  #f1f1f1;\n",
       "        }    #T_fa503266_2ccb_11eb_a820_02420a392c2erow3_col4 {\n",
       "            background-color:  #fdd0bc;\n",
       "            color:  #000000;\n",
       "        }    #T_fa503266_2ccb_11eb_a820_02420a392c2erow4_col0 {\n",
       "            background-color:  #fc9d7f;\n",
       "            color:  #000000;\n",
       "        }    #T_fa503266_2ccb_11eb_a820_02420a392c2erow4_col1 {\n",
       "            background-color:  #fc9d7f;\n",
       "            color:  #000000;\n",
       "        }    #T_fa503266_2ccb_11eb_a820_02420a392c2erow4_col2 {\n",
       "            background-color:  #e83429;\n",
       "            color:  #f1f1f1;\n",
       "        }    #T_fa503266_2ccb_11eb_a820_02420a392c2erow4_col3 {\n",
       "            background-color:  #e83429;\n",
       "            color:  #f1f1f1;\n",
       "        }    #T_fa503266_2ccb_11eb_a820_02420a392c2erow4_col4 {\n",
       "            background-color:  #fcb89e;\n",
       "            color:  #000000;\n",
       "        }    #T_fa503266_2ccb_11eb_a820_02420a392c2erow5_col0 {\n",
       "            background-color:  #fff5f0;\n",
       "            color:  #000000;\n",
       "        }    #T_fa503266_2ccb_11eb_a820_02420a392c2erow5_col1 {\n",
       "            background-color:  #fff5f0;\n",
       "            color:  #000000;\n",
       "        }    #T_fa503266_2ccb_11eb_a820_02420a392c2erow5_col2 {\n",
       "            background-color:  #fff5f0;\n",
       "            color:  #000000;\n",
       "        }    #T_fa503266_2ccb_11eb_a820_02420a392c2erow5_col3 {\n",
       "            background-color:  #fff5f0;\n",
       "            color:  #000000;\n",
       "        }    #T_fa503266_2ccb_11eb_a820_02420a392c2erow5_col4 {\n",
       "            background-color:  #fff5f0;\n",
       "            color:  #000000;\n",
       "        }    #T_fa503266_2ccb_11eb_a820_02420a392c2erow6_col0 {\n",
       "            background-color:  #fff5f0;\n",
       "            color:  #000000;\n",
       "        }    #T_fa503266_2ccb_11eb_a820_02420a392c2erow6_col1 {\n",
       "            background-color:  #fff5f0;\n",
       "            color:  #000000;\n",
       "        }    #T_fa503266_2ccb_11eb_a820_02420a392c2erow6_col2 {\n",
       "            background-color:  #fff4ef;\n",
       "            color:  #000000;\n",
       "        }    #T_fa503266_2ccb_11eb_a820_02420a392c2erow6_col3 {\n",
       "            background-color:  #fff4ef;\n",
       "            color:  #000000;\n",
       "        }    #T_fa503266_2ccb_11eb_a820_02420a392c2erow6_col4 {\n",
       "            background-color:  #ffece4;\n",
       "            color:  #000000;\n",
       "        }</style><table id=\"T_fa503266_2ccb_11eb_a820_02420a392c2e\" ><thead>    <tr>        <th class=\"blank level0\" ></th>        <th class=\"col_heading level0 col0\" >costs</th>        <th class=\"col_heading level0 col1\" >costs, %</th>        <th class=\"col_heading level0 col2\" >user_count</th>        <th class=\"col_heading level0 col3\" >user_count, %</th>        <th class=\"col_heading level0 col4\" >cac</th>    </tr>    <tr>        <th class=\"index_name level0\" >source_id</th>        <th class=\"blank\" ></th>        <th class=\"blank\" ></th>        <th class=\"blank\" ></th>        <th class=\"blank\" ></th>        <th class=\"blank\" ></th>    </tr></thead><tbody>\n",
       "                <tr>\n",
       "                        <th id=\"T_fa503266_2ccb_11eb_a820_02420a392c2elevel0_row0\" class=\"row_heading level0 row0\" >1</th>\n",
       "                        <td id=\"T_fa503266_2ccb_11eb_a820_02420a392c2erow0_col0\" class=\"data row0 col0\" >20833.3</td>\n",
       "                        <td id=\"T_fa503266_2ccb_11eb_a820_02420a392c2erow0_col1\" class=\"data row0 col1\" >6.33</td>\n",
       "                        <td id=\"T_fa503266_2ccb_11eb_a820_02420a392c2erow0_col2\" class=\"data row0 col2\" >9468</td>\n",
       "                        <td id=\"T_fa503266_2ccb_11eb_a820_02420a392c2erow0_col3\" class=\"data row0 col3\" >4.15</td>\n",
       "                        <td id=\"T_fa503266_2ccb_11eb_a820_02420a392c2erow0_col4\" class=\"data row0 col4\" >4.6</td>\n",
       "            </tr>\n",
       "            <tr>\n",
       "                        <th id=\"T_fa503266_2ccb_11eb_a820_02420a392c2elevel0_row1\" class=\"row_heading level0 row1\" >2</th>\n",
       "                        <td id=\"T_fa503266_2ccb_11eb_a820_02420a392c2erow1_col0\" class=\"data row1 col0\" >42806</td>\n",
       "                        <td id=\"T_fa503266_2ccb_11eb_a820_02420a392c2erow1_col1\" class=\"data row1 col1\" >13.01</td>\n",
       "                        <td id=\"T_fa503266_2ccb_11eb_a820_02420a392c2erow1_col2\" class=\"data row1 col2\" >17616</td>\n",
       "                        <td id=\"T_fa503266_2ccb_11eb_a820_02420a392c2erow1_col3\" class=\"data row1 col3\" >7.72</td>\n",
       "                        <td id=\"T_fa503266_2ccb_11eb_a820_02420a392c2erow1_col4\" class=\"data row1 col4\" >7.07</td>\n",
       "            </tr>\n",
       "            <tr>\n",
       "                        <th id=\"T_fa503266_2ccb_11eb_a820_02420a392c2elevel0_row2\" class=\"row_heading level0 row2\" >3</th>\n",
       "                        <td id=\"T_fa503266_2ccb_11eb_a820_02420a392c2erow2_col0\" class=\"data row2 col0\" >141322</td>\n",
       "                        <td id=\"T_fa503266_2ccb_11eb_a820_02420a392c2erow2_col1\" class=\"data row2 col1\" >42.94</td>\n",
       "                        <td id=\"T_fa503266_2ccb_11eb_a820_02420a392c2erow2_col2\" class=\"data row2 col2\" >66116</td>\n",
       "                        <td id=\"T_fa503266_2ccb_11eb_a820_02420a392c2erow2_col3\" class=\"data row2 col3\" >28.98</td>\n",
       "                        <td id=\"T_fa503266_2ccb_11eb_a820_02420a392c2erow2_col4\" class=\"data row2 col4\" >10.85</td>\n",
       "            </tr>\n",
       "            <tr>\n",
       "                        <th id=\"T_fa503266_2ccb_11eb_a820_02420a392c2elevel0_row3\" class=\"row_heading level0 row3\" >4</th>\n",
       "                        <td id=\"T_fa503266_2ccb_11eb_a820_02420a392c2erow3_col0\" class=\"data row3 col0\" >61073.6</td>\n",
       "                        <td id=\"T_fa503266_2ccb_11eb_a820_02420a392c2erow3_col1\" class=\"data row3 col1\" >18.56</td>\n",
       "                        <td id=\"T_fa503266_2ccb_11eb_a820_02420a392c2erow3_col2\" class=\"data row3 col2\" >72346</td>\n",
       "                        <td id=\"T_fa503266_2ccb_11eb_a820_02420a392c2erow3_col3\" class=\"data row3 col3\" >31.71</td>\n",
       "                        <td id=\"T_fa503266_2ccb_11eb_a820_02420a392c2erow3_col4\" class=\"data row3 col4\" >5.06</td>\n",
       "            </tr>\n",
       "            <tr>\n",
       "                        <th id=\"T_fa503266_2ccb_11eb_a820_02420a392c2elevel0_row4\" class=\"row_heading level0 row4\" >5</th>\n",
       "                        <td id=\"T_fa503266_2ccb_11eb_a820_02420a392c2erow4_col0\" class=\"data row4 col0\" >51757.1</td>\n",
       "                        <td id=\"T_fa503266_2ccb_11eb_a820_02420a392c2erow4_col1\" class=\"data row4 col1\" >15.73</td>\n",
       "                        <td id=\"T_fa503266_2ccb_11eb_a820_02420a392c2erow4_col2\" class=\"data row4 col2\" >49237</td>\n",
       "                        <td id=\"T_fa503266_2ccb_11eb_a820_02420a392c2erow4_col3\" class=\"data row4 col3\" >21.58</td>\n",
       "                        <td id=\"T_fa503266_2ccb_11eb_a820_02420a392c2erow4_col4\" class=\"data row4 col4\" >5.63</td>\n",
       "            </tr>\n",
       "            <tr>\n",
       "                        <th id=\"T_fa503266_2ccb_11eb_a820_02420a392c2elevel0_row5\" class=\"row_heading level0 row5\" >9</th>\n",
       "                        <td id=\"T_fa503266_2ccb_11eb_a820_02420a392c2erow5_col0\" class=\"data row5 col0\" >5517.49</td>\n",
       "                        <td id=\"T_fa503266_2ccb_11eb_a820_02420a392c2erow5_col1\" class=\"data row5 col1\" >1.68</td>\n",
       "                        <td id=\"T_fa503266_2ccb_11eb_a820_02420a392c2erow5_col2\" class=\"data row5 col2\" >6448</td>\n",
       "                        <td id=\"T_fa503266_2ccb_11eb_a820_02420a392c2erow5_col3\" class=\"data row5 col3\" >2.83</td>\n",
       "                        <td id=\"T_fa503266_2ccb_11eb_a820_02420a392c2erow5_col4\" class=\"data row5 col4\" >3.78</td>\n",
       "            </tr>\n",
       "            <tr>\n",
       "                        <th id=\"T_fa503266_2ccb_11eb_a820_02420a392c2elevel0_row6\" class=\"row_heading level0 row6\" >10</th>\n",
       "                        <td id=\"T_fa503266_2ccb_11eb_a820_02420a392c2erow6_col0\" class=\"data row6 col0\" >5822.49</td>\n",
       "                        <td id=\"T_fa503266_2ccb_11eb_a820_02420a392c2erow6_col1\" class=\"data row6 col1\" >1.77</td>\n",
       "                        <td id=\"T_fa503266_2ccb_11eb_a820_02420a392c2erow6_col2\" class=\"data row6 col2\" >6903</td>\n",
       "                        <td id=\"T_fa503266_2ccb_11eb_a820_02420a392c2erow6_col3\" class=\"data row6 col3\" >3.03</td>\n",
       "                        <td id=\"T_fa503266_2ccb_11eb_a820_02420a392c2erow6_col4\" class=\"data row6 col4\" >4.15</td>\n",
       "            </tr>\n",
       "    </tbody></table>"
      ],
      "text/plain": [
       "<pandas.io.formats.style.Styler at 0x7f5c6cab7a10>"
      ]
     },
     "execution_count": 103,
     "metadata": {},
     "output_type": "execute_result"
    }
   ],
   "source": [
    "report = costs_pivot.merge(cac_per_source, left_on='source_id', \n",
    "                      right_on='source', how='left')\n",
    "report.index = report['source_id']\n",
    "report = report.drop(['source','source_id'], axis=1)\n",
    "report = report[['costs','costs, %','user_count','user_count, %','cac']]\n",
    "report.style.background_gradient(cmap='Reds')"
   ]
  },
  {
   "cell_type": "markdown",
   "metadata": {},
   "source": [
    "Количество  пользователей привлеченных через первый и второй источники не велико, но и затраты соответствующие 6.33% и 13%, из двух этих источников можно рекомендовать снизить затраты второй, так как стоимость привлечения новых пользователей через него получается необснованно высокой, затраты на первый источник можно оставить на прежнем уровне\n",
    "\n",
    "Затраты на привлечение по третьему источнику выглядят самымы не эффективными, стоимость привлечения одного пользователя самая высокая, всего на источник затрачено 43% всех маркетинговых затрат а пользователей привлечено только 29%, затраты на третий источник нужно значительно снизить\n",
    "\n",
    "Четвертый источник привлечения можно признать самым эффективным, затраты составили 18.6% а привлечено было 31.7% пользователей, что делает стоимость привлечения одного пользователя самой низкой из всех источников, затраты на этот источник стоит оставить без изменений\n",
    "\n",
    "Количество пользователей привлеченных через пятый источник меньше на 10% чем через четвертый, а затраты ниже только на 2.8%, то есть резульаты хуже, но сравнимы, затраты стоит оставить без изменений\n",
    "\n",
    "Девятый и десятый источники используются недостаточно, затраты составляют менее 2% на каждый а привлечено 2.83% и 3% пользователей, средства, освобожденные после снижения затрат на  первый, второй и третий источники стоит направить именно сюда, так как, судя по стоимости привлечения одного пользователя, при соответствующем финансировании, эти источники дадут результаты сравнимые с четвертым источником"
   ]
  },
  {
   "cell_type": "markdown",
   "metadata": {},
   "source": [
    "Кроме изменения структуры маркетинговых затрат необходимо увеличить показатель удержания пользователей, в этом могут помочь различные программы лояльности\n",
    "\n",
    "Дополнительно стоит обратить внимание на привлечение пользователей мобильных устройств так как потенциал роста на этой платформе еще не выбран (пользователей на 40% меньше чем на настольных компьютерах)"
   ]
  },
  {
   "cell_type": "markdown",
   "metadata": {},
   "source": [
    "# Общий вывод<a id=\"conclusion\"></a>\n",
    "\n",
    "После загрузки данных мы обнаружили что перед началом анализа необходимо провести предобработку данных: изменить тип данных в столбцах содержащих отметки о времени и изменить наименования столбцов\n",
    "\n",
    "В процессе предобработки мы удалили две записи в которых время начала сессии было позже ее начала из таблицы visits\n",
    "\n",
    "Далее мы провели анализ данных и при выявили следующее:\n",
    "\n",
    "**Посещаемость**\n",
    "\n",
    "Всего, за год на обеих платформах было 359398 посещений, из них уникальных пользователей 235868. Количество посетителей которые заходят на Афишу с настолького компьютера на 40% больше чем посетителей с мобильных устройств. На каждого пользователя приходилось 1.1 сессий, однако в неделю и в месяц этот показатель несколько больше - 1.2 и 1.3. Средняя длительность сессии составила 643 секунды, на моибльных устройствах сессии длились на треть меньше\n",
    "\n",
    "В течении года коэффициент удержания снижается, но наблюдается рост количества возвращающихся пользователей во время новогодних праздников (декабрь-январь). В среднем коэффициент удержания среди пользователей которые используют настольные компьютеры выше чем на мобильных платформах\n",
    "\n",
    "**Заказы**\n",
    "\n",
    "За год выручка от комиссий за покупки пользователей составила 252057.2, В среднем на одного пользователя приходится 1.38 заказов через платформу (что сопоставимо со средним количеством сессий в месяц)\n",
    "\n",
    "Когортный анализ выручки показал что основную долю выручки когорты приносят в первый месяц жизни, в сочетании с низним рейтингом удержания это свидетельствует о том что в подавляющая часть посетителей совершает покупки один раз, при первом посещении, однако показатели среднего количества сессий и количества заказов пользователей показывает что некоторая часть пользователей продолжает возвращаться в течении года\n",
    "\n",
    "В среднем по когортам выручка на пользователя, в рассматриваемом периоде, составила 7.28\n",
    "\n",
    "**Затраты на привлечение**\n",
    "\n",
    "Всего на привлечение пользователей было потрачено 329131.62, анализ источников привлечения пользователей выявил что больше всего было затрачено на третий источник (43% всех затрат) с которого пришло 28% пользователей, больше всего пользователей было привлечено четвертым источником - 31%, а затраты на его использование составили 18.5% от всех маркетинговых затрат\n",
    "\n",
    "За год успели окупить инвестиции в привлечение пользователи двух когорт - июньской и сентябрьской, близки к окупаемости пользователи когорт время жизни которых включило конец года, в среднем когорты окупаются на 9 месяц жизни\n",
    "\n",
    "Стоимость привлечения одного пользователя, в среднем по когортам, составила 9.32\n",
    "\n",
    "**Рекомендации**\n",
    "\n",
    "Нами выдвинуты следующие рекомендации для маркетологов\n",
    "\n",
    "* Снизить затраты на 2 и 3 источники привлечения\n",
    "\n",
    "* Увеличить затраты на 9 и 10 источники\n",
    "\n",
    "* Увеличить коэффициент удержания пользователей путем разработки программ лояльности\n",
    "\n",
    "* Дополнительно стоит обратить внимание на привлечение пользователей мобильных устройств так как потенциал роста на этой платформе еще не выбран (пользователей на 40% меньше чем на настольных компьютерах)"
   ]
  }
 ],
 "metadata": {
  "kernelspec": {
   "display_name": "Python 3",
   "language": "python",
   "name": "python3"
  },
  "language_info": {
   "codemirror_mode": {
    "name": "ipython",
    "version": 3
   },
   "file_extension": ".py",
   "mimetype": "text/x-python",
   "name": "python",
   "nbconvert_exporter": "python",
   "pygments_lexer": "ipython3",
   "version": "3.8.3"
  }
 },
 "nbformat": 4,
 "nbformat_minor": 2
}
