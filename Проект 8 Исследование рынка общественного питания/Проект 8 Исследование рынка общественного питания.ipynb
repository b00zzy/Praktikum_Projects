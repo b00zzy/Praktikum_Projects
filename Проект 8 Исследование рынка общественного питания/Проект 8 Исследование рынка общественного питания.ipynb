{
 "cells": [
  {
   "cell_type": "markdown",
   "metadata": {},
   "source": [
    "# Исследование рынка общественного питания в Москве\n",
    "\n",
    "Для принятия решения об открытии небольшого кафе с оригинальной идеей обслуживания (роботы вместо официантов) в Москве требуется провести анализ рынка общественного питания.\n",
    "\n",
    "В нашем распоряжении имеются открытые данные о заведениях общественного питания в Москве"
   ]
  },
  {
   "cell_type": "markdown",
   "metadata": {},
   "source": [
    "# Содержание\n",
    "\n",
    "1. [Этап 1 - Загрузка и просмотр данных](#stage_1)\n",
    "  * [Вывод первого этапа](#stage_1_summary)\n",
    "        \n",
    "\n",
    "2. [Этап 2 - Анализ данных](#stage_2)\n",
    "   \n",
    "  * [Распределение объектов](#stage_2_distr)\n",
    "    * [По типам](#stage_2_distr_type)\n",
    "    * [По принадлежности к сети](#stage_2_distr_chain)\n",
    "  * [Размеры сетей](#stage_2_chains)\n",
    "  * [Размеры заведений](#stage_2_size)\n",
    "  * [Улицы и районы с наибольшим количеством объектов](#stage_2_top_10)\n",
    "  * [Улицы и районы с наименьшим количеством объектов](#stage_2_low_10)\n",
    "  * [Количество посадочных мест среди объектов на самых популярных улицах](#stage_2_sits)\n",
    "  * [Вывод второго этапа](#stage_2_summary)\n",
    "\n",
    "\n",
    "3. [Этап 3 - Рекомендации](#stage_3)\n",
    "\n",
    "\n",
    "4. [Общий вывод](#conclusion)"
   ]
  },
  {
   "cell_type": "markdown",
   "metadata": {},
   "source": [
    "Для работы с данными загрузим необходимые библиотеки"
   ]
  },
  {
   "cell_type": "code",
   "execution_count": 1,
   "metadata": {},
   "outputs": [],
   "source": [
    "import pandas as pd\n",
    "import numpy as np\n",
    "import seaborn as sns\n",
    "import matplotlib.pyplot as plt\n",
    "import requests\n",
    "from io import BytesIO"
   ]
  },
  {
   "cell_type": "markdown",
   "metadata": {},
   "source": [
    "# Этап 1 - Загрузка и просмотр данных<a id=\"stage_1\"></a>"
   ]
  },
  {
   "cell_type": "markdown",
   "metadata": {},
   "source": [
    "Загрузим предоставленные данные в датафрейм"
   ]
  },
  {
   "cell_type": "code",
   "execution_count": 2,
   "metadata": {},
   "outputs": [],
   "source": [
    "df = pd.read_csv('datasets/rest_data.csv')"
   ]
  },
  {
   "cell_type": "markdown",
   "metadata": {},
   "source": [
    "Выведем его на экран"
   ]
  },
  {
   "cell_type": "code",
   "execution_count": 3,
   "metadata": {},
   "outputs": [
    {
     "data": {
      "text/html": [
       "<div>\n",
       "<style scoped>\n",
       "    .dataframe tbody tr th:only-of-type {\n",
       "        vertical-align: middle;\n",
       "    }\n",
       "\n",
       "    .dataframe tbody tr th {\n",
       "        vertical-align: top;\n",
       "    }\n",
       "\n",
       "    .dataframe thead th {\n",
       "        text-align: right;\n",
       "    }\n",
       "</style>\n",
       "<table border=\"1\" class=\"dataframe\">\n",
       "  <thead>\n",
       "    <tr style=\"text-align: right;\">\n",
       "      <th></th>\n",
       "      <th>id</th>\n",
       "      <th>object_name</th>\n",
       "      <th>chain</th>\n",
       "      <th>object_type</th>\n",
       "      <th>address</th>\n",
       "      <th>number</th>\n",
       "    </tr>\n",
       "  </thead>\n",
       "  <tbody>\n",
       "    <tr>\n",
       "      <th>0</th>\n",
       "      <td>151635</td>\n",
       "      <td>СМЕТАНА</td>\n",
       "      <td>нет</td>\n",
       "      <td>кафе</td>\n",
       "      <td>город Москва, улица Егора Абакумова, дом 9</td>\n",
       "      <td>48</td>\n",
       "    </tr>\n",
       "    <tr>\n",
       "      <th>1</th>\n",
       "      <td>77874</td>\n",
       "      <td>Родник</td>\n",
       "      <td>нет</td>\n",
       "      <td>кафе</td>\n",
       "      <td>город Москва, улица Талалихина, дом 2/1, корпус 1</td>\n",
       "      <td>35</td>\n",
       "    </tr>\n",
       "    <tr>\n",
       "      <th>2</th>\n",
       "      <td>24309</td>\n",
       "      <td>Кафе «Академия»</td>\n",
       "      <td>нет</td>\n",
       "      <td>кафе</td>\n",
       "      <td>город Москва, Абельмановская улица, дом 6</td>\n",
       "      <td>95</td>\n",
       "    </tr>\n",
       "    <tr>\n",
       "      <th>3</th>\n",
       "      <td>21894</td>\n",
       "      <td>ПИЦЦЕТОРИЯ</td>\n",
       "      <td>да</td>\n",
       "      <td>кафе</td>\n",
       "      <td>город Москва, Абрамцевская улица, дом 1</td>\n",
       "      <td>40</td>\n",
       "    </tr>\n",
       "    <tr>\n",
       "      <th>4</th>\n",
       "      <td>119365</td>\n",
       "      <td>Кафе «Вишневая метель»</td>\n",
       "      <td>нет</td>\n",
       "      <td>кафе</td>\n",
       "      <td>город Москва, Абрамцевская улица, дом 9, корпус 1</td>\n",
       "      <td>50</td>\n",
       "    </tr>\n",
       "  </tbody>\n",
       "</table>\n",
       "</div>"
      ],
      "text/plain": [
       "       id             object_name chain object_type  \\\n",
       "0  151635                 СМЕТАНА   нет        кафе   \n",
       "1   77874                  Родник   нет        кафе   \n",
       "2   24309         Кафе «Академия»   нет        кафе   \n",
       "3   21894              ПИЦЦЕТОРИЯ    да        кафе   \n",
       "4  119365  Кафе «Вишневая метель»   нет        кафе   \n",
       "\n",
       "                                             address  number  \n",
       "0         город Москва, улица Егора Абакумова, дом 9      48  \n",
       "1  город Москва, улица Талалихина, дом 2/1, корпус 1      35  \n",
       "2          город Москва, Абельмановская улица, дом 6      95  \n",
       "3            город Москва, Абрамцевская улица, дом 1      40  \n",
       "4  город Москва, Абрамцевская улица, дом 9, корпус 1      50  "
      ]
     },
     "execution_count": 3,
     "metadata": {},
     "output_type": "execute_result"
    }
   ],
   "source": [
    "df.head()"
   ]
  },
  {
   "cell_type": "markdown",
   "metadata": {},
   "source": [
    "Общая информация о содержимом"
   ]
  },
  {
   "cell_type": "code",
   "execution_count": 4,
   "metadata": {},
   "outputs": [
    {
     "name": "stdout",
     "output_type": "stream",
     "text": [
      "<class 'pandas.core.frame.DataFrame'>\n",
      "RangeIndex: 15366 entries, 0 to 15365\n",
      "Data columns (total 6 columns):\n",
      " #   Column       Non-Null Count  Dtype \n",
      "---  ------       --------------  ----- \n",
      " 0   id           15366 non-null  int64 \n",
      " 1   object_name  15366 non-null  object\n",
      " 2   chain        15366 non-null  object\n",
      " 3   object_type  15366 non-null  object\n",
      " 4   address      15366 non-null  object\n",
      " 5   number       15366 non-null  int64 \n",
      "dtypes: int64(2), object(4)\n",
      "memory usage: 720.4+ KB\n"
     ]
    }
   ],
   "source": [
    "df.info()"
   ]
  },
  {
   "cell_type": "markdown",
   "metadata": {},
   "source": [
    "Таблица содержит следующую информацию\n",
    "\n",
    "* id — идентификатор объекта\n",
    "* object_name — название объекта общественного питания\n",
    "* chain — принадлежность к сети\n",
    "* object_type — тип объекта общественного питания\n",
    "* address — адрес\n",
    "* number — количество посадочных мест\n",
    "\n",
    "В таблице нет пропусков, типы данных преобразований не требуют"
   ]
  },
  {
   "cell_type": "markdown",
   "metadata": {},
   "source": [
    "Проверим таблицу на дубликаты"
   ]
  },
  {
   "cell_type": "code",
   "execution_count": 5,
   "metadata": {},
   "outputs": [
    {
     "data": {
      "text/plain": [
       "0"
      ]
     },
     "execution_count": 5,
     "metadata": {},
     "output_type": "execute_result"
    }
   ],
   "source": [
    "df.duplicated().sum()"
   ]
  },
  {
   "cell_type": "markdown",
   "metadata": {},
   "source": [
    "Дублей нет"
   ]
  },
  {
   "cell_type": "markdown",
   "metadata": {},
   "source": [
    "Проверим категориальные данные на уникальность значений"
   ]
  },
  {
   "cell_type": "code",
   "execution_count": 6,
   "metadata": {},
   "outputs": [
    {
     "data": {
      "text/plain": [
       "array(['нет', 'да'], dtype=object)"
      ]
     },
     "execution_count": 6,
     "metadata": {},
     "output_type": "execute_result"
    }
   ],
   "source": [
    "df['chain'].unique()"
   ]
  },
  {
   "cell_type": "markdown",
   "metadata": {},
   "source": [
    "Обозначение сети объектов нормальное"
   ]
  },
  {
   "cell_type": "code",
   "execution_count": 7,
   "metadata": {},
   "outputs": [
    {
     "data": {
      "text/plain": [
       "array(['кафе', 'столовая', 'закусочная',\n",
       "       'предприятие быстрого обслуживания', 'ресторан', 'кафетерий',\n",
       "       'буфет', 'бар', 'магазин (отдел кулинарии)'], dtype=object)"
      ]
     },
     "execution_count": 7,
     "metadata": {},
     "output_type": "execute_result"
    }
   ],
   "source": [
    "df['object_type'].unique()"
   ]
  },
  {
   "cell_type": "markdown",
   "metadata": {},
   "source": [
    "Мы видим два очень длинных названия типов объектов:\n",
    "* предприятие быстрого обслуживания\n",
    "* магазин (отдел кулинарии)\n",
    "\n",
    "В анализе они создадут нам проблемы при построении графиков, сократим названия: \"предприятие быстрого обслуживания\" - \"ПБО\", \"магазин (отдел кулинарии)\" - \"магазин\""
   ]
  },
  {
   "cell_type": "code",
   "execution_count": 8,
   "metadata": {},
   "outputs": [],
   "source": [
    "df['object_type'] = df['object_type'].replace({'предприятие быстрого обслуживания':'ПБО',\n",
    "                                               'магазин (отдел кулинарии)':'магазин'})"
   ]
  },
  {
   "cell_type": "markdown",
   "metadata": {},
   "source": [
    "Проверим id на уникальность"
   ]
  },
  {
   "cell_type": "code",
   "execution_count": 9,
   "metadata": {},
   "outputs": [
    {
     "data": {
      "text/plain": [
       "15366"
      ]
     },
     "execution_count": 9,
     "metadata": {},
     "output_type": "execute_result"
    }
   ],
   "source": [
    "df['id'].nunique()"
   ]
  },
  {
   "cell_type": "markdown",
   "metadata": {},
   "source": [
    "Количество уникальных значений совпадает с количеством записей в таблице, все в порядке"
   ]
  },
  {
   "cell_type": "markdown",
   "metadata": {},
   "source": [
    "## Вывод<a id=\"stage_1_summary\"></a>\n",
    "\n",
    "После загрузки данных мы провели беглый анализ и обнаружили что в данных нет пропусков и дублей, категориальные переменные без ошибок\n",
    "\n",
    "Единственное изменение которое мы провели на этом этапе - сократили наименования двух типов объектов общественного питания для того чтобы они не портили внешний вид графиков:\n",
    "\n",
    "* предприятие быстрого обслуживания - ПБО\n",
    "* магазин (отдел кулинарии) - магазин\n",
    "\n",
    "В целом предоставленные данные выглядят хорошо"
   ]
  },
  {
   "cell_type": "markdown",
   "metadata": {},
   "source": [
    "# Этап 2 - Анализ данных<a id=\"stage_2\"></a>"
   ]
  },
  {
   "cell_type": "markdown",
   "metadata": {},
   "source": [
    "## Распределение объектов<a id=\"stage_2_distr\"></a>"
   ]
  },
  {
   "cell_type": "markdown",
   "metadata": {},
   "source": [
    "Оценим распределение объектов в разрезе их типов и принадлежности к сетям"
   ]
  },
  {
   "cell_type": "markdown",
   "metadata": {},
   "source": [
    "### По типам<a id=\"stage_2_distr_type\"></a>"
   ]
  },
  {
   "cell_type": "markdown",
   "metadata": {},
   "source": [
    "Абсолютное количество заведений по типам"
   ]
  },
  {
   "cell_type": "code",
   "execution_count": 10,
   "metadata": {},
   "outputs": [
    {
     "data": {
      "text/plain": [
       "кафе          6099\n",
       "столовая      2587\n",
       "ресторан      2285\n",
       "ПБО           1923\n",
       "бар            856\n",
       "буфет          585\n",
       "кафетерий      398\n",
       "закусочная     360\n",
       "магазин        273\n",
       "Name: object_type, dtype: int64"
      ]
     },
     "execution_count": 10,
     "metadata": {},
     "output_type": "execute_result"
    }
   ],
   "source": [
    "df['object_type'].value_counts()"
   ]
  },
  {
   "cell_type": "markdown",
   "metadata": {},
   "source": [
    "На первом месте кафе (6099 объектов), на втором и третьем, с отставанием в 2,5 раза, столовые и рестораны"
   ]
  },
  {
   "cell_type": "markdown",
   "metadata": {},
   "source": [
    "Построим гистограмму распределения долей"
   ]
  },
  {
   "cell_type": "code",
   "execution_count": 11,
   "metadata": {
    "scrolled": false
   },
   "outputs": [
    {
     "data": {
      "image/png": "[encoded data removed]",
      "text/plain": [
       "<Figure size 864x432 with 1 Axes>"
      ]
     },
     "metadata": {
      "needs_background": "light"
     },
     "output_type": "display_data"
    }
   ],
   "source": [
    "plt.figure(figsize=(12,6))\n",
    "sns.barplot(x=df['object_type'].value_counts(normalize=True).index, \n",
    "            y=df['object_type'].value_counts(normalize=True))\n",
    "plt.title('Доля объектов общественного питания по типам', fontsize=14, pad=14)\n",
    "plt.xlabel('Тип объекта', fontsize=12, labelpad=12)\n",
    "plt.ylabel('Доля', fontsize=12, labelpad=12)\n",
    "plt.xticks(fontsize=10)\n",
    "plt.yticks(fontsize=10)\n",
    "sns.despine() \n",
    "plt.show()"
   ]
  },
  {
   "cell_type": "markdown",
   "metadata": {},
   "source": [
    "40% рынка заняты кафе, 17 и 15 процентов столовыми и ресторанами соотвественно, предприятия быстрого обслуживания занимают 13% рынка "
   ]
  },
  {
   "cell_type": "markdown",
   "metadata": {},
   "source": [
    "### По принадлежности к сети<a id=\"stage_2_distr_chain\"></a>"
   ]
  },
  {
   "cell_type": "markdown",
   "metadata": {},
   "source": [
    "Выясним количество сетевых заведений среди всех объектов"
   ]
  },
  {
   "cell_type": "code",
   "execution_count": 12,
   "metadata": {},
   "outputs": [
    {
     "data": {
      "text/html": [
       "<div>\n",
       "<style scoped>\n",
       "    .dataframe tbody tr th:only-of-type {\n",
       "        vertical-align: middle;\n",
       "    }\n",
       "\n",
       "    .dataframe tbody tr th {\n",
       "        vertical-align: top;\n",
       "    }\n",
       "\n",
       "    .dataframe thead th {\n",
       "        text-align: right;\n",
       "    }\n",
       "</style>\n",
       "<table border=\"1\" class=\"dataframe\">\n",
       "  <thead>\n",
       "    <tr style=\"text-align: right;\">\n",
       "      <th></th>\n",
       "      <th>chain</th>\n",
       "      <th>id</th>\n",
       "    </tr>\n",
       "  </thead>\n",
       "  <tbody>\n",
       "    <tr>\n",
       "      <th>0</th>\n",
       "      <td>да</td>\n",
       "      <td>2968</td>\n",
       "    </tr>\n",
       "    <tr>\n",
       "      <th>1</th>\n",
       "      <td>нет</td>\n",
       "      <td>12398</td>\n",
       "    </tr>\n",
       "  </tbody>\n",
       "</table>\n",
       "</div>"
      ],
      "text/plain": [
       "  chain     id\n",
       "0    да   2968\n",
       "1   нет  12398"
      ]
     },
     "execution_count": 12,
     "metadata": {},
     "output_type": "execute_result"
    }
   ],
   "source": [
    "df.pivot_table(index='chain', values='id', aggfunc='count').reset_index()"
   ]
  },
  {
   "cell_type": "markdown",
   "metadata": {},
   "source": [
    "Всего в наших данных 2968 сетевых заведений и 12398 не сетевых, на графике это соотношение выглядит следующим образом"
   ]
  },
  {
   "cell_type": "code",
   "execution_count": 13,
   "metadata": {},
   "outputs": [
    {
     "data": {
      "image/png": "[encoded data removed]",
      "text/plain": [
       "<Figure size 864x432 with 1 Axes>"
      ]
     },
     "metadata": {},
     "output_type": "display_data"
    }
   ],
   "source": [
    "plt.figure(figsize=(12,6))\n",
    "plt.pie(df.pivot_table(index='chain', values='id', aggfunc='count').reset_index()['id'],\n",
    "        autopct=\"%.1f%%\")\n",
    "plt.legend(['Сетевое','Не сетевое'])\n",
    "plt.title('Распределение объектов общественного питания по принадлежности к сети', \n",
    "          fontsize=14, pad=14)\n",
    "plt.show()"
   ]
  },
  {
   "cell_type": "markdown",
   "metadata": {},
   "source": [
    "Создадим сводную таблицу с указанием доли сетевых заведений среди каждого типа объектов"
   ]
  },
  {
   "cell_type": "code",
   "execution_count": 14,
   "metadata": {
    "scrolled": false
   },
   "outputs": [],
   "source": [
    "chain_per_type = df.pivot_table(index=['object_type','chain'], \n",
    "                                values='id', aggfunc='count').reset_index()\n",
    "chain_per_type['%'] = chain_per_type.apply(lambda x: round(x['id'] / chain_per_type[chain_per_type['object_type'] == x['object_type']]['id'].sum(), 2), axis=1)\n",
    "chain_per_type = chain_per_type.sort_values('%', ascending=False)"
   ]
  },
  {
   "cell_type": "code",
   "execution_count": 15,
   "metadata": {},
   "outputs": [
    {
     "data": {
      "image/png": "[encoded data removed]",
      "text/plain": [
       "<Figure size 864x432 with 1 Axes>"
      ]
     },
     "metadata": {
      "needs_background": "light"
     },
     "output_type": "display_data"
    }
   ],
   "source": [
    "plt.figure(figsize=(12,6))\n",
    "sns.barplot(x=chain_per_type[chain_per_type['chain'] == 'да']['object_type'], \n",
    "            y=chain_per_type[chain_per_type['chain'] == 'да']['%'])\n",
    "plt.title('Доля сетевых заведений среди объектов общественного питания по типам', fontsize=14, pad=14)\n",
    "plt.xlabel('Тип объекта', fontsize=12, labelpad=12)\n",
    "plt.ylabel('Доля', fontsize=12, labelpad=12)\n",
    "plt.xticks(fontsize=10)\n",
    "plt.yticks(fontsize=10)\n",
    "sns.despine()\n",
    "plt.show()"
   ]
  },
  {
   "cell_type": "markdown",
   "metadata": {},
   "source": [
    "Наибольшие доли сетевых заведений среди предприятий быстрого обслуживания (42%) и среди магазинов (29%)"
   ]
  },
  {
   "cell_type": "markdown",
   "metadata": {},
   "source": [
    "## Размеры сетей<a id=\"stage_2_chains\"></a>"
   ]
  },
  {
   "cell_type": "markdown",
   "metadata": {},
   "source": [
    "Для оценки количества заведений в сетях заведений построим сводную таблицу"
   ]
  },
  {
   "cell_type": "code",
   "execution_count": 16,
   "metadata": {},
   "outputs": [],
   "source": [
    "chains = df[df['chain'] == 'да'].pivot_table(index=['object_name'], \n",
    "                                             values=['id','number'], \n",
    "                                             aggfunc={'id':'count','number':'mean'}).reset_index()\n",
    "chains.columns = ['object_name','count_id','mean_number']"
   ]
  },
  {
   "cell_type": "code",
   "execution_count": 17,
   "metadata": {},
   "outputs": [
    {
     "data": {
      "text/plain": [
       "724"
      ]
     },
     "execution_count": 17,
     "metadata": {},
     "output_type": "execute_result"
    }
   ],
   "source": [
    "len(chains)"
   ]
  },
  {
   "cell_type": "markdown",
   "metadata": {},
   "source": [
    "Всего в нашем распоряжении имеются сведения о 724 сетях, оценим количество заведений в них, для этого выведем на экран размеры сетей отсортированные по убыванию заведений в сетях"
   ]
  },
  {
   "cell_type": "code",
   "execution_count": 18,
   "metadata": {},
   "outputs": [
    {
     "data": {
      "text/plain": [
       "1    450\n",
       "2     99\n",
       "3     44\n",
       "4     24\n",
       "5     21\n",
       "Name: count_id, dtype: int64"
      ]
     },
     "execution_count": 18,
     "metadata": {},
     "output_type": "execute_result"
    }
   ],
   "source": [
    "chains['count_id'].value_counts().head()"
   ]
  },
  {
   "cell_type": "markdown",
   "metadata": {},
   "source": [
    "Мы видим что 450 \"сетей\" включают в себя всего одно заведение, выведем часть из них на экран"
   ]
  },
  {
   "cell_type": "code",
   "execution_count": 19,
   "metadata": {},
   "outputs": [
    {
     "data": {
      "text/html": [
       "<div>\n",
       "<style scoped>\n",
       "    .dataframe tbody tr th:only-of-type {\n",
       "        vertical-align: middle;\n",
       "    }\n",
       "\n",
       "    .dataframe tbody tr th {\n",
       "        vertical-align: top;\n",
       "    }\n",
       "\n",
       "    .dataframe thead th {\n",
       "        text-align: right;\n",
       "    }\n",
       "</style>\n",
       "<table border=\"1\" class=\"dataframe\">\n",
       "  <thead>\n",
       "    <tr style=\"text-align: right;\">\n",
       "      <th></th>\n",
       "      <th>object_name</th>\n",
       "      <th>count_id</th>\n",
       "      <th>mean_number</th>\n",
       "    </tr>\n",
       "  </thead>\n",
       "  <tbody>\n",
       "    <tr>\n",
       "      <th>0</th>\n",
       "      <td>Beverly Hills Diner</td>\n",
       "      <td>1</td>\n",
       "      <td>88.0</td>\n",
       "    </tr>\n",
       "    <tr>\n",
       "      <th>1</th>\n",
       "      <td>Bierloga</td>\n",
       "      <td>1</td>\n",
       "      <td>75.0</td>\n",
       "    </tr>\n",
       "    <tr>\n",
       "      <th>2</th>\n",
       "      <td>Black &amp; White</td>\n",
       "      <td>1</td>\n",
       "      <td>40.0</td>\n",
       "    </tr>\n",
       "    <tr>\n",
       "      <th>4</th>\n",
       "      <td>BooBo</td>\n",
       "      <td>1</td>\n",
       "      <td>46.0</td>\n",
       "    </tr>\n",
       "    <tr>\n",
       "      <th>5</th>\n",
       "      <td>Bubbleology</td>\n",
       "      <td>1</td>\n",
       "      <td>6.0</td>\n",
       "    </tr>\n",
       "    <tr>\n",
       "      <th>...</th>\n",
       "      <td>...</td>\n",
       "      <td>...</td>\n",
       "      <td>...</td>\n",
       "    </tr>\n",
       "    <tr>\n",
       "      <th>718</th>\n",
       "      <td>кафе «Нияма»</td>\n",
       "      <td>1</td>\n",
       "      <td>80.0</td>\n",
       "    </tr>\n",
       "    <tr>\n",
       "      <th>719</th>\n",
       "      <td>кафе «Папа Джонс»</td>\n",
       "      <td>1</td>\n",
       "      <td>24.0</td>\n",
       "    </tr>\n",
       "    <tr>\n",
       "      <th>721</th>\n",
       "      <td>кафе «Шоколадница»</td>\n",
       "      <td>1</td>\n",
       "      <td>50.0</td>\n",
       "    </tr>\n",
       "    <tr>\n",
       "      <th>722</th>\n",
       "      <td>ресторан «Брудер»</td>\n",
       "      <td>1</td>\n",
       "      <td>86.0</td>\n",
       "    </tr>\n",
       "    <tr>\n",
       "      <th>723</th>\n",
       "      <td>ресторан «Якитория»</td>\n",
       "      <td>1</td>\n",
       "      <td>124.0</td>\n",
       "    </tr>\n",
       "  </tbody>\n",
       "</table>\n",
       "<p>450 rows × 3 columns</p>\n",
       "</div>"
      ],
      "text/plain": [
       "             object_name  count_id  mean_number\n",
       "0    Beverly Hills Diner         1         88.0\n",
       "1               Bierloga         1         75.0\n",
       "2          Black & White         1         40.0\n",
       "4                  BooBo         1         46.0\n",
       "5            Bubbleology         1          6.0\n",
       "..                   ...       ...          ...\n",
       "718         кафе «Нияма»         1         80.0\n",
       "719    кафе «Папа Джонс»         1         24.0\n",
       "721   кафе «Шоколадница»         1         50.0\n",
       "722    ресторан «Брудер»         1         86.0\n",
       "723  ресторан «Якитория»         1        124.0\n",
       "\n",
       "[450 rows x 3 columns]"
      ]
     },
     "execution_count": 19,
     "metadata": {},
     "output_type": "execute_result"
    }
   ],
   "source": [
    "chains[chains['count_id'] == 1]"
   ]
  },
  {
   "cell_type": "markdown",
   "metadata": {},
   "source": [
    "Из реального мира мы знаем что \"Шоколадница\" и \"Якитория\" это крупные сети заведений, но в нашей группировке они отобразились как сети из всего одного заведения, выведем их на экран"
   ]
  },
  {
   "cell_type": "code",
   "execution_count": 20,
   "metadata": {},
   "outputs": [
    {
     "data": {
      "text/html": [
       "<div>\n",
       "<style scoped>\n",
       "    .dataframe tbody tr th:only-of-type {\n",
       "        vertical-align: middle;\n",
       "    }\n",
       "\n",
       "    .dataframe tbody tr th {\n",
       "        vertical-align: top;\n",
       "    }\n",
       "\n",
       "    .dataframe thead th {\n",
       "        text-align: right;\n",
       "    }\n",
       "</style>\n",
       "<table border=\"1\" class=\"dataframe\">\n",
       "  <thead>\n",
       "    <tr style=\"text-align: right;\">\n",
       "      <th></th>\n",
       "      <th>id</th>\n",
       "      <th>object_name</th>\n",
       "      <th>chain</th>\n",
       "      <th>object_type</th>\n",
       "      <th>address</th>\n",
       "      <th>number</th>\n",
       "    </tr>\n",
       "  </thead>\n",
       "  <tbody>\n",
       "    <tr>\n",
       "      <th>148</th>\n",
       "      <td>27207</td>\n",
       "      <td>ресторан «Якитория»</td>\n",
       "      <td>да</td>\n",
       "      <td>кафе</td>\n",
       "      <td>город Москва, Валовая улица, дом 8/18</td>\n",
       "      <td>124</td>\n",
       "    </tr>\n",
       "    <tr>\n",
       "      <th>205</th>\n",
       "      <td>22005</td>\n",
       "      <td>Кафе «Якитория»</td>\n",
       "      <td>да</td>\n",
       "      <td>кафе</td>\n",
       "      <td>город Москва, Волгоградский проспект, дом 15</td>\n",
       "      <td>158</td>\n",
       "    </tr>\n",
       "    <tr>\n",
       "      <th>591</th>\n",
       "      <td>134332</td>\n",
       "      <td>Кофейня «Шоколадница»</td>\n",
       "      <td>да</td>\n",
       "      <td>кафе</td>\n",
       "      <td>город Москва, Ленинский проспект, дом 37А</td>\n",
       "      <td>43</td>\n",
       "    </tr>\n",
       "    <tr>\n",
       "      <th>700</th>\n",
       "      <td>142956</td>\n",
       "      <td>Ресторан «Якитория»</td>\n",
       "      <td>да</td>\n",
       "      <td>ресторан</td>\n",
       "      <td>город Москва, проспект Мира, дом 97</td>\n",
       "      <td>25</td>\n",
       "    </tr>\n",
       "    <tr>\n",
       "      <th>764</th>\n",
       "      <td>25442</td>\n",
       "      <td>Кафе «Якитория»</td>\n",
       "      <td>да</td>\n",
       "      <td>кафе</td>\n",
       "      <td>город Москва, Нижегородская улица, дом 2, корп...</td>\n",
       "      <td>106</td>\n",
       "    </tr>\n",
       "    <tr>\n",
       "      <th>887</th>\n",
       "      <td>21774</td>\n",
       "      <td>Кафе «Шоколадница»</td>\n",
       "      <td>да</td>\n",
       "      <td>кафе</td>\n",
       "      <td>город Москва, улица Шаболовка, дом 30/12</td>\n",
       "      <td>48</td>\n",
       "    </tr>\n",
       "    <tr>\n",
       "      <th>1738</th>\n",
       "      <td>69008</td>\n",
       "      <td>Кафе «Шоколадница»</td>\n",
       "      <td>нет</td>\n",
       "      <td>кафе</td>\n",
       "      <td>город Москва, Ломоносовский проспект, дом 25, ...</td>\n",
       "      <td>50</td>\n",
       "    </tr>\n",
       "    <tr>\n",
       "      <th>1819</th>\n",
       "      <td>76640</td>\n",
       "      <td>Ресторан «Якитория»</td>\n",
       "      <td>нет</td>\n",
       "      <td>ресторан</td>\n",
       "      <td>город Москва, Шмитовский проезд, дом 16, строе...</td>\n",
       "      <td>139</td>\n",
       "    </tr>\n",
       "    <tr>\n",
       "      <th>1825</th>\n",
       "      <td>24304</td>\n",
       "      <td>Кафе «Шоколадница»</td>\n",
       "      <td>да</td>\n",
       "      <td>кафе</td>\n",
       "      <td>город Москва, улица Большие Каменщики, дом 2</td>\n",
       "      <td>67</td>\n",
       "    </tr>\n",
       "    <tr>\n",
       "      <th>2940</th>\n",
       "      <td>19941</td>\n",
       "      <td>Кафе «Якитория»</td>\n",
       "      <td>да</td>\n",
       "      <td>кафе</td>\n",
       "      <td>город Москва, улица Коштоянца, дом 2, корпус 1</td>\n",
       "      <td>101</td>\n",
       "    </tr>\n",
       "    <tr>\n",
       "      <th>3405</th>\n",
       "      <td>71665</td>\n",
       "      <td>КАФЕ «Шоколадница»</td>\n",
       "      <td>да</td>\n",
       "      <td>кафе</td>\n",
       "      <td>город Москва, Мичуринский проспект, дом 22, ко...</td>\n",
       "      <td>68</td>\n",
       "    </tr>\n",
       "    <tr>\n",
       "      <th>3637</th>\n",
       "      <td>21782</td>\n",
       "      <td>кафе «Шоколадница»</td>\n",
       "      <td>да</td>\n",
       "      <td>кафе</td>\n",
       "      <td>город Москва, Климентовский переулок, дом 10, ...</td>\n",
       "      <td>50</td>\n",
       "    </tr>\n",
       "    <tr>\n",
       "      <th>3906</th>\n",
       "      <td>85913</td>\n",
       "      <td>Кафе «Шоколадница»</td>\n",
       "      <td>да</td>\n",
       "      <td>кафе</td>\n",
       "      <td>город Москва, улица Сергия Радонежского, дом 2...</td>\n",
       "      <td>75</td>\n",
       "    </tr>\n",
       "    <tr>\n",
       "      <th>5335</th>\n",
       "      <td>58897</td>\n",
       "      <td>Кофейня Шоколадница</td>\n",
       "      <td>да</td>\n",
       "      <td>кафе</td>\n",
       "      <td>город Москва, Снежная улица, дом 27</td>\n",
       "      <td>80</td>\n",
       "    </tr>\n",
       "    <tr>\n",
       "      <th>5357</th>\n",
       "      <td>25477</td>\n",
       "      <td>Кафе Якитория</td>\n",
       "      <td>да</td>\n",
       "      <td>кафе</td>\n",
       "      <td>город Москва, Костромская улица, дом 17</td>\n",
       "      <td>100</td>\n",
       "    </tr>\n",
       "    <tr>\n",
       "      <th>5806</th>\n",
       "      <td>21732</td>\n",
       "      <td>Кафе «Шоколадница»</td>\n",
       "      <td>да</td>\n",
       "      <td>кафе</td>\n",
       "      <td>город Москва, Люблинская улица, дом 165, корпус 1</td>\n",
       "      <td>50</td>\n",
       "    </tr>\n",
       "    <tr>\n",
       "      <th>5893</th>\n",
       "      <td>102189</td>\n",
       "      <td>Кафе «Шоколадница»</td>\n",
       "      <td>да</td>\n",
       "      <td>кафе</td>\n",
       "      <td>город Москва, улица Перерва, дом 43, корпус 1</td>\n",
       "      <td>44</td>\n",
       "    </tr>\n",
       "    <tr>\n",
       "      <th>6265</th>\n",
       "      <td>88627</td>\n",
       "      <td>Кофейня Шоколадница</td>\n",
       "      <td>да</td>\n",
       "      <td>кафе</td>\n",
       "      <td>город Москва, Старокачаловская улица, дом 5А</td>\n",
       "      <td>76</td>\n",
       "    </tr>\n",
       "    <tr>\n",
       "      <th>6353</th>\n",
       "      <td>19983</td>\n",
       "      <td>Кафе «Якитория»</td>\n",
       "      <td>да</td>\n",
       "      <td>кафе</td>\n",
       "      <td>город Москва, проспект Вернадского, дом 121, к...</td>\n",
       "      <td>100</td>\n",
       "    </tr>\n",
       "    <tr>\n",
       "      <th>6400</th>\n",
       "      <td>19854</td>\n",
       "      <td>Кафе «Шоколадница»</td>\n",
       "      <td>да</td>\n",
       "      <td>кафе</td>\n",
       "      <td>город Москва, площадь Джавахарлала Неру, дом 1</td>\n",
       "      <td>40</td>\n",
       "    </tr>\n",
       "    <tr>\n",
       "      <th>6450</th>\n",
       "      <td>19857</td>\n",
       "      <td>Кафе «Шоколадница»</td>\n",
       "      <td>да</td>\n",
       "      <td>кафе</td>\n",
       "      <td>город Москва, улица Мичуринский Проспект, Олим...</td>\n",
       "      <td>84</td>\n",
       "    </tr>\n",
       "    <tr>\n",
       "      <th>6486</th>\n",
       "      <td>22911</td>\n",
       "      <td>Кафе «Шоколадница»</td>\n",
       "      <td>да</td>\n",
       "      <td>кафе</td>\n",
       "      <td>город Москва, проспект Вернадского, дом 6</td>\n",
       "      <td>84</td>\n",
       "    </tr>\n",
       "    <tr>\n",
       "      <th>6711</th>\n",
       "      <td>20029</td>\n",
       "      <td>Кафе «Шоколадница»</td>\n",
       "      <td>да</td>\n",
       "      <td>кафе</td>\n",
       "      <td>город Москва, Багратионовский проезд, дом 5</td>\n",
       "      <td>15</td>\n",
       "    </tr>\n",
       "    <tr>\n",
       "      <th>7250</th>\n",
       "      <td>25462</td>\n",
       "      <td>Кафе «Шоколадница»</td>\n",
       "      <td>да</td>\n",
       "      <td>кафе</td>\n",
       "      <td>город Москва, город Зеленоград, Крюковская пло...</td>\n",
       "      <td>89</td>\n",
       "    </tr>\n",
       "    <tr>\n",
       "      <th>7449</th>\n",
       "      <td>25662</td>\n",
       "      <td>Кофейня «Шоколадница»</td>\n",
       "      <td>да</td>\n",
       "      <td>кафе</td>\n",
       "      <td>город Москва, Балаклавский проспект, дом 5А</td>\n",
       "      <td>64</td>\n",
       "    </tr>\n",
       "    <tr>\n",
       "      <th>7466</th>\n",
       "      <td>87133</td>\n",
       "      <td>Кофейня «Шоколадница»</td>\n",
       "      <td>да</td>\n",
       "      <td>кафе</td>\n",
       "      <td>город Москва, Кировоградская улица, дом 14</td>\n",
       "      <td>46</td>\n",
       "    </tr>\n",
       "    <tr>\n",
       "      <th>7702</th>\n",
       "      <td>152159</td>\n",
       "      <td>Кафе «Шоколадница»</td>\n",
       "      <td>да</td>\n",
       "      <td>кафе</td>\n",
       "      <td>город Москва, Варшавское шоссе, дом 160</td>\n",
       "      <td>20</td>\n",
       "    </tr>\n",
       "    <tr>\n",
       "      <th>7705</th>\n",
       "      <td>73493</td>\n",
       "      <td>Кафе «Шоколадница»</td>\n",
       "      <td>да</td>\n",
       "      <td>кафе</td>\n",
       "      <td>город Москва, Каширское шоссе, дом 26</td>\n",
       "      <td>60</td>\n",
       "    </tr>\n",
       "    <tr>\n",
       "      <th>8685</th>\n",
       "      <td>134644</td>\n",
       "      <td>Кафе «Шоколадница»</td>\n",
       "      <td>да</td>\n",
       "      <td>кафе</td>\n",
       "      <td>город Москва, проспект Вернадского, дом 86А</td>\n",
       "      <td>60</td>\n",
       "    </tr>\n",
       "    <tr>\n",
       "      <th>12128</th>\n",
       "      <td>175234</td>\n",
       "      <td>Кафе «Шоколадница»</td>\n",
       "      <td>да</td>\n",
       "      <td>кафе</td>\n",
       "      <td>город Москва, Автозаводская улица, дом 9/1</td>\n",
       "      <td>70</td>\n",
       "    </tr>\n",
       "    <tr>\n",
       "      <th>12166</th>\n",
       "      <td>191114</td>\n",
       "      <td>Кафе «Шоколадница»</td>\n",
       "      <td>нет</td>\n",
       "      <td>кафе</td>\n",
       "      <td>город Москва, Садовая-Кудринская улица, дом 3А</td>\n",
       "      <td>56</td>\n",
       "    </tr>\n",
       "    <tr>\n",
       "      <th>15359</th>\n",
       "      <td>222077</td>\n",
       "      <td>Кофейня «Шоколадница»</td>\n",
       "      <td>да</td>\n",
       "      <td>кафе</td>\n",
       "      <td>город Москва, Кантемировская улица, дом 47</td>\n",
       "      <td>72</td>\n",
       "    </tr>\n",
       "  </tbody>\n",
       "</table>\n",
       "</div>"
      ],
      "text/plain": [
       "           id            object_name chain object_type  \\\n",
       "148     27207    ресторан «Якитория»    да        кафе   \n",
       "205     22005        Кафе «Якитория»    да        кафе   \n",
       "591    134332  Кофейня «Шоколадница»    да        кафе   \n",
       "700    142956    Ресторан «Якитория»    да    ресторан   \n",
       "764     25442        Кафе «Якитория»    да        кафе   \n",
       "887     21774     Кафе «Шоколадница»    да        кафе   \n",
       "1738    69008     Кафе «Шоколадница»   нет        кафе   \n",
       "1819    76640    Ресторан «Якитория»   нет    ресторан   \n",
       "1825    24304     Кафе «Шоколадница»    да        кафе   \n",
       "2940    19941        Кафе «Якитория»    да        кафе   \n",
       "3405    71665     КАФЕ «Шоколадница»    да        кафе   \n",
       "3637    21782     кафе «Шоколадница»    да        кафе   \n",
       "3906    85913     Кафе «Шоколадница»    да        кафе   \n",
       "5335    58897    Кофейня Шоколадница    да        кафе   \n",
       "5357    25477          Кафе Якитория    да        кафе   \n",
       "5806    21732     Кафе «Шоколадница»    да        кафе   \n",
       "5893   102189     Кафе «Шоколадница»    да        кафе   \n",
       "6265    88627    Кофейня Шоколадница    да        кафе   \n",
       "6353    19983        Кафе «Якитория»    да        кафе   \n",
       "6400    19854     Кафе «Шоколадница»    да        кафе   \n",
       "6450    19857     Кафе «Шоколадница»    да        кафе   \n",
       "6486    22911     Кафе «Шоколадница»    да        кафе   \n",
       "6711    20029     Кафе «Шоколадница»    да        кафе   \n",
       "7250    25462     Кафе «Шоколадница»    да        кафе   \n",
       "7449    25662  Кофейня «Шоколадница»    да        кафе   \n",
       "7466    87133  Кофейня «Шоколадница»    да        кафе   \n",
       "7702   152159     Кафе «Шоколадница»    да        кафе   \n",
       "7705    73493     Кафе «Шоколадница»    да        кафе   \n",
       "8685   134644     Кафе «Шоколадница»    да        кафе   \n",
       "12128  175234     Кафе «Шоколадница»    да        кафе   \n",
       "12166  191114     Кафе «Шоколадница»   нет        кафе   \n",
       "15359  222077  Кофейня «Шоколадница»    да        кафе   \n",
       "\n",
       "                                                 address  number  \n",
       "148                город Москва, Валовая улица, дом 8/18     124  \n",
       "205         город Москва, Волгоградский проспект, дом 15     158  \n",
       "591            город Москва, Ленинский проспект, дом 37А      43  \n",
       "700                  город Москва, проспект Мира, дом 97      25  \n",
       "764    город Москва, Нижегородская улица, дом 2, корп...     106  \n",
       "887             город Москва, улица Шаболовка, дом 30/12      48  \n",
       "1738   город Москва, Ломоносовский проспект, дом 25, ...      50  \n",
       "1819   город Москва, Шмитовский проезд, дом 16, строе...     139  \n",
       "1825        город Москва, улица Большие Каменщики, дом 2      67  \n",
       "2940      город Москва, улица Коштоянца, дом 2, корпус 1     101  \n",
       "3405   город Москва, Мичуринский проспект, дом 22, ко...      68  \n",
       "3637   город Москва, Климентовский переулок, дом 10, ...      50  \n",
       "3906   город Москва, улица Сергия Радонежского, дом 2...      75  \n",
       "5335                 город Москва, Снежная улица, дом 27      80  \n",
       "5357             город Москва, Костромская улица, дом 17     100  \n",
       "5806   город Москва, Люблинская улица, дом 165, корпус 1      50  \n",
       "5893       город Москва, улица Перерва, дом 43, корпус 1      44  \n",
       "6265        город Москва, Старокачаловская улица, дом 5А      76  \n",
       "6353   город Москва, проспект Вернадского, дом 121, к...     100  \n",
       "6400      город Москва, площадь Джавахарлала Неру, дом 1      40  \n",
       "6450   город Москва, улица Мичуринский Проспект, Олим...      84  \n",
       "6486           город Москва, проспект Вернадского, дом 6      84  \n",
       "6711         город Москва, Багратионовский проезд, дом 5      15  \n",
       "7250   город Москва, город Зеленоград, Крюковская пло...      89  \n",
       "7449         город Москва, Балаклавский проспект, дом 5А      64  \n",
       "7466          город Москва, Кировоградская улица, дом 14      46  \n",
       "7702             город Москва, Варшавское шоссе, дом 160      20  \n",
       "7705               город Москва, Каширское шоссе, дом 26      60  \n",
       "8685         город Москва, проспект Вернадского, дом 86А      60  \n",
       "12128         город Москва, Автозаводская улица, дом 9/1      70  \n",
       "12166     город Москва, Садовая-Кудринская улица, дом 3А      56  \n",
       "15359         город Москва, Кантемировская улица, дом 47      72  "
      ]
     },
     "execution_count": 20,
     "metadata": {},
     "output_type": "execute_result"
    }
   ],
   "source": [
    "df[np.logical_or(df['object_name'].str.find('Шоколадница') > 0, \n",
    "                 df['object_name'].str.find('Якитория') > 0)]"
   ]
  },
  {
   "cell_type": "markdown",
   "metadata": {},
   "source": [
    "Наблюдаются две проблемы: разный регистр и кавычки (их отсутствие в некоторых вариантах написания), исправим их"
   ]
  },
  {
   "cell_type": "code",
   "execution_count": 21,
   "metadata": {},
   "outputs": [],
   "source": [
    "df['object_name'] = df['object_name'].str.upper()\n",
    "df['object_name'] = df['object_name'].str.replace('«','')\n",
    "df['object_name'] = df['object_name'].str.replace('»','')"
   ]
  },
  {
   "cell_type": "markdown",
   "metadata": {},
   "source": [
    "Снова посчитаем количество сетей"
   ]
  },
  {
   "cell_type": "code",
   "execution_count": 22,
   "metadata": {},
   "outputs": [],
   "source": [
    "chains = df[df['chain'] == 'да'].pivot_table(index=['object_name'], \n",
    "                                             values=['id','number'], \n",
    "                                             aggfunc={'id':'count','number':'mean'}).reset_index()\n",
    "chains.columns = ['object_name','count_id','mean_number']"
   ]
  },
  {
   "cell_type": "code",
   "execution_count": 23,
   "metadata": {},
   "outputs": [
    {
     "data": {
      "text/plain": [
       "554"
      ]
     },
     "execution_count": 23,
     "metadata": {},
     "output_type": "execute_result"
    }
   ],
   "source": [
    "len(chains)"
   ]
  },
  {
   "cell_type": "markdown",
   "metadata": {},
   "source": [
    "На 170 меньше, наши исправления повлияли на результат"
   ]
  },
  {
   "cell_type": "code",
   "execution_count": 24,
   "metadata": {},
   "outputs": [
    {
     "data": {
      "text/plain": [
       "1    306\n",
       "2     76\n",
       "3     47\n",
       "6     21\n",
       "5     17\n",
       "Name: count_id, dtype: int64"
      ]
     },
     "execution_count": 24,
     "metadata": {},
     "output_type": "execute_result"
    }
   ],
   "source": [
    "chains['count_id'].value_counts().head()"
   ]
  },
  {
   "cell_type": "markdown",
   "metadata": {},
   "source": [
    "Сетей из одного заведения все еще много, но, к сожалению, в нашем распоряжении, кроме наименования сети, которое может быть с ошибками, нет других сведений позволяющих идентифицировать принадлежность объекта к той или иной сети, для текущего анализа примем, что сети из одного заведения - на самом деле сети из одного заведения и не будем их учитывать при оценке распределения количества заведений и размера заведений среди сетей"
   ]
  },
  {
   "cell_type": "code",
   "execution_count": 25,
   "metadata": {},
   "outputs": [],
   "source": [
    "chains = chains[chains['count_id'] > 1]"
   ]
  },
  {
   "cell_type": "markdown",
   "metadata": {},
   "source": [
    "Выведем основную информацию о размере сети и о количестве посадочных мест среди сетевых заведений"
   ]
  },
  {
   "cell_type": "code",
   "execution_count": 26,
   "metadata": {},
   "outputs": [
    {
     "data": {
      "text/html": [
       "<div>\n",
       "<style scoped>\n",
       "    .dataframe tbody tr th:only-of-type {\n",
       "        vertical-align: middle;\n",
       "    }\n",
       "\n",
       "    .dataframe tbody tr th {\n",
       "        vertical-align: top;\n",
       "    }\n",
       "\n",
       "    .dataframe thead th {\n",
       "        text-align: right;\n",
       "    }\n",
       "</style>\n",
       "<table border=\"1\" class=\"dataframe\">\n",
       "  <thead>\n",
       "    <tr style=\"text-align: right;\">\n",
       "      <th></th>\n",
       "      <th>Количество заведений</th>\n",
       "      <th>Количество посадочных мест</th>\n",
       "    </tr>\n",
       "  </thead>\n",
       "  <tbody>\n",
       "    <tr>\n",
       "      <th>count</th>\n",
       "      <td>248.0</td>\n",
       "      <td>248.0</td>\n",
       "    </tr>\n",
       "    <tr>\n",
       "      <th>mean</th>\n",
       "      <td>11.0</td>\n",
       "      <td>59.0</td>\n",
       "    </tr>\n",
       "    <tr>\n",
       "      <th>std</th>\n",
       "      <td>23.0</td>\n",
       "      <td>50.0</td>\n",
       "    </tr>\n",
       "    <tr>\n",
       "      <th>min</th>\n",
       "      <td>2.0</td>\n",
       "      <td>0.0</td>\n",
       "    </tr>\n",
       "    <tr>\n",
       "      <th>25%</th>\n",
       "      <td>2.0</td>\n",
       "      <td>21.0</td>\n",
       "    </tr>\n",
       "    <tr>\n",
       "      <th>50%</th>\n",
       "      <td>4.0</td>\n",
       "      <td>44.0</td>\n",
       "    </tr>\n",
       "    <tr>\n",
       "      <th>75%</th>\n",
       "      <td>7.0</td>\n",
       "      <td>85.0</td>\n",
       "    </tr>\n",
       "    <tr>\n",
       "      <th>max</th>\n",
       "      <td>157.0</td>\n",
       "      <td>259.0</td>\n",
       "    </tr>\n",
       "  </tbody>\n",
       "</table>\n",
       "</div>"
      ],
      "text/plain": [
       "       Количество заведений  Количество посадочных мест\n",
       "count                 248.0                       248.0\n",
       "mean                   11.0                        59.0\n",
       "std                    23.0                        50.0\n",
       "min                     2.0                         0.0\n",
       "25%                     2.0                        21.0\n",
       "50%                     4.0                        44.0\n",
       "75%                     7.0                        85.0\n",
       "max                   157.0                       259.0"
      ]
     },
     "execution_count": 26,
     "metadata": {},
     "output_type": "execute_result"
    }
   ],
   "source": [
    "pd.concat([chains['count_id'].describe(),\n",
    "           chains['mean_number'].describe()], \n",
    "          keys=('Количество заведений',\n",
    "                'Количество посадочных мест'), \n",
    "          axis=1).round()"
   ]
  },
  {
   "cell_type": "markdown",
   "metadata": {},
   "source": [
    "Мы рассматриваем 248 сетей, в среднем, в каждой сети по 11 заведений на 59 посадочных мест, распределение по перцентилям показывает что 75% сетей укладываются в 7 заведений, а размер 75% заведений меньше 85 посадочных мест, построим диаграмму на которой отобразим это распределение"
   ]
  },
  {
   "cell_type": "code",
   "execution_count": 27,
   "metadata": {
    "scrolled": false
   },
   "outputs": [
    {
     "data": {
      "image/png": "[encoded data removed]",
      "text/plain": [
       "<Figure size 576x576 with 3 Axes>"
      ]
     },
     "metadata": {
      "needs_background": "light"
     },
     "output_type": "display_data"
    }
   ],
   "source": [
    "ax = sns.jointplot(x='mean_number', y='count_id', data=chains, height=8, kind='hex')\n",
    "plt.subplots_adjust(top=0.9)\n",
    "ax.fig.suptitle('Распределение количества объектов в сетях и их средние размеры', fontsize=14)\n",
    "ax.set_axis_labels('Количество посадочных мест','Количество заведений в сети', fontsize=12)\n",
    "plt.show()"
   ]
  },
  {
   "cell_type": "markdown",
   "metadata": {},
   "source": [
    "На диаграмме значения сконцентрированы в левом нижнем углу - очень мало сетей количество заведений в которых превышает 10, распределение по количеству посадочных мест более широкое но наибольшая плотность наблюдается на левой стороне, до 50 посадочных мест на заведение"
   ]
  },
  {
   "cell_type": "markdown",
   "metadata": {},
   "source": [
    "## Размеры заведений<a id=\"stage_2_size\"></a>"
   ]
  },
  {
   "cell_type": "markdown",
   "metadata": {},
   "source": [
    "Для сортировки таблицы по убыванию среднего количества заведений по типам объектов создадим сводную таблицу с этой информацией"
   ]
  },
  {
   "cell_type": "code",
   "execution_count": 28,
   "metadata": {},
   "outputs": [],
   "source": [
    "mean_number_per_type = df.pivot_table(index='object_type', \n",
    "                                      values='number', aggfunc='mean').reset_index()\n",
    "mean_number_per_type.columns = ['object_type','mean_number_per_type']"
   ]
  },
  {
   "cell_type": "markdown",
   "metadata": {},
   "source": [
    "Присоединим ее к основной таблице"
   ]
  },
  {
   "cell_type": "code",
   "execution_count": 29,
   "metadata": {},
   "outputs": [],
   "source": [
    "df = df.merge(mean_number_per_type, on='object_type', how='left')"
   ]
  },
  {
   "cell_type": "markdown",
   "metadata": {},
   "source": [
    "Построим боксплоты распределений размера заведений по типам предваритеьно отсортировав таблицу df по убыванию среднего размера заведения"
   ]
  },
  {
   "cell_type": "code",
   "execution_count": 30,
   "metadata": {
    "scrolled": false
   },
   "outputs": [
    {
     "data": {
      "image/png": "[encoded data removed]",
      "text/plain": [
       "<Figure size 864x432 with 1 Axes>"
      ]
     },
     "metadata": {
      "needs_background": "light"
     },
     "output_type": "display_data"
    }
   ],
   "source": [
    "plt.figure(figsize=(12,6))\n",
    "sns.boxplot(y=df.sort_values('mean_number_per_type', ascending=False)['object_type'], \n",
    "            x=df['number'], orient='h')\n",
    "plt.title('Распределение посадочных мест среди объектов по типам', fontsize=14, pad=14)\n",
    "plt.xlabel('Количество мест', fontsize=12, labelpad=12)\n",
    "plt.ylabel(None)\n",
    "plt.xticks(fontsize=10)\n",
    "plt.yticks(fontsize=10)\n",
    "sns.despine()"
   ]
  },
  {
   "cell_type": "markdown",
   "metadata": {},
   "source": [
    "Удалим временный столбец"
   ]
  },
  {
   "cell_type": "code",
   "execution_count": 31,
   "metadata": {},
   "outputs": [],
   "source": [
    "df = df.drop('mean_number_per_type', axis=1)"
   ]
  },
  {
   "cell_type": "markdown",
   "metadata": {},
   "source": [
    "Самыми крупными являются заведения типа столовых, ресторанов и буфетов, некоторые из них включают более 1000 мест, самыми небольшими являются кафетерии, закусочные и кулинарии при магазинах, примечательно что самым большим заведением является один из баров"
   ]
  },
  {
   "cell_type": "markdown",
   "metadata": {},
   "source": [
    "Выведем на экран медианные размеры заведений по каждой категории так как в данных присутвует большое количество выбросов"
   ]
  },
  {
   "cell_type": "code",
   "execution_count": 32,
   "metadata": {
    "scrolled": false
   },
   "outputs": [
    {
     "data": {
      "text/html": [
       "<div>\n",
       "<style scoped>\n",
       "    .dataframe tbody tr th:only-of-type {\n",
       "        vertical-align: middle;\n",
       "    }\n",
       "\n",
       "    .dataframe tbody tr th {\n",
       "        vertical-align: top;\n",
       "    }\n",
       "\n",
       "    .dataframe thead th {\n",
       "        text-align: right;\n",
       "    }\n",
       "</style>\n",
       "<table border=\"1\" class=\"dataframe\">\n",
       "  <thead>\n",
       "    <tr style=\"text-align: right;\">\n",
       "      <th></th>\n",
       "      <th>mean</th>\n",
       "      <th>median</th>\n",
       "    </tr>\n",
       "    <tr>\n",
       "      <th>object_type</th>\n",
       "      <th></th>\n",
       "      <th></th>\n",
       "    </tr>\n",
       "  </thead>\n",
       "  <tbody>\n",
       "    <tr>\n",
       "      <th>столовая</th>\n",
       "      <td>130.0</td>\n",
       "      <td>103.0</td>\n",
       "    </tr>\n",
       "    <tr>\n",
       "      <th>ресторан</th>\n",
       "      <td>97.0</td>\n",
       "      <td>80.0</td>\n",
       "    </tr>\n",
       "    <tr>\n",
       "      <th>буфет</th>\n",
       "      <td>51.0</td>\n",
       "      <td>32.0</td>\n",
       "    </tr>\n",
       "    <tr>\n",
       "      <th>бар</th>\n",
       "      <td>43.0</td>\n",
       "      <td>35.0</td>\n",
       "    </tr>\n",
       "    <tr>\n",
       "      <th>кафе</th>\n",
       "      <td>40.0</td>\n",
       "      <td>30.0</td>\n",
       "    </tr>\n",
       "    <tr>\n",
       "      <th>ПБО</th>\n",
       "      <td>21.0</td>\n",
       "      <td>5.0</td>\n",
       "    </tr>\n",
       "    <tr>\n",
       "      <th>кафетерий</th>\n",
       "      <td>9.0</td>\n",
       "      <td>6.0</td>\n",
       "    </tr>\n",
       "    <tr>\n",
       "      <th>закусочная</th>\n",
       "      <td>8.0</td>\n",
       "      <td>0.0</td>\n",
       "    </tr>\n",
       "    <tr>\n",
       "      <th>магазин</th>\n",
       "      <td>6.0</td>\n",
       "      <td>0.0</td>\n",
       "    </tr>\n",
       "  </tbody>\n",
       "</table>\n",
       "</div>"
      ],
      "text/plain": [
       "              mean  median\n",
       "object_type               \n",
       "столовая     130.0   103.0\n",
       "ресторан      97.0    80.0\n",
       "буфет         51.0    32.0\n",
       "бар           43.0    35.0\n",
       "кафе          40.0    30.0\n",
       "ПБО           21.0     5.0\n",
       "кафетерий      9.0     6.0\n",
       "закусочная     8.0     0.0\n",
       "магазин        6.0     0.0"
      ]
     },
     "execution_count": 32,
     "metadata": {},
     "output_type": "execute_result"
    }
   ],
   "source": [
    "df.pivot_table(index='object_type', values='number', \n",
    "               aggfunc=('median','mean')).sort_values('mean', ascending=False).round()"
   ]
  },
  {
   "cell_type": "markdown",
   "metadata": {},
   "source": [
    "В категориях закусочная и кулинария при магазине медианное значение - 0, это означает что половина подобных заведений вообще не предполагет прием пищи в заведении и предлагает еду только на вынос"
   ]
  },
  {
   "cell_type": "markdown",
   "metadata": {},
   "source": [
    "##  Улицы и районы с наибольшим количеством объектов<a id=\"stage_2_top_10\"></a>"
   ]
  },
  {
   "cell_type": "markdown",
   "metadata": {},
   "source": [
    "Для того чтобы выяснить на каких улицах расположено больше всего объектов воспользуемся методом `extract` которому передадим следующее регулярное выражение `', (.*?),'` оно ищет любые символы между запятыми в адресе"
   ]
  },
  {
   "cell_type": "code",
   "execution_count": 33,
   "metadata": {},
   "outputs": [
    {
     "data": {
      "text/html": [
       "<div>\n",
       "<style scoped>\n",
       "    .dataframe tbody tr th:only-of-type {\n",
       "        vertical-align: middle;\n",
       "    }\n",
       "\n",
       "    .dataframe tbody tr th {\n",
       "        vertical-align: top;\n",
       "    }\n",
       "\n",
       "    .dataframe thead th {\n",
       "        text-align: right;\n",
       "    }\n",
       "</style>\n",
       "<table border=\"1\" class=\"dataframe\">\n",
       "  <thead>\n",
       "    <tr style=\"text-align: right;\">\n",
       "      <th></th>\n",
       "      <th>id</th>\n",
       "      <th>object_name</th>\n",
       "      <th>chain</th>\n",
       "      <th>object_type</th>\n",
       "      <th>address</th>\n",
       "      <th>number</th>\n",
       "      <th>address_street</th>\n",
       "    </tr>\n",
       "  </thead>\n",
       "  <tbody>\n",
       "    <tr>\n",
       "      <th>0</th>\n",
       "      <td>151635</td>\n",
       "      <td>СМЕТАНА</td>\n",
       "      <td>нет</td>\n",
       "      <td>кафе</td>\n",
       "      <td>город Москва, улица Егора Абакумова, дом 9</td>\n",
       "      <td>48</td>\n",
       "      <td>улица Егора Абакумова</td>\n",
       "    </tr>\n",
       "    <tr>\n",
       "      <th>1</th>\n",
       "      <td>77874</td>\n",
       "      <td>РОДНИК</td>\n",
       "      <td>нет</td>\n",
       "      <td>кафе</td>\n",
       "      <td>город Москва, улица Талалихина, дом 2/1, корпус 1</td>\n",
       "      <td>35</td>\n",
       "      <td>улица Талалихина</td>\n",
       "    </tr>\n",
       "    <tr>\n",
       "      <th>2</th>\n",
       "      <td>24309</td>\n",
       "      <td>КАФЕ АКАДЕМИЯ</td>\n",
       "      <td>нет</td>\n",
       "      <td>кафе</td>\n",
       "      <td>город Москва, Абельмановская улица, дом 6</td>\n",
       "      <td>95</td>\n",
       "      <td>Абельмановская улица</td>\n",
       "    </tr>\n",
       "    <tr>\n",
       "      <th>3</th>\n",
       "      <td>21894</td>\n",
       "      <td>ПИЦЦЕТОРИЯ</td>\n",
       "      <td>да</td>\n",
       "      <td>кафе</td>\n",
       "      <td>город Москва, Абрамцевская улица, дом 1</td>\n",
       "      <td>40</td>\n",
       "      <td>Абрамцевская улица</td>\n",
       "    </tr>\n",
       "    <tr>\n",
       "      <th>4</th>\n",
       "      <td>119365</td>\n",
       "      <td>КАФЕ ВИШНЕВАЯ МЕТЕЛЬ</td>\n",
       "      <td>нет</td>\n",
       "      <td>кафе</td>\n",
       "      <td>город Москва, Абрамцевская улица, дом 9, корпус 1</td>\n",
       "      <td>50</td>\n",
       "      <td>Абрамцевская улица</td>\n",
       "    </tr>\n",
       "  </tbody>\n",
       "</table>\n",
       "</div>"
      ],
      "text/plain": [
       "       id           object_name chain object_type  \\\n",
       "0  151635               СМЕТАНА   нет        кафе   \n",
       "1   77874                РОДНИК   нет        кафе   \n",
       "2   24309         КАФЕ АКАДЕМИЯ   нет        кафе   \n",
       "3   21894            ПИЦЦЕТОРИЯ    да        кафе   \n",
       "4  119365  КАФЕ ВИШНЕВАЯ МЕТЕЛЬ   нет        кафе   \n",
       "\n",
       "                                             address  number  \\\n",
       "0         город Москва, улица Егора Абакумова, дом 9      48   \n",
       "1  город Москва, улица Талалихина, дом 2/1, корпус 1      35   \n",
       "2          город Москва, Абельмановская улица, дом 6      95   \n",
       "3            город Москва, Абрамцевская улица, дом 1      40   \n",
       "4  город Москва, Абрамцевская улица, дом 9, корпус 1      50   \n",
       "\n",
       "          address_street  \n",
       "0  улица Егора Абакумова  \n",
       "1       улица Талалихина  \n",
       "2   Абельмановская улица  \n",
       "3     Абрамцевская улица  \n",
       "4     Абрамцевская улица  "
      ]
     },
     "execution_count": 33,
     "metadata": {},
     "output_type": "execute_result"
    }
   ],
   "source": [
    "df['address_street'] = df['address'].str.extract(', (.*?),')\n",
    "df.head()"
   ]
  },
  {
   "cell_type": "markdown",
   "metadata": {},
   "source": [
    "Проверим на всех ли адресах наш метод вернул название улицы"
   ]
  },
  {
   "cell_type": "code",
   "execution_count": 34,
   "metadata": {
    "scrolled": false
   },
   "outputs": [
    {
     "data": {
      "text/html": [
       "<div>\n",
       "<style scoped>\n",
       "    .dataframe tbody tr th:only-of-type {\n",
       "        vertical-align: middle;\n",
       "    }\n",
       "\n",
       "    .dataframe tbody tr th {\n",
       "        vertical-align: top;\n",
       "    }\n",
       "\n",
       "    .dataframe thead th {\n",
       "        text-align: right;\n",
       "    }\n",
       "</style>\n",
       "<table border=\"1\" class=\"dataframe\">\n",
       "  <thead>\n",
       "    <tr style=\"text-align: right;\">\n",
       "      <th></th>\n",
       "      <th>id</th>\n",
       "      <th>object_name</th>\n",
       "      <th>chain</th>\n",
       "      <th>object_type</th>\n",
       "      <th>address</th>\n",
       "      <th>number</th>\n",
       "      <th>address_street</th>\n",
       "    </tr>\n",
       "  </thead>\n",
       "  <tbody>\n",
       "    <tr>\n",
       "      <th>859</th>\n",
       "      <td>23601</td>\n",
       "      <td>БУФЕТ - ГБОУ СОШ № 64</td>\n",
       "      <td>нет</td>\n",
       "      <td>буфет</td>\n",
       "      <td>Партизанская улица, дом 30</td>\n",
       "      <td>100</td>\n",
       "      <td>NaN</td>\n",
       "    </tr>\n",
       "    <tr>\n",
       "      <th>860</th>\n",
       "      <td>23604</td>\n",
       "      <td>БУФЕТ - ГБОУ 60</td>\n",
       "      <td>нет</td>\n",
       "      <td>буфет</td>\n",
       "      <td>Партизанская улица, дом 30</td>\n",
       "      <td>100</td>\n",
       "      <td>NaN</td>\n",
       "    </tr>\n",
       "    <tr>\n",
       "      <th>7691</th>\n",
       "      <td>132359</td>\n",
       "      <td>КАФЕ LA CAROTTE</td>\n",
       "      <td>нет</td>\n",
       "      <td>кафе</td>\n",
       "      <td>1-й Нагатинский проезд, дом 10</td>\n",
       "      <td>198</td>\n",
       "      <td>NaN</td>\n",
       "    </tr>\n",
       "    <tr>\n",
       "      <th>8813</th>\n",
       "      <td>145235</td>\n",
       "      <td>КАФЕ ПРИ АЗС</td>\n",
       "      <td>нет</td>\n",
       "      <td>кафе</td>\n",
       "      <td>проезд Добролюбова, дом 2</td>\n",
       "      <td>0</td>\n",
       "      <td>NaN</td>\n",
       "    </tr>\n",
       "    <tr>\n",
       "      <th>8843</th>\n",
       "      <td>19760</td>\n",
       "      <td>БУФЕТ ПРИ А-С ЮГО-ЗАПАД</td>\n",
       "      <td>нет</td>\n",
       "      <td>буфет</td>\n",
       "      <td>Ленинский проспект, владение 164</td>\n",
       "      <td>16</td>\n",
       "      <td>NaN</td>\n",
       "    </tr>\n",
       "    <tr>\n",
       "      <th>8854</th>\n",
       "      <td>140002</td>\n",
       "      <td>РЕСТОРАН ПАЛЬМИРА</td>\n",
       "      <td>нет</td>\n",
       "      <td>ресторан</td>\n",
       "      <td>Новоданиловская набережная, дом 6</td>\n",
       "      <td>80</td>\n",
       "      <td>NaN</td>\n",
       "    </tr>\n",
       "    <tr>\n",
       "      <th>8860</th>\n",
       "      <td>83951</td>\n",
       "      <td>БУНКЕР 42 НА ТАГАНКЕ</td>\n",
       "      <td>нет</td>\n",
       "      <td>ресторан</td>\n",
       "      <td>5-й Котельнический переулок, дом 11</td>\n",
       "      <td>271</td>\n",
       "      <td>NaN</td>\n",
       "    </tr>\n",
       "    <tr>\n",
       "      <th>8867</th>\n",
       "      <td>27866</td>\n",
       "      <td>СТОЛОВАЯ ГЕНШТАБА</td>\n",
       "      <td>нет</td>\n",
       "      <td>столовая</td>\n",
       "      <td>улица Знаменка, дом 14</td>\n",
       "      <td>90</td>\n",
       "      <td>NaN</td>\n",
       "    </tr>\n",
       "    <tr>\n",
       "      <th>8875</th>\n",
       "      <td>149863</td>\n",
       "      <td>ШКОЛЬНО-БАЗОВАЯ СТОЛОВАЯ</td>\n",
       "      <td>нет</td>\n",
       "      <td>столовая</td>\n",
       "      <td>Полевая улица, дом 20</td>\n",
       "      <td>205</td>\n",
       "      <td>NaN</td>\n",
       "    </tr>\n",
       "    <tr>\n",
       "      <th>8890</th>\n",
       "      <td>125478</td>\n",
       "      <td>ХИЖИНА</td>\n",
       "      <td>да</td>\n",
       "      <td>ресторан</td>\n",
       "      <td>Чертановская улица, владение 32Б</td>\n",
       "      <td>75</td>\n",
       "      <td>NaN</td>\n",
       "    </tr>\n",
       "    <tr>\n",
       "      <th>8897</th>\n",
       "      <td>74930</td>\n",
       "      <td>ПРЕДПРИЯТИЕ БЫСТРОГО ОБСЛУЖИВАНИЯ МАГБУРГЕР</td>\n",
       "      <td>да</td>\n",
       "      <td>ПБО</td>\n",
       "      <td>Варшавское шоссе, владение 99А</td>\n",
       "      <td>20</td>\n",
       "      <td>NaN</td>\n",
       "    </tr>\n",
       "    <tr>\n",
       "      <th>8899</th>\n",
       "      <td>158670</td>\n",
       "      <td>МАКДОНАЛДС</td>\n",
       "      <td>да</td>\n",
       "      <td>кафе</td>\n",
       "      <td>улица Миклухо-Маклая, дом 18</td>\n",
       "      <td>110</td>\n",
       "      <td>NaN</td>\n",
       "    </tr>\n",
       "    <tr>\n",
       "      <th>8904</th>\n",
       "      <td>136723</td>\n",
       "      <td>ШОКОЛАДНИЦА</td>\n",
       "      <td>да</td>\n",
       "      <td>кафе</td>\n",
       "      <td>улица Ленинская Слобода, дом 26</td>\n",
       "      <td>70</td>\n",
       "      <td>NaN</td>\n",
       "    </tr>\n",
       "    <tr>\n",
       "      <th>9445</th>\n",
       "      <td>157322</td>\n",
       "      <td>ТЦСО ЧЕРТАНОВО КДП</td>\n",
       "      <td>нет</td>\n",
       "      <td>столовая</td>\n",
       "      <td>Медынская улица, дом 11А</td>\n",
       "      <td>45</td>\n",
       "      <td>NaN</td>\n",
       "    </tr>\n",
       "    <tr>\n",
       "      <th>10010</th>\n",
       "      <td>171646</td>\n",
       "      <td>СТОЛОВАЯ - БУФЕТ ПРИ ЦАТРА</td>\n",
       "      <td>нет</td>\n",
       "      <td>столовая</td>\n",
       "      <td>Суворовская площадь, дом 2</td>\n",
       "      <td>40</td>\n",
       "      <td>NaN</td>\n",
       "    </tr>\n",
       "    <tr>\n",
       "      <th>11963</th>\n",
       "      <td>189558</td>\n",
       "      <td>ГУРМАН</td>\n",
       "      <td>да</td>\n",
       "      <td>ресторан</td>\n",
       "      <td>Киевская улица, дом 7</td>\n",
       "      <td>180</td>\n",
       "      <td>NaN</td>\n",
       "    </tr>\n",
       "    <tr>\n",
       "      <th>12017</th>\n",
       "      <td>186541</td>\n",
       "      <td>ЛУКОЙЛ-ЦЕНТРНЕФТЬПРОДУКТ</td>\n",
       "      <td>да</td>\n",
       "      <td>кафе</td>\n",
       "      <td>Алтуфьевское шоссе, дом 52А</td>\n",
       "      <td>10</td>\n",
       "      <td>NaN</td>\n",
       "    </tr>\n",
       "    <tr>\n",
       "      <th>12401</th>\n",
       "      <td>193058</td>\n",
       "      <td>HANG KONG</td>\n",
       "      <td>нет</td>\n",
       "      <td>кафе</td>\n",
       "      <td>улица Льва Толстого, дом 18</td>\n",
       "      <td>70</td>\n",
       "      <td>NaN</td>\n",
       "    </tr>\n",
       "    <tr>\n",
       "      <th>12402</th>\n",
       "      <td>193074</td>\n",
       "      <td>BB&amp;BURGERS</td>\n",
       "      <td>нет</td>\n",
       "      <td>кафе</td>\n",
       "      <td>улица Льва Толстого, дом 18</td>\n",
       "      <td>50</td>\n",
       "      <td>NaN</td>\n",
       "    </tr>\n",
       "    <tr>\n",
       "      <th>12403</th>\n",
       "      <td>193080</td>\n",
       "      <td>BUBA BY SUMOSAN</td>\n",
       "      <td>нет</td>\n",
       "      <td>кафе</td>\n",
       "      <td>улица Льва Толстого, дом 18</td>\n",
       "      <td>80</td>\n",
       "      <td>NaN</td>\n",
       "    </tr>\n",
       "  </tbody>\n",
       "</table>\n",
       "</div>"
      ],
      "text/plain": [
       "           id                                  object_name chain object_type  \\\n",
       "859     23601                        БУФЕТ - ГБОУ СОШ № 64   нет       буфет   \n",
       "860     23604                              БУФЕТ - ГБОУ 60   нет       буфет   \n",
       "7691   132359                              КАФЕ LA CAROTTE   нет        кафе   \n",
       "8813   145235                                 КАФЕ ПРИ АЗС   нет        кафе   \n",
       "8843    19760                      БУФЕТ ПРИ А-С ЮГО-ЗАПАД   нет       буфет   \n",
       "8854   140002                            РЕСТОРАН ПАЛЬМИРА   нет    ресторан   \n",
       "8860    83951                         БУНКЕР 42 НА ТАГАНКЕ   нет    ресторан   \n",
       "8867    27866                            СТОЛОВАЯ ГЕНШТАБА   нет    столовая   \n",
       "8875   149863                     ШКОЛЬНО-БАЗОВАЯ СТОЛОВАЯ   нет    столовая   \n",
       "8890   125478                                       ХИЖИНА    да    ресторан   \n",
       "8897    74930  ПРЕДПРИЯТИЕ БЫСТРОГО ОБСЛУЖИВАНИЯ МАГБУРГЕР    да         ПБО   \n",
       "8899   158670                                   МАКДОНАЛДС    да        кафе   \n",
       "8904   136723                                  ШОКОЛАДНИЦА    да        кафе   \n",
       "9445   157322                           ТЦСО ЧЕРТАНОВО КДП   нет    столовая   \n",
       "10010  171646                   СТОЛОВАЯ - БУФЕТ ПРИ ЦАТРА   нет    столовая   \n",
       "11963  189558                                       ГУРМАН    да    ресторан   \n",
       "12017  186541                     ЛУКОЙЛ-ЦЕНТРНЕФТЬПРОДУКТ    да        кафе   \n",
       "12401  193058                                    HANG KONG   нет        кафе   \n",
       "12402  193074                                   BB&BURGERS   нет        кафе   \n",
       "12403  193080                              BUBA BY SUMOSAN   нет        кафе   \n",
       "\n",
       "                                   address  number address_street  \n",
       "859             Партизанская улица, дом 30     100            NaN  \n",
       "860             Партизанская улица, дом 30     100            NaN  \n",
       "7691        1-й Нагатинский проезд, дом 10     198            NaN  \n",
       "8813             проезд Добролюбова, дом 2       0            NaN  \n",
       "8843      Ленинский проспект, владение 164      16            NaN  \n",
       "8854     Новоданиловская набережная, дом 6      80            NaN  \n",
       "8860   5-й Котельнический переулок, дом 11     271            NaN  \n",
       "8867                улица Знаменка, дом 14      90            NaN  \n",
       "8875                 Полевая улица, дом 20     205            NaN  \n",
       "8890      Чертановская улица, владение 32Б      75            NaN  \n",
       "8897        Варшавское шоссе, владение 99А      20            NaN  \n",
       "8899          улица Миклухо-Маклая, дом 18     110            NaN  \n",
       "8904       улица Ленинская Слобода, дом 26      70            NaN  \n",
       "9445              Медынская улица, дом 11А      45            NaN  \n",
       "10010           Суворовская площадь, дом 2      40            NaN  \n",
       "11963                Киевская улица, дом 7     180            NaN  \n",
       "12017          Алтуфьевское шоссе, дом 52А      10            NaN  \n",
       "12401          улица Льва Толстого, дом 18      70            NaN  \n",
       "12402          улица Льва Толстого, дом 18      50            NaN  \n",
       "12403          улица Льва Толстого, дом 18      80            NaN  "
      ]
     },
     "execution_count": 34,
     "metadata": {},
     "output_type": "execute_result"
    }
   ],
   "source": [
    "df[df['address_street'].isna()]"
   ]
  },
  {
   "cell_type": "markdown",
   "metadata": {},
   "source": [
    "Среди адресов объектов встречаются те, в которых не указан город, так как данные в нашем распоряжении из города Москвы - добавим их к адресу и снова применим метод `extract`"
   ]
  },
  {
   "cell_type": "code",
   "execution_count": 35,
   "metadata": {},
   "outputs": [],
   "source": [
    "df.loc[df['address_street'].isna(), 'address'] = 'город Москва, ' + df['address']\n",
    "df['address_street'] = df['address'].str.extract(', (.*?),')"
   ]
  },
  {
   "cell_type": "markdown",
   "metadata": {},
   "source": [
    "Создадим сводную таблицу по улицам и отсортируем ее по возрастанию"
   ]
  },
  {
   "cell_type": "code",
   "execution_count": 36,
   "metadata": {},
   "outputs": [
    {
     "data": {
      "text/html": [
       "<div>\n",
       "<style scoped>\n",
       "    .dataframe tbody tr th:only-of-type {\n",
       "        vertical-align: middle;\n",
       "    }\n",
       "\n",
       "    .dataframe tbody tr th {\n",
       "        vertical-align: top;\n",
       "    }\n",
       "\n",
       "    .dataframe thead th {\n",
       "        text-align: right;\n",
       "    }\n",
       "</style>\n",
       "<table border=\"1\" class=\"dataframe\">\n",
       "  <thead>\n",
       "    <tr style=\"text-align: right;\">\n",
       "      <th></th>\n",
       "      <th>id</th>\n",
       "    </tr>\n",
       "    <tr>\n",
       "      <th>address_street</th>\n",
       "      <th></th>\n",
       "    </tr>\n",
       "  </thead>\n",
       "  <tbody>\n",
       "    <tr>\n",
       "      <th>город Зеленоград</th>\n",
       "      <td>232</td>\n",
       "    </tr>\n",
       "    <tr>\n",
       "      <th>проспект Мира</th>\n",
       "      <td>204</td>\n",
       "    </tr>\n",
       "    <tr>\n",
       "      <th>Профсоюзная улица</th>\n",
       "      <td>182</td>\n",
       "    </tr>\n",
       "    <tr>\n",
       "      <th>Ленинградский проспект</th>\n",
       "      <td>171</td>\n",
       "    </tr>\n",
       "    <tr>\n",
       "      <th>Пресненская набережная</th>\n",
       "      <td>167</td>\n",
       "    </tr>\n",
       "    <tr>\n",
       "      <th>Варшавское шоссе</th>\n",
       "      <td>162</td>\n",
       "    </tr>\n",
       "    <tr>\n",
       "      <th>Ленинский проспект</th>\n",
       "      <td>148</td>\n",
       "    </tr>\n",
       "    <tr>\n",
       "      <th>поселение Сосенское</th>\n",
       "      <td>138</td>\n",
       "    </tr>\n",
       "    <tr>\n",
       "      <th>проспект Вернадского</th>\n",
       "      <td>132</td>\n",
       "    </tr>\n",
       "    <tr>\n",
       "      <th>Кутузовский проспект</th>\n",
       "      <td>114</td>\n",
       "    </tr>\n",
       "  </tbody>\n",
       "</table>\n",
       "</div>"
      ],
      "text/plain": [
       "                         id\n",
       "address_street             \n",
       "город Зеленоград        232\n",
       "проспект Мира           204\n",
       "Профсоюзная улица       182\n",
       "Ленинградский проспект  171\n",
       "Пресненская набережная  167\n",
       "Варшавское шоссе        162\n",
       "Ленинский проспект      148\n",
       "поселение Сосенское     138\n",
       "проспект Вернадского    132\n",
       "Кутузовский проспект    114"
      ]
     },
     "execution_count": 36,
     "metadata": {},
     "output_type": "execute_result"
    }
   ],
   "source": [
    "df.pivot_table(index='address_street', values='id', aggfunc='count').\\\n",
    "   sort_values('id', ascending=False).head(10)"
   ]
  },
  {
   "cell_type": "markdown",
   "metadata": {},
   "source": [
    "Среди ТОП10 улиц Москвы отобразились \"город Зеленоград\" и \"поселение Сосенское\", выведем их на экран"
   ]
  },
  {
   "cell_type": "code",
   "execution_count": 37,
   "metadata": {
    "scrolled": false
   },
   "outputs": [
    {
     "data": {
      "text/html": [
       "<div>\n",
       "<style scoped>\n",
       "    .dataframe tbody tr th:only-of-type {\n",
       "        vertical-align: middle;\n",
       "    }\n",
       "\n",
       "    .dataframe tbody tr th {\n",
       "        vertical-align: top;\n",
       "    }\n",
       "\n",
       "    .dataframe thead th {\n",
       "        text-align: right;\n",
       "    }\n",
       "</style>\n",
       "<table border=\"1\" class=\"dataframe\">\n",
       "  <thead>\n",
       "    <tr style=\"text-align: right;\">\n",
       "      <th></th>\n",
       "      <th>id</th>\n",
       "      <th>object_name</th>\n",
       "      <th>chain</th>\n",
       "      <th>object_type</th>\n",
       "      <th>address</th>\n",
       "      <th>number</th>\n",
       "      <th>address_street</th>\n",
       "    </tr>\n",
       "  </thead>\n",
       "  <tbody>\n",
       "    <tr>\n",
       "      <th>1386</th>\n",
       "      <td>22331</td>\n",
       "      <td>СТОЛОВАЯ МИЭТ</td>\n",
       "      <td>нет</td>\n",
       "      <td>столовая</td>\n",
       "      <td>город Москва, город Зеленоград, улица Юности, ...</td>\n",
       "      <td>56</td>\n",
       "      <td>город Зеленоград</td>\n",
       "    </tr>\n",
       "    <tr>\n",
       "      <th>1405</th>\n",
       "      <td>20199</td>\n",
       "      <td>ЭТО</td>\n",
       "      <td>нет</td>\n",
       "      <td>кафе</td>\n",
       "      <td>город Москва, город Зеленоград, корпус 401</td>\n",
       "      <td>35</td>\n",
       "      <td>город Зеленоград</td>\n",
       "    </tr>\n",
       "    <tr>\n",
       "      <th>1406</th>\n",
       "      <td>68113</td>\n",
       "      <td>ФРЕНДС</td>\n",
       "      <td>нет</td>\n",
       "      <td>кафе</td>\n",
       "      <td>город Москва, город Зеленоград, корпус 435</td>\n",
       "      <td>34</td>\n",
       "      <td>город Зеленоград</td>\n",
       "    </tr>\n",
       "    <tr>\n",
       "      <th>1407</th>\n",
       "      <td>20105</td>\n",
       "      <td>КАФЕ ГРАФ МОНТЕ-КРИСТО</td>\n",
       "      <td>нет</td>\n",
       "      <td>кафе</td>\n",
       "      <td>город Москва, город Зеленоград, корпус 436</td>\n",
       "      <td>40</td>\n",
       "      <td>город Зеленоград</td>\n",
       "    </tr>\n",
       "    <tr>\n",
       "      <th>1408</th>\n",
       "      <td>22982</td>\n",
       "      <td>АЛЬФОРНО</td>\n",
       "      <td>нет</td>\n",
       "      <td>кафе</td>\n",
       "      <td>город Москва, город Зеленоград, корпус 438</td>\n",
       "      <td>49</td>\n",
       "      <td>город Зеленоград</td>\n",
       "    </tr>\n",
       "    <tr>\n",
       "      <th>...</th>\n",
       "      <td>...</td>\n",
       "      <td>...</td>\n",
       "      <td>...</td>\n",
       "      <td>...</td>\n",
       "      <td>...</td>\n",
       "      <td>...</td>\n",
       "      <td>...</td>\n",
       "    </tr>\n",
       "    <tr>\n",
       "      <th>15137</th>\n",
       "      <td>209920</td>\n",
       "      <td>ДЮШЕС</td>\n",
       "      <td>да</td>\n",
       "      <td>ресторан</td>\n",
       "      <td>город Москва, город Зеленоград, Проезд № 4806,...</td>\n",
       "      <td>100</td>\n",
       "      <td>город Зеленоград</td>\n",
       "    </tr>\n",
       "    <tr>\n",
       "      <th>15169</th>\n",
       "      <td>213387</td>\n",
       "      <td>COFIX</td>\n",
       "      <td>да</td>\n",
       "      <td>кафе</td>\n",
       "      <td>город Москва, поселение Сосенское, Калужское ш...</td>\n",
       "      <td>15</td>\n",
       "      <td>поселение Сосенское</td>\n",
       "    </tr>\n",
       "    <tr>\n",
       "      <th>15183</th>\n",
       "      <td>205739</td>\n",
       "      <td>ПИЦЦА ПАОЛО И БЕНТО WOK</td>\n",
       "      <td>да</td>\n",
       "      <td>кафе</td>\n",
       "      <td>город Москва, город Зеленоград, Панфиловский п...</td>\n",
       "      <td>30</td>\n",
       "      <td>город Зеленоград</td>\n",
       "    </tr>\n",
       "    <tr>\n",
       "      <th>15184</th>\n",
       "      <td>220587</td>\n",
       "      <td>ПИЦЦА ПАОЛО</td>\n",
       "      <td>да</td>\n",
       "      <td>кафетерий</td>\n",
       "      <td>город Москва, город Зеленоград, корпус 1627</td>\n",
       "      <td>0</td>\n",
       "      <td>город Зеленоград</td>\n",
       "    </tr>\n",
       "    <tr>\n",
       "      <th>15201</th>\n",
       "      <td>212776</td>\n",
       "      <td>ТЕРЕМОК</td>\n",
       "      <td>да</td>\n",
       "      <td>кафе</td>\n",
       "      <td>город Москва, поселение Сосенское, Калужское ш...</td>\n",
       "      <td>0</td>\n",
       "      <td>поселение Сосенское</td>\n",
       "    </tr>\n",
       "  </tbody>\n",
       "</table>\n",
       "<p>370 rows × 7 columns</p>\n",
       "</div>"
      ],
      "text/plain": [
       "           id              object_name chain object_type  \\\n",
       "1386    22331            СТОЛОВАЯ МИЭТ   нет    столовая   \n",
       "1405    20199                      ЭТО   нет        кафе   \n",
       "1406    68113                   ФРЕНДС   нет        кафе   \n",
       "1407    20105   КАФЕ ГРАФ МОНТЕ-КРИСТО   нет        кафе   \n",
       "1408    22982                 АЛЬФОРНО   нет        кафе   \n",
       "...       ...                      ...   ...         ...   \n",
       "15137  209920                    ДЮШЕС    да    ресторан   \n",
       "15169  213387                    COFIX    да        кафе   \n",
       "15183  205739  ПИЦЦА ПАОЛО И БЕНТО WOK    да        кафе   \n",
       "15184  220587              ПИЦЦА ПАОЛО    да   кафетерий   \n",
       "15201  212776                  ТЕРЕМОК    да        кафе   \n",
       "\n",
       "                                                 address  number  \\\n",
       "1386   город Москва, город Зеленоград, улица Юности, ...      56   \n",
       "1405          город Москва, город Зеленоград, корпус 401      35   \n",
       "1406          город Москва, город Зеленоград, корпус 435      34   \n",
       "1407          город Москва, город Зеленоград, корпус 436      40   \n",
       "1408          город Москва, город Зеленоград, корпус 438      49   \n",
       "...                                                  ...     ...   \n",
       "15137  город Москва, город Зеленоград, Проезд № 4806,...     100   \n",
       "15169  город Москва, поселение Сосенское, Калужское ш...      15   \n",
       "15183  город Москва, город Зеленоград, Панфиловский п...      30   \n",
       "15184        город Москва, город Зеленоград, корпус 1627       0   \n",
       "15201  город Москва, поселение Сосенское, Калужское ш...       0   \n",
       "\n",
       "            address_street  \n",
       "1386      город Зеленоград  \n",
       "1405      город Зеленоград  \n",
       "1406      город Зеленоград  \n",
       "1407      город Зеленоград  \n",
       "1408      город Зеленоград  \n",
       "...                    ...  \n",
       "15137     город Зеленоград  \n",
       "15169  поселение Сосенское  \n",
       "15183     город Зеленоград  \n",
       "15184     город Зеленоград  \n",
       "15201  поселение Сосенское  \n",
       "\n",
       "[370 rows x 7 columns]"
      ]
     },
     "execution_count": 37,
     "metadata": {},
     "output_type": "execute_result"
    }
   ],
   "source": [
    "df[df['address_street'].isin(['город Зеленоград','поселение Сосенское'])]"
   ]
  },
  {
   "cell_type": "markdown",
   "metadata": {},
   "source": [
    "Эти два населенных пункта - из Новой Москвы, адрес объектов в городе Зеленограде не содержит улиц, а для объектов из поселения Сосенского, в соответствии с логикой работы нашего запроса, из адреса было взято первое совпадение которое содержало только указание на поселение, в любом случае, нас интересует только сам город Москва, исключим эти данные из группировки ТОП10"
   ]
  },
  {
   "cell_type": "code",
   "execution_count": 38,
   "metadata": {},
   "outputs": [
    {
     "data": {
      "text/html": [
       "<div>\n",
       "<style scoped>\n",
       "    .dataframe tbody tr th:only-of-type {\n",
       "        vertical-align: middle;\n",
       "    }\n",
       "\n",
       "    .dataframe tbody tr th {\n",
       "        vertical-align: top;\n",
       "    }\n",
       "\n",
       "    .dataframe thead th {\n",
       "        text-align: right;\n",
       "    }\n",
       "</style>\n",
       "<table border=\"1\" class=\"dataframe\">\n",
       "  <thead>\n",
       "    <tr style=\"text-align: right;\">\n",
       "      <th></th>\n",
       "      <th>id</th>\n",
       "    </tr>\n",
       "    <tr>\n",
       "      <th>address_street</th>\n",
       "      <th></th>\n",
       "    </tr>\n",
       "  </thead>\n",
       "  <tbody>\n",
       "    <tr>\n",
       "      <th>проспект Мира</th>\n",
       "      <td>204</td>\n",
       "    </tr>\n",
       "    <tr>\n",
       "      <th>Профсоюзная улица</th>\n",
       "      <td>182</td>\n",
       "    </tr>\n",
       "    <tr>\n",
       "      <th>Ленинградский проспект</th>\n",
       "      <td>171</td>\n",
       "    </tr>\n",
       "    <tr>\n",
       "      <th>Пресненская набережная</th>\n",
       "      <td>167</td>\n",
       "    </tr>\n",
       "    <tr>\n",
       "      <th>Варшавское шоссе</th>\n",
       "      <td>162</td>\n",
       "    </tr>\n",
       "    <tr>\n",
       "      <th>Ленинский проспект</th>\n",
       "      <td>148</td>\n",
       "    </tr>\n",
       "    <tr>\n",
       "      <th>проспект Вернадского</th>\n",
       "      <td>132</td>\n",
       "    </tr>\n",
       "    <tr>\n",
       "      <th>Кутузовский проспект</th>\n",
       "      <td>114</td>\n",
       "    </tr>\n",
       "    <tr>\n",
       "      <th>Каширское шоссе</th>\n",
       "      <td>112</td>\n",
       "    </tr>\n",
       "    <tr>\n",
       "      <th>Кировоградская улица</th>\n",
       "      <td>110</td>\n",
       "    </tr>\n",
       "  </tbody>\n",
       "</table>\n",
       "</div>"
      ],
      "text/plain": [
       "                         id\n",
       "address_street             \n",
       "проспект Мира           204\n",
       "Профсоюзная улица       182\n",
       "Ленинградский проспект  171\n",
       "Пресненская набережная  167\n",
       "Варшавское шоссе        162\n",
       "Ленинский проспект      148\n",
       "проспект Вернадского    132\n",
       "Кутузовский проспект    114\n",
       "Каширское шоссе         112\n",
       "Кировоградская улица    110"
      ]
     },
     "execution_count": 38,
     "metadata": {},
     "output_type": "execute_result"
    }
   ],
   "source": [
    "top10_street = df[~df['address_street'].isin(['город Зеленоград','поселение Сосенское'])].\\\n",
    "               pivot_table(index='address_street',values='id', aggfunc='count').\\\n",
    "               sort_values('id', ascending=False).head(10)\n",
    "top10_street"
   ]
  },
  {
   "cell_type": "markdown",
   "metadata": {},
   "source": [
    "Построим гистограмму на которой отобразим это распределение"
   ]
  },
  {
   "cell_type": "code",
   "execution_count": 39,
   "metadata": {},
   "outputs": [
    {
     "data": {
      "image/png": "[encoded data removed]",
      "text/plain": [
       "<Figure size 792x432 with 1 Axes>"
      ]
     },
     "metadata": {
      "needs_background": "light"
     },
     "output_type": "display_data"
    }
   ],
   "source": [
    "plt.figure(figsize=(11,6))\n",
    "sns.barplot(y=top10_street.index, \n",
    "            x=top10_street['id'],\n",
    "            orient='h')\n",
    "plt.title('10 улиц с максимальным количеством объектов общественного питания', fontsize=14, pad=14)\n",
    "plt.xlabel('Количество объектов', fontsize=12, labelpad=12)\n",
    "plt.ylabel(None)\n",
    "plt.xticks(fontsize=10)\n",
    "plt.yticks(fontsize=10)\n",
    "sns.despine() \n",
    "plt.show()"
   ]
  },
  {
   "cell_type": "markdown",
   "metadata": {},
   "source": [
    "Максимальное количество объектов находятся на улицах:\n",
    " * проспект Мира\n",
    " * Профсоюзная улица\n",
    " * Ленинградский проспект\n",
    " \n",
    "Улицы из ТОП10 очень большие по протяженности, для ответа на вопрос в каких районах они пролегают нам понадобится получить данные с API Карт Яндекса"
   ]
  },
  {
   "cell_type": "markdown",
   "metadata": {},
   "source": [
    "Подготовим данные для запроса"
   ]
  },
  {
   "cell_type": "code",
   "execution_count": 40,
   "metadata": {},
   "outputs": [
    {
     "data": {
      "text/html": [
       "<div>\n",
       "<style scoped>\n",
       "    .dataframe tbody tr th:only-of-type {\n",
       "        vertical-align: middle;\n",
       "    }\n",
       "\n",
       "    .dataframe tbody tr th {\n",
       "        vertical-align: top;\n",
       "    }\n",
       "\n",
       "    .dataframe thead th {\n",
       "        text-align: right;\n",
       "    }\n",
       "</style>\n",
       "<table border=\"1\" class=\"dataframe\">\n",
       "  <thead>\n",
       "    <tr style=\"text-align: right;\">\n",
       "      <th></th>\n",
       "      <th>id</th>\n",
       "      <th>address</th>\n",
       "    </tr>\n",
       "  </thead>\n",
       "  <tbody>\n",
       "    <tr>\n",
       "      <th>151</th>\n",
       "      <td>155973</td>\n",
       "      <td>город Москва, Варшавское шоссе, дом 2</td>\n",
       "    </tr>\n",
       "    <tr>\n",
       "      <th>152</th>\n",
       "      <td>23618</td>\n",
       "      <td>город Москва, Варшавское шоссе, дом 7, корпус 1</td>\n",
       "    </tr>\n",
       "    <tr>\n",
       "      <th>153</th>\n",
       "      <td>155852</td>\n",
       "      <td>город Москва, Варшавское шоссе, дом 29</td>\n",
       "    </tr>\n",
       "    <tr>\n",
       "      <th>154</th>\n",
       "      <td>152556</td>\n",
       "      <td>город Москва, Варшавское шоссе, дом 72, корпус 2</td>\n",
       "    </tr>\n",
       "    <tr>\n",
       "      <th>155</th>\n",
       "      <td>120658</td>\n",
       "      <td>город Москва, Варшавское шоссе, дом 100</td>\n",
       "    </tr>\n",
       "  </tbody>\n",
       "</table>\n",
       "</div>"
      ],
      "text/plain": [
       "         id                                           address\n",
       "151  155973             город Москва, Варшавское шоссе, дом 2\n",
       "152   23618   город Москва, Варшавское шоссе, дом 7, корпус 1\n",
       "153  155852            город Москва, Варшавское шоссе, дом 29\n",
       "154  152556  город Москва, Варшавское шоссе, дом 72, корпус 2\n",
       "155  120658           город Москва, Варшавское шоссе, дом 100"
      ]
     },
     "execution_count": 40,
     "metadata": {},
     "output_type": "execute_result"
    }
   ],
   "source": [
    "data_for_request_top_street = df[df['address_street'].isin(top10_street.index)][['id','address']]\n",
    "data_for_request_top_street.head()"
   ]
  },
  {
   "cell_type": "code",
   "execution_count": 41,
   "metadata": {},
   "outputs": [
    {
     "data": {
      "text/plain": [
       "1502"
      ]
     },
     "execution_count": 41,
     "metadata": {},
     "output_type": "execute_result"
    }
   ],
   "source": [
    "len(data_for_request_top_street)"
   ]
  },
  {
   "cell_type": "markdown",
   "metadata": {},
   "source": [
    "Всего у нас 1502 адреса для запроса"
   ]
  },
  {
   "cell_type": "markdown",
   "metadata": {},
   "source": [
    "В отдельный проект мы импортировали библиотеку `requests` для запроса к API и библиотеку `re` для обработки ответа\n",
    "\n",
    "Далее мы запустили два цикла:"
   ]
  },
  {
   "cell_type": "raw",
   "metadata": {},
   "source": [
    "1. Цикл для запроса координат\n",
    "\n",
    "на гитхабе не отображается этот код, есть в проекте рядом"
   ]
  },
  {
   "cell_type": "markdown",
   "metadata": {},
   "source": [
    "В этом цикле мы передавали API адрес из подготовленных данных, из полученного ответа доставали регулярным выражением координаты объекта и сохраняли их в отдельный массив, после того как цикл закончил работу мы добавили данные массива `coord_list` в датафрейм `data_for_request`"
   ]
  },
  {
   "cell_type": "raw",
   "metadata": {},
   "source": [
    "2. Цикл для запроса районов\n",
    "\n",
    "на гитхабе не отображается этот код, есть в проекте рядом"
   ]
  },
  {
   "cell_type": "markdown",
   "metadata": {},
   "source": [
    "Во втором цикле полученные ранее координаты мы передавали обратно API с указанием того что в ответе хотим получить район в который попали эти координаты, для этого в запросе мы применили специальный параметр `kind=district`, полученный массив адресов `district_list` мы также добавили в датафрейм `data_for_request`"
   ]
  },
  {
   "cell_type": "markdown",
   "metadata": {},
   "source": [
    "Полученный массив данных мы сохранили на сервисах Google и готовы загрузить его в текущий проект, для этого импортируем необходимые библиотеки"
   ]
  },
  {
   "cell_type": "markdown",
   "metadata": {},
   "source": [
    "Составим запрос и запишем ответ в датафрейм"
   ]
  },
  {
   "cell_type": "code",
   "execution_count": 42,
   "metadata": {
    "scrolled": true
   },
   "outputs": [
    {
     "data": {
      "text/html": [
       "<div>\n",
       "<style scoped>\n",
       "    .dataframe tbody tr th:only-of-type {\n",
       "        vertical-align: middle;\n",
       "    }\n",
       "\n",
       "    .dataframe tbody tr th {\n",
       "        vertical-align: top;\n",
       "    }\n",
       "\n",
       "    .dataframe thead th {\n",
       "        text-align: right;\n",
       "    }\n",
       "</style>\n",
       "<table border=\"1\" class=\"dataframe\">\n",
       "  <thead>\n",
       "    <tr style=\"text-align: right;\">\n",
       "      <th></th>\n",
       "      <th>id</th>\n",
       "      <th>address</th>\n",
       "      <th>coord</th>\n",
       "      <th>district</th>\n",
       "    </tr>\n",
       "  </thead>\n",
       "  <tbody>\n",
       "    <tr>\n",
       "      <th>0</th>\n",
       "      <td>155973</td>\n",
       "      <td>город Москва, Варшавское шоссе, дом 2</td>\n",
       "      <td>37.619683 55.699943</td>\n",
       "      <td>Россия, Москва, Южный административный округ, ...</td>\n",
       "    </tr>\n",
       "    <tr>\n",
       "      <th>1</th>\n",
       "      <td>23618</td>\n",
       "      <td>город Москва, Варшавское шоссе, дом 7, корпус 1</td>\n",
       "      <td>37.622405 55.700877</td>\n",
       "      <td>Россия, Москва, Южный административный округ, ...</td>\n",
       "    </tr>\n",
       "    <tr>\n",
       "      <th>2</th>\n",
       "      <td>155852</td>\n",
       "      <td>город Москва, Варшавское шоссе, дом 29</td>\n",
       "      <td>37.622792 55.693074</td>\n",
       "      <td>Россия, Москва, Южный административный округ, ...</td>\n",
       "    </tr>\n",
       "    <tr>\n",
       "      <th>3</th>\n",
       "      <td>152556</td>\n",
       "      <td>город Москва, Варшавское шоссе, дом 72, корпус 2</td>\n",
       "      <td>37.618767 55.656839</td>\n",
       "      <td>Россия, Москва, Южный административный округ, ...</td>\n",
       "    </tr>\n",
       "    <tr>\n",
       "      <th>4</th>\n",
       "      <td>120658</td>\n",
       "      <td>город Москва, Варшавское шоссе, дом 100</td>\n",
       "      <td>37.618812 55.646228</td>\n",
       "      <td>Россия, Москва, Южный административный округ, ...</td>\n",
       "    </tr>\n",
       "  </tbody>\n",
       "</table>\n",
       "</div>"
      ],
      "text/plain": [
       "       id                                           address  \\\n",
       "0  155973             город Москва, Варшавское шоссе, дом 2   \n",
       "1   23618   город Москва, Варшавское шоссе, дом 7, корпус 1   \n",
       "2  155852            город Москва, Варшавское шоссе, дом 29   \n",
       "3  152556  город Москва, Варшавское шоссе, дом 72, корпус 2   \n",
       "4  120658           город Москва, Варшавское шоссе, дом 100   \n",
       "\n",
       "                 coord                                           district  \n",
       "0  37.619683 55.699943  Россия, Москва, Южный административный округ, ...  \n",
       "1  37.622405 55.700877  Россия, Москва, Южный административный округ, ...  \n",
       "2  37.622792 55.693074  Россия, Москва, Южный административный округ, ...  \n",
       "3  37.618767 55.656839  Россия, Москва, Южный административный округ, ...  \n",
       "4  37.618812 55.646228  Россия, Москва, Южный административный округ, ...  "
      ]
     },
     "execution_count": 42,
     "metadata": {},
     "output_type": "execute_result"
    }
   ],
   "source": [
    "district_top_street = pd.read_csv(BytesIO(requests.get('https://docs.google.com/spreadsheets/d/19TY-K9rYlN_ztAWBzBOqqQoeKZHoPcWBGC-4YPNywTo/export?format=csv').content))\n",
    "district_top_street.head()"
   ]
  },
  {
   "cell_type": "markdown",
   "metadata": {},
   "source": [
    "Сведения о районе содержатся в составе адреса вместе с городом и административным округом, выделим из адреса только район"
   ]
  },
  {
   "cell_type": "code",
   "execution_count": 43,
   "metadata": {},
   "outputs": [
    {
     "data": {
      "text/html": [
       "<div>\n",
       "<style scoped>\n",
       "    .dataframe tbody tr th:only-of-type {\n",
       "        vertical-align: middle;\n",
       "    }\n",
       "\n",
       "    .dataframe tbody tr th {\n",
       "        vertical-align: top;\n",
       "    }\n",
       "\n",
       "    .dataframe thead th {\n",
       "        text-align: right;\n",
       "    }\n",
       "</style>\n",
       "<table border=\"1\" class=\"dataframe\">\n",
       "  <thead>\n",
       "    <tr style=\"text-align: right;\">\n",
       "      <th></th>\n",
       "      <th>id</th>\n",
       "      <th>address</th>\n",
       "      <th>coord</th>\n",
       "      <th>district</th>\n",
       "    </tr>\n",
       "  </thead>\n",
       "  <tbody>\n",
       "    <tr>\n",
       "      <th>0</th>\n",
       "      <td>155973</td>\n",
       "      <td>город Москва, Варшавское шоссе, дом 2</td>\n",
       "      <td>37.619683 55.699943</td>\n",
       "      <td>Донской район</td>\n",
       "    </tr>\n",
       "    <tr>\n",
       "      <th>1</th>\n",
       "      <td>23618</td>\n",
       "      <td>город Москва, Варшавское шоссе, дом 7, корпус 1</td>\n",
       "      <td>37.622405 55.700877</td>\n",
       "      <td>Донской район</td>\n",
       "    </tr>\n",
       "    <tr>\n",
       "      <th>2</th>\n",
       "      <td>155852</td>\n",
       "      <td>город Москва, Варшавское шоссе, дом 29</td>\n",
       "      <td>37.622792 55.693074</td>\n",
       "      <td>Донской район</td>\n",
       "    </tr>\n",
       "    <tr>\n",
       "      <th>3</th>\n",
       "      <td>152556</td>\n",
       "      <td>город Москва, Варшавское шоссе, дом 72, корпус 2</td>\n",
       "      <td>37.618767 55.656839</td>\n",
       "      <td>Нагорный район</td>\n",
       "    </tr>\n",
       "    <tr>\n",
       "      <th>4</th>\n",
       "      <td>120658</td>\n",
       "      <td>город Москва, Варшавское шоссе, дом 100</td>\n",
       "      <td>37.618812 55.646228</td>\n",
       "      <td>Нагорный район</td>\n",
       "    </tr>\n",
       "  </tbody>\n",
       "</table>\n",
       "</div>"
      ],
      "text/plain": [
       "       id                                           address  \\\n",
       "0  155973             город Москва, Варшавское шоссе, дом 2   \n",
       "1   23618   город Москва, Варшавское шоссе, дом 7, корпус 1   \n",
       "2  155852            город Москва, Варшавское шоссе, дом 29   \n",
       "3  152556  город Москва, Варшавское шоссе, дом 72, корпус 2   \n",
       "4  120658           город Москва, Варшавское шоссе, дом 100   \n",
       "\n",
       "                 coord         district  \n",
       "0  37.619683 55.699943    Донской район  \n",
       "1  37.622405 55.700877    Донской район  \n",
       "2  37.622792 55.693074    Донской район  \n",
       "3  37.618767 55.656839   Нагорный район  \n",
       "4  37.618812 55.646228   Нагорный район  "
      ]
     },
     "execution_count": 43,
     "metadata": {},
     "output_type": "execute_result"
    }
   ],
   "source": [
    "district_top_street['district'] = district_top_street['district'].str.split(',(.*?)', expand=True)[6]\n",
    "district_top_street.head()"
   ]
  },
  {
   "cell_type": "markdown",
   "metadata": {},
   "source": [
    "Проверим на пропуски"
   ]
  },
  {
   "cell_type": "code",
   "execution_count": 44,
   "metadata": {},
   "outputs": [
    {
     "data": {
      "text/html": [
       "<div>\n",
       "<style scoped>\n",
       "    .dataframe tbody tr th:only-of-type {\n",
       "        vertical-align: middle;\n",
       "    }\n",
       "\n",
       "    .dataframe tbody tr th {\n",
       "        vertical-align: top;\n",
       "    }\n",
       "\n",
       "    .dataframe thead th {\n",
       "        text-align: right;\n",
       "    }\n",
       "</style>\n",
       "<table border=\"1\" class=\"dataframe\">\n",
       "  <thead>\n",
       "    <tr style=\"text-align: right;\">\n",
       "      <th></th>\n",
       "      <th>id</th>\n",
       "      <th>address</th>\n",
       "      <th>coord</th>\n",
       "      <th>district</th>\n",
       "    </tr>\n",
       "  </thead>\n",
       "  <tbody>\n",
       "  </tbody>\n",
       "</table>\n",
       "</div>"
      ],
      "text/plain": [
       "Empty DataFrame\n",
       "Columns: [id, address, coord, district]\n",
       "Index: []"
      ]
     },
     "execution_count": 44,
     "metadata": {},
     "output_type": "execute_result"
    }
   ],
   "source": [
    "district_top_street[district_top_street['district'].isna()]"
   ]
  },
  {
   "cell_type": "markdown",
   "metadata": {},
   "source": [
    "Пропусков нет, построим сводную таблицу уже по районам"
   ]
  },
  {
   "cell_type": "code",
   "execution_count": 45,
   "metadata": {},
   "outputs": [
    {
     "data": {
      "text/html": [
       "<div>\n",
       "<style scoped>\n",
       "    .dataframe tbody tr th:only-of-type {\n",
       "        vertical-align: middle;\n",
       "    }\n",
       "\n",
       "    .dataframe tbody tr th {\n",
       "        vertical-align: top;\n",
       "    }\n",
       "\n",
       "    .dataframe thead th {\n",
       "        text-align: right;\n",
       "    }\n",
       "</style>\n",
       "<table border=\"1\" class=\"dataframe\">\n",
       "  <thead>\n",
       "    <tr style=\"text-align: right;\">\n",
       "      <th></th>\n",
       "      <th>id</th>\n",
       "    </tr>\n",
       "    <tr>\n",
       "      <th>district</th>\n",
       "      <th></th>\n",
       "    </tr>\n",
       "  </thead>\n",
       "  <tbody>\n",
       "    <tr>\n",
       "      <th>Пресненский район</th>\n",
       "      <td>167</td>\n",
       "    </tr>\n",
       "    <tr>\n",
       "      <th>район Чертаново Центральное</th>\n",
       "      <td>92</td>\n",
       "    </tr>\n",
       "    <tr>\n",
       "      <th>район Тропарёво-Никулино</th>\n",
       "      <td>89</td>\n",
       "    </tr>\n",
       "    <tr>\n",
       "      <th>район Аэропорт</th>\n",
       "      <td>65</td>\n",
       "    </tr>\n",
       "    <tr>\n",
       "      <th>Обручевский район</th>\n",
       "      <td>64</td>\n",
       "    </tr>\n",
       "    <tr>\n",
       "      <th>Мещанский район</th>\n",
       "      <td>63</td>\n",
       "    </tr>\n",
       "    <tr>\n",
       "      <th>район Свиблово</th>\n",
       "      <td>62</td>\n",
       "    </tr>\n",
       "    <tr>\n",
       "      <th>район Дорогомилово</th>\n",
       "      <td>61</td>\n",
       "    </tr>\n",
       "    <tr>\n",
       "      <th>район Нагатино-Садовники</th>\n",
       "      <td>57</td>\n",
       "    </tr>\n",
       "    <tr>\n",
       "      <th>район Фили-Давыдково</th>\n",
       "      <td>53</td>\n",
       "    </tr>\n",
       "  </tbody>\n",
       "</table>\n",
       "</div>"
      ],
      "text/plain": [
       "                               id\n",
       "district                         \n",
       " Пресненский район            167\n",
       " район Чертаново Центральное   92\n",
       " район Тропарёво-Никулино      89\n",
       " район Аэропорт                65\n",
       " Обручевский район             64\n",
       " Мещанский район               63\n",
       " район Свиблово                62\n",
       " район Дорогомилово            61\n",
       " район Нагатино-Садовники      57\n",
       " район Фили-Давыдково          53"
      ]
     },
     "execution_count": 45,
     "metadata": {},
     "output_type": "execute_result"
    }
   ],
   "source": [
    "district_top_street.pivot_table(index='district', values='id', aggfunc='count').\\\n",
    "                    sort_values('id', ascending=False).head(10)"
   ]
  },
  {
   "cell_type": "markdown",
   "metadata": {},
   "source": [
    "Самым популярным районом для заведений общественного питания является Пресненский район, который расположен в центре города и, по сведениям из открытых источников является элитныым районом и туристическим центром, где расположены Государственный музей искусства народов Востока и тихие Патриаршие пруды. На территории района находятся Московский зоопарк и Московский планетарий с интерактивным музеем. На Большой Никитской улице расположены рестораны европейской и фьюжн-кухни, а также Московский академический театр имени Владимира Маяковского.\n",
    "\n",
    "Кроме Пресненского района в центре города расположен Мещанский, остальные районы из ТОП10 ничем особо не примечательны."
   ]
  },
  {
   "cell_type": "markdown",
   "metadata": {},
   "source": [
    "##  Улицы и районы с наименьшим количеством объектов<a id=\"stage_2_low_10\"></a>"
   ]
  },
  {
   "cell_type": "markdown",
   "metadata": {},
   "source": [
    "Выделим из дата фрейма улицы на которых расположен всего один объект общественного питания"
   ]
  },
  {
   "cell_type": "code",
   "execution_count": 46,
   "metadata": {
    "scrolled": false
   },
   "outputs": [
    {
     "data": {
      "text/html": [
       "<div>\n",
       "<style scoped>\n",
       "    .dataframe tbody tr th:only-of-type {\n",
       "        vertical-align: middle;\n",
       "    }\n",
       "\n",
       "    .dataframe tbody tr th {\n",
       "        vertical-align: top;\n",
       "    }\n",
       "\n",
       "    .dataframe thead th {\n",
       "        text-align: right;\n",
       "    }\n",
       "</style>\n",
       "<table border=\"1\" class=\"dataframe\">\n",
       "  <thead>\n",
       "    <tr style=\"text-align: right;\">\n",
       "      <th></th>\n",
       "      <th>id</th>\n",
       "    </tr>\n",
       "    <tr>\n",
       "      <th>address_street</th>\n",
       "      <th></th>\n",
       "    </tr>\n",
       "  </thead>\n",
       "  <tbody>\n",
       "    <tr>\n",
       "      <th>1-й Балтийский переулок</th>\n",
       "      <td>1</td>\n",
       "    </tr>\n",
       "    <tr>\n",
       "      <th>1-й Басманный переулок</th>\n",
       "      <td>1</td>\n",
       "    </tr>\n",
       "    <tr>\n",
       "      <th>1-й Ботанический проезд</th>\n",
       "      <td>1</td>\n",
       "    </tr>\n",
       "    <tr>\n",
       "      <th>1-й Вешняковский проезд</th>\n",
       "      <td>1</td>\n",
       "    </tr>\n",
       "    <tr>\n",
       "      <th>1-й Голутвинский переулок</th>\n",
       "      <td>1</td>\n",
       "    </tr>\n",
       "    <tr>\n",
       "      <th>...</th>\n",
       "      <td>...</td>\n",
       "    </tr>\n",
       "    <tr>\n",
       "      <th>улица Шеногина</th>\n",
       "      <td>1</td>\n",
       "    </tr>\n",
       "    <tr>\n",
       "      <th>улица Шумилова</th>\n",
       "      <td>1</td>\n",
       "    </tr>\n",
       "    <tr>\n",
       "      <th>улица Шумкина</th>\n",
       "      <td>1</td>\n",
       "    </tr>\n",
       "    <tr>\n",
       "      <th>улица Щорса</th>\n",
       "      <td>1</td>\n",
       "    </tr>\n",
       "    <tr>\n",
       "      <th>шоссе Фрезер</th>\n",
       "      <td>1</td>\n",
       "    </tr>\n",
       "  </tbody>\n",
       "</table>\n",
       "<p>570 rows × 1 columns</p>\n",
       "</div>"
      ],
      "text/plain": [
       "                           id\n",
       "address_street               \n",
       "1-й Балтийский переулок     1\n",
       "1-й Басманный переулок      1\n",
       "1-й Ботанический проезд     1\n",
       "1-й Вешняковский проезд     1\n",
       "1-й Голутвинский переулок   1\n",
       "...                        ..\n",
       "улица Шеногина              1\n",
       "улица Шумилова              1\n",
       "улица Шумкина               1\n",
       "улица Щорса                 1\n",
       "шоссе Фрезер                1\n",
       "\n",
       "[570 rows x 1 columns]"
      ]
     },
     "execution_count": 46,
     "metadata": {},
     "output_type": "execute_result"
    }
   ],
   "source": [
    "low_street = df.pivot_table(index='address_street',values='id', aggfunc='count')\n",
    "low_street = low_street[low_street['id'] == 1]\n",
    "low_street"
   ]
  },
  {
   "cell_type": "markdown",
   "metadata": {},
   "source": [
    "Всего у нас 570 таких улиц, для того чтобы выяснить в каких районах они расположены составим аналогичный запрос к API Карт Яндекса"
   ]
  },
  {
   "cell_type": "markdown",
   "metadata": {},
   "source": [
    "Данные для запроса"
   ]
  },
  {
   "cell_type": "code",
   "execution_count": 47,
   "metadata": {},
   "outputs": [
    {
     "data": {
      "text/html": [
       "<div>\n",
       "<style scoped>\n",
       "    .dataframe tbody tr th:only-of-type {\n",
       "        vertical-align: middle;\n",
       "    }\n",
       "\n",
       "    .dataframe tbody tr th {\n",
       "        vertical-align: top;\n",
       "    }\n",
       "\n",
       "    .dataframe thead th {\n",
       "        text-align: right;\n",
       "    }\n",
       "</style>\n",
       "<table border=\"1\" class=\"dataframe\">\n",
       "  <thead>\n",
       "    <tr style=\"text-align: right;\">\n",
       "      <th></th>\n",
       "      <th>id</th>\n",
       "      <th>address</th>\n",
       "    </tr>\n",
       "  </thead>\n",
       "  <tbody>\n",
       "    <tr>\n",
       "      <th>19</th>\n",
       "      <td>153644</td>\n",
       "      <td>город Москва, Филипповский переулок, дом 15/5</td>\n",
       "    </tr>\n",
       "    <tr>\n",
       "      <th>61</th>\n",
       "      <td>21214</td>\n",
       "      <td>город Москва, Бабаевская улица, дом 3</td>\n",
       "    </tr>\n",
       "    <tr>\n",
       "      <th>69</th>\n",
       "      <td>22139</td>\n",
       "      <td>город Москва, 1-й Балтийский переулок, дом 3/25</td>\n",
       "    </tr>\n",
       "    <tr>\n",
       "      <th>81</th>\n",
       "      <td>25833</td>\n",
       "      <td>город Москва, улица Демьяна Бедного, дом 4</td>\n",
       "    </tr>\n",
       "    <tr>\n",
       "      <th>131</th>\n",
       "      <td>150881</td>\n",
       "      <td>город Москва, Будайская улица, дом 3</td>\n",
       "    </tr>\n",
       "    <tr>\n",
       "      <th>...</th>\n",
       "      <td>...</td>\n",
       "      <td>...</td>\n",
       "    </tr>\n",
       "    <tr>\n",
       "      <th>14227</th>\n",
       "      <td>208805</td>\n",
       "      <td>город Москва, 3-й Угрешский проезд, дом 8, стр...</td>\n",
       "    </tr>\n",
       "    <tr>\n",
       "      <th>14440</th>\n",
       "      <td>211368</td>\n",
       "      <td>город Москва, улица Линии Октябрьской Железной...</td>\n",
       "    </tr>\n",
       "    <tr>\n",
       "      <th>14462</th>\n",
       "      <td>216767</td>\n",
       "      <td>город Москва, 80-й километр Московской Кольцев...</td>\n",
       "    </tr>\n",
       "    <tr>\n",
       "      <th>14704</th>\n",
       "      <td>214324</td>\n",
       "      <td>город Москва, 2-й Кадашёвский переулок, дом 16...</td>\n",
       "    </tr>\n",
       "    <tr>\n",
       "      <th>15015</th>\n",
       "      <td>208239</td>\n",
       "      <td>поселение \"Мосрентген\", деревня Дудкино, владе...</td>\n",
       "    </tr>\n",
       "  </tbody>\n",
       "</table>\n",
       "<p>570 rows × 2 columns</p>\n",
       "</div>"
      ],
      "text/plain": [
       "           id                                            address\n",
       "19     153644      город Москва, Филипповский переулок, дом 15/5\n",
       "61      21214              город Москва, Бабаевская улица, дом 3\n",
       "69      22139    город Москва, 1-й Балтийский переулок, дом 3/25\n",
       "81      25833         город Москва, улица Демьяна Бедного, дом 4\n",
       "131    150881               город Москва, Будайская улица, дом 3\n",
       "...       ...                                                ...\n",
       "14227  208805  город Москва, 3-й Угрешский проезд, дом 8, стр...\n",
       "14440  211368  город Москва, улица Линии Октябрьской Железной...\n",
       "14462  216767  город Москва, 80-й километр Московской Кольцев...\n",
       "14704  214324  город Москва, 2-й Кадашёвский переулок, дом 16...\n",
       "15015  208239  поселение \"Мосрентген\", деревня Дудкино, владе...\n",
       "\n",
       "[570 rows x 2 columns]"
      ]
     },
     "execution_count": 47,
     "metadata": {},
     "output_type": "execute_result"
    }
   ],
   "source": [
    "data_for_request_low_street = df[df['address_street'].isin(low_street.index)][['id','address']]\n",
    "data_for_request_low_street"
   ]
  },
  {
   "cell_type": "markdown",
   "metadata": {},
   "source": [
    "Импорт результата запроса"
   ]
  },
  {
   "cell_type": "code",
   "execution_count": 48,
   "metadata": {},
   "outputs": [],
   "source": [
    "district_low_street = pd.read_csv(BytesIO(requests.get('https://docs.google.com/spreadsheets/d/1ReH4CBsvV5ooPlGp7GJrl8PkhypOC69qsiMXOZgRzP4/export?format=csv').content))"
   ]
  },
  {
   "cell_type": "markdown",
   "metadata": {},
   "source": [
    "Выделим из адреса район"
   ]
  },
  {
   "cell_type": "code",
   "execution_count": 49,
   "metadata": {},
   "outputs": [
    {
     "data": {
      "text/html": [
       "<div>\n",
       "<style scoped>\n",
       "    .dataframe tbody tr th:only-of-type {\n",
       "        vertical-align: middle;\n",
       "    }\n",
       "\n",
       "    .dataframe tbody tr th {\n",
       "        vertical-align: top;\n",
       "    }\n",
       "\n",
       "    .dataframe thead th {\n",
       "        text-align: right;\n",
       "    }\n",
       "</style>\n",
       "<table border=\"1\" class=\"dataframe\">\n",
       "  <thead>\n",
       "    <tr style=\"text-align: right;\">\n",
       "      <th></th>\n",
       "      <th>id</th>\n",
       "      <th>address</th>\n",
       "      <th>coord</th>\n",
       "      <th>district</th>\n",
       "    </tr>\n",
       "  </thead>\n",
       "  <tbody>\n",
       "    <tr>\n",
       "      <th>0</th>\n",
       "      <td>153644</td>\n",
       "      <td>город Москва, Филипповский переулок, дом 15/5</td>\n",
       "      <td>37.598573 55.75058</td>\n",
       "      <td>район Арбат</td>\n",
       "    </tr>\n",
       "    <tr>\n",
       "      <th>1</th>\n",
       "      <td>21214</td>\n",
       "      <td>город Москва, Бабаевская улица, дом 3</td>\n",
       "      <td>37.689069 55.790595</td>\n",
       "      <td>район Сокольники</td>\n",
       "    </tr>\n",
       "    <tr>\n",
       "      <th>2</th>\n",
       "      <td>22139</td>\n",
       "      <td>город Москва, 1-й Балтийский переулок, дом 3/25</td>\n",
       "      <td>37.518785 55.810471</td>\n",
       "      <td>район Аэропорт</td>\n",
       "    </tr>\n",
       "    <tr>\n",
       "      <th>3</th>\n",
       "      <td>25833</td>\n",
       "      <td>город Москва, улица Демьяна Бедного, дом 4</td>\n",
       "      <td>37.48693 55.770401</td>\n",
       "      <td>район Хорошёво-Мнёвники</td>\n",
       "    </tr>\n",
       "    <tr>\n",
       "      <th>4</th>\n",
       "      <td>150881</td>\n",
       "      <td>город Москва, Будайская улица, дом 3</td>\n",
       "      <td>37.665156 55.831903</td>\n",
       "      <td>район Ростокино</td>\n",
       "    </tr>\n",
       "  </tbody>\n",
       "</table>\n",
       "</div>"
      ],
      "text/plain": [
       "       id                                          address  \\\n",
       "0  153644    город Москва, Филипповский переулок, дом 15/5   \n",
       "1   21214            город Москва, Бабаевская улица, дом 3   \n",
       "2   22139  город Москва, 1-й Балтийский переулок, дом 3/25   \n",
       "3   25833       город Москва, улица Демьяна Бедного, дом 4   \n",
       "4  150881             город Москва, Будайская улица, дом 3   \n",
       "\n",
       "                 coord                  district  \n",
       "0   37.598573 55.75058               район Арбат  \n",
       "1  37.689069 55.790595          район Сокольники  \n",
       "2  37.518785 55.810471            район Аэропорт  \n",
       "3   37.48693 55.770401   район Хорошёво-Мнёвники  \n",
       "4  37.665156 55.831903           район Ростокино  "
      ]
     },
     "execution_count": 49,
     "metadata": {},
     "output_type": "execute_result"
    }
   ],
   "source": [
    "district_low_street['district'] = district_low_street['district'].str.split(',(.*?)', expand=True)[6]\n",
    "district_low_street.head()"
   ]
  },
  {
   "cell_type": "markdown",
   "metadata": {},
   "source": [
    "Проверим на пропуски"
   ]
  },
  {
   "cell_type": "code",
   "execution_count": 50,
   "metadata": {},
   "outputs": [
    {
     "data": {
      "text/html": [
       "<div>\n",
       "<style scoped>\n",
       "    .dataframe tbody tr th:only-of-type {\n",
       "        vertical-align: middle;\n",
       "    }\n",
       "\n",
       "    .dataframe tbody tr th {\n",
       "        vertical-align: top;\n",
       "    }\n",
       "\n",
       "    .dataframe thead th {\n",
       "        text-align: right;\n",
       "    }\n",
       "</style>\n",
       "<table border=\"1\" class=\"dataframe\">\n",
       "  <thead>\n",
       "    <tr style=\"text-align: right;\">\n",
       "      <th></th>\n",
       "      <th>id</th>\n",
       "      <th>address</th>\n",
       "      <th>coord</th>\n",
       "      <th>district</th>\n",
       "    </tr>\n",
       "  </thead>\n",
       "  <tbody>\n",
       "    <tr>\n",
       "      <th>306</th>\n",
       "      <td>23249</td>\n",
       "      <td>город Москва, 104-й километр Московской Кольце...</td>\n",
       "      <td>0 0</td>\n",
       "      <td>NaN</td>\n",
       "    </tr>\n",
       "    <tr>\n",
       "      <th>339</th>\n",
       "      <td>25516</td>\n",
       "      <td>город Москва, 42-й километр Московской Кольцев...</td>\n",
       "      <td>0 0</td>\n",
       "      <td>NaN</td>\n",
       "    </tr>\n",
       "    <tr>\n",
       "      <th>350</th>\n",
       "      <td>19912</td>\n",
       "      <td>город Москва, 56-й километр Московской Кольцев...</td>\n",
       "      <td>0 0</td>\n",
       "      <td>NaN</td>\n",
       "    </tr>\n",
       "    <tr>\n",
       "      <th>354</th>\n",
       "      <td>143079</td>\n",
       "      <td>город Москва, 65-й километр Московской Кольцев...</td>\n",
       "      <td>0 0</td>\n",
       "      <td>NaN</td>\n",
       "    </tr>\n",
       "    <tr>\n",
       "      <th>355</th>\n",
       "      <td>144799</td>\n",
       "      <td>город Москва, 67-й километр Московской Кольцев...</td>\n",
       "      <td>0 0</td>\n",
       "      <td>NaN</td>\n",
       "    </tr>\n",
       "    <tr>\n",
       "      <th>376</th>\n",
       "      <td>74990</td>\n",
       "      <td>город Москва, 26-й километр Московской Кольцев...</td>\n",
       "      <td>0 0</td>\n",
       "      <td>NaN</td>\n",
       "    </tr>\n",
       "    <tr>\n",
       "      <th>390</th>\n",
       "      <td>25019</td>\n",
       "      <td>Нижний Таганский тупик, дом 3, строение 1</td>\n",
       "      <td>55.098473 51.802992</td>\n",
       "      <td>None</td>\n",
       "    </tr>\n",
       "    <tr>\n",
       "      <th>417</th>\n",
       "      <td>80008</td>\n",
       "      <td>улица Каманина, домовладение 11, строение 2</td>\n",
       "      <td>30.348621 53.937992</td>\n",
       "      <td>None</td>\n",
       "    </tr>\n",
       "    <tr>\n",
       "      <th>439</th>\n",
       "      <td>148031</td>\n",
       "      <td>город Московский, улица Хабарова, дом 2</td>\n",
       "      <td>37.351896 55.593868</td>\n",
       "      <td>NaN</td>\n",
       "    </tr>\n",
       "    <tr>\n",
       "      <th>449</th>\n",
       "      <td>162646</td>\n",
       "      <td>город Троицк, 42-й километр Калужского шоссе, ...</td>\n",
       "      <td>37.288771 55.454233</td>\n",
       "      <td>NaN</td>\n",
       "    </tr>\n",
       "    <tr>\n",
       "      <th>466</th>\n",
       "      <td>171174</td>\n",
       "      <td>город Москва, 30-й километр Московской Кольцев...</td>\n",
       "      <td>0 0</td>\n",
       "      <td>NaN</td>\n",
       "    </tr>\n",
       "    <tr>\n",
       "      <th>467</th>\n",
       "      <td>171176</td>\n",
       "      <td>город Москва, 31-й километр Московской Кольцев...</td>\n",
       "      <td>0 0</td>\n",
       "      <td>NaN</td>\n",
       "    </tr>\n",
       "    <tr>\n",
       "      <th>469</th>\n",
       "      <td>171540</td>\n",
       "      <td>город Москва, 78-й километр Московской Кольцев...</td>\n",
       "      <td>0 0</td>\n",
       "      <td>NaN</td>\n",
       "    </tr>\n",
       "    <tr>\n",
       "      <th>474</th>\n",
       "      <td>23812</td>\n",
       "      <td>город Москва, 34-й километр Московской Кольцев...</td>\n",
       "      <td>0 0</td>\n",
       "      <td>NaN</td>\n",
       "    </tr>\n",
       "    <tr>\n",
       "      <th>567</th>\n",
       "      <td>216767</td>\n",
       "      <td>город Москва, 80-й километр Московской Кольцев...</td>\n",
       "      <td>0 0</td>\n",
       "      <td>NaN</td>\n",
       "    </tr>\n",
       "  </tbody>\n",
       "</table>\n",
       "</div>"
      ],
      "text/plain": [
       "         id                                            address  \\\n",
       "306   23249  город Москва, 104-й километр Московской Кольце...   \n",
       "339   25516  город Москва, 42-й километр Московской Кольцев...   \n",
       "350   19912  город Москва, 56-й километр Московской Кольцев...   \n",
       "354  143079  город Москва, 65-й километр Московской Кольцев...   \n",
       "355  144799  город Москва, 67-й километр Московской Кольцев...   \n",
       "376   74990  город Москва, 26-й километр Московской Кольцев...   \n",
       "390   25019          Нижний Таганский тупик, дом 3, строение 1   \n",
       "417   80008        улица Каманина, домовладение 11, строение 2   \n",
       "439  148031            город Московский, улица Хабарова, дом 2   \n",
       "449  162646  город Троицк, 42-й километр Калужского шоссе, ...   \n",
       "466  171174  город Москва, 30-й километр Московской Кольцев...   \n",
       "467  171176  город Москва, 31-й километр Московской Кольцев...   \n",
       "469  171540  город Москва, 78-й километр Московской Кольцев...   \n",
       "474   23812  город Москва, 34-й километр Московской Кольцев...   \n",
       "567  216767  город Москва, 80-й километр Московской Кольцев...   \n",
       "\n",
       "                   coord district  \n",
       "306                  0 0      NaN  \n",
       "339                  0 0      NaN  \n",
       "350                  0 0      NaN  \n",
       "354                  0 0      NaN  \n",
       "355                  0 0      NaN  \n",
       "376                  0 0      NaN  \n",
       "390  55.098473 51.802992     None  \n",
       "417  30.348621 53.937992     None  \n",
       "439  37.351896 55.593868      NaN  \n",
       "449  37.288771 55.454233      NaN  \n",
       "466                  0 0      NaN  \n",
       "467                  0 0      NaN  \n",
       "469                  0 0      NaN  \n",
       "474                  0 0      NaN  \n",
       "567                  0 0      NaN  "
      ]
     },
     "execution_count": 50,
     "metadata": {},
     "output_type": "execute_result"
    }
   ],
   "source": [
    "district_low_street[district_low_street['district'].isna()]"
   ]
  },
  {
   "cell_type": "markdown",
   "metadata": {},
   "source": [
    "Так как API не смог определить координаты и/или районы по данным адресам - удалим их из таблицы"
   ]
  },
  {
   "cell_type": "code",
   "execution_count": 51,
   "metadata": {},
   "outputs": [],
   "source": [
    "district_low_street = district_low_street.drop(district_low_street[district_low_street['district'].isna()].index)"
   ]
  },
  {
   "cell_type": "markdown",
   "metadata": {},
   "source": [
    "Выведем на экран первые 10 записей этой таблицы, отсортированные по убыванию"
   ]
  },
  {
   "cell_type": "code",
   "execution_count": 52,
   "metadata": {
    "scrolled": false
   },
   "outputs": [
    {
     "data": {
      "text/html": [
       "<div>\n",
       "<style scoped>\n",
       "    .dataframe tbody tr th:only-of-type {\n",
       "        vertical-align: middle;\n",
       "    }\n",
       "\n",
       "    .dataframe tbody tr th {\n",
       "        vertical-align: top;\n",
       "    }\n",
       "\n",
       "    .dataframe thead th {\n",
       "        text-align: right;\n",
       "    }\n",
       "</style>\n",
       "<table border=\"1\" class=\"dataframe\">\n",
       "  <thead>\n",
       "    <tr style=\"text-align: right;\">\n",
       "      <th></th>\n",
       "      <th>id</th>\n",
       "    </tr>\n",
       "    <tr>\n",
       "      <th>district</th>\n",
       "      <th></th>\n",
       "    </tr>\n",
       "  </thead>\n",
       "  <tbody>\n",
       "    <tr>\n",
       "      <th>Таганский район</th>\n",
       "      <td>30</td>\n",
       "    </tr>\n",
       "    <tr>\n",
       "      <th>район Хамовники</th>\n",
       "      <td>27</td>\n",
       "    </tr>\n",
       "    <tr>\n",
       "      <th>Пресненский район</th>\n",
       "      <td>24</td>\n",
       "    </tr>\n",
       "    <tr>\n",
       "      <th>Басманный район</th>\n",
       "      <td>22</td>\n",
       "    </tr>\n",
       "    <tr>\n",
       "      <th>Тверской район</th>\n",
       "      <td>21</td>\n",
       "    </tr>\n",
       "    <tr>\n",
       "      <th>район Марьина Роща</th>\n",
       "      <td>17</td>\n",
       "    </tr>\n",
       "    <tr>\n",
       "      <th>район Сокольники</th>\n",
       "      <td>15</td>\n",
       "    </tr>\n",
       "    <tr>\n",
       "      <th>Мещанский район</th>\n",
       "      <td>14</td>\n",
       "    </tr>\n",
       "    <tr>\n",
       "      <th>район Замоскворечье</th>\n",
       "      <td>12</td>\n",
       "    </tr>\n",
       "    <tr>\n",
       "      <th>район Соколиная Гора</th>\n",
       "      <td>12</td>\n",
       "    </tr>\n",
       "  </tbody>\n",
       "</table>\n",
       "</div>"
      ],
      "text/plain": [
       "                       id\n",
       "district                 \n",
       " Таганский район       30\n",
       " район Хамовники       27\n",
       " Пресненский район     24\n",
       " Басманный район       22\n",
       " Тверской район        21\n",
       " район Марьина Роща    17\n",
       " район Сокольники      15\n",
       " Мещанский район       14\n",
       " район Замоскворечье   12\n",
       " район Соколиная Гора  12"
      ]
     },
     "execution_count": 52,
     "metadata": {},
     "output_type": "execute_result"
    }
   ],
   "source": [
    "district_low_street_pivot = district_low_street.pivot_table(index='district', values='id', aggfunc='count')\n",
    "district_low_street_pivot.sort_values('id', ascending=False).head(10)"
   ]
  },
  {
   "cell_type": "markdown",
   "metadata": {},
   "source": [
    "Посчитаем количество районов в которых нашлись улицы с одним объектом общественного питания"
   ]
  },
  {
   "cell_type": "code",
   "execution_count": 53,
   "metadata": {},
   "outputs": [
    {
     "data": {
      "text/plain": [
       "104"
      ]
     },
     "execution_count": 53,
     "metadata": {},
     "output_type": "execute_result"
    }
   ],
   "source": [
    "district_low_street['district'].nunique()"
   ]
  },
  {
   "cell_type": "markdown",
   "metadata": {},
   "source": [
    "Все 570 улиц с одним объектом общественного питания расположены в 104 районах Москвы. Большая часть из которых является \"спальными\" районами, но среди них присутствуют и центральные районы в которых есть улицы с всего одним объектом общественного питания"
   ]
  },
  {
   "cell_type": "markdown",
   "metadata": {},
   "source": [
    "##  Количество посадочных мест среди объектов на самых популярных улицах<a id=\"stage_2_sits\"></a>"
   ]
  },
  {
   "cell_type": "markdown",
   "metadata": {},
   "source": [
    "Выведем на экран основные статистические показатели распределения количества посадочных мест"
   ]
  },
  {
   "cell_type": "code",
   "execution_count": 54,
   "metadata": {},
   "outputs": [
    {
     "data": {
      "text/plain": [
       "count    1502.0\n",
       "mean       58.0\n",
       "std        90.0\n",
       "min         0.0\n",
       "25%        12.0\n",
       "50%        40.0\n",
       "75%        75.0\n",
       "max      1700.0\n",
       "Name: number, dtype: float64"
      ]
     },
     "execution_count": 54,
     "metadata": {},
     "output_type": "execute_result"
    }
   ],
   "source": [
    "df[df['address_street'].isin(top10_street.index)]['number'].describe().round()"
   ]
  },
  {
   "cell_type": "markdown",
   "metadata": {},
   "source": [
    "Среднее значение 58, медианное 40, 75% заведений рассчитаны на 75 и меньше посадочных мест"
   ]
  },
  {
   "cell_type": "markdown",
   "metadata": {},
   "source": [
    "Построим гистограмму распределения и боксплот под ней для того чтобы наглядно продемонстировать какая часть гистограммы содержит выбросы"
   ]
  },
  {
   "cell_type": "code",
   "execution_count": 55,
   "metadata": {},
   "outputs": [
    {
     "data": {
      "image/png": "[encoded data removed]",
      "text/plain": [
       "<Figure size 864x432 with 2 Axes>"
      ]
     },
     "metadata": {
      "needs_background": "light"
     },
     "output_type": "display_data"
    }
   ],
   "source": [
    "figure, (ax_hist, ax_box) = plt.subplots(2, sharex=True, gridspec_kw={\"height_ratios\": (0.85, 0.15)},\n",
    "                                         figsize=(12,6))\n",
    "sns.boxplot(df[df['address_street'].isin(top10_street.index)]['number'], ax=ax_box)\n",
    "sns.distplot(df[df['address_street'].isin(top10_street.index)]['number'], kde=False, ax=ax_hist)\n",
    "ax_hist.set_title('Распределение количества посадочных мест среди заведений на самых популярных улицах', fontsize=14, pad=14)\n",
    "ax_hist.set_ylabel('Частота', fontsize=12, labelpad=12)\n",
    "ax_hist.set_xlabel(None)\n",
    "ax_hist.grid(axis='x')\n",
    "ax_box.set_xlabel('Количество посадочных мест', fontsize=12, labelpad=12)\n",
    "ax_box.grid(axis='x')\n",
    "plt.show()"
   ]
  },
  {
   "cell_type": "markdown",
   "metadata": {},
   "source": [
    "Правая граница ящика расположена на 75, левая, включающая оставшиеся 23% заканчивается на 150 а дальше идет 2% выбросов"
   ]
  },
  {
   "cell_type": "markdown",
   "metadata": {},
   "source": [
    "Построим боксплоты распределний для сетевых и не сетевых заведений"
   ]
  },
  {
   "cell_type": "code",
   "execution_count": 56,
   "metadata": {},
   "outputs": [
    {
     "data": {
      "image/png": "[encoded data removed]",
      "text/plain": [
       "<Figure size 864x432 with 1 Axes>"
      ]
     },
     "metadata": {
      "needs_background": "light"
     },
     "output_type": "display_data"
    }
   ],
   "source": [
    "plt.figure(figsize=(12,6))\n",
    "sns.boxplot(y=df[df['address_street'].isin(top10_street.index)]['chain'],\n",
    "            x=df[df['address_street'].isin(top10_street.index)]['number'])\n",
    "plt.title('Распределение количества посадочных мест среди заведений\\n на самых популярных улицах, по принадлжености к сети', fontsize=14, pad=14)\n",
    "plt.xlabel('Количество мест', fontsize=12, labelpad=12)\n",
    "plt.ylabel('Сетевое заведение', fontsize=12, labelpad=12)\n",
    "plt.xticks(fontsize=10)\n",
    "plt.yticks(fontsize=10)\n",
    "sns.despine()\n",
    "plt.show()"
   ]
  },
  {
   "cell_type": "markdown",
   "metadata": {},
   "source": [
    "Распределения количества мест, за исключением большого количества выбросов среди не сетевых заведений, схожи\n",
    "\n",
    "Выбросы можно объяснить тем что среди не сетевых заведений гораздо больше вариативность"
   ]
  },
  {
   "cell_type": "markdown",
   "metadata": {},
   "source": [
    "Для вывода распределения посадочных мест по типам необходимо отсортировать датафрейм по возрастанию среднего количества посадочных мест среди объектов на самых популярных улицах, рассчитаем нужные данные и присоединим их к датафрейму"
   ]
  },
  {
   "cell_type": "code",
   "execution_count": 57,
   "metadata": {},
   "outputs": [],
   "source": [
    "mean_number_per_type = df[df['address_street'].isin(top10_street.index)].\\\n",
    "                       pivot_table(index='object_type', \n",
    "                                   values='number', aggfunc='mean').reset_index()\n",
    "mean_number_per_type.columns = ['object_type','mean_number_per_type']\n",
    "df = df.merge(mean_number_per_type, on='object_type', how='left')"
   ]
  },
  {
   "cell_type": "code",
   "execution_count": 58,
   "metadata": {
    "scrolled": false
   },
   "outputs": [
    {
     "data": {
      "image/png": "[encoded data removed]",
      "text/plain": [
       "<Figure size 864x432 with 1 Axes>"
      ]
     },
     "metadata": {
      "needs_background": "light"
     },
     "output_type": "display_data"
    }
   ],
   "source": [
    "plt.figure(figsize=(12,6))\n",
    "sns.boxplot(y=df[df['address_street'].isin(top10_street.index)].\\\n",
    "            sort_values('mean_number_per_type', ascending=False)['object_type'], \n",
    "            x=df[df['address_street'].isin(top10_street.index)]['number'], orient='h')\n",
    "plt.title('Распределения количества посадочных мест среди заведений\\n на самых популярных улицах, по типам', fontsize=14, pad=14)\n",
    "plt.xlabel('Количество мест', fontsize=12, labelpad=12)\n",
    "plt.ylabel(None)\n",
    "plt.xticks(fontsize=10)\n",
    "plt.yticks(fontsize=10)\n",
    "sns.despine()\n",
    "plt.show()"
   ]
  },
  {
   "cell_type": "markdown",
   "metadata": {},
   "source": [
    "Снова удалим временный столбец"
   ]
  },
  {
   "cell_type": "code",
   "execution_count": 59,
   "metadata": {},
   "outputs": [],
   "source": [
    "df = df.drop('mean_number_per_type', axis=1)"
   ]
  },
  {
   "cell_type": "markdown",
   "metadata": {},
   "source": [
    "Распределения посадочных мест по типам заведений схожи с соответствующими распределениями в остальном городе, но выбросов гораздо меньше (за счет меньшего количества объектов)"
   ]
  },
  {
   "cell_type": "markdown",
   "metadata": {},
   "source": [
    "## Вывод<a id=\"stage_2_summary\"></a>\n",
    "\n",
    "Анализ предоставленных данных позволил сделать следующие выводы\n",
    "\n",
    "40% рынка заняты кафе, 17% и 15% столовыми и ресторанами, предприятия быстрого обслуживания занимают только 13% рынка\n",
    "\n",
    "В городе находится 2968 (19,3%) сетевых заведений и 12398 (80,7%) не сетевых, наибольшие доли сетевых заведений среди предприятий быстрого обслуживания (42%) и среди кулинарий при магазинах (29%)\n",
    "\n",
    "Медианные характеристики сетей заведений выглядят следующим образом:\n",
    "* размер сети - 4 заведения\n",
    "* размер заведения - 44 посадочных места\n",
    "\n",
    "Сети состоящие более чем из 7 заведений составляют всего 25% от общего количества сетей\n",
    "\n",
    "Анализ количества посадочных мест по типам объектов общественного питания показал что самыми крупными являются заведения типа столовых, ресторанов и буфетов, некоторые из них способны принять более 1000 посетителей, самыми небольшими являются кафетерии, закусочные и кулинарии при магазинах, примечательно что самым большим заведением является один из баров. В категориях закусочная и кулинария при магазине медианное значение количества мест - 0, это означает что половина подобных заведений вообще не предполагет прием пищи в них и предлагает еду только на вынос\n",
    "\n",
    "Количество завдений в разрезе улиц и районов следующее: максимальное количество объектов находится на улицах проспект Мира, Профсоюзная улица и Ленинградский проспект. После того как мы провели анализ районов, в которых проходят 10 самых популярных улиц мы пришли к выводу что больше всего заведений общественного питания находится в Пресненском районе, который расположен в центре города и, по сведениям из открытых источников, является элитныым районом и туристическим центром\n",
    "\n",
    "Далее мы провели анализ улиц, на которых расположено всего по одному объекту общественного питания, всего таких улиц нашлось 570, которые расположены в 104 районах городы Москвы, кроме большого количества спальных районов мы увидели некоторое количество райнов в центре города, на улицах которых расположено всего по одному объекту общественного питания\n",
    "\n",
    "Срез заведений общественного питания на самых популярных улицах по количеству посадочных мест показал что среднее количетсво посадочных мест в них 58, 75% заведений рассчитаны на 75 и меньше посадочных мест. Распределения количества мест в сетевых и не сетевых заведениях схожи. Анализ размеров заведений по типам показал что в их размер схож с соответствующими типами во всем остальном городе."
   ]
  },
  {
   "cell_type": "markdown",
   "metadata": {},
   "source": [
    "# Этап 3 - Рекомендации<a id=\"stage_3\"></a>\n",
    "Объект который мы планируем открыть относится к категории экспериментальных и рассчитаных больше на туристическую аудиторию чем нам постоянных жителей столицы, в связи с этим рекомендуем рассмотреть для заведения место в одном из центральных районов, с большим количеством туристических объектов вокруг. Размеры помещений в центре города ограничены, разумным решением будет открыть небольшое кафе на 50 посадочных мест.\n",
    "\n",
    "Если открытое заведение покажет хорошие показатели по посещаемости то можно рассмотреть открытие небольшой сети из кафе связанной тематики, но в первую очередь всегда стоит рассматривать размещение новых кафе вокруг объектов притягивающих большое количество туристов"
   ]
  },
  {
   "cell_type": "markdown",
   "metadata": {},
   "source": [
    "# Общий вывод<a id=\"conclusion\"></a>\n",
    "\n",
    "Анализ рынка общественного питания происходил в несколько этапов, сначала мы загрузили данные и проверили их на ошибки, ошибок не было обнаружено, в процессе подготовки данных к анализу мы изменили два названия категорий заведений общественного питания:\n",
    "* \"предприятие быстрого обслуживания\" - \"ПБО\"\n",
    "* \"магазин (отдел кулинарии)\" - \"магазин\"\n",
    "\n",
    "После этого мы приступили к анализу имеющейся информации.\n",
    "\n",
    "Всего, на территории города расположены 15366 объектов общественного питания, из которых 40% это кафе\n",
    "\n",
    "Сетевые заведения составляют всего 19,3% от общего количетсва объектов и самая большая доля их приходится на предприятия быстрого обслуживания - среди них 42% заведений относятся к различным сетям\n",
    "\n",
    "При описании сетей заведений лучше рассматривать медианные характеристики, так как среди сетей находится большое количество малых (75% состоит из 7 и менее заведений) так и огромные сети больше чем на 100 объектов, разброс посадочных мест среди заведений входящих в сети тоже большой от 0 до 259, медианное количество не превышает 44 места, среднее 59\n",
    "\n",
    "В разрезе типов объектов самыми крупными заведениями (по количеству мест) оказались столовые, рестораны и буфеты, некоторые из них способны вместить более 1000 гостей, самые небольшие: кафетерии, закусочные и кулинарии при магазинах. В категориях закусочная и кулинария при магазине медианное значение количества мест - 0, половина подобных заведений вообще не предполагет прием пищи в них и предлагает еду только на вынос\n",
    "\n",
    "Анализ количества объектов в разрезе улиц и районов показал что, максимальное количество объектов находятся на улицах проспект Мира, Профсоюзная улица и Ленинградский проспект. После того как мы провели анализ районов, в которых проходят 10 самых популярных улиц мы пришли к выводу что больше всего заведений общественного питания находится в Пресненском районе\n",
    "\n",
    "Далее мы провели анализ улиц, на которых расположено всего по одному объекту общественного питания, всего таких улиц нашлось 570, которые расположены в 104 районах городы Москвы, кроме большого количества спальных районов мы увидели некоторое количество райнов в центре города, на улицах которых расположено всего по одному объекту общественного питания\n",
    "\n",
    "Проведенный анализ мест общественного питания на самых популярных улицах показал что среднее количество посадочных мест в них 58. Распределения количества посадочных мест в сетевых и не сетевых заведениях схожи. Оценка данного показателя в разрезе типов заведений показала что в центре города  меньше выбросов в распределениях количества мест по заведеням\n",
    "\n",
    "По итогам анализа нами были выдвинуты следующие рекомендации:\n",
    "\n",
    "* место размещения объекта - центральные районы содержащие объекты привлекающие туристов\n",
    "* категория объекта - кафе\n",
    "* размеры помещения - 50 посадочных мест\n",
    "* возможность развития сети - в случае успеха первого объекта с учетом предыдущих рекомендаций"
   ]
  },
  {
   "cell_type": "markdown",
   "metadata": {},
   "source": [
    "Презентация: https://drive.google.com/file/d/1i-9UijpWUP5pThdXlrG2MrTVCtTSSMGP/view?usp=sharing"
   ]
  }
 ],
 "metadata": {
  "kernelspec": {
   "display_name": "Python 3",
   "language": "python",
   "name": "python3"
  },
  "language_info": {
   "codemirror_mode": {
    "name": "ipython",
    "version": 3
   },
   "file_extension": ".py",
   "mimetype": "text/x-python",
   "name": "python",
   "nbconvert_exporter": "python",
   "pygments_lexer": "ipython3",
   "version": "3.8.3"
  }
 },
 "nbformat": 4,
 "nbformat_minor": 2
}
