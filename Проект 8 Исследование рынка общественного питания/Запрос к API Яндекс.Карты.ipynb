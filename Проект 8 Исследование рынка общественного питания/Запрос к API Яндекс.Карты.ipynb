{
 "cells": [
  {
   "cell_type": "code",
   "execution_count": 1,
   "metadata": {},
   "outputs": [],
   "source": [
    "import re\n",
    "import requests\n",
    "import pandas as pd"
   ]
  },
  {
   "cell_type": "markdown",
   "metadata": {},
   "source": [
    "Грузим информацию (я скопировал файл к себе на компьютер)"
   ]
  },
  {
   "cell_type": "code",
   "execution_count": 2,
   "metadata": {},
   "outputs": [],
   "source": [
    "df = pd.read_csv('rest_data.csv')"
   ]
  },
  {
   "cell_type": "markdown",
   "metadata": {},
   "source": [
    "Методом extract достаем регуляркой все между \", \" и \",\" (улицу)"
   ]
  },
  {
   "cell_type": "code",
   "execution_count": 3,
   "metadata": {},
   "outputs": [],
   "source": [
    "df['address_street'] = df['address'].str.extract(', (.*?),')"
   ]
  },
  {
   "cell_type": "markdown",
   "metadata": {},
   "source": [
    "У нас там получилось около 50 пустых улиц потому что в адресе не был написан город, добавляем город"
   ]
  },
  {
   "cell_type": "code",
   "execution_count": 4,
   "metadata": {},
   "outputs": [],
   "source": [
    "df.loc[df['address_street'].isna(), 'address'] = 'город Москва, ' + df['address']"
   ]
  },
  {
   "cell_type": "markdown",
   "metadata": {},
   "source": [
    "Выдергиваем улицу еще раз, теперь все нормально"
   ]
  },
  {
   "cell_type": "code",
   "execution_count": 5,
   "metadata": {},
   "outputs": [],
   "source": [
    "df['address_street'] = df['address'].str.extract(', (.*?),')"
   ]
  },
  {
   "cell_type": "markdown",
   "metadata": {},
   "source": [
    "ТОП 10 улиц минус 'город Зеленоград' и 'поселение Сосенское' потому что они из новой Москвы"
   ]
  },
  {
   "cell_type": "code",
   "execution_count": 6,
   "metadata": {},
   "outputs": [],
   "source": [
    "top10_street = df[~df['address_street'].isin(['город Зеленоград','поселение Сосенское'])].\\\n",
    "               pivot_table(index='address_street',values='id', aggfunc='count').\\\n",
    "               sort_values('id', ascending=False).head(10)"
   ]
  },
  {
   "cell_type": "code",
   "execution_count": 9,
   "metadata": {},
   "outputs": [
    {
     "data": {
      "text/html": [
       "<div>\n",
       "<style scoped>\n",
       "    .dataframe tbody tr th:only-of-type {\n",
       "        vertical-align: middle;\n",
       "    }\n",
       "\n",
       "    .dataframe tbody tr th {\n",
       "        vertical-align: top;\n",
       "    }\n",
       "\n",
       "    .dataframe thead th {\n",
       "        text-align: right;\n",
       "    }\n",
       "</style>\n",
       "<table border=\"1\" class=\"dataframe\">\n",
       "  <thead>\n",
       "    <tr style=\"text-align: right;\">\n",
       "      <th></th>\n",
       "      <th>id</th>\n",
       "    </tr>\n",
       "    <tr>\n",
       "      <th>address_street</th>\n",
       "      <th></th>\n",
       "    </tr>\n",
       "  </thead>\n",
       "  <tbody>\n",
       "    <tr>\n",
       "      <th>1-й Балтийский переулок</th>\n",
       "      <td>1</td>\n",
       "    </tr>\n",
       "    <tr>\n",
       "      <th>1-й Басманный переулок</th>\n",
       "      <td>1</td>\n",
       "    </tr>\n",
       "    <tr>\n",
       "      <th>1-й Ботанический проезд</th>\n",
       "      <td>1</td>\n",
       "    </tr>\n",
       "    <tr>\n",
       "      <th>1-й Вешняковский проезд</th>\n",
       "      <td>1</td>\n",
       "    </tr>\n",
       "    <tr>\n",
       "      <th>1-й Голутвинский переулок</th>\n",
       "      <td>1</td>\n",
       "    </tr>\n",
       "    <tr>\n",
       "      <th>...</th>\n",
       "      <td>...</td>\n",
       "    </tr>\n",
       "    <tr>\n",
       "      <th>улица Шеногина</th>\n",
       "      <td>1</td>\n",
       "    </tr>\n",
       "    <tr>\n",
       "      <th>улица Шумилова</th>\n",
       "      <td>1</td>\n",
       "    </tr>\n",
       "    <tr>\n",
       "      <th>улица Шумкина</th>\n",
       "      <td>1</td>\n",
       "    </tr>\n",
       "    <tr>\n",
       "      <th>улица Щорса</th>\n",
       "      <td>1</td>\n",
       "    </tr>\n",
       "    <tr>\n",
       "      <th>шоссе Фрезер</th>\n",
       "      <td>1</td>\n",
       "    </tr>\n",
       "  </tbody>\n",
       "</table>\n",
       "<p>570 rows × 1 columns</p>\n",
       "</div>"
      ],
      "text/plain": [
       "                           id\n",
       "address_street               \n",
       "1-й Балтийский переулок     1\n",
       "1-й Басманный переулок      1\n",
       "1-й Ботанический проезд     1\n",
       "1-й Вешняковский проезд     1\n",
       "1-й Голутвинский переулок   1\n",
       "...                        ..\n",
       "улица Шеногина              1\n",
       "улица Шумилова              1\n",
       "улица Шумкина               1\n",
       "улица Щорса                 1\n",
       "шоссе Фрезер                1\n",
       "\n",
       "[570 rows x 1 columns]"
      ]
     },
     "execution_count": 9,
     "metadata": {},
     "output_type": "execute_result"
    }
   ],
   "source": [
    "street_one = df[~df['address_street'].isin(['город Зеленоград','поселение Сосенское'])].\\\n",
    "               pivot_table(index='address_street',values='id', aggfunc='count')\n",
    "street_one = street_one[street_one['id'] == 1]\n",
    "street_one"
   ]
  },
  {
   "cell_type": "markdown",
   "metadata": {},
   "source": [
    "Создаем датафрейм для запроса (улица в адресе должна быть из топ10 улиц)"
   ]
  },
  {
   "cell_type": "code",
   "execution_count": 11,
   "metadata": {
    "scrolled": false
   },
   "outputs": [
    {
     "data": {
      "text/html": [
       "<div>\n",
       "<style scoped>\n",
       "    .dataframe tbody tr th:only-of-type {\n",
       "        vertical-align: middle;\n",
       "    }\n",
       "\n",
       "    .dataframe tbody tr th {\n",
       "        vertical-align: top;\n",
       "    }\n",
       "\n",
       "    .dataframe thead th {\n",
       "        text-align: right;\n",
       "    }\n",
       "</style>\n",
       "<table border=\"1\" class=\"dataframe\">\n",
       "  <thead>\n",
       "    <tr style=\"text-align: right;\">\n",
       "      <th></th>\n",
       "      <th>id</th>\n",
       "      <th>address</th>\n",
       "    </tr>\n",
       "  </thead>\n",
       "  <tbody>\n",
       "    <tr>\n",
       "      <th>19</th>\n",
       "      <td>153644</td>\n",
       "      <td>город Москва, Филипповский переулок, дом 15/5</td>\n",
       "    </tr>\n",
       "    <tr>\n",
       "      <th>61</th>\n",
       "      <td>21214</td>\n",
       "      <td>город Москва, Бабаевская улица, дом 3</td>\n",
       "    </tr>\n",
       "    <tr>\n",
       "      <th>69</th>\n",
       "      <td>22139</td>\n",
       "      <td>город Москва, 1-й Балтийский переулок, дом 3/25</td>\n",
       "    </tr>\n",
       "    <tr>\n",
       "      <th>81</th>\n",
       "      <td>25833</td>\n",
       "      <td>город Москва, улица Демьяна Бедного, дом 4</td>\n",
       "    </tr>\n",
       "    <tr>\n",
       "      <th>131</th>\n",
       "      <td>150881</td>\n",
       "      <td>город Москва, Будайская улица, дом 3</td>\n",
       "    </tr>\n",
       "    <tr>\n",
       "      <th>...</th>\n",
       "      <td>...</td>\n",
       "      <td>...</td>\n",
       "    </tr>\n",
       "    <tr>\n",
       "      <th>14227</th>\n",
       "      <td>208805</td>\n",
       "      <td>город Москва, 3-й Угрешский проезд, дом 8, стр...</td>\n",
       "    </tr>\n",
       "    <tr>\n",
       "      <th>14440</th>\n",
       "      <td>211368</td>\n",
       "      <td>город Москва, улица Линии Октябрьской Железной...</td>\n",
       "    </tr>\n",
       "    <tr>\n",
       "      <th>14462</th>\n",
       "      <td>216767</td>\n",
       "      <td>город Москва, 80-й километр Московской Кольцев...</td>\n",
       "    </tr>\n",
       "    <tr>\n",
       "      <th>14704</th>\n",
       "      <td>214324</td>\n",
       "      <td>город Москва, 2-й Кадашёвский переулок, дом 16...</td>\n",
       "    </tr>\n",
       "    <tr>\n",
       "      <th>15015</th>\n",
       "      <td>208239</td>\n",
       "      <td>поселение \"Мосрентген\", деревня Дудкино, владе...</td>\n",
       "    </tr>\n",
       "  </tbody>\n",
       "</table>\n",
       "<p>570 rows × 2 columns</p>\n",
       "</div>"
      ],
      "text/plain": [
       "           id                                            address\n",
       "19     153644      город Москва, Филипповский переулок, дом 15/5\n",
       "61      21214              город Москва, Бабаевская улица, дом 3\n",
       "69      22139    город Москва, 1-й Балтийский переулок, дом 3/25\n",
       "81      25833         город Москва, улица Демьяна Бедного, дом 4\n",
       "131    150881               город Москва, Будайская улица, дом 3\n",
       "...       ...                                                ...\n",
       "14227  208805  город Москва, 3-й Угрешский проезд, дом 8, стр...\n",
       "14440  211368  город Москва, улица Линии Октябрьской Железной...\n",
       "14462  216767  город Москва, 80-й километр Московской Кольцев...\n",
       "14704  214324  город Москва, 2-й Кадашёвский переулок, дом 16...\n",
       "15015  208239  поселение \"Мосрентген\", деревня Дудкино, владе...\n",
       "\n",
       "[570 rows x 2 columns]"
      ]
     },
     "execution_count": 11,
     "metadata": {},
     "output_type": "execute_result"
    }
   ],
   "source": [
    "data_for_request = df[df['address_street'].isin(street_one.index)][['id','address']]\n",
    "data_for_request"
   ]
  },
  {
   "cell_type": "markdown",
   "metadata": {},
   "source": [
    "Создаем пустой массив под координаты"
   ]
  },
  {
   "cell_type": "code",
   "execution_count": 16,
   "metadata": {},
   "outputs": [],
   "source": [
    "coord_list = []"
   ]
  },
  {
   "cell_type": "markdown",
   "metadata": {},
   "source": [
    "Для каждого адреса из датафрейма для запроса делаем запрос к АПИ яндекса, результаты запроса кладем в переменную и из нее регуляркой достаем координаты из тега `<pos>`, можно было распарсить супом как Артем советовал но мне было лень :)"
   ]
  },
  {
   "cell_type": "code",
   "execution_count": 17,
   "metadata": {},
   "outputs": [],
   "source": [
    "for address in data_for_request['address']:\n",
    "    URL_for_coord = 'https://geocode-maps.yandex.ru/1.x/?apikey=ключ&geocode=' + address\n",
    "    data_for_coord = requests.get(URL_for_coord).text\n",
    "    try:\n",
    "        coord = re.search('<pos>(.*?)<', data_for_coord).group(1)\n",
    "    except:\n",
    "        coord = ''    \n",
    "    coord_list.append(coord)"
   ]
  },
  {
   "cell_type": "markdown",
   "metadata": {},
   "source": [
    "Записываем полученный массив координат в датафрейм для запроса (он у нас по порядку идет так что все встанет на свои места)"
   ]
  },
  {
   "cell_type": "code",
   "execution_count": 19,
   "metadata": {},
   "outputs": [],
   "source": [
    "data_for_request['coord'] = coord_list\n",
    "data_for_request.to_csv('coord.csv')"
   ]
  },
  {
   "cell_type": "markdown",
   "metadata": {},
   "source": [
    "Создаем массив для районов"
   ]
  },
  {
   "cell_type": "code",
   "execution_count": 20,
   "metadata": {},
   "outputs": [],
   "source": [
    "district_list = []"
   ]
  },
  {
   "cell_type": "markdown",
   "metadata": {},
   "source": [
    "Делаем запрос аналогичный предыдущему только передаем не адрес а полученные координаты, в запросе указываем &kind=district для того чтобы апи вернул нам адрес с точностью до района, он будет в ответе между тегами `<formatted>` отсюда регуляркой и достаем"
   ]
  },
  {
   "cell_type": "code",
   "execution_count": 21,
   "metadata": {},
   "outputs": [],
   "source": [
    "for coord in data_for_request['coord']:\n",
    "    URL_for_district = 'https://geocode-maps.yandex.ru/1.x/?apikey=63551c59-5cab-4913-a44f-c78b79cc27d8&kind=district&geocode=' + coord\n",
    "    data_for_district = requests.get(URL_for_district).text\n",
    "    try:\n",
    "        district = re.search('<formatted>(.*?)<', data_for_district).group(1)\n",
    "    except:\n",
    "        district = ''\n",
    "    district_list.append(district)"
   ]
  },
  {
   "cell_type": "markdown",
   "metadata": {},
   "source": [
    "Записываем в датафрейм районы"
   ]
  },
  {
   "cell_type": "code",
   "execution_count": 22,
   "metadata": {},
   "outputs": [
    {
     "data": {
      "text/html": [
       "<div>\n",
       "<style scoped>\n",
       "    .dataframe tbody tr th:only-of-type {\n",
       "        vertical-align: middle;\n",
       "    }\n",
       "\n",
       "    .dataframe tbody tr th {\n",
       "        vertical-align: top;\n",
       "    }\n",
       "\n",
       "    .dataframe thead th {\n",
       "        text-align: right;\n",
       "    }\n",
       "</style>\n",
       "<table border=\"1\" class=\"dataframe\">\n",
       "  <thead>\n",
       "    <tr style=\"text-align: right;\">\n",
       "      <th></th>\n",
       "      <th>id</th>\n",
       "      <th>address</th>\n",
       "      <th>coord</th>\n",
       "      <th>district</th>\n",
       "    </tr>\n",
       "  </thead>\n",
       "  <tbody>\n",
       "    <tr>\n",
       "      <th>19</th>\n",
       "      <td>153644</td>\n",
       "      <td>город Москва, Филипповский переулок, дом 15/5</td>\n",
       "      <td>37.598573 55.75058</td>\n",
       "      <td>Россия, Москва, Центральный административный о...</td>\n",
       "    </tr>\n",
       "    <tr>\n",
       "      <th>61</th>\n",
       "      <td>21214</td>\n",
       "      <td>город Москва, Бабаевская улица, дом 3</td>\n",
       "      <td>37.689069 55.790595</td>\n",
       "      <td>Россия, Москва, Восточный административный окр...</td>\n",
       "    </tr>\n",
       "    <tr>\n",
       "      <th>69</th>\n",
       "      <td>22139</td>\n",
       "      <td>город Москва, 1-й Балтийский переулок, дом 3/25</td>\n",
       "      <td>37.518785 55.810471</td>\n",
       "      <td>Россия, Москва, Северный административный окру...</td>\n",
       "    </tr>\n",
       "    <tr>\n",
       "      <th>81</th>\n",
       "      <td>25833</td>\n",
       "      <td>город Москва, улица Демьяна Бедного, дом 4</td>\n",
       "      <td>37.48693 55.770401</td>\n",
       "      <td>Россия, Москва, Северо-Западный административн...</td>\n",
       "    </tr>\n",
       "    <tr>\n",
       "      <th>131</th>\n",
       "      <td>150881</td>\n",
       "      <td>город Москва, Будайская улица, дом 3</td>\n",
       "      <td>37.665156 55.831903</td>\n",
       "      <td>Россия, Москва, Северо-Восточный административ...</td>\n",
       "    </tr>\n",
       "    <tr>\n",
       "      <th>...</th>\n",
       "      <td>...</td>\n",
       "      <td>...</td>\n",
       "      <td>...</td>\n",
       "      <td>...</td>\n",
       "    </tr>\n",
       "    <tr>\n",
       "      <th>14227</th>\n",
       "      <td>208805</td>\n",
       "      <td>город Москва, 3-й Угрешский проезд, дом 8, стр...</td>\n",
       "      <td>37.699822 55.712315</td>\n",
       "      <td>Россия, Москва, Юго-Восточный административный...</td>\n",
       "    </tr>\n",
       "    <tr>\n",
       "      <th>14440</th>\n",
       "      <td>211368</td>\n",
       "      <td>город Москва, улица Линии Октябрьской Железной...</td>\n",
       "      <td>37.572082 55.838819</td>\n",
       "      <td>Россия, Москва, Северный административный окру...</td>\n",
       "    </tr>\n",
       "    <tr>\n",
       "      <th>14462</th>\n",
       "      <td>216767</td>\n",
       "      <td>город Москва, 80-й километр Московской Кольцев...</td>\n",
       "      <td>0 0</td>\n",
       "      <td></td>\n",
       "    </tr>\n",
       "    <tr>\n",
       "      <th>14704</th>\n",
       "      <td>214324</td>\n",
       "      <td>город Москва, 2-й Кадашёвский переулок, дом 16...</td>\n",
       "      <td>37.621902 55.743745</td>\n",
       "      <td>Россия, Москва, Центральный административный о...</td>\n",
       "    </tr>\n",
       "    <tr>\n",
       "      <th>15015</th>\n",
       "      <td>208239</td>\n",
       "      <td>поселение \"Мосрентген\", деревня Дудкино, владе...</td>\n",
       "      <td>37.454259 55.630949</td>\n",
       "      <td>Россия, Москва, поселение Мосрентген, квартал ...</td>\n",
       "    </tr>\n",
       "  </tbody>\n",
       "</table>\n",
       "<p>570 rows × 4 columns</p>\n",
       "</div>"
      ],
      "text/plain": [
       "           id                                            address  \\\n",
       "19     153644      город Москва, Филипповский переулок, дом 15/5   \n",
       "61      21214              город Москва, Бабаевская улица, дом 3   \n",
       "69      22139    город Москва, 1-й Балтийский переулок, дом 3/25   \n",
       "81      25833         город Москва, улица Демьяна Бедного, дом 4   \n",
       "131    150881               город Москва, Будайская улица, дом 3   \n",
       "...       ...                                                ...   \n",
       "14227  208805  город Москва, 3-й Угрешский проезд, дом 8, стр...   \n",
       "14440  211368  город Москва, улица Линии Октябрьской Железной...   \n",
       "14462  216767  город Москва, 80-й километр Московской Кольцев...   \n",
       "14704  214324  город Москва, 2-й Кадашёвский переулок, дом 16...   \n",
       "15015  208239  поселение \"Мосрентген\", деревня Дудкино, владе...   \n",
       "\n",
       "                     coord                                           district  \n",
       "19      37.598573 55.75058  Россия, Москва, Центральный административный о...  \n",
       "61     37.689069 55.790595  Россия, Москва, Восточный административный окр...  \n",
       "69     37.518785 55.810471  Россия, Москва, Северный административный окру...  \n",
       "81      37.48693 55.770401  Россия, Москва, Северо-Западный административн...  \n",
       "131    37.665156 55.831903  Россия, Москва, Северо-Восточный административ...  \n",
       "...                    ...                                                ...  \n",
       "14227  37.699822 55.712315  Россия, Москва, Юго-Восточный административный...  \n",
       "14440  37.572082 55.838819  Россия, Москва, Северный административный окру...  \n",
       "14462                  0 0                                                     \n",
       "14704  37.621902 55.743745  Россия, Москва, Центральный административный о...  \n",
       "15015  37.454259 55.630949  Россия, Москва, поселение Мосрентген, квартал ...  \n",
       "\n",
       "[570 rows x 4 columns]"
      ]
     },
     "execution_count": 22,
     "metadata": {},
     "output_type": "execute_result"
    }
   ],
   "source": [
    "data_for_request['district'] = district_list\n",
    "data_for_request"
   ]
  },
  {
   "cell_type": "markdown",
   "metadata": {},
   "source": [
    "Сохраняем к себе на компьютер"
   ]
  },
  {
   "cell_type": "code",
   "execution_count": 55,
   "metadata": {},
   "outputs": [],
   "source": [
    "data_for_request.to_csv('district.csv')"
   ]
  }
 ],
 "metadata": {
  "kernelspec": {
   "display_name": "Python 3",
   "language": "python",
   "name": "python3"
  },
  "language_info": {
   "codemirror_mode": {
    "name": "ipython",
    "version": 3
   },
   "file_extension": ".py",
   "mimetype": "text/x-python",
   "name": "python",
   "nbconvert_exporter": "python",
   "pygments_lexer": "ipython3",
   "version": "3.8.3"
  }
 },
 "nbformat": 4,
 "nbformat_minor": 4
}
