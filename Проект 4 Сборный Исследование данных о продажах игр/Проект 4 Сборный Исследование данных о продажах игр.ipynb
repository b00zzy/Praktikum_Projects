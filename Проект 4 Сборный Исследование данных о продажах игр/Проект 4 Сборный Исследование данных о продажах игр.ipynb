{
 "cells": [
  {
   "cell_type": "markdown",
   "metadata": {},
   "source": [
    "# Исследование данных о продажах игр\n",
    "\n",
    "Мы работаем в интернет-магазине, который продаёт по всему миру компьютерные игры. Из открытых источников нам доступны исторические данные о продажах игр, оценки пользователей и экспертов, жанры и платформы.\n",
    "\n",
    "Необходимо выявить определяющие успешность игры закономерности. Это позволит сделать ставку на потенциально популярный продукт и спланировать рекламные кампании."
   ]
  },
  {
   "cell_type": "markdown",
   "metadata": {},
   "source": [
    "# Содержание\n",
    "1. [Этап 1 - Загрузка и просмотр данных](#stage_1)\n",
    "  * [Вывод первого этапа](#stage_1_summary)\n",
    "        \n",
    "\n",
    "2. [Этап 2 - Подготовка данных к анализу](#stage_2)\n",
    "   \n",
    "  * [Изменение типов данных](#stage_2_types)\n",
    "  * [Работа с пропусками](#stage_2_empty)\n",
    "  * [Поиск дублей](#stage_2_dubles)\n",
    "  * [Минимумы и максимумы](#stage_2_minmax)\n",
    "  * [Расчет и добавление новых данных](#stage_2_newdata)   \n",
    "  * [Вывод второго этапа](#stage_2_summary)\n",
    "       \n",
    "\n",
    "3. [Этап 3 - Анализ данных](#stage_3)\n",
    "   \n",
    "  * [Определение периода для анализа](#stage_3_period_for_analysis)\n",
    "  * [Анализ данных](#stage_3_analysis)\n",
    "    * [Поиск перспективных платформ](#stage_3_analysis_perspective_platform)\n",
    "    * [Анализ продаж игр по платформам](#stage_3_analysis_sales_boxplot)\n",
    "    * [Оценка корреляции между рейтингом игры и ее продажами](#stage_3_analysis_correlation)\n",
    "    * [Продажи игр в зависимости от жанра](#stage_3_analysis_genre_sales)\n",
    "  * [Вывод третьего этапа](#stage_3_summary)\n",
    "\n",
    "\n",
    "4. [Этап 4 - Предпочтения игроков из разных регионов](#stage_4)\n",
    "  \n",
    "  * [Предпочитаемая платформа](#stage_4_platform)\n",
    "  * [Предпочитаемые жанры](#stage_4_genre)\n",
    "  * [Влияние рейтинга ESRB на продажи](#stage_4_ESRB)\n",
    "  * [Вывод четвертого этапа](#stage_4_summary)\n",
    "\n",
    "\n",
    "5. [Этап 5 - Проверка гипотез](#stage_5)\n",
    "  \n",
    "  * [Гипотеза 1](#stage_5_hypothesis_1)\n",
    "  * [Гипотеза 2](#stage_5_hypothesis_2)\n",
    "  * [Вывод пятого этапа](#stage_5_summary)\n",
    "    \n",
    "\n",
    "6. [Общий вывод](#conclusion)"
   ]
  },
  {
   "cell_type": "markdown",
   "metadata": {},
   "source": [
    "# Этап 1 - Загрузка и просмотр данных <a id=\"stage_1\"></a>"
   ]
  },
  {
   "cell_type": "markdown",
   "metadata": {},
   "source": [
    "Подключим необходимые библиотеки для работы с данными"
   ]
  },
  {
   "cell_type": "code",
   "execution_count": 1,
   "metadata": {},
   "outputs": [],
   "source": [
    "import pandas as pd\n",
    "import matplotlib.pyplot as plt\n",
    "import numpy as np\n",
    "import scipy.stats as st"
   ]
  },
  {
   "cell_type": "markdown",
   "metadata": {},
   "source": [
    "Методом `read_csv` загрузим предоставленный датасет в датафрейм и выведем его на экран"
   ]
  },
  {
   "cell_type": "code",
   "execution_count": 2,
   "metadata": {
    "scrolled": false
   },
   "outputs": [
    {
     "data": {
      "text/html": [
       "<div>\n",
       "<style scoped>\n",
       "    .dataframe tbody tr th:only-of-type {\n",
       "        vertical-align: middle;\n",
       "    }\n",
       "\n",
       "    .dataframe tbody tr th {\n",
       "        vertical-align: top;\n",
       "    }\n",
       "\n",
       "    .dataframe thead th {\n",
       "        text-align: right;\n",
       "    }\n",
       "</style>\n",
       "<table border=\"1\" class=\"dataframe\">\n",
       "  <thead>\n",
       "    <tr style=\"text-align: right;\">\n",
       "      <th></th>\n",
       "      <th>Name</th>\n",
       "      <th>Platform</th>\n",
       "      <th>Year_of_Release</th>\n",
       "      <th>Genre</th>\n",
       "      <th>NA_sales</th>\n",
       "      <th>EU_sales</th>\n",
       "      <th>JP_sales</th>\n",
       "      <th>Other_sales</th>\n",
       "      <th>Critic_Score</th>\n",
       "      <th>User_Score</th>\n",
       "      <th>Rating</th>\n",
       "    </tr>\n",
       "  </thead>\n",
       "  <tbody>\n",
       "    <tr>\n",
       "      <td>0</td>\n",
       "      <td>Wii Sports</td>\n",
       "      <td>Wii</td>\n",
       "      <td>2006.0</td>\n",
       "      <td>Sports</td>\n",
       "      <td>41.36</td>\n",
       "      <td>28.96</td>\n",
       "      <td>3.77</td>\n",
       "      <td>8.45</td>\n",
       "      <td>76.0</td>\n",
       "      <td>8</td>\n",
       "      <td>E</td>\n",
       "    </tr>\n",
       "    <tr>\n",
       "      <td>1</td>\n",
       "      <td>Super Mario Bros.</td>\n",
       "      <td>NES</td>\n",
       "      <td>1985.0</td>\n",
       "      <td>Platform</td>\n",
       "      <td>29.08</td>\n",
       "      <td>3.58</td>\n",
       "      <td>6.81</td>\n",
       "      <td>0.77</td>\n",
       "      <td>NaN</td>\n",
       "      <td>NaN</td>\n",
       "      <td>NaN</td>\n",
       "    </tr>\n",
       "    <tr>\n",
       "      <td>2</td>\n",
       "      <td>Mario Kart Wii</td>\n",
       "      <td>Wii</td>\n",
       "      <td>2008.0</td>\n",
       "      <td>Racing</td>\n",
       "      <td>15.68</td>\n",
       "      <td>12.76</td>\n",
       "      <td>3.79</td>\n",
       "      <td>3.29</td>\n",
       "      <td>82.0</td>\n",
       "      <td>8.3</td>\n",
       "      <td>E</td>\n",
       "    </tr>\n",
       "    <tr>\n",
       "      <td>3</td>\n",
       "      <td>Wii Sports Resort</td>\n",
       "      <td>Wii</td>\n",
       "      <td>2009.0</td>\n",
       "      <td>Sports</td>\n",
       "      <td>15.61</td>\n",
       "      <td>10.93</td>\n",
       "      <td>3.28</td>\n",
       "      <td>2.95</td>\n",
       "      <td>80.0</td>\n",
       "      <td>8</td>\n",
       "      <td>E</td>\n",
       "    </tr>\n",
       "    <tr>\n",
       "      <td>4</td>\n",
       "      <td>Pokemon Red/Pokemon Blue</td>\n",
       "      <td>GB</td>\n",
       "      <td>1996.0</td>\n",
       "      <td>Role-Playing</td>\n",
       "      <td>11.27</td>\n",
       "      <td>8.89</td>\n",
       "      <td>10.22</td>\n",
       "      <td>1.00</td>\n",
       "      <td>NaN</td>\n",
       "      <td>NaN</td>\n",
       "      <td>NaN</td>\n",
       "    </tr>\n",
       "    <tr>\n",
       "      <td>...</td>\n",
       "      <td>...</td>\n",
       "      <td>...</td>\n",
       "      <td>...</td>\n",
       "      <td>...</td>\n",
       "      <td>...</td>\n",
       "      <td>...</td>\n",
       "      <td>...</td>\n",
       "      <td>...</td>\n",
       "      <td>...</td>\n",
       "      <td>...</td>\n",
       "      <td>...</td>\n",
       "    </tr>\n",
       "    <tr>\n",
       "      <td>16710</td>\n",
       "      <td>Samurai Warriors: Sanada Maru</td>\n",
       "      <td>PS3</td>\n",
       "      <td>2016.0</td>\n",
       "      <td>Action</td>\n",
       "      <td>0.00</td>\n",
       "      <td>0.00</td>\n",
       "      <td>0.01</td>\n",
       "      <td>0.00</td>\n",
       "      <td>NaN</td>\n",
       "      <td>NaN</td>\n",
       "      <td>NaN</td>\n",
       "    </tr>\n",
       "    <tr>\n",
       "      <td>16711</td>\n",
       "      <td>LMA Manager 2007</td>\n",
       "      <td>X360</td>\n",
       "      <td>2006.0</td>\n",
       "      <td>Sports</td>\n",
       "      <td>0.00</td>\n",
       "      <td>0.01</td>\n",
       "      <td>0.00</td>\n",
       "      <td>0.00</td>\n",
       "      <td>NaN</td>\n",
       "      <td>NaN</td>\n",
       "      <td>NaN</td>\n",
       "    </tr>\n",
       "    <tr>\n",
       "      <td>16712</td>\n",
       "      <td>Haitaka no Psychedelica</td>\n",
       "      <td>PSV</td>\n",
       "      <td>2016.0</td>\n",
       "      <td>Adventure</td>\n",
       "      <td>0.00</td>\n",
       "      <td>0.00</td>\n",
       "      <td>0.01</td>\n",
       "      <td>0.00</td>\n",
       "      <td>NaN</td>\n",
       "      <td>NaN</td>\n",
       "      <td>NaN</td>\n",
       "    </tr>\n",
       "    <tr>\n",
       "      <td>16713</td>\n",
       "      <td>Spirits &amp; Spells</td>\n",
       "      <td>GBA</td>\n",
       "      <td>2003.0</td>\n",
       "      <td>Platform</td>\n",
       "      <td>0.01</td>\n",
       "      <td>0.00</td>\n",
       "      <td>0.00</td>\n",
       "      <td>0.00</td>\n",
       "      <td>NaN</td>\n",
       "      <td>NaN</td>\n",
       "      <td>NaN</td>\n",
       "    </tr>\n",
       "    <tr>\n",
       "      <td>16714</td>\n",
       "      <td>Winning Post 8 2016</td>\n",
       "      <td>PSV</td>\n",
       "      <td>2016.0</td>\n",
       "      <td>Simulation</td>\n",
       "      <td>0.00</td>\n",
       "      <td>0.00</td>\n",
       "      <td>0.01</td>\n",
       "      <td>0.00</td>\n",
       "      <td>NaN</td>\n",
       "      <td>NaN</td>\n",
       "      <td>NaN</td>\n",
       "    </tr>\n",
       "  </tbody>\n",
       "</table>\n",
       "<p>16715 rows × 11 columns</p>\n",
       "</div>"
      ],
      "text/plain": [
       "                                Name Platform  Year_of_Release         Genre  \\\n",
       "0                         Wii Sports      Wii           2006.0        Sports   \n",
       "1                  Super Mario Bros.      NES           1985.0      Platform   \n",
       "2                     Mario Kart Wii      Wii           2008.0        Racing   \n",
       "3                  Wii Sports Resort      Wii           2009.0        Sports   \n",
       "4           Pokemon Red/Pokemon Blue       GB           1996.0  Role-Playing   \n",
       "...                              ...      ...              ...           ...   \n",
       "16710  Samurai Warriors: Sanada Maru      PS3           2016.0        Action   \n",
       "16711               LMA Manager 2007     X360           2006.0        Sports   \n",
       "16712        Haitaka no Psychedelica      PSV           2016.0     Adventure   \n",
       "16713               Spirits & Spells      GBA           2003.0      Platform   \n",
       "16714            Winning Post 8 2016      PSV           2016.0    Simulation   \n",
       "\n",
       "       NA_sales  EU_sales  JP_sales  Other_sales  Critic_Score User_Score  \\\n",
       "0         41.36     28.96      3.77         8.45          76.0          8   \n",
       "1         29.08      3.58      6.81         0.77           NaN        NaN   \n",
       "2         15.68     12.76      3.79         3.29          82.0        8.3   \n",
       "3         15.61     10.93      3.28         2.95          80.0          8   \n",
       "4         11.27      8.89     10.22         1.00           NaN        NaN   \n",
       "...         ...       ...       ...          ...           ...        ...   \n",
       "16710      0.00      0.00      0.01         0.00           NaN        NaN   \n",
       "16711      0.00      0.01      0.00         0.00           NaN        NaN   \n",
       "16712      0.00      0.00      0.01         0.00           NaN        NaN   \n",
       "16713      0.01      0.00      0.00         0.00           NaN        NaN   \n",
       "16714      0.00      0.00      0.01         0.00           NaN        NaN   \n",
       "\n",
       "      Rating  \n",
       "0          E  \n",
       "1        NaN  \n",
       "2          E  \n",
       "3          E  \n",
       "4        NaN  \n",
       "...      ...  \n",
       "16710    NaN  \n",
       "16711    NaN  \n",
       "16712    NaN  \n",
       "16713    NaN  \n",
       "16714    NaN  \n",
       "\n",
       "[16715 rows x 11 columns]"
      ]
     },
     "execution_count": 2,
     "metadata": {},
     "output_type": "execute_result"
    }
   ],
   "source": [
    "df = pd.read_csv('/datasets/games.csv')\n",
    "df"
   ]
  },
  {
   "cell_type": "markdown",
   "metadata": {},
   "source": [
    "Отобразим общую информацию о загруженной таблице"
   ]
  },
  {
   "cell_type": "code",
   "execution_count": 3,
   "metadata": {},
   "outputs": [
    {
     "name": "stdout",
     "output_type": "stream",
     "text": [
      "<class 'pandas.core.frame.DataFrame'>\n",
      "RangeIndex: 16715 entries, 0 to 16714\n",
      "Data columns (total 11 columns):\n",
      "Name               16713 non-null object\n",
      "Platform           16715 non-null object\n",
      "Year_of_Release    16446 non-null float64\n",
      "Genre              16713 non-null object\n",
      "NA_sales           16715 non-null float64\n",
      "EU_sales           16715 non-null float64\n",
      "JP_sales           16715 non-null float64\n",
      "Other_sales        16715 non-null float64\n",
      "Critic_Score       8137 non-null float64\n",
      "User_Score         10014 non-null object\n",
      "Rating             9949 non-null object\n",
      "dtypes: float64(6), object(5)\n",
      "memory usage: 1.4+ MB\n"
     ]
    }
   ],
   "source": [
    "df.info()"
   ]
  },
  {
   "cell_type": "markdown",
   "metadata": {},
   "source": [
    "## Вывод <a id=\"stage_1_summary\"></a>\n",
    "\n",
    "Таблица содержит следующую информацию:\n",
    "* Name — название игры\n",
    "* Platform — платформа\n",
    "* Year_of_Release — год выпуска\n",
    "* Genre — жанр игры\n",
    "* NA_sales — продажи в Северной Америке (миллионы проданных копий)\n",
    "* EU_sales — продажи в Европе (миллионы проданных копий)\n",
    "* JP_sales — продажи в Японии (миллионы проданных копий)\n",
    "* Other_sales — продажи в других странах (миллионы проданных копий)\n",
    "* Critic_Score — оценка критиков (максимум 100)\n",
    "* User_Score — оценка пользователей (максимум 10)\n",
    "* Rating — рейтинг от организации ESRB\n",
    "\n",
    "После беглого анализа загруженных данных мы видим следующее:\n",
    "\n",
    "* наименования столбцов необходимо привести в нижний регистр для того чтобы упростить обращения к ним\n",
    "* необходимо проверить две строки в которых не заполнены поле `Name` и две строки в которых не заполнены поле `Genre`, возможно это одни и те же строки\n",
    "* строки у которых не заполнен год релиза мы удалим из таблицы ввиду небольшого их количества\n",
    "* тип данных в столбце `User_Score` должен быть `float`, из за того что из датасета он загрузился с типом `object` мы можем предположить что в нем содержится текстовая информация\n",
    "* ячейки с незаполненным рейтингом мы не будем заполнять в связи с тем что рейтинг игры может быть очень важен для оценки ее успешности на рынке\n",
    "* в столбце `Year_of_Release` тип данных должен быть `int` (после проведения работы с пропусками данных)\n",
    "* необходимо будет проверить таблицу на дубликаты, столбцы с категориями (`Platform`, `Genre`, `Rating`) необходимо будет проверить на уникальность категорий\n",
    "* дополнительно проверим все минимальные и максимальные значения в столбцах для того чтобы убедится что в них нет странных данных\n",
    "\n",
    "    \n"
   ]
  },
  {
   "cell_type": "markdown",
   "metadata": {},
   "source": [
    "# Этап 2 - Подготовка данных к анализу<a id=\"stage_2\"></a>"
   ]
  },
  {
   "cell_type": "markdown",
   "metadata": {},
   "source": [
    "В первую очередь изменим регистр в названиях столбцов специальным методом `lower`"
   ]
  },
  {
   "cell_type": "code",
   "execution_count": 4,
   "metadata": {},
   "outputs": [
    {
     "data": {
      "text/plain": [
       "Index(['name', 'platform', 'year_of_release', 'genre', 'na_sales', 'eu_sales',\n",
       "       'jp_sales', 'other_sales', 'critic_score', 'user_score', 'rating'],\n",
       "      dtype='object')"
      ]
     },
     "execution_count": 4,
     "metadata": {},
     "output_type": "execute_result"
    }
   ],
   "source": [
    "df.columns = df.columns.str.lower()\n",
    "df.columns"
   ]
  },
  {
   "cell_type": "markdown",
   "metadata": {},
   "source": [
    "### Изменение типов данных<a id=\"stage_2_types\"></a>"
   ]
  },
  {
   "cell_type": "markdown",
   "metadata": {},
   "source": [
    "#### year_of_release"
   ]
  },
  {
   "cell_type": "markdown",
   "metadata": {},
   "source": [
    "Прежде чем изменить тип данных в столбце `year_of_release` на `int` необходимо избавится от пропущенной информации в этом столбце, проверим сколько таких строк"
   ]
  },
  {
   "cell_type": "code",
   "execution_count": 5,
   "metadata": {},
   "outputs": [
    {
     "data": {
      "text/plain": [
       "269"
      ]
     },
     "execution_count": 5,
     "metadata": {},
     "output_type": "execute_result"
    }
   ],
   "source": [
    "df.query('year_of_release.isnull()').shape[0]"
   ]
  },
  {
   "cell_type": "markdown",
   "metadata": {},
   "source": [
    "269, всего в таблице 16715 строк, посчитаем какой процент от всего датасета занимают строки с пропущенным годом выхода игры"
   ]
  },
  {
   "cell_type": "code",
   "execution_count": 6,
   "metadata": {
    "scrolled": false
   },
   "outputs": [
    {
     "data": {
      "text/plain": [
       "1.61"
      ]
     },
     "execution_count": 6,
     "metadata": {},
     "output_type": "execute_result"
    }
   ],
   "source": [
    "round(df.query('year_of_release.isnull()').shape[0] / df.shape[0] * 100, 2)"
   ]
  },
  {
   "cell_type": "markdown",
   "metadata": {},
   "source": [
    "Менее 2%. В связи с тем, что мы не сможем заполнить эти пропуски достоверной информацией и тем, что для дальнейшего анализа год выпуска игры важен нам придется удалить эти строки"
   ]
  },
  {
   "cell_type": "code",
   "execution_count": 7,
   "metadata": {},
   "outputs": [],
   "source": [
    "df = df.dropna(subset=['year_of_release']).reset_index(drop=True)"
   ]
  },
  {
   "cell_type": "markdown",
   "metadata": {},
   "source": [
    "Теперь мы сможем изменить тип данных в этом столбце"
   ]
  },
  {
   "cell_type": "code",
   "execution_count": 8,
   "metadata": {
    "scrolled": true
   },
   "outputs": [],
   "source": [
    "df['year_of_release'] = df['year_of_release'].astype('int')"
   ]
  },
  {
   "cell_type": "markdown",
   "metadata": {},
   "source": [
    "#### user_score"
   ]
  },
  {
   "cell_type": "markdown",
   "metadata": {},
   "source": [
    "Столбец `user_score` должен содержать только числовую информацию, выведем на экран уникальные значения методом `unique`"
   ]
  },
  {
   "cell_type": "code",
   "execution_count": 9,
   "metadata": {},
   "outputs": [
    {
     "data": {
      "text/plain": [
       "array(['8', nan, '8.3', '8.5', '6.6', '8.4', '8.6', '7.7', '6.3', '7.4',\n",
       "       '8.2', '9', '7.9', '8.1', '8.7', '7.1', '3.4', '5.3', '4.8', '3.2',\n",
       "       '8.9', '6.4', '7.8', '7.5', '2.6', '7.2', '9.2', '7', '7.3', '4.3',\n",
       "       '7.6', '5.7', '5', '9.1', '6.5', 'tbd', '8.8', '6.9', '9.4', '6.8',\n",
       "       '6.1', '6.7', '5.4', '4', '4.9', '4.5', '9.3', '6.2', '4.2', '6',\n",
       "       '3.7', '4.1', '5.8', '5.6', '5.5', '4.4', '4.6', '5.9', '3.9',\n",
       "       '3.1', '2.9', '5.2', '3.3', '4.7', '5.1', '3.5', '2.5', '1.9', '3',\n",
       "       '2.7', '2.2', '2', '9.5', '2.1', '3.6', '2.8', '1.8', '3.8', '0',\n",
       "       '1.6', '9.6', '2.4', '1.7', '1.1', '0.3', '1.5', '0.7', '1.2',\n",
       "       '2.3', '0.5', '1.3', '0.2', '0.6', '1.4', '0.9', '1', '9.7'],\n",
       "      dtype=object)"
      ]
     },
     "execution_count": 9,
     "metadata": {},
     "output_type": "execute_result"
    }
   ],
   "source": [
    "df['user_score'].unique()"
   ]
  },
  {
   "cell_type": "markdown",
   "metadata": {},
   "source": [
    "Среди уникальных значений есть два которые не являются числами:\n",
    "1. `nan`\n",
    "2. `tbd`\n",
    "\n",
    "Значением `nan` обозначаются пропущенные данные, а запись `tbd` обозначает аббревиатуру \"To Be Determined\" - \"Будет определено\" и, в данном случае, означает то, что пользовательский рейтинг для игры не был рассчитан на момент формирования датасета. \n",
    "\n",
    "Из-за того, что пользовательский рейтинг важен для определения успешности игры, мы не будем заполнять пропуски (`nan` и `tbd`) средними или медианными значениями по таблице, только изменим тип данных в столбце на `float` для этого заменим `tbd` на `nan`"
   ]
  },
  {
   "cell_type": "markdown",
   "metadata": {},
   "source": [
    "Методом `replace` заменим `tbd` на пустоту"
   ]
  },
  {
   "cell_type": "code",
   "execution_count": 10,
   "metadata": {},
   "outputs": [],
   "source": [
    "df['user_score'] = df['user_score'].replace('tbd', '')"
   ]
  },
  {
   "cell_type": "markdown",
   "metadata": {},
   "source": [
    "Изменим тип столбца в числовой специальным методом `to_numeric`"
   ]
  },
  {
   "cell_type": "code",
   "execution_count": 11,
   "metadata": {},
   "outputs": [],
   "source": [
    "df['user_score'] = pd.to_numeric(df['user_score'], errors='coerce')"
   ]
  },
  {
   "cell_type": "markdown",
   "metadata": {},
   "source": [
    "#### critic_score"
   ]
  },
  {
   "cell_type": "markdown",
   "metadata": {},
   "source": [
    "Хотя столбец `critic_score` и содержит целочисленные значения, но мы все равно не можем привести тип данных его содержимого к типу `int` в связи с тем, что в нем содержится большое количество пропущеных данных, которые не могут быть заполнены исходя из имеющихся сведений, поэтому столбец останется с типом данных `float`"
   ]
  },
  {
   "cell_type": "markdown",
   "metadata": {},
   "source": [
    "### Работа с пропусками<a id=\"stage_2_empty\"></a>"
   ]
  },
  {
   "cell_type": "markdown",
   "metadata": {},
   "source": [
    "Посчитаем количество пропусков в таблице"
   ]
  },
  {
   "cell_type": "code",
   "execution_count": 12,
   "metadata": {},
   "outputs": [
    {
     "data": {
      "text/plain": [
       "name                  2\n",
       "platform              0\n",
       "year_of_release       0\n",
       "genre                 2\n",
       "na_sales              0\n",
       "eu_sales              0\n",
       "jp_sales              0\n",
       "other_sales           0\n",
       "critic_score       8463\n",
       "user_score         8983\n",
       "rating             6678\n",
       "dtype: int64"
      ]
     },
     "execution_count": 12,
     "metadata": {},
     "output_type": "execute_result"
    }
   ],
   "source": [
    "df.isnull().sum()"
   ]
  },
  {
   "cell_type": "markdown",
   "metadata": {},
   "source": [
    "Мы уже удалили из таблицы 269 строк с пропущенным значением в столбце `year_of_release` и проверили пропуски в столбце `user_score`, теперь выведем на экран 2 строки с пропущенным значением в поле `name`"
   ]
  },
  {
   "cell_type": "code",
   "execution_count": 13,
   "metadata": {},
   "outputs": [
    {
     "data": {
      "text/html": [
       "<div>\n",
       "<style scoped>\n",
       "    .dataframe tbody tr th:only-of-type {\n",
       "        vertical-align: middle;\n",
       "    }\n",
       "\n",
       "    .dataframe tbody tr th {\n",
       "        vertical-align: top;\n",
       "    }\n",
       "\n",
       "    .dataframe thead th {\n",
       "        text-align: right;\n",
       "    }\n",
       "</style>\n",
       "<table border=\"1\" class=\"dataframe\">\n",
       "  <thead>\n",
       "    <tr style=\"text-align: right;\">\n",
       "      <th></th>\n",
       "      <th>name</th>\n",
       "      <th>platform</th>\n",
       "      <th>year_of_release</th>\n",
       "      <th>genre</th>\n",
       "      <th>na_sales</th>\n",
       "      <th>eu_sales</th>\n",
       "      <th>jp_sales</th>\n",
       "      <th>other_sales</th>\n",
       "      <th>critic_score</th>\n",
       "      <th>user_score</th>\n",
       "      <th>rating</th>\n",
       "    </tr>\n",
       "  </thead>\n",
       "  <tbody>\n",
       "    <tr>\n",
       "      <td>652</td>\n",
       "      <td>NaN</td>\n",
       "      <td>GEN</td>\n",
       "      <td>1993</td>\n",
       "      <td>NaN</td>\n",
       "      <td>1.78</td>\n",
       "      <td>0.53</td>\n",
       "      <td>0.00</td>\n",
       "      <td>0.08</td>\n",
       "      <td>NaN</td>\n",
       "      <td>NaN</td>\n",
       "      <td>NaN</td>\n",
       "    </tr>\n",
       "    <tr>\n",
       "      <td>14022</td>\n",
       "      <td>NaN</td>\n",
       "      <td>GEN</td>\n",
       "      <td>1993</td>\n",
       "      <td>NaN</td>\n",
       "      <td>0.00</td>\n",
       "      <td>0.00</td>\n",
       "      <td>0.03</td>\n",
       "      <td>0.00</td>\n",
       "      <td>NaN</td>\n",
       "      <td>NaN</td>\n",
       "      <td>NaN</td>\n",
       "    </tr>\n",
       "  </tbody>\n",
       "</table>\n",
       "</div>"
      ],
      "text/plain": [
       "      name platform  year_of_release genre  na_sales  eu_sales  jp_sales  \\\n",
       "652    NaN      GEN             1993   NaN      1.78      0.53      0.00   \n",
       "14022  NaN      GEN             1993   NaN      0.00      0.00      0.03   \n",
       "\n",
       "       other_sales  critic_score  user_score rating  \n",
       "652           0.08           NaN         NaN    NaN  \n",
       "14022         0.00           NaN         NaN    NaN  "
      ]
     },
     "execution_count": 13,
     "metadata": {},
     "output_type": "execute_result"
    }
   ],
   "source": [
    "df.query('name.isnull()')"
   ]
  },
  {
   "cell_type": "markdown",
   "metadata": {},
   "source": [
    "Обе пропущенных строки кроме пропуска в `name` содержат и пропуски в столбце `genre`, посчитаем какую часть таблицы они составляют"
   ]
  },
  {
   "cell_type": "code",
   "execution_count": 14,
   "metadata": {},
   "outputs": [
    {
     "data": {
      "text/plain": [
       "0.01"
      ]
     },
     "execution_count": 14,
     "metadata": {},
     "output_type": "execute_result"
    }
   ],
   "source": [
    "round(df.query('name.isnull()').shape[0] / df.shape[0] * 100, 2)"
   ]
  },
  {
   "cell_type": "markdown",
   "metadata": {},
   "source": [
    "Менее 1%, кроме того год выпуска этих игр 1993, а значит мы даже не будем учитывать эти данные при анализе успешности современных игр, удалим эти записи из таблицы"
   ]
  },
  {
   "cell_type": "code",
   "execution_count": 15,
   "metadata": {},
   "outputs": [],
   "source": [
    "df = df.dropna(subset=['name']).reset_index(drop=True)"
   ]
  },
  {
   "cell_type": "markdown",
   "metadata": {},
   "source": [
    "Как уже отмечалось выше - рейтинг игры очень важен для оценки ее успешности, мы могли бы заполнить пропуски в столбцах `critic_score`, `user_score`  например медианой по жанру в разрезе лет или платформ, но это исказит исходные данные, поэтому мы оставим пропуски без изменений\n",
    "\n",
    "Пропуски в столбце `rating` мы оставим для того чтобы оценить как наличие оценки организации ESRB влияет на продажи игр"
   ]
  },
  {
   "cell_type": "markdown",
   "metadata": {},
   "source": [
    "### Поиск дублей<a id=\"stage_2_dubles\"></a>"
   ]
  },
  {
   "cell_type": "markdown",
   "metadata": {},
   "source": [
    "На первом этапе мы определили что категориальные данные содержатся в столбцах `platform`, `genre` и `rating`\n",
    "\n",
    "Проверим каждый столбец на уникальность значений"
   ]
  },
  {
   "cell_type": "code",
   "execution_count": 16,
   "metadata": {},
   "outputs": [
    {
     "data": {
      "text/plain": [
       "2600     116\n",
       "3DO        3\n",
       "3DS      512\n",
       "DC        52\n",
       "DS      2121\n",
       "GB        97\n",
       "GBA      811\n",
       "GC       542\n",
       "GEN       27\n",
       "GG         1\n",
       "N64      316\n",
       "NES       98\n",
       "NG        12\n",
       "PC       957\n",
       "PCFX       1\n",
       "PS      1190\n",
       "PS2     2127\n",
       "PS3     1306\n",
       "PS4      392\n",
       "PSP     1193\n",
       "PSV      429\n",
       "SAT      173\n",
       "SCD        6\n",
       "SNES     239\n",
       "TG16       2\n",
       "WS         6\n",
       "Wii     1286\n",
       "WiiU     147\n",
       "X360    1232\n",
       "XB       803\n",
       "XOne     247\n",
       "Name: platform, dtype: int64"
      ]
     },
     "execution_count": 16,
     "metadata": {},
     "output_type": "execute_result"
    }
   ],
   "source": [
    "df['platform'].value_counts().sort_index()"
   ]
  },
  {
   "cell_type": "code",
   "execution_count": 17,
   "metadata": {},
   "outputs": [
    {
     "data": {
      "text/plain": [
       "Action          3307\n",
       "Adventure       1293\n",
       "Fighting         837\n",
       "Misc            1721\n",
       "Platform         878\n",
       "Puzzle           569\n",
       "Racing          1226\n",
       "Role-Playing    1481\n",
       "Shooter         1296\n",
       "Simulation       857\n",
       "Sports          2306\n",
       "Strategy         673\n",
       "Name: genre, dtype: int64"
      ]
     },
     "execution_count": 17,
     "metadata": {},
     "output_type": "execute_result"
    }
   ],
   "source": [
    "df['genre'].value_counts().sort_index()"
   ]
  },
  {
   "cell_type": "code",
   "execution_count": 18,
   "metadata": {},
   "outputs": [
    {
     "data": {
      "text/plain": [
       "AO         1\n",
       "E       3921\n",
       "E10+    1393\n",
       "EC         8\n",
       "K-A        3\n",
       "M       1536\n",
       "RP         1\n",
       "T       2905\n",
       "Name: rating, dtype: int64"
      ]
     },
     "execution_count": 18,
     "metadata": {},
     "output_type": "execute_result"
    }
   ],
   "source": [
    "df['rating'].value_counts().sort_index()"
   ]
  },
  {
   "cell_type": "markdown",
   "metadata": {},
   "source": [
    "Повторяющихся значений нет ни в одном из столбцов\n",
    "\n",
    "Теперь проверим всю таблицу на дубликаты"
   ]
  },
  {
   "cell_type": "code",
   "execution_count": 19,
   "metadata": {},
   "outputs": [
    {
     "data": {
      "text/plain": [
       "0"
      ]
     },
     "execution_count": 19,
     "metadata": {},
     "output_type": "execute_result"
    }
   ],
   "source": [
    "df.duplicated().sum()"
   ]
  },
  {
   "cell_type": "markdown",
   "metadata": {},
   "source": [
    "Дублей в таблице нет"
   ]
  },
  {
   "cell_type": "markdown",
   "metadata": {},
   "source": [
    "### Минимумы и максимумы<a id=\"stage_2_minmax\"></a>"
   ]
  },
  {
   "cell_type": "code",
   "execution_count": 20,
   "metadata": {},
   "outputs": [
    {
     "data": {
      "text/html": [
       "<div>\n",
       "<style scoped>\n",
       "    .dataframe tbody tr th:only-of-type {\n",
       "        vertical-align: middle;\n",
       "    }\n",
       "\n",
       "    .dataframe tbody tr th {\n",
       "        vertical-align: top;\n",
       "    }\n",
       "\n",
       "    .dataframe thead th {\n",
       "        text-align: right;\n",
       "    }\n",
       "</style>\n",
       "<table border=\"1\" class=\"dataframe\">\n",
       "  <thead>\n",
       "    <tr style=\"text-align: right;\">\n",
       "      <th></th>\n",
       "      <th>min</th>\n",
       "      <th>max</th>\n",
       "    </tr>\n",
       "  </thead>\n",
       "  <tbody>\n",
       "    <tr>\n",
       "      <td>name</td>\n",
       "      <td>Beyblade Burst</td>\n",
       "      <td>¡Shin Chan Flipa en colores!</td>\n",
       "    </tr>\n",
       "    <tr>\n",
       "      <td>platform</td>\n",
       "      <td>2600</td>\n",
       "      <td>XOne</td>\n",
       "    </tr>\n",
       "    <tr>\n",
       "      <td>year_of_release</td>\n",
       "      <td>1980</td>\n",
       "      <td>2016</td>\n",
       "    </tr>\n",
       "    <tr>\n",
       "      <td>genre</td>\n",
       "      <td>Action</td>\n",
       "      <td>Strategy</td>\n",
       "    </tr>\n",
       "    <tr>\n",
       "      <td>na_sales</td>\n",
       "      <td>0</td>\n",
       "      <td>41.36</td>\n",
       "    </tr>\n",
       "    <tr>\n",
       "      <td>eu_sales</td>\n",
       "      <td>0</td>\n",
       "      <td>28.96</td>\n",
       "    </tr>\n",
       "    <tr>\n",
       "      <td>jp_sales</td>\n",
       "      <td>0</td>\n",
       "      <td>10.22</td>\n",
       "    </tr>\n",
       "    <tr>\n",
       "      <td>other_sales</td>\n",
       "      <td>0</td>\n",
       "      <td>10.57</td>\n",
       "    </tr>\n",
       "    <tr>\n",
       "      <td>critic_score</td>\n",
       "      <td>13</td>\n",
       "      <td>98</td>\n",
       "    </tr>\n",
       "    <tr>\n",
       "      <td>user_score</td>\n",
       "      <td>0</td>\n",
       "      <td>9.7</td>\n",
       "    </tr>\n",
       "  </tbody>\n",
       "</table>\n",
       "</div>"
      ],
      "text/plain": [
       "                             min                           max\n",
       "name              Beyblade Burst  ¡Shin Chan Flipa en colores!\n",
       "platform                    2600                          XOne\n",
       "year_of_release             1980                          2016\n",
       "genre                     Action                      Strategy\n",
       "na_sales                       0                         41.36\n",
       "eu_sales                       0                         28.96\n",
       "jp_sales                       0                         10.22\n",
       "other_sales                    0                         10.57\n",
       "critic_score                  13                            98\n",
       "user_score                     0                           9.7"
      ]
     },
     "execution_count": 20,
     "metadata": {},
     "output_type": "execute_result"
    }
   ],
   "source": [
    "pd.concat([df.min(), df.max()], axis=1, keys=['min', 'max'])"
   ]
  },
  {
   "cell_type": "markdown",
   "metadata": {},
   "source": [
    "Содержимого явно не соответствующего столбцу нет"
   ]
  },
  {
   "cell_type": "markdown",
   "metadata": {},
   "source": [
    "### Расчет и добавление новых данных<a id=\"stage_2_newdata\"></a>"
   ]
  },
  {
   "cell_type": "markdown",
   "metadata": {},
   "source": [
    "Добавим в таблицу столбец содержащий сведения о продажах по всему миру `worldwide_sales`"
   ]
  },
  {
   "cell_type": "code",
   "execution_count": 21,
   "metadata": {},
   "outputs": [],
   "source": [
    "df['worldwide_sales'] = df['na_sales'] + df['eu_sales'] + df['jp_sales'] + df['other_sales']"
   ]
  },
  {
   "cell_type": "markdown",
   "metadata": {},
   "source": [
    "## Вывод <a id=\"stage_2_summary\"></a>\n",
    "\n",
    "На этапе предобработки данных мы удалили из таблицы 269 строк с пропущенной датой выпуска игры и 2 строки с незаполненным названием и жанром игры\n",
    "\n",
    "Изменили тип данных в столбцах содержащих год релиза и пользовательскую оценку (кроме того в этом столбце мы заменили на пустоту все текстовые значения tbd которые означают что пользовательсткая оценка еще не определена\n",
    "\n",
    "Проверили всю таблицу и столбцы с категориями на дубликаты (они не были обнаружены), проверили минимальные и максимальные значения каждого столбца для того чтобы убедится в отсутствии явно неверных значений (их также не оказалось)\n",
    "\n",
    "Кроме того было принято решение о том что мы не будем заполнять пропуски с толбцах с оценкой критиков и пользователей в связи с тем что эти данные будут очень важны при оценке успешности игры\n",
    "\n",
    "На последнем этапе мы добавили в таблицу новый столбец который содержит сведения об общемировых продажах каждой игры"
   ]
  },
  {
   "cell_type": "markdown",
   "metadata": {},
   "source": [
    "# Этап 3 - Анализ данных<a id=\"stage_3\"></a>"
   ]
  },
  {
   "cell_type": "markdown",
   "metadata": {},
   "source": [
    "### Определение периода для анализа<a id=\"stage_3_period_for_analysis\"></a>"
   ]
  },
  {
   "cell_type": "markdown",
   "metadata": {},
   "source": [
    "Для того чтобы построить гистограмму выпуска игр по годам нам необходимо определить количество лет (корзин) за который у нас есть наблюдения"
   ]
  },
  {
   "cell_type": "code",
   "execution_count": 22,
   "metadata": {},
   "outputs": [
    {
     "data": {
      "text/plain": [
       "37"
      ]
     },
     "execution_count": 22,
     "metadata": {},
     "output_type": "execute_result"
    }
   ],
   "source": [
    "len(df['year_of_release'].unique())"
   ]
  },
  {
   "cell_type": "markdown",
   "metadata": {},
   "source": [
    "Всего в таблице содержатся данные за 37 лет (с 1980 по 2016 включительно), построим гистограмму"
   ]
  },
  {
   "cell_type": "code",
   "execution_count": 23,
   "metadata": {
    "scrolled": true
   },
   "outputs": [
    {
     "data": {
      "text/plain": [
       "Text(0, 0.5, 'Игры, шт')"
      ]
     },
     "execution_count": 23,
     "metadata": {},
     "output_type": "execute_result"
    },
    {
     "data": {
      "image/png": "[encoded data removed]",
      "text/plain": [
       "<Figure size 432x288 with 1 Axes>"
      ]
     },
     "metadata": {
      "needs_background": "light"
     },
     "output_type": "display_data"
    }
   ],
   "source": [
    "df['year_of_release'].plot(kind='hist', bins=37, grid=True, title='Количество игр в год')\n",
    "plt.xlabel('Годы')\n",
    "plt.ylabel('Игры, шт')"
   ]
  },
  {
   "cell_type": "markdown",
   "metadata": {},
   "source": [
    "На гистрограмме мы видим сильное падение выпуска игр после 2010 года, построим сводную таблицу для того чтобы подтвердить это наблюдение"
   ]
  },
  {
   "cell_type": "code",
   "execution_count": 24,
   "metadata": {},
   "outputs": [
    {
     "data": {
      "text/html": [
       "<div>\n",
       "<style scoped>\n",
       "    .dataframe tbody tr th:only-of-type {\n",
       "        vertical-align: middle;\n",
       "    }\n",
       "\n",
       "    .dataframe tbody tr th {\n",
       "        vertical-align: top;\n",
       "    }\n",
       "\n",
       "    .dataframe thead th {\n",
       "        text-align: right;\n",
       "    }\n",
       "</style>\n",
       "<table border=\"1\" class=\"dataframe\">\n",
       "  <thead>\n",
       "    <tr style=\"text-align: right;\">\n",
       "      <th></th>\n",
       "      <th>year_of_release</th>\n",
       "      <th>worldwide_sales</th>\n",
       "    </tr>\n",
       "  </thead>\n",
       "  <tbody>\n",
       "    <tr>\n",
       "      <td>30</td>\n",
       "      <td>2010</td>\n",
       "      <td>1255</td>\n",
       "    </tr>\n",
       "    <tr>\n",
       "      <td>31</td>\n",
       "      <td>2011</td>\n",
       "      <td>1136</td>\n",
       "    </tr>\n",
       "    <tr>\n",
       "      <td>32</td>\n",
       "      <td>2012</td>\n",
       "      <td>653</td>\n",
       "    </tr>\n",
       "    <tr>\n",
       "      <td>33</td>\n",
       "      <td>2013</td>\n",
       "      <td>544</td>\n",
       "    </tr>\n",
       "    <tr>\n",
       "      <td>34</td>\n",
       "      <td>2014</td>\n",
       "      <td>581</td>\n",
       "    </tr>\n",
       "    <tr>\n",
       "      <td>35</td>\n",
       "      <td>2015</td>\n",
       "      <td>606</td>\n",
       "    </tr>\n",
       "    <tr>\n",
       "      <td>36</td>\n",
       "      <td>2016</td>\n",
       "      <td>502</td>\n",
       "    </tr>\n",
       "  </tbody>\n",
       "</table>\n",
       "</div>"
      ],
      "text/plain": [
       "    year_of_release  worldwide_sales\n",
       "30             2010             1255\n",
       "31             2011             1136\n",
       "32             2012              653\n",
       "33             2013              544\n",
       "34             2014              581\n",
       "35             2015              606\n",
       "36             2016              502"
      ]
     },
     "execution_count": 24,
     "metadata": {},
     "output_type": "execute_result"
    }
   ],
   "source": [
    "df.pivot_table(index='year_of_release', values='worldwide_sales', aggfunc='count').\\\n",
    "   reset_index().query('year_of_release >= 2010')"
   ]
  },
  {
   "cell_type": "markdown",
   "metadata": {},
   "source": [
    "С 2012 года включительно выпуск игр упал в два раза, видимо на рынке игровых платформ что-то произошло\n",
    "\n",
    "Построим сводную таблицу в которой отобразим первую дату появления игры для каждой платформы"
   ]
  },
  {
   "cell_type": "code",
   "execution_count": 25,
   "metadata": {},
   "outputs": [
    {
     "data": {
      "text/html": [
       "<div>\n",
       "<style scoped>\n",
       "    .dataframe tbody tr th:only-of-type {\n",
       "        vertical-align: middle;\n",
       "    }\n",
       "\n",
       "    .dataframe tbody tr th {\n",
       "        vertical-align: top;\n",
       "    }\n",
       "\n",
       "    .dataframe thead th {\n",
       "        text-align: right;\n",
       "    }\n",
       "</style>\n",
       "<table border=\"1\" class=\"dataframe\">\n",
       "  <thead>\n",
       "    <tr style=\"text-align: right;\">\n",
       "      <th></th>\n",
       "      <th>year_of_release</th>\n",
       "    </tr>\n",
       "    <tr>\n",
       "      <th>platform</th>\n",
       "      <th></th>\n",
       "    </tr>\n",
       "  </thead>\n",
       "  <tbody>\n",
       "    <tr>\n",
       "      <td>XOne</td>\n",
       "      <td>2013</td>\n",
       "    </tr>\n",
       "    <tr>\n",
       "      <td>PS4</td>\n",
       "      <td>2013</td>\n",
       "    </tr>\n",
       "    <tr>\n",
       "      <td>WiiU</td>\n",
       "      <td>2012</td>\n",
       "    </tr>\n",
       "    <tr>\n",
       "      <td>3DS</td>\n",
       "      <td>2011</td>\n",
       "    </tr>\n",
       "    <tr>\n",
       "      <td>PSV</td>\n",
       "      <td>2011</td>\n",
       "    </tr>\n",
       "    <tr>\n",
       "      <td>PS3</td>\n",
       "      <td>2006</td>\n",
       "    </tr>\n",
       "    <tr>\n",
       "      <td>Wii</td>\n",
       "      <td>2006</td>\n",
       "    </tr>\n",
       "    <tr>\n",
       "      <td>X360</td>\n",
       "      <td>2005</td>\n",
       "    </tr>\n",
       "    <tr>\n",
       "      <td>PSP</td>\n",
       "      <td>2004</td>\n",
       "    </tr>\n",
       "    <tr>\n",
       "      <td>GC</td>\n",
       "      <td>2001</td>\n",
       "    </tr>\n",
       "  </tbody>\n",
       "</table>\n",
       "</div>"
      ],
      "text/plain": [
       "          year_of_release\n",
       "platform                 \n",
       "XOne                 2013\n",
       "PS4                  2013\n",
       "WiiU                 2012\n",
       "3DS                  2011\n",
       "PSV                  2011\n",
       "PS3                  2006\n",
       "Wii                  2006\n",
       "X360                 2005\n",
       "PSP                  2004\n",
       "GC                   2001"
      ]
     },
     "execution_count": 25,
     "metadata": {},
     "output_type": "execute_result"
    }
   ],
   "source": [
    "df.pivot_table(index='platform', values='year_of_release', aggfunc='min').\\\n",
    "   sort_values('year_of_release', ascending=False).head(10)"
   ]
  },
  {
   "cell_type": "markdown",
   "metadata": {},
   "source": [
    "Мы нашли объяснение падению количества выпуска игр в год в два раза - в 2011-2013 годы на замену старым платформам были выпущены новые. То есть на рубеже поколений разработка игр для старых консолей замедлилась а для новых еще не началась в полную силу, отметим этот момент - **смена поколений произошла в 2011 году**"
   ]
  },
  {
   "cell_type": "markdown",
   "metadata": {},
   "source": [
    "Построим сводную таблицу в которой соберем продажи игр по каждой платформе и отобразим 5 платформ с максимальными продажами"
   ]
  },
  {
   "cell_type": "code",
   "execution_count": 26,
   "metadata": {},
   "outputs": [
    {
     "data": {
      "text/html": [
       "<div>\n",
       "<style scoped>\n",
       "    .dataframe tbody tr th:only-of-type {\n",
       "        vertical-align: middle;\n",
       "    }\n",
       "\n",
       "    .dataframe tbody tr th {\n",
       "        vertical-align: top;\n",
       "    }\n",
       "\n",
       "    .dataframe thead th {\n",
       "        text-align: right;\n",
       "    }\n",
       "</style>\n",
       "<table border=\"1\" class=\"dataframe\">\n",
       "  <thead>\n",
       "    <tr style=\"text-align: right;\">\n",
       "      <th></th>\n",
       "      <th>worldwide_sales</th>\n",
       "    </tr>\n",
       "    <tr>\n",
       "      <th>platform</th>\n",
       "      <th></th>\n",
       "    </tr>\n",
       "  </thead>\n",
       "  <tbody>\n",
       "    <tr>\n",
       "      <td>PS2</td>\n",
       "      <td>1233.56</td>\n",
       "    </tr>\n",
       "    <tr>\n",
       "      <td>X360</td>\n",
       "      <td>961.24</td>\n",
       "    </tr>\n",
       "    <tr>\n",
       "      <td>PS3</td>\n",
       "      <td>931.34</td>\n",
       "    </tr>\n",
       "    <tr>\n",
       "      <td>Wii</td>\n",
       "      <td>891.18</td>\n",
       "    </tr>\n",
       "    <tr>\n",
       "      <td>DS</td>\n",
       "      <td>802.78</td>\n",
       "    </tr>\n",
       "  </tbody>\n",
       "</table>\n",
       "</div>"
      ],
      "text/plain": [
       "          worldwide_sales\n",
       "platform                 \n",
       "PS2               1233.56\n",
       "X360               961.24\n",
       "PS3                931.34\n",
       "Wii                891.18\n",
       "DS                 802.78"
      ]
     },
     "execution_count": 26,
     "metadata": {},
     "output_type": "execute_result"
    }
   ],
   "source": [
    "top_sales = df.pivot_table(index=['platform'], values='worldwide_sales', aggfunc='sum').\\\n",
    "               sort_values('worldwide_sales', ascending=False).head(5)\n",
    "top_sales"
   ]
  },
  {
   "cell_type": "markdown",
   "metadata": {},
   "source": [
    "В таблицу попали только платформы вышедшие до 2011 года, предыдущее поколение, это объясняется тем что с момента появления этого поколения прошло 12 лет, а новое поколение на рынке только 3 года"
   ]
  },
  {
   "cell_type": "markdown",
   "metadata": {},
   "source": [
    "Построим графики продаж по годам по каждой платформе, для этого определим специальную функцию `make_bar_plot` в которую на вход будет поступать название датафрейма и платформа по которой нужно строить график"
   ]
  },
  {
   "cell_type": "code",
   "execution_count": 27,
   "metadata": {},
   "outputs": [],
   "source": [
    "def make_bar_plot(data, platform):\n",
    "    data.query('platform == @platform').pivot_table(index=['platform','year_of_release'], \n",
    "                                                    values='worldwide_sales', aggfunc='sum').\\\n",
    "                                        reset_index().\\\n",
    "                                        plot(kind='bar', x='year_of_release', y='worldwide_sales', \n",
    "                                             grid=True, title=platform, legend=False)\n",
    "    plt.xlabel('Годы') \n",
    "    plt.ylabel('Продажи, млн')"
   ]
  },
  {
   "cell_type": "markdown",
   "metadata": {},
   "source": [
    "Построим графики распределения продаж по годам для платформ из Топ5"
   ]
  },
  {
   "cell_type": "code",
   "execution_count": 28,
   "metadata": {
    "scrolled": false
   },
   "outputs": [
    {
     "data": {
      "image/png": "[encoded data removed]",
      "text/plain": [
       "<Figure size 432x288 with 1 Axes>"
      ]
     },
     "metadata": {
      "needs_background": "light"
     },
     "output_type": "display_data"
    },
    {
     "data": {
      "image/png": "[encoded data removed]",
      "text/plain": [
       "<Figure size 432x288 with 1 Axes>"
      ]
     },
     "metadata": {
      "needs_background": "light"
     },
     "output_type": "display_data"
    },
    {
     "data": {
      "image/png": "[encoded data removed]",
      "text/plain": [
       "<Figure size 432x288 with 1 Axes>"
      ]
     },
     "metadata": {
      "needs_background": "light"
     },
     "output_type": "display_data"
    },
    {
     "data": {
      "image/png": "[encoded data removed]",
      "text/plain": [
       "<Figure size 432x288 with 1 Axes>"
      ]
     },
     "metadata": {
      "needs_background": "light"
     },
     "output_type": "display_data"
    },
    {
     "data": {
      "image/png": "[encoded data removed]",
      "text/plain": [
       "<Figure size 432x288 with 1 Axes>"
      ]
     },
     "metadata": {
      "needs_background": "light"
     },
     "output_type": "display_data"
    }
   ],
   "source": [
    "for platform in top_sales.index:\n",
    "    make_bar_plot(df, platform)"
   ]
  },
  {
   "cell_type": "markdown",
   "metadata": {},
   "source": [
    "На построенных графиках мы видим что срок жизни игровой платформы составляет около 10 лет\n",
    "\n",
    "После выхода следующего поколения на предыдущем продажи игр не прекращаются, но они очень сильно снижаются: в два раза за каждый год\n",
    "\n",
    "Отметим этот момент - **с выходом нового поколения продажи на предыдущем поколении не прекращаются**"
   ]
  },
  {
   "cell_type": "markdown",
   "metadata": {},
   "source": [
    "Стоит обратить внимание на график по платформе DS"
   ]
  },
  {
   "cell_type": "code",
   "execution_count": 29,
   "metadata": {},
   "outputs": [
    {
     "data": {
      "image/png": "[encoded data removed]",
      "text/plain": [
       "<Figure size 432x288 with 1 Axes>"
      ]
     },
     "metadata": {
      "needs_background": "light"
     },
     "output_type": "display_data"
    }
   ],
   "source": [
    "make_bar_plot(df, 'DS')"
   ]
  },
  {
   "cell_type": "markdown",
   "metadata": {},
   "source": [
    "Аббревиатура DS расшифровывается как Nintendo DS и вышла она в 2004 году. на графике (а значит и в таблице) есть записи об играх вышедших на этой платформе в 1985 году, выведем их на экран"
   ]
  },
  {
   "cell_type": "code",
   "execution_count": 30,
   "metadata": {},
   "outputs": [
    {
     "data": {
      "text/html": [
       "<div>\n",
       "<style scoped>\n",
       "    .dataframe tbody tr th:only-of-type {\n",
       "        vertical-align: middle;\n",
       "    }\n",
       "\n",
       "    .dataframe tbody tr th {\n",
       "        vertical-align: top;\n",
       "    }\n",
       "\n",
       "    .dataframe thead th {\n",
       "        text-align: right;\n",
       "    }\n",
       "</style>\n",
       "<table border=\"1\" class=\"dataframe\">\n",
       "  <thead>\n",
       "    <tr style=\"text-align: right;\">\n",
       "      <th></th>\n",
       "      <th>name</th>\n",
       "      <th>platform</th>\n",
       "      <th>year_of_release</th>\n",
       "      <th>genre</th>\n",
       "      <th>na_sales</th>\n",
       "      <th>eu_sales</th>\n",
       "      <th>jp_sales</th>\n",
       "      <th>other_sales</th>\n",
       "      <th>critic_score</th>\n",
       "      <th>user_score</th>\n",
       "      <th>rating</th>\n",
       "      <th>worldwide_sales</th>\n",
       "    </tr>\n",
       "  </thead>\n",
       "  <tbody>\n",
       "    <tr>\n",
       "      <td>15704</td>\n",
       "      <td>Strongest Tokyo University Shogi DS</td>\n",
       "      <td>DS</td>\n",
       "      <td>1985</td>\n",
       "      <td>Action</td>\n",
       "      <td>0.0</td>\n",
       "      <td>0.0</td>\n",
       "      <td>0.02</td>\n",
       "      <td>0.0</td>\n",
       "      <td>NaN</td>\n",
       "      <td>NaN</td>\n",
       "      <td>NaN</td>\n",
       "      <td>0.02</td>\n",
       "    </tr>\n",
       "  </tbody>\n",
       "</table>\n",
       "</div>"
      ],
      "text/plain": [
       "                                      name platform  year_of_release   genre  \\\n",
       "15704  Strongest Tokyo University Shogi DS       DS             1985  Action   \n",
       "\n",
       "       na_sales  eu_sales  jp_sales  other_sales  critic_score  user_score  \\\n",
       "15704       0.0       0.0      0.02          0.0           NaN         NaN   \n",
       "\n",
       "      rating  worldwide_sales  \n",
       "15704    NaN             0.02  "
      ]
     },
     "execution_count": 30,
     "metadata": {},
     "output_type": "execute_result"
    }
   ],
   "source": [
    "df.query('platform == \"DS\" & year_of_release < 2004')"
   ]
  },
  {
   "cell_type": "markdown",
   "metadata": {},
   "source": [
    "Игра всего одна, продавалась только в Японии и не имеет записей о рейтингах, удалим ее из таблицы"
   ]
  },
  {
   "cell_type": "code",
   "execution_count": 31,
   "metadata": {},
   "outputs": [],
   "source": [
    "df = df.drop(df.query('platform == \"DS\" & year_of_release < 2004').index)\n",
    "df = df.reset_index(drop=True)"
   ]
  },
  {
   "cell_type": "markdown",
   "metadata": {},
   "source": [
    "Сравним количество игр и продажи на предыдущем и текущем поколениях\n",
    "\n",
    "Для этого создадим функцию разделяющую всю таблицу на поколения по году выхода платформы на рынок\n",
    "\n",
    "Поколения разделяются следующим образом:\n",
    "* Последнее поколение - все платформы вышедшие после 2011 года\n",
    "* Предыдущее поколение - все платформы вышедшие с 2004 по 2011 год"
   ]
  },
  {
   "cell_type": "code",
   "execution_count": 32,
   "metadata": {},
   "outputs": [],
   "source": [
    "def generation_define(year):\n",
    "    if year >= 2011:\n",
    "        return 'last'\n",
    "    elif 2004 <= year < 2011:\n",
    "        return 'previous'"
   ]
  },
  {
   "cell_type": "markdown",
   "metadata": {},
   "source": [
    "Применим вновь созданную функцию к сводной таблице в которой отображаются платформы и даты появления первых игр"
   ]
  },
  {
   "cell_type": "code",
   "execution_count": 33,
   "metadata": {},
   "outputs": [],
   "source": [
    "platform_first_release = df.pivot_table(index='platform', values='year_of_release', aggfunc='min').\\\n",
    "                            reset_index()\n",
    "platform_first_release['generation'] = platform_first_release['year_of_release'].\\\n",
    "                                       apply(generation_define)"
   ]
  },
  {
   "cell_type": "markdown",
   "metadata": {},
   "source": [
    "Объединим полученные значения с основной таблицей методом `merge`"
   ]
  },
  {
   "cell_type": "code",
   "execution_count": 34,
   "metadata": {},
   "outputs": [],
   "source": [
    "df = df.merge(platform_first_release[['platform','generation']], on='platform', how='left')"
   ]
  },
  {
   "cell_type": "markdown",
   "metadata": {},
   "source": [
    "Добавим данные о поколении и для платформы PC (персонального компьютера)"
   ]
  },
  {
   "cell_type": "code",
   "execution_count": 35,
   "metadata": {},
   "outputs": [],
   "source": [
    "df.loc[(df['platform'] == 'PC') & (df['year_of_release'] >= 2011), 'generation'] = 'last'\n",
    "df.loc[(df['platform'] == 'PC') & (df['year_of_release'] >= 2004) & (df['year_of_release'] < 2011), 'generation'] = 'previous'"
   ]
  },
  {
   "cell_type": "markdown",
   "metadata": {},
   "source": [
    "Построим сводную таблицу"
   ]
  },
  {
   "cell_type": "code",
   "execution_count": 36,
   "metadata": {},
   "outputs": [
    {
     "data": {
      "text/html": [
       "<div>\n",
       "<style scoped>\n",
       "    .dataframe tbody tr th:only-of-type {\n",
       "        vertical-align: middle;\n",
       "    }\n",
       "\n",
       "    .dataframe tbody tr th {\n",
       "        vertical-align: top;\n",
       "    }\n",
       "\n",
       "    .dataframe thead tr th {\n",
       "        text-align: left;\n",
       "    }\n",
       "\n",
       "    .dataframe thead tr:last-of-type th {\n",
       "        text-align: right;\n",
       "    }\n",
       "</style>\n",
       "<table border=\"1\" class=\"dataframe\">\n",
       "  <thead>\n",
       "    <tr>\n",
       "      <th></th>\n",
       "      <th></th>\n",
       "      <th>sum</th>\n",
       "      <th>count</th>\n",
       "    </tr>\n",
       "    <tr>\n",
       "      <th></th>\n",
       "      <th></th>\n",
       "      <th>worldwide_sales</th>\n",
       "      <th>worldwide_sales</th>\n",
       "    </tr>\n",
       "    <tr>\n",
       "      <th>generation</th>\n",
       "      <th>year_of_release</th>\n",
       "      <th></th>\n",
       "      <th></th>\n",
       "    </tr>\n",
       "  </thead>\n",
       "  <tbody>\n",
       "    <tr>\n",
       "      <td rowspan=\"6\" valign=\"top\">last</td>\n",
       "      <td>2011</td>\n",
       "      <td>102.86</td>\n",
       "      <td>273</td>\n",
       "    </tr>\n",
       "    <tr>\n",
       "      <td>2012</td>\n",
       "      <td>108.33</td>\n",
       "      <td>239</td>\n",
       "    </tr>\n",
       "    <tr>\n",
       "      <td>2013</td>\n",
       "      <td>146.14</td>\n",
       "      <td>269</td>\n",
       "    </tr>\n",
       "    <tr>\n",
       "      <td>2014</td>\n",
       "      <td>245.04</td>\n",
       "      <td>394</td>\n",
       "    </tr>\n",
       "    <tr>\n",
       "      <td>2015</td>\n",
       "      <td>237.94</td>\n",
       "      <td>491</td>\n",
       "    </tr>\n",
       "    <tr>\n",
       "      <td>2016</td>\n",
       "      <td>124.64</td>\n",
       "      <td>450</td>\n",
       "    </tr>\n",
       "    <tr>\n",
       "      <td rowspan=\"13\" valign=\"top\">previous</td>\n",
       "      <td>2004</td>\n",
       "      <td>34.72</td>\n",
       "      <td>68</td>\n",
       "    </tr>\n",
       "    <tr>\n",
       "      <td>2005</td>\n",
       "      <td>186.60</td>\n",
       "      <td>268</td>\n",
       "    </tr>\n",
       "    <tr>\n",
       "      <td>2006</td>\n",
       "      <td>387.71</td>\n",
       "      <td>606</td>\n",
       "    </tr>\n",
       "    <tr>\n",
       "      <td>2007</td>\n",
       "      <td>524.52</td>\n",
       "      <td>969</td>\n",
       "    </tr>\n",
       "    <tr>\n",
       "      <td>2008</td>\n",
       "      <td>617.38</td>\n",
       "      <td>1234</td>\n",
       "    </tr>\n",
       "    <tr>\n",
       "      <td>2009</td>\n",
       "      <td>632.42</td>\n",
       "      <td>1330</td>\n",
       "    </tr>\n",
       "    <tr>\n",
       "      <td>2010</td>\n",
       "      <td>584.49</td>\n",
       "      <td>1217</td>\n",
       "    </tr>\n",
       "    <tr>\n",
       "      <td>2011</td>\n",
       "      <td>404.27</td>\n",
       "      <td>856</td>\n",
       "    </tr>\n",
       "    <tr>\n",
       "      <td>2012</td>\n",
       "      <td>247.51</td>\n",
       "      <td>414</td>\n",
       "    </tr>\n",
       "    <tr>\n",
       "      <td>2013</td>\n",
       "      <td>215.10</td>\n",
       "      <td>275</td>\n",
       "    </tr>\n",
       "    <tr>\n",
       "      <td>2014</td>\n",
       "      <td>86.49</td>\n",
       "      <td>187</td>\n",
       "    </tr>\n",
       "    <tr>\n",
       "      <td>2015</td>\n",
       "      <td>30.04</td>\n",
       "      <td>115</td>\n",
       "    </tr>\n",
       "    <tr>\n",
       "      <td>2016</td>\n",
       "      <td>5.30</td>\n",
       "      <td>52</td>\n",
       "    </tr>\n",
       "  </tbody>\n",
       "</table>\n",
       "</div>"
      ],
      "text/plain": [
       "                                       sum           count\n",
       "                           worldwide_sales worldwide_sales\n",
       "generation year_of_release                                \n",
       "last       2011                     102.86             273\n",
       "           2012                     108.33             239\n",
       "           2013                     146.14             269\n",
       "           2014                     245.04             394\n",
       "           2015                     237.94             491\n",
       "           2016                     124.64             450\n",
       "previous   2004                      34.72              68\n",
       "           2005                     186.60             268\n",
       "           2006                     387.71             606\n",
       "           2007                     524.52             969\n",
       "           2008                     617.38            1234\n",
       "           2009                     632.42            1330\n",
       "           2010                     584.49            1217\n",
       "           2011                     404.27             856\n",
       "           2012                     247.51             414\n",
       "           2013                     215.10             275\n",
       "           2014                      86.49             187\n",
       "           2015                      30.04             115\n",
       "           2016                       5.30              52"
      ]
     },
     "execution_count": 36,
     "metadata": {},
     "output_type": "execute_result"
    }
   ],
   "source": [
    "df.pivot_table(index=['generation','year_of_release'], \n",
    "               values='worldwide_sales', \n",
    "               aggfunc=['sum','count'])"
   ]
  },
  {
   "cell_type": "markdown",
   "metadata": {},
   "source": [
    "Наглядное подтверждение наших выводов. При смене поколения продажи на предыдущем поколении продолжаются, но с каждым годом снижаются. "
   ]
  },
  {
   "cell_type": "markdown",
   "metadata": {},
   "source": [
    "Таким образом, в результате анализа смены поколений и продаж игр по поколениям мы делаем вывод о том что **актуальным периодом для анализа будет период начиная с 2004 года** но только по платформам которые были выпущены начиная с этого года"
   ]
  },
  {
   "cell_type": "markdown",
   "metadata": {},
   "source": [
    "Создадим новый датафрейм `actual_data` в который запишем данные о последнем и предыдущем поколениях"
   ]
  },
  {
   "cell_type": "code",
   "execution_count": 37,
   "metadata": {},
   "outputs": [
    {
     "data": {
      "text/html": [
       "<div>\n",
       "<style scoped>\n",
       "    .dataframe tbody tr th:only-of-type {\n",
       "        vertical-align: middle;\n",
       "    }\n",
       "\n",
       "    .dataframe tbody tr th {\n",
       "        vertical-align: top;\n",
       "    }\n",
       "\n",
       "    .dataframe thead th {\n",
       "        text-align: right;\n",
       "    }\n",
       "</style>\n",
       "<table border=\"1\" class=\"dataframe\">\n",
       "  <thead>\n",
       "    <tr style=\"text-align: right;\">\n",
       "      <th></th>\n",
       "      <th>name</th>\n",
       "      <th>platform</th>\n",
       "      <th>year_of_release</th>\n",
       "      <th>genre</th>\n",
       "      <th>na_sales</th>\n",
       "      <th>eu_sales</th>\n",
       "      <th>jp_sales</th>\n",
       "      <th>other_sales</th>\n",
       "      <th>critic_score</th>\n",
       "      <th>user_score</th>\n",
       "      <th>rating</th>\n",
       "      <th>worldwide_sales</th>\n",
       "      <th>generation</th>\n",
       "    </tr>\n",
       "  </thead>\n",
       "  <tbody>\n",
       "    <tr>\n",
       "      <td>0</td>\n",
       "      <td>Wii Sports</td>\n",
       "      <td>Wii</td>\n",
       "      <td>2006</td>\n",
       "      <td>Sports</td>\n",
       "      <td>41.36</td>\n",
       "      <td>28.96</td>\n",
       "      <td>3.77</td>\n",
       "      <td>8.45</td>\n",
       "      <td>76.0</td>\n",
       "      <td>8.0</td>\n",
       "      <td>E</td>\n",
       "      <td>82.54</td>\n",
       "      <td>previous</td>\n",
       "    </tr>\n",
       "    <tr>\n",
       "      <td>1</td>\n",
       "      <td>Mario Kart Wii</td>\n",
       "      <td>Wii</td>\n",
       "      <td>2008</td>\n",
       "      <td>Racing</td>\n",
       "      <td>15.68</td>\n",
       "      <td>12.76</td>\n",
       "      <td>3.79</td>\n",
       "      <td>3.29</td>\n",
       "      <td>82.0</td>\n",
       "      <td>8.3</td>\n",
       "      <td>E</td>\n",
       "      <td>35.52</td>\n",
       "      <td>previous</td>\n",
       "    </tr>\n",
       "    <tr>\n",
       "      <td>2</td>\n",
       "      <td>Wii Sports Resort</td>\n",
       "      <td>Wii</td>\n",
       "      <td>2009</td>\n",
       "      <td>Sports</td>\n",
       "      <td>15.61</td>\n",
       "      <td>10.93</td>\n",
       "      <td>3.28</td>\n",
       "      <td>2.95</td>\n",
       "      <td>80.0</td>\n",
       "      <td>8.0</td>\n",
       "      <td>E</td>\n",
       "      <td>32.77</td>\n",
       "      <td>previous</td>\n",
       "    </tr>\n",
       "    <tr>\n",
       "      <td>3</td>\n",
       "      <td>New Super Mario Bros.</td>\n",
       "      <td>DS</td>\n",
       "      <td>2006</td>\n",
       "      <td>Platform</td>\n",
       "      <td>11.28</td>\n",
       "      <td>9.14</td>\n",
       "      <td>6.50</td>\n",
       "      <td>2.88</td>\n",
       "      <td>89.0</td>\n",
       "      <td>8.5</td>\n",
       "      <td>E</td>\n",
       "      <td>29.80</td>\n",
       "      <td>previous</td>\n",
       "    </tr>\n",
       "    <tr>\n",
       "      <td>4</td>\n",
       "      <td>Wii Play</td>\n",
       "      <td>Wii</td>\n",
       "      <td>2006</td>\n",
       "      <td>Misc</td>\n",
       "      <td>13.96</td>\n",
       "      <td>9.18</td>\n",
       "      <td>2.93</td>\n",
       "      <td>2.84</td>\n",
       "      <td>58.0</td>\n",
       "      <td>6.6</td>\n",
       "      <td>E</td>\n",
       "      <td>28.91</td>\n",
       "      <td>previous</td>\n",
       "    </tr>\n",
       "    <tr>\n",
       "      <td>...</td>\n",
       "      <td>...</td>\n",
       "      <td>...</td>\n",
       "      <td>...</td>\n",
       "      <td>...</td>\n",
       "      <td>...</td>\n",
       "      <td>...</td>\n",
       "      <td>...</td>\n",
       "      <td>...</td>\n",
       "      <td>...</td>\n",
       "      <td>...</td>\n",
       "      <td>...</td>\n",
       "      <td>...</td>\n",
       "      <td>...</td>\n",
       "    </tr>\n",
       "    <tr>\n",
       "      <td>9702</td>\n",
       "      <td>Aiyoku no Eustia</td>\n",
       "      <td>PSV</td>\n",
       "      <td>2014</td>\n",
       "      <td>Misc</td>\n",
       "      <td>0.00</td>\n",
       "      <td>0.00</td>\n",
       "      <td>0.01</td>\n",
       "      <td>0.00</td>\n",
       "      <td>NaN</td>\n",
       "      <td>NaN</td>\n",
       "      <td>NaN</td>\n",
       "      <td>0.01</td>\n",
       "      <td>last</td>\n",
       "    </tr>\n",
       "    <tr>\n",
       "      <td>9703</td>\n",
       "      <td>Samurai Warriors: Sanada Maru</td>\n",
       "      <td>PS3</td>\n",
       "      <td>2016</td>\n",
       "      <td>Action</td>\n",
       "      <td>0.00</td>\n",
       "      <td>0.00</td>\n",
       "      <td>0.01</td>\n",
       "      <td>0.00</td>\n",
       "      <td>NaN</td>\n",
       "      <td>NaN</td>\n",
       "      <td>NaN</td>\n",
       "      <td>0.01</td>\n",
       "      <td>previous</td>\n",
       "    </tr>\n",
       "    <tr>\n",
       "      <td>9704</td>\n",
       "      <td>LMA Manager 2007</td>\n",
       "      <td>X360</td>\n",
       "      <td>2006</td>\n",
       "      <td>Sports</td>\n",
       "      <td>0.00</td>\n",
       "      <td>0.01</td>\n",
       "      <td>0.00</td>\n",
       "      <td>0.00</td>\n",
       "      <td>NaN</td>\n",
       "      <td>NaN</td>\n",
       "      <td>NaN</td>\n",
       "      <td>0.01</td>\n",
       "      <td>previous</td>\n",
       "    </tr>\n",
       "    <tr>\n",
       "      <td>9705</td>\n",
       "      <td>Haitaka no Psychedelica</td>\n",
       "      <td>PSV</td>\n",
       "      <td>2016</td>\n",
       "      <td>Adventure</td>\n",
       "      <td>0.00</td>\n",
       "      <td>0.00</td>\n",
       "      <td>0.01</td>\n",
       "      <td>0.00</td>\n",
       "      <td>NaN</td>\n",
       "      <td>NaN</td>\n",
       "      <td>NaN</td>\n",
       "      <td>0.01</td>\n",
       "      <td>last</td>\n",
       "    </tr>\n",
       "    <tr>\n",
       "      <td>9706</td>\n",
       "      <td>Winning Post 8 2016</td>\n",
       "      <td>PSV</td>\n",
       "      <td>2016</td>\n",
       "      <td>Simulation</td>\n",
       "      <td>0.00</td>\n",
       "      <td>0.00</td>\n",
       "      <td>0.01</td>\n",
       "      <td>0.00</td>\n",
       "      <td>NaN</td>\n",
       "      <td>NaN</td>\n",
       "      <td>NaN</td>\n",
       "      <td>0.01</td>\n",
       "      <td>last</td>\n",
       "    </tr>\n",
       "  </tbody>\n",
       "</table>\n",
       "<p>9707 rows × 13 columns</p>\n",
       "</div>"
      ],
      "text/plain": [
       "                               name platform  year_of_release       genre  \\\n",
       "0                        Wii Sports      Wii             2006      Sports   \n",
       "1                    Mario Kart Wii      Wii             2008      Racing   \n",
       "2                 Wii Sports Resort      Wii             2009      Sports   \n",
       "3             New Super Mario Bros.       DS             2006    Platform   \n",
       "4                          Wii Play      Wii             2006        Misc   \n",
       "...                             ...      ...              ...         ...   \n",
       "9702               Aiyoku no Eustia      PSV             2014        Misc   \n",
       "9703  Samurai Warriors: Sanada Maru      PS3             2016      Action   \n",
       "9704               LMA Manager 2007     X360             2006      Sports   \n",
       "9705        Haitaka no Psychedelica      PSV             2016   Adventure   \n",
       "9706            Winning Post 8 2016      PSV             2016  Simulation   \n",
       "\n",
       "      na_sales  eu_sales  jp_sales  other_sales  critic_score  user_score  \\\n",
       "0        41.36     28.96      3.77         8.45          76.0         8.0   \n",
       "1        15.68     12.76      3.79         3.29          82.0         8.3   \n",
       "2        15.61     10.93      3.28         2.95          80.0         8.0   \n",
       "3        11.28      9.14      6.50         2.88          89.0         8.5   \n",
       "4        13.96      9.18      2.93         2.84          58.0         6.6   \n",
       "...        ...       ...       ...          ...           ...         ...   \n",
       "9702      0.00      0.00      0.01         0.00           NaN         NaN   \n",
       "9703      0.00      0.00      0.01         0.00           NaN         NaN   \n",
       "9704      0.00      0.01      0.00         0.00           NaN         NaN   \n",
       "9705      0.00      0.00      0.01         0.00           NaN         NaN   \n",
       "9706      0.00      0.00      0.01         0.00           NaN         NaN   \n",
       "\n",
       "     rating  worldwide_sales generation  \n",
       "0         E            82.54   previous  \n",
       "1         E            35.52   previous  \n",
       "2         E            32.77   previous  \n",
       "3         E            29.80   previous  \n",
       "4         E            28.91   previous  \n",
       "...     ...              ...        ...  \n",
       "9702    NaN             0.01       last  \n",
       "9703    NaN             0.01   previous  \n",
       "9704    NaN             0.01   previous  \n",
       "9705    NaN             0.01       last  \n",
       "9706    NaN             0.01       last  \n",
       "\n",
       "[9707 rows x 13 columns]"
      ]
     },
     "execution_count": 37,
     "metadata": {},
     "output_type": "execute_result"
    }
   ],
   "source": [
    "actual_data = df.loc[(df['generation'] == 'last') | (df['generation'] == 'previous')]\n",
    "actual_data.reset_index(drop=True)"
   ]
  },
  {
   "cell_type": "markdown",
   "metadata": {},
   "source": [
    "### Анализ данных<a id=\"stage_3_analysis\"></a>"
   ]
  },
  {
   "cell_type": "markdown",
   "metadata": {},
   "source": [
    "#### Поиск перспективных платформ<a id=\"stage_3_analysis_perspective_platform\"></a>"
   ]
  },
  {
   "cell_type": "markdown",
   "metadata": {},
   "source": [
    "Построим таблицы содержащие суммарные продажи по каждой платформе и отсортируем их по возрастанию"
   ]
  },
  {
   "cell_type": "code",
   "execution_count": 38,
   "metadata": {},
   "outputs": [],
   "source": [
    "gen_top = actual_data.pivot_table(index=['generation','platform'], values='worldwide_sales', \n",
    "                                  aggfunc='sum').\\\n",
    "                      sort_values(['generation','worldwide_sales'], ascending=False).reset_index()\n",
    "prev_gen_top = gen_top.query('generation == \"previous\"')\n",
    "last_gen_top = gen_top.query('generation == \"last\"')"
   ]
  },
  {
   "cell_type": "markdown",
   "metadata": {},
   "source": [
    "Топ по платформам предыдущего поколения"
   ]
  },
  {
   "cell_type": "code",
   "execution_count": 39,
   "metadata": {
    "scrolled": true
   },
   "outputs": [
    {
     "data": {
      "text/html": [
       "<div>\n",
       "<style scoped>\n",
       "    .dataframe tbody tr th:only-of-type {\n",
       "        vertical-align: middle;\n",
       "    }\n",
       "\n",
       "    .dataframe tbody tr th {\n",
       "        vertical-align: top;\n",
       "    }\n",
       "\n",
       "    .dataframe thead th {\n",
       "        text-align: right;\n",
       "    }\n",
       "</style>\n",
       "<table border=\"1\" class=\"dataframe\">\n",
       "  <thead>\n",
       "    <tr style=\"text-align: right;\">\n",
       "      <th></th>\n",
       "      <th>platform</th>\n",
       "      <th>worldwide_sales</th>\n",
       "    </tr>\n",
       "  </thead>\n",
       "  <tbody>\n",
       "    <tr>\n",
       "      <td>0</td>\n",
       "      <td>X360</td>\n",
       "      <td>961.24</td>\n",
       "    </tr>\n",
       "    <tr>\n",
       "      <td>1</td>\n",
       "      <td>PS3</td>\n",
       "      <td>931.34</td>\n",
       "    </tr>\n",
       "    <tr>\n",
       "      <td>2</td>\n",
       "      <td>Wii</td>\n",
       "      <td>891.18</td>\n",
       "    </tr>\n",
       "    <tr>\n",
       "      <td>3</td>\n",
       "      <td>DS</td>\n",
       "      <td>802.76</td>\n",
       "    </tr>\n",
       "    <tr>\n",
       "      <td>4</td>\n",
       "      <td>PSP</td>\n",
       "      <td>289.53</td>\n",
       "    </tr>\n",
       "    <tr>\n",
       "      <td>5</td>\n",
       "      <td>PC</td>\n",
       "      <td>80.50</td>\n",
       "    </tr>\n",
       "  </tbody>\n",
       "</table>\n",
       "</div>"
      ],
      "text/plain": [
       "  platform  worldwide_sales\n",
       "0     X360           961.24\n",
       "1      PS3           931.34\n",
       "2      Wii           891.18\n",
       "3       DS           802.76\n",
       "4      PSP           289.53\n",
       "5       PC            80.50"
      ]
     },
     "execution_count": 39,
     "metadata": {},
     "output_type": "execute_result"
    }
   ],
   "source": [
    "prev_gen_top[['platform','worldwide_sales']]"
   ]
  },
  {
   "cell_type": "markdown",
   "metadata": {},
   "source": [
    "Топ по платформам последнего поколения"
   ]
  },
  {
   "cell_type": "code",
   "execution_count": 40,
   "metadata": {},
   "outputs": [
    {
     "data": {
      "text/html": [
       "<div>\n",
       "<style scoped>\n",
       "    .dataframe tbody tr th:only-of-type {\n",
       "        vertical-align: middle;\n",
       "    }\n",
       "\n",
       "    .dataframe tbody tr th {\n",
       "        vertical-align: top;\n",
       "    }\n",
       "\n",
       "    .dataframe thead th {\n",
       "        text-align: right;\n",
       "    }\n",
       "</style>\n",
       "<table border=\"1\" class=\"dataframe\">\n",
       "  <thead>\n",
       "    <tr style=\"text-align: right;\">\n",
       "      <th></th>\n",
       "      <th>platform</th>\n",
       "      <th>worldwide_sales</th>\n",
       "    </tr>\n",
       "  </thead>\n",
       "  <tbody>\n",
       "    <tr>\n",
       "      <td>6</td>\n",
       "      <td>PS4</td>\n",
       "      <td>314.14</td>\n",
       "    </tr>\n",
       "    <tr>\n",
       "      <td>7</td>\n",
       "      <td>3DS</td>\n",
       "      <td>257.81</td>\n",
       "    </tr>\n",
       "    <tr>\n",
       "      <td>8</td>\n",
       "      <td>XOne</td>\n",
       "      <td>159.32</td>\n",
       "    </tr>\n",
       "    <tr>\n",
       "      <td>9</td>\n",
       "      <td>PC</td>\n",
       "      <td>97.68</td>\n",
       "    </tr>\n",
       "    <tr>\n",
       "      <td>10</td>\n",
       "      <td>WiiU</td>\n",
       "      <td>82.19</td>\n",
       "    </tr>\n",
       "    <tr>\n",
       "      <td>11</td>\n",
       "      <td>PSV</td>\n",
       "      <td>53.81</td>\n",
       "    </tr>\n",
       "  </tbody>\n",
       "</table>\n",
       "</div>"
      ],
      "text/plain": [
       "   platform  worldwide_sales\n",
       "6       PS4           314.14\n",
       "7       3DS           257.81\n",
       "8      XOne           159.32\n",
       "9        PC            97.68\n",
       "10     WiiU            82.19\n",
       "11      PSV            53.81"
      ]
     },
     "execution_count": 40,
     "metadata": {},
     "output_type": "execute_result"
    }
   ],
   "source": [
    "last_gen_top[['platform','worldwide_sales']]"
   ]
  },
  {
   "cell_type": "markdown",
   "metadata": {},
   "source": [
    "Мы уже знаем что продажи на предыдущем поколении падают с момента выхода последнего поколения, поэтому в выборе перспективных платформ они учавствовать не будут\n",
    "\n",
    "Лидирующими платформами в текущем поколении оказались PS4, 3DS и XOne, построим графики распределения продаж по годам для каждой из них"
   ]
  },
  {
   "cell_type": "code",
   "execution_count": 41,
   "metadata": {},
   "outputs": [
    {
     "data": {
      "image/png": "[encoded data removed]",
      "text/plain": [
       "<Figure size 432x288 with 1 Axes>"
      ]
     },
     "metadata": {
      "needs_background": "light"
     },
     "output_type": "display_data"
    },
    {
     "data": {
      "image/png": "[encoded data removed]",
      "text/plain": [
       "<Figure size 432x288 with 1 Axes>"
      ]
     },
     "metadata": {
      "needs_background": "light"
     },
     "output_type": "display_data"
    },
    {
     "data": {
      "image/png": "[encoded data removed]",
      "text/plain": [
       "<Figure size 432x288 with 1 Axes>"
      ]
     },
     "metadata": {
      "needs_background": "light"
     },
     "output_type": "display_data"
    }
   ],
   "source": [
    "for platform in last_gen_top['platform'].head(3):\n",
    "    make_bar_plot(actual_data, platform)"
   ]
  },
  {
   "cell_type": "markdown",
   "metadata": {},
   "source": [
    "Данные 2016 год в нашем распоряжении не полные (финансовую отчетность по итогам года крупные издатели публикуют в начале следующего), если учесть этот факт то на графиках видно что продажи игр на платформах PS4 и XOne растут, а на платформе 3DS падают, это означает то что платформы **PS4 и XOne будут потенциально прибыльными платформами в 2017 году**"
   ]
  },
  {
   "cell_type": "markdown",
   "metadata": {},
   "source": [
    "#### Анализ продаж игр по платформам<a id=\"stage_3_analysis_sales_boxplot\"></a>"
   ]
  },
  {
   "cell_type": "markdown",
   "metadata": {},
   "source": [
    "Построим диаграмму boxplot по всем платформам последнего поколения"
   ]
  },
  {
   "cell_type": "code",
   "execution_count": 42,
   "metadata": {},
   "outputs": [
    {
     "name": "stderr",
     "output_type": "stream",
     "text": [
      "/opt/conda/lib/python3.7/site-packages/numpy/core/_asarray.py:83: VisibleDeprecationWarning: Creating an ndarray from ragged nested sequences (which is a list-or-tuple of lists-or-tuples-or ndarrays with different lengths or shapes) is deprecated. If you meant to do this, you must specify 'dtype=object' when creating the ndarray\n",
      "  return array(a, dtype, copy=False, order=order)\n"
     ]
    },
    {
     "data": {
      "text/plain": [
       "Text(0.5, 0, 'Платформа')"
      ]
     },
     "execution_count": 42,
     "metadata": {},
     "output_type": "execute_result"
    },
    {
     "data": {
      "image/png": "[encoded data removed]",
      "text/plain": [
       "<Figure size 864x720 with 1 Axes>"
      ]
     },
     "metadata": {
      "needs_background": "light"
     },
     "output_type": "display_data"
    }
   ],
   "source": [
    "actual_data.query('generation == \"last\"')[['platform','worldwide_sales']].boxplot(by='platform', \n",
    "                                                                                  figsize=(12,10))\n",
    "plt.title('Распределние продаж игр по платформам')\n",
    "plt.ylabel('Продажи, млн')\n",
    "plt.xlabel('Платформа')"
   ]
  },
  {
   "cell_type": "markdown",
   "metadata": {},
   "source": [
    "На графике видно что в среднем суммарные продажи игр редко превышают 1 млн, однако присутствуют и выдающиеся результаты, выведем на экран количество игр с продажами больше 10 млн по платформам"
   ]
  },
  {
   "cell_type": "code",
   "execution_count": 43,
   "metadata": {},
   "outputs": [
    {
     "data": {
      "text/html": [
       "<div>\n",
       "<style scoped>\n",
       "    .dataframe tbody tr th:only-of-type {\n",
       "        vertical-align: middle;\n",
       "    }\n",
       "\n",
       "    .dataframe tbody tr th {\n",
       "        vertical-align: top;\n",
       "    }\n",
       "\n",
       "    .dataframe thead tr th {\n",
       "        text-align: left;\n",
       "    }\n",
       "\n",
       "    .dataframe thead tr:last-of-type th {\n",
       "        text-align: right;\n",
       "    }\n",
       "</style>\n",
       "<table border=\"1\" class=\"dataframe\">\n",
       "  <thead>\n",
       "    <tr>\n",
       "      <th></th>\n",
       "      <th></th>\n",
       "      <th>count</th>\n",
       "      <th>sum</th>\n",
       "    </tr>\n",
       "    <tr>\n",
       "      <th></th>\n",
       "      <th></th>\n",
       "      <th>worldwide_sales</th>\n",
       "      <th>worldwide_sales</th>\n",
       "    </tr>\n",
       "    <tr>\n",
       "      <th>generation</th>\n",
       "      <th>platform</th>\n",
       "      <th></th>\n",
       "      <th></th>\n",
       "    </tr>\n",
       "  </thead>\n",
       "  <tbody>\n",
       "    <tr>\n",
       "      <td rowspan=\"4\" valign=\"top\">previous</td>\n",
       "      <td>DS</td>\n",
       "      <td>10</td>\n",
       "      <td>180.68</td>\n",
       "    </tr>\n",
       "    <tr>\n",
       "      <td>Wii</td>\n",
       "      <td>10</td>\n",
       "      <td>286.87</td>\n",
       "    </tr>\n",
       "    <tr>\n",
       "      <td>X360</td>\n",
       "      <td>9</td>\n",
       "      <td>127.95</td>\n",
       "    </tr>\n",
       "    <tr>\n",
       "      <td>PS3</td>\n",
       "      <td>7</td>\n",
       "      <td>92.61</td>\n",
       "    </tr>\n",
       "    <tr>\n",
       "      <td rowspan=\"2\" valign=\"top\">last</td>\n",
       "      <td>3DS</td>\n",
       "      <td>4</td>\n",
       "      <td>49.74</td>\n",
       "    </tr>\n",
       "    <tr>\n",
       "      <td>PS4</td>\n",
       "      <td>2</td>\n",
       "      <td>27.25</td>\n",
       "    </tr>\n",
       "  </tbody>\n",
       "</table>\n",
       "</div>"
      ],
      "text/plain": [
       "                              count             sum\n",
       "                    worldwide_sales worldwide_sales\n",
       "generation platform                                \n",
       "previous   DS                    10          180.68\n",
       "           Wii                   10          286.87\n",
       "           X360                   9          127.95\n",
       "           PS3                    7           92.61\n",
       "last       3DS                    4           49.74\n",
       "           PS4                    2           27.25"
      ]
     },
     "execution_count": 43,
     "metadata": {},
     "output_type": "execute_result"
    }
   ],
   "source": [
    "actual_data.query('worldwide_sales > 10').pivot_table(index=['generation','platform'], \n",
    "                                                      values='worldwide_sales', \n",
    "                                                      aggfunc=['count','sum']).\\\n",
    "                                          sort_values(['generation',('count', 'worldwide_sales')],\n",
    "                                                      ascending=False)"
   ]
  },
  {
   "cell_type": "markdown",
   "metadata": {},
   "source": [
    "Большая часть таких игр вышла на предыдущем поколении, но и на последнем поколении уже успели выйти великолепно продавшиеся игры"
   ]
  },
  {
   "cell_type": "markdown",
   "metadata": {},
   "source": [
    "Построим boxplot'ы для двух платформ принятыми нами перспективными"
   ]
  },
  {
   "cell_type": "code",
   "execution_count": 44,
   "metadata": {},
   "outputs": [
    {
     "name": "stderr",
     "output_type": "stream",
     "text": [
      "/opt/conda/lib/python3.7/site-packages/numpy/core/_asarray.py:83: VisibleDeprecationWarning: Creating an ndarray from ragged nested sequences (which is a list-or-tuple of lists-or-tuples-or ndarrays with different lengths or shapes) is deprecated. If you meant to do this, you must specify 'dtype=object' when creating the ndarray\n",
      "  return array(a, dtype, copy=False, order=order)\n"
     ]
    },
    {
     "data": {
      "text/plain": [
       "Text(0.5, 0, 'Платформа')"
      ]
     },
     "execution_count": 44,
     "metadata": {},
     "output_type": "execute_result"
    },
    {
     "data": {
      "image/png": "[encoded data removed]",
      "text/plain": [
       "<Figure size 864x504 with 1 Axes>"
      ]
     },
     "metadata": {
      "needs_background": "light"
     },
     "output_type": "display_data"
    }
   ],
   "source": [
    "actual_data[['platform','worldwide_sales']].query('platform.isin([\"PS4\",\"XOne\"])').\\\n",
    "                                            boxplot(by='platform', figsize=(12,7))\n",
    "plt.title('Распределние продаж игр по платформам')\n",
    "plt.ylabel('Продажи, млн')\n",
    "plt.xlabel('Платформа')"
   ]
  },
  {
   "cell_type": "markdown",
   "metadata": {},
   "source": [
    "На построенной диаграмме мы видим что минимумы и отметки на 25%, 50% и 75% практически совпадают по обеим платформам, однако на PS4 имеется больше игр с продажами выше 2млн\n",
    "\n",
    "Из за того что \"ящик\" смещен вниз мы можем предположить что распределние продаж далеко от нормального и ближе к распределению Пуассона\n",
    "\n",
    "Применим метод `describe` к данным о продажах по обеим платформам"
   ]
  },
  {
   "cell_type": "code",
   "execution_count": 45,
   "metadata": {},
   "outputs": [
    {
     "data": {
      "text/html": [
       "<div>\n",
       "<style scoped>\n",
       "    .dataframe tbody tr th:only-of-type {\n",
       "        vertical-align: middle;\n",
       "    }\n",
       "\n",
       "    .dataframe tbody tr th {\n",
       "        vertical-align: top;\n",
       "    }\n",
       "\n",
       "    .dataframe thead tr th {\n",
       "        text-align: left;\n",
       "    }\n",
       "</style>\n",
       "<table border=\"1\" class=\"dataframe\">\n",
       "  <thead>\n",
       "    <tr>\n",
       "      <th></th>\n",
       "      <th>PS4</th>\n",
       "      <th>XOne</th>\n",
       "    </tr>\n",
       "    <tr>\n",
       "      <th></th>\n",
       "      <th>worldwide_sales</th>\n",
       "      <th>worldwide_sales</th>\n",
       "    </tr>\n",
       "  </thead>\n",
       "  <tbody>\n",
       "    <tr>\n",
       "      <td>count</td>\n",
       "      <td>392.00</td>\n",
       "      <td>247.00</td>\n",
       "    </tr>\n",
       "    <tr>\n",
       "      <td>mean</td>\n",
       "      <td>0.80</td>\n",
       "      <td>0.65</td>\n",
       "    </tr>\n",
       "    <tr>\n",
       "      <td>std</td>\n",
       "      <td>1.61</td>\n",
       "      <td>1.04</td>\n",
       "    </tr>\n",
       "    <tr>\n",
       "      <td>min</td>\n",
       "      <td>0.01</td>\n",
       "      <td>0.01</td>\n",
       "    </tr>\n",
       "    <tr>\n",
       "      <td>25%</td>\n",
       "      <td>0.06</td>\n",
       "      <td>0.06</td>\n",
       "    </tr>\n",
       "    <tr>\n",
       "      <td>50%</td>\n",
       "      <td>0.20</td>\n",
       "      <td>0.22</td>\n",
       "    </tr>\n",
       "    <tr>\n",
       "      <td>75%</td>\n",
       "      <td>0.73</td>\n",
       "      <td>0.68</td>\n",
       "    </tr>\n",
       "    <tr>\n",
       "      <td>max</td>\n",
       "      <td>14.63</td>\n",
       "      <td>7.39</td>\n",
       "    </tr>\n",
       "  </tbody>\n",
       "</table>\n",
       "</div>"
      ],
      "text/plain": [
       "                  PS4            XOne\n",
       "      worldwide_sales worldwide_sales\n",
       "count          392.00          247.00\n",
       "mean             0.80            0.65\n",
       "std              1.61            1.04\n",
       "min              0.01            0.01\n",
       "25%              0.06            0.06\n",
       "50%              0.20            0.22\n",
       "75%              0.73            0.68\n",
       "max             14.63            7.39"
      ]
     },
     "execution_count": 45,
     "metadata": {},
     "output_type": "execute_result"
    }
   ],
   "source": [
    "pd.concat([actual_data[['platform','worldwide_sales']].query('platform == \"PS4\"').describe().round(2),\n",
    "          actual_data[['platform','worldwide_sales']].query('platform == \"XOne\"').describe().round(2)],\n",
    "          keys=['PS4','XOne'], axis=1)"
   ]
  },
  {
   "cell_type": "markdown",
   "metadata": {},
   "source": [
    "Основные статистические показатели подтверждают наши выводы по графикам:\n",
    "* отметки на 25%, 50% и 75% очень близки\n",
    "* средние продажи каждой игры на платформе PS4 выше\n",
    "* максимальные продажи игр на платформе PS4 значительно выше чем на XOne"
   ]
  },
  {
   "cell_type": "markdown",
   "metadata": {},
   "source": [
    "#### Оценка корреляции между рейтингом игры и ее продажами<a id=\"stage_3_analysis_correlation\"></a>"
   ]
  },
  {
   "cell_type": "markdown",
   "metadata": {},
   "source": [
    "Среди выбранных нами перспективными, наиболее популярна (если судить по продажам) PS4, проверим есть ли корреляция между рейтингами игры и ее продажами на этой платформе"
   ]
  },
  {
   "cell_type": "code",
   "execution_count": 46,
   "metadata": {},
   "outputs": [
    {
     "data": {
      "text/plain": [
       "critic_score       0.41\n",
       "user_score        -0.03\n",
       "worldwide_sales    1.00\n",
       "Name: worldwide_sales, dtype: float64"
      ]
     },
     "execution_count": 46,
     "metadata": {},
     "output_type": "execute_result"
    }
   ],
   "source": [
    "actual_data.query('platform == \"PS4\"')[['critic_score','user_score','worldwide_sales']].corr()['worldwide_sales'].round(2)"
   ]
  },
  {
   "cell_type": "markdown",
   "metadata": {},
   "source": [
    "В соответствии со шкалой Чеддока сила связи между оценкой критиков и продажами слабая, а между оценкой пользователей и продажами практически отсутствует\n",
    "\n",
    "Продемонстрируем силу связи между оценкой критиков и продажами на диаграмме рассеяния"
   ]
  },
  {
   "cell_type": "code",
   "execution_count": 47,
   "metadata": {},
   "outputs": [
    {
     "data": {
      "text/plain": [
       "Text(0.5, 0, 'Оценка критиков')"
      ]
     },
     "execution_count": 47,
     "metadata": {},
     "output_type": "execute_result"
    },
    {
     "data": {
      "image/png": "[encoded data removed]",
      "text/plain": [
       "<Figure size 432x288 with 1 Axes>"
      ]
     },
     "metadata": {
      "needs_background": "light"
     },
     "output_type": "display_data"
    }
   ],
   "source": [
    "actual_data.query('platform == \"PS4\"')[['critic_score','worldwide_sales']].\\\n",
    "            plot(kind='scatter', x='critic_score', y='worldwide_sales', \n",
    "                 title='Зависимость продаж от оценок критиков')\n",
    "plt.ylabel('Продажи, млн')\n",
    "plt.xlabel('Оценка критиков')"
   ]
  },
  {
   "cell_type": "markdown",
   "metadata": {},
   "source": [
    "Диаграмма рассеяния наглядно демонстирурет что оценка критиков имеет некоторое влияние на уровень продаж: игры с низкой оценкой (менее 50) продаются на медианном уровне или ниже, а игры с высокой оценкой могут продаться очень хорошо"
   ]
  },
  {
   "cell_type": "markdown",
   "metadata": {},
   "source": [
    "Построим также диаграмму рассеяния самой популярной платформы предыдущего поколения (X360)"
   ]
  },
  {
   "cell_type": "code",
   "execution_count": 48,
   "metadata": {},
   "outputs": [
    {
     "data": {
      "text/plain": [
       "Text(0.5, 0, 'Оценка критиков')"
      ]
     },
     "execution_count": 48,
     "metadata": {},
     "output_type": "execute_result"
    },
    {
     "data": {
      "image/png": "[encoded data removed]",
      "text/plain": [
       "<Figure size 432x288 with 1 Axes>"
      ]
     },
     "metadata": {
      "needs_background": "light"
     },
     "output_type": "display_data"
    }
   ],
   "source": [
    "actual_data.query('platform == \"X360\"')[['critic_score','worldwide_sales']].\\\n",
    "            plot(kind='scatter', x='critic_score', y='worldwide_sales', \n",
    "                 title='Зависимость продаж от оценок критиков')\n",
    "plt.ylabel('Продажи, млн')\n",
    "plt.xlabel('Оценка критиков')"
   ]
  },
  {
   "cell_type": "markdown",
   "metadata": {},
   "source": [
    "Наблюдается такая же ситуация как в и последнем поколении - оценка критиков влияет на продажи, но слабо"
   ]
  },
  {
   "cell_type": "markdown",
   "metadata": {},
   "source": [
    "#### Продажи игр в зависимости от жанра<a id=\"stage_3_analysis_genre_sales\"></a>"
   ]
  },
  {
   "cell_type": "code",
   "execution_count": 49,
   "metadata": {
    "scrolled": false
   },
   "outputs": [
    {
     "data": {
      "text/plain": [
       "Text(0, 0.5, 'Продажи, млн')"
      ]
     },
     "execution_count": 49,
     "metadata": {},
     "output_type": "execute_result"
    },
    {
     "data": {
      "image/png": "[encoded data removed]",
      "text/plain": [
       "<Figure size 432x288 with 1 Axes>"
      ]
     },
     "metadata": {
      "needs_background": "light"
     },
     "output_type": "display_data"
    }
   ],
   "source": [
    "actual_data.pivot_table(index='genre', values='worldwide_sales', aggfunc='sum').\\\n",
    "            sort_values('worldwide_sales', ascending=False).plot(kind='bar', grid=True, legend=False,\n",
    "                                                                 title='Продажи игр по жанрам')\n",
    "plt.xlabel('Жанр')\n",
    "plt.ylabel('Продажи, млн')"
   ]
  },
  {
   "cell_type": "code",
   "execution_count": 100,
   "metadata": {},
   "outputs": [
    {
     "data": {
      "text/html": [
       "<div>\n",
       "<style scoped>\n",
       "    .dataframe tbody tr th:only-of-type {\n",
       "        vertical-align: middle;\n",
       "    }\n",
       "\n",
       "    .dataframe tbody tr th {\n",
       "        vertical-align: top;\n",
       "    }\n",
       "\n",
       "    .dataframe thead tr th {\n",
       "        text-align: left;\n",
       "    }\n",
       "\n",
       "    .dataframe thead tr:last-of-type th {\n",
       "        text-align: right;\n",
       "    }\n",
       "</style>\n",
       "<table border=\"1\" class=\"dataframe\">\n",
       "  <thead>\n",
       "    <tr>\n",
       "      <th></th>\n",
       "      <th>mean</th>\n",
       "      <th>count</th>\n",
       "      <th>sum</th>\n",
       "    </tr>\n",
       "    <tr>\n",
       "      <th></th>\n",
       "      <th>worldwide_sales</th>\n",
       "      <th>worldwide_sales</th>\n",
       "      <th>worldwide_sales</th>\n",
       "    </tr>\n",
       "    <tr>\n",
       "      <th>genre</th>\n",
       "      <th></th>\n",
       "      <th></th>\n",
       "      <th></th>\n",
       "    </tr>\n",
       "  </thead>\n",
       "  <tbody>\n",
       "    <tr>\n",
       "      <td>Action</td>\n",
       "      <td>0.474667</td>\n",
       "      <td>2250</td>\n",
       "      <td>1068.00</td>\n",
       "    </tr>\n",
       "    <tr>\n",
       "      <td>Adventure</td>\n",
       "      <td>0.150475</td>\n",
       "      <td>885</td>\n",
       "      <td>133.17</td>\n",
       "    </tr>\n",
       "    <tr>\n",
       "      <td>Fighting</td>\n",
       "      <td>0.482479</td>\n",
       "      <td>355</td>\n",
       "      <td>171.28</td>\n",
       "    </tr>\n",
       "    <tr>\n",
       "      <td>Misc</td>\n",
       "      <td>0.463768</td>\n",
       "      <td>1165</td>\n",
       "      <td>540.29</td>\n",
       "    </tr>\n",
       "    <tr>\n",
       "      <td>Platform</td>\n",
       "      <td>0.888951</td>\n",
       "      <td>324</td>\n",
       "      <td>288.02</td>\n",
       "    </tr>\n",
       "    <tr>\n",
       "      <td>Puzzle</td>\n",
       "      <td>0.285013</td>\n",
       "      <td>393</td>\n",
       "      <td>112.01</td>\n",
       "    </tr>\n",
       "    <tr>\n",
       "      <td>Racing</td>\n",
       "      <td>0.601434</td>\n",
       "      <td>530</td>\n",
       "      <td>318.76</td>\n",
       "    </tr>\n",
       "    <tr>\n",
       "      <td>Role-Playing</td>\n",
       "      <td>0.540578</td>\n",
       "      <td>952</td>\n",
       "      <td>514.63</td>\n",
       "    </tr>\n",
       "    <tr>\n",
       "      <td>Shooter</td>\n",
       "      <td>0.983659</td>\n",
       "      <td>727</td>\n",
       "      <td>715.12</td>\n",
       "    </tr>\n",
       "    <tr>\n",
       "      <td>Simulation</td>\n",
       "      <td>0.426784</td>\n",
       "      <td>597</td>\n",
       "      <td>254.79</td>\n",
       "    </tr>\n",
       "    <tr>\n",
       "      <td>Sports</td>\n",
       "      <td>0.642502</td>\n",
       "      <td>1139</td>\n",
       "      <td>731.81</td>\n",
       "    </tr>\n",
       "    <tr>\n",
       "      <td>Strategy</td>\n",
       "      <td>0.188769</td>\n",
       "      <td>390</td>\n",
       "      <td>73.62</td>\n",
       "    </tr>\n",
       "  </tbody>\n",
       "</table>\n",
       "</div>"
      ],
      "text/plain": [
       "                        mean           count             sum\n",
       "             worldwide_sales worldwide_sales worldwide_sales\n",
       "genre                                                       \n",
       "Action              0.474667            2250         1068.00\n",
       "Adventure           0.150475             885          133.17\n",
       "Fighting            0.482479             355          171.28\n",
       "Misc                0.463768            1165          540.29\n",
       "Platform            0.888951             324          288.02\n",
       "Puzzle              0.285013             393          112.01\n",
       "Racing              0.601434             530          318.76\n",
       "Role-Playing        0.540578             952          514.63\n",
       "Shooter             0.983659             727          715.12\n",
       "Simulation          0.426784             597          254.79\n",
       "Sports              0.642502            1139          731.81\n",
       "Strategy            0.188769             390           73.62"
      ]
     },
     "execution_count": 100,
     "metadata": {},
     "output_type": "execute_result"
    }
   ],
   "source": [
    "actual_data.pivot_table(index='genre', values='worldwide_sales', aggfunc=['mean','count','sum'])"
   ]
  },
  {
   "cell_type": "markdown",
   "metadata": {},
   "source": [
    "С большим отрывом лидирует жанр Action, следом, практически наравне идут продажи игр жанров Sports и Shooter, также в пятерке лидеров по продажам присутствуют игры неопределенных жанров (Misc) и РПГ (Role-Playing)\n",
    "\n",
    "Игры жанров Adventure, Puzzle и Strategy замыкают рейтинг, при этом игры жанра Strategy продаются более чем в 10 раз хуже чем игры жанра Action"
   ]
  },
  {
   "cell_type": "markdown",
   "metadata": {},
   "source": [
    "## Вывод <a id=\"stage_3_summary\"></a>\n",
    "\n",
    "Прежде чем анализировать данные мы должны были определить актуальный период и платформы для анализа, для этого мы сделали следющее:\n",
    "1. Построили график распределения выпуска игр по годам и увидели падение после 2010 года\n",
    "2. Построили сводную таблицу и уточнили год начала падения - 2012\n",
    "3. Построили таблицу в которую для каждой игровой платформы отобразили год появления первой игры и таким образом выяснили что выпуск новых игровых платформ произошел в 2004-2006 и 2011-2013 годах, это и объянило падение выпуска игр. Мы определили два этих выпуска как предыдущее и последнее поколения\n",
    "4. Далее мы построили графики распределения продаж игр по годам для популярных платформ (среди этих графиков оказались только платформы предыдущего поколения в связи с тем что они находятся на рынке гораздо дольше чем платформы последнего поколения), анализ этих графиков показал что в среднем жизненный цикл консоли длится около 10 лет и то что при смене поколения продажи на предыдущем поколении не прекращаются, но с каждым годом снижаются.\n",
    "\n",
    "Таким образом мы сделали вывод что что актуальным периодом для анализа будет период начиная с 2004 года но только по платформам которые были выпущены начиная с этого года\n",
    "\n",
    "Далее мы провели анализ данных и пришли к следующим выводам:\n",
    "\n",
    "* Перспективными платформами в 2017 году мы считаем PS4 и XOne в связи с тем что на графиках продаж игр по годам продажи на этих платформах растут\n",
    "* Анализ продаж игр по всем платформам показал что в среднем суммарные продажи игр редко превышают 1 млн, однако присутствуют и выдающиеся результаты - игры которые продались более чем на 10 млн, всего таких игр 42 на обоих поколениях\n",
    "* Подробный анализ продаж на перспективных платформах (PS4 и XOne) показал что отметки на 25%, 50% и 75% очень близки но средние и максимальные продажи игр на платформе PS4 выше чем на XOne, в целом игры на PS4 продаются лучше чем на XOne\n",
    "* Оценка силы связи между оценками игроков и критиков с продажами игр на самой популярной платформе в последнем поколении (PS4) показала что сила связи между оценкой критиков и продажами слабая, а между оценкой пользователей и продажами практически отсутствует\n",
    "* После анализа продаж игр по жанрам мы сделали вывод о том, что с большим отрывом лидирует жанр Action, следом, практически наравне идут продажи игр жанров Sports и Shooter, а замыкают рейтинг игры жанров Adventure, Puzzle и Strategy, при этом игры жанра Strategy продаются в 14 раз хуже чем игры жанра Action"
   ]
  },
  {
   "cell_type": "markdown",
   "metadata": {},
   "source": [
    "# Этап 4 - Предпочтения игроков из разных регионов<a id=\"stage_4\"></a>"
   ]
  },
  {
   "cell_type": "markdown",
   "metadata": {},
   "source": [
    "### Предпочитаемая платформа<a id=\"stage_4_platform\"></a>"
   ]
  },
  {
   "cell_type": "markdown",
   "metadata": {},
   "source": [
    "Построим сводные таблицы в разрезе поколений по каждому региону и определим самые популярные платформы в каждом"
   ]
  },
  {
   "cell_type": "markdown",
   "metadata": {},
   "source": [
    "Определим специальную функцию `top_games` которая на вход будет принимать регион по которому считать продажи а на выход будет выдавать отсортированную таблицу с продажами по каждой платформе и долями занимаемыми на рынке"
   ]
  },
  {
   "cell_type": "code",
   "execution_count": 50,
   "metadata": {},
   "outputs": [],
   "source": [
    "def top_platform(region_sales):\n",
    "    \n",
    "    top_games = actual_data.pivot_table(index=['generation','platform'], values=region_sales, aggfunc='sum').\\\n",
    "                     sort_values(['generation',region_sales], ascending=False).reset_index()\n",
    "    top_games.loc[top_games['generation'] == 'previous', '%'] = round(top_games[region_sales] / top_games.query('generation == \"previous\"')[region_sales].sum() * 100, 2)\n",
    "    top_games.loc[top_games['generation'] == 'last', '%'] = round(top_games[region_sales] / top_games.query('generation == \"last\"')[region_sales].sum() * 100, 2)\n",
    "    \n",
    "    return top_games"
   ]
  },
  {
   "cell_type": "markdown",
   "metadata": {},
   "source": [
    "#### Северная Америка"
   ]
  },
  {
   "cell_type": "code",
   "execution_count": 51,
   "metadata": {},
   "outputs": [
    {
     "data": {
      "text/html": [
       "<div>\n",
       "<style scoped>\n",
       "    .dataframe tbody tr th:only-of-type {\n",
       "        vertical-align: middle;\n",
       "    }\n",
       "\n",
       "    .dataframe tbody tr th {\n",
       "        vertical-align: top;\n",
       "    }\n",
       "\n",
       "    .dataframe thead th {\n",
       "        text-align: right;\n",
       "    }\n",
       "</style>\n",
       "<table border=\"1\" class=\"dataframe\">\n",
       "  <thead>\n",
       "    <tr style=\"text-align: right;\">\n",
       "      <th></th>\n",
       "      <th>generation</th>\n",
       "      <th>platform</th>\n",
       "      <th>na_sales</th>\n",
       "      <th>%</th>\n",
       "    </tr>\n",
       "  </thead>\n",
       "  <tbody>\n",
       "    <tr>\n",
       "      <td>0</td>\n",
       "      <td>previous</td>\n",
       "      <td>X360</td>\n",
       "      <td>595.74</td>\n",
       "      <td>30.11</td>\n",
       "    </tr>\n",
       "    <tr>\n",
       "      <td>1</td>\n",
       "      <td>previous</td>\n",
       "      <td>Wii</td>\n",
       "      <td>486.87</td>\n",
       "      <td>24.60</td>\n",
       "    </tr>\n",
       "    <tr>\n",
       "      <td>2</td>\n",
       "      <td>previous</td>\n",
       "      <td>PS3</td>\n",
       "      <td>390.13</td>\n",
       "      <td>19.72</td>\n",
       "    </tr>\n",
       "    <tr>\n",
       "      <td>3</td>\n",
       "      <td>previous</td>\n",
       "      <td>DS</td>\n",
       "      <td>380.31</td>\n",
       "      <td>19.22</td>\n",
       "    </tr>\n",
       "    <tr>\n",
       "      <td>4</td>\n",
       "      <td>previous</td>\n",
       "      <td>PSP</td>\n",
       "      <td>107.27</td>\n",
       "      <td>5.42</td>\n",
       "    </tr>\n",
       "    <tr>\n",
       "      <td>5</td>\n",
       "      <td>previous</td>\n",
       "      <td>PC</td>\n",
       "      <td>18.50</td>\n",
       "      <td>0.93</td>\n",
       "    </tr>\n",
       "    <tr>\n",
       "      <td>6</td>\n",
       "      <td>last</td>\n",
       "      <td>PS4</td>\n",
       "      <td>108.74</td>\n",
       "      <td>29.80</td>\n",
       "    </tr>\n",
       "    <tr>\n",
       "      <td>7</td>\n",
       "      <td>last</td>\n",
       "      <td>XOne</td>\n",
       "      <td>93.12</td>\n",
       "      <td>25.52</td>\n",
       "    </tr>\n",
       "    <tr>\n",
       "      <td>8</td>\n",
       "      <td>last</td>\n",
       "      <td>3DS</td>\n",
       "      <td>82.65</td>\n",
       "      <td>22.65</td>\n",
       "    </tr>\n",
       "    <tr>\n",
       "      <td>9</td>\n",
       "      <td>last</td>\n",
       "      <td>WiiU</td>\n",
       "      <td>38.10</td>\n",
       "      <td>10.44</td>\n",
       "    </tr>\n",
       "    <tr>\n",
       "      <td>10</td>\n",
       "      <td>last</td>\n",
       "      <td>PC</td>\n",
       "      <td>29.88</td>\n",
       "      <td>8.19</td>\n",
       "    </tr>\n",
       "    <tr>\n",
       "      <td>11</td>\n",
       "      <td>last</td>\n",
       "      <td>PSV</td>\n",
       "      <td>12.47</td>\n",
       "      <td>3.42</td>\n",
       "    </tr>\n",
       "  </tbody>\n",
       "</table>\n",
       "</div>"
      ],
      "text/plain": [
       "   generation platform  na_sales      %\n",
       "0    previous     X360    595.74  30.11\n",
       "1    previous      Wii    486.87  24.60\n",
       "2    previous      PS3    390.13  19.72\n",
       "3    previous       DS    380.31  19.22\n",
       "4    previous      PSP    107.27   5.42\n",
       "5    previous       PC     18.50   0.93\n",
       "6        last      PS4    108.74  29.80\n",
       "7        last     XOne     93.12  25.52\n",
       "8        last      3DS     82.65  22.65\n",
       "9        last     WiiU     38.10  10.44\n",
       "10       last       PC     29.88   8.19\n",
       "11       last      PSV     12.47   3.42"
      ]
     },
     "execution_count": 51,
     "metadata": {},
     "output_type": "execute_result"
    }
   ],
   "source": [
    "top_platform('na_sales')"
   ]
  },
  {
   "cell_type": "markdown",
   "metadata": {},
   "source": [
    "На предыдущем поколении (2004-2011) годы лидировала платформа компании Microsoft X360 (30% рынка), следом шла платформа Nintendo Wii (25%), а платформа от компании Sony PS3 (20%) делила третье место по популярности с портативной платформой от Nintendo - DS (19%)\n",
    "\n",
    "В последнем поколении компании Microsoft и Sony поменялись местами: платформа от Sony (PS4) вырвалась вперед и заняла 30% рынка в то время как платформа от Microsoft (XOne) отстает и занимает 25% рынка. Преемница домашней платформы Wii от компании Nintendo (WiiU) занимает только 10% рынка, в то время как портативная консоль от той же компании (3DS) несколько увеличила долю рынка с 19% (DS) до 23% (3DS)"
   ]
  },
  {
   "cell_type": "markdown",
   "metadata": {},
   "source": [
    "#### Европа"
   ]
  },
  {
   "cell_type": "code",
   "execution_count": 52,
   "metadata": {
    "scrolled": false
   },
   "outputs": [
    {
     "data": {
      "text/html": [
       "<div>\n",
       "<style scoped>\n",
       "    .dataframe tbody tr th:only-of-type {\n",
       "        vertical-align: middle;\n",
       "    }\n",
       "\n",
       "    .dataframe tbody tr th {\n",
       "        vertical-align: top;\n",
       "    }\n",
       "\n",
       "    .dataframe thead th {\n",
       "        text-align: right;\n",
       "    }\n",
       "</style>\n",
       "<table border=\"1\" class=\"dataframe\">\n",
       "  <thead>\n",
       "    <tr style=\"text-align: right;\">\n",
       "      <th></th>\n",
       "      <th>generation</th>\n",
       "      <th>platform</th>\n",
       "      <th>eu_sales</th>\n",
       "      <th>%</th>\n",
       "    </tr>\n",
       "  </thead>\n",
       "  <tbody>\n",
       "    <tr>\n",
       "      <td>0</td>\n",
       "      <td>previous</td>\n",
       "      <td>PS3</td>\n",
       "      <td>327.21</td>\n",
       "      <td>28.17</td>\n",
       "    </tr>\n",
       "    <tr>\n",
       "      <td>1</td>\n",
       "      <td>previous</td>\n",
       "      <td>X360</td>\n",
       "      <td>268.32</td>\n",
       "      <td>23.10</td>\n",
       "    </tr>\n",
       "    <tr>\n",
       "      <td>2</td>\n",
       "      <td>previous</td>\n",
       "      <td>Wii</td>\n",
       "      <td>258.32</td>\n",
       "      <td>22.24</td>\n",
       "    </tr>\n",
       "    <tr>\n",
       "      <td>3</td>\n",
       "      <td>previous</td>\n",
       "      <td>DS</td>\n",
       "      <td>188.41</td>\n",
       "      <td>16.22</td>\n",
       "    </tr>\n",
       "    <tr>\n",
       "      <td>4</td>\n",
       "      <td>previous</td>\n",
       "      <td>PSP</td>\n",
       "      <td>65.62</td>\n",
       "      <td>5.65</td>\n",
       "    </tr>\n",
       "    <tr>\n",
       "      <td>5</td>\n",
       "      <td>previous</td>\n",
       "      <td>PC</td>\n",
       "      <td>53.85</td>\n",
       "      <td>4.64</td>\n",
       "    </tr>\n",
       "    <tr>\n",
       "      <td>6</td>\n",
       "      <td>last</td>\n",
       "      <td>PS4</td>\n",
       "      <td>141.09</td>\n",
       "      <td>40.44</td>\n",
       "    </tr>\n",
       "    <tr>\n",
       "      <td>7</td>\n",
       "      <td>last</td>\n",
       "      <td>3DS</td>\n",
       "      <td>61.27</td>\n",
       "      <td>17.56</td>\n",
       "    </tr>\n",
       "    <tr>\n",
       "      <td>8</td>\n",
       "      <td>last</td>\n",
       "      <td>PC</td>\n",
       "      <td>56.70</td>\n",
       "      <td>16.25</td>\n",
       "    </tr>\n",
       "    <tr>\n",
       "      <td>9</td>\n",
       "      <td>last</td>\n",
       "      <td>XOne</td>\n",
       "      <td>51.59</td>\n",
       "      <td>14.79</td>\n",
       "    </tr>\n",
       "    <tr>\n",
       "      <td>10</td>\n",
       "      <td>last</td>\n",
       "      <td>WiiU</td>\n",
       "      <td>25.13</td>\n",
       "      <td>7.20</td>\n",
       "    </tr>\n",
       "    <tr>\n",
       "      <td>11</td>\n",
       "      <td>last</td>\n",
       "      <td>PSV</td>\n",
       "      <td>13.07</td>\n",
       "      <td>3.75</td>\n",
       "    </tr>\n",
       "  </tbody>\n",
       "</table>\n",
       "</div>"
      ],
      "text/plain": [
       "   generation platform  eu_sales      %\n",
       "0    previous      PS3    327.21  28.17\n",
       "1    previous     X360    268.32  23.10\n",
       "2    previous      Wii    258.32  22.24\n",
       "3    previous       DS    188.41  16.22\n",
       "4    previous      PSP     65.62   5.65\n",
       "5    previous       PC     53.85   4.64\n",
       "6        last      PS4    141.09  40.44\n",
       "7        last      3DS     61.27  17.56\n",
       "8        last       PC     56.70  16.25\n",
       "9        last     XOne     51.59  14.79\n",
       "10       last     WiiU     25.13   7.20\n",
       "11       last      PSV     13.07   3.75"
      ]
     },
     "execution_count": 52,
     "metadata": {},
     "output_type": "execute_result"
    }
   ],
   "source": [
    "top_platform('eu_sales')"
   ]
  },
  {
   "cell_type": "markdown",
   "metadata": {},
   "source": [
    "Расклад сил на европейском рынке во время предыдущего поколения был следующим:\n",
    "28% Sony и ее PS3, 23% X360 от Microsoft, домашняя платформа от Nintendo Wii занимала 22% рынка, а портативная DS 16%\n",
    "\n",
    "После выхода последнего поколения Sony резко вырвалась вперед и заняла 40% рынка своей консолью PS4, Microsoft (XOne) откатилась на четвертое место и занимает теперь только 15% рынка, портативная платформа от Nintendo 3DS поднялась на второе место но сохраняет прежнюю долю рынка (16%). На третьем месте по полуярности оказалась платформа PC (персональный компьютер) ее доля на рынке выросла с 5% до 16%."
   ]
  },
  {
   "cell_type": "markdown",
   "metadata": {},
   "source": [
    "#### Япония"
   ]
  },
  {
   "cell_type": "code",
   "execution_count": 53,
   "metadata": {},
   "outputs": [
    {
     "data": {
      "text/html": [
       "<div>\n",
       "<style scoped>\n",
       "    .dataframe tbody tr th:only-of-type {\n",
       "        vertical-align: middle;\n",
       "    }\n",
       "\n",
       "    .dataframe tbody tr th {\n",
       "        vertical-align: top;\n",
       "    }\n",
       "\n",
       "    .dataframe thead th {\n",
       "        text-align: right;\n",
       "    }\n",
       "</style>\n",
       "<table border=\"1\" class=\"dataframe\">\n",
       "  <thead>\n",
       "    <tr style=\"text-align: right;\">\n",
       "      <th></th>\n",
       "      <th>generation</th>\n",
       "      <th>platform</th>\n",
       "      <th>jp_sales</th>\n",
       "      <th>%</th>\n",
       "    </tr>\n",
       "  </thead>\n",
       "  <tbody>\n",
       "    <tr>\n",
       "      <td>0</td>\n",
       "      <td>previous</td>\n",
       "      <td>DS</td>\n",
       "      <td>175.00</td>\n",
       "      <td>42.58</td>\n",
       "    </tr>\n",
       "    <tr>\n",
       "      <td>1</td>\n",
       "      <td>previous</td>\n",
       "      <td>PS3</td>\n",
       "      <td>79.41</td>\n",
       "      <td>19.32</td>\n",
       "    </tr>\n",
       "    <tr>\n",
       "      <td>2</td>\n",
       "      <td>previous</td>\n",
       "      <td>PSP</td>\n",
       "      <td>75.88</td>\n",
       "      <td>18.46</td>\n",
       "    </tr>\n",
       "    <tr>\n",
       "      <td>3</td>\n",
       "      <td>previous</td>\n",
       "      <td>Wii</td>\n",
       "      <td>68.28</td>\n",
       "      <td>16.62</td>\n",
       "    </tr>\n",
       "    <tr>\n",
       "      <td>4</td>\n",
       "      <td>previous</td>\n",
       "      <td>X360</td>\n",
       "      <td>12.30</td>\n",
       "      <td>2.99</td>\n",
       "    </tr>\n",
       "    <tr>\n",
       "      <td>5</td>\n",
       "      <td>previous</td>\n",
       "      <td>PC</td>\n",
       "      <td>0.08</td>\n",
       "      <td>0.02</td>\n",
       "    </tr>\n",
       "    <tr>\n",
       "      <td>6</td>\n",
       "      <td>last</td>\n",
       "      <td>3DS</td>\n",
       "      <td>100.62</td>\n",
       "      <td>66.30</td>\n",
       "    </tr>\n",
       "    <tr>\n",
       "      <td>7</td>\n",
       "      <td>last</td>\n",
       "      <td>PSV</td>\n",
       "      <td>21.84</td>\n",
       "      <td>14.39</td>\n",
       "    </tr>\n",
       "    <tr>\n",
       "      <td>8</td>\n",
       "      <td>last</td>\n",
       "      <td>PS4</td>\n",
       "      <td>15.96</td>\n",
       "      <td>10.52</td>\n",
       "    </tr>\n",
       "    <tr>\n",
       "      <td>9</td>\n",
       "      <td>last</td>\n",
       "      <td>WiiU</td>\n",
       "      <td>13.01</td>\n",
       "      <td>8.57</td>\n",
       "    </tr>\n",
       "    <tr>\n",
       "      <td>10</td>\n",
       "      <td>last</td>\n",
       "      <td>XOne</td>\n",
       "      <td>0.34</td>\n",
       "      <td>0.22</td>\n",
       "    </tr>\n",
       "    <tr>\n",
       "      <td>11</td>\n",
       "      <td>last</td>\n",
       "      <td>PC</td>\n",
       "      <td>0.00</td>\n",
       "      <td>0.00</td>\n",
       "    </tr>\n",
       "  </tbody>\n",
       "</table>\n",
       "</div>"
      ],
      "text/plain": [
       "   generation platform  jp_sales      %\n",
       "0    previous       DS    175.00  42.58\n",
       "1    previous      PS3     79.41  19.32\n",
       "2    previous      PSP     75.88  18.46\n",
       "3    previous      Wii     68.28  16.62\n",
       "4    previous     X360     12.30   2.99\n",
       "5    previous       PC      0.08   0.02\n",
       "6        last      3DS    100.62  66.30\n",
       "7        last      PSV     21.84  14.39\n",
       "8        last      PS4     15.96  10.52\n",
       "9        last     WiiU     13.01   8.57\n",
       "10       last     XOne      0.34   0.22\n",
       "11       last       PC      0.00   0.00"
      ]
     },
     "execution_count": 53,
     "metadata": {},
     "output_type": "execute_result"
    }
   ],
   "source": [
    "top_platform('jp_sales')"
   ]
  },
  {
   "cell_type": "markdown",
   "metadata": {},
   "source": [
    "Японский рынок игровых платформ очень сильно отличается от Американского и Европейского, оба поколения лидерство сохраняют именно портативные платформы:\n",
    "\n",
    "Nintendo DS занимала 43% рынка в прошлом поколении а Nintendo 3DS 66% в последнем поколении. \n",
    "\n",
    "На втором месте в прошлом поколении распологалась домашная платформа от Sony (PS3) с долей рынка 19%, в последнем поколении второе место занимает портативная платформа Sony PSV (14%), третье место по доле рынка отзеркалено: в предыдущем поколении портативная платформа Sony PSP (18%) в последнем поколении домашная домашная платформа от Sony PS4 (10%).\n",
    "\n",
    "Консоли от Microsoft оба поколения представлены очень слабо 3 и 0,2% на предыдущем и последних поколениях соотвественно"
   ]
  },
  {
   "cell_type": "markdown",
   "metadata": {},
   "source": [
    "### Предпочитаемые жанры<a id=\"stage_4_genre\"></a>"
   ]
  },
  {
   "cell_type": "markdown",
   "metadata": {},
   "source": [
    "Построим сводные таблицы, для этого определим функцию `top_misc` которая на вход принимаем название столбца по ктороому необходимо группировать данные и регион продаж для вывода, а на выходе формирует Топ5 по запрашиваемым данным"
   ]
  },
  {
   "cell_type": "code",
   "execution_count": 54,
   "metadata": {},
   "outputs": [],
   "source": [
    "def top_misc(index, region_sales):\n",
    "    top = actual_data.pivot_table(index=index, values=region_sales, aggfunc='sum').\\\n",
    "                      sort_values(region_sales, ascending=False).head()\n",
    "    top['%'] = round(top[region_sales] / top[region_sales].sum() * 100, 2)\n",
    "    return top"
   ]
  },
  {
   "cell_type": "markdown",
   "metadata": {},
   "source": [
    "#### Северная Америка"
   ]
  },
  {
   "cell_type": "code",
   "execution_count": 55,
   "metadata": {},
   "outputs": [
    {
     "data": {
      "text/html": [
       "<div>\n",
       "<style scoped>\n",
       "    .dataframe tbody tr th:only-of-type {\n",
       "        vertical-align: middle;\n",
       "    }\n",
       "\n",
       "    .dataframe tbody tr th {\n",
       "        vertical-align: top;\n",
       "    }\n",
       "\n",
       "    .dataframe thead th {\n",
       "        text-align: right;\n",
       "    }\n",
       "</style>\n",
       "<table border=\"1\" class=\"dataframe\">\n",
       "  <thead>\n",
       "    <tr style=\"text-align: right;\">\n",
       "      <th></th>\n",
       "      <th>na_sales</th>\n",
       "      <th>%</th>\n",
       "    </tr>\n",
       "    <tr>\n",
       "      <th>genre</th>\n",
       "      <th></th>\n",
       "      <th></th>\n",
       "    </tr>\n",
       "  </thead>\n",
       "  <tbody>\n",
       "    <tr>\n",
       "      <td>Action</td>\n",
       "      <td>505.12</td>\n",
       "      <td>29.34</td>\n",
       "    </tr>\n",
       "    <tr>\n",
       "      <td>Shooter</td>\n",
       "      <td>374.12</td>\n",
       "      <td>21.73</td>\n",
       "    </tr>\n",
       "    <tr>\n",
       "      <td>Sports</td>\n",
       "      <td>369.61</td>\n",
       "      <td>21.47</td>\n",
       "    </tr>\n",
       "    <tr>\n",
       "      <td>Misc</td>\n",
       "      <td>276.29</td>\n",
       "      <td>16.05</td>\n",
       "    </tr>\n",
       "    <tr>\n",
       "      <td>Role-Playing</td>\n",
       "      <td>196.21</td>\n",
       "      <td>11.40</td>\n",
       "    </tr>\n",
       "  </tbody>\n",
       "</table>\n",
       "</div>"
      ],
      "text/plain": [
       "              na_sales      %\n",
       "genre                        \n",
       "Action          505.12  29.34\n",
       "Shooter         374.12  21.73\n",
       "Sports          369.61  21.47\n",
       "Misc            276.29  16.05\n",
       "Role-Playing    196.21  11.40"
      ]
     },
     "execution_count": 55,
     "metadata": {},
     "output_type": "execute_result"
    }
   ],
   "source": [
    "top_misc('genre', 'na_sales')"
   ]
  },
  {
   "cell_type": "markdown",
   "metadata": {},
   "source": [
    "Игроки из этого региона предпочитают игры жанра Action, второе место делят между собой игры Shooter и Sports"
   ]
  },
  {
   "cell_type": "markdown",
   "metadata": {},
   "source": [
    "#### Европа"
   ]
  },
  {
   "cell_type": "code",
   "execution_count": 56,
   "metadata": {},
   "outputs": [
    {
     "data": {
      "text/html": [
       "<div>\n",
       "<style scoped>\n",
       "    .dataframe tbody tr th:only-of-type {\n",
       "        vertical-align: middle;\n",
       "    }\n",
       "\n",
       "    .dataframe tbody tr th {\n",
       "        vertical-align: top;\n",
       "    }\n",
       "\n",
       "    .dataframe thead th {\n",
       "        text-align: right;\n",
       "    }\n",
       "</style>\n",
       "<table border=\"1\" class=\"dataframe\">\n",
       "  <thead>\n",
       "    <tr style=\"text-align: right;\">\n",
       "      <th></th>\n",
       "      <th>eu_sales</th>\n",
       "      <th>%</th>\n",
       "    </tr>\n",
       "    <tr>\n",
       "      <th>genre</th>\n",
       "      <th></th>\n",
       "      <th></th>\n",
       "    </tr>\n",
       "  </thead>\n",
       "  <tbody>\n",
       "    <tr>\n",
       "      <td>Action</td>\n",
       "      <td>343.88</td>\n",
       "      <td>31.47</td>\n",
       "    </tr>\n",
       "    <tr>\n",
       "      <td>Sports</td>\n",
       "      <td>241.40</td>\n",
       "      <td>22.09</td>\n",
       "    </tr>\n",
       "    <tr>\n",
       "      <td>Shooter</td>\n",
       "      <td>238.60</td>\n",
       "      <td>21.83</td>\n",
       "    </tr>\n",
       "    <tr>\n",
       "      <td>Misc</td>\n",
       "      <td>147.75</td>\n",
       "      <td>13.52</td>\n",
       "    </tr>\n",
       "    <tr>\n",
       "      <td>Racing</td>\n",
       "      <td>121.21</td>\n",
       "      <td>11.09</td>\n",
       "    </tr>\n",
       "  </tbody>\n",
       "</table>\n",
       "</div>"
      ],
      "text/plain": [
       "         eu_sales      %\n",
       "genre                   \n",
       "Action     343.88  31.47\n",
       "Sports     241.40  22.09\n",
       "Shooter    238.60  21.83\n",
       "Misc       147.75  13.52\n",
       "Racing     121.21  11.09"
      ]
     },
     "execution_count": 56,
     "metadata": {},
     "output_type": "execute_result"
    }
   ],
   "source": [
    "top_misc('genre', 'eu_sales')"
   ]
  },
  {
   "cell_type": "markdown",
   "metadata": {},
   "source": [
    "Предпочтения в жанрах игроков из Европы совпадают с предпочтениями игроков из Северной Америки, разница только в последних жанрах из Топ5 - в Северной Америке там расположились игры жанра Role-Playing а в Европе игры жанра Racing"
   ]
  },
  {
   "cell_type": "markdown",
   "metadata": {},
   "source": [
    "#### Япония"
   ]
  },
  {
   "cell_type": "code",
   "execution_count": 57,
   "metadata": {},
   "outputs": [
    {
     "data": {
      "text/html": [
       "<div>\n",
       "<style scoped>\n",
       "    .dataframe tbody tr th:only-of-type {\n",
       "        vertical-align: middle;\n",
       "    }\n",
       "\n",
       "    .dataframe tbody tr th {\n",
       "        vertical-align: top;\n",
       "    }\n",
       "\n",
       "    .dataframe thead th {\n",
       "        text-align: right;\n",
       "    }\n",
       "</style>\n",
       "<table border=\"1\" class=\"dataframe\">\n",
       "  <thead>\n",
       "    <tr style=\"text-align: right;\">\n",
       "      <th></th>\n",
       "      <th>jp_sales</th>\n",
       "      <th>%</th>\n",
       "    </tr>\n",
       "    <tr>\n",
       "      <th>genre</th>\n",
       "      <th></th>\n",
       "      <th></th>\n",
       "    </tr>\n",
       "  </thead>\n",
       "  <tbody>\n",
       "    <tr>\n",
       "      <td>Role-Playing</td>\n",
       "      <td>164.29</td>\n",
       "      <td>39.91</td>\n",
       "    </tr>\n",
       "    <tr>\n",
       "      <td>Action</td>\n",
       "      <td>97.82</td>\n",
       "      <td>23.76</td>\n",
       "    </tr>\n",
       "    <tr>\n",
       "      <td>Misc</td>\n",
       "      <td>69.36</td>\n",
       "      <td>16.85</td>\n",
       "    </tr>\n",
       "    <tr>\n",
       "      <td>Sports</td>\n",
       "      <td>42.85</td>\n",
       "      <td>10.41</td>\n",
       "    </tr>\n",
       "    <tr>\n",
       "      <td>Platform</td>\n",
       "      <td>37.38</td>\n",
       "      <td>9.08</td>\n",
       "    </tr>\n",
       "  </tbody>\n",
       "</table>\n",
       "</div>"
      ],
      "text/plain": [
       "              jp_sales      %\n",
       "genre                        \n",
       "Role-Playing    164.29  39.91\n",
       "Action           97.82  23.76\n",
       "Misc             69.36  16.85\n",
       "Sports           42.85  10.41\n",
       "Platform         37.38   9.08"
      ]
     },
     "execution_count": 57,
     "metadata": {},
     "output_type": "execute_result"
    }
   ],
   "source": [
    "top_misc('genre', 'jp_sales')"
   ]
  },
  {
   "cell_type": "markdown",
   "metadata": {},
   "source": [
    "Предпочтения японских игроков снова отличаются от остального мира, на первом месте Топ5, с отрывом почти в два раза, у них располагаются игры жанра Role-Playing, на втором месте игры жанра Action, на третьем месте игры неопределеноого жанра."
   ]
  },
  {
   "cell_type": "markdown",
   "metadata": {},
   "source": [
    "### Влияние рейтинга ESRB на продажи<a id=\"stage_4_ESRB\"></a>"
   ]
  },
  {
   "cell_type": "markdown",
   "metadata": {},
   "source": [
    "#### Северная Америка"
   ]
  },
  {
   "cell_type": "code",
   "execution_count": 58,
   "metadata": {},
   "outputs": [
    {
     "data": {
      "text/html": [
       "<div>\n",
       "<style scoped>\n",
       "    .dataframe tbody tr th:only-of-type {\n",
       "        vertical-align: middle;\n",
       "    }\n",
       "\n",
       "    .dataframe tbody tr th {\n",
       "        vertical-align: top;\n",
       "    }\n",
       "\n",
       "    .dataframe thead th {\n",
       "        text-align: right;\n",
       "    }\n",
       "</style>\n",
       "<table border=\"1\" class=\"dataframe\">\n",
       "  <thead>\n",
       "    <tr style=\"text-align: right;\">\n",
       "      <th></th>\n",
       "      <th>na_sales</th>\n",
       "      <th>%</th>\n",
       "    </tr>\n",
       "    <tr>\n",
       "      <th>rating</th>\n",
       "      <th></th>\n",
       "      <th></th>\n",
       "    </tr>\n",
       "  </thead>\n",
       "  <tbody>\n",
       "    <tr>\n",
       "      <td>E</td>\n",
       "      <td>795.88</td>\n",
       "      <td>38.58</td>\n",
       "    </tr>\n",
       "    <tr>\n",
       "      <td>M</td>\n",
       "      <td>569.40</td>\n",
       "      <td>27.60</td>\n",
       "    </tr>\n",
       "    <tr>\n",
       "      <td>T</td>\n",
       "      <td>397.78</td>\n",
       "      <td>19.28</td>\n",
       "    </tr>\n",
       "    <tr>\n",
       "      <td>E10+</td>\n",
       "      <td>298.77</td>\n",
       "      <td>14.48</td>\n",
       "    </tr>\n",
       "    <tr>\n",
       "      <td>EC</td>\n",
       "      <td>1.32</td>\n",
       "      <td>0.06</td>\n",
       "    </tr>\n",
       "  </tbody>\n",
       "</table>\n",
       "</div>"
      ],
      "text/plain": [
       "        na_sales      %\n",
       "rating                 \n",
       "E         795.88  38.58\n",
       "M         569.40  27.60\n",
       "T         397.78  19.28\n",
       "E10+      298.77  14.48\n",
       "EC          1.32   0.06"
      ]
     },
     "execution_count": 58,
     "metadata": {},
     "output_type": "execute_result"
    }
   ],
   "source": [
    "top_misc('rating', 'na_sales')"
   ]
  },
  {
   "cell_type": "markdown",
   "metadata": {},
   "source": [
    "#### Европа"
   ]
  },
  {
   "cell_type": "code",
   "execution_count": 59,
   "metadata": {},
   "outputs": [
    {
     "data": {
      "text/html": [
       "<div>\n",
       "<style scoped>\n",
       "    .dataframe tbody tr th:only-of-type {\n",
       "        vertical-align: middle;\n",
       "    }\n",
       "\n",
       "    .dataframe tbody tr th {\n",
       "        vertical-align: top;\n",
       "    }\n",
       "\n",
       "    .dataframe thead th {\n",
       "        text-align: right;\n",
       "    }\n",
       "</style>\n",
       "<table border=\"1\" class=\"dataframe\">\n",
       "  <thead>\n",
       "    <tr style=\"text-align: right;\">\n",
       "      <th></th>\n",
       "      <th>eu_sales</th>\n",
       "      <th>%</th>\n",
       "    </tr>\n",
       "    <tr>\n",
       "      <th>rating</th>\n",
       "      <th></th>\n",
       "      <th></th>\n",
       "    </tr>\n",
       "  </thead>\n",
       "  <tbody>\n",
       "    <tr>\n",
       "      <td>E</td>\n",
       "      <td>480.16</td>\n",
       "      <td>37.51</td>\n",
       "    </tr>\n",
       "    <tr>\n",
       "      <td>M</td>\n",
       "      <td>399.14</td>\n",
       "      <td>31.18</td>\n",
       "    </tr>\n",
       "    <tr>\n",
       "      <td>T</td>\n",
       "      <td>234.33</td>\n",
       "      <td>18.31</td>\n",
       "    </tr>\n",
       "    <tr>\n",
       "      <td>E10+</td>\n",
       "      <td>166.33</td>\n",
       "      <td>12.99</td>\n",
       "    </tr>\n",
       "    <tr>\n",
       "      <td>RP</td>\n",
       "      <td>0.03</td>\n",
       "      <td>0.00</td>\n",
       "    </tr>\n",
       "  </tbody>\n",
       "</table>\n",
       "</div>"
      ],
      "text/plain": [
       "        eu_sales      %\n",
       "rating                 \n",
       "E         480.16  37.51\n",
       "M         399.14  31.18\n",
       "T         234.33  18.31\n",
       "E10+      166.33  12.99\n",
       "RP          0.03   0.00"
      ]
     },
     "execution_count": 59,
     "metadata": {},
     "output_type": "execute_result"
    }
   ],
   "source": [
    "top_misc('rating', 'eu_sales')"
   ]
  },
  {
   "cell_type": "markdown",
   "metadata": {},
   "source": [
    "Рынок Северной Америки в этом разрезе совпадает с Европейским: более всех продается игр с рейтингом E (для всех), на втором месте M (для взрослых) и на третьем месте T (для подростков) (даже доли в % почти сопаддают)"
   ]
  },
  {
   "cell_type": "markdown",
   "metadata": {},
   "source": [
    "#### Япония"
   ]
  },
  {
   "cell_type": "code",
   "execution_count": 60,
   "metadata": {},
   "outputs": [
    {
     "data": {
      "text/html": [
       "<div>\n",
       "<style scoped>\n",
       "    .dataframe tbody tr th:only-of-type {\n",
       "        vertical-align: middle;\n",
       "    }\n",
       "\n",
       "    .dataframe tbody tr th {\n",
       "        vertical-align: top;\n",
       "    }\n",
       "\n",
       "    .dataframe thead th {\n",
       "        text-align: right;\n",
       "    }\n",
       "</style>\n",
       "<table border=\"1\" class=\"dataframe\">\n",
       "  <thead>\n",
       "    <tr style=\"text-align: right;\">\n",
       "      <th></th>\n",
       "      <th>jp_sales</th>\n",
       "      <th>%</th>\n",
       "    </tr>\n",
       "    <tr>\n",
       "      <th>rating</th>\n",
       "      <th></th>\n",
       "      <th></th>\n",
       "    </tr>\n",
       "  </thead>\n",
       "  <tbody>\n",
       "    <tr>\n",
       "      <td>E</td>\n",
       "      <td>142.24</td>\n",
       "      <td>47.57</td>\n",
       "    </tr>\n",
       "    <tr>\n",
       "      <td>T</td>\n",
       "      <td>77.55</td>\n",
       "      <td>25.93</td>\n",
       "    </tr>\n",
       "    <tr>\n",
       "      <td>M</td>\n",
       "      <td>42.26</td>\n",
       "      <td>14.13</td>\n",
       "    </tr>\n",
       "    <tr>\n",
       "      <td>E10+</td>\n",
       "      <td>36.99</td>\n",
       "      <td>12.37</td>\n",
       "    </tr>\n",
       "    <tr>\n",
       "      <td>EC</td>\n",
       "      <td>0.00</td>\n",
       "      <td>0.00</td>\n",
       "    </tr>\n",
       "  </tbody>\n",
       "</table>\n",
       "</div>"
      ],
      "text/plain": [
       "        jp_sales      %\n",
       "rating                 \n",
       "E         142.24  47.57\n",
       "T          77.55  25.93\n",
       "M          42.26  14.13\n",
       "E10+       36.99  12.37\n",
       "EC          0.00   0.00"
      ]
     },
     "execution_count": 60,
     "metadata": {},
     "output_type": "execute_result"
    }
   ],
   "source": [
    "top_misc('rating', 'jp_sales')"
   ]
  },
  {
   "cell_type": "markdown",
   "metadata": {},
   "source": [
    "Первая строчка по продажам на Японском рынке совпадает с остальным миром - игры для всех (рейтинг E) продаются лучше всего, а вторая и третья строчки поменялись местами: японские игроки предпочитают игры с более мягким рейтингом T чем взрослые и жестокие игры рейтинга M"
   ]
  },
  {
   "cell_type": "markdown",
   "metadata": {},
   "source": [
    "## Вывод <a id=\"stage_4_summary\"></a>\n",
    "\n",
    "**Предпочтения по платформам**\n",
    "\n",
    "Во время предыдущего поколения на американском рынке доминировала Microsoft, Sony была в догоняющих a компания Nintendo была сама по себе и конкурировала своими портативными платформами с домашними\n",
    "\n",
    "В последнем поколении компании Microsoft и Sony поменялись местами, а компания Nintendo хотя и проиграла гонку в домашних платформах, по-прежнему остается лидером в портативных.\n",
    "\n",
    "Европеский рынок показывает похожую картину, за исключением того что и в предыдущем поколении Microsoft пыталась догнать Sony, а в последнем поколении положение компании Sony стало еще прочнее\n",
    "\n",
    "Японский рынок не похож на остальной мир - японские игроки оба поколения предпочтают играть на портативных платформах от Nintendo и Sony, а компания Microsoft представлена на рынке очень слабо\n",
    "\n",
    "**Предпочтения по жанрам**\n",
    "\n",
    "Предпочтения в жанрах игроков из Европы совпадают с предпочтениями игроков из Северной Америки, разница только в последних жанрах из Топ5 - в Северной Америке там расположились игры жанра Role-Playing а в Европе игры жанра Racing\n",
    "\n",
    "Предпочтения японских игроков снова отличаются от остального мира, на первом месте Топ5, с отрывом почти в два раза, у них располагаются игры жанра Role-Playing, на втором месте игры жанра Action, на третьем месте игры неопределеноого жанра.\n",
    "\n",
    "**Влияние рейтинга ESRB на продажи**\n",
    "\n",
    "Рынок Северной Америки в этом разрезе совпадает с Европейским: более всех продается игр с рейтингом E (для всех), на втором месте M (для взрослых) и на третьем месте T (для подростков)\n",
    "\n",
    "Первая строчка по продажам на Японском рынке совпадает с остальным миром - игры для всех (рейтинг E) продаются лучше всего, а вторая и третья строчки поменялись местами: японские игроки предпочитают игры с более мягким рейтингом T чем взрослые и жестокие игры рейтинга M\n",
    "\n",
    "В целом можно сделать вывод о том, что Американский и Европейский рынки очень похожи, Японский игровой рынок совсем другой "
   ]
  },
  {
   "cell_type": "markdown",
   "metadata": {},
   "source": [
    "# Этап 5 - Проверка гипотез<a id=\"stage_5\"></a>"
   ]
  },
  {
   "cell_type": "markdown",
   "metadata": {},
   "source": [
    "Уровень значимости при проверке гипотез мы установим в 5% (ошибка в 5 случаев из 100) - не слишком строгий (так как от нашего исследования не зависят жизни людей) и не слишком мягкий (так как мы не хотим принимать неверные гипотезы)"
   ]
  },
  {
   "cell_type": "code",
   "execution_count": 61,
   "metadata": {},
   "outputs": [],
   "source": [
    "alpha = 0.05"
   ]
  },
  {
   "cell_type": "markdown",
   "metadata": {},
   "source": [
    "### Гипотеза 1 - Средние пользовательские рейтинги платформ Xbox One и PC одинаковые<a id=\"stage_5_hypothesis_1\"></a>"
   ]
  },
  {
   "cell_type": "markdown",
   "metadata": {},
   "source": [
    "Перед тем как проводить Т-тест нам необходимо выдвинуть нулевую и альтернативные гипотезы:\n",
    "* Нулевая гипотеза - средние пользовательские рейтинги платформ Xbox One и PC равны\n",
    "* Альтернативная гипотеза - Средние пользовательские рейтинги платформ Xbox One и PC различаются"
   ]
  },
  {
   "cell_type": "markdown",
   "metadata": {},
   "source": [
    "Запишем рейтинги по каждой платформы в переменные `xone_user_score` и `pc_user_score`"
   ]
  },
  {
   "cell_type": "code",
   "execution_count": 62,
   "metadata": {},
   "outputs": [],
   "source": [
    "xone_user_score = actual_data[['user_score','platform']].query('platform == \"XOne\"')['user_score'].dropna()\n",
    "pc_user_score = actual_data[['user_score','platform']].query('platform == \"PC\"')['user_score'].dropna()"
   ]
  },
  {
   "cell_type": "markdown",
   "metadata": {},
   "source": [
    "Построим распределения"
   ]
  },
  {
   "cell_type": "code",
   "execution_count": 63,
   "metadata": {},
   "outputs": [
    {
     "data": {
      "text/plain": [
       "<matplotlib.legend.Legend at 0x7f50a62d4d90>"
      ]
     },
     "execution_count": 63,
     "metadata": {},
     "output_type": "execute_result"
    },
    {
     "data": {
      "image/png": "[encoded data removed]",
      "text/plain": [
       "<Figure size 432x288 with 1 Axes>"
      ]
     },
     "metadata": {
      "needs_background": "light"
     },
     "output_type": "display_data"
    }
   ],
   "source": [
    "ax = pc_user_score.plot(kind='hist', label='PC')\n",
    "xone_user_score.plot(kind='hist', ax=ax, label='XOne', grid=True, \n",
    "                     title='Распределение пользовательских оценок')\n",
    "plt.ylabel('Частота')\n",
    "plt.xlabel('Оценки')\n",
    "plt.legend()"
   ]
  },
  {
   "cell_type": "markdown",
   "metadata": {},
   "source": [
    "Оба распределения можно назвать нормальными но с большим перекосом вправо"
   ]
  },
  {
   "cell_type": "markdown",
   "metadata": {},
   "source": [
    "Расчитаем дисперсии распределений для того чтобы определить как использовать параметр Т-теста `equal_var`"
   ]
  },
  {
   "cell_type": "code",
   "execution_count": 64,
   "metadata": {
    "scrolled": true
   },
   "outputs": [
    {
     "data": {
      "text/plain": [
       "1.9"
      ]
     },
     "metadata": {},
     "output_type": "display_data"
    },
    {
     "data": {
      "text/plain": [
       "2.31"
      ]
     },
     "metadata": {},
     "output_type": "display_data"
    }
   ],
   "source": [
    "display(round(np.var(xone_user_score), 2))\n",
    "display(round(np.var(pc_user_score), 2))"
   ]
  },
  {
   "cell_type": "markdown",
   "metadata": {},
   "source": [
    "Дисперсии различаются, параметр `equal_var` необходимо установить `False`"
   ]
  },
  {
   "cell_type": "markdown",
   "metadata": {},
   "source": [
    "Проведем статистический тест"
   ]
  },
  {
   "cell_type": "code",
   "execution_count": 65,
   "metadata": {},
   "outputs": [
    {
     "name": "stdout",
     "output_type": "stream",
     "text": [
      "p-значение: 0.0008310561209657819\n",
      "Отвергаем нулевую гипотезу\n"
     ]
    }
   ],
   "source": [
    "results1 = st.ttest_ind(xone_user_score, pc_user_score, equal_var=False)\n",
    "\n",
    "print('p-значение:', results1.pvalue)\n",
    "\n",
    "if results1.pvalue < alpha:\n",
    "    print('Отвергаем нулевую гипотезу')\n",
    "else:\n",
    "    print('Не получилось отвергнуть нулевую гипотезу')"
   ]
  },
  {
   "cell_type": "markdown",
   "metadata": {},
   "source": [
    "Наблюдаемый уровень значимости ниже критического, это значит что мы должны отвергнуть нулевую гипотезу и принять альтернативную - cредние пользовательские рейтинги платформ Xbox One и PC различаются"
   ]
  },
  {
   "cell_type": "markdown",
   "metadata": {},
   "source": [
    "### Гипотеза 2 - Средние пользовательские рейтинги жанров Action и Sports разные<a id=\"stage_5_hypothesis_2\"></a>"
   ]
  },
  {
   "cell_type": "markdown",
   "metadata": {},
   "source": [
    "* Нулевая гипотеза - Средние пользовательские рейтинги жанров Action и Sports одинаковые\n",
    "\n",
    "\n",
    "* Альтернативная гипотеза - Средние пользовательские рейтинги жанров Action и Sports различаются"
   ]
  },
  {
   "cell_type": "markdown",
   "metadata": {},
   "source": [
    "Запишем рейтинги в переменные"
   ]
  },
  {
   "cell_type": "code",
   "execution_count": 66,
   "metadata": {},
   "outputs": [],
   "source": [
    "action_user_score = actual_data[['user_score','genre']].query('genre == \"Action\"')['user_score'].dropna()\n",
    "sports_user_score = actual_data[['user_score','genre']].query('genre == \"Sports\"')['user_score'].dropna()"
   ]
  },
  {
   "cell_type": "markdown",
   "metadata": {},
   "source": [
    "Построим распределения"
   ]
  },
  {
   "cell_type": "code",
   "execution_count": 67,
   "metadata": {},
   "outputs": [
    {
     "data": {
      "text/plain": [
       "<matplotlib.legend.Legend at 0x7f50a388cf50>"
      ]
     },
     "execution_count": 67,
     "metadata": {},
     "output_type": "execute_result"
    },
    {
     "data": {
      "image/png": "[encoded data removed]",
      "text/plain": [
       "<Figure size 432x288 with 1 Axes>"
      ]
     },
     "metadata": {
      "needs_background": "light"
     },
     "output_type": "display_data"
    }
   ],
   "source": [
    "ax = action_user_score.plot(kind='hist', label='Action')\n",
    "sports_user_score.plot(kind='hist', ax=ax, label='Sports', grid=True, \n",
    "                       title='Распределение пользовательских оценок', alpha=0.5)\n",
    "plt.ylabel('Частота')\n",
    "plt.xlabel('Оценки')\n",
    "plt.legend()"
   ]
  },
  {
   "cell_type": "markdown",
   "metadata": {},
   "source": [
    "Распределения похожи на нормальные распределения скошенные вправо"
   ]
  },
  {
   "cell_type": "markdown",
   "metadata": {},
   "source": [
    "Расчитаем дисперсии распределений для того чтобы определить как использовать параметр Т-теста `equal_var`"
   ]
  },
  {
   "cell_type": "code",
   "execution_count": 68,
   "metadata": {
    "scrolled": true
   },
   "outputs": [
    {
     "data": {
      "text/plain": [
       "1.79"
      ]
     },
     "metadata": {},
     "output_type": "display_data"
    },
    {
     "data": {
      "text/plain": [
       "2.71"
      ]
     },
     "metadata": {},
     "output_type": "display_data"
    }
   ],
   "source": [
    "display(round(np.var(action_user_score), 2))\n",
    "display(round(np.var(sports_user_score), 2))"
   ]
  },
  {
   "cell_type": "markdown",
   "metadata": {},
   "source": [
    "Дисперсии различаются, параметр `equal_var` необходимо установить `False`"
   ]
  },
  {
   "cell_type": "markdown",
   "metadata": {},
   "source": [
    "Проведем статистический тест"
   ]
  },
  {
   "cell_type": "code",
   "execution_count": 69,
   "metadata": {},
   "outputs": [
    {
     "name": "stdout",
     "output_type": "stream",
     "text": [
      "p-значение: 1.8221886353904287e-11\n",
      "Отвергаем нулевую гипотезу\n"
     ]
    }
   ],
   "source": [
    "results2 = st.ttest_ind(action_user_score, sports_user_score, equal_var=False)\n",
    "\n",
    "print('p-значение:', results2.pvalue)\n",
    "\n",
    "if results2.pvalue < alpha:\n",
    "    print('Отвергаем нулевую гипотезу')\n",
    "else:\n",
    "    print('Не получилось отвергнуть нулевую гипотезу')"
   ]
  },
  {
   "cell_type": "markdown",
   "metadata": {},
   "source": [
    "Наблюдаемый  уровень значимости ниже критического, значит, пока не доказано обратное, мы можем считать что средние пользовательские рейтинги жанров Action и Sports различаются"
   ]
  },
  {
   "cell_type": "markdown",
   "metadata": {},
   "source": [
    "## Вывод <a id=\"stage_5_summary\"></a>\n",
    "\n",
    "На данном этапе мы проверяли две гипотезы:\n",
    "1. Средние пользовательские рейтинги платформ Xbox One и PC одинаковые\n",
    "2. Средние пользовательские рейтинги жанров Action и Sports разные\n",
    "\n",
    "Для проведения Т-тестов мы выдвинули следующие нулевые гипотезы:\n",
    "1. Средние пользовательские рейтинги платформ Xbox One и PC равны\n",
    "2. Средние пользовательские рейтинги жанров Action и Sports одинаковые\n",
    "\n",
    "В результате проведенных Т-тестов мы **отвергли** обе нулевые гипотезы\n",
    "\n",
    "В итоге, пока не показано другое, мы можем считать что\n",
    "1. Средние пользовательские рейтинги платформ Xbox One и PC разные\n",
    "2. Средние пользовательские рейтинги жанров Action и Sports разные"
   ]
  },
  {
   "cell_type": "markdown",
   "metadata": {},
   "source": [
    "# Общий вывод<a id=\"conclusion\"></a>\n",
    "\n",
    "После загрузки данных мы **удалили из таблицы 1,62% записей** с пропущенными датами выпуска или с незаполненным названием и жанром игры, далее мы изменили тип данных некоторых столббцов и добавили столбец содержащий общемировые продажи каждой игры\n",
    "\n",
    "Далее мы выбрали актуальный период для анализа - прошлое (2004-2011) и последнее (2011-) поколения платформ и определили наиболее **перспективные с точки зрения прибыльности платформы - PS4 и XOne** так как продажи на этих платформах продолжают расти в то время как на остальных платформах из Топ3 последнего поколения они снижаются\n",
    "\n",
    "Анализ продаж игр по платформам последнего поколения показал что **продажи игр редко превышают 1 млн**, подробный анализ продаж на платформах PS4 и XOne показал сходные результаты, кроме того анализ статистических показателей выявил **сходство 75% распределения продаж игр на этих (PS4 и XOne) платформах**, но на PS4 максимальные, а следовательно и средние, продажи гораздо выше чем на XOne\n",
    "\n",
    "Анализ силы корреляции между между оценками игроков и критиков с продажами игр на самой популярной платформе в последнем поколении (PS4) показал что **сила связи между оценкой критиков и продажами слабая**, а между оценкой пользователей и продажами практически отсутствует\n",
    "\n",
    "Анализ продаж игр в разрезе жанров выявил что большим отрывом **лидирует жанр Action**, следом, практически наравне идут продажи игр жанров Sports и Shooter, а замыкают рейтинг игры жанров Adventure, Puzzle и Strategy, при этом игры жанра Strategy продаются в 14 раз хуже чем игры жанра Action\n",
    "\n",
    "Во время анализа ситуации на разных рынках (Северная Америка, Европа и Япония) мы наблюдали следующее:\n",
    " * Рынки Северной Америки и Европы **очень схожи** по всем параметрам:\n",
    "   * предпочтения отдаются домашним платформам\n",
    "   * жанровые предпочтения не различаются (на первом месте по продажам игры жанра Action, на втором и третьем Shooter и Sports)\n",
    "   * в разрезе рейтинга ESRB продажи сходные (больше всего продается игр с рейтингом E, далее M и T)\n",
    " * Рынок Японии **обособлен от остального мира** и характеризуются следующим:\n",
    "   * предпочтения отдаются портативным платформам\n",
    "   * жанровые предпочтения тоже свои (на первом месте Role-Playing (с большим отрывом), а игры жанра Action на втором)\n",
    "   * по рейтингу ESRB продажи игр распределены немного иначе (больше всего продается игр с рейтингом E, далее T и M)   \n",
    "   \n",
    "На заключительном этапе анализа мы провели статистические тесты для оценки достоверности следующих гипотез:\n",
    "1. Средние пользовательские рейтинги платформ Xbox One и PC одинаковые\n",
    "2. Средние пользовательские рейтинги жанров Action и Sports разные\n",
    "\n",
    "И пришли к следующим выводам:\n",
    "1. Средние пользовательские рейтинги платформ Xbox One и PC разные\n",
    "2. Средние пользовательские рейтинги жанров Action и Sports разные"
   ]
  }
 ],
 "metadata": {
  "kernelspec": {
   "display_name": "Python 3",
   "language": "python",
   "name": "python3"
  },
  "language_info": {
   "codemirror_mode": {
    "name": "ipython",
    "version": 3
   },
   "file_extension": ".py",
   "mimetype": "text/x-python",
   "name": "python",
   "nbconvert_exporter": "python",
   "pygments_lexer": "ipython3",
   "version": "3.8.3"
  }
 },
 "nbformat": 4,
 "nbformat_minor": 2
}
