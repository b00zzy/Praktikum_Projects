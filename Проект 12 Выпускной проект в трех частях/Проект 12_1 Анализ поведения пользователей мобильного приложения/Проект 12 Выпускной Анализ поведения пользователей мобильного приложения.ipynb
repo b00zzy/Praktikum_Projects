{
 "cells": [
  {
   "cell_type": "markdown",
   "metadata": {},
   "source": [
    "# Мобильные приложения — Выделение групп пользователей на основе поведения"
   ]
  },
  {
   "cell_type": "markdown",
   "metadata": {},
   "source": [
    "Исследование поведения пользователей мобильного приложения \"Ненужные вещи\", в котором пользователи продают свои вещи, размещая их на доске объявлений"
   ]
  },
  {
   "cell_type": "markdown",
   "metadata": {},
   "source": [
    "# Содержание\n",
    "\n",
    "1. [Этап 1 - Загрузка и проверка данных](#stage_1)\n",
    "\n",
    "  * [Загрузка данных](#stage_1_load)\n",
    "  * [Проверка данных](#stage_1_check)\n",
    "  * [Вывод ](#stage_1_summary)\n",
    "  \n",
    "  \n",
    "2. [Этап 2 - Исследовательский анализ данных](#stage_2)\n",
    "\n",
    "  * [Весь датафрейм](#stage_2_all)\n",
    "  * [В разрезе источников](#stage_2_per_source)\n",
    "  * [Вывод ](#stage_2_summary)\n",
    "  \n",
    "  \n",
    "3. [Этап 3 - Сегментация пользователей](#stage_3)\n",
    "\n",
    "  * [Вывод ](#stage_3_summary)\n",
    "  \n",
    "  \n",
    "4. [Этап 4 - Проверка статистических гипотез](#stage_4)\n",
    "\n",
    "  * [Вывод ](#stage_4_summary)\n",
    "  \n",
    "  \n",
    "5. [Общий вывод](#conclusion)"
   ]
  },
  {
   "cell_type": "markdown",
   "metadata": {},
   "source": [
    "Импорт необходимых для анализа библиотек"
   ]
  },
  {
   "cell_type": "code",
   "execution_count": 1,
   "metadata": {},
   "outputs": [],
   "source": [
    "import pandas as pd\n",
    "import numpy as np\n",
    "import matplotlib.pyplot as plt\n",
    "from pandas.plotting import register_matplotlib_converters\n",
    "register_matplotlib_converters()\n",
    "import seaborn as sns\n",
    "from statsmodels.stats.proportion import proportions_ztest"
   ]
  },
  {
   "cell_type": "markdown",
   "metadata": {},
   "source": [
    "# Этап 1 - Загрузка и проверка данных<a id=\"stage_1\"></a>"
   ]
  },
  {
   "cell_type": "markdown",
   "metadata": {},
   "source": [
    "## Загрузка данных<a id=\"stage_1_load\"></a>"
   ]
  },
  {
   "cell_type": "markdown",
   "metadata": {},
   "source": [
    "Загрузим предоставленные данные в датафреймы\n",
    "\n",
    "`actions` - сведения о действиях пользователей \n",
    "\n",
    "`sources` - источники из которых пользователи установили приложение"
   ]
  },
  {
   "cell_type": "code",
   "execution_count": 2,
   "metadata": {},
   "outputs": [],
   "source": [
    "actions = pd.read_csv('datasets/mobile_dataset.csv')\n",
    "sources = pd.read_csv('datasets/mobile_soures.csv')"
   ]
  },
  {
   "cell_type": "markdown",
   "metadata": {},
   "source": [
    "#### actions"
   ]
  },
  {
   "cell_type": "markdown",
   "metadata": {},
   "source": [
    "Отобразим датафрейм"
   ]
  },
  {
   "cell_type": "code",
   "execution_count": 3,
   "metadata": {},
   "outputs": [
    {
     "data": {
      "text/html": [
       "<div>\n",
       "<style scoped>\n",
       "    .dataframe tbody tr th:only-of-type {\n",
       "        vertical-align: middle;\n",
       "    }\n",
       "\n",
       "    .dataframe tbody tr th {\n",
       "        vertical-align: top;\n",
       "    }\n",
       "\n",
       "    .dataframe thead th {\n",
       "        text-align: right;\n",
       "    }\n",
       "</style>\n",
       "<table border=\"1\" class=\"dataframe\">\n",
       "  <thead>\n",
       "    <tr style=\"text-align: right;\">\n",
       "      <th></th>\n",
       "      <th>event.time</th>\n",
       "      <th>event.name</th>\n",
       "      <th>user.id</th>\n",
       "    </tr>\n",
       "  </thead>\n",
       "  <tbody>\n",
       "    <tr>\n",
       "      <th>0</th>\n",
       "      <td>2019-10-07 00:00:00.431357</td>\n",
       "      <td>advert_open</td>\n",
       "      <td>020292ab-89bc-4156-9acf-68bc2783f894</td>\n",
       "    </tr>\n",
       "    <tr>\n",
       "      <th>1</th>\n",
       "      <td>2019-10-07 00:00:01.236320</td>\n",
       "      <td>tips_show</td>\n",
       "      <td>020292ab-89bc-4156-9acf-68bc2783f894</td>\n",
       "    </tr>\n",
       "    <tr>\n",
       "      <th>2</th>\n",
       "      <td>2019-10-07 00:00:02.245341</td>\n",
       "      <td>tips_show</td>\n",
       "      <td>cf7eda61-9349-469f-ac27-e5b6f5ec475c</td>\n",
       "    </tr>\n",
       "    <tr>\n",
       "      <th>3</th>\n",
       "      <td>2019-10-07 00:00:07.039334</td>\n",
       "      <td>tips_show</td>\n",
       "      <td>020292ab-89bc-4156-9acf-68bc2783f894</td>\n",
       "    </tr>\n",
       "    <tr>\n",
       "      <th>4</th>\n",
       "      <td>2019-10-07 00:00:56.319813</td>\n",
       "      <td>advert_open</td>\n",
       "      <td>cf7eda61-9349-469f-ac27-e5b6f5ec475c</td>\n",
       "    </tr>\n",
       "    <tr>\n",
       "      <th>...</th>\n",
       "      <td>...</td>\n",
       "      <td>...</td>\n",
       "      <td>...</td>\n",
       "    </tr>\n",
       "    <tr>\n",
       "      <th>74192</th>\n",
       "      <td>2019-11-03 23:53:29.534986</td>\n",
       "      <td>tips_show</td>\n",
       "      <td>28fccdf4-7b9e-42f5-bc73-439a265f20e9</td>\n",
       "    </tr>\n",
       "    <tr>\n",
       "      <th>74193</th>\n",
       "      <td>2019-11-03 23:54:00.407086</td>\n",
       "      <td>tips_show</td>\n",
       "      <td>28fccdf4-7b9e-42f5-bc73-439a265f20e9</td>\n",
       "    </tr>\n",
       "    <tr>\n",
       "      <th>74194</th>\n",
       "      <td>2019-11-03 23:56:57.041825</td>\n",
       "      <td>search_1</td>\n",
       "      <td>20850c8f-4135-4059-b13b-198d3ac59902</td>\n",
       "    </tr>\n",
       "    <tr>\n",
       "      <th>74195</th>\n",
       "      <td>2019-11-03 23:57:06.232189</td>\n",
       "      <td>tips_show</td>\n",
       "      <td>28fccdf4-7b9e-42f5-bc73-439a265f20e9</td>\n",
       "    </tr>\n",
       "    <tr>\n",
       "      <th>74196</th>\n",
       "      <td>2019-11-03 23:58:12.532487</td>\n",
       "      <td>tips_show</td>\n",
       "      <td>28fccdf4-7b9e-42f5-bc73-439a265f20e9</td>\n",
       "    </tr>\n",
       "  </tbody>\n",
       "</table>\n",
       "<p>74197 rows × 3 columns</p>\n",
       "</div>"
      ],
      "text/plain": [
       "                       event.time   event.name  \\\n",
       "0      2019-10-07 00:00:00.431357  advert_open   \n",
       "1      2019-10-07 00:00:01.236320    tips_show   \n",
       "2      2019-10-07 00:00:02.245341    tips_show   \n",
       "3      2019-10-07 00:00:07.039334    tips_show   \n",
       "4      2019-10-07 00:00:56.319813  advert_open   \n",
       "...                           ...          ...   \n",
       "74192  2019-11-03 23:53:29.534986    tips_show   \n",
       "74193  2019-11-03 23:54:00.407086    tips_show   \n",
       "74194  2019-11-03 23:56:57.041825     search_1   \n",
       "74195  2019-11-03 23:57:06.232189    tips_show   \n",
       "74196  2019-11-03 23:58:12.532487    tips_show   \n",
       "\n",
       "                                    user.id  \n",
       "0      020292ab-89bc-4156-9acf-68bc2783f894  \n",
       "1      020292ab-89bc-4156-9acf-68bc2783f894  \n",
       "2      cf7eda61-9349-469f-ac27-e5b6f5ec475c  \n",
       "3      020292ab-89bc-4156-9acf-68bc2783f894  \n",
       "4      cf7eda61-9349-469f-ac27-e5b6f5ec475c  \n",
       "...                                     ...  \n",
       "74192  28fccdf4-7b9e-42f5-bc73-439a265f20e9  \n",
       "74193  28fccdf4-7b9e-42f5-bc73-439a265f20e9  \n",
       "74194  20850c8f-4135-4059-b13b-198d3ac59902  \n",
       "74195  28fccdf4-7b9e-42f5-bc73-439a265f20e9  \n",
       "74196  28fccdf4-7b9e-42f5-bc73-439a265f20e9  \n",
       "\n",
       "[74197 rows x 3 columns]"
      ]
     },
     "execution_count": 3,
     "metadata": {},
     "output_type": "execute_result"
    }
   ],
   "source": [
    "actions"
   ]
  },
  {
   "cell_type": "markdown",
   "metadata": {},
   "source": [
    "Выведем общую информацию о нем"
   ]
  },
  {
   "cell_type": "code",
   "execution_count": 4,
   "metadata": {},
   "outputs": [
    {
     "name": "stdout",
     "output_type": "stream",
     "text": [
      "<class 'pandas.core.frame.DataFrame'>\n",
      "RangeIndex: 74197 entries, 0 to 74196\n",
      "Data columns (total 3 columns):\n",
      " #   Column      Non-Null Count  Dtype \n",
      "---  ------      --------------  ----- \n",
      " 0   event.time  74197 non-null  object\n",
      " 1   event.name  74197 non-null  object\n",
      " 2   user.id     74197 non-null  object\n",
      "dtypes: object(3)\n",
      "memory usage: 1.7+ MB\n"
     ]
    }
   ],
   "source": [
    "actions.info()"
   ]
  },
  {
   "cell_type": "markdown",
   "metadata": {},
   "source": [
    "Датафрейм содержит следующие колонки:\n",
    "\n",
    "* event.time — время совершения события\n",
    "* event.name — название события:\n",
    "  * advert_open — открытие карточки объявления\n",
    "  * photos_show — просмотр фотографий в объявлении\n",
    "  * tips_show — пользователь увидел рекомендованные объявления\n",
    "  * tips_click — пользователь кликнул по рекомендованному объявлению\n",
    "  * contacts_show и show_contacts — пользователь нажал на кнопку \"посмотреть номер телефона\" на карточке объявления\n",
    "  * contacts_call — пользователь позвонил по номеру телефона на карточке объявления\n",
    "  * map — пользователь открыл карту размещенных объявлений\n",
    "  * search_1 — search_7 — разные события, связанные с поиском по сайту\n",
    "  * favorites_add — добавление объявления в избранное\n",
    "\n",
    "* user.id — идентификатор пользователя совершившего событие\n",
    "\n",
    "В колонке `event.time` требуется изменить тип данных на временной"
   ]
  },
  {
   "cell_type": "markdown",
   "metadata": {},
   "source": [
    "Изменим наименования колонок для удобства"
   ]
  },
  {
   "cell_type": "code",
   "execution_count": 5,
   "metadata": {},
   "outputs": [],
   "source": [
    "actions.columns = ['event_time', 'event_name', 'userid']"
   ]
  },
  {
   "cell_type": "markdown",
   "metadata": {},
   "source": [
    "Переведем значения в столбце `event_time` во временные"
   ]
  },
  {
   "cell_type": "code",
   "execution_count": 6,
   "metadata": {},
   "outputs": [],
   "source": [
    "actions['event_time'] = pd.to_datetime(actions['event_time'])"
   ]
  },
  {
   "cell_type": "markdown",
   "metadata": {},
   "source": [
    "#### sources"
   ]
  },
  {
   "cell_type": "markdown",
   "metadata": {},
   "source": [
    "Отобразим датафрейм и общую информацию о нем"
   ]
  },
  {
   "cell_type": "code",
   "execution_count": 7,
   "metadata": {},
   "outputs": [
    {
     "data": {
      "text/html": [
       "<div>\n",
       "<style scoped>\n",
       "    .dataframe tbody tr th:only-of-type {\n",
       "        vertical-align: middle;\n",
       "    }\n",
       "\n",
       "    .dataframe tbody tr th {\n",
       "        vertical-align: top;\n",
       "    }\n",
       "\n",
       "    .dataframe thead th {\n",
       "        text-align: right;\n",
       "    }\n",
       "</style>\n",
       "<table border=\"1\" class=\"dataframe\">\n",
       "  <thead>\n",
       "    <tr style=\"text-align: right;\">\n",
       "      <th></th>\n",
       "      <th>userId</th>\n",
       "      <th>source</th>\n",
       "    </tr>\n",
       "  </thead>\n",
       "  <tbody>\n",
       "    <tr>\n",
       "      <th>0</th>\n",
       "      <td>020292ab-89bc-4156-9acf-68bc2783f894</td>\n",
       "      <td>other</td>\n",
       "    </tr>\n",
       "    <tr>\n",
       "      <th>1</th>\n",
       "      <td>cf7eda61-9349-469f-ac27-e5b6f5ec475c</td>\n",
       "      <td>yandex</td>\n",
       "    </tr>\n",
       "    <tr>\n",
       "      <th>2</th>\n",
       "      <td>8c356c42-3ba9-4cb6-80b8-3f868d0192c3</td>\n",
       "      <td>yandex</td>\n",
       "    </tr>\n",
       "    <tr>\n",
       "      <th>3</th>\n",
       "      <td>d9b06b47-0f36-419b-bbb0-3533e582a6cb</td>\n",
       "      <td>other</td>\n",
       "    </tr>\n",
       "    <tr>\n",
       "      <th>4</th>\n",
       "      <td>f32e1e2a-3027-4693-b793-b7b3ff274439</td>\n",
       "      <td>google</td>\n",
       "    </tr>\n",
       "    <tr>\n",
       "      <th>...</th>\n",
       "      <td>...</td>\n",
       "      <td>...</td>\n",
       "    </tr>\n",
       "    <tr>\n",
       "      <th>4288</th>\n",
       "      <td>b86fe56e-f2de-4f8a-b192-cd89a37ecd41</td>\n",
       "      <td>yandex</td>\n",
       "    </tr>\n",
       "    <tr>\n",
       "      <th>4289</th>\n",
       "      <td>424c0ae1-3ea3-4f1e-a814-6bac73e48ab1</td>\n",
       "      <td>yandex</td>\n",
       "    </tr>\n",
       "    <tr>\n",
       "      <th>4290</th>\n",
       "      <td>437a4cd4-9ba9-457f-8614-d142bc48fbeb</td>\n",
       "      <td>yandex</td>\n",
       "    </tr>\n",
       "    <tr>\n",
       "      <th>4291</th>\n",
       "      <td>c10055f0-0b47-477a-869e-d391b31fdf8f</td>\n",
       "      <td>yandex</td>\n",
       "    </tr>\n",
       "    <tr>\n",
       "      <th>4292</th>\n",
       "      <td>d157bffc-264d-4464-8220-1cc0c42f43a9</td>\n",
       "      <td>google</td>\n",
       "    </tr>\n",
       "  </tbody>\n",
       "</table>\n",
       "<p>4293 rows × 2 columns</p>\n",
       "</div>"
      ],
      "text/plain": [
       "                                    userId  source\n",
       "0     020292ab-89bc-4156-9acf-68bc2783f894   other\n",
       "1     cf7eda61-9349-469f-ac27-e5b6f5ec475c  yandex\n",
       "2     8c356c42-3ba9-4cb6-80b8-3f868d0192c3  yandex\n",
       "3     d9b06b47-0f36-419b-bbb0-3533e582a6cb   other\n",
       "4     f32e1e2a-3027-4693-b793-b7b3ff274439  google\n",
       "...                                    ...     ...\n",
       "4288  b86fe56e-f2de-4f8a-b192-cd89a37ecd41  yandex\n",
       "4289  424c0ae1-3ea3-4f1e-a814-6bac73e48ab1  yandex\n",
       "4290  437a4cd4-9ba9-457f-8614-d142bc48fbeb  yandex\n",
       "4291  c10055f0-0b47-477a-869e-d391b31fdf8f  yandex\n",
       "4292  d157bffc-264d-4464-8220-1cc0c42f43a9  google\n",
       "\n",
       "[4293 rows x 2 columns]"
      ]
     },
     "execution_count": 7,
     "metadata": {},
     "output_type": "execute_result"
    }
   ],
   "source": [
    "sources"
   ]
  },
  {
   "cell_type": "code",
   "execution_count": 8,
   "metadata": {},
   "outputs": [
    {
     "name": "stdout",
     "output_type": "stream",
     "text": [
      "<class 'pandas.core.frame.DataFrame'>\n",
      "RangeIndex: 4293 entries, 0 to 4292\n",
      "Data columns (total 2 columns):\n",
      " #   Column  Non-Null Count  Dtype \n",
      "---  ------  --------------  ----- \n",
      " 0   userId  4293 non-null   object\n",
      " 1   source  4293 non-null   object\n",
      "dtypes: object(2)\n",
      "memory usage: 67.2+ KB\n"
     ]
    }
   ],
   "source": [
    "sources.info()"
   ]
  },
  {
   "cell_type": "markdown",
   "metadata": {},
   "source": [
    "Датафрейм содерижит две колонки:\n",
    "\n",
    "* userId — идентификатор пользователя\n",
    "* source — источник, из которого пользователь установил приложение\n",
    "\n",
    "Преобразований типов не требуется"
   ]
  },
  {
   "cell_type": "markdown",
   "metadata": {},
   "source": [
    "Переведем названия столбцов в нижний регистр"
   ]
  },
  {
   "cell_type": "code",
   "execution_count": 9,
   "metadata": {},
   "outputs": [
    {
     "data": {
      "text/plain": [
       "Index(['userid', 'source'], dtype='object')"
      ]
     },
     "execution_count": 9,
     "metadata": {},
     "output_type": "execute_result"
    }
   ],
   "source": [
    "sources.columns = sources.columns.str.lower()\n",
    "sources.columns"
   ]
  },
  {
   "cell_type": "markdown",
   "metadata": {},
   "source": [
    "## Проверка данных<a id=\"stage_1_check\"></a>"
   ]
  },
  {
   "cell_type": "markdown",
   "metadata": {},
   "source": [
    "Проверим уникальные значения в столбце `event_name`"
   ]
  },
  {
   "cell_type": "code",
   "execution_count": 10,
   "metadata": {},
   "outputs": [
    {
     "data": {
      "text/plain": [
       "array(['advert_open', 'tips_show', 'map', 'contacts_show', 'search_4',\n",
       "       'search_5', 'tips_click', 'photos_show', 'search_1', 'search_2',\n",
       "       'search_3', 'favorites_add', 'contacts_call', 'search_6',\n",
       "       'search_7', 'show_contacts'], dtype=object)"
      ]
     },
     "execution_count": 10,
     "metadata": {},
     "output_type": "execute_result"
    }
   ],
   "source": [
    "actions['event_name'].unique()"
   ]
  },
  {
   "cell_type": "markdown",
   "metadata": {},
   "source": [
    "Так как записи show_contacts и contacts_show обозначают одно событие - заменим их на одну запись"
   ]
  },
  {
   "cell_type": "code",
   "execution_count": 11,
   "metadata": {},
   "outputs": [],
   "source": [
    "actions['event_name'] = actions['event_name'].replace('show_contacts', 'contacts_show')"
   ]
  },
  {
   "cell_type": "markdown",
   "metadata": {},
   "source": [
    "Мы не имеем сведений о том, как различаются между собой события поиска, поэтому заменим их на одно обозначение"
   ]
  },
  {
   "cell_type": "code",
   "execution_count": 12,
   "metadata": {},
   "outputs": [],
   "source": [
    "searches = ['search_1','search_2','search_3','search_4','search_5','search_6','search_7']"
   ]
  },
  {
   "cell_type": "code",
   "execution_count": 13,
   "metadata": {},
   "outputs": [],
   "source": [
    "actions['event_name'] = actions['event_name'].replace(searches, 'search')"
   ]
  },
  {
   "cell_type": "markdown",
   "metadata": {},
   "source": [
    "Проверим таблицы на дубли"
   ]
  },
  {
   "cell_type": "code",
   "execution_count": 14,
   "metadata": {},
   "outputs": [
    {
     "data": {
      "text/plain": [
       "0"
      ]
     },
     "execution_count": 14,
     "metadata": {},
     "output_type": "execute_result"
    }
   ],
   "source": [
    "actions.duplicated().sum()"
   ]
  },
  {
   "cell_type": "code",
   "execution_count": 15,
   "metadata": {},
   "outputs": [
    {
     "data": {
      "text/plain": [
       "0"
      ]
     },
     "execution_count": 15,
     "metadata": {},
     "output_type": "execute_result"
    }
   ],
   "source": [
    "sources.duplicated().sum()"
   ]
  },
  {
   "cell_type": "markdown",
   "metadata": {},
   "source": [
    "Убедимся в том, что для каждого пользователя имеется запись только об одном источнике из которого он установил приложение"
   ]
  },
  {
   "cell_type": "code",
   "execution_count": 16,
   "metadata": {},
   "outputs": [
    {
     "data": {
      "text/plain": [
       "1    4293\n",
       "Name: source, dtype: int64"
      ]
     },
     "execution_count": 16,
     "metadata": {},
     "output_type": "execute_result"
    }
   ],
   "source": [
    "sources.pivot_table(index='userid', aggfunc='count')['source'].value_counts()"
   ]
  },
  {
   "cell_type": "markdown",
   "metadata": {},
   "source": [
    "Проверим для каждого ли пользователя есть источник откуда он установил приложение"
   ]
  },
  {
   "cell_type": "code",
   "execution_count": 17,
   "metadata": {},
   "outputs": [
    {
     "data": {
      "text/plain": [
       "74197"
      ]
     },
     "execution_count": 17,
     "metadata": {},
     "output_type": "execute_result"
    }
   ],
   "source": [
    "actions['userid'].isin(sources['userid'].values).sum()"
   ]
  },
  {
   "cell_type": "markdown",
   "metadata": {},
   "source": [
    "Каждый пользователь в таблице `actions` имеет соответствие в таблице `source`"
   ]
  },
  {
   "cell_type": "markdown",
   "metadata": {},
   "source": [
    "Проверим количество действий пользователей в секунду, так как в колонке `event_time` время содержится с точностью до наносекунды создадим еще один столбец в который запишем время обрезанное до секунды"
   ]
  },
  {
   "cell_type": "code",
   "execution_count": 18,
   "metadata": {},
   "outputs": [],
   "source": [
    "actions['time_sec'] = actions['event_time'].astype('datetime64[s]')"
   ]
  },
  {
   "cell_type": "markdown",
   "metadata": {},
   "source": [
    "Отобразим количество пользователей которые совершали в приложении больше чем одно действие в секунду"
   ]
  },
  {
   "cell_type": "code",
   "execution_count": 19,
   "metadata": {},
   "outputs": [
    {
     "data": {
      "text/plain": [
       "450"
      ]
     },
     "execution_count": 19,
     "metadata": {},
     "output_type": "execute_result"
    }
   ],
   "source": [
    "event_count = actions.pivot_table(index=['userid','time_sec'], values='event_name', aggfunc='count').reset_index().sort_values('event_name', ascending=False)\n",
    "event_count[event_count['event_name'] > 1]['userid'].nunique()"
   ]
  },
  {
   "cell_type": "markdown",
   "metadata": {},
   "source": [
    "Запишем `userid` этих пользователей в список"
   ]
  },
  {
   "cell_type": "code",
   "execution_count": 20,
   "metadata": {},
   "outputs": [],
   "source": [
    "extr_users = event_count[event_count['event_name'] > 1]['userid']"
   ]
  },
  {
   "cell_type": "markdown",
   "metadata": {},
   "source": [
    "Посчитаем все записи о более чем одном действии этих пользователей в секунду"
   ]
  },
  {
   "cell_type": "code",
   "execution_count": 21,
   "metadata": {
    "scrolled": false
   },
   "outputs": [],
   "source": [
    "event_count_extr_user = actions[actions['userid'].isin(extr_users)].pivot_table(index=['userid','time_sec', 'event_name'], values='event_time', aggfunc='count').reset_index().sort_values('event_time', ascending=False)\n",
    "event_count_extr_user = event_count_extr_user[event_count_extr_user['event_time'] > 1]"
   ]
  },
  {
   "cell_type": "markdown",
   "metadata": {},
   "source": [
    "Выведем на экран среднее количество действий в секунду в разрезе действий"
   ]
  },
  {
   "cell_type": "code",
   "execution_count": 22,
   "metadata": {},
   "outputs": [
    {
     "data": {
      "text/html": [
       "<div>\n",
       "<style scoped>\n",
       "    .dataframe tbody tr th:only-of-type {\n",
       "        vertical-align: middle;\n",
       "    }\n",
       "\n",
       "    .dataframe tbody tr th {\n",
       "        vertical-align: top;\n",
       "    }\n",
       "\n",
       "    .dataframe thead th {\n",
       "        text-align: right;\n",
       "    }\n",
       "</style>\n",
       "<table border=\"1\" class=\"dataframe\">\n",
       "  <thead>\n",
       "    <tr style=\"text-align: right;\">\n",
       "      <th></th>\n",
       "      <th>event_time</th>\n",
       "    </tr>\n",
       "    <tr>\n",
       "      <th>event_name</th>\n",
       "      <th></th>\n",
       "    </tr>\n",
       "  </thead>\n",
       "  <tbody>\n",
       "    <tr>\n",
       "      <th>advert_open</th>\n",
       "      <td>2.00</td>\n",
       "    </tr>\n",
       "    <tr>\n",
       "      <th>contacts_call</th>\n",
       "      <td>2.17</td>\n",
       "    </tr>\n",
       "    <tr>\n",
       "      <th>contacts_show</th>\n",
       "      <td>2.10</td>\n",
       "    </tr>\n",
       "    <tr>\n",
       "      <th>favorites_add</th>\n",
       "      <td>2.50</td>\n",
       "    </tr>\n",
       "    <tr>\n",
       "      <th>map</th>\n",
       "      <td>2.33</td>\n",
       "    </tr>\n",
       "    <tr>\n",
       "      <th>photos_show</th>\n",
       "      <td>2.31</td>\n",
       "    </tr>\n",
       "    <tr>\n",
       "      <th>search</th>\n",
       "      <td>2.06</td>\n",
       "    </tr>\n",
       "    <tr>\n",
       "      <th>tips_click</th>\n",
       "      <td>2.00</td>\n",
       "    </tr>\n",
       "    <tr>\n",
       "      <th>tips_show</th>\n",
       "      <td>2.07</td>\n",
       "    </tr>\n",
       "  </tbody>\n",
       "</table>\n",
       "</div>"
      ],
      "text/plain": [
       "               event_time\n",
       "event_name               \n",
       "advert_open          2.00\n",
       "contacts_call        2.17\n",
       "contacts_show        2.10\n",
       "favorites_add        2.50\n",
       "map                  2.33\n",
       "photos_show          2.31\n",
       "search               2.06\n",
       "tips_click           2.00\n",
       "tips_show            2.07"
      ]
     },
     "execution_count": 22,
     "metadata": {},
     "output_type": "execute_result"
    }
   ],
   "source": [
    "event_count_extr_user.pivot_table(index='event_name', values='event_time', aggfunc='mean').round(2)"
   ]
  },
  {
   "cell_type": "markdown",
   "metadata": {},
   "source": [
    "Эти показатели могут быть объяснены неточностью передачи информации от клиента к серверу, в целом подозрительной активности не наблюдается"
   ]
  },
  {
   "cell_type": "markdown",
   "metadata": {},
   "source": [
    "## Вывод <a id=\"stage_1_summary\"></a>\n",
    "\n",
    "Мы загрузили предоставленные данные в датафреймы, переименовали столбцы и объединили записи о некоторых событиях\n",
    "\n",
    "\n",
    "Далее мы проверили таблицы на дубли (их не оказалось), убедились в том что для каждого пользователя есть запись только об одном источнике откуда он установил приложене и то, что эти сведения есть для каждого пользователя\n",
    "\n",
    "На последнем этапе мы провели анализ количества действий пользователей в секунду и пришли к выводу, что подозрительных действий в таблице нет"
   ]
  },
  {
   "cell_type": "markdown",
   "metadata": {},
   "source": [
    "# Этап 2 - Исследовательский анализ данных<a id=\"stage_2\"></a>"
   ]
  },
  {
   "cell_type": "markdown",
   "metadata": {},
   "source": [
    "## Весь датафрейм<a id=\"stage_2_all\"></a>"
   ]
  },
  {
   "cell_type": "markdown",
   "metadata": {},
   "source": [
    "Количество записей"
   ]
  },
  {
   "cell_type": "code",
   "execution_count": 23,
   "metadata": {},
   "outputs": [
    {
     "data": {
      "text/plain": [
       "74197"
      ]
     },
     "execution_count": 23,
     "metadata": {},
     "output_type": "execute_result"
    }
   ],
   "source": [
    "len(actions)"
   ]
  },
  {
   "cell_type": "markdown",
   "metadata": {},
   "source": [
    "Количество уникальных пользователей"
   ]
  },
  {
   "cell_type": "code",
   "execution_count": 24,
   "metadata": {},
   "outputs": [
    {
     "data": {
      "text/plain": [
       "4293"
      ]
     },
     "execution_count": 24,
     "metadata": {},
     "output_type": "execute_result"
    }
   ],
   "source": [
    "actions['userid'].nunique()"
   ]
  },
  {
   "cell_type": "markdown",
   "metadata": {},
   "source": [
    "### Распределение по времени"
   ]
  },
  {
   "cell_type": "markdown",
   "metadata": {},
   "source": [
    "Построим диаграмму распределения событий по времени"
   ]
  },
  {
   "cell_type": "code",
   "execution_count": 25,
   "metadata": {},
   "outputs": [
    {
     "data": {
      "image/png": "[encoded data removed]",
      "text/plain": [
       "<Figure size 864x432 with 1 Axes>"
      ]
     },
     "metadata": {
      "needs_background": "light"
     },
     "output_type": "display_data"
    }
   ],
   "source": [
    "plt.figure(figsize=(12,6))\n",
    "plt.bar(height=actions['event_time'].astype('datetime64[D]').value_counts().values,\n",
    "        x=actions['event_time'].astype('datetime64[D]').value_counts().index)\n",
    "plt.title('Распределение событий по времени', fontsize=14, pad=14)\n",
    "plt.xlabel('Дата', fontsize=12, labelpad=12)\n",
    "plt.ylabel('Количество событий', fontsize=12, labelpad=12)\n",
    "plt.xticks(actions['event_time'].astype('datetime64[D]').value_counts().index, rotation=45, fontsize=10)\n",
    "plt.yticks(fontsize=10)\n",
    "sns.despine()\n",
    "plt.show()"
   ]
  },
  {
   "cell_type": "markdown",
   "metadata": {},
   "source": [
    "Распределение по времени выглядит достаточно равномерным"
   ]
  },
  {
   "cell_type": "markdown",
   "metadata": {},
   "source": [
    "### Доля пользователей посмотревших контакты"
   ]
  },
  {
   "cell_type": "markdown",
   "metadata": {},
   "source": [
    "Для каждого пользователя отметим, совершал ли он за все время целевое действие - просмотр контактов"
   ]
  },
  {
   "cell_type": "code",
   "execution_count": 26,
   "metadata": {},
   "outputs": [],
   "source": [
    "actions.loc[actions['userid'].isin(actions[actions['event_name'] == 'contacts_show']['userid']), 'has_contacts_show'] = True\n",
    "actions['has_contacts_show'] = actions['has_contacts_show'].fillna(False)"
   ]
  },
  {
   "cell_type": "markdown",
   "metadata": {},
   "source": [
    "Посчитаем количество таких пользователей"
   ]
  },
  {
   "cell_type": "code",
   "execution_count": 27,
   "metadata": {},
   "outputs": [
    {
     "data": {
      "text/plain": [
       "981"
      ]
     },
     "execution_count": 27,
     "metadata": {},
     "output_type": "execute_result"
    }
   ],
   "source": [
    "actions[actions['has_contacts_show'] == True]['userid'].nunique()"
   ]
  },
  {
   "cell_type": "markdown",
   "metadata": {},
   "source": [
    "Посчитаем их долю среди всего количества"
   ]
  },
  {
   "cell_type": "code",
   "execution_count": 28,
   "metadata": {},
   "outputs": [
    {
     "data": {
      "text/plain": [
       "22.9"
      ]
     },
     "execution_count": 28,
     "metadata": {},
     "output_type": "execute_result"
    }
   ],
   "source": [
    "round(actions[actions['has_contacts_show'] == True]['userid'].nunique() / actions['userid'].nunique() * 100, 1)"
   ]
  },
  {
   "cell_type": "markdown",
   "metadata": {},
   "source": [
    "Целевое действие совершили 22,9% пользователей"
   ]
  },
  {
   "cell_type": "markdown",
   "metadata": {},
   "source": [
    "### Количество событий на пользователя"
   ]
  },
  {
   "cell_type": "markdown",
   "metadata": {},
   "source": [
    "Сгруппируем таблицу по пользователям, рассчитаем количество действий для каждого из них и методом describe выведем основные статистические показатели"
   ]
  },
  {
   "cell_type": "code",
   "execution_count": 29,
   "metadata": {},
   "outputs": [
    {
     "data": {
      "text/plain": [
       "count    4293.00\n",
       "mean       17.28\n",
       "std        29.13\n",
       "min         1.00\n",
       "25%         5.00\n",
       "50%         9.00\n",
       "75%        17.00\n",
       "max       478.00\n",
       "Name: event_name, dtype: float64"
      ]
     },
     "execution_count": 29,
     "metadata": {},
     "output_type": "execute_result"
    }
   ],
   "source": [
    "actions.pivot_table(index='userid', values='event_name', aggfunc='count')['event_name'].describe().round(2)"
   ]
  },
  {
   "cell_type": "markdown",
   "metadata": {},
   "source": [
    "В среднем на каждого пользователя приходится 17 действий, медиана составляет 9, это означает что этом распределении имеется большое количество выбросов"
   ]
  },
  {
   "cell_type": "markdown",
   "metadata": {},
   "source": [
    "Построим диаграмму размаха этого распределения "
   ]
  },
  {
   "cell_type": "code",
   "execution_count": 30,
   "metadata": {},
   "outputs": [
    {
     "data": {
      "image/png": "[encoded data removed]",
      "text/plain": [
       "<Figure size 864x72 with 1 Axes>"
      ]
     },
     "metadata": {
      "needs_background": "light"
     },
     "output_type": "display_data"
    }
   ],
   "source": [
    "plt.figure(figsize=(12,1))\n",
    "plt.boxplot(actions.pivot_table(index='userid', values='event_name', aggfunc='count')['event_name'], \n",
    "            vert=False, widths=0.8)\n",
    "plt.title('Распределения количества действий пользователей', fontsize=14, pad=14)\n",
    "plt.xlabel('Количество событий', fontsize=12, labelpad=12)\n",
    "plt.ylabel(None)\n",
    "plt.xticks(fontsize=10)\n",
    "plt.yticks([])\n",
    "sns.despine()\n",
    "plt.show()"
   ]
  },
  {
   "cell_type": "markdown",
   "metadata": {},
   "source": [
    "На диаграмме наблюдается большое количество выбросов, судя по открытым источникам с анализом подобной информации, это нормальная ситуация для пользователей мобильных приложений - всегда есть некоторое количество человек которые пользуются приложением аномально большое количество раз"
   ]
  },
  {
   "cell_type": "markdown",
   "metadata": {},
   "source": [
    "Отобразим количество действий по перцентилям: 90%, 95%, 98% и 99%"
   ]
  },
  {
   "cell_type": "code",
   "execution_count": 31,
   "metadata": {},
   "outputs": [
    {
     "data": {
      "text/plain": [
       "array([ 36.  ,  59.  ,  95.16, 132.  ])"
      ]
     },
     "execution_count": 31,
     "metadata": {},
     "output_type": "execute_result"
    }
   ],
   "source": [
    "np.percentile(actions.pivot_table(index='userid', values='event_time', aggfunc='count')['event_time'], [90,95,98,99])"
   ]
  },
  {
   "cell_type": "markdown",
   "metadata": {},
   "source": [
    "95% пользователей, записи о действиях которых находятся в нашем распоряжении, совершают в приложении 59 и меньше действий"
   ]
  },
  {
   "cell_type": "markdown",
   "metadata": {},
   "source": [
    "### Время проведенное в приложении"
   ]
  },
  {
   "cell_type": "markdown",
   "metadata": {},
   "source": [
    "Для того чтобы определить, сколько времени провел каждый пользователь в приложении для каждого его действия определим время предыдущего действия"
   ]
  },
  {
   "cell_type": "code",
   "execution_count": 32,
   "metadata": {},
   "outputs": [],
   "source": [
    "actions['prev_event_time'] = actions.groupby('userid')['event_time'].shift()"
   ]
  },
  {
   "cell_type": "markdown",
   "metadata": {},
   "source": [
    "Рассчитаем время, прошедшее между событиями"
   ]
  },
  {
   "cell_type": "code",
   "execution_count": 33,
   "metadata": {},
   "outputs": [],
   "source": [
    "actions['time_between'] = actions['event_time'] - actions['prev_event_time']"
   ]
  },
  {
   "cell_type": "markdown",
   "metadata": {},
   "source": [
    "Определимся с тем, что если между событиями прошло больше 30 минут - значит сессия была завершена и началась следующая.\n",
    "\n",
    "Отметим окончания сессий в столбце `session_end`"
   ]
  },
  {
   "cell_type": "code",
   "execution_count": 34,
   "metadata": {},
   "outputs": [],
   "source": [
    "actions.loc[(actions['time_between'] > pd.Timedelta(30, 'm')), 'session_end'] = 1\n",
    "actions['session_end'] = actions['session_end'].fillna(0)"
   ]
  },
  {
   "cell_type": "markdown",
   "metadata": {},
   "source": [
    "Отметим для каждого действия принадлежность к определенной сессии"
   ]
  },
  {
   "cell_type": "code",
   "execution_count": 35,
   "metadata": {},
   "outputs": [],
   "source": [
    "actions['session_num'] = actions.groupby('userid', as_index=False)['session_end'].cumsum()"
   ]
  },
  {
   "cell_type": "markdown",
   "metadata": {},
   "source": [
    "Рассчитаем длительность каждой сессии"
   ]
  },
  {
   "cell_type": "code",
   "execution_count": 36,
   "metadata": {},
   "outputs": [
    {
     "data": {
      "text/html": [
       "<div>\n",
       "<style scoped>\n",
       "    .dataframe tbody tr th:only-of-type {\n",
       "        vertical-align: middle;\n",
       "    }\n",
       "\n",
       "    .dataframe tbody tr th {\n",
       "        vertical-align: top;\n",
       "    }\n",
       "\n",
       "    .dataframe thead th {\n",
       "        text-align: right;\n",
       "    }\n",
       "</style>\n",
       "<table border=\"1\" class=\"dataframe\">\n",
       "  <thead>\n",
       "    <tr style=\"text-align: right;\">\n",
       "      <th></th>\n",
       "      <th>userid</th>\n",
       "      <th>session_num</th>\n",
       "      <th>session_start</th>\n",
       "      <th>session_end</th>\n",
       "      <th>time_spent</th>\n",
       "    </tr>\n",
       "  </thead>\n",
       "  <tbody>\n",
       "    <tr>\n",
       "      <th>0</th>\n",
       "      <td>0001b1d5-b74a-4cbf-aeb0-7df5947bf349</td>\n",
       "      <td>0.0</td>\n",
       "      <td>2019-10-07 13:39:45.989359</td>\n",
       "      <td>2019-10-07 13:49:41.716617</td>\n",
       "      <td>00:09:55.727258</td>\n",
       "    </tr>\n",
       "    <tr>\n",
       "      <th>1</th>\n",
       "      <td>0001b1d5-b74a-4cbf-aeb0-7df5947bf349</td>\n",
       "      <td>1.0</td>\n",
       "      <td>2019-10-09 18:33:55.577963</td>\n",
       "      <td>2019-10-09 18:42:22.963948</td>\n",
       "      <td>00:08:27.385985</td>\n",
       "    </tr>\n",
       "    <tr>\n",
       "      <th>2</th>\n",
       "      <td>0001b1d5-b74a-4cbf-aeb0-7df5947bf349</td>\n",
       "      <td>2.0</td>\n",
       "      <td>2019-10-21 19:52:30.778932</td>\n",
       "      <td>2019-10-21 20:07:30.051028</td>\n",
       "      <td>00:14:59.272096</td>\n",
       "    </tr>\n",
       "    <tr>\n",
       "      <th>3</th>\n",
       "      <td>0001b1d5-b74a-4cbf-aeb0-7df5947bf349</td>\n",
       "      <td>3.0</td>\n",
       "      <td>2019-10-22 11:18:14.635436</td>\n",
       "      <td>2019-10-22 11:30:52.807203</td>\n",
       "      <td>00:12:38.171767</td>\n",
       "    </tr>\n",
       "    <tr>\n",
       "      <th>4</th>\n",
       "      <td>00157779-810c-4498-9e05-a1e9e3cedf93</td>\n",
       "      <td>0.0</td>\n",
       "      <td>2019-10-19 21:34:33.849769</td>\n",
       "      <td>2019-10-19 21:59:54.637098</td>\n",
       "      <td>00:25:20.787329</td>\n",
       "    </tr>\n",
       "  </tbody>\n",
       "</table>\n",
       "</div>"
      ],
      "text/plain": [
       "                                 userid  session_num  \\\n",
       "0  0001b1d5-b74a-4cbf-aeb0-7df5947bf349          0.0   \n",
       "1  0001b1d5-b74a-4cbf-aeb0-7df5947bf349          1.0   \n",
       "2  0001b1d5-b74a-4cbf-aeb0-7df5947bf349          2.0   \n",
       "3  0001b1d5-b74a-4cbf-aeb0-7df5947bf349          3.0   \n",
       "4  00157779-810c-4498-9e05-a1e9e3cedf93          0.0   \n",
       "\n",
       "               session_start                session_end      time_spent  \n",
       "0 2019-10-07 13:39:45.989359 2019-10-07 13:49:41.716617 00:09:55.727258  \n",
       "1 2019-10-09 18:33:55.577963 2019-10-09 18:42:22.963948 00:08:27.385985  \n",
       "2 2019-10-21 19:52:30.778932 2019-10-21 20:07:30.051028 00:14:59.272096  \n",
       "3 2019-10-22 11:18:14.635436 2019-10-22 11:30:52.807203 00:12:38.171767  \n",
       "4 2019-10-19 21:34:33.849769 2019-10-19 21:59:54.637098 00:25:20.787329  "
      ]
     },
     "execution_count": 36,
     "metadata": {},
     "output_type": "execute_result"
    }
   ],
   "source": [
    "session_lenght = actions.pivot_table(index=['userid','session_num'], values='event_time', aggfunc=['min','max']).reset_index()\n",
    "session_lenght.columns = ['userid', 'session_num', 'session_start', 'session_end']\n",
    "session_lenght['time_spent'] = session_lenght['session_end'] - session_lenght['session_start']\n",
    "session_lenght.head()"
   ]
  },
  {
   "cell_type": "markdown",
   "metadata": {},
   "source": [
    "Рассчитаем количество сессий на пользователя и выведем основные статистические показатели о распределении"
   ]
  },
  {
   "cell_type": "code",
   "execution_count": 37,
   "metadata": {},
   "outputs": [
    {
     "data": {
      "text/plain": [
       "count    4293.00\n",
       "mean        2.42\n",
       "std         3.54\n",
       "min         1.00\n",
       "50%         1.00\n",
       "max        99.00\n",
       "Name: session_num, dtype: float64"
      ]
     },
     "execution_count": 37,
     "metadata": {},
     "output_type": "execute_result"
    }
   ],
   "source": [
    "session_lenght.pivot_table(index='userid', values='session_num', aggfunc='count')['session_num'].describe(percentiles=[0.5]).round(2)"
   ]
  },
  {
   "cell_type": "markdown",
   "metadata": {},
   "source": [
    "В среднем на пользователя приходится 2,42 сессии в приложении, медианное значение 1. Максимальное количество сессий пришедшихся на одного пользователя - 99"
   ]
  },
  {
   "cell_type": "markdown",
   "metadata": {},
   "source": [
    "Рассчитаем среднюю длительность сессии"
   ]
  },
  {
   "cell_type": "code",
   "execution_count": 38,
   "metadata": {},
   "outputs": [
    {
     "data": {
      "text/plain": [
       "count                     10368\n",
       "mean     0 days 00:12:52.672627\n",
       "std      0 days 00:19:51.611332\n",
       "min             0 days 00:00:00\n",
       "50%      0 days 00:05:35.169711\n",
       "max      0 days 05:21:58.296302\n",
       "Name: time_spent, dtype: object"
      ]
     },
     "execution_count": 38,
     "metadata": {},
     "output_type": "execute_result"
    }
   ],
   "source": [
    "session_lenght['time_spent'].describe(percentiles=[0.5])"
   ]
  },
  {
   "cell_type": "markdown",
   "metadata": {},
   "source": [
    "В среднем длительность сессии составляет 13 минут, самая длительная сессия продолжалась больше 5 часов\n",
    "\n",
    "Минимальная длительсть - 0 рассчитана для сессий которые состояли из одного действия"
   ]
  },
  {
   "cell_type": "markdown",
   "metadata": {},
   "source": [
    "Теперь для каждого пользователя рассчитаем время проведенное в приложении"
   ]
  },
  {
   "cell_type": "code",
   "execution_count": 39,
   "metadata": {},
   "outputs": [
    {
     "data": {
      "text/html": [
       "<div>\n",
       "<style scoped>\n",
       "    .dataframe tbody tr th:only-of-type {\n",
       "        vertical-align: middle;\n",
       "    }\n",
       "\n",
       "    .dataframe tbody tr th {\n",
       "        vertical-align: top;\n",
       "    }\n",
       "\n",
       "    .dataframe thead th {\n",
       "        text-align: right;\n",
       "    }\n",
       "</style>\n",
       "<table border=\"1\" class=\"dataframe\">\n",
       "  <thead>\n",
       "    <tr style=\"text-align: right;\">\n",
       "      <th></th>\n",
       "      <th>userid</th>\n",
       "      <th>time_spent</th>\n",
       "    </tr>\n",
       "  </thead>\n",
       "  <tbody>\n",
       "    <tr>\n",
       "      <th>0</th>\n",
       "      <td>0001b1d5-b74a-4cbf-aeb0-7df5947bf349</td>\n",
       "      <td>00:46:00.557106</td>\n",
       "    </tr>\n",
       "    <tr>\n",
       "      <th>1</th>\n",
       "      <td>00157779-810c-4498-9e05-a1e9e3cedf93</td>\n",
       "      <td>03:16:14.208630</td>\n",
       "    </tr>\n",
       "    <tr>\n",
       "      <th>2</th>\n",
       "      <td>00463033-5717-4bf1-91b4-09183923b9df</td>\n",
       "      <td>00:24:42.475025</td>\n",
       "    </tr>\n",
       "    <tr>\n",
       "      <th>3</th>\n",
       "      <td>004690c3-5a84-4bb7-a8af-e0c8f8fca64e</td>\n",
       "      <td>01:50:44.358600</td>\n",
       "    </tr>\n",
       "    <tr>\n",
       "      <th>4</th>\n",
       "      <td>00551e79-152e-4441-9cf7-565d7eb04090</td>\n",
       "      <td>00:09:19.664543</td>\n",
       "    </tr>\n",
       "  </tbody>\n",
       "</table>\n",
       "</div>"
      ],
      "text/plain": [
       "                                 userid      time_spent\n",
       "0  0001b1d5-b74a-4cbf-aeb0-7df5947bf349 00:46:00.557106\n",
       "1  00157779-810c-4498-9e05-a1e9e3cedf93 03:16:14.208630\n",
       "2  00463033-5717-4bf1-91b4-09183923b9df 00:24:42.475025\n",
       "3  004690c3-5a84-4bb7-a8af-e0c8f8fca64e 01:50:44.358600\n",
       "4  00551e79-152e-4441-9cf7-565d7eb04090 00:09:19.664543"
      ]
     },
     "execution_count": 39,
     "metadata": {},
     "output_type": "execute_result"
    }
   ],
   "source": [
    "time_spent = session_lenght.pivot_table(index='userid', values='time_spent', aggfunc='sum').reset_index()\n",
    "time_spent.head()"
   ]
  },
  {
   "cell_type": "code",
   "execution_count": 40,
   "metadata": {},
   "outputs": [
    {
     "data": {
      "text/plain": [
       "count                      4293\n",
       "mean     0 days 00:31:06.077287\n",
       "std      0 days 01:02:45.814535\n",
       "min             0 days 00:00:00\n",
       "50%      0 days 00:15:05.737061\n",
       "max      1 days 04:04:45.608271\n",
       "Name: time_spent, dtype: object"
      ]
     },
     "execution_count": 40,
     "metadata": {},
     "output_type": "execute_result"
    }
   ],
   "source": [
    "time_spent['time_spent'].describe(percentiles=[0.5])"
   ]
  },
  {
   "cell_type": "markdown",
   "metadata": {},
   "source": [
    "В среднем пользователи проводили в приложении по 30 минут, медианное значение в два раза меньше - 15 минут"
   ]
  },
  {
   "cell_type": "markdown",
   "metadata": {},
   "source": [
    "### Retention rate"
   ]
  },
  {
   "cell_type": "markdown",
   "metadata": {},
   "source": [
    "Для рассчета Retention rate нам необходимо разделить пользователей на когорты, так как в нашем распоряжении имеются данные за один месяц - когорты мы будем рассчитывать по неделям"
   ]
  },
  {
   "cell_type": "markdown",
   "metadata": {},
   "source": [
    "Для каждого действия определеим номер недели когда оно было совершено"
   ]
  },
  {
   "cell_type": "code",
   "execution_count": 41,
   "metadata": {},
   "outputs": [],
   "source": [
    "actions['event_week'] = actions['event_time'].dt.week"
   ]
  },
  {
   "cell_type": "markdown",
   "metadata": {},
   "source": [
    "Каждому пользователю рассчитаем номер недели когда он совершил первое действие"
   ]
  },
  {
   "cell_type": "code",
   "execution_count": 42,
   "metadata": {},
   "outputs": [
    {
     "data": {
      "text/html": [
       "<div>\n",
       "<style scoped>\n",
       "    .dataframe tbody tr th:only-of-type {\n",
       "        vertical-align: middle;\n",
       "    }\n",
       "\n",
       "    .dataframe tbody tr th {\n",
       "        vertical-align: top;\n",
       "    }\n",
       "\n",
       "    .dataframe thead th {\n",
       "        text-align: right;\n",
       "    }\n",
       "</style>\n",
       "<table border=\"1\" class=\"dataframe\">\n",
       "  <thead>\n",
       "    <tr style=\"text-align: right;\">\n",
       "      <th></th>\n",
       "      <th>userid</th>\n",
       "      <th>first_week</th>\n",
       "    </tr>\n",
       "  </thead>\n",
       "  <tbody>\n",
       "    <tr>\n",
       "      <th>0</th>\n",
       "      <td>0001b1d5-b74a-4cbf-aeb0-7df5947bf349</td>\n",
       "      <td>41</td>\n",
       "    </tr>\n",
       "    <tr>\n",
       "      <th>1</th>\n",
       "      <td>00157779-810c-4498-9e05-a1e9e3cedf93</td>\n",
       "      <td>42</td>\n",
       "    </tr>\n",
       "    <tr>\n",
       "      <th>2</th>\n",
       "      <td>00463033-5717-4bf1-91b4-09183923b9df</td>\n",
       "      <td>44</td>\n",
       "    </tr>\n",
       "    <tr>\n",
       "      <th>3</th>\n",
       "      <td>004690c3-5a84-4bb7-a8af-e0c8f8fca64e</td>\n",
       "      <td>42</td>\n",
       "    </tr>\n",
       "    <tr>\n",
       "      <th>4</th>\n",
       "      <td>00551e79-152e-4441-9cf7-565d7eb04090</td>\n",
       "      <td>43</td>\n",
       "    </tr>\n",
       "  </tbody>\n",
       "</table>\n",
       "</div>"
      ],
      "text/plain": [
       "                                 userid  first_week\n",
       "0  0001b1d5-b74a-4cbf-aeb0-7df5947bf349          41\n",
       "1  00157779-810c-4498-9e05-a1e9e3cedf93          42\n",
       "2  00463033-5717-4bf1-91b4-09183923b9df          44\n",
       "3  004690c3-5a84-4bb7-a8af-e0c8f8fca64e          42\n",
       "4  00551e79-152e-4441-9cf7-565d7eb04090          43"
      ]
     },
     "execution_count": 42,
     "metadata": {},
     "output_type": "execute_result"
    }
   ],
   "source": [
    "first_week = actions.pivot_table(index='userid', values='event_week', aggfunc='min').reset_index()\n",
    "first_week.columns = ['userid', 'first_week']\n",
    "first_week.head()"
   ]
  },
  {
   "cell_type": "markdown",
   "metadata": {},
   "source": [
    "Присоединим данные о номере недели первого появления каждого пользователя и рассчитаем неделю жизни когда это действие было совершено"
   ]
  },
  {
   "cell_type": "code",
   "execution_count": 43,
   "metadata": {},
   "outputs": [
    {
     "data": {
      "text/html": [
       "<div>\n",
       "<style scoped>\n",
       "    .dataframe tbody tr th:only-of-type {\n",
       "        vertical-align: middle;\n",
       "    }\n",
       "\n",
       "    .dataframe tbody tr th {\n",
       "        vertical-align: top;\n",
       "    }\n",
       "\n",
       "    .dataframe thead th {\n",
       "        text-align: right;\n",
       "    }\n",
       "</style>\n",
       "<table border=\"1\" class=\"dataframe\">\n",
       "  <thead>\n",
       "    <tr style=\"text-align: right;\">\n",
       "      <th></th>\n",
       "      <th>event_time</th>\n",
       "      <th>event_name</th>\n",
       "      <th>userid</th>\n",
       "      <th>time_sec</th>\n",
       "      <th>has_contacts_show</th>\n",
       "      <th>prev_event_time</th>\n",
       "      <th>time_between</th>\n",
       "      <th>session_end</th>\n",
       "      <th>session_num</th>\n",
       "      <th>event_week</th>\n",
       "      <th>first_week</th>\n",
       "      <th>lifetime</th>\n",
       "    </tr>\n",
       "  </thead>\n",
       "  <tbody>\n",
       "    <tr>\n",
       "      <th>0</th>\n",
       "      <td>2019-10-07 00:00:00.431357</td>\n",
       "      <td>advert_open</td>\n",
       "      <td>020292ab-89bc-4156-9acf-68bc2783f894</td>\n",
       "      <td>2019-10-07 00:00:00</td>\n",
       "      <td>False</td>\n",
       "      <td>NaT</td>\n",
       "      <td>NaT</td>\n",
       "      <td>0.0</td>\n",
       "      <td>0.0</td>\n",
       "      <td>41</td>\n",
       "      <td>41</td>\n",
       "      <td>0</td>\n",
       "    </tr>\n",
       "    <tr>\n",
       "      <th>1</th>\n",
       "      <td>2019-10-07 00:00:01.236320</td>\n",
       "      <td>tips_show</td>\n",
       "      <td>020292ab-89bc-4156-9acf-68bc2783f894</td>\n",
       "      <td>2019-10-07 00:00:01</td>\n",
       "      <td>False</td>\n",
       "      <td>2019-10-07 00:00:00.431357</td>\n",
       "      <td>00:00:00.804963</td>\n",
       "      <td>0.0</td>\n",
       "      <td>0.0</td>\n",
       "      <td>41</td>\n",
       "      <td>41</td>\n",
       "      <td>0</td>\n",
       "    </tr>\n",
       "    <tr>\n",
       "      <th>2</th>\n",
       "      <td>2019-10-07 00:00:02.245341</td>\n",
       "      <td>tips_show</td>\n",
       "      <td>cf7eda61-9349-469f-ac27-e5b6f5ec475c</td>\n",
       "      <td>2019-10-07 00:00:02</td>\n",
       "      <td>False</td>\n",
       "      <td>NaT</td>\n",
       "      <td>NaT</td>\n",
       "      <td>0.0</td>\n",
       "      <td>0.0</td>\n",
       "      <td>41</td>\n",
       "      <td>41</td>\n",
       "      <td>0</td>\n",
       "    </tr>\n",
       "    <tr>\n",
       "      <th>3</th>\n",
       "      <td>2019-10-07 00:00:07.039334</td>\n",
       "      <td>tips_show</td>\n",
       "      <td>020292ab-89bc-4156-9acf-68bc2783f894</td>\n",
       "      <td>2019-10-07 00:00:07</td>\n",
       "      <td>False</td>\n",
       "      <td>2019-10-07 00:00:01.236320</td>\n",
       "      <td>00:00:05.803014</td>\n",
       "      <td>0.0</td>\n",
       "      <td>0.0</td>\n",
       "      <td>41</td>\n",
       "      <td>41</td>\n",
       "      <td>0</td>\n",
       "    </tr>\n",
       "    <tr>\n",
       "      <th>4</th>\n",
       "      <td>2019-10-07 00:00:56.319813</td>\n",
       "      <td>advert_open</td>\n",
       "      <td>cf7eda61-9349-469f-ac27-e5b6f5ec475c</td>\n",
       "      <td>2019-10-07 00:00:56</td>\n",
       "      <td>False</td>\n",
       "      <td>2019-10-07 00:00:02.245341</td>\n",
       "      <td>00:00:54.074472</td>\n",
       "      <td>0.0</td>\n",
       "      <td>0.0</td>\n",
       "      <td>41</td>\n",
       "      <td>41</td>\n",
       "      <td>0</td>\n",
       "    </tr>\n",
       "  </tbody>\n",
       "</table>\n",
       "</div>"
      ],
      "text/plain": [
       "                  event_time   event_name  \\\n",
       "0 2019-10-07 00:00:00.431357  advert_open   \n",
       "1 2019-10-07 00:00:01.236320    tips_show   \n",
       "2 2019-10-07 00:00:02.245341    tips_show   \n",
       "3 2019-10-07 00:00:07.039334    tips_show   \n",
       "4 2019-10-07 00:00:56.319813  advert_open   \n",
       "\n",
       "                                 userid            time_sec  \\\n",
       "0  020292ab-89bc-4156-9acf-68bc2783f894 2019-10-07 00:00:00   \n",
       "1  020292ab-89bc-4156-9acf-68bc2783f894 2019-10-07 00:00:01   \n",
       "2  cf7eda61-9349-469f-ac27-e5b6f5ec475c 2019-10-07 00:00:02   \n",
       "3  020292ab-89bc-4156-9acf-68bc2783f894 2019-10-07 00:00:07   \n",
       "4  cf7eda61-9349-469f-ac27-e5b6f5ec475c 2019-10-07 00:00:56   \n",
       "\n",
       "   has_contacts_show            prev_event_time    time_between  session_end  \\\n",
       "0              False                        NaT             NaT          0.0   \n",
       "1              False 2019-10-07 00:00:00.431357 00:00:00.804963          0.0   \n",
       "2              False                        NaT             NaT          0.0   \n",
       "3              False 2019-10-07 00:00:01.236320 00:00:05.803014          0.0   \n",
       "4              False 2019-10-07 00:00:02.245341 00:00:54.074472          0.0   \n",
       "\n",
       "   session_num  event_week  first_week  lifetime  \n",
       "0          0.0          41          41         0  \n",
       "1          0.0          41          41         0  \n",
       "2          0.0          41          41         0  \n",
       "3          0.0          41          41         0  \n",
       "4          0.0          41          41         0  "
      ]
     },
     "execution_count": 43,
     "metadata": {},
     "output_type": "execute_result"
    }
   ],
   "source": [
    "actions = actions.merge(first_week, on='userid', how='left')\n",
    "actions['lifetime'] = actions['event_week'] - actions['first_week']\n",
    "actions.head()"
   ]
  },
  {
   "cell_type": "markdown",
   "metadata": {},
   "source": [
    "Создадим когорты пользователей"
   ]
  },
  {
   "cell_type": "code",
   "execution_count": 44,
   "metadata": {
    "scrolled": true
   },
   "outputs": [
    {
     "data": {
      "text/html": [
       "<div>\n",
       "<style scoped>\n",
       "    .dataframe tbody tr th:only-of-type {\n",
       "        vertical-align: middle;\n",
       "    }\n",
       "\n",
       "    .dataframe tbody tr th {\n",
       "        vertical-align: top;\n",
       "    }\n",
       "\n",
       "    .dataframe thead th {\n",
       "        text-align: right;\n",
       "    }\n",
       "</style>\n",
       "<table border=\"1\" class=\"dataframe\">\n",
       "  <thead>\n",
       "    <tr style=\"text-align: right;\">\n",
       "      <th></th>\n",
       "      <th>first_week</th>\n",
       "      <th>lifetime</th>\n",
       "      <th>users</th>\n",
       "    </tr>\n",
       "  </thead>\n",
       "  <tbody>\n",
       "    <tr>\n",
       "      <th>0</th>\n",
       "      <td>41</td>\n",
       "      <td>0</td>\n",
       "      <td>1130</td>\n",
       "    </tr>\n",
       "    <tr>\n",
       "      <th>1</th>\n",
       "      <td>41</td>\n",
       "      <td>1</td>\n",
       "      <td>272</td>\n",
       "    </tr>\n",
       "    <tr>\n",
       "      <th>2</th>\n",
       "      <td>41</td>\n",
       "      <td>2</td>\n",
       "      <td>170</td>\n",
       "    </tr>\n",
       "    <tr>\n",
       "      <th>3</th>\n",
       "      <td>41</td>\n",
       "      <td>3</td>\n",
       "      <td>119</td>\n",
       "    </tr>\n",
       "    <tr>\n",
       "      <th>4</th>\n",
       "      <td>42</td>\n",
       "      <td>0</td>\n",
       "      <td>1166</td>\n",
       "    </tr>\n",
       "  </tbody>\n",
       "</table>\n",
       "</div>"
      ],
      "text/plain": [
       "   first_week  lifetime  users\n",
       "0          41         0   1130\n",
       "1          41         1    272\n",
       "2          41         2    170\n",
       "3          41         3    119\n",
       "4          42         0   1166"
      ]
     },
     "execution_count": 44,
     "metadata": {},
     "output_type": "execute_result"
    }
   ],
   "source": [
    "cohorts = actions.pivot_table(index=['first_week', 'lifetime'], values='userid', aggfunc=pd.Series.nunique).reset_index()\n",
    "cohorts.columns = ['first_week', 'lifetime', 'users']\n",
    "cohorts.head()"
   ]
  },
  {
   "cell_type": "markdown",
   "metadata": {},
   "source": [
    "К каждой когорте присоединим количество первоначальных пользователей"
   ]
  },
  {
   "cell_type": "code",
   "execution_count": 45,
   "metadata": {},
   "outputs": [
    {
     "data": {
      "text/html": [
       "<div>\n",
       "<style scoped>\n",
       "    .dataframe tbody tr th:only-of-type {\n",
       "        vertical-align: middle;\n",
       "    }\n",
       "\n",
       "    .dataframe tbody tr th {\n",
       "        vertical-align: top;\n",
       "    }\n",
       "\n",
       "    .dataframe thead th {\n",
       "        text-align: right;\n",
       "    }\n",
       "</style>\n",
       "<table border=\"1\" class=\"dataframe\">\n",
       "  <thead>\n",
       "    <tr style=\"text-align: right;\">\n",
       "      <th></th>\n",
       "      <th>first_week</th>\n",
       "      <th>lifetime</th>\n",
       "      <th>users</th>\n",
       "      <th>initial_users</th>\n",
       "    </tr>\n",
       "  </thead>\n",
       "  <tbody>\n",
       "    <tr>\n",
       "      <th>0</th>\n",
       "      <td>41</td>\n",
       "      <td>0</td>\n",
       "      <td>1130</td>\n",
       "      <td>1130</td>\n",
       "    </tr>\n",
       "    <tr>\n",
       "      <th>1</th>\n",
       "      <td>41</td>\n",
       "      <td>1</td>\n",
       "      <td>272</td>\n",
       "      <td>1130</td>\n",
       "    </tr>\n",
       "    <tr>\n",
       "      <th>2</th>\n",
       "      <td>41</td>\n",
       "      <td>2</td>\n",
       "      <td>170</td>\n",
       "      <td>1130</td>\n",
       "    </tr>\n",
       "    <tr>\n",
       "      <th>3</th>\n",
       "      <td>41</td>\n",
       "      <td>3</td>\n",
       "      <td>119</td>\n",
       "      <td>1130</td>\n",
       "    </tr>\n",
       "    <tr>\n",
       "      <th>4</th>\n",
       "      <td>42</td>\n",
       "      <td>0</td>\n",
       "      <td>1166</td>\n",
       "      <td>1166</td>\n",
       "    </tr>\n",
       "  </tbody>\n",
       "</table>\n",
       "</div>"
      ],
      "text/plain": [
       "   first_week  lifetime  users  initial_users\n",
       "0          41         0   1130           1130\n",
       "1          41         1    272           1130\n",
       "2          41         2    170           1130\n",
       "3          41         3    119           1130\n",
       "4          42         0   1166           1166"
      ]
     },
     "execution_count": 45,
     "metadata": {},
     "output_type": "execute_result"
    }
   ],
   "source": [
    "initial_users = cohorts[cohorts['lifetime'] == 0][['first_week','users']]\n",
    "initial_users.columns = ['first_week', 'initial_users']\n",
    "cohorts = cohorts.merge(initial_users, on='first_week', how='left')\n",
    "cohorts.head()"
   ]
  },
  {
   "cell_type": "markdown",
   "metadata": {},
   "source": [
    "Рассчитаем Retention rate каждой когорты на каждую неделю"
   ]
  },
  {
   "cell_type": "code",
   "execution_count": 46,
   "metadata": {},
   "outputs": [
    {
     "data": {
      "text/html": [
       "<div>\n",
       "<style scoped>\n",
       "    .dataframe tbody tr th:only-of-type {\n",
       "        vertical-align: middle;\n",
       "    }\n",
       "\n",
       "    .dataframe tbody tr th {\n",
       "        vertical-align: top;\n",
       "    }\n",
       "\n",
       "    .dataframe thead th {\n",
       "        text-align: right;\n",
       "    }\n",
       "</style>\n",
       "<table border=\"1\" class=\"dataframe\">\n",
       "  <thead>\n",
       "    <tr style=\"text-align: right;\">\n",
       "      <th></th>\n",
       "      <th>first_week</th>\n",
       "      <th>lifetime</th>\n",
       "      <th>users</th>\n",
       "      <th>initial_users</th>\n",
       "      <th>retention</th>\n",
       "    </tr>\n",
       "  </thead>\n",
       "  <tbody>\n",
       "    <tr>\n",
       "      <th>0</th>\n",
       "      <td>41</td>\n",
       "      <td>0</td>\n",
       "      <td>1130</td>\n",
       "      <td>1130</td>\n",
       "      <td>1.000000</td>\n",
       "    </tr>\n",
       "    <tr>\n",
       "      <th>1</th>\n",
       "      <td>41</td>\n",
       "      <td>1</td>\n",
       "      <td>272</td>\n",
       "      <td>1130</td>\n",
       "      <td>0.240708</td>\n",
       "    </tr>\n",
       "    <tr>\n",
       "      <th>2</th>\n",
       "      <td>41</td>\n",
       "      <td>2</td>\n",
       "      <td>170</td>\n",
       "      <td>1130</td>\n",
       "      <td>0.150442</td>\n",
       "    </tr>\n",
       "    <tr>\n",
       "      <th>3</th>\n",
       "      <td>41</td>\n",
       "      <td>3</td>\n",
       "      <td>119</td>\n",
       "      <td>1130</td>\n",
       "      <td>0.105310</td>\n",
       "    </tr>\n",
       "    <tr>\n",
       "      <th>4</th>\n",
       "      <td>42</td>\n",
       "      <td>0</td>\n",
       "      <td>1166</td>\n",
       "      <td>1166</td>\n",
       "      <td>1.000000</td>\n",
       "    </tr>\n",
       "  </tbody>\n",
       "</table>\n",
       "</div>"
      ],
      "text/plain": [
       "   first_week  lifetime  users  initial_users  retention\n",
       "0          41         0   1130           1130   1.000000\n",
       "1          41         1    272           1130   0.240708\n",
       "2          41         2    170           1130   0.150442\n",
       "3          41         3    119           1130   0.105310\n",
       "4          42         0   1166           1166   1.000000"
      ]
     },
     "execution_count": 46,
     "metadata": {},
     "output_type": "execute_result"
    }
   ],
   "source": [
    "cohorts['retention'] = cohorts['users'] / cohorts['initial_users']\n",
    "cohorts.head()"
   ]
  },
  {
   "cell_type": "markdown",
   "metadata": {},
   "source": [
    "Потроим тепловую карту"
   ]
  },
  {
   "cell_type": "code",
   "execution_count": 47,
   "metadata": {},
   "outputs": [
    {
     "data": {
      "image/png": "[encoded data removed]",
      "text/plain": [
       "<Figure size 864x432 with 2 Axes>"
      ]
     },
     "metadata": {
      "needs_background": "light"
     },
     "output_type": "display_data"
    }
   ],
   "source": [
    "plt.figure(figsize=(12, 6))\n",
    "sns.heatmap(cohorts.pivot_table(index='first_week', columns='lifetime', values='retention'), \n",
    "            annot=True, fmt='.1%', linewidths=1)\n",
    "plt.title('Retention rate', fontsize=14, pad=14)\n",
    "plt.ylabel('Когорта', fontsize=12, labelpad=12)\n",
    "plt.xlabel('Неделя жизни', fontsize=12, labelpad=12)\n",
    "plt.yticks(rotation=0)\n",
    "plt.show()"
   ]
  },
  {
   "cell_type": "markdown",
   "metadata": {},
   "source": [
    "Рассчитаем средний Retention rate по неделям"
   ]
  },
  {
   "cell_type": "code",
   "execution_count": 48,
   "metadata": {},
   "outputs": [
    {
     "data": {
      "text/html": [
       "<div>\n",
       "<style scoped>\n",
       "    .dataframe tbody tr th:only-of-type {\n",
       "        vertical-align: middle;\n",
       "    }\n",
       "\n",
       "    .dataframe tbody tr th {\n",
       "        vertical-align: top;\n",
       "    }\n",
       "\n",
       "    .dataframe thead th {\n",
       "        text-align: right;\n",
       "    }\n",
       "</style>\n",
       "<table border=\"1\" class=\"dataframe\">\n",
       "  <thead>\n",
       "    <tr style=\"text-align: right;\">\n",
       "      <th></th>\n",
       "      <th>retention</th>\n",
       "    </tr>\n",
       "    <tr>\n",
       "      <th>lifetime</th>\n",
       "      <th></th>\n",
       "    </tr>\n",
       "  </thead>\n",
       "  <tbody>\n",
       "    <tr>\n",
       "      <th>0</th>\n",
       "      <td>1.00</td>\n",
       "    </tr>\n",
       "    <tr>\n",
       "      <th>1</th>\n",
       "      <td>0.23</td>\n",
       "    </tr>\n",
       "    <tr>\n",
       "      <th>2</th>\n",
       "      <td>0.14</td>\n",
       "    </tr>\n",
       "    <tr>\n",
       "      <th>3</th>\n",
       "      <td>0.11</td>\n",
       "    </tr>\n",
       "  </tbody>\n",
       "</table>\n",
       "</div>"
      ],
      "text/plain": [
       "          retention\n",
       "lifetime           \n",
       "0              1.00\n",
       "1              0.23\n",
       "2              0.14\n",
       "3              0.11"
      ]
     },
     "execution_count": 48,
     "metadata": {},
     "output_type": "execute_result"
    }
   ],
   "source": [
    "cohorts.pivot_table(index='lifetime', values='retention', aggfunc='mean').round(2)"
   ]
  },
  {
   "cell_type": "markdown",
   "metadata": {},
   "source": [
    "Через неделю в приложение возвращается 23% пользователей, на третью неделю жизни этот показатель значительно снижается и составляет 14%, четвертая неделя - 11%, показатель ниже чем на предыдущей неделе, но незначительно, основная масса нелояльных пользователей отсекаются на третьей неделе"
   ]
  },
  {
   "cell_type": "markdown",
   "metadata": {},
   "source": [
    "## В разрезе источников<a id=\"stage_2_per_source\"></a>"
   ]
  },
  {
   "cell_type": "markdown",
   "metadata": {},
   "source": [
    "Добавим сведения об источнике откуда пользователь установил приложение в таблицу `actions`"
   ]
  },
  {
   "cell_type": "code",
   "execution_count": 49,
   "metadata": {},
   "outputs": [],
   "source": [
    "actions = actions.merge(sources, on='userid', how='left')"
   ]
  },
  {
   "cell_type": "markdown",
   "metadata": {},
   "source": [
    "Рассчитаем количество пользователей из каждого источника"
   ]
  },
  {
   "cell_type": "code",
   "execution_count": 50,
   "metadata": {},
   "outputs": [
    {
     "data": {
      "text/plain": [
       "yandex    1934\n",
       "other     1230\n",
       "google    1129\n",
       "Name: source, dtype: int64"
      ]
     },
     "execution_count": 50,
     "metadata": {},
     "output_type": "execute_result"
    }
   ],
   "source": [
    "actions[['userid','source']].drop_duplicates()['source'].value_counts()"
   ]
  },
  {
   "cell_type": "markdown",
   "metadata": {},
   "source": [
    "Отобразим эти данные на диаграмме"
   ]
  },
  {
   "cell_type": "code",
   "execution_count": 51,
   "metadata": {},
   "outputs": [
    {
     "data": {
      "image/png": "[encoded data removed]",
      "text/plain": [
       "<Figure size 432x432 with 1 Axes>"
      ]
     },
     "metadata": {
      "needs_background": "light"
     },
     "output_type": "display_data"
    }
   ],
   "source": [
    "plt.figure(figsize=(6, 6))\n",
    "plt.bar(height=actions[['userid','source']].drop_duplicates()['source'].value_counts().values,\n",
    "        x=actions[['userid','source']].drop_duplicates()['source'].value_counts().index,\n",
    "        width=0.4, color=['orange', 'green', 'blue'])\n",
    "plt.title('Количество пользователей в разрезе источников', fontsize=14, pad=14)\n",
    "plt.ylabel('Количество пользователей', fontsize=12, labelpad=12)\n",
    "plt.xlabel('Источник', fontsize=12, labelpad=12)\n",
    "sns.despine()\n",
    "plt.show()"
   ]
  },
  {
   "cell_type": "markdown",
   "metadata": {},
   "source": [
    "Больше всего пользователей установивших приложение из yandex - 1934, из google - 1129 пользователей и 1230 из всех остальных источников"
   ]
  },
  {
   "cell_type": "markdown",
   "metadata": {},
   "source": [
    "### Доля пользователей посмотревших контакты"
   ]
  },
  {
   "cell_type": "markdown",
   "metadata": {},
   "source": [
    "Отобразим доли пользователей посмотревших контакты в разрезе источников"
   ]
  },
  {
   "cell_type": "code",
   "execution_count": 52,
   "metadata": {},
   "outputs": [
    {
     "name": "stdout",
     "output_type": "stream",
     "text": [
      "Источник: other\n",
      "всего: 1230, посмотрели контакты: 228, отношение: 18.5%\n",
      "\n",
      "Источник: yandex\n",
      "всего: 1934, посмотрели контакты: 478, отношение: 24.7%\n",
      "\n",
      "Источник: google\n",
      "всего: 1129, посмотрели контакты: 275, отношение: 24.4%\n",
      "\n"
     ]
    }
   ],
   "source": [
    "for source in actions['source'].unique():\n",
    "    has_contacts_show = actions[(actions['has_contacts_show'] == True) & (actions['source'] == source)]['userid'].nunique()\n",
    "    total = actions[actions['source'] == source]['userid'].nunique()\n",
    "    ratio = has_contacts_show / total\n",
    "    print('Источник: {}\\nвсего: {}, посмотрели контакты: {}, отношение: {:.1%}\\n'.format(source, total, has_contacts_show, ratio))"
   ]
  },
  {
   "cell_type": "markdown",
   "metadata": {},
   "source": [
    "Доля пользователей, совершивших целевое действие для источников yandex и google различается совсем незначительно 24,7 и 24,4 процента\n",
    "\n",
    "Для пользователей установивших приложение из других источников этот показатель составляет 18,5% и он ниже среднего значения для всех пользователей (22,9%)"
   ]
  },
  {
   "cell_type": "markdown",
   "metadata": {},
   "source": [
    "### Количество событий на пользователя"
   ]
  },
  {
   "cell_type": "markdown",
   "metadata": {},
   "source": [
    "Рассчитаем количество действий на каждого пользователя и присоединим к этой таблице информацию об источнике откуда пользователь установил приложение"
   ]
  },
  {
   "cell_type": "code",
   "execution_count": 53,
   "metadata": {},
   "outputs": [],
   "source": [
    "actions_per_user = actions.pivot_table(index='userid', values='event_name', aggfunc='count').reset_index()\n",
    "actions_per_user.columns = ['userid','event_count']\n",
    "actions_per_user = actions_per_user.merge(sources, on='userid', how='left')"
   ]
  },
  {
   "cell_type": "markdown",
   "metadata": {},
   "source": [
    "Выведем основные статистические показатели о количестве событий на пользователя в разрезе источников"
   ]
  },
  {
   "cell_type": "code",
   "execution_count": 54,
   "metadata": {},
   "outputs": [
    {
     "data": {
      "text/html": [
       "<div>\n",
       "<style scoped>\n",
       "    .dataframe tbody tr th:only-of-type {\n",
       "        vertical-align: middle;\n",
       "    }\n",
       "\n",
       "    .dataframe tbody tr th {\n",
       "        vertical-align: top;\n",
       "    }\n",
       "\n",
       "    .dataframe thead th {\n",
       "        text-align: right;\n",
       "    }\n",
       "</style>\n",
       "<table border=\"1\" class=\"dataframe\">\n",
       "  <thead>\n",
       "    <tr style=\"text-align: right;\">\n",
       "      <th></th>\n",
       "      <th>other</th>\n",
       "      <th>yandex</th>\n",
       "      <th>google</th>\n",
       "    </tr>\n",
       "  </thead>\n",
       "  <tbody>\n",
       "    <tr>\n",
       "      <th>count</th>\n",
       "      <td>1230.00</td>\n",
       "      <td>1934.00</td>\n",
       "      <td>1129.00</td>\n",
       "    </tr>\n",
       "    <tr>\n",
       "      <th>mean</th>\n",
       "      <td>15.83</td>\n",
       "      <td>17.73</td>\n",
       "      <td>18.11</td>\n",
       "    </tr>\n",
       "    <tr>\n",
       "      <th>std</th>\n",
       "      <td>22.81</td>\n",
       "      <td>30.83</td>\n",
       "      <td>32.09</td>\n",
       "    </tr>\n",
       "    <tr>\n",
       "      <th>min</th>\n",
       "      <td>1.00</td>\n",
       "      <td>1.00</td>\n",
       "      <td>1.00</td>\n",
       "    </tr>\n",
       "    <tr>\n",
       "      <th>50%</th>\n",
       "      <td>9.00</td>\n",
       "      <td>9.00</td>\n",
       "      <td>9.00</td>\n",
       "    </tr>\n",
       "    <tr>\n",
       "      <th>max</th>\n",
       "      <td>249.00</td>\n",
       "      <td>478.00</td>\n",
       "      <td>397.00</td>\n",
       "    </tr>\n",
       "  </tbody>\n",
       "</table>\n",
       "</div>"
      ],
      "text/plain": [
       "         other   yandex   google\n",
       "count  1230.00  1934.00  1129.00\n",
       "mean     15.83    17.73    18.11\n",
       "std      22.81    30.83    32.09\n",
       "min       1.00     1.00     1.00\n",
       "50%       9.00     9.00     9.00\n",
       "max     249.00   478.00   397.00"
      ]
     },
     "execution_count": 54,
     "metadata": {},
     "output_type": "execute_result"
    }
   ],
   "source": [
    "actions_describe_concat = pd.Series(dtype='object')\n",
    "\n",
    "for source in actions['source'].unique():\n",
    "    actions_describe_source = actions_per_user[actions_per_user['source'] == source]['event_count'].describe(percentiles=[0.5])\n",
    "    actions_describe_source.name = source\n",
    "    actions_describe_concat = pd.concat([actions_describe_concat, actions_describe_source], axis=1, sort=False)\n",
    "    \n",
    "actions_describe_concat.drop(0, axis=1).round(2)"
   ]
  },
  {
   "cell_type": "code",
   "execution_count": 55,
   "metadata": {},
   "outputs": [
    {
     "data": {
      "image/png": "[encoded data removed]",
      "text/plain": [
       "<Figure size 864x288 with 1 Axes>"
      ]
     },
     "metadata": {
      "needs_background": "light"
     },
     "output_type": "display_data"
    }
   ],
   "source": [
    "plt.figure(figsize=(12,4))\n",
    "plt.boxplot(np.array([actions_per_user[actions_per_user['source'] == 'yandex']['event_count'],\n",
    "                      actions_per_user[actions_per_user['source'] == 'google']['event_count'],\n",
    "                      actions_per_user[actions_per_user['source'] == 'other']['event_count']], dtype='object'), \n",
    "            vert=False, widths=0.8, labels=['yandex','google','other'])\n",
    "plt.title('Распределения количества действий пользователей', fontsize=14, pad=14)\n",
    "plt.xlabel('Количество событий', fontsize=12, labelpad=12)\n",
    "plt.xticks(fontsize=10)\n",
    "sns.despine()\n",
    "plt.show()"
   ]
  },
  {
   "cell_type": "markdown",
   "metadata": {},
   "source": [
    "Количества действий пользователей в разрезе источников схожи, а медиана для всех трех категорий одинакова, выбросы по количеству действий на пользователя присутствуют в каждом источнике"
   ]
  },
  {
   "cell_type": "markdown",
   "metadata": {},
   "source": [
    "### Время проведенное в приложении"
   ]
  },
  {
   "cell_type": "markdown",
   "metadata": {},
   "source": [
    "К ранее составленной таблице со временем сессий добавим информацию об источнике"
   ]
  },
  {
   "cell_type": "code",
   "execution_count": 56,
   "metadata": {},
   "outputs": [],
   "source": [
    "session_lenght = session_lenght.merge(sources, on='userid', how='left')"
   ]
  },
  {
   "cell_type": "markdown",
   "metadata": {},
   "source": [
    "Рассчитаем среднее количество сессий на пользователя в разрезе источников и выведем информацию о распределениях"
   ]
  },
  {
   "cell_type": "code",
   "execution_count": 57,
   "metadata": {},
   "outputs": [
    {
     "data": {
      "text/html": [
       "<div>\n",
       "<style scoped>\n",
       "    .dataframe tbody tr th:only-of-type {\n",
       "        vertical-align: middle;\n",
       "    }\n",
       "\n",
       "    .dataframe tbody tr th {\n",
       "        vertical-align: top;\n",
       "    }\n",
       "\n",
       "    .dataframe thead th {\n",
       "        text-align: right;\n",
       "    }\n",
       "</style>\n",
       "<table border=\"1\" class=\"dataframe\">\n",
       "  <thead>\n",
       "    <tr style=\"text-align: right;\">\n",
       "      <th></th>\n",
       "      <th>other</th>\n",
       "      <th>yandex</th>\n",
       "      <th>google</th>\n",
       "    </tr>\n",
       "  </thead>\n",
       "  <tbody>\n",
       "    <tr>\n",
       "      <th>count</th>\n",
       "      <td>1230.00</td>\n",
       "      <td>1934.00</td>\n",
       "      <td>1129.00</td>\n",
       "    </tr>\n",
       "    <tr>\n",
       "      <th>mean</th>\n",
       "      <td>2.45</td>\n",
       "      <td>2.34</td>\n",
       "      <td>2.50</td>\n",
       "    </tr>\n",
       "    <tr>\n",
       "      <th>std</th>\n",
       "      <td>3.09</td>\n",
       "      <td>3.63</td>\n",
       "      <td>3.82</td>\n",
       "    </tr>\n",
       "    <tr>\n",
       "      <th>min</th>\n",
       "      <td>1.00</td>\n",
       "      <td>1.00</td>\n",
       "      <td>1.00</td>\n",
       "    </tr>\n",
       "    <tr>\n",
       "      <th>50%</th>\n",
       "      <td>1.00</td>\n",
       "      <td>1.00</td>\n",
       "      <td>1.00</td>\n",
       "    </tr>\n",
       "    <tr>\n",
       "      <th>max</th>\n",
       "      <td>45.00</td>\n",
       "      <td>99.00</td>\n",
       "      <td>52.00</td>\n",
       "    </tr>\n",
       "  </tbody>\n",
       "</table>\n",
       "</div>"
      ],
      "text/plain": [
       "         other   yandex   google\n",
       "count  1230.00  1934.00  1129.00\n",
       "mean      2.45     2.34     2.50\n",
       "std       3.09     3.63     3.82\n",
       "min       1.00     1.00     1.00\n",
       "50%       1.00     1.00     1.00\n",
       "max      45.00    99.00    52.00"
      ]
     },
     "execution_count": 57,
     "metadata": {},
     "output_type": "execute_result"
    }
   ],
   "source": [
    "session_count_describe_concat = pd.Series(dtype='object')\n",
    "\n",
    "for source in actions['source'].unique():\n",
    "    session_count_describe = session_lenght[session_lenght['source'] == source].pivot_table(index='userid', values='session_num', aggfunc='count')['session_num'].describe(percentiles=[0.5])\n",
    "    session_count_describe.name = source\n",
    "    session_count_describe_concat = pd.concat([session_count_describe_concat, session_count_describe], axis=1, sort=False)\n",
    "    \n",
    "session_count_describe_concat.drop(0, axis=1).round(2)"
   ]
  },
  {
   "cell_type": "markdown",
   "metadata": {},
   "source": [
    "Распределения количества сессий по источникам схожи, кроме максимального значения - для источника yandex оно составляет 99 сессий на одного из пользователей, что в два раза выше чем по остальным источникам"
   ]
  },
  {
   "cell_type": "markdown",
   "metadata": {},
   "source": [
    "Добавим ранее расчитанную информацию о времени проведенном в приложении в основную таблицу"
   ]
  },
  {
   "cell_type": "code",
   "execution_count": 58,
   "metadata": {},
   "outputs": [],
   "source": [
    "actions = actions.merge(time_spent, on='userid', how='left')"
   ]
  },
  {
   "cell_type": "markdown",
   "metadata": {},
   "source": [
    "Рассчитаем и выведем основные статистические показатели"
   ]
  },
  {
   "cell_type": "code",
   "execution_count": 59,
   "metadata": {},
   "outputs": [
    {
     "data": {
      "text/html": [
       "<div>\n",
       "<style scoped>\n",
       "    .dataframe tbody tr th:only-of-type {\n",
       "        vertical-align: middle;\n",
       "    }\n",
       "\n",
       "    .dataframe tbody tr th {\n",
       "        vertical-align: top;\n",
       "    }\n",
       "\n",
       "    .dataframe thead th {\n",
       "        text-align: right;\n",
       "    }\n",
       "</style>\n",
       "<table border=\"1\" class=\"dataframe\">\n",
       "  <thead>\n",
       "    <tr style=\"text-align: right;\">\n",
       "      <th></th>\n",
       "      <th>other</th>\n",
       "      <th>yandex</th>\n",
       "      <th>google</th>\n",
       "    </tr>\n",
       "  </thead>\n",
       "  <tbody>\n",
       "    <tr>\n",
       "      <th>count</th>\n",
       "      <td>1230</td>\n",
       "      <td>1934</td>\n",
       "      <td>1129</td>\n",
       "    </tr>\n",
       "    <tr>\n",
       "      <th>mean</th>\n",
       "      <td>0 days 00:26:42.044276</td>\n",
       "      <td>0 days 00:32:53.313123</td>\n",
       "      <td>0 days 00:32:50.033442</td>\n",
       "    </tr>\n",
       "    <tr>\n",
       "      <th>std</th>\n",
       "      <td>0 days 00:46:26.320700</td>\n",
       "      <td>0 days 01:07:23.459318</td>\n",
       "      <td>0 days 01:09:28.551567</td>\n",
       "    </tr>\n",
       "    <tr>\n",
       "      <th>min</th>\n",
       "      <td>0 days 00:00:00</td>\n",
       "      <td>0 days 00:00:00</td>\n",
       "      <td>0 days 00:00:00</td>\n",
       "    </tr>\n",
       "    <tr>\n",
       "      <th>50%</th>\n",
       "      <td>0 days 00:12:28.697246</td>\n",
       "      <td>0 days 00:16:11.904450</td>\n",
       "      <td>0 days 00:15:55.545123</td>\n",
       "    </tr>\n",
       "    <tr>\n",
       "      <th>max</th>\n",
       "      <td>0 days 09:06:39.438021</td>\n",
       "      <td>1 days 04:04:45.608271</td>\n",
       "      <td>0 days 19:07:25.528439</td>\n",
       "    </tr>\n",
       "  </tbody>\n",
       "</table>\n",
       "</div>"
      ],
      "text/plain": [
       "                        other                  yandex                  google\n",
       "count                    1230                    1934                    1129\n",
       "mean   0 days 00:26:42.044276  0 days 00:32:53.313123  0 days 00:32:50.033442\n",
       "std    0 days 00:46:26.320700  0 days 01:07:23.459318  0 days 01:09:28.551567\n",
       "min           0 days 00:00:00         0 days 00:00:00         0 days 00:00:00\n",
       "50%    0 days 00:12:28.697246  0 days 00:16:11.904450  0 days 00:15:55.545123\n",
       "max    0 days 09:06:39.438021  1 days 04:04:45.608271  0 days 19:07:25.528439"
      ]
     },
     "execution_count": 59,
     "metadata": {},
     "output_type": "execute_result"
    }
   ],
   "source": [
    "time_spent_per_source = actions[['userid','time_spent','source']].drop_duplicates()\n",
    "time_describe_concat = pd.Series(dtype='object')\n",
    "\n",
    "for source in time_spent_per_source['source'].unique():\n",
    "    time_describe_source = time_spent_per_source[time_spent_per_source['source'] == source]['time_spent'].describe(percentiles=[0.5])\n",
    "    time_describe_source.name = source\n",
    "    time_describe_concat = pd.concat([time_describe_concat, time_describe_source], axis=1, sort=False)\n",
    "    \n",
    "time_describe_concat.drop(0, axis=1)"
   ]
  },
  {
   "cell_type": "markdown",
   "metadata": {},
   "source": [
    "Аналогично предыдущим распределениям - средние значения схожи, максимальное выше у источника yandex (это обусловлено большим количеством пользователей)"
   ]
  },
  {
   "cell_type": "markdown",
   "metadata": {},
   "source": [
    "### Retention rate"
   ]
  },
  {
   "cell_type": "markdown",
   "metadata": {},
   "source": [
    "Определим функцию для разделения пользователей на когорты по источнику"
   ]
  },
  {
   "cell_type": "code",
   "execution_count": 60,
   "metadata": {},
   "outputs": [],
   "source": [
    "def cohorts_retention(source):\n",
    "    cohorts = actions[actions['source'] == source].pivot_table(index=['first_week', 'lifetime'], values='userid', \n",
    "                                                               aggfunc=pd.Series.nunique).reset_index()\n",
    "    cohorts.columns = ['first_week', 'lifetime', 'users']\n",
    "    initial_users = cohorts[cohorts['lifetime'] == 0][['first_week','users']]\n",
    "    initial_users.columns = ['first_week', 'initial_users']\n",
    "    cohorts = cohorts.merge(initial_users, on='first_week', how='left')\n",
    "    cohorts['retention'] = cohorts['users'] / cohorts['initial_users']\n",
    "    return cohorts"
   ]
  },
  {
   "cell_type": "markdown",
   "metadata": {},
   "source": [
    "Построим тепловые карты Retention rate по каждому источнику"
   ]
  },
  {
   "cell_type": "code",
   "execution_count": 61,
   "metadata": {
    "scrolled": false
   },
   "outputs": [
    {
     "data": {
      "image/png": "[encoded data removed]",
      "text/plain": [
       "<Figure size 1152x252 with 4 Axes>"
      ]
     },
     "metadata": {
      "needs_background": "light"
     },
     "output_type": "display_data"
    }
   ],
   "source": [
    "fig, axes = plt.subplots(1,4, figsize=(16,3.5), gridspec_kw={'width_ratios':[1,1,1,0.08]})\n",
    "\n",
    "h1 = sns.heatmap(cohorts_retention('other').pivot_table(index='first_week', columns='lifetime', values='retention'), \n",
    "                 annot=True, fmt='.1%', linewidths=1, cbar=False, ax=axes[0])\n",
    "h1.set_title('other')\n",
    "h1.set_ylabel('Когорта')\n",
    "h1.set_xlabel('')\n",
    "\n",
    "h2 = sns.heatmap(cohorts_retention('yandex').pivot_table(index='first_week', columns='lifetime', values='retention'), \n",
    "                 annot=True, fmt='.1%', linewidths=1, cbar=False, ax=axes[1])\n",
    "h2.set_title('yandex')\n",
    "h2.set_ylabel('')\n",
    "h2.set_xlabel('Неделя жизни')\n",
    "h2.set_yticks([])\n",
    "\n",
    "h3 = sns.heatmap(cohorts_retention('google').pivot_table(index='first_week', columns='lifetime', values='retention'), \n",
    "                 annot=True, fmt='.1%', linewidths=1, ax=axes[2], cbar_ax=axes[3])\n",
    "h3.set_title('google')\n",
    "h3.set_ylabel('')\n",
    "h3.set_xlabel('')\n",
    "h3.set_yticks([])\n",
    "\n",
    "plt.suptitle('Retention rate по источникам', y=1.05, fontsize=14)\n",
    "plt.show()"
   ]
  },
  {
   "cell_type": "markdown",
   "metadata": {},
   "source": [
    "Retention rate по источникам между собой различается слабо"
   ]
  },
  {
   "cell_type": "markdown",
   "metadata": {},
   "source": [
    "## Вывод <a id=\"stage_2_summary\"></a>\n",
    "\n",
    "**Все пользователи**\n",
    "\n",
    "В нашем распоряжении имеется 74197 записей о действиях 4293 пользователей\n",
    "\n",
    "События достаточно равномерно распределены по дням наблюдения, целевое действие (просмотр контактов) совершили 981 пользователей (22,9%)\n",
    "\n",
    "В среднем на каждого пользователя приходится 17 действий, 95% пользователей, записи о действиях которых находятся в нашем распоряжении, совершают в приложении 59 и меньше действий. Но имеется большое количество выбросов, судя по открытым источникам с анализом подобной информации, это нормальная ситуация для пользователей мобильных приложений - всегда есть некоторое количество человек которые пользуются приложением аномально большое количество раз\n",
    "\n",
    "После разделения действий пользователей на сессии мы смогли определить что в среднем на пользователя приходится 2,42 сессии в приложении. Максимальное количество сессий пришедшихся на одного пользователя - 99. В среднем длительность сессии составляет 13 минут, самая длительная сессия продолжалась больше 5 часовм, минимальная длительсть - 0 рассчитана для сессий которые состояли из одного действия\n",
    "\n",
    "За все время наблюдей, пользователи, в среднем, проводили в приложении по 30 минут\n",
    "\n",
    "Через неделю в приложение возвращается 23% пользователей, на третью неделю жизни этот показатель значительно снижается и составляет 14%, на четвертой неделе - 11%, основная масса нелояльных пользователей отсекаются на третьей неделе\n",
    "\n",
    "**Пользователи в разрезе источников**\n",
    "\n",
    "Больше всего пользователей установивших приложение из yandex - 1934, из google - 1129 и 1230 пользователей из всех остальных источников\n",
    "\n",
    "Доля пользователей, совершивших целевое действие для источников yandex и google различается совсем незначительно 24,7 и 24,4 процента. Для пользователей установивших приложение из других источников этот показатель составляет 18,5%\n",
    "\n",
    "Среднее количество действий пользователей в приложении в разрезе источников схожи, а медианное значение для всех трех категорий одинаково\n",
    "\n",
    "Распределения количества сессий по источникам различаются не значительно, кроме максимального значения - для источника yandex оно составляет 99 сессий на одного из пользователей, что в два раза больше чем по остальным источникам\n",
    "\n",
    "Распределения времени проведенного в приложении для всех трех источников похожи, за исключением того, что максимальное значение выше у источника yandex (это обусловлено большим количеством пользователей)\n",
    "\n",
    "Retention rate по источникам между собой различается слабо"
   ]
  },
  {
   "cell_type": "markdown",
   "metadata": {},
   "source": [
    "# Этап 3 - Сегментация пользователей<a id=\"stage_3\"></a>"
   ]
  },
  {
   "cell_type": "markdown",
   "metadata": {},
   "source": [
    "Рассчитаем количество действий на каждого пользователя"
   ]
  },
  {
   "cell_type": "code",
   "execution_count": 62,
   "metadata": {},
   "outputs": [
    {
     "data": {
      "text/html": [
       "<div>\n",
       "<style scoped>\n",
       "    .dataframe tbody tr th:only-of-type {\n",
       "        vertical-align: middle;\n",
       "    }\n",
       "\n",
       "    .dataframe tbody tr th {\n",
       "        vertical-align: top;\n",
       "    }\n",
       "\n",
       "    .dataframe thead th {\n",
       "        text-align: right;\n",
       "    }\n",
       "</style>\n",
       "<table border=\"1\" class=\"dataframe\">\n",
       "  <thead>\n",
       "    <tr style=\"text-align: right;\">\n",
       "      <th></th>\n",
       "      <th>userid</th>\n",
       "      <th>event_name</th>\n",
       "      <th>event_count</th>\n",
       "    </tr>\n",
       "  </thead>\n",
       "  <tbody>\n",
       "    <tr>\n",
       "      <th>0</th>\n",
       "      <td>0001b1d5-b74a-4cbf-aeb0-7df5947bf349</td>\n",
       "      <td>map</td>\n",
       "      <td>6</td>\n",
       "    </tr>\n",
       "    <tr>\n",
       "      <th>1</th>\n",
       "      <td>0001b1d5-b74a-4cbf-aeb0-7df5947bf349</td>\n",
       "      <td>tips_show</td>\n",
       "      <td>29</td>\n",
       "    </tr>\n",
       "    <tr>\n",
       "      <th>2</th>\n",
       "      <td>00157779-810c-4498-9e05-a1e9e3cedf93</td>\n",
       "      <td>advert_open</td>\n",
       "      <td>2</td>\n",
       "    </tr>\n",
       "    <tr>\n",
       "      <th>3</th>\n",
       "      <td>00157779-810c-4498-9e05-a1e9e3cedf93</td>\n",
       "      <td>contacts_call</td>\n",
       "      <td>5</td>\n",
       "    </tr>\n",
       "    <tr>\n",
       "      <th>4</th>\n",
       "      <td>00157779-810c-4498-9e05-a1e9e3cedf93</td>\n",
       "      <td>contacts_show</td>\n",
       "      <td>11</td>\n",
       "    </tr>\n",
       "  </tbody>\n",
       "</table>\n",
       "</div>"
      ],
      "text/plain": [
       "                                 userid     event_name  event_count\n",
       "0  0001b1d5-b74a-4cbf-aeb0-7df5947bf349            map            6\n",
       "1  0001b1d5-b74a-4cbf-aeb0-7df5947bf349      tips_show           29\n",
       "2  00157779-810c-4498-9e05-a1e9e3cedf93    advert_open            2\n",
       "3  00157779-810c-4498-9e05-a1e9e3cedf93  contacts_call            5\n",
       "4  00157779-810c-4498-9e05-a1e9e3cedf93  contacts_show           11"
      ]
     },
     "execution_count": 62,
     "metadata": {},
     "output_type": "execute_result"
    }
   ],
   "source": [
    "actions_per_user = actions.pivot_table(index=['userid', 'event_name'], values='event_time', aggfunc='count').reset_index()\n",
    "actions_per_user.columns = ['userid', 'event_name', 'event_count']\n",
    "actions_per_user.head()"
   ]
  },
  {
   "cell_type": "markdown",
   "metadata": {},
   "source": [
    "Добавим эти сведения в основную таблицу"
   ]
  },
  {
   "cell_type": "code",
   "execution_count": 63,
   "metadata": {},
   "outputs": [],
   "source": [
    "actions = actions.merge(actions_per_user, on=['userid','event_name'], how='left')"
   ]
  },
  {
   "cell_type": "markdown",
   "metadata": {},
   "source": [
    "Найдем средние значения количетсва уникальных действий на каждого пользователя"
   ]
  },
  {
   "cell_type": "code",
   "execution_count": 64,
   "metadata": {},
   "outputs": [
    {
     "data": {
      "text/html": [
       "<div>\n",
       "<style scoped>\n",
       "    .dataframe tbody tr th:only-of-type {\n",
       "        vertical-align: middle;\n",
       "    }\n",
       "\n",
       "    .dataframe tbody tr th {\n",
       "        vertical-align: top;\n",
       "    }\n",
       "\n",
       "    .dataframe thead th {\n",
       "        text-align: right;\n",
       "    }\n",
       "</style>\n",
       "<table border=\"1\" class=\"dataframe\">\n",
       "  <thead>\n",
       "    <tr style=\"text-align: right;\">\n",
       "      <th></th>\n",
       "      <th>event_name</th>\n",
       "      <th>event_count</th>\n",
       "    </tr>\n",
       "  </thead>\n",
       "  <tbody>\n",
       "    <tr>\n",
       "      <th>0</th>\n",
       "      <td>advert_open</td>\n",
       "      <td>8.0</td>\n",
       "    </tr>\n",
       "    <tr>\n",
       "      <th>1</th>\n",
       "      <td>contacts_call</td>\n",
       "      <td>3.0</td>\n",
       "    </tr>\n",
       "    <tr>\n",
       "      <th>2</th>\n",
       "      <td>contacts_show</td>\n",
       "      <td>5.0</td>\n",
       "    </tr>\n",
       "    <tr>\n",
       "      <th>3</th>\n",
       "      <td>favorites_add</td>\n",
       "      <td>4.0</td>\n",
       "    </tr>\n",
       "    <tr>\n",
       "      <th>4</th>\n",
       "      <td>map</td>\n",
       "      <td>3.0</td>\n",
       "    </tr>\n",
       "    <tr>\n",
       "      <th>5</th>\n",
       "      <td>photos_show</td>\n",
       "      <td>9.0</td>\n",
       "    </tr>\n",
       "    <tr>\n",
       "      <th>6</th>\n",
       "      <td>search</td>\n",
       "      <td>4.0</td>\n",
       "    </tr>\n",
       "    <tr>\n",
       "      <th>7</th>\n",
       "      <td>tips_click</td>\n",
       "      <td>3.0</td>\n",
       "    </tr>\n",
       "    <tr>\n",
       "      <th>8</th>\n",
       "      <td>tips_show</td>\n",
       "      <td>14.0</td>\n",
       "    </tr>\n",
       "  </tbody>\n",
       "</table>\n",
       "</div>"
      ],
      "text/plain": [
       "      event_name  event_count\n",
       "0    advert_open          8.0\n",
       "1  contacts_call          3.0\n",
       "2  contacts_show          5.0\n",
       "3  favorites_add          4.0\n",
       "4            map          3.0\n",
       "5    photos_show          9.0\n",
       "6         search          4.0\n",
       "7     tips_click          3.0\n",
       "8      tips_show         14.0"
      ]
     },
     "execution_count": 64,
     "metadata": {},
     "output_type": "execute_result"
    }
   ],
   "source": [
    "mean_actions = actions_per_user.groupby('event_name', as_index=False)['event_count'].mean().round()\n",
    "mean_actions"
   ]
  },
  {
   "cell_type": "markdown",
   "metadata": {},
   "source": [
    "Подготовим таблицу для хранения целевых метрик:\n",
    "* Количество пользователей\n",
    "* Среднее время проведенное в приложении\n",
    "* Среднее количество действий\n",
    "* Факт просмотра контактов\n",
    "* Доля пользователей посмотревших контакты\n",
    "* Retention rate на вторую неделю жизни"
   ]
  },
  {
   "cell_type": "code",
   "execution_count": 65,
   "metadata": {},
   "outputs": [],
   "source": [
    "metrics = pd.DataFrame(columns=['Количество пользователей', 'Среднее время', \n",
    "                                'Среднее количество действий', 'Посмотрели контакты', \n",
    "                                'Доля посмотревших контакты', 'Retention rate на вторую неделю'])"
   ]
  },
  {
   "cell_type": "markdown",
   "metadata": {},
   "source": [
    "Определим функцию для рассчета Retention rate на вторую неделю"
   ]
  },
  {
   "cell_type": "code",
   "execution_count": 66,
   "metadata": {},
   "outputs": [],
   "source": [
    "def retention(data):\n",
    "    cohorts = data.pivot_table(index=['first_week', 'lifetime'], values='userid', aggfunc=pd.Series.nunique).reset_index()\n",
    "    cohorts.columns = ['first_week', 'lifetime', 'users']\n",
    "    initial_users = cohorts[cohorts['lifetime'] == 0][['first_week','users']]\n",
    "    initial_users.columns = ['first_week', 'initial_users']\n",
    "    cohorts = cohorts.merge(initial_users, on='first_week', how='left')\n",
    "    cohorts['retention'] = cohorts['users'] / cohorts['initial_users']\n",
    "    segment_retention = cohorts[cohorts['lifetime'] == 1]['retention'].mean()\n",
    "    return segment_retention"
   ]
  },
  {
   "cell_type": "markdown",
   "metadata": {},
   "source": [
    "И функцию рассчитывающую остальные метрики"
   ]
  },
  {
   "cell_type": "code",
   "execution_count": 67,
   "metadata": {},
   "outputs": [],
   "source": [
    "def segment_metrics(segment, name):\n",
    "    time_spent = segment['time_spent'].mean()\n",
    "    event_count = round(segment['event_count'].mean(),2)\n",
    "    total_users = segment['userid'].nunique()\n",
    "    has_contacts_show = segment[segment['has_contacts_show'] == True]['userid'].nunique()\n",
    "    has_contacts_show_ratio = round(has_contacts_show / total_users, 2)\n",
    "    segment_retention = round(retention(segment), 2)\n",
    "    segment_metrics = pd.Series([total_users, time_spent, event_count, \n",
    "                                 has_contacts_show, has_contacts_show_ratio, \n",
    "                                 segment_retention], index=metrics.columns)\n",
    "    segment_metrics.name = name \n",
    "    return segment_metrics"
   ]
  },
  {
   "cell_type": "markdown",
   "metadata": {},
   "source": [
    "Рассчитаем и запишем в таблицу метрики по пользователям совершавшим различные действия"
   ]
  },
  {
   "cell_type": "markdown",
   "metadata": {},
   "source": [
    "#### Открытие карточки объявления"
   ]
  },
  {
   "cell_type": "markdown",
   "metadata": {},
   "source": [
    "Пользователи которые открывали объявления **реже** среднего значения"
   ]
  },
  {
   "cell_type": "code",
   "execution_count": 68,
   "metadata": {},
   "outputs": [
    {
     "data": {
      "text/plain": [
       "Количество пользователей                              539\n",
       "Среднее время                      0 days 02:08:49.454341\n",
       "Среднее количество действий                         38.69\n",
       "Посмотрели контакты                                    82\n",
       "Доля посмотревших контакты                           0.15\n",
       "Retention rate на вторую неделю                      0.22\n",
       "Name: advert_open_below_mean, dtype: object"
      ]
     },
     "execution_count": 68,
     "metadata": {},
     "output_type": "execute_result"
    }
   ],
   "source": [
    "advert_open_below_mean = actions_per_user[(actions_per_user['event_name'] == 'advert_open') & (actions_per_user['event_count'] < mean_actions[mean_actions['event_name'] == 'advert_open']['event_count'].values[0])]['userid']\n",
    "metrics = metrics.append(segment_metrics(actions[actions['userid'].isin(advert_open_below_mean)], 'advert_open_below_mean'))\n",
    "metrics.loc['advert_open_below_mean']"
   ]
  },
  {
   "cell_type": "markdown",
   "metadata": {},
   "source": [
    "Пользователи которые открывали объявления **чаще** среднего значения"
   ]
  },
  {
   "cell_type": "code",
   "execution_count": 69,
   "metadata": {},
   "outputs": [
    {
     "data": {
      "text/plain": [
       "Количество пользователей                              212\n",
       "Среднее время                      0 days 03:21:50.504335\n",
       "Среднее количество действий                         55.74\n",
       "Посмотрели контакты                                    56\n",
       "Доля посмотревших контакты                           0.26\n",
       "Retention rate на вторую неделю                      0.43\n",
       "Name: advert_open_above_mean, dtype: object"
      ]
     },
     "execution_count": 69,
     "metadata": {},
     "output_type": "execute_result"
    }
   ],
   "source": [
    "advert_open_above_mean = actions_per_user[(actions_per_user['event_name'] == 'advert_open') & (actions_per_user['event_count'] >= mean_actions[mean_actions['event_name'] == 'advert_open']['event_count'].values[0])]['userid']\n",
    "metrics = metrics.append(segment_metrics(actions[actions['userid'].isin(advert_open_above_mean)], 'advert_open_above_mean'))\n",
    "metrics.loc['advert_open_above_mean']"
   ]
  },
  {
   "cell_type": "markdown",
   "metadata": {},
   "source": [
    "#### Добавление объявления в избранное"
   ]
  },
  {
   "cell_type": "code",
   "execution_count": 70,
   "metadata": {},
   "outputs": [
    {
     "data": {
      "text/plain": [
       "Количество пользователей                              351\n",
       "Среднее время                      0 days 03:45:49.444977\n",
       "Среднее количество действий                         58.16\n",
       "Посмотрели контакты                                   136\n",
       "Доля посмотревших контакты                           0.39\n",
       "Retention rate на вторую неделю                      0.46\n",
       "Name: has_favorites_add, dtype: object"
      ]
     },
     "execution_count": 70,
     "metadata": {},
     "output_type": "execute_result"
    }
   ],
   "source": [
    "has_favorites_add = actions_per_user[(actions_per_user['event_name'] == 'favorites_add') & (actions_per_user['event_count'] > 0)]['userid']\n",
    "metrics = metrics.append(segment_metrics(actions[actions['userid'].isin(has_favorites_add)], 'has_favorites_add'))\n",
    "metrics.loc['has_favorites_add']"
   ]
  },
  {
   "cell_type": "markdown",
   "metadata": {},
   "source": [
    "#### Просмотр фотографий"
   ]
  },
  {
   "cell_type": "code",
   "execution_count": 71,
   "metadata": {},
   "outputs": [
    {
     "data": {
      "text/plain": [
       "Количество пользователей                             1095\n",
       "Среднее время                      0 days 01:34:51.149593\n",
       "Среднее количество действий                         25.99\n",
       "Посмотрели контакты                                   339\n",
       "Доля посмотревших контакты                           0.31\n",
       "Retention rate на вторую неделю                      0.34\n",
       "Name: has_photos_show, dtype: object"
      ]
     },
     "execution_count": 71,
     "metadata": {},
     "output_type": "execute_result"
    }
   ],
   "source": [
    "has_photos_show = actions_per_user[(actions_per_user['event_name'] == 'photos_show') & (actions_per_user['event_count'] > 0)]['userid']\n",
    "metrics = metrics.append(segment_metrics(actions[actions['userid'].isin(has_photos_show)], 'has_photos_show'))\n",
    "metrics.loc['has_photos_show']"
   ]
  },
  {
   "cell_type": "markdown",
   "metadata": {},
   "source": [
    "#### Пользователи которые открывали рекомендованные объявления"
   ]
  },
  {
   "cell_type": "code",
   "execution_count": 72,
   "metadata": {},
   "outputs": [
    {
     "data": {
      "text/plain": [
       "Количество пользователей                              322\n",
       "Среднее время                      0 days 05:02:34.951543\n",
       "Среднее количество действий                          75.1\n",
       "Посмотрели контакты                                   100\n",
       "Доля посмотревших контакты                           0.31\n",
       "Retention rate на вторую неделю                      0.39\n",
       "Name: has_tips_click, dtype: object"
      ]
     },
     "execution_count": 72,
     "metadata": {},
     "output_type": "execute_result"
    }
   ],
   "source": [
    "has_tips_click = actions_per_user[(actions_per_user['event_name'] == 'tips_click') & (actions_per_user['event_count'] > 0)]['userid']\n",
    "metrics = metrics.append(segment_metrics(actions[actions['userid'].isin(has_tips_click)], 'has_tips_click'))\n",
    "metrics.loc['has_tips_click']"
   ]
  },
  {
   "cell_type": "markdown",
   "metadata": {},
   "source": [
    "Пользователи которые открывали рекомендованные объявления **реже** чем остальные"
   ]
  },
  {
   "cell_type": "code",
   "execution_count": 73,
   "metadata": {
    "scrolled": true
   },
   "outputs": [
    {
     "data": {
      "text/plain": [
       "Количество пользователей                              231\n",
       "Среднее время                      0 days 03:31:33.964369\n",
       "Среднее количество действий                         65.87\n",
       "Посмотрели контакты                                    60\n",
       "Доля посмотревших контакты                           0.26\n",
       "Retention rate на вторую неделю                      0.33\n",
       "Name: tips_click_below_mean, dtype: object"
      ]
     },
     "execution_count": 73,
     "metadata": {},
     "output_type": "execute_result"
    }
   ],
   "source": [
    "tips_click_below_mean = actions_per_user[(actions_per_user['event_name'] == 'tips_click') & (actions_per_user['event_count'] < mean_actions[mean_actions['event_name'] == 'tips_click']['event_count'].values[0])]['userid']\n",
    "metrics = metrics.append(segment_metrics(actions[actions['userid'].isin(tips_click_below_mean)], 'tips_click_below_mean'))\n",
    "metrics.loc['tips_click_below_mean']"
   ]
  },
  {
   "cell_type": "markdown",
   "metadata": {},
   "source": [
    "Пользователи которые открывали рекомендованные объявления **чаще** чем остальные"
   ]
  },
  {
   "cell_type": "code",
   "execution_count": 74,
   "metadata": {
    "scrolled": false
   },
   "outputs": [
    {
     "data": {
      "text/plain": [
       "Количество пользователей                               91\n",
       "Среднее время                      0 days 07:03:05.731154\n",
       "Среднее количество действий                         87.33\n",
       "Посмотрели контакты                                    40\n",
       "Доля посмотревших контакты                           0.44\n",
       "Retention rate на вторую неделю                      0.53\n",
       "Name: tips_click_above_mean, dtype: object"
      ]
     },
     "execution_count": 74,
     "metadata": {},
     "output_type": "execute_result"
    }
   ],
   "source": [
    "tips_click_above_mean = actions_per_user[(actions_per_user['event_name'] == 'tips_click') & (actions_per_user['event_count'] >= mean_actions[mean_actions['event_name'] == 'tips_click']['event_count'].values[0])]['userid']\n",
    "metrics = metrics.append(segment_metrics(actions[actions['userid'].isin(tips_click_above_mean)], 'tips_click_above_mean'))\n",
    "metrics.loc['tips_click_above_mean']"
   ]
  },
  {
   "cell_type": "markdown",
   "metadata": {},
   "source": [
    "#### Пользователи которые открывали объявления после поиска"
   ]
  },
  {
   "cell_type": "code",
   "execution_count": 75,
   "metadata": {},
   "outputs": [],
   "source": [
    "has_search = actions_per_user[(actions_per_user['event_name'] == 'search') & (actions_per_user['event_count'] > 0)]['userid']\n",
    "has_advert_open = actions_per_user[(actions_per_user['event_name'] == 'advert_open') & (actions_per_user['event_count'] > 0)]['userid']"
   ]
  },
  {
   "cell_type": "code",
   "execution_count": 76,
   "metadata": {},
   "outputs": [
    {
     "data": {
      "text/plain": [
       "Количество пользователей                              339\n",
       "Среднее время                      0 days 03:28:41.103223\n",
       "Среднее количество действий                         54.65\n",
       "Посмотрели контакты                                    79\n",
       "Доля посмотревших контакты                           0.23\n",
       "Retention rate на вторую неделю                      0.38\n",
       "Name: searh_and_advert, dtype: object"
      ]
     },
     "execution_count": 76,
     "metadata": {},
     "output_type": "execute_result"
    }
   ],
   "source": [
    "searh_and_advert = actions[actions['userid'].isin(has_advert_open) & actions['userid'].isin(has_search)]['userid'].unique()\n",
    "metrics = metrics.append(segment_metrics(actions[actions['userid'].isin(searh_and_advert)], 'searh_and_advert'))\n",
    "metrics.loc['searh_and_advert']"
   ]
  },
  {
   "cell_type": "markdown",
   "metadata": {},
   "source": [
    "#### Пользователи которые открывали объявления из карты объявлений"
   ]
  },
  {
   "cell_type": "code",
   "execution_count": 77,
   "metadata": {},
   "outputs": [],
   "source": [
    "has_map = actions_per_user[(actions_per_user['event_name'] == 'map') & (actions_per_user['event_count'] > 0)]['userid']"
   ]
  },
  {
   "cell_type": "code",
   "execution_count": 78,
   "metadata": {},
   "outputs": [
    {
     "data": {
      "text/plain": [
       "Количество пользователей                              517\n",
       "Среднее время                      0 days 03:06:23.844638\n",
       "Среднее количество действий                         49.62\n",
       "Посмотрели контакты                                    86\n",
       "Доля посмотревших контакты                           0.17\n",
       "Retention rate на вторую неделю                      0.26\n",
       "Name: map_and_advert, dtype: object"
      ]
     },
     "execution_count": 78,
     "metadata": {},
     "output_type": "execute_result"
    }
   ],
   "source": [
    "map_and_advert = actions[actions['userid'].isin(has_advert_open) & actions['userid'].isin(has_map)]['userid'].unique()\n",
    "metrics = metrics.append(segment_metrics(actions[actions['userid'].isin(map_and_advert)], 'map_and_advert'))\n",
    "metrics.loc['map_and_advert']"
   ]
  },
  {
   "cell_type": "markdown",
   "metadata": {},
   "source": [
    "#### Количество сессий"
   ]
  },
  {
   "cell_type": "code",
   "execution_count": 79,
   "metadata": {},
   "outputs": [
    {
     "data": {
      "text/html": [
       "<div>\n",
       "<style scoped>\n",
       "    .dataframe tbody tr th:only-of-type {\n",
       "        vertical-align: middle;\n",
       "    }\n",
       "\n",
       "    .dataframe tbody tr th {\n",
       "        vertical-align: top;\n",
       "    }\n",
       "\n",
       "    .dataframe thead th {\n",
       "        text-align: right;\n",
       "    }\n",
       "</style>\n",
       "<table border=\"1\" class=\"dataframe\">\n",
       "  <thead>\n",
       "    <tr style=\"text-align: right;\">\n",
       "      <th></th>\n",
       "      <th>userid</th>\n",
       "      <th>session_num</th>\n",
       "      <th>sessions_above_mean</th>\n",
       "    </tr>\n",
       "  </thead>\n",
       "  <tbody>\n",
       "    <tr>\n",
       "      <th>0</th>\n",
       "      <td>0001b1d5-b74a-4cbf-aeb0-7df5947bf349</td>\n",
       "      <td>4</td>\n",
       "      <td>True</td>\n",
       "    </tr>\n",
       "    <tr>\n",
       "      <th>1</th>\n",
       "      <td>00157779-810c-4498-9e05-a1e9e3cedf93</td>\n",
       "      <td>6</td>\n",
       "      <td>True</td>\n",
       "    </tr>\n",
       "    <tr>\n",
       "      <th>2</th>\n",
       "      <td>00463033-5717-4bf1-91b4-09183923b9df</td>\n",
       "      <td>1</td>\n",
       "      <td>False</td>\n",
       "    </tr>\n",
       "    <tr>\n",
       "      <th>3</th>\n",
       "      <td>004690c3-5a84-4bb7-a8af-e0c8f8fca64e</td>\n",
       "      <td>6</td>\n",
       "      <td>True</td>\n",
       "    </tr>\n",
       "    <tr>\n",
       "      <th>4</th>\n",
       "      <td>00551e79-152e-4441-9cf7-565d7eb04090</td>\n",
       "      <td>3</td>\n",
       "      <td>True</td>\n",
       "    </tr>\n",
       "  </tbody>\n",
       "</table>\n",
       "</div>"
      ],
      "text/plain": [
       "                                 userid  session_num  sessions_above_mean\n",
       "0  0001b1d5-b74a-4cbf-aeb0-7df5947bf349            4                 True\n",
       "1  00157779-810c-4498-9e05-a1e9e3cedf93            6                 True\n",
       "2  00463033-5717-4bf1-91b4-09183923b9df            1                False\n",
       "3  004690c3-5a84-4bb7-a8af-e0c8f8fca64e            6                 True\n",
       "4  00551e79-152e-4441-9cf7-565d7eb04090            3                 True"
      ]
     },
     "execution_count": 79,
     "metadata": {},
     "output_type": "execute_result"
    }
   ],
   "source": [
    "sessions_count = actions[['userid','session_num']].drop_duplicates().pivot_table(index='userid', values='session_num', aggfunc='count').reset_index()\n",
    "sessions_count.loc[sessions_count['session_num'] > sessions_count['session_num'].mean(), 'sessions_above_mean'] = True\n",
    "sessions_count['sessions_above_mean'] = sessions_count['sessions_above_mean'].fillna(False)\n",
    "sessions_count.head()"
   ]
  },
  {
   "cell_type": "markdown",
   "metadata": {},
   "source": [
    "Пользователи количество сессий которых **больше** среднего"
   ]
  },
  {
   "cell_type": "code",
   "execution_count": 80,
   "metadata": {},
   "outputs": [
    {
     "data": {
      "text/plain": [
       "Количество пользователей                             1115\n",
       "Среднее время                      0 days 03:25:12.239595\n",
       "Среднее количество действий                         58.39\n",
       "Посмотрели контакты                                   446\n",
       "Доля посмотревших контакты                            0.4\n",
       "Retention rate на вторую неделю                      0.63\n",
       "Name: sessions_above_mean, dtype: object"
      ]
     },
     "execution_count": 80,
     "metadata": {},
     "output_type": "execute_result"
    }
   ],
   "source": [
    "metrics = metrics.append(segment_metrics(actions[actions['userid'].isin(sessions_count[sessions_count['sessions_above_mean'] == True]['userid'])], 'sessions_above_mean'))\n",
    "metrics.loc['sessions_above_mean']"
   ]
  },
  {
   "cell_type": "markdown",
   "metadata": {},
   "source": [
    "Пользователи количество сессий которых **меньше** среднего"
   ]
  },
  {
   "cell_type": "code",
   "execution_count": 81,
   "metadata": {},
   "outputs": [
    {
     "data": {
      "text/plain": [
       "Количество пользователей                             3178\n",
       "Среднее время                      0 days 00:33:50.655797\n",
       "Среднее количество действий                         15.05\n",
       "Посмотрели контакты                                   535\n",
       "Доля посмотревших контакты                           0.17\n",
       "Retention rate на вторую неделю                      0.07\n",
       "Name: sessions_below_mean, dtype: object"
      ]
     },
     "execution_count": 81,
     "metadata": {},
     "output_type": "execute_result"
    }
   ],
   "source": [
    "metrics = metrics.append(segment_metrics(actions[actions['userid'].isin(sessions_count[sessions_count['sessions_above_mean'] == False]['userid'])], 'sessions_below_mean'))\n",
    "metrics.loc['sessions_below_mean']"
   ]
  },
  {
   "cell_type": "markdown",
   "metadata": {},
   "source": [
    "Выведем записанные метрики"
   ]
  },
  {
   "cell_type": "code",
   "execution_count": 82,
   "metadata": {},
   "outputs": [
    {
     "data": {
      "text/html": [
       "<div>\n",
       "<style scoped>\n",
       "    .dataframe tbody tr th:only-of-type {\n",
       "        vertical-align: middle;\n",
       "    }\n",
       "\n",
       "    .dataframe tbody tr th {\n",
       "        vertical-align: top;\n",
       "    }\n",
       "\n",
       "    .dataframe thead th {\n",
       "        text-align: right;\n",
       "    }\n",
       "</style>\n",
       "<table border=\"1\" class=\"dataframe\">\n",
       "  <thead>\n",
       "    <tr style=\"text-align: right;\">\n",
       "      <th></th>\n",
       "      <th>Количество пользователей</th>\n",
       "      <th>Среднее время</th>\n",
       "      <th>Среднее количество действий</th>\n",
       "      <th>Посмотрели контакты</th>\n",
       "      <th>Доля посмотревших контакты</th>\n",
       "      <th>Retention rate на вторую неделю</th>\n",
       "    </tr>\n",
       "  </thead>\n",
       "  <tbody>\n",
       "    <tr>\n",
       "      <th>advert_open_below_mean</th>\n",
       "      <td>539</td>\n",
       "      <td>02:08:49.454341</td>\n",
       "      <td>38.69</td>\n",
       "      <td>82</td>\n",
       "      <td>0.15</td>\n",
       "      <td>0.22</td>\n",
       "    </tr>\n",
       "    <tr>\n",
       "      <th>advert_open_above_mean</th>\n",
       "      <td>212</td>\n",
       "      <td>03:21:50.504335</td>\n",
       "      <td>55.74</td>\n",
       "      <td>56</td>\n",
       "      <td>0.26</td>\n",
       "      <td>0.43</td>\n",
       "    </tr>\n",
       "    <tr>\n",
       "      <th>has_favorites_add</th>\n",
       "      <td>351</td>\n",
       "      <td>03:45:49.444977</td>\n",
       "      <td>58.16</td>\n",
       "      <td>136</td>\n",
       "      <td>0.39</td>\n",
       "      <td>0.46</td>\n",
       "    </tr>\n",
       "    <tr>\n",
       "      <th>has_photos_show</th>\n",
       "      <td>1095</td>\n",
       "      <td>01:34:51.149593</td>\n",
       "      <td>25.99</td>\n",
       "      <td>339</td>\n",
       "      <td>0.31</td>\n",
       "      <td>0.34</td>\n",
       "    </tr>\n",
       "    <tr>\n",
       "      <th>has_tips_click</th>\n",
       "      <td>322</td>\n",
       "      <td>05:02:34.951543</td>\n",
       "      <td>75.10</td>\n",
       "      <td>100</td>\n",
       "      <td>0.31</td>\n",
       "      <td>0.39</td>\n",
       "    </tr>\n",
       "    <tr>\n",
       "      <th>tips_click_below_mean</th>\n",
       "      <td>231</td>\n",
       "      <td>03:31:33.964369</td>\n",
       "      <td>65.87</td>\n",
       "      <td>60</td>\n",
       "      <td>0.26</td>\n",
       "      <td>0.33</td>\n",
       "    </tr>\n",
       "    <tr>\n",
       "      <th>tips_click_above_mean</th>\n",
       "      <td>91</td>\n",
       "      <td>07:03:05.731154</td>\n",
       "      <td>87.33</td>\n",
       "      <td>40</td>\n",
       "      <td>0.44</td>\n",
       "      <td>0.53</td>\n",
       "    </tr>\n",
       "    <tr>\n",
       "      <th>searh_and_advert</th>\n",
       "      <td>339</td>\n",
       "      <td>03:28:41.103223</td>\n",
       "      <td>54.65</td>\n",
       "      <td>79</td>\n",
       "      <td>0.23</td>\n",
       "      <td>0.38</td>\n",
       "    </tr>\n",
       "    <tr>\n",
       "      <th>map_and_advert</th>\n",
       "      <td>517</td>\n",
       "      <td>03:06:23.844638</td>\n",
       "      <td>49.62</td>\n",
       "      <td>86</td>\n",
       "      <td>0.17</td>\n",
       "      <td>0.26</td>\n",
       "    </tr>\n",
       "    <tr>\n",
       "      <th>sessions_above_mean</th>\n",
       "      <td>1115</td>\n",
       "      <td>03:25:12.239595</td>\n",
       "      <td>58.39</td>\n",
       "      <td>446</td>\n",
       "      <td>0.40</td>\n",
       "      <td>0.63</td>\n",
       "    </tr>\n",
       "    <tr>\n",
       "      <th>sessions_below_mean</th>\n",
       "      <td>3178</td>\n",
       "      <td>00:33:50.655797</td>\n",
       "      <td>15.05</td>\n",
       "      <td>535</td>\n",
       "      <td>0.17</td>\n",
       "      <td>0.07</td>\n",
       "    </tr>\n",
       "  </tbody>\n",
       "</table>\n",
       "</div>"
      ],
      "text/plain": [
       "                       Количество пользователей   Среднее время  \\\n",
       "advert_open_below_mean                      539 02:08:49.454341   \n",
       "advert_open_above_mean                      212 03:21:50.504335   \n",
       "has_favorites_add                           351 03:45:49.444977   \n",
       "has_photos_show                            1095 01:34:51.149593   \n",
       "has_tips_click                              322 05:02:34.951543   \n",
       "tips_click_below_mean                       231 03:31:33.964369   \n",
       "tips_click_above_mean                        91 07:03:05.731154   \n",
       "searh_and_advert                            339 03:28:41.103223   \n",
       "map_and_advert                              517 03:06:23.844638   \n",
       "sessions_above_mean                        1115 03:25:12.239595   \n",
       "sessions_below_mean                        3178 00:33:50.655797   \n",
       "\n",
       "                        Среднее количество действий Посмотрели контакты  \\\n",
       "advert_open_below_mean                        38.69                  82   \n",
       "advert_open_above_mean                        55.74                  56   \n",
       "has_favorites_add                             58.16                 136   \n",
       "has_photos_show                               25.99                 339   \n",
       "has_tips_click                                75.10                 100   \n",
       "tips_click_below_mean                         65.87                  60   \n",
       "tips_click_above_mean                         87.33                  40   \n",
       "searh_and_advert                              54.65                  79   \n",
       "map_and_advert                                49.62                  86   \n",
       "sessions_above_mean                           58.39                 446   \n",
       "sessions_below_mean                           15.05                 535   \n",
       "\n",
       "                        Доля посмотревших контакты  \\\n",
       "advert_open_below_mean                        0.15   \n",
       "advert_open_above_mean                        0.26   \n",
       "has_favorites_add                             0.39   \n",
       "has_photos_show                               0.31   \n",
       "has_tips_click                                0.31   \n",
       "tips_click_below_mean                         0.26   \n",
       "tips_click_above_mean                         0.44   \n",
       "searh_and_advert                              0.23   \n",
       "map_and_advert                                0.17   \n",
       "sessions_above_mean                           0.40   \n",
       "sessions_below_mean                           0.17   \n",
       "\n",
       "                        Retention rate на вторую неделю  \n",
       "advert_open_below_mean                             0.22  \n",
       "advert_open_above_mean                             0.43  \n",
       "has_favorites_add                                  0.46  \n",
       "has_photos_show                                    0.34  \n",
       "has_tips_click                                     0.39  \n",
       "tips_click_below_mean                              0.33  \n",
       "tips_click_above_mean                              0.53  \n",
       "searh_and_advert                                   0.38  \n",
       "map_and_advert                                     0.26  \n",
       "sessions_above_mean                                0.63  \n",
       "sessions_below_mean                                0.07  "
      ]
     },
     "execution_count": 82,
     "metadata": {},
     "output_type": "execute_result"
    }
   ],
   "source": [
    "metrics"
   ]
  },
  {
   "cell_type": "markdown",
   "metadata": {},
   "source": [
    "## Вывод <a id=\"stage_3_summary\"></a>\n",
    "\n",
    "Всего мы выделили 11 сегментов:\n",
    "\n",
    "7 **\"хороших\"** - сегменты в которых доля пользователей, совершивших целевое действие, выше средней по всему датафрейму (22,9%)\n",
    "* Пользователи которые чаще других открывали объявления\n",
    "\n",
    "  212 человек, 26% из них посмотрели контакты и провели в приложении по 3 часа 21 минуту, на вторую неделю в приоложение вернулось 43%, среднее количетсво действий в приложении 56\n",
    "  \n",
    "  \n",
    "* Пользователи которые добавляли товары в избранное\n",
    "\n",
    "  351 пользователь, 39% из них совершили целевое действие и проводили в приложении по 3 часа 45 минут, на вторую неделю в приоложение вернулось 46% из них, количество действий 58\n",
    "  \n",
    "  \n",
    "* Пользователи которые смотрели фотографии\n",
    "\n",
    "  1095 пользователей (четверть от общего количества), 31% посмотрели контакты, и 34% пользователей вернулись в приложение, среднее количество дейсвий 26 - в два раза ниже чем в других \"хороших\" сегментах\n",
    "\n",
    "\n",
    "* Три сегмента пользователей которые переходили по рекомендованным объявлениям:\n",
    "\n",
    "  * пользователи у которых вообще есть такое действие: 322 человека, конверсия в целевое действие 31%\n",
    "    \n",
    "  * пользователи которые открывали рекомендованные объявления реже остальных: общее количество 231, конверсия 26%\n",
    "    \n",
    "  * пользователи которые открывали рекомендованные объявления чаще остальных: 91 пользователь, контакты открыли 44% из них\n",
    "  \n",
    "  Среднее время использования приложения значительно больше среднего чем в других \"хороших\" сегментах: 5, 3,5 и 7 часов, среднее количество действий так же значительно превышает этот показатель в других сегментах\n",
    "  \n",
    "  \n",
    "* Пользователи которые пользовались приложением чаще других \n",
    "\n",
    "  всего таких пользователей 1115, в среднем они провели в приложении по 3 с половиной часа и совершили по 58 действий, конверсия в целевое действие составила 40%, retention rate в два раза выше среднего 63% пользователей вернулись на вторую неделю\n",
    "  \n",
    "\n",
    "2 **\"средних\"** сегмента - конверсия в целевое действие которых близка к средней по всему датафрейму\n",
    "\n",
    "* Пользователи которые открывали объявления после поиска\n",
    "\n",
    "  339 человек, конверсия в целевое действие 23%, retention rate (38%) - выше среднего по всему датафрейму, количество действий 79, временя проведенное в приложении 3,5 часа\n",
    "  \n",
    "  \n",
    "* Пользователи которые открывали объявления после просмотра карты объявлений\n",
    "\n",
    "  таких пользователей 463, 92 из них (20%) посмотрели контакты, среднее количетсво действий (92) немного выше чем в предыдущем сегменте, среднее время проведенное в приложении - 3 часа\n",
    "\n",
    "  \n",
    "2 **\"плохих\"** сегмента - конверсия в целевое действие которых ниже средней\n",
    "\n",
    "* пользователи которые открывали объявления реже других: количество - 539, конверсия в целевое действие 15%, retention rate 22%\n",
    "  \n",
    "  \n",
    "* Пользователи которые пользовались приложением реже других\n",
    "\n",
    "  всего таких пользователей 3178 (3/4 от общего количества), они провели в приложении в среднем по 33 минут и совершили в среднем по 15 действий, конверсия в целевое действие составила 17% а retention rate всего 7%"
   ]
  },
  {
   "cell_type": "markdown",
   "metadata": {},
   "source": [
    "# Этап 4 - Проверка статистических гипотез<a id=\"stage_4\"></a>"
   ]
  },
  {
   "cell_type": "markdown",
   "metadata": {},
   "source": [
    "Критерий значимости определим в 5%"
   ]
  },
  {
   "cell_type": "code",
   "execution_count": 83,
   "metadata": {},
   "outputs": [],
   "source": [
    "alpha = 0.05"
   ]
  },
  {
   "cell_type": "markdown",
   "metadata": {},
   "source": [
    "#### Гипотеза 1"
   ]
  },
  {
   "cell_type": "markdown",
   "metadata": {},
   "source": [
    "Проверим гипотезу о том, что конверсия в целевое действие для пользователей установивших приложение из yandex равна конверсии пользователей установивших приложение из google\n",
    "\n",
    "* Нулевая гипотеза - между конверсиями нет значимой разницы\n",
    "* Альтернативная гипотеза - между конверсиями есть значимая разница"
   ]
  },
  {
   "cell_type": "markdown",
   "metadata": {},
   "source": [
    "Проведем двусторонний статистический Z-тест коверсий"
   ]
  },
  {
   "cell_type": "code",
   "execution_count": 84,
   "metadata": {},
   "outputs": [
    {
     "name": "stdout",
     "output_type": "stream",
     "text": [
      "p-значение:  0.8244316027993777\n",
      "Не получилось отвергнуть нулевую гипотезу\n"
     ]
    }
   ],
   "source": [
    "google_users_trials = actions[actions['source'] == 'google']['userid'].nunique()\n",
    "yandex_users_trials = actions[actions['source'] == 'yandex']['userid'].nunique()\n",
    "google_users_successes = actions[(actions['has_contacts_show'] == True) & (actions['source'] == 'google')]['userid'].nunique()\n",
    "yandex_users_successes = actions[(actions['has_contacts_show'] == True) & (actions['source'] == 'yandex')]['userid'].nunique()\n",
    "\n",
    "p_value = proportions_ztest([google_users_successes, yandex_users_successes], [google_users_trials, yandex_users_trials])[1]\n",
    "\n",
    "print('p-значение: ', p_value)\n",
    "if p_value < alpha:\n",
    "    print('Отвергаем нулевую гипотезу')\n",
    "else:\n",
    "    print('Не получилось отвергнуть нулевую гипотезу')"
   ]
  },
  {
   "cell_type": "markdown",
   "metadata": {},
   "source": [
    "Результаты статистического теста свидетельствуют о том что оснований считать конверсии пользователей из двух источников (24,7% для yandex и 24,4% для google) разными нет"
   ]
  },
  {
   "cell_type": "markdown",
   "metadata": {},
   "source": [
    "#### Гипотеза 2"
   ]
  },
  {
   "cell_type": "markdown",
   "metadata": {},
   "source": [
    "Проверим гипотезу о том, что пользователи открывают объявления после поиска чаще чем после просмотра карты объявлений\n",
    "\n",
    "* Нулевая гипотеза - пользователи чаще открывают объявления после поиска (либо пропорции равны)\n",
    "* Альтернативная гипотеза - пользователи чаще открывают объявления после просмотра карты объявлений"
   ]
  },
  {
   "cell_type": "markdown",
   "metadata": {},
   "source": [
    "Проведем односторонний статистический Z-тест пропорций"
   ]
  },
  {
   "cell_type": "code",
   "execution_count": 85,
   "metadata": {},
   "outputs": [
    {
     "name": "stdout",
     "output_type": "stream",
     "text": [
      "p-значение:  1.3646054617233679e-21\n",
      "Отвергаем нулевую гипотезу\n"
     ]
    }
   ],
   "source": [
    "search_trials = actions[actions['userid'].isin(has_search)]['userid'].nunique()\n",
    "map_trials = actions[actions['userid'].isin(has_map)]['userid'].nunique()\n",
    "search_and_advert_successes = actions[actions['userid'].isin(has_advert_open) & actions['userid'].isin(has_search)]['userid'].nunique()\n",
    "map_and_advert_successes = actions[actions['userid'].isin(has_advert_open) & actions['userid'].isin(has_map)]['userid'].nunique()\n",
    "\n",
    "p_value = proportions_ztest([search_and_advert_successes, map_and_advert_successes], [search_trials, map_trials], \n",
    "                            alternative='smaller')[1]\n",
    "\n",
    "print('p-значение: ', p_value)\n",
    "if p_value < alpha:\n",
    "    print('Отвергаем нулевую гипотезу')\n",
    "else:\n",
    "    print('Не получилось отвергнуть нулевую гипотезу')"
   ]
  },
  {
   "cell_type": "markdown",
   "metadata": {},
   "source": [
    "По результатам статистического теста мы должны отвергуть нулевую гипотезу, а значит принимается альтернативная гипотеза - пользователи чаще открывают объявления после просмотра карты объявлений"
   ]
  },
  {
   "cell_type": "markdown",
   "metadata": {},
   "source": [
    "## Вывод <a id=\"stage_4_summary\"></a>\n",
    "\n",
    "Мы проверяли две гипотезы:\n",
    "1. конверсия в целевое действие для пользователей установивших приложение из yandex равна конверсии пользователей установивших приложение из google\n",
    "2. пользователи открывают объявления после поиска чаще чем после просмотра карты объявлений\n",
    "\n",
    "Для проверки гипотез мы использовали Z-тест и получили следующие результаты\n",
    "\n",
    "1. Мы не смогли отвергуть первую гипотезу, разница конверсии в целевое действие между разными источниками статистически не значима\n",
    "2. Вторую гипотезу мы отвергли, пользователи чаще открывают объявления после просмотра карты объявлений"
   ]
  },
  {
   "cell_type": "markdown",
   "metadata": {},
   "source": [
    "# Общий вывод<a id=\"conclusion\"></a>\n",
    "\n",
    "На первом этапе мы загрузили предоставленные данные в датафреймы, переименовали столбцы и объединили записи о некоторых событиях. После проверили таблиц на дубли (их не оказалось), мы убедились в том, что для каждого пользователя есть запись только об одном источнике откуда он установил приложение и том, что эти сведения есть для каждого пользователя. Напоследок мы провели анализ количества действий пользователей в секунду и пришли к выводу, что подозрительных действий в таблице нет\n",
    "\n",
    "Далее мы провели исследовательский анализ данных и пришли к следующим выводам:\n",
    "\n",
    "В нашем распоряжении имеется **74197 записей о действиях 4293 пользователей**, которые достаточно равномерно распределены по дням наблюдения. **Целевое действие (просмотр контактов) совершили 981 пользователей (22,9%)**\n",
    "\n",
    "В среднем на каждого пользователя приходится **17 действий**, 95% пользователей, записи о действиях которых находятся в нашем распоряжении, совершают в приложении 59 и меньше действий. После разделения действий пользователей по сессиям мы смогли определить что в среднем на пользователя приходится **2,42** сессии в приложении. В среднем длительность сессии составляет **13 минут**, самая длительная сессия продолжалась больше 5 часов. За все время наблюдений, пользователи, в среднем, проводили в приложении по **30 минут**\n",
    "\n",
    "Анализ коэффициента удержания показал что **через неделю в приложение возвращается 23% пользователей**, на третью неделю жизни этот показатель значительно снижается и составляет 14%, на четвертой неделе - 11%\n",
    "\n",
    "Анализ поведения пользователей в разрезе источников\n",
    "\n",
    "После того как мы добавили в таблицу `actions` сведения об источнике откуда пользователь установил приложение из таблицы `sources` мы смогли провести исследовательский анализ в разрезе этих источников\n",
    "\n",
    "Больше всего пользователей установивших приложение из **yandex - 1934**, из **google - 1129** и 1230 пользователей из всех остальных источников\n",
    "\n",
    "Доля пользователей, совершивших целевое действие для источников yandex и google различается совсем незначительно **24,7 и 24,4 процента**. Для пользователей установивших приложение из других источников этот показатель составляет 18,5%\n",
    "\n",
    "Среднее количество действий пользователей в приложении в разрезе источников схожи (15.83, 17.73, 18.11), а медианное значение для всех трех категорий одинаково. Распределения количества сессий по источникам различаются не значительно. Распределения времени проведенного в приложении для всех трех источников также похожи, за исключением того, что максимальное значение выше у источника yandex (это обусловлено большим количеством пользователей). Retention rate по источникам между собой различается слабо\n",
    "\n",
    "После завершения исследовательского анализа данных мы сегментировали пользователей в зависимости от их поведения, всего мы выделили 11 сегментов, среди которых отметим **три самых лучших** (по доле конверсии в целевое действие):\n",
    "\n",
    "1. Пользователи которые добавляли товары в избранное - если пользователя предложение заинтересовало и он добавил его в избранное вероятность того, что он посмотрит контакты продавца выше, всего таких пользователей 351, 39% из них совершили целевое действие и проводили в приложении по 3 часа 45 минут, на вторую неделю в приоложение вернулось 46% из них, среднее количество действий у них 58\n",
    "\n",
    "2. Пользователи которые открывали рекомендованные объявления чаще остальных: 91 пользователь, контакты открыли 44% из них, среднее время использования приложения составило 7 часов, среднее количество действий - 88 что значительно превышает этот показатель в других сегментах\n",
    "\n",
    "3. Пользователи количество сессий которых выше среднего: всего таких пользователей 1115 (четверть от общего количетсва), в среднем они провели в приложении по 3 с половиной часа и совершили по 58 действий, конверсия в целевое действие составила 40%, retention rate в два раза выше среднего - 63% пользователей вернулись на вторую неделю\n",
    "\n",
    "и **два плохих сегмента** в которых конверсия в целевое действие ниже средней:\n",
    "\n",
    "1. Пользователи которые открывали объявления реже чем среднего: количество - 539, конверсия в целевое действие 15%, retention rate 22%\n",
    "\n",
    "2. Пользователи которые у которых количество сессий ниже чем среднее: всего их 3178 (3/4 от общего количества), они провели в приложении в среднем по 33 минут и совершили в среднем по 15 действий, конверсия в целевое действие составила 17% а retention rate всего 7%\n",
    "\n",
    "После сегментации пользователей мы проверили **две гипотезы**:\n",
    "1. Конверсия в целевое действие для пользователей установивших приложение из yandex равна конверсии пользователей установивших приложение из google\n",
    "2. Пользователи открывают объявления после поиска чаще чем после просмотра карты объявлений\n",
    "\n",
    "В результате проверки гипотез мы пришли к следующим выводам:\n",
    "\n",
    "1. Мы не смогли отвергуть первую гипотезу, разница конверсии в целевое действие между разными источниками статистически не значима\n",
    "2. Вторую гипотезу мы отвергли, пользователи чаще открывают объявления после просмотра карты объявлений"
   ]
  }
 ],
 "metadata": {
  "kernelspec": {
   "display_name": "Python 3",
   "language": "python",
   "name": "python3"
  },
  "language_info": {
   "codemirror_mode": {
    "name": "ipython",
    "version": 3
   },
   "file_extension": ".py",
   "mimetype": "text/x-python",
   "name": "python",
   "nbconvert_exporter": "python",
   "pygments_lexer": "ipython3",
   "version": "3.8.3"
  },
  "toc": {
   "base_numbering": 1,
   "nav_menu": {},
   "number_sections": false,
   "sideBar": true,
   "skip_h1_title": false,
   "title_cell": "Table of Contents",
   "title_sidebar": "Contents",
   "toc_cell": false,
   "toc_position": {
    "height": "calc(100% - 180px)",
    "left": "10px",
    "top": "150px",
    "width": "366.391px"
   },
   "toc_section_display": true,
   "toc_window_display": false
  }
 },
 "nbformat": 4,
 "nbformat_minor": 2
}
