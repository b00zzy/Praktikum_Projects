{
 "cells": [
  {
   "cell_type": "markdown",
   "metadata": {},
   "source": [
    "# Приоритизация гипотез, анализ результатов A/B-теста\n",
    "\n",
    "В крупном интернет-магазине отделом маркетинга был выдвинут ряд гипотез для увеличения выручки, совместо с отделом аналитики требуется провести приоритизацию гипотез и проверить результаты A/B-теста"
   ]
  },
  {
   "cell_type": "markdown",
   "metadata": {},
   "source": [
    "# Содержание\n",
    "1. [Часть 1 - Приоритизация гипотез](#stage_1)\n",
    "  * [Загрука и просмотр данных](#stage_1_load)\n",
    "  * [Приоритизация гипотез](#stage_1_ICE_RICE)\n",
    "  \n",
    "  [Часть 1 - Вывод](#stage_1_summary)\n",
    "        \n",
    "\n",
    "2. [Часть 2 - Анализ A/B-теста](#stage_2)\n",
    "  * [Загрука и просмотр данных](#stage_2_load)\n",
    "  * [Кумулятивные метрики](#stage_2_cummetr)\n",
    "    * [Выручка](#stage_2_cum_rev)\n",
    "    * [Средний чек](#stage_2_cum_check)\n",
    "    * [Конверсия](#stage_2_cum_conv)\n",
    "  * [Выбросы](#stage_2_extr)\n",
    "    * [Количество заказов](#stage_2_extr_orders)\n",
    "    * [Средний чек](#stage_2_extr_check)\n",
    "  * [Статистические тесты](#stage_2_stat_tests)\n",
    "    * [По \"сырым\" данным](#stage_2_raw_data)\n",
    "    * [По \"чистым\" данным](#stage_2_filtered_data)\n",
    "    \n",
    "  [Часть 2 - Вывод](#stage_2_summary)\n",
    "  \n",
    "  \n",
    "3. [Общий вывод](#conclusion)"
   ]
  },
  {
   "cell_type": "markdown",
   "metadata": {},
   "source": [
    "Для работы с данными загрузим необходимые библиотеки"
   ]
  },
  {
   "cell_type": "code",
   "execution_count": 1,
   "metadata": {},
   "outputs": [],
   "source": [
    "import pandas as pd\n",
    "import numpy as np\n",
    "from matplotlib import pyplot as plt\n",
    "from pandas.plotting import register_matplotlib_converters\n",
    "register_matplotlib_converters()\n",
    "from scipy import stats as st"
   ]
  },
  {
   "cell_type": "markdown",
   "metadata": {},
   "source": [
    "# Часть 1 - Приоритизация гипотез<a id=\"stage_1\"></a>"
   ]
  },
  {
   "cell_type": "markdown",
   "metadata": {},
   "source": [
    "## Загрука и просмотр данных<a id=\"stage_1_load\"></a>"
   ]
  },
  {
   "cell_type": "markdown",
   "metadata": {},
   "source": [
    "В нашем распоряжении имеется файл с выдвинутыми гипотезами и оценкой их параметров:\n",
    "\n",
    "* **R**each — охват пользователей по 10-балльной шкале;\n",
    "* **I**mpact — влияние на пользователей по 10-балльной шкале;\n",
    "* **C**onfidence — уверенность в гипотезе по 10-балльной шкале;\n",
    "* **E**fforts — затраты ресурсов на проверку гипотезы по 10-балльной шкале.\n",
    "\n",
    "Загрузим его в переменную `hypothesis`"
   ]
  },
  {
   "cell_type": "code",
   "execution_count": 2,
   "metadata": {},
   "outputs": [
    {
     "data": {
      "text/html": [
       "<div>\n",
       "<style scoped>\n",
       "    .dataframe tbody tr th:only-of-type {\n",
       "        vertical-align: middle;\n",
       "    }\n",
       "\n",
       "    .dataframe tbody tr th {\n",
       "        vertical-align: top;\n",
       "    }\n",
       "\n",
       "    .dataframe thead th {\n",
       "        text-align: right;\n",
       "    }\n",
       "</style>\n",
       "<table border=\"1\" class=\"dataframe\">\n",
       "  <thead>\n",
       "    <tr style=\"text-align: right;\">\n",
       "      <th></th>\n",
       "      <th>Hypothesis</th>\n",
       "      <th>Reach</th>\n",
       "      <th>Impact</th>\n",
       "      <th>Confidence</th>\n",
       "      <th>Efforts</th>\n",
       "    </tr>\n",
       "  </thead>\n",
       "  <tbody>\n",
       "    <tr>\n",
       "      <th>0</th>\n",
       "      <td>Добавить два новых канала привлечения трафика,...</td>\n",
       "      <td>3</td>\n",
       "      <td>10</td>\n",
       "      <td>8</td>\n",
       "      <td>6</td>\n",
       "    </tr>\n",
       "    <tr>\n",
       "      <th>1</th>\n",
       "      <td>Запустить собственную службу доставки, что сок...</td>\n",
       "      <td>2</td>\n",
       "      <td>5</td>\n",
       "      <td>4</td>\n",
       "      <td>10</td>\n",
       "    </tr>\n",
       "    <tr>\n",
       "      <th>2</th>\n",
       "      <td>Добавить блоки рекомендаций товаров на сайт ин...</td>\n",
       "      <td>8</td>\n",
       "      <td>3</td>\n",
       "      <td>7</td>\n",
       "      <td>3</td>\n",
       "    </tr>\n",
       "    <tr>\n",
       "      <th>3</th>\n",
       "      <td>Изменить структура категорий, что увеличит кон...</td>\n",
       "      <td>8</td>\n",
       "      <td>3</td>\n",
       "      <td>3</td>\n",
       "      <td>8</td>\n",
       "    </tr>\n",
       "    <tr>\n",
       "      <th>4</th>\n",
       "      <td>Изменить цвет фона главной страницы, чтобы уве...</td>\n",
       "      <td>3</td>\n",
       "      <td>1</td>\n",
       "      <td>1</td>\n",
       "      <td>1</td>\n",
       "    </tr>\n",
       "    <tr>\n",
       "      <th>5</th>\n",
       "      <td>Добавить страницу отзывов клиентов о магазине,...</td>\n",
       "      <td>3</td>\n",
       "      <td>2</td>\n",
       "      <td>2</td>\n",
       "      <td>3</td>\n",
       "    </tr>\n",
       "    <tr>\n",
       "      <th>6</th>\n",
       "      <td>Показать на главной странице баннеры с актуаль...</td>\n",
       "      <td>5</td>\n",
       "      <td>3</td>\n",
       "      <td>8</td>\n",
       "      <td>3</td>\n",
       "    </tr>\n",
       "    <tr>\n",
       "      <th>7</th>\n",
       "      <td>Добавить форму подписки на все основные страни...</td>\n",
       "      <td>10</td>\n",
       "      <td>7</td>\n",
       "      <td>8</td>\n",
       "      <td>5</td>\n",
       "    </tr>\n",
       "    <tr>\n",
       "      <th>8</th>\n",
       "      <td>Запустить акцию, дающую скидку на товар в день...</td>\n",
       "      <td>1</td>\n",
       "      <td>9</td>\n",
       "      <td>9</td>\n",
       "      <td>5</td>\n",
       "    </tr>\n",
       "  </tbody>\n",
       "</table>\n",
       "</div>"
      ],
      "text/plain": [
       "                                          Hypothesis  Reach  Impact  \\\n",
       "0  Добавить два новых канала привлечения трафика,...      3      10   \n",
       "1  Запустить собственную службу доставки, что сок...      2       5   \n",
       "2  Добавить блоки рекомендаций товаров на сайт ин...      8       3   \n",
       "3  Изменить структура категорий, что увеличит кон...      8       3   \n",
       "4  Изменить цвет фона главной страницы, чтобы уве...      3       1   \n",
       "5  Добавить страницу отзывов клиентов о магазине,...      3       2   \n",
       "6  Показать на главной странице баннеры с актуаль...      5       3   \n",
       "7  Добавить форму подписки на все основные страни...     10       7   \n",
       "8  Запустить акцию, дающую скидку на товар в день...      1       9   \n",
       "\n",
       "   Confidence  Efforts  \n",
       "0           8        6  \n",
       "1           4       10  \n",
       "2           7        3  \n",
       "3           3        8  \n",
       "4           1        1  \n",
       "5           2        3  \n",
       "6           8        3  \n",
       "7           8        5  \n",
       "8           9        5  "
      ]
     },
     "execution_count": 2,
     "metadata": {},
     "output_type": "execute_result"
    }
   ],
   "source": [
    "hypothesis = pd.read_csv('datasets/hypothesis.csv')\n",
    "hypothesis"
   ]
  },
  {
   "cell_type": "markdown",
   "metadata": {},
   "source": [
    "## Приоритизация гипотез<a id=\"stage_1_ICE_RICE\"></a>"
   ]
  },
  {
   "cell_type": "markdown",
   "metadata": {},
   "source": [
    "Оценим каждую гипотезу методами ICE и RICE "
   ]
  },
  {
   "cell_type": "code",
   "execution_count": 3,
   "metadata": {},
   "outputs": [],
   "source": [
    "hypothesis['ICE'] = (hypothesis['Impact'] * hypothesis['Confidence'] / hypothesis['Efforts']).round(2)\n",
    "hypothesis['RICE'] = (hypothesis['Reach'] * hypothesis['Impact'] * hypothesis['Confidence'] / hypothesis['Efforts']).round(2)"
   ]
  },
  {
   "cell_type": "markdown",
   "metadata": {},
   "source": [
    "Выведем на экран таблицу отсортированную по оценке ICE"
   ]
  },
  {
   "cell_type": "code",
   "execution_count": 4,
   "metadata": {},
   "outputs": [
    {
     "data": {
      "text/html": [
       "<style  type=\"text/css\" >\n",
       "    #T_4c22969f_6496_11eb_a244_5c5f676307b7row0_col5 {\n",
       "            background-color:  #08306b;\n",
       "            color:  #f1f1f1;\n",
       "        }    #T_4c22969f_6496_11eb_a244_5c5f676307b7row1_col5 {\n",
       "            background-color:  #1561a9;\n",
       "            color:  #f1f1f1;\n",
       "        }    #T_4c22969f_6496_11eb_a244_5c5f676307b7row2_col5 {\n",
       "            background-color:  #3686c0;\n",
       "            color:  #000000;\n",
       "        }    #T_4c22969f_6496_11eb_a244_5c5f676307b7row3_col5 {\n",
       "            background-color:  #7cb7da;\n",
       "            color:  #000000;\n",
       "        }    #T_4c22969f_6496_11eb_a244_5c5f676307b7row4_col5 {\n",
       "            background-color:  #95c5df;\n",
       "            color:  #000000;\n",
       "        }    #T_4c22969f_6496_11eb_a244_5c5f676307b7row5_col5 {\n",
       "            background-color:  #eaf3fb;\n",
       "            color:  #000000;\n",
       "        }    #T_4c22969f_6496_11eb_a244_5c5f676307b7row6_col5 {\n",
       "            background-color:  #f3f8fe;\n",
       "            color:  #000000;\n",
       "        }    #T_4c22969f_6496_11eb_a244_5c5f676307b7row7_col5 {\n",
       "            background-color:  #f5fafe;\n",
       "            color:  #000000;\n",
       "        }    #T_4c22969f_6496_11eb_a244_5c5f676307b7row8_col5 {\n",
       "            background-color:  #f7fbff;\n",
       "            color:  #000000;\n",
       "        }</style><table id=\"T_4c22969f_6496_11eb_a244_5c5f676307b7\" ><thead>    <tr>        <th class=\"blank level0\" ></th>        <th class=\"col_heading level0 col0\" >Hypothesis</th>        <th class=\"col_heading level0 col1\" >Reach</th>        <th class=\"col_heading level0 col2\" >Impact</th>        <th class=\"col_heading level0 col3\" >Confidence</th>        <th class=\"col_heading level0 col4\" >Efforts</th>        <th class=\"col_heading level0 col5\" >ICE</th>        <th class=\"col_heading level0 col6\" >RICE</th>    </tr></thead><tbody>\n",
       "                <tr>\n",
       "                        <th id=\"T_4c22969f_6496_11eb_a244_5c5f676307b7level0_row0\" class=\"row_heading level0 row0\" >8</th>\n",
       "                        <td id=\"T_4c22969f_6496_11eb_a244_5c5f676307b7row0_col0\" class=\"data row0 col0\" >Запустить акцию, дающую скидку на товар в день рождения</td>\n",
       "                        <td id=\"T_4c22969f_6496_11eb_a244_5c5f676307b7row0_col1\" class=\"data row0 col1\" >1</td>\n",
       "                        <td id=\"T_4c22969f_6496_11eb_a244_5c5f676307b7row0_col2\" class=\"data row0 col2\" >9</td>\n",
       "                        <td id=\"T_4c22969f_6496_11eb_a244_5c5f676307b7row0_col3\" class=\"data row0 col3\" >9</td>\n",
       "                        <td id=\"T_4c22969f_6496_11eb_a244_5c5f676307b7row0_col4\" class=\"data row0 col4\" >5</td>\n",
       "                        <td id=\"T_4c22969f_6496_11eb_a244_5c5f676307b7row0_col5\" class=\"data row0 col5\" >16.200000</td>\n",
       "                        <td id=\"T_4c22969f_6496_11eb_a244_5c5f676307b7row0_col6\" class=\"data row0 col6\" >16.200000</td>\n",
       "            </tr>\n",
       "            <tr>\n",
       "                        <th id=\"T_4c22969f_6496_11eb_a244_5c5f676307b7level0_row1\" class=\"row_heading level0 row1\" >0</th>\n",
       "                        <td id=\"T_4c22969f_6496_11eb_a244_5c5f676307b7row1_col0\" class=\"data row1 col0\" >Добавить два новых канала привлечения трафика, что позволит привлекать на 30% больше пользователей</td>\n",
       "                        <td id=\"T_4c22969f_6496_11eb_a244_5c5f676307b7row1_col1\" class=\"data row1 col1\" >3</td>\n",
       "                        <td id=\"T_4c22969f_6496_11eb_a244_5c5f676307b7row1_col2\" class=\"data row1 col2\" >10</td>\n",
       "                        <td id=\"T_4c22969f_6496_11eb_a244_5c5f676307b7row1_col3\" class=\"data row1 col3\" >8</td>\n",
       "                        <td id=\"T_4c22969f_6496_11eb_a244_5c5f676307b7row1_col4\" class=\"data row1 col4\" >6</td>\n",
       "                        <td id=\"T_4c22969f_6496_11eb_a244_5c5f676307b7row1_col5\" class=\"data row1 col5\" >13.330000</td>\n",
       "                        <td id=\"T_4c22969f_6496_11eb_a244_5c5f676307b7row1_col6\" class=\"data row1 col6\" >40.000000</td>\n",
       "            </tr>\n",
       "            <tr>\n",
       "                        <th id=\"T_4c22969f_6496_11eb_a244_5c5f676307b7level0_row2\" class=\"row_heading level0 row2\" >7</th>\n",
       "                        <td id=\"T_4c22969f_6496_11eb_a244_5c5f676307b7row2_col0\" class=\"data row2 col0\" >Добавить форму подписки на все основные страницы, чтобы собрать базу клиентов для email-рассылок</td>\n",
       "                        <td id=\"T_4c22969f_6496_11eb_a244_5c5f676307b7row2_col1\" class=\"data row2 col1\" >10</td>\n",
       "                        <td id=\"T_4c22969f_6496_11eb_a244_5c5f676307b7row2_col2\" class=\"data row2 col2\" >7</td>\n",
       "                        <td id=\"T_4c22969f_6496_11eb_a244_5c5f676307b7row2_col3\" class=\"data row2 col3\" >8</td>\n",
       "                        <td id=\"T_4c22969f_6496_11eb_a244_5c5f676307b7row2_col4\" class=\"data row2 col4\" >5</td>\n",
       "                        <td id=\"T_4c22969f_6496_11eb_a244_5c5f676307b7row2_col5\" class=\"data row2 col5\" >11.200000</td>\n",
       "                        <td id=\"T_4c22969f_6496_11eb_a244_5c5f676307b7row2_col6\" class=\"data row2 col6\" >112.000000</td>\n",
       "            </tr>\n",
       "            <tr>\n",
       "                        <th id=\"T_4c22969f_6496_11eb_a244_5c5f676307b7level0_row3\" class=\"row_heading level0 row3\" >6</th>\n",
       "                        <td id=\"T_4c22969f_6496_11eb_a244_5c5f676307b7row3_col0\" class=\"data row3 col0\" >Показать на главной странице баннеры с актуальными акциями и распродажами, чтобы увеличить конверсию</td>\n",
       "                        <td id=\"T_4c22969f_6496_11eb_a244_5c5f676307b7row3_col1\" class=\"data row3 col1\" >5</td>\n",
       "                        <td id=\"T_4c22969f_6496_11eb_a244_5c5f676307b7row3_col2\" class=\"data row3 col2\" >3</td>\n",
       "                        <td id=\"T_4c22969f_6496_11eb_a244_5c5f676307b7row3_col3\" class=\"data row3 col3\" >8</td>\n",
       "                        <td id=\"T_4c22969f_6496_11eb_a244_5c5f676307b7row3_col4\" class=\"data row3 col4\" >3</td>\n",
       "                        <td id=\"T_4c22969f_6496_11eb_a244_5c5f676307b7row3_col5\" class=\"data row3 col5\" >8.000000</td>\n",
       "                        <td id=\"T_4c22969f_6496_11eb_a244_5c5f676307b7row3_col6\" class=\"data row3 col6\" >40.000000</td>\n",
       "            </tr>\n",
       "            <tr>\n",
       "                        <th id=\"T_4c22969f_6496_11eb_a244_5c5f676307b7level0_row4\" class=\"row_heading level0 row4\" >2</th>\n",
       "                        <td id=\"T_4c22969f_6496_11eb_a244_5c5f676307b7row4_col0\" class=\"data row4 col0\" >Добавить блоки рекомендаций товаров на сайт интернет магазина, чтобы повысить конверсию и средний чек заказа</td>\n",
       "                        <td id=\"T_4c22969f_6496_11eb_a244_5c5f676307b7row4_col1\" class=\"data row4 col1\" >8</td>\n",
       "                        <td id=\"T_4c22969f_6496_11eb_a244_5c5f676307b7row4_col2\" class=\"data row4 col2\" >3</td>\n",
       "                        <td id=\"T_4c22969f_6496_11eb_a244_5c5f676307b7row4_col3\" class=\"data row4 col3\" >7</td>\n",
       "                        <td id=\"T_4c22969f_6496_11eb_a244_5c5f676307b7row4_col4\" class=\"data row4 col4\" >3</td>\n",
       "                        <td id=\"T_4c22969f_6496_11eb_a244_5c5f676307b7row4_col5\" class=\"data row4 col5\" >7.000000</td>\n",
       "                        <td id=\"T_4c22969f_6496_11eb_a244_5c5f676307b7row4_col6\" class=\"data row4 col6\" >56.000000</td>\n",
       "            </tr>\n",
       "            <tr>\n",
       "                        <th id=\"T_4c22969f_6496_11eb_a244_5c5f676307b7level0_row5\" class=\"row_heading level0 row5\" >1</th>\n",
       "                        <td id=\"T_4c22969f_6496_11eb_a244_5c5f676307b7row5_col0\" class=\"data row5 col0\" >Запустить собственную службу доставки, что сократит срок доставки заказов</td>\n",
       "                        <td id=\"T_4c22969f_6496_11eb_a244_5c5f676307b7row5_col1\" class=\"data row5 col1\" >2</td>\n",
       "                        <td id=\"T_4c22969f_6496_11eb_a244_5c5f676307b7row5_col2\" class=\"data row5 col2\" >5</td>\n",
       "                        <td id=\"T_4c22969f_6496_11eb_a244_5c5f676307b7row5_col3\" class=\"data row5 col3\" >4</td>\n",
       "                        <td id=\"T_4c22969f_6496_11eb_a244_5c5f676307b7row5_col4\" class=\"data row5 col4\" >10</td>\n",
       "                        <td id=\"T_4c22969f_6496_11eb_a244_5c5f676307b7row5_col5\" class=\"data row5 col5\" >2.000000</td>\n",
       "                        <td id=\"T_4c22969f_6496_11eb_a244_5c5f676307b7row5_col6\" class=\"data row5 col6\" >4.000000</td>\n",
       "            </tr>\n",
       "            <tr>\n",
       "                        <th id=\"T_4c22969f_6496_11eb_a244_5c5f676307b7level0_row6\" class=\"row_heading level0 row6\" >5</th>\n",
       "                        <td id=\"T_4c22969f_6496_11eb_a244_5c5f676307b7row6_col0\" class=\"data row6 col0\" >Добавить страницу отзывов клиентов о магазине, что позволит увеличить количество заказов</td>\n",
       "                        <td id=\"T_4c22969f_6496_11eb_a244_5c5f676307b7row6_col1\" class=\"data row6 col1\" >3</td>\n",
       "                        <td id=\"T_4c22969f_6496_11eb_a244_5c5f676307b7row6_col2\" class=\"data row6 col2\" >2</td>\n",
       "                        <td id=\"T_4c22969f_6496_11eb_a244_5c5f676307b7row6_col3\" class=\"data row6 col3\" >2</td>\n",
       "                        <td id=\"T_4c22969f_6496_11eb_a244_5c5f676307b7row6_col4\" class=\"data row6 col4\" >3</td>\n",
       "                        <td id=\"T_4c22969f_6496_11eb_a244_5c5f676307b7row6_col5\" class=\"data row6 col5\" >1.330000</td>\n",
       "                        <td id=\"T_4c22969f_6496_11eb_a244_5c5f676307b7row6_col6\" class=\"data row6 col6\" >4.000000</td>\n",
       "            </tr>\n",
       "            <tr>\n",
       "                        <th id=\"T_4c22969f_6496_11eb_a244_5c5f676307b7level0_row7\" class=\"row_heading level0 row7\" >3</th>\n",
       "                        <td id=\"T_4c22969f_6496_11eb_a244_5c5f676307b7row7_col0\" class=\"data row7 col0\" >Изменить структура категорий, что увеличит конверсию, т.к. пользователи быстрее найдут нужный товар</td>\n",
       "                        <td id=\"T_4c22969f_6496_11eb_a244_5c5f676307b7row7_col1\" class=\"data row7 col1\" >8</td>\n",
       "                        <td id=\"T_4c22969f_6496_11eb_a244_5c5f676307b7row7_col2\" class=\"data row7 col2\" >3</td>\n",
       "                        <td id=\"T_4c22969f_6496_11eb_a244_5c5f676307b7row7_col3\" class=\"data row7 col3\" >3</td>\n",
       "                        <td id=\"T_4c22969f_6496_11eb_a244_5c5f676307b7row7_col4\" class=\"data row7 col4\" >8</td>\n",
       "                        <td id=\"T_4c22969f_6496_11eb_a244_5c5f676307b7row7_col5\" class=\"data row7 col5\" >1.120000</td>\n",
       "                        <td id=\"T_4c22969f_6496_11eb_a244_5c5f676307b7row7_col6\" class=\"data row7 col6\" >9.000000</td>\n",
       "            </tr>\n",
       "            <tr>\n",
       "                        <th id=\"T_4c22969f_6496_11eb_a244_5c5f676307b7level0_row8\" class=\"row_heading level0 row8\" >4</th>\n",
       "                        <td id=\"T_4c22969f_6496_11eb_a244_5c5f676307b7row8_col0\" class=\"data row8 col0\" >Изменить цвет фона главной страницы, чтобы увеличить вовлеченность пользователей</td>\n",
       "                        <td id=\"T_4c22969f_6496_11eb_a244_5c5f676307b7row8_col1\" class=\"data row8 col1\" >3</td>\n",
       "                        <td id=\"T_4c22969f_6496_11eb_a244_5c5f676307b7row8_col2\" class=\"data row8 col2\" >1</td>\n",
       "                        <td id=\"T_4c22969f_6496_11eb_a244_5c5f676307b7row8_col3\" class=\"data row8 col3\" >1</td>\n",
       "                        <td id=\"T_4c22969f_6496_11eb_a244_5c5f676307b7row8_col4\" class=\"data row8 col4\" >1</td>\n",
       "                        <td id=\"T_4c22969f_6496_11eb_a244_5c5f676307b7row8_col5\" class=\"data row8 col5\" >1.000000</td>\n",
       "                        <td id=\"T_4c22969f_6496_11eb_a244_5c5f676307b7row8_col6\" class=\"data row8 col6\" >3.000000</td>\n",
       "            </tr>\n",
       "    </tbody></table>"
      ],
      "text/plain": [
       "<pandas.io.formats.style.Styler at 0x2982a124c10>"
      ]
     },
     "execution_count": 4,
     "metadata": {},
     "output_type": "execute_result"
    }
   ],
   "source": [
    "hypothesis.sort_values('ICE', ascending=False).style.background_gradient(cmap='Blues', subset=['ICE'])"
   ]
  },
  {
   "cell_type": "markdown",
   "metadata": {},
   "source": [
    "Топ3 гипотезы следующие:\n",
    "* Запустить акцию, дающую скидку на товар в день рождения, **оценка ICE - 16.20**\n",
    "* Добавить два новых канала привлечения трафика, что позволит привлекать на 30% больше пользователей, **оценка ICE - 13.33**\n",
    "* Добавить форму подписки на все основные страницы, чтобы собрать базу клиентов для email-рассылок, **оценка ICE - 11.20**\n",
    "\n",
    "Все три гипотезы имеют большое влияние на пользователей, отдел маркетинга уверен что они сработают, затраты - средние"
   ]
  },
  {
   "cell_type": "markdown",
   "metadata": {},
   "source": [
    "Отсортируем таблицу по оценке RICE и выведем ее на экран"
   ]
  },
  {
   "cell_type": "code",
   "execution_count": 5,
   "metadata": {},
   "outputs": [
    {
     "data": {
      "text/html": [
       "<style  type=\"text/css\" >\n",
       "    #T_4c24ddb2_6496_11eb_98a2_5c5f676307b7row0_col6 {\n",
       "            background-color:  #08306b;\n",
       "            color:  #f1f1f1;\n",
       "        }    #T_4c24ddb2_6496_11eb_98a2_5c5f676307b7row1_col6 {\n",
       "            background-color:  #71b1d7;\n",
       "            color:  #000000;\n",
       "        }    #T_4c24ddb2_6496_11eb_98a2_5c5f676307b7row2_col6 {\n",
       "            background-color:  #aacfe5;\n",
       "            color:  #000000;\n",
       "        }    #T_4c24ddb2_6496_11eb_98a2_5c5f676307b7row3_col6 {\n",
       "            background-color:  #aacfe5;\n",
       "            color:  #000000;\n",
       "        }    #T_4c24ddb2_6496_11eb_98a2_5c5f676307b7row4_col6 {\n",
       "            background-color:  #dfebf7;\n",
       "            color:  #000000;\n",
       "        }    #T_4c24ddb2_6496_11eb_98a2_5c5f676307b7row5_col6 {\n",
       "            background-color:  #ecf4fb;\n",
       "            color:  #000000;\n",
       "        }    #T_4c24ddb2_6496_11eb_98a2_5c5f676307b7row6_col6 {\n",
       "            background-color:  #f5fafe;\n",
       "            color:  #000000;\n",
       "        }    #T_4c24ddb2_6496_11eb_98a2_5c5f676307b7row7_col6 {\n",
       "            background-color:  #f5fafe;\n",
       "            color:  #000000;\n",
       "        }    #T_4c24ddb2_6496_11eb_98a2_5c5f676307b7row8_col6 {\n",
       "            background-color:  #f7fbff;\n",
       "            color:  #000000;\n",
       "        }</style><table id=\"T_4c24ddb2_6496_11eb_98a2_5c5f676307b7\" ><thead>    <tr>        <th class=\"blank level0\" ></th>        <th class=\"col_heading level0 col0\" >Hypothesis</th>        <th class=\"col_heading level0 col1\" >Reach</th>        <th class=\"col_heading level0 col2\" >Impact</th>        <th class=\"col_heading level0 col3\" >Confidence</th>        <th class=\"col_heading level0 col4\" >Efforts</th>        <th class=\"col_heading level0 col5\" >ICE</th>        <th class=\"col_heading level0 col6\" >RICE</th>    </tr></thead><tbody>\n",
       "                <tr>\n",
       "                        <th id=\"T_4c24ddb2_6496_11eb_98a2_5c5f676307b7level0_row0\" class=\"row_heading level0 row0\" >7</th>\n",
       "                        <td id=\"T_4c24ddb2_6496_11eb_98a2_5c5f676307b7row0_col0\" class=\"data row0 col0\" >Добавить форму подписки на все основные страницы, чтобы собрать базу клиентов для email-рассылок</td>\n",
       "                        <td id=\"T_4c24ddb2_6496_11eb_98a2_5c5f676307b7row0_col1\" class=\"data row0 col1\" >10</td>\n",
       "                        <td id=\"T_4c24ddb2_6496_11eb_98a2_5c5f676307b7row0_col2\" class=\"data row0 col2\" >7</td>\n",
       "                        <td id=\"T_4c24ddb2_6496_11eb_98a2_5c5f676307b7row0_col3\" class=\"data row0 col3\" >8</td>\n",
       "                        <td id=\"T_4c24ddb2_6496_11eb_98a2_5c5f676307b7row0_col4\" class=\"data row0 col4\" >5</td>\n",
       "                        <td id=\"T_4c24ddb2_6496_11eb_98a2_5c5f676307b7row0_col5\" class=\"data row0 col5\" >11.200000</td>\n",
       "                        <td id=\"T_4c24ddb2_6496_11eb_98a2_5c5f676307b7row0_col6\" class=\"data row0 col6\" >112.000000</td>\n",
       "            </tr>\n",
       "            <tr>\n",
       "                        <th id=\"T_4c24ddb2_6496_11eb_98a2_5c5f676307b7level0_row1\" class=\"row_heading level0 row1\" >2</th>\n",
       "                        <td id=\"T_4c24ddb2_6496_11eb_98a2_5c5f676307b7row1_col0\" class=\"data row1 col0\" >Добавить блоки рекомендаций товаров на сайт интернет магазина, чтобы повысить конверсию и средний чек заказа</td>\n",
       "                        <td id=\"T_4c24ddb2_6496_11eb_98a2_5c5f676307b7row1_col1\" class=\"data row1 col1\" >8</td>\n",
       "                        <td id=\"T_4c24ddb2_6496_11eb_98a2_5c5f676307b7row1_col2\" class=\"data row1 col2\" >3</td>\n",
       "                        <td id=\"T_4c24ddb2_6496_11eb_98a2_5c5f676307b7row1_col3\" class=\"data row1 col3\" >7</td>\n",
       "                        <td id=\"T_4c24ddb2_6496_11eb_98a2_5c5f676307b7row1_col4\" class=\"data row1 col4\" >3</td>\n",
       "                        <td id=\"T_4c24ddb2_6496_11eb_98a2_5c5f676307b7row1_col5\" class=\"data row1 col5\" >7.000000</td>\n",
       "                        <td id=\"T_4c24ddb2_6496_11eb_98a2_5c5f676307b7row1_col6\" class=\"data row1 col6\" >56.000000</td>\n",
       "            </tr>\n",
       "            <tr>\n",
       "                        <th id=\"T_4c24ddb2_6496_11eb_98a2_5c5f676307b7level0_row2\" class=\"row_heading level0 row2\" >0</th>\n",
       "                        <td id=\"T_4c24ddb2_6496_11eb_98a2_5c5f676307b7row2_col0\" class=\"data row2 col0\" >Добавить два новых канала привлечения трафика, что позволит привлекать на 30% больше пользователей</td>\n",
       "                        <td id=\"T_4c24ddb2_6496_11eb_98a2_5c5f676307b7row2_col1\" class=\"data row2 col1\" >3</td>\n",
       "                        <td id=\"T_4c24ddb2_6496_11eb_98a2_5c5f676307b7row2_col2\" class=\"data row2 col2\" >10</td>\n",
       "                        <td id=\"T_4c24ddb2_6496_11eb_98a2_5c5f676307b7row2_col3\" class=\"data row2 col3\" >8</td>\n",
       "                        <td id=\"T_4c24ddb2_6496_11eb_98a2_5c5f676307b7row2_col4\" class=\"data row2 col4\" >6</td>\n",
       "                        <td id=\"T_4c24ddb2_6496_11eb_98a2_5c5f676307b7row2_col5\" class=\"data row2 col5\" >13.330000</td>\n",
       "                        <td id=\"T_4c24ddb2_6496_11eb_98a2_5c5f676307b7row2_col6\" class=\"data row2 col6\" >40.000000</td>\n",
       "            </tr>\n",
       "            <tr>\n",
       "                        <th id=\"T_4c24ddb2_6496_11eb_98a2_5c5f676307b7level0_row3\" class=\"row_heading level0 row3\" >6</th>\n",
       "                        <td id=\"T_4c24ddb2_6496_11eb_98a2_5c5f676307b7row3_col0\" class=\"data row3 col0\" >Показать на главной странице баннеры с актуальными акциями и распродажами, чтобы увеличить конверсию</td>\n",
       "                        <td id=\"T_4c24ddb2_6496_11eb_98a2_5c5f676307b7row3_col1\" class=\"data row3 col1\" >5</td>\n",
       "                        <td id=\"T_4c24ddb2_6496_11eb_98a2_5c5f676307b7row3_col2\" class=\"data row3 col2\" >3</td>\n",
       "                        <td id=\"T_4c24ddb2_6496_11eb_98a2_5c5f676307b7row3_col3\" class=\"data row3 col3\" >8</td>\n",
       "                        <td id=\"T_4c24ddb2_6496_11eb_98a2_5c5f676307b7row3_col4\" class=\"data row3 col4\" >3</td>\n",
       "                        <td id=\"T_4c24ddb2_6496_11eb_98a2_5c5f676307b7row3_col5\" class=\"data row3 col5\" >8.000000</td>\n",
       "                        <td id=\"T_4c24ddb2_6496_11eb_98a2_5c5f676307b7row3_col6\" class=\"data row3 col6\" >40.000000</td>\n",
       "            </tr>\n",
       "            <tr>\n",
       "                        <th id=\"T_4c24ddb2_6496_11eb_98a2_5c5f676307b7level0_row4\" class=\"row_heading level0 row4\" >8</th>\n",
       "                        <td id=\"T_4c24ddb2_6496_11eb_98a2_5c5f676307b7row4_col0\" class=\"data row4 col0\" >Запустить акцию, дающую скидку на товар в день рождения</td>\n",
       "                        <td id=\"T_4c24ddb2_6496_11eb_98a2_5c5f676307b7row4_col1\" class=\"data row4 col1\" >1</td>\n",
       "                        <td id=\"T_4c24ddb2_6496_11eb_98a2_5c5f676307b7row4_col2\" class=\"data row4 col2\" >9</td>\n",
       "                        <td id=\"T_4c24ddb2_6496_11eb_98a2_5c5f676307b7row4_col3\" class=\"data row4 col3\" >9</td>\n",
       "                        <td id=\"T_4c24ddb2_6496_11eb_98a2_5c5f676307b7row4_col4\" class=\"data row4 col4\" >5</td>\n",
       "                        <td id=\"T_4c24ddb2_6496_11eb_98a2_5c5f676307b7row4_col5\" class=\"data row4 col5\" >16.200000</td>\n",
       "                        <td id=\"T_4c24ddb2_6496_11eb_98a2_5c5f676307b7row4_col6\" class=\"data row4 col6\" >16.200000</td>\n",
       "            </tr>\n",
       "            <tr>\n",
       "                        <th id=\"T_4c24ddb2_6496_11eb_98a2_5c5f676307b7level0_row5\" class=\"row_heading level0 row5\" >3</th>\n",
       "                        <td id=\"T_4c24ddb2_6496_11eb_98a2_5c5f676307b7row5_col0\" class=\"data row5 col0\" >Изменить структура категорий, что увеличит конверсию, т.к. пользователи быстрее найдут нужный товар</td>\n",
       "                        <td id=\"T_4c24ddb2_6496_11eb_98a2_5c5f676307b7row5_col1\" class=\"data row5 col1\" >8</td>\n",
       "                        <td id=\"T_4c24ddb2_6496_11eb_98a2_5c5f676307b7row5_col2\" class=\"data row5 col2\" >3</td>\n",
       "                        <td id=\"T_4c24ddb2_6496_11eb_98a2_5c5f676307b7row5_col3\" class=\"data row5 col3\" >3</td>\n",
       "                        <td id=\"T_4c24ddb2_6496_11eb_98a2_5c5f676307b7row5_col4\" class=\"data row5 col4\" >8</td>\n",
       "                        <td id=\"T_4c24ddb2_6496_11eb_98a2_5c5f676307b7row5_col5\" class=\"data row5 col5\" >1.120000</td>\n",
       "                        <td id=\"T_4c24ddb2_6496_11eb_98a2_5c5f676307b7row5_col6\" class=\"data row5 col6\" >9.000000</td>\n",
       "            </tr>\n",
       "            <tr>\n",
       "                        <th id=\"T_4c24ddb2_6496_11eb_98a2_5c5f676307b7level0_row6\" class=\"row_heading level0 row6\" >1</th>\n",
       "                        <td id=\"T_4c24ddb2_6496_11eb_98a2_5c5f676307b7row6_col0\" class=\"data row6 col0\" >Запустить собственную службу доставки, что сократит срок доставки заказов</td>\n",
       "                        <td id=\"T_4c24ddb2_6496_11eb_98a2_5c5f676307b7row6_col1\" class=\"data row6 col1\" >2</td>\n",
       "                        <td id=\"T_4c24ddb2_6496_11eb_98a2_5c5f676307b7row6_col2\" class=\"data row6 col2\" >5</td>\n",
       "                        <td id=\"T_4c24ddb2_6496_11eb_98a2_5c5f676307b7row6_col3\" class=\"data row6 col3\" >4</td>\n",
       "                        <td id=\"T_4c24ddb2_6496_11eb_98a2_5c5f676307b7row6_col4\" class=\"data row6 col4\" >10</td>\n",
       "                        <td id=\"T_4c24ddb2_6496_11eb_98a2_5c5f676307b7row6_col5\" class=\"data row6 col5\" >2.000000</td>\n",
       "                        <td id=\"T_4c24ddb2_6496_11eb_98a2_5c5f676307b7row6_col6\" class=\"data row6 col6\" >4.000000</td>\n",
       "            </tr>\n",
       "            <tr>\n",
       "                        <th id=\"T_4c24ddb2_6496_11eb_98a2_5c5f676307b7level0_row7\" class=\"row_heading level0 row7\" >5</th>\n",
       "                        <td id=\"T_4c24ddb2_6496_11eb_98a2_5c5f676307b7row7_col0\" class=\"data row7 col0\" >Добавить страницу отзывов клиентов о магазине, что позволит увеличить количество заказов</td>\n",
       "                        <td id=\"T_4c24ddb2_6496_11eb_98a2_5c5f676307b7row7_col1\" class=\"data row7 col1\" >3</td>\n",
       "                        <td id=\"T_4c24ddb2_6496_11eb_98a2_5c5f676307b7row7_col2\" class=\"data row7 col2\" >2</td>\n",
       "                        <td id=\"T_4c24ddb2_6496_11eb_98a2_5c5f676307b7row7_col3\" class=\"data row7 col3\" >2</td>\n",
       "                        <td id=\"T_4c24ddb2_6496_11eb_98a2_5c5f676307b7row7_col4\" class=\"data row7 col4\" >3</td>\n",
       "                        <td id=\"T_4c24ddb2_6496_11eb_98a2_5c5f676307b7row7_col5\" class=\"data row7 col5\" >1.330000</td>\n",
       "                        <td id=\"T_4c24ddb2_6496_11eb_98a2_5c5f676307b7row7_col6\" class=\"data row7 col6\" >4.000000</td>\n",
       "            </tr>\n",
       "            <tr>\n",
       "                        <th id=\"T_4c24ddb2_6496_11eb_98a2_5c5f676307b7level0_row8\" class=\"row_heading level0 row8\" >4</th>\n",
       "                        <td id=\"T_4c24ddb2_6496_11eb_98a2_5c5f676307b7row8_col0\" class=\"data row8 col0\" >Изменить цвет фона главной страницы, чтобы увеличить вовлеченность пользователей</td>\n",
       "                        <td id=\"T_4c24ddb2_6496_11eb_98a2_5c5f676307b7row8_col1\" class=\"data row8 col1\" >3</td>\n",
       "                        <td id=\"T_4c24ddb2_6496_11eb_98a2_5c5f676307b7row8_col2\" class=\"data row8 col2\" >1</td>\n",
       "                        <td id=\"T_4c24ddb2_6496_11eb_98a2_5c5f676307b7row8_col3\" class=\"data row8 col3\" >1</td>\n",
       "                        <td id=\"T_4c24ddb2_6496_11eb_98a2_5c5f676307b7row8_col4\" class=\"data row8 col4\" >1</td>\n",
       "                        <td id=\"T_4c24ddb2_6496_11eb_98a2_5c5f676307b7row8_col5\" class=\"data row8 col5\" >1.000000</td>\n",
       "                        <td id=\"T_4c24ddb2_6496_11eb_98a2_5c5f676307b7row8_col6\" class=\"data row8 col6\" >3.000000</td>\n",
       "            </tr>\n",
       "    </tbody></table>"
      ],
      "text/plain": [
       "<pandas.io.formats.style.Styler at 0x2982a5297f0>"
      ]
     },
     "execution_count": 5,
     "metadata": {},
     "output_type": "execute_result"
    }
   ],
   "source": [
    "hypothesis.sort_values('RICE', ascending=False).style.background_gradient(cmap='Blues', subset=['RICE'])"
   ]
  },
  {
   "cell_type": "markdown",
   "metadata": {},
   "source": [
    "Топ3 гипотезы следующие:\n",
    "* Добавить форму подписки на все основные страницы, чтобы собрать базу клиентов для email-рассылок, **оценка RICE - 112**\n",
    "* Добавить блоки рекомендаций товаров на сайт интернет магазина, чтобы повысить конверсию и средний чек заказа, **оценка RICE - 56**\n",
    "* Добавить два новых канала привлечения трафика, что позволит привлекать на 30% больше пользователей, **оценка RICE - 40**\n",
    "\n",
    "Когда в расчет оценки был добавлен параметр охвата пользователей Топ3 изменился - на первом месте оказалась гипотеза которая ранее была на третьем в связи с тем что у нее максимальный охват аудитории, вторая гипотеза из предыдущая списка опустилась на третье место, а первая гипотеза сразу на пятое в связи с очень низким охватом аудитории."
   ]
  },
  {
   "cell_type": "markdown",
   "metadata": {},
   "source": [
    "## Часть 1 - Вывод<a id=\"stage_1_summary\"></a>\n",
    "\n",
    "Мы провели приоритизацию гипотез методами ICE и RICE и увидели как сильно влияет охват аудитории на итоговые оценки.\n",
    "\n",
    "**Запустить акцию, дающую скидку на товар в день рождения** - самая высоко оцененная методом ICE гипотеза, маркетологи уверены что она окажет большое положительное влияние на уровень выручки, сдвинута нами с первого места в очереди гипотез на проверку на пятое, в связи с тем, что охват аудитории у нее минимальный из возможных\n",
    "\n",
    "**Добавить форму подписки на все основные страницы, чтобы собрать базу клиентов для email-рассылок** - самая высоко оцененная методом RICE гипотеза будет первой в очереди на проверку, не смотря на то что оценки влияния и уверенности в результате у нее несоколько ниже - охват пользователей у нее максимальный"
   ]
  },
  {
   "cell_type": "markdown",
   "metadata": {},
   "source": [
    "# Часть 2 - Анализ A/B-теста<a id=\"stage_2\"></a>"
   ]
  },
  {
   "cell_type": "markdown",
   "metadata": {},
   "source": [
    "## Загрука и просмотр данных<a id=\"stage_2_load\"></a>"
   ]
  },
  {
   "cell_type": "markdown",
   "metadata": {},
   "source": [
    "Загрузим результаты проведенного A/B-теста в переменные"
   ]
  },
  {
   "cell_type": "code",
   "execution_count": 6,
   "metadata": {},
   "outputs": [],
   "source": [
    "orders = pd.read_csv('datasets/orders.csv')\n",
    "visitors = pd.read_csv('datasets/visitors.csv')"
   ]
  },
  {
   "cell_type": "markdown",
   "metadata": {},
   "source": [
    "### orders"
   ]
  },
  {
   "cell_type": "code",
   "execution_count": 7,
   "metadata": {},
   "outputs": [
    {
     "data": {
      "text/html": [
       "<div>\n",
       "<style scoped>\n",
       "    .dataframe tbody tr th:only-of-type {\n",
       "        vertical-align: middle;\n",
       "    }\n",
       "\n",
       "    .dataframe tbody tr th {\n",
       "        vertical-align: top;\n",
       "    }\n",
       "\n",
       "    .dataframe thead th {\n",
       "        text-align: right;\n",
       "    }\n",
       "</style>\n",
       "<table border=\"1\" class=\"dataframe\">\n",
       "  <thead>\n",
       "    <tr style=\"text-align: right;\">\n",
       "      <th></th>\n",
       "      <th>transactionId</th>\n",
       "      <th>visitorId</th>\n",
       "      <th>date</th>\n",
       "      <th>revenue</th>\n",
       "      <th>group</th>\n",
       "    </tr>\n",
       "  </thead>\n",
       "  <tbody>\n",
       "    <tr>\n",
       "      <th>0</th>\n",
       "      <td>3667963787</td>\n",
       "      <td>3312258926</td>\n",
       "      <td>2019-08-15</td>\n",
       "      <td>1650</td>\n",
       "      <td>B</td>\n",
       "    </tr>\n",
       "    <tr>\n",
       "      <th>1</th>\n",
       "      <td>2804400009</td>\n",
       "      <td>3642806036</td>\n",
       "      <td>2019-08-15</td>\n",
       "      <td>730</td>\n",
       "      <td>B</td>\n",
       "    </tr>\n",
       "    <tr>\n",
       "      <th>2</th>\n",
       "      <td>2961555356</td>\n",
       "      <td>4069496402</td>\n",
       "      <td>2019-08-15</td>\n",
       "      <td>400</td>\n",
       "      <td>A</td>\n",
       "    </tr>\n",
       "    <tr>\n",
       "      <th>3</th>\n",
       "      <td>3797467345</td>\n",
       "      <td>1196621759</td>\n",
       "      <td>2019-08-15</td>\n",
       "      <td>9759</td>\n",
       "      <td>B</td>\n",
       "    </tr>\n",
       "    <tr>\n",
       "      <th>4</th>\n",
       "      <td>2282983706</td>\n",
       "      <td>2322279887</td>\n",
       "      <td>2019-08-15</td>\n",
       "      <td>2308</td>\n",
       "      <td>B</td>\n",
       "    </tr>\n",
       "  </tbody>\n",
       "</table>\n",
       "</div>"
      ],
      "text/plain": [
       "   transactionId   visitorId        date  revenue group\n",
       "0     3667963787  3312258926  2019-08-15     1650     B\n",
       "1     2804400009  3642806036  2019-08-15      730     B\n",
       "2     2961555356  4069496402  2019-08-15      400     A\n",
       "3     3797467345  1196621759  2019-08-15     9759     B\n",
       "4     2282983706  2322279887  2019-08-15     2308     B"
      ]
     },
     "execution_count": 7,
     "metadata": {},
     "output_type": "execute_result"
    }
   ],
   "source": [
    "orders.head()"
   ]
  },
  {
   "cell_type": "code",
   "execution_count": 8,
   "metadata": {},
   "outputs": [
    {
     "name": "stdout",
     "output_type": "stream",
     "text": [
      "<class 'pandas.core.frame.DataFrame'>\n",
      "RangeIndex: 1197 entries, 0 to 1196\n",
      "Data columns (total 5 columns):\n",
      " #   Column         Non-Null Count  Dtype \n",
      "---  ------         --------------  ----- \n",
      " 0   transactionId  1197 non-null   int64 \n",
      " 1   visitorId      1197 non-null   int64 \n",
      " 2   date           1197 non-null   object\n",
      " 3   revenue        1197 non-null   int64 \n",
      " 4   group          1197 non-null   object\n",
      "dtypes: int64(3), object(2)\n",
      "memory usage: 46.9+ KB\n"
     ]
    }
   ],
   "source": [
    "orders.info()"
   ]
  },
  {
   "cell_type": "markdown",
   "metadata": {},
   "source": [
    "В таблице содержится следующая информация:\n",
    "* transactionId — идентификатор заказа;\n",
    "* visitorId — идентификатор пользователя, совершившего заказ;\n",
    "* date — дата, когда был совершён заказ;\n",
    "* revenue — выручка заказа;\n",
    "* group — группа A/B-теста, в которую попал заказ.\n",
    "\n",
    "В таблице нет пропущенных данных, требуется привести наименования столбцов в нижний регистр и изменить тип данных столбца с датой на `datetime`"
   ]
  },
  {
   "cell_type": "markdown",
   "metadata": {},
   "source": [
    "Изменим регистр в наименования столбцов"
   ]
  },
  {
   "cell_type": "code",
   "execution_count": 9,
   "metadata": {},
   "outputs": [],
   "source": [
    "orders.columns = orders.columns.str.lower()"
   ]
  },
  {
   "cell_type": "markdown",
   "metadata": {},
   "source": [
    "Изменим тип данных в столбце с датой"
   ]
  },
  {
   "cell_type": "code",
   "execution_count": 10,
   "metadata": {},
   "outputs": [],
   "source": [
    "orders['date'] = pd.to_datetime(orders['date'], format='%Y-%m-%d')"
   ]
  },
  {
   "cell_type": "markdown",
   "metadata": {},
   "source": [
    "Проверим таблицу на дубли"
   ]
  },
  {
   "cell_type": "code",
   "execution_count": 11,
   "metadata": {},
   "outputs": [
    {
     "data": {
      "text/plain": [
       "0"
      ]
     },
     "execution_count": 11,
     "metadata": {},
     "output_type": "execute_result"
    }
   ],
   "source": [
    "orders.duplicated().sum()"
   ]
  },
  {
   "cell_type": "markdown",
   "metadata": {},
   "source": [
    "Убедимся в том что каждый пользователь попал в одну группу теста"
   ]
  },
  {
   "cell_type": "code",
   "execution_count": 12,
   "metadata": {},
   "outputs": [
    {
     "data": {
      "text/plain": [
       "1    973\n",
       "2     58\n",
       "Name: group, dtype: int64"
      ]
     },
     "execution_count": 12,
     "metadata": {},
     "output_type": "execute_result"
    }
   ],
   "source": [
    "orders.pivot_table(index='visitorid', values='group', aggfunc=(pd.Series.nunique))['group'].value_counts()"
   ]
  },
  {
   "cell_type": "markdown",
   "metadata": {},
   "source": [
    "58 пользователей, соверавших покупки, попали в обе группы теста"
   ]
  },
  {
   "cell_type": "markdown",
   "metadata": {},
   "source": [
    "Создадим массив с их уникальными идентификаторами"
   ]
  },
  {
   "cell_type": "code",
   "execution_count": 13,
   "metadata": {},
   "outputs": [],
   "source": [
    "defect_users = orders.pivot_table(index='visitorid', values='group', \n",
    "                                  aggfunc=(pd.Series.nunique)).reset_index().\\\n",
    "                      query('group > 1')['visitorid']"
   ]
  },
  {
   "cell_type": "markdown",
   "metadata": {},
   "source": [
    "Определим сколько покупок сделали эти пользователи"
   ]
  },
  {
   "cell_type": "code",
   "execution_count": 14,
   "metadata": {},
   "outputs": [
    {
     "data": {
      "text/html": [
       "<div>\n",
       "<style scoped>\n",
       "    .dataframe tbody tr th:only-of-type {\n",
       "        vertical-align: middle;\n",
       "    }\n",
       "\n",
       "    .dataframe tbody tr th {\n",
       "        vertical-align: top;\n",
       "    }\n",
       "\n",
       "    .dataframe thead th {\n",
       "        text-align: right;\n",
       "    }\n",
       "</style>\n",
       "<table border=\"1\" class=\"dataframe\">\n",
       "  <thead>\n",
       "    <tr style=\"text-align: right;\">\n",
       "      <th></th>\n",
       "      <th>transactionid</th>\n",
       "      <th>visitorid</th>\n",
       "      <th>date</th>\n",
       "      <th>revenue</th>\n",
       "      <th>group</th>\n",
       "    </tr>\n",
       "  </thead>\n",
       "  <tbody>\n",
       "    <tr>\n",
       "      <th>703</th>\n",
       "      <td>4293855558</td>\n",
       "      <td>8300375</td>\n",
       "      <td>2019-08-07</td>\n",
       "      <td>1790</td>\n",
       "      <td>A</td>\n",
       "    </tr>\n",
       "    <tr>\n",
       "      <th>71</th>\n",
       "      <td>3679129301</td>\n",
       "      <td>8300375</td>\n",
       "      <td>2019-08-01</td>\n",
       "      <td>10510</td>\n",
       "      <td>B</td>\n",
       "    </tr>\n",
       "    <tr>\n",
       "      <th>823</th>\n",
       "      <td>2971973105</td>\n",
       "      <td>199603092</td>\n",
       "      <td>2019-08-27</td>\n",
       "      <td>2790</td>\n",
       "      <td>A</td>\n",
       "    </tr>\n",
       "    <tr>\n",
       "      <th>246</th>\n",
       "      <td>437656952</td>\n",
       "      <td>199603092</td>\n",
       "      <td>2019-08-02</td>\n",
       "      <td>3488</td>\n",
       "      <td>B</td>\n",
       "    </tr>\n",
       "    <tr>\n",
       "      <th>26</th>\n",
       "      <td>2223239646</td>\n",
       "      <td>199603092</td>\n",
       "      <td>2019-08-15</td>\n",
       "      <td>3488</td>\n",
       "      <td>A</td>\n",
       "    </tr>\n",
       "    <tr>\n",
       "      <th>...</th>\n",
       "      <td>...</td>\n",
       "      <td>...</td>\n",
       "      <td>...</td>\n",
       "      <td>...</td>\n",
       "      <td>...</td>\n",
       "    </tr>\n",
       "    <tr>\n",
       "      <th>187</th>\n",
       "      <td>2048878902</td>\n",
       "      <td>4256040402</td>\n",
       "      <td>2019-08-17</td>\n",
       "      <td>1550</td>\n",
       "      <td>A</td>\n",
       "    </tr>\n",
       "    <tr>\n",
       "      <th>114</th>\n",
       "      <td>1120327437</td>\n",
       "      <td>4256040402</td>\n",
       "      <td>2019-08-01</td>\n",
       "      <td>5800</td>\n",
       "      <td>A</td>\n",
       "    </tr>\n",
       "    <tr>\n",
       "      <th>60</th>\n",
       "      <td>1421016313</td>\n",
       "      <td>4256040402</td>\n",
       "      <td>2019-08-16</td>\n",
       "      <td>56650</td>\n",
       "      <td>B</td>\n",
       "    </tr>\n",
       "    <tr>\n",
       "      <th>662</th>\n",
       "      <td>1811671147</td>\n",
       "      <td>4266935830</td>\n",
       "      <td>2019-08-29</td>\n",
       "      <td>78990</td>\n",
       "      <td>A</td>\n",
       "    </tr>\n",
       "    <tr>\n",
       "      <th>682</th>\n",
       "      <td>1216533772</td>\n",
       "      <td>4266935830</td>\n",
       "      <td>2019-08-29</td>\n",
       "      <td>78990</td>\n",
       "      <td>B</td>\n",
       "    </tr>\n",
       "  </tbody>\n",
       "</table>\n",
       "<p>181 rows × 5 columns</p>\n",
       "</div>"
      ],
      "text/plain": [
       "     transactionid   visitorid       date  revenue group\n",
       "703     4293855558     8300375 2019-08-07     1790     A\n",
       "71      3679129301     8300375 2019-08-01    10510     B\n",
       "823     2971973105   199603092 2019-08-27     2790     A\n",
       "246      437656952   199603092 2019-08-02     3488     B\n",
       "26      2223239646   199603092 2019-08-15     3488     A\n",
       "..             ...         ...        ...      ...   ...\n",
       "187     2048878902  4256040402 2019-08-17     1550     A\n",
       "114     1120327437  4256040402 2019-08-01     5800     A\n",
       "60      1421016313  4256040402 2019-08-16    56650     B\n",
       "662     1811671147  4266935830 2019-08-29    78990     A\n",
       "682     1216533772  4266935830 2019-08-29    78990     B\n",
       "\n",
       "[181 rows x 5 columns]"
      ]
     },
     "execution_count": 14,
     "metadata": {},
     "output_type": "execute_result"
    }
   ],
   "source": [
    "orders[orders['visitorid'].isin(defect_users)].sort_values('visitorid')"
   ]
  },
  {
   "cell_type": "markdown",
   "metadata": {},
   "source": [
    "181 запись"
   ]
  },
  {
   "cell_type": "code",
   "execution_count": 15,
   "metadata": {},
   "outputs": [
    {
     "data": {
      "text/plain": [
       "15.121136173767752"
      ]
     },
     "execution_count": 15,
     "metadata": {},
     "output_type": "execute_result"
    }
   ],
   "source": [
    "len(orders[orders['visitorid'].isin(defect_users)].sort_values('visitorid')) / len(orders) * 100"
   ]
  },
  {
   "cell_type": "markdown",
   "metadata": {},
   "source": [
    "Всего таких записей 15%, много, но, к сожалению, мы должны их удалить, так как пользователи, входящие в этот перечень, попали в обе группы и сведения об их деятельности во время теста не могут быть использованы для нахождения различий между группами"
   ]
  },
  {
   "cell_type": "code",
   "execution_count": 16,
   "metadata": {},
   "outputs": [],
   "source": [
    "orders = orders.drop(orders[orders['visitorid'].isin(defect_users)].index).reset_index(drop=True)"
   ]
  },
  {
   "cell_type": "markdown",
   "metadata": {},
   "source": [
    "### visitors"
   ]
  },
  {
   "cell_type": "code",
   "execution_count": 17,
   "metadata": {},
   "outputs": [
    {
     "data": {
      "text/html": [
       "<div>\n",
       "<style scoped>\n",
       "    .dataframe tbody tr th:only-of-type {\n",
       "        vertical-align: middle;\n",
       "    }\n",
       "\n",
       "    .dataframe tbody tr th {\n",
       "        vertical-align: top;\n",
       "    }\n",
       "\n",
       "    .dataframe thead th {\n",
       "        text-align: right;\n",
       "    }\n",
       "</style>\n",
       "<table border=\"1\" class=\"dataframe\">\n",
       "  <thead>\n",
       "    <tr style=\"text-align: right;\">\n",
       "      <th></th>\n",
       "      <th>date</th>\n",
       "      <th>group</th>\n",
       "      <th>visitors</th>\n",
       "    </tr>\n",
       "  </thead>\n",
       "  <tbody>\n",
       "    <tr>\n",
       "      <th>0</th>\n",
       "      <td>2019-08-01</td>\n",
       "      <td>A</td>\n",
       "      <td>719</td>\n",
       "    </tr>\n",
       "    <tr>\n",
       "      <th>1</th>\n",
       "      <td>2019-08-02</td>\n",
       "      <td>A</td>\n",
       "      <td>619</td>\n",
       "    </tr>\n",
       "    <tr>\n",
       "      <th>2</th>\n",
       "      <td>2019-08-03</td>\n",
       "      <td>A</td>\n",
       "      <td>507</td>\n",
       "    </tr>\n",
       "    <tr>\n",
       "      <th>3</th>\n",
       "      <td>2019-08-04</td>\n",
       "      <td>A</td>\n",
       "      <td>717</td>\n",
       "    </tr>\n",
       "    <tr>\n",
       "      <th>4</th>\n",
       "      <td>2019-08-05</td>\n",
       "      <td>A</td>\n",
       "      <td>756</td>\n",
       "    </tr>\n",
       "  </tbody>\n",
       "</table>\n",
       "</div>"
      ],
      "text/plain": [
       "         date group  visitors\n",
       "0  2019-08-01     A       719\n",
       "1  2019-08-02     A       619\n",
       "2  2019-08-03     A       507\n",
       "3  2019-08-04     A       717\n",
       "4  2019-08-05     A       756"
      ]
     },
     "execution_count": 17,
     "metadata": {},
     "output_type": "execute_result"
    }
   ],
   "source": [
    "visitors.head()"
   ]
  },
  {
   "cell_type": "code",
   "execution_count": 18,
   "metadata": {},
   "outputs": [
    {
     "name": "stdout",
     "output_type": "stream",
     "text": [
      "<class 'pandas.core.frame.DataFrame'>\n",
      "RangeIndex: 62 entries, 0 to 61\n",
      "Data columns (total 3 columns):\n",
      " #   Column    Non-Null Count  Dtype \n",
      "---  ------    --------------  ----- \n",
      " 0   date      62 non-null     object\n",
      " 1   group     62 non-null     object\n",
      " 2   visitors  62 non-null     int64 \n",
      "dtypes: int64(1), object(2)\n",
      "memory usage: 1.6+ KB\n"
     ]
    }
   ],
   "source": [
    "visitors.info()"
   ]
  },
  {
   "cell_type": "markdown",
   "metadata": {},
   "source": [
    "Представлены следующие сведения:\n",
    "* date — дата;\n",
    "* group — группа A/B-теста;\n",
    "* visitors — количество пользователей в указанную дату в указанной группе A/B-теста\n",
    "\n",
    "В таблице нет пропусков, требуется изменить тип данных поля с датой"
   ]
  },
  {
   "cell_type": "markdown",
   "metadata": {},
   "source": [
    "Приведение даты к формату `datetime`"
   ]
  },
  {
   "cell_type": "code",
   "execution_count": 19,
   "metadata": {},
   "outputs": [],
   "source": [
    "visitors['date'] = pd.to_datetime(visitors['date'], format='%Y-%m-%d')"
   ]
  },
  {
   "cell_type": "markdown",
   "metadata": {},
   "source": [
    "Проверим таблицу на дубли"
   ]
  },
  {
   "cell_type": "code",
   "execution_count": 20,
   "metadata": {},
   "outputs": [
    {
     "data": {
      "text/plain": [
       "0"
      ]
     },
     "execution_count": 20,
     "metadata": {},
     "output_type": "execute_result"
    }
   ],
   "source": [
    "visitors.duplicated().sum()"
   ]
  },
  {
   "cell_type": "markdown",
   "metadata": {},
   "source": [
    "## Вывод\n",
    "\n",
    "Мы загрузили данные в переменные и методом `info` провели беглый анализ, выяснили что в данных нет пропусков (это хороший знак, означает что сбор данных с сайта работает без ошибок)\n",
    "\n",
    "Поля содержащие даты понадобилось привести к типу данных `dstetime`, что стандартно для импорта информации из csv\n",
    "\n",
    "Углубленный анализ, а именно проверка вхождения пользователей в группы, обнаружил что 15% покупок во время теста совершали 58 пользователей которые попали в обе группы, мы вынуждены были их удалить в  связи с тем что сведения об их активности могут исказить результаты анализа проведенного A/B-теста"
   ]
  },
  {
   "cell_type": "markdown",
   "metadata": {},
   "source": [
    "## Кумулятивные метрики<a id=\"stage_2_cummetr\"></a>"
   ]
  },
  {
   "cell_type": "markdown",
   "metadata": {},
   "source": [
    "Для расчета кумулятивных метрик мы должны агрегировать имеющиеся данные по датам теста и группам"
   ]
  },
  {
   "cell_type": "markdown",
   "metadata": {},
   "source": [
    "Создадим таблицу уникальных пар \"дата-группа теста\""
   ]
  },
  {
   "cell_type": "code",
   "execution_count": 21,
   "metadata": {},
   "outputs": [
    {
     "data": {
      "text/html": [
       "<div>\n",
       "<style scoped>\n",
       "    .dataframe tbody tr th:only-of-type {\n",
       "        vertical-align: middle;\n",
       "    }\n",
       "\n",
       "    .dataframe tbody tr th {\n",
       "        vertical-align: top;\n",
       "    }\n",
       "\n",
       "    .dataframe thead th {\n",
       "        text-align: right;\n",
       "    }\n",
       "</style>\n",
       "<table border=\"1\" class=\"dataframe\">\n",
       "  <thead>\n",
       "    <tr style=\"text-align: right;\">\n",
       "      <th></th>\n",
       "      <th>date</th>\n",
       "      <th>group</th>\n",
       "    </tr>\n",
       "  </thead>\n",
       "  <tbody>\n",
       "    <tr>\n",
       "      <th>0</th>\n",
       "      <td>2019-08-15</td>\n",
       "      <td>B</td>\n",
       "    </tr>\n",
       "    <tr>\n",
       "      <th>6</th>\n",
       "      <td>2019-08-15</td>\n",
       "      <td>A</td>\n",
       "    </tr>\n",
       "    <tr>\n",
       "      <th>35</th>\n",
       "      <td>2019-08-16</td>\n",
       "      <td>A</td>\n",
       "    </tr>\n",
       "    <tr>\n",
       "      <th>37</th>\n",
       "      <td>2019-08-16</td>\n",
       "      <td>B</td>\n",
       "    </tr>\n",
       "    <tr>\n",
       "      <th>45</th>\n",
       "      <td>2019-08-01</td>\n",
       "      <td>A</td>\n",
       "    </tr>\n",
       "    <tr>\n",
       "      <th>54</th>\n",
       "      <td>2019-08-01</td>\n",
       "      <td>B</td>\n",
       "    </tr>\n",
       "  </tbody>\n",
       "</table>\n",
       "</div>"
      ],
      "text/plain": [
       "         date group\n",
       "0  2019-08-15     B\n",
       "6  2019-08-15     A\n",
       "35 2019-08-16     A\n",
       "37 2019-08-16     B\n",
       "45 2019-08-01     A\n",
       "54 2019-08-01     B"
      ]
     },
     "execution_count": 21,
     "metadata": {},
     "output_type": "execute_result"
    }
   ],
   "source": [
    "date_group_pairs = orders[['date','group']].drop_duplicates()\n",
    "date_group_pairs.head(6)"
   ]
  },
  {
   "cell_type": "markdown",
   "metadata": {},
   "source": [
    "Агрегируем заказы используя лямбда функцию которая создает срезы заказов для каждой уникальной пары \"дата-группа теста\" (по дату и все что было раньше) и высчитывает в них количество заказов, уникальных покупателей и суммарную выручку за период"
   ]
  },
  {
   "cell_type": "code",
   "execution_count": 22,
   "metadata": {
    "scrolled": false
   },
   "outputs": [
    {
     "data": {
      "text/html": [
       "<div>\n",
       "<style scoped>\n",
       "    .dataframe tbody tr th:only-of-type {\n",
       "        vertical-align: middle;\n",
       "    }\n",
       "\n",
       "    .dataframe tbody tr th {\n",
       "        vertical-align: top;\n",
       "    }\n",
       "\n",
       "    .dataframe thead th {\n",
       "        text-align: right;\n",
       "    }\n",
       "</style>\n",
       "<table border=\"1\" class=\"dataframe\">\n",
       "  <thead>\n",
       "    <tr style=\"text-align: right;\">\n",
       "      <th></th>\n",
       "      <th>date</th>\n",
       "      <th>group</th>\n",
       "      <th>transactionid</th>\n",
       "      <th>visitorid</th>\n",
       "      <th>revenue</th>\n",
       "    </tr>\n",
       "  </thead>\n",
       "  <tbody>\n",
       "    <tr>\n",
       "      <th>45</th>\n",
       "      <td>2019-08-01</td>\n",
       "      <td>A</td>\n",
       "      <td>23</td>\n",
       "      <td>19</td>\n",
       "      <td>142779</td>\n",
       "    </tr>\n",
       "    <tr>\n",
       "      <th>54</th>\n",
       "      <td>2019-08-01</td>\n",
       "      <td>B</td>\n",
       "      <td>17</td>\n",
       "      <td>17</td>\n",
       "      <td>59758</td>\n",
       "    </tr>\n",
       "    <tr>\n",
       "      <th>149</th>\n",
       "      <td>2019-08-02</td>\n",
       "      <td>A</td>\n",
       "      <td>42</td>\n",
       "      <td>36</td>\n",
       "      <td>234381</td>\n",
       "    </tr>\n",
       "    <tr>\n",
       "      <th>147</th>\n",
       "      <td>2019-08-02</td>\n",
       "      <td>B</td>\n",
       "      <td>40</td>\n",
       "      <td>39</td>\n",
       "      <td>221801</td>\n",
       "    </tr>\n",
       "    <tr>\n",
       "      <th>245</th>\n",
       "      <td>2019-08-03</td>\n",
       "      <td>A</td>\n",
       "      <td>66</td>\n",
       "      <td>60</td>\n",
       "      <td>346854</td>\n",
       "    </tr>\n",
       "    <tr>\n",
       "      <th>328</th>\n",
       "      <td>2019-08-03</td>\n",
       "      <td>B</td>\n",
       "      <td>54</td>\n",
       "      <td>53</td>\n",
       "      <td>288850</td>\n",
       "    </tr>\n",
       "  </tbody>\n",
       "</table>\n",
       "</div>"
      ],
      "text/plain": [
       "          date group  transactionid  visitorid  revenue\n",
       "45  2019-08-01     A             23         19   142779\n",
       "54  2019-08-01     B             17         17    59758\n",
       "149 2019-08-02     A             42         36   234381\n",
       "147 2019-08-02     B             40         39   221801\n",
       "245 2019-08-03     A             66         60   346854\n",
       "328 2019-08-03     B             54         53   288850"
      ]
     },
     "execution_count": 22,
     "metadata": {},
     "output_type": "execute_result"
    }
   ],
   "source": [
    "orders_agg = date_group_pairs.apply(lambda x: orders[np.logical_and(orders['date'] <= x['date'], orders['group'] == x['group'])].\\\n",
    "                              agg({'date':'max',\n",
    "                                   'group':'max',\n",
    "                                   'transactionid':pd.Series.nunique,\n",
    "                                   'visitorid':pd.Series.nunique,\n",
    "                                   'revenue':'sum'}), axis=1).sort_values(['date','group'])\n",
    "orders_agg.head(6)"
   ]
  },
  {
   "cell_type": "markdown",
   "metadata": {},
   "source": [
    "Подобным образом агрегируем сведения по посещениям за периоды"
   ]
  },
  {
   "cell_type": "code",
   "execution_count": 23,
   "metadata": {},
   "outputs": [
    {
     "data": {
      "text/html": [
       "<div>\n",
       "<style scoped>\n",
       "    .dataframe tbody tr th:only-of-type {\n",
       "        vertical-align: middle;\n",
       "    }\n",
       "\n",
       "    .dataframe tbody tr th {\n",
       "        vertical-align: top;\n",
       "    }\n",
       "\n",
       "    .dataframe thead th {\n",
       "        text-align: right;\n",
       "    }\n",
       "</style>\n",
       "<table border=\"1\" class=\"dataframe\">\n",
       "  <thead>\n",
       "    <tr style=\"text-align: right;\">\n",
       "      <th></th>\n",
       "      <th>date</th>\n",
       "      <th>group</th>\n",
       "      <th>visitors</th>\n",
       "    </tr>\n",
       "  </thead>\n",
       "  <tbody>\n",
       "    <tr>\n",
       "      <th>45</th>\n",
       "      <td>2019-08-01</td>\n",
       "      <td>A</td>\n",
       "      <td>719</td>\n",
       "    </tr>\n",
       "    <tr>\n",
       "      <th>54</th>\n",
       "      <td>2019-08-01</td>\n",
       "      <td>B</td>\n",
       "      <td>713</td>\n",
       "    </tr>\n",
       "    <tr>\n",
       "      <th>149</th>\n",
       "      <td>2019-08-02</td>\n",
       "      <td>A</td>\n",
       "      <td>1338</td>\n",
       "    </tr>\n",
       "    <tr>\n",
       "      <th>147</th>\n",
       "      <td>2019-08-02</td>\n",
       "      <td>B</td>\n",
       "      <td>1294</td>\n",
       "    </tr>\n",
       "    <tr>\n",
       "      <th>245</th>\n",
       "      <td>2019-08-03</td>\n",
       "      <td>A</td>\n",
       "      <td>1845</td>\n",
       "    </tr>\n",
       "    <tr>\n",
       "      <th>328</th>\n",
       "      <td>2019-08-03</td>\n",
       "      <td>B</td>\n",
       "      <td>1803</td>\n",
       "    </tr>\n",
       "  </tbody>\n",
       "</table>\n",
       "</div>"
      ],
      "text/plain": [
       "          date group  visitors\n",
       "45  2019-08-01     A       719\n",
       "54  2019-08-01     B       713\n",
       "149 2019-08-02     A      1338\n",
       "147 2019-08-02     B      1294\n",
       "245 2019-08-03     A      1845\n",
       "328 2019-08-03     B      1803"
      ]
     },
     "execution_count": 23,
     "metadata": {},
     "output_type": "execute_result"
    }
   ],
   "source": [
    "visitors_agg = date_group_pairs.apply(lambda x: visitors[np.logical_and(visitors['date'] <= x['date'], visitors['group'] == x['group'])].\\\n",
    "                                agg({'date':'max',\n",
    "                                     'group':'max',\n",
    "                                     'visitors':'sum'}), axis=1).sort_values(['date','group'])\n",
    "visitors_agg.head(6)"
   ]
  },
  {
   "cell_type": "markdown",
   "metadata": {},
   "source": [
    "Объединим обе таблицы в одну и переименуем столбцы"
   ]
  },
  {
   "cell_type": "code",
   "execution_count": 24,
   "metadata": {},
   "outputs": [
    {
     "data": {
      "text/html": [
       "<div>\n",
       "<style scoped>\n",
       "    .dataframe tbody tr th:only-of-type {\n",
       "        vertical-align: middle;\n",
       "    }\n",
       "\n",
       "    .dataframe tbody tr th {\n",
       "        vertical-align: top;\n",
       "    }\n",
       "\n",
       "    .dataframe thead th {\n",
       "        text-align: right;\n",
       "    }\n",
       "</style>\n",
       "<table border=\"1\" class=\"dataframe\">\n",
       "  <thead>\n",
       "    <tr style=\"text-align: right;\">\n",
       "      <th></th>\n",
       "      <th>date</th>\n",
       "      <th>group</th>\n",
       "      <th>orders</th>\n",
       "      <th>buyers</th>\n",
       "      <th>revenue</th>\n",
       "      <th>visitors</th>\n",
       "    </tr>\n",
       "  </thead>\n",
       "  <tbody>\n",
       "    <tr>\n",
       "      <th>0</th>\n",
       "      <td>2019-08-01</td>\n",
       "      <td>A</td>\n",
       "      <td>23</td>\n",
       "      <td>19</td>\n",
       "      <td>142779</td>\n",
       "      <td>719</td>\n",
       "    </tr>\n",
       "    <tr>\n",
       "      <th>1</th>\n",
       "      <td>2019-08-01</td>\n",
       "      <td>B</td>\n",
       "      <td>17</td>\n",
       "      <td>17</td>\n",
       "      <td>59758</td>\n",
       "      <td>713</td>\n",
       "    </tr>\n",
       "    <tr>\n",
       "      <th>2</th>\n",
       "      <td>2019-08-02</td>\n",
       "      <td>A</td>\n",
       "      <td>42</td>\n",
       "      <td>36</td>\n",
       "      <td>234381</td>\n",
       "      <td>1338</td>\n",
       "    </tr>\n",
       "    <tr>\n",
       "      <th>3</th>\n",
       "      <td>2019-08-02</td>\n",
       "      <td>B</td>\n",
       "      <td>40</td>\n",
       "      <td>39</td>\n",
       "      <td>221801</td>\n",
       "      <td>1294</td>\n",
       "    </tr>\n",
       "    <tr>\n",
       "      <th>4</th>\n",
       "      <td>2019-08-03</td>\n",
       "      <td>A</td>\n",
       "      <td>66</td>\n",
       "      <td>60</td>\n",
       "      <td>346854</td>\n",
       "      <td>1845</td>\n",
       "    </tr>\n",
       "    <tr>\n",
       "      <th>5</th>\n",
       "      <td>2019-08-03</td>\n",
       "      <td>B</td>\n",
       "      <td>54</td>\n",
       "      <td>53</td>\n",
       "      <td>288850</td>\n",
       "      <td>1803</td>\n",
       "    </tr>\n",
       "  </tbody>\n",
       "</table>\n",
       "</div>"
      ],
      "text/plain": [
       "        date group  orders  buyers  revenue  visitors\n",
       "0 2019-08-01     A      23      19   142779       719\n",
       "1 2019-08-01     B      17      17    59758       713\n",
       "2 2019-08-02     A      42      36   234381      1338\n",
       "3 2019-08-02     B      40      39   221801      1294\n",
       "4 2019-08-03     A      66      60   346854      1845\n",
       "5 2019-08-03     B      54      53   288850      1803"
      ]
     },
     "execution_count": 24,
     "metadata": {},
     "output_type": "execute_result"
    }
   ],
   "source": [
    "cumulative_data = orders_agg.merge(visitors_agg, on=['date','group'], how='left')\n",
    "cumulative_data.columns = ['date','group','orders','buyers', 'revenue', 'visitors']\n",
    "cumulative_data.head(6)"
   ]
  },
  {
   "cell_type": "markdown",
   "metadata": {},
   "source": [
    "Разделим таблицу на срезы по группам теста"
   ]
  },
  {
   "cell_type": "code",
   "execution_count": 25,
   "metadata": {},
   "outputs": [],
   "source": [
    "cumulative_data_A = cumulative_data.query('group == \"A\"').copy()\n",
    "cumulative_data_B = cumulative_data.query('group == \"B\"').copy()"
   ]
  },
  {
   "cell_type": "markdown",
   "metadata": {},
   "source": [
    "### Выручка<a id=\"stage_2_cum_rev\"></a>"
   ]
  },
  {
   "cell_type": "markdown",
   "metadata": {},
   "source": [
    "Построим график динамики накопления выручки по обеим группам за рассматриваемый период"
   ]
  },
  {
   "cell_type": "code",
   "execution_count": 26,
   "metadata": {
    "scrolled": false
   },
   "outputs": [
    {
     "data": {
      "image/png": "[encoded data removed]",
      "text/plain": [
       "<Figure size 1152x648 with 1 Axes>"
      ]
     },
     "metadata": {
      "needs_background": "light"
     },
     "output_type": "display_data"
    }
   ],
   "source": [
    "plt.figure(figsize=(16,9))\n",
    "plt.plot(cumulative_data_A['date'], cumulative_data_A['revenue'])\n",
    "plt.plot(cumulative_data_B['date'], cumulative_data_B['revenue'])\n",
    "plt.grid(True)\n",
    "plt.legend(['Группа A','Группа B'])\n",
    "plt.title('Кумулятивная выручка по группам \\n', fontsize=18)\n",
    "plt.xlabel('Дата', fontsize=14)\n",
    "plt.ylabel('Выручка', fontsize=14)\n",
    "plt.show()"
   ]
  },
  {
   "cell_type": "markdown",
   "metadata": {},
   "source": [
    "В обеих группах наблюдается рост выручки, в группе A он равномерный на всем протяжении теста, а в группе B виден выброс в середине периода"
   ]
  },
  {
   "cell_type": "markdown",
   "metadata": {},
   "source": [
    "### Средний чек<a id=\"stage_2_cum_check\"></a>"
   ]
  },
  {
   "cell_type": "markdown",
   "metadata": {},
   "source": [
    "Отобразим на графике кумулятивное изменение среднего чека в каждой группе"
   ]
  },
  {
   "cell_type": "code",
   "execution_count": 27,
   "metadata": {},
   "outputs": [
    {
     "data": {
      "image/png": "[encoded data removed]",
      "text/plain": [
       "<Figure size 1152x648 with 1 Axes>"
      ]
     },
     "metadata": {
      "needs_background": "light"
     },
     "output_type": "display_data"
    }
   ],
   "source": [
    "plt.figure(figsize=(16,9))\n",
    "plt.plot(cumulative_data_A['date'], cumulative_data_A['revenue']/cumulative_data_A['orders'])\n",
    "plt.plot(cumulative_data_B['date'], cumulative_data_B['revenue']/cumulative_data_B['orders'])\n",
    "plt.grid(True)\n",
    "plt.legend(['Группа A','Группа B'])\n",
    "plt.title('Кумулятивный средний чек по группам \\n', fontsize=18)\n",
    "plt.xlabel('Дата', fontsize=14)\n",
    "plt.ylabel('Средний чек', fontsize=14)\n",
    "plt.show()"
   ]
  },
  {
   "cell_type": "markdown",
   "metadata": {},
   "source": [
    "Выброс в группе B, который мы видели на графике кумулятивной выручки, мы также можем наблюдать и на этом графике, кроме того мы видем что и в группе A происходили аномальные покупки (наблюдение за 2018-08-13)"
   ]
  },
  {
   "cell_type": "markdown",
   "metadata": {},
   "source": [
    "Для того чтобы построить график относительного изменения среднего чека между группами нам необходимо объединить их в одну таблицу"
   ]
  },
  {
   "cell_type": "code",
   "execution_count": 28,
   "metadata": {},
   "outputs": [],
   "source": [
    "merged_revenue = cumulative_data_A[['date','revenue','orders']].merge(cumulative_data_B[['date','revenue','orders']], \n",
    "                                                                      on='date', suffixes=['A','B'])"
   ]
  },
  {
   "cell_type": "markdown",
   "metadata": {},
   "source": [
    "Построим график"
   ]
  },
  {
   "cell_type": "code",
   "execution_count": 29,
   "metadata": {},
   "outputs": [
    {
     "data": {
      "image/png": "[encoded data removed]",
      "text/plain": [
       "<Figure size 1152x648 with 1 Axes>"
      ]
     },
     "metadata": {
      "needs_background": "light"
     },
     "output_type": "display_data"
    }
   ],
   "source": [
    "plt.figure(figsize=(16,9))\n",
    "plt.plot(merged_revenue['date'], \n",
    "         (merged_revenue['revenueB']/merged_revenue['ordersB'])/(merged_revenue['revenueA']/merged_revenue['ordersA'])-1)\n",
    "plt.axhline(y=0, color='black', linestyle='--')\n",
    "plt.title('Относительное изменение среднего чека между группами \\n', fontsize=18)\n",
    "plt.xlabel('Дата', fontsize=14)\n",
    "plt.ylabel('Отношение', fontsize=14)\n",
    "plt.show()"
   ]
  },
  {
   "cell_type": "markdown",
   "metadata": {},
   "source": [
    "Мы видим что кумулятивный средний чек в группе B выше группы A на протяжении всего теста (за исключением момента когда произошел выброс в группе A"
   ]
  },
  {
   "cell_type": "markdown",
   "metadata": {},
   "source": [
    "### Конверсия<a id=\"stage_2_cum_conv\"></a>"
   ]
  },
  {
   "cell_type": "markdown",
   "metadata": {},
   "source": [
    "Для отображения на графике рассчитаем в каждом срезе данных кумулятивную конверсию за период по группам"
   ]
  },
  {
   "cell_type": "code",
   "execution_count": 30,
   "metadata": {},
   "outputs": [],
   "source": [
    "cumulative_data_A['conversion'] = cumulative_data_A['buyers']/cumulative_data_A['visitors']\n",
    "cumulative_data_B['conversion'] = cumulative_data_B['buyers']/cumulative_data_B['visitors']"
   ]
  },
  {
   "cell_type": "markdown",
   "metadata": {},
   "source": [
    "График"
   ]
  },
  {
   "cell_type": "code",
   "execution_count": 31,
   "metadata": {},
   "outputs": [
    {
     "data": {
      "image/png": "[encoded data removed]",
      "text/plain": [
       "<Figure size 1152x648 with 1 Axes>"
      ]
     },
     "metadata": {
      "needs_background": "light"
     },
     "output_type": "display_data"
    }
   ],
   "source": [
    "plt.figure(figsize=(16,9))\n",
    "plt.plot(cumulative_data_A['date'], cumulative_data_A['conversion'])\n",
    "plt.plot(cumulative_data_B['date'], cumulative_data_B['conversion'])\n",
    "plt.grid(True)\n",
    "plt.legend(['Группа A','Группа B'])\n",
    "plt.title('Кумулятивная конверсия по группам \\n', fontsize=18)\n",
    "plt.xlabel('Дата', fontsize=14)\n",
    "plt.ylabel('Конверсия', fontsize=14)\n",
    "plt.axis(['2019-08-01', '2019-09-01', 0.015, 0.045])\n",
    "plt.show()"
   ]
  },
  {
   "cell_type": "markdown",
   "metadata": {},
   "source": [
    "В начале теста был момент когда конверсия в группе A была выше чем в группе B, но к концу рассматриваемого периода конверсии стабилизировались и мы видим, что конвесрия в группе B выше"
   ]
  },
  {
   "cell_type": "markdown",
   "metadata": {},
   "source": [
    "Объединим таблицы для рассчета относительного изменения и отображения его на графике"
   ]
  },
  {
   "cell_type": "code",
   "execution_count": 32,
   "metadata": {},
   "outputs": [],
   "source": [
    "merged_conversion = cumulative_data_A[['date','conversion']].merge(cumulative_data_B[['date','conversion']], \n",
    "                                                                   on='date', suffixes=['A','B'])"
   ]
  },
  {
   "cell_type": "markdown",
   "metadata": {},
   "source": [
    "Построим график"
   ]
  },
  {
   "cell_type": "code",
   "execution_count": 33,
   "metadata": {},
   "outputs": [
    {
     "data": {
      "image/png": "[encoded data removed]",
      "text/plain": [
       "<Figure size 1152x648 with 1 Axes>"
      ]
     },
     "metadata": {
      "needs_background": "light"
     },
     "output_type": "display_data"
    }
   ],
   "source": [
    "plt.figure(figsize=(16,9))\n",
    "plt.plot(merged_conversion['date'], merged_conversion['conversionB']/merged_conversion['conversionA']-1)\n",
    "plt.axhline(y=0, color='black', linestyle='--')\n",
    "plt.title('Относительное изменение конверсии между группами \\n', fontsize=18)\n",
    "plt.xlabel('Дата', fontsize=14)\n",
    "plt.ylabel('Отношение', fontsize=14)\n",
    "plt.show()"
   ]
  },
  {
   "cell_type": "markdown",
   "metadata": {},
   "source": [
    "Относительное изменение подтверждает предыдущие наблюдения - конверсия в группе B выше, хотя разница и снизилась по сравнению с серединой теста"
   ]
  },
  {
   "cell_type": "markdown",
   "metadata": {},
   "source": [
    "## Вывод\n",
    "\n",
    "Результаты анализа кумулятивных метрик по итогам теста следующие:\n",
    "1. Выручка в группе B выше\n",
    "2. Средний чек в группе B выше, но на графике видно что эта метрика снижается после выброса к реальнмоу уровню\n",
    "3. Конверсия в группе B выше но результат в конце теста хуже чем в середине, это может свидетельствовать о завершении стабилизации"
   ]
  },
  {
   "cell_type": "markdown",
   "metadata": {},
   "source": [
    "## Выбросы<a id=\"stage_2_extr\"></a>"
   ]
  },
  {
   "cell_type": "markdown",
   "metadata": {},
   "source": [
    "### Количество заказов<a id=\"stage_2_extr_orders\"></a>"
   ]
  },
  {
   "cell_type": "markdown",
   "metadata": {},
   "source": [
    "Для анализа количества заказов по пользователем создадим сводную таблицу в которой посчитаем сколько заказов приходится на каждого уникального пользователя"
   ]
  },
  {
   "cell_type": "code",
   "execution_count": 34,
   "metadata": {},
   "outputs": [],
   "source": [
    "orders_per_visitor = orders.pivot_table(index='visitorid', values='transactionid', aggfunc='count')"
   ]
  },
  {
   "cell_type": "markdown",
   "metadata": {},
   "source": [
    "Отобразим распределение на точечном графике"
   ]
  },
  {
   "cell_type": "code",
   "execution_count": 35,
   "metadata": {
    "scrolled": false
   },
   "outputs": [
    {
     "data": {
      "image/png": "[encoded data removed]",
      "text/plain": [
       "<Figure size 1152x648 with 1 Axes>"
      ]
     },
     "metadata": {
      "needs_background": "light"
     },
     "output_type": "display_data"
    }
   ],
   "source": [
    "x_for_scatter = pd.Series(range(0, len(orders_per_visitor)))\n",
    "plt.figure(figsize=(16,9))\n",
    "plt.scatter(x_for_scatter, orders_per_visitor['transactionid'])\n",
    "plt.grid(True)\n",
    "plt.title('Количество заказов по пользователям \\n', fontsize=18)\n",
    "plt.xlabel('Пользователь', fontsize=14)\n",
    "plt.ylabel('Количество заказов', fontsize=14)\n",
    "plt.show()"
   ]
  },
  {
   "cell_type": "markdown",
   "metadata": {},
   "source": [
    "Подавляющая масса пользователей во время теста совершила один заказ"
   ]
  },
  {
   "cell_type": "markdown",
   "metadata": {},
   "source": [
    "Выясним распределение по 95 и 99 перцентилям "
   ]
  },
  {
   "cell_type": "code",
   "execution_count": 36,
   "metadata": {
    "scrolled": true
   },
   "outputs": [
    {
     "data": {
      "text/html": [
       "<div>\n",
       "<style scoped>\n",
       "    .dataframe tbody tr th:only-of-type {\n",
       "        vertical-align: middle;\n",
       "    }\n",
       "\n",
       "    .dataframe tbody tr th {\n",
       "        vertical-align: top;\n",
       "    }\n",
       "\n",
       "    .dataframe thead th {\n",
       "        text-align: right;\n",
       "    }\n",
       "</style>\n",
       "<table border=\"1\" class=\"dataframe\">\n",
       "  <thead>\n",
       "    <tr style=\"text-align: right;\">\n",
       "      <th></th>\n",
       "      <th>orders</th>\n",
       "      <th>%</th>\n",
       "    </tr>\n",
       "  </thead>\n",
       "  <tbody>\n",
       "    <tr>\n",
       "      <th>0</th>\n",
       "      <td>1.0</td>\n",
       "      <td>95</td>\n",
       "    </tr>\n",
       "    <tr>\n",
       "      <th>1</th>\n",
       "      <td>2.0</td>\n",
       "      <td>99</td>\n",
       "    </tr>\n",
       "  </tbody>\n",
       "</table>\n",
       "</div>"
      ],
      "text/plain": [
       "   orders   %\n",
       "0     1.0  95\n",
       "1     2.0  99"
      ]
     },
     "execution_count": 36,
     "metadata": {},
     "output_type": "execute_result"
    }
   ],
   "source": [
    "orders_percentile = pd.DataFrame(np.percentile(orders_per_visitor['transactionid'], [95,99]), columns=['orders'])\n",
    "orders_percentile['%'] = [95,99]\n",
    "orders_percentile"
   ]
  },
  {
   "cell_type": "markdown",
   "metadata": {},
   "source": [
    "99% пользователей совершили 2 или меньше заказов, все что выше примем за аномальный уровень количества заказов"
   ]
  },
  {
   "cell_type": "markdown",
   "metadata": {},
   "source": [
    "### Средний чек<a id=\"stage_2_extr_check\"></a>"
   ]
  },
  {
   "cell_type": "markdown",
   "metadata": {},
   "source": [
    "Отобразим распределение на точечном графике"
   ]
  },
  {
   "cell_type": "code",
   "execution_count": 37,
   "metadata": {},
   "outputs": [
    {
     "data": {
      "image/png": "[encoded data removed]",
      "text/plain": [
       "<Figure size 1152x648 with 1 Axes>"
      ]
     },
     "metadata": {
      "needs_background": "light"
     },
     "output_type": "display_data"
    }
   ],
   "source": [
    "orders\n",
    "x_for_scatter = pd.Series(range(0, len(orders)))\n",
    "plt.figure(figsize=(16,9))\n",
    "plt.scatter(x_for_scatter, orders['revenue'])\n",
    "plt.grid(True)\n",
    "plt.title('Выручка по заказам \\n', fontsize=18)\n",
    "plt.xlabel('Заказ', fontsize=14)\n",
    "plt.ylabel('Выручка', fontsize=14)\n",
    "plt.show()"
   ]
  },
  {
   "cell_type": "markdown",
   "metadata": {},
   "source": [
    "Посчитаем 95 и 99 перцентили"
   ]
  },
  {
   "cell_type": "code",
   "execution_count": 38,
   "metadata": {},
   "outputs": [
    {
     "data": {
      "text/html": [
       "<div>\n",
       "<style scoped>\n",
       "    .dataframe tbody tr th:only-of-type {\n",
       "        vertical-align: middle;\n",
       "    }\n",
       "\n",
       "    .dataframe tbody tr th {\n",
       "        vertical-align: top;\n",
       "    }\n",
       "\n",
       "    .dataframe thead th {\n",
       "        text-align: right;\n",
       "    }\n",
       "</style>\n",
       "<table border=\"1\" class=\"dataframe\">\n",
       "  <thead>\n",
       "    <tr style=\"text-align: right;\">\n",
       "      <th></th>\n",
       "      <th>revenue</th>\n",
       "      <th>%</th>\n",
       "    </tr>\n",
       "  </thead>\n",
       "  <tbody>\n",
       "    <tr>\n",
       "      <th>0</th>\n",
       "      <td>26785.0</td>\n",
       "      <td>95</td>\n",
       "    </tr>\n",
       "    <tr>\n",
       "      <th>1</th>\n",
       "      <td>53904.0</td>\n",
       "      <td>99</td>\n",
       "    </tr>\n",
       "  </tbody>\n",
       "</table>\n",
       "</div>"
      ],
      "text/plain": [
       "   revenue   %\n",
       "0  26785.0  95\n",
       "1  53904.0  99"
      ]
     },
     "execution_count": 38,
     "metadata": {},
     "output_type": "execute_result"
    }
   ],
   "source": [
    "revenue_percentile = pd.DataFrame(np.percentile(orders['revenue'], [95,99]), columns=['revenue'])\n",
    "revenue_percentile['%'] = [95,99]\n",
    "revenue_percentile"
   ]
  },
  {
   "cell_type": "markdown",
   "metadata": {},
   "source": [
    "Средий чек 99% покупок укладывается в 53904, все что выше примем за аномально высокий чек"
   ]
  },
  {
   "cell_type": "markdown",
   "metadata": {},
   "source": [
    "## Вывод\n",
    "\n",
    "Анализ выбросов в количестве заказов на пользователей и по средним чекам за покупки показал что 99% пользователей совершили 2 и меньше заказов, 99% средних чеков дешевле чем 53904"
   ]
  },
  {
   "cell_type": "markdown",
   "metadata": {},
   "source": [
    "## Статистические тесты<a id=\"stage_2_stat_tests\"></a>"
   ]
  },
  {
   "cell_type": "markdown",
   "metadata": {},
   "source": [
    "В результате анализа A/B-теста мы выяснили что между группами имеется разница - конверсия и средний чек в группе B выше чем в группе A, теперь проведем непараметрический тесты Уилкоксона-Манна-Уитни для того чтобы выяснить, является ли разница между наблюденями статистически значимой"
   ]
  },
  {
   "cell_type": "markdown",
   "metadata": {},
   "source": [
    "При проведении статистических тестов уровень значимости примем 0.05"
   ]
  },
  {
   "cell_type": "code",
   "execution_count": 39,
   "metadata": {},
   "outputs": [],
   "source": [
    "alpha = 0.05"
   ]
  },
  {
   "cell_type": "markdown",
   "metadata": {},
   "source": [
    "### По \"сырым\" данным<a id=\"stage_2_raw_data\"></a>"
   ]
  },
  {
   "cell_type": "markdown",
   "metadata": {},
   "source": [
    "### Конверсия"
   ]
  },
  {
   "cell_type": "markdown",
   "metadata": {},
   "source": [
    "Для того чтобы провести статистический тест конверсии нам необходимо создать массивы данных по каждой группе: количество покупок каждого пользователя"
   ]
  },
  {
   "cell_type": "markdown",
   "metadata": {},
   "source": [
    "Сначала создадим массив с количеством покупок каждого пользователя который совершал покупки"
   ]
  },
  {
   "cell_type": "code",
   "execution_count": 40,
   "metadata": {},
   "outputs": [],
   "source": [
    "buyers_A = orders.query('group == \"A\"').pivot_table(index='visitorid', \n",
    "                                                    values='transactionid', \n",
    "                                                    aggfunc='count').reset_index()['transactionid']\n",
    "buyers_B = orders.query('group == \"B\"').pivot_table(index='visitorid', \n",
    "                                                    values='transactionid', \n",
    "                                                    aggfunc='count').reset_index()['transactionid']"
   ]
  },
  {
   "cell_type": "markdown",
   "metadata": {},
   "source": [
    "Создадим массивы в которые запишем нулевое количество покупок для остальных пользователей"
   ]
  },
  {
   "cell_type": "code",
   "execution_count": 41,
   "metadata": {},
   "outputs": [],
   "source": [
    "no_buyers_A = pd.Series(0, index=np.arange(visitors.query('group == \"A\"')['visitors'].sum() - len(buyers_A)))\n",
    "no_buyers_B = pd.Series(0, index=np.arange(visitors.query('group == \"B\"')['visitors'].sum() - len(buyers_B)))"
   ]
  },
  {
   "cell_type": "markdown",
   "metadata": {},
   "source": [
    "Объединим их"
   ]
  },
  {
   "cell_type": "code",
   "execution_count": 42,
   "metadata": {},
   "outputs": [],
   "source": [
    "conversion_test_sampleA = pd.concat([buyers_A, no_buyers_A])\n",
    "conversion_test_sampleB = pd.concat([buyers_B, no_buyers_B])"
   ]
  },
  {
   "cell_type": "markdown",
   "metadata": {},
   "source": [
    "Преждем чем проводить тесты рассчитаем конверсию и относительную разницу между группами"
   ]
  },
  {
   "cell_type": "code",
   "execution_count": 43,
   "metadata": {},
   "outputs": [
    {
     "name": "stdout",
     "output_type": "stream",
     "text": [
      "Конверсия в группе A: 2.50%\n",
      "Конверсия в группе B: 2.90%\n",
      "Относительное изменение: 15.98%\n"
     ]
    }
   ],
   "source": [
    "print('Конверсия в группе A: {:.2%}'.format(conversion_test_sampleA.mean()))\n",
    "print('Конверсия в группе B: {:.2%}'.format(conversion_test_sampleB.mean()))\n",
    "print('Относительное изменение: {:.2%}'.format(conversion_test_sampleB.mean() / conversion_test_sampleA.mean() - 1))"
   ]
  },
  {
   "cell_type": "markdown",
   "metadata": {},
   "source": [
    "Конверсия в группе B на 15.98% выше чем в группе A"
   ]
  },
  {
   "cell_type": "markdown",
   "metadata": {},
   "source": [
    "Проведем статистический тест\n",
    "\n",
    "нулевая гипотеза - разница в конверсии по сырым данным между группами B и A статистически не значима и может быть случайной\n",
    "  \n",
    "альтернативная гипотеза - разница в конверсиях между группами статистически значима"
   ]
  },
  {
   "cell_type": "code",
   "execution_count": 44,
   "metadata": {},
   "outputs": [
    {
     "name": "stdout",
     "output_type": "stream",
     "text": [
      "p-значение:  0.0055090420550073455\n",
      "Отвергаем нулевую гипотезу: разница статистически значима\n"
     ]
    }
   ],
   "source": [
    "print('p-значение: ', st.mannwhitneyu(conversion_test_sampleA, conversion_test_sampleB)[1])\n",
    "\n",
    "if st.mannwhitneyu(conversion_test_sampleA, conversion_test_sampleB)[1] < alpha:\n",
    "    print(\"Отвергаем нулевую гипотезу: разница статистически значима\")\n",
    "else:\n",
    "    print(\"Не получилось отвергнуть нулевую гипотезу, вывод о различии сделать нельзя\")"
   ]
  },
  {
   "cell_type": "markdown",
   "metadata": {},
   "source": [
    "По сырым данным разница между выборками статистически значима, больший показатель конверсии в группе B не случаен"
   ]
  },
  {
   "cell_type": "markdown",
   "metadata": {},
   "source": [
    "### Средний чек"
   ]
  },
  {
   "cell_type": "markdown",
   "metadata": {},
   "source": [
    "Подготовим массивы данных для тестов"
   ]
  },
  {
   "cell_type": "code",
   "execution_count": 45,
   "metadata": {},
   "outputs": [],
   "source": [
    "revenue_test_sampleA = orders.query('group == \"A\"')['revenue']\n",
    "revenue_test_sampleB = orders.query('group == \"B\"')['revenue']"
   ]
  },
  {
   "cell_type": "markdown",
   "metadata": {},
   "source": [
    "Рассчитаем средний чек в группах и относительное изменение"
   ]
  },
  {
   "cell_type": "code",
   "execution_count": 46,
   "metadata": {},
   "outputs": [
    {
     "name": "stdout",
     "output_type": "stream",
     "text": [
      "Средний чек в группе A:  7189.44\n",
      "Средний чек в группе B:  9249.95\n",
      "Относительная разница: 28.66%\n"
     ]
    }
   ],
   "source": [
    "print('Средний чек в группе A: ', round(revenue_test_sampleA.mean(), 2))\n",
    "print('Средний чек в группе B: ', round(revenue_test_sampleB.mean(), 2))\n",
    "print('Относительная разница: {:.2%}'.format(revenue_test_sampleB.mean() / revenue_test_sampleA.mean() - 1))"
   ]
  },
  {
   "cell_type": "markdown",
   "metadata": {},
   "source": [
    "Средний чек в группе B на 28.66% больше среднего чека в группе A"
   ]
  },
  {
   "cell_type": "markdown",
   "metadata": {},
   "source": [
    "Проведем статистический тест\n",
    "\n",
    "нулевая гипотеза - отличие расчитанного по сырым данным среднего чека в группе B от среднего чека в группе A статистически не значимо и может быть случайным\n",
    "  \n",
    "альтернативная гипотеза - разница в среднем чеке между группами статистически значима"
   ]
  },
  {
   "cell_type": "code",
   "execution_count": 47,
   "metadata": {},
   "outputs": [
    {
     "name": "stdout",
     "output_type": "stream",
     "text": [
      "p-значение:  0.41474544990747664\n",
      "Отвергаем нулевую гипотезу: разница статистически значима\n"
     ]
    }
   ],
   "source": [
    "print('p-значение: ', st.mannwhitneyu(revenue_test_sampleA, revenue_test_sampleB)[1])\n",
    "\n",
    "if st.mannwhitneyu(conversion_test_sampleA, conversion_test_sampleB)[1] < alpha:\n",
    "    print(\"Отвергаем нулевую гипотезу: разница статистически значима\")\n",
    "else:\n",
    "    print(\"Не получилось отвергнуть нулевую гипотезу, вывод о различии сделать нельзя\")"
   ]
  },
  {
   "cell_type": "markdown",
   "metadata": {},
   "source": [
    "По сырым данным разница между средним чеком в группах статистически значима"
   ]
  },
  {
   "cell_type": "markdown",
   "metadata": {},
   "source": [
    "### По \"чистым\" данным<a id=\"stage_2_filtered_data\"></a>"
   ]
  },
  {
   "cell_type": "markdown",
   "metadata": {},
   "source": [
    "На этапе анализа выбросов мы выяснили что число заказов больше 4 и заказы дороже чем 58233.2 аномальны для нашей выборки, рассчитаем количество таких пользователей"
   ]
  },
  {
   "cell_type": "code",
   "execution_count": 48,
   "metadata": {},
   "outputs": [
    {
     "name": "stdout",
     "output_type": "stream",
     "text": [
      "Пользователей с аномальным количеством заказов: 7\n",
      "Пользователей с аномальным средним чеком за заказ: 9\n"
     ]
    }
   ],
   "source": [
    "extr_orders_users = orders_per_visitor.query('transactionid > 2').reset_index()['visitorid']\n",
    "extr_revenue_users = orders.query('revenue > 53904')['visitorid']\n",
    "print('Пользователей с аномальным количеством заказов:', len(extr_orders_users))\n",
    "print('Пользователей с аномальным средним чеком за заказ:', len(extr_revenue_users))"
   ]
  },
  {
   "cell_type": "markdown",
   "metadata": {},
   "source": [
    "Объединим их в один массив"
   ]
  },
  {
   "cell_type": "code",
   "execution_count": 49,
   "metadata": {},
   "outputs": [],
   "source": [
    "extr_orders = pd.concat([extr_orders_users,extr_revenue_users])"
   ]
  },
  {
   "cell_type": "markdown",
   "metadata": {},
   "source": [
    "Найдем дубли"
   ]
  },
  {
   "cell_type": "code",
   "execution_count": 50,
   "metadata": {
    "scrolled": true
   },
   "outputs": [
    {
     "data": {
      "text/plain": [
       "0"
      ]
     },
     "execution_count": 50,
     "metadata": {},
     "output_type": "execute_result"
    }
   ],
   "source": [
    "extr_orders.duplicated().sum()"
   ]
  },
  {
   "cell_type": "markdown",
   "metadata": {},
   "source": [
    "Дублей нет, выведем количество аномальных пользователей"
   ]
  },
  {
   "cell_type": "code",
   "execution_count": 51,
   "metadata": {
    "scrolled": true
   },
   "outputs": [
    {
     "name": "stdout",
     "output_type": "stream",
     "text": [
      "Аномальных пользователей: 16\n"
     ]
    }
   ],
   "source": [
    "print('Аномальных пользователей:', len(extr_orders))"
   ]
  },
  {
   "cell_type": "markdown",
   "metadata": {},
   "source": [
    "Теперь отфильтруем таблицу `orders` - удалим из нее аномальных пользователей"
   ]
  },
  {
   "cell_type": "code",
   "execution_count": 52,
   "metadata": {
    "scrolled": false
   },
   "outputs": [],
   "source": [
    "filtered_orders = orders[~orders['visitorid'].isin(extr_orders)]"
   ]
  },
  {
   "cell_type": "markdown",
   "metadata": {},
   "source": [
    "### Конверсия"
   ]
  },
  {
   "cell_type": "markdown",
   "metadata": {},
   "source": [
    "Аналогично сырым данным сформируем массивы пользователей из количества их покупок"
   ]
  },
  {
   "cell_type": "code",
   "execution_count": 53,
   "metadata": {},
   "outputs": [],
   "source": [
    "filtered_buyers_A = filtered_orders.query('group == \"A\"').pivot_table(index='visitorid', \n",
    "                                                                      values='transactionid', \n",
    "                                                          aggfunc='count').reset_index()['transactionid']\n",
    "filtered_buyers_B = filtered_orders.query('group == \"B\"').pivot_table(index='visitorid', \n",
    "                                                                      values='transactionid', \n",
    "                                                          aggfunc='count').reset_index()['transactionid']"
   ]
  },
  {
   "cell_type": "markdown",
   "metadata": {},
   "source": [
    "Добавим пользователей без покупок в виде нулей"
   ]
  },
  {
   "cell_type": "code",
   "execution_count": 54,
   "metadata": {},
   "outputs": [],
   "source": [
    "filtered_no_buyers_A = pd.Series(0, index=np.arange(visitors.query('group == \"A\"')['visitors'].sum() - len(filtered_buyers_A)))\n",
    "filtered_no_buyers_B = pd.Series(0, index=np.arange(visitors.query('group == \"B\"')['visitors'].sum() - len(filtered_buyers_A)))"
   ]
  },
  {
   "cell_type": "markdown",
   "metadata": {},
   "source": [
    "Объединим массивы"
   ]
  },
  {
   "cell_type": "code",
   "execution_count": 55,
   "metadata": {},
   "outputs": [],
   "source": [
    "filtered_conversion_test_sampleA = pd.concat([filtered_buyers_A, filtered_no_buyers_A])\n",
    "filtered_conversion_test_sampleB = pd.concat([filtered_buyers_B, filtered_no_buyers_B])"
   ]
  },
  {
   "cell_type": "markdown",
   "metadata": {},
   "source": [
    "Рассчитаем конверсию и разницу"
   ]
  },
  {
   "cell_type": "code",
   "execution_count": 56,
   "metadata": {
    "scrolled": false
   },
   "outputs": [
    {
     "name": "stdout",
     "output_type": "stream",
     "text": [
      "Конверсия в группе A: 2.39%\n",
      "Конверсия в группе B: 2.83%\n",
      "Относительная разница: 18.40%\n"
     ]
    }
   ],
   "source": [
    "print('Конверсия в группе A: {:.2%}'.format(filtered_conversion_test_sampleA.mean()))\n",
    "print('Конверсия в группе B: {:.2%}'.format(filtered_conversion_test_sampleB.mean()))\n",
    "print('Относительная разница: {:.2%}'.format(filtered_conversion_test_sampleB.mean() / filtered_conversion_test_sampleA.mean() - 1))"
   ]
  },
  {
   "cell_type": "markdown",
   "metadata": {},
   "source": [
    "После фильтрации данных конверсии снизились, но разница между группами в процентах увеличилась"
   ]
  },
  {
   "cell_type": "markdown",
   "metadata": {},
   "source": [
    "Проведем статистический тест\n",
    "\n",
    "нулевая гипотеза - разница в конверсии по очищенным данным между группами B и A статистически не значима и может быть случайной\n",
    "  \n",
    "альтернативная гипотеза - разница в конверсиях между группами статистически значима"
   ]
  },
  {
   "cell_type": "code",
   "execution_count": 57,
   "metadata": {},
   "outputs": [
    {
     "name": "stdout",
     "output_type": "stream",
     "text": [
      "p-значение:  0.004303616145335556\n",
      "Отвергаем нулевую гипотезу: разница статистически значима\n"
     ]
    }
   ],
   "source": [
    "print('p-значение: ', st.mannwhitneyu(filtered_conversion_test_sampleA, filtered_conversion_test_sampleB)[1])\n",
    "\n",
    "if st.mannwhitneyu(filtered_conversion_test_sampleA, filtered_conversion_test_sampleB)[1] < alpha:\n",
    "    print(\"Отвергаем нулевую гипотезу: разница статистически значима\")\n",
    "else:\n",
    "    print(\"Не получилось отвергнуть нулевую гипотезу, вывод о различии сделать нельзя\")"
   ]
  },
  {
   "cell_type": "markdown",
   "metadata": {},
   "source": [
    "По отфильтрованным данным разница все еще статистически значима"
   ]
  },
  {
   "cell_type": "markdown",
   "metadata": {},
   "source": [
    "### Средний чек"
   ]
  },
  {
   "cell_type": "markdown",
   "metadata": {},
   "source": [
    "Сформируем массивы выручки по отфильтрованным данным"
   ]
  },
  {
   "cell_type": "code",
   "execution_count": 58,
   "metadata": {},
   "outputs": [],
   "source": [
    "filtered_revenue_test_sampleA = filtered_orders.query('group == \"A\"')['revenue']\n",
    "filtered_revenue_test_sampleB = filtered_orders.query('group == \"B\"')['revenue']"
   ]
  },
  {
   "cell_type": "markdown",
   "metadata": {},
   "source": [
    "Рассчитаем разницу"
   ]
  },
  {
   "cell_type": "code",
   "execution_count": 59,
   "metadata": {},
   "outputs": [
    {
     "name": "stdout",
     "output_type": "stream",
     "text": [
      "Средний чек в группе A:  6487.02\n",
      "Средний чек в группе B:  6277.27\n",
      "Относительная разница: -3.23%\n"
     ]
    }
   ],
   "source": [
    "print('Средний чек в группе A: ', round(filtered_revenue_test_sampleA.mean(), 2))\n",
    "print('Средний чек в группе B: ', round(filtered_revenue_test_sampleB.mean(), 2))\n",
    "print('Относительная разница: {:.2%}'.format(filtered_revenue_test_sampleB.mean() / filtered_revenue_test_sampleA.mean() - 1))"
   ]
  },
  {
   "cell_type": "markdown",
   "metadata": {},
   "source": [
    "Средний чек в группе B, после исключения выбросов, значительно снизился и теперь ниже чем средний чек в группе A на 3.23%"
   ]
  },
  {
   "cell_type": "markdown",
   "metadata": {},
   "source": [
    "Проведем статистический тест\n",
    "\n",
    "нулевая гипотеза - отличие расчитанного по сырым данным среднего чека в группе B от среднего чека в группе A статистически не значимо и может быть случайным\n",
    "  \n",
    "альтернативная гипотеза - разница в среднем чеке между группами статистически значима"
   ]
  },
  {
   "cell_type": "code",
   "execution_count": 60,
   "metadata": {},
   "outputs": [
    {
     "name": "stdout",
     "output_type": "stream",
     "text": [
      "p-значение:  0.39385224312204203\n",
      "Не получилось отвергнуть нулевую гипотезу, вывод о различии сделать нельзя\n"
     ]
    }
   ],
   "source": [
    "print('p-значение: ', st.mannwhitneyu(filtered_revenue_test_sampleA, filtered_revenue_test_sampleB)[1])\n",
    "\n",
    "if st.mannwhitneyu(filtered_revenue_test_sampleA, filtered_revenue_test_sampleB)[1] < alpha:\n",
    "    print(\"Отвергаем нулевую гипотезу: разница статистически значима\")\n",
    "else:\n",
    "    print(\"Не получилось отвергнуть нулевую гипотезу, вывод о различии сделать нельзя\")"
   ]
  },
  {
   "cell_type": "markdown",
   "metadata": {},
   "source": [
    "После фильтрации данных разница в среднем чеке между группами стала статистически не значимой"
   ]
  },
  {
   "cell_type": "markdown",
   "metadata": {},
   "source": [
    "## Вывод\n",
    "\n",
    "Мы провели статистические тесты по сырым и по очищенным от выбросов данным и получили следующие результаты:\n",
    "* Конверсия в группе B выше чем в группе A как по сырым так и по чистым данным, разница статистически значима в обоих случаях\n",
    "* Средний чек по сырым данным значительно выше в группе B, по чистым данным разница между группами  3.23%, статистические тесты показали что по сырым данным разница статистически значима, если отбросить выбросы то статистической разницы между выборками нет"
   ]
  },
  {
   "cell_type": "markdown",
   "metadata": {},
   "source": [
    "## Часть 2 - Вывод<a id=\"stage_2_summary\"></a>\n",
    "\n",
    "После загрузки данных мы провели их проверку и обнаружили что 181 покупку совершили 58 пользователей попавшие в обе группы теста, эти данные мы вынуждены были удалить в связи с тем что они искажали результаты нашего теста\n",
    "\n",
    "Мы провели анализ результатов A/B-теста, нашли выбросы в данных (более 2 заказов на пользователя и покупку больше чем на 53904), провели статистические тесты и определили следующее:\n",
    "\n",
    "1. Средний чек в группе B выше чем в группе A по сырым данным и ниже по очищенным, статистически разница значима по сырым данным и отсуствует по очищеным, делаем вывод о том что **средний чек по двум группам не различается**\n",
    "2. Конверсия в группе B выше чем в группе A по сырым и по чистым данным, разница статистически значима в обоих случаях, таким образом **конверсия в группе B лучше чем в группе A**\n",
    "\n",
    "Основываясь на озвученных фактах можно принять решение о завершении A/B-теста, зафиксировав лучшие результаты в группе B"
   ]
  },
  {
   "cell_type": "markdown",
   "metadata": {},
   "source": [
    "# Общий вывод<a id=\"conclusion\"></a>\n",
    "\n",
    "**Приоритизация гипотез**\n",
    "\n",
    "Мы провели приоритизацию гипотез методами ICE и RICE и увидели как сильно влияет охват аудитории на итоговые оценки\n",
    "\n",
    "После оценки гипотез методом RICE самая высоко оцененная методом ICE гипотеза была сдвинута нами с первого места, в очереди гипотез на проверку, на пятое, в связи с тем, что охват аудитории у нее минимальный из возможных. На первое место в очереди проверки мы выдвинули гипотезу **Добавить форму подписки на все основные страницы, чтобы собрать базу клиентов для email-рассылок** -  не смотря на то что оценки влияния и уверенности в результате у нее несоколько ниже - охват пользователей у нее максимальный\n",
    "\n",
    "**Анализ результатов A/B-теста**\n",
    "\n",
    "После загрузки данных мы провели их проверку и обнаружили что 15% покупок совершили пользователи попавшие в обе группы теста, для сохранения чистоты эксперимента нам пришлось их удалить\n",
    "\n",
    "В процессе анализа результатов теста мы обнаружили выбросы в количестве покупок пользователей и в среднем чеке этих покупом. В связи с этим статистические гипотезы попарно в сырых и в очищенных данных, результаты следующие:\n",
    "\n",
    "1. Средний чек в группе B выше чем в группе A по сырым данным и ниже по очищенным, статистически разница значима по сырым данным и отсуствует по очищеным, делаем вывод о том что **средний чек по двум группам не различается**\n",
    "2. Конверсия в группе B выше чем в группе A по сырым и по чистым данным, разница статистически значима в обоих случаях, таким образом **конверсия в группе B лучше чем в группе A**\n",
    "\n",
    "Основываясь на озвученных фактах можно **принять решение о завершении A/B-теста, зафиксировав лучшие результаты в группе B**"
   ]
  }
 ],
 "metadata": {
  "kernelspec": {
   "display_name": "Python 3",
   "language": "python",
   "name": "python3"
  },
  "language_info": {
   "codemirror_mode": {
    "name": "ipython",
    "version": 3
   },
   "file_extension": ".py",
   "mimetype": "text/x-python",
   "name": "python",
   "nbconvert_exporter": "python",
   "pygments_lexer": "ipython3",
   "version": "3.8.3"
  }
 },
 "nbformat": 4,
 "nbformat_minor": 2
}
